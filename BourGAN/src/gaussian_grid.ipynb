{
 "cells": [
  {
   "cell_type": "code",
   "execution_count": null,
   "metadata": {},
   "outputs": [],
   "source": [
    "import bourgan\n",
    "from bourgan.gan import BourGAN\n",
    "from bourgan.visualizer import *"
   ]
  },
  {
   "cell_type": "markdown",
   "metadata": {},
   "source": [
    "fisrt we train a normal gan."
   ]
  },
  {
   "cell_type": "code",
   "execution_count": null,
   "metadata": {},
   "outputs": [],
   "source": [
    "gan_config = {\n",
    "    \"epoch\": 4001,\n",
    "    \"batch_size\": 128,\n",
    "    \"alpha\": 0.1,\n",
    "    \n",
    "    \"scale_factor\": 0.89,   #will not be used if using bourgain sampler\n",
    "    \n",
    "    \"dataset\":{\n",
    "        \"name\": \"gaussian_grid\",\n",
    "        \"n\": 5,\n",
    "        \"n_data\": 400,\n",
    "        \"sig\": 0.05\n",
    "    },\n",
    "    \n",
    "#     \"dataset\":{\n",
    "#         'name': 'ring2d',\n",
    "#         'n': 8,\n",
    "#         'n_data': 1000,\n",
    "#         'sig': 0.01,\n",
    "#         'radius': 1\n",
    "#     },\n",
    "    \n",
    "#     \"dataset\":{\n",
    "#         'name': 'circle2d',\n",
    "#         'n_data': 100,\n",
    "#         'sig': 0.05,\n",
    "#         'radius': 2\n",
    "#     },\n",
    "    \n",
    "    \n",
    "    \"use_gpu\": True,\n",
    "    \"g_step\": 1,\n",
    "    \"d_step\": 1,\n",
    "    \"show_step\": 20,\n",
    "    \n",
    "#     \"sampler\":{\n",
    "#         \"name\": \"bourgain\",\n",
    "#         \"path\": None,\n",
    "#         \"dist\": \"l2\"\n",
    "#     },\n",
    "    \n",
    "    \"sampler\":{\n",
    "        \"name\": \"gaussian\",\n",
    "        \"dim\": 25\n",
    "    },\n",
    "    \n",
    "    \"nn_config_G\":{\n",
    "        \"name\": \"DeepMLP_G\",\n",
    "        \"hidden_size\": 400\n",
    "    },\n",
    "    \n",
    "    \"nn_config_D\":{\n",
    "        \"name\": \"DeepMLP_D\",\n",
    "        \"hidden_size\": 200\n",
    "    },\n",
    "    \n",
    "    \"opt_config_G\":{\n",
    "        \"name\": \"adam\",\n",
    "        \"default\": False,\n",
    "        \"lr\": 10e-4,\n",
    "        \"betas\": (0.5, 0.999)\n",
    "    },\n",
    "    \n",
    "    \"opt_config_D\":{\n",
    "        \"name\": \"adam\",\n",
    "        \"default\": False,\n",
    "        \"lr\": 10e-4,\n",
    "        \"betas\": (0.5, 0.999)\n",
    "    },\n",
    "    \n",
    "    \"zdist\":{\n",
    "        \"name\": \"l2\"\n",
    "    },\n",
    "    \n",
    "    \"gdist\":{\n",
    "        \"name\": \"l2\"\n",
    "    }\n",
    "}"
   ]
  },
  {
   "cell_type": "code",
   "execution_count": null,
   "metadata": {},
   "outputs": [],
   "source": [
    "GAN = BourGAN(gan_config)"
   ]
  },
  {
   "cell_type": "code",
   "execution_count": null,
   "metadata": {},
   "outputs": [],
   "source": [
    "GAN.train()"
   ]
  },
  {
   "cell_type": "markdown",
   "metadata": {},
   "source": [
    "then we train our BourGAN."
   ]
  },
  {
   "cell_type": "code",
   "execution_count": null,
   "metadata": {},
   "outputs": [],
   "source": [
    "bourgan_config = {\n",
    "    \"epoch\": 4001,\n",
    "    \"batch_size\": 128,\n",
    "    \"alpha\": 0.1,\n",
    "    \n",
    "    \"scale_factor\": 0.89,   #will not be used if using bourgain sampler\n",
    "    \n",
    "    \"dataset\":{\n",
    "        \"name\": \"gaussian_grid\",\n",
    "        \"n\": 5,\n",
    "        \"n_data\": 400,\n",
    "        \"sig\": 0.05\n",
    "    },\n",
    "    \n",
    "#     \"dataset\":{\n",
    "#         'name': 'ring2d',\n",
    "#         'n':8,\n",
    "#         'n_data':1000,\n",
    "#         'sig':0.01,\n",
    "#         'radius':1\n",
    "#     },\n",
    "    \n",
    "#     \"dataset\":{\n",
    "#         'name': 'circle2d',\n",
    "#         'n_data':100,\n",
    "#         'sig':0.05,\n",
    "#         'radius':2\n",
    "#     },\n",
    "    \n",
    "    \n",
    "    \"use_gpu\": True,\n",
    "    \"g_step\": 1,\n",
    "    \"d_step\": 1,\n",
    "    \"show_step\": 20,\n",
    "    \n",
    "    \"sampler\":{\n",
    "        \"name\": \"bourgain\",\n",
    "        \"path\": None,\n",
    "        \"dist\": \"l2\"\n",
    "    },\n",
    "    \n",
    "#     \"sampler\":{\n",
    "#         \"name\": \"gaussian\",\n",
    "#         \"dim\": 25\n",
    "#     },\n",
    "    \n",
    "    \"nn_config_G\":{\n",
    "        \"name\": \"DeepMLP_G\",\n",
    "        \"hidden_size\": 400\n",
    "    },\n",
    "    \n",
    "    \"nn_config_D\":{\n",
    "        \"name\": \"DeepMLP_D\",\n",
    "        \"hidden_size\": 200\n",
    "    },\n",
    "    \n",
    "    \"opt_config_G\":{\n",
    "        \"name\": \"adam\",\n",
    "        \"default\": False,\n",
    "        \"lr\": 10e-4,\n",
    "        \"betas\": (0.5, 0.999)\n",
    "    },\n",
    "    \n",
    "    \"opt_config_D\":{\n",
    "        \"name\": \"adam\",\n",
    "        \"default\": False,\n",
    "        \"lr\": 10e-4,\n",
    "        \"betas\": (0.5, 0.999)\n",
    "    },\n",
    "    \n",
    "    \"zdist\":{\n",
    "        \"name\": \"l2\"\n",
    "    },\n",
    "    \n",
    "    \"gdist\":{\n",
    "        \"name\": \"l2\"\n",
    "    }\n",
    "}"
   ]
  },
  {
   "cell_type": "code",
   "execution_count": null,
   "metadata": {},
   "outputs": [],
   "source": [
    "bourGAN = BourGAN(bourgan_config)"
   ]
  },
  {
   "cell_type": "code",
   "execution_count": null,
   "metadata": {},
   "outputs": [],
   "source": [
    "plot_outputdata(bourGAN.dataset.data)"
   ]
  },
  {
   "cell_type": "code",
   "execution_count": null,
   "metadata": {},
   "outputs": [],
   "source": [
    "plot_sampler(bourGAN.z_sampler, 1000, tsne=False, kde=False, dim1=0, dim2=1, rotate=True, origin_data=False)"
   ]
  },
  {
   "cell_type": "code",
   "execution_count": null,
   "metadata": {},
   "outputs": [],
   "source": [
    "_ = visualize_G(bourGAN, 1000)"
   ]
  },
  {
   "cell_type": "code",
   "execution_count": null,
   "metadata": {},
   "outputs": [],
   "source": [
    "bourGAN.train()"
   ]
  }
 ],
 "metadata": {
  "kernelspec": {
   "display_name": "Environment (conda_pytorch_p36)",
   "language": "python",
   "name": "conda_pytorch_p36"
  },
  "language_info": {
   "codemirror_mode": {
    "name": "ipython",
    "version": 3
   },
   "file_extension": ".py",
   "mimetype": "text/x-python",
   "name": "python",
   "nbconvert_exporter": "python",
   "pygments_lexer": "ipython3",
   "version": "3.6.5"
  }
 },
 "nbformat": 4,
 "nbformat_minor": 2
}
