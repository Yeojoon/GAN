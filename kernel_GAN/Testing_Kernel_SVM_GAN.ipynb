{
 "cells": [
  {
   "cell_type": "code",
   "execution_count": null,
   "metadata": {},
   "outputs": [],
   "source": [
    "from data.gaussianGridDataset import gaussianGridDataset\n",
    "from SVM_GAN import Kernel_SVM_GAN"
   ]
  },
  {
   "cell_type": "markdown",
   "metadata": {},
   "source": [
    "# Let's make a gaussian 2d grid dataset"
   ]
  },
  {
   "cell_type": "code",
   "execution_count": null,
   "metadata": {},
   "outputs": [],
   "source": [
    "data_config = {\n",
    "            'num_grid':5,\n",
    "            'n_data':100,\n",
    "            'sigma':0.05\n",
    "        }\n",
    "data_gaussiangrid = gaussianGridDataset(n=data_config['num_grid'], n_data=data_config['n_data'], sig=data_config['sigma'])"
   ]
  },
  {
   "cell_type": "markdown",
   "metadata": {},
   "source": [
    "# Let's create and train the GAN on this dataset\n",
    "\n",
    "The gamma parameter is important for training our GAN. It starts from 0.2 and we increase the gamma by the gamma ratio(1.002) on every epoch. All images are saved in 'out_image/out_gaussian2d'."
   ]
  },
  {
   "cell_type": "code",
   "execution_count": null,
   "metadata": {},
   "outputs": [],
   "source": [
    "gan_gaussian2d = Kernel_SVM_GAN(gamma=0.2, gamma_ratio=1.002, num_epochs=2000, n_data=data_config['n_data'], data=data_gaussiangrid)\n",
    "gan_gaussian2d.train_GAN()"
   ]
  },
  {
   "cell_type": "markdown",
   "metadata": {},
   "source": [
    "# Now let's play with the MNIST dataset"
   ]
  },
  {
   "cell_type": "code",
   "execution_count": null,
   "metadata": {},
   "outputs": [],
   "source": [
    "from torchvision import transforms, datasets\n",
    "\n",
    "img_size = 64\n",
    "\n",
    "def mnist_data():\n",
    "    transform = transforms.Compose(\n",
    "        [transforms.Resize(img_size),\n",
    "         transforms.ToTensor(),\n",
    "         transforms.Normalize((.5,), (.5,))\n",
    "        ])\n",
    "    out_dir = 'data'\n",
    "    return datasets.MNIST(root=out_dir, train=True, transform=transform, download=True)\n",
    "\n",
    "data_mnist = mnist_data()"
   ]
  },
  {
   "cell_type": "markdown",
   "metadata": {},
   "source": [
    "# Performance on MNIST\n",
    "\n",
    "In this experiment, we use polynomial kernel and fix the gamma value as 0.1. All images are saved in 'out_image/out_mnist'."
   ]
  },
  {
   "cell_type": "code",
   "execution_count": null,
   "metadata": {},
   "outputs": [],
   "source": [
    "gan_mnist = Kernel_SVM_GAN(kernel='poly', lr=0.0002, gamma=0.1, gamma_ratio=1.0, g_steps=1, num_epochs=200, batch_size=200, img_size=img_size, data=data_mnist, data_type='mnist', model_type='DCGAN')\n",
    "gan_mnist.train_GAN()"
   ]
  },
  {
   "cell_type": "markdown",
   "metadata": {},
   "source": [
    "# Now let's play with the SVHN dataset"
   ]
  },
  {
   "cell_type": "code",
   "execution_count": null,
   "metadata": {},
   "outputs": [],
   "source": [
    "import torch\n",
    "from torchvision import datasets\n",
    "from torchvision import transforms\n",
    "\n",
    "# Tensor transform\n",
    "transform = transforms.Compose(\n",
    "    [transforms.ToTensor(),\n",
    "     transforms.Normalize((.5, .5, .5), (.5, .5, .5))\n",
    "    ])\n",
    "\n",
    "# SVHN training datasets\n",
    "data_svhn = datasets.SVHN(root='data/', split='train', download=True, transform=transform)\n",
    "print(len(data_svhn))\n",
    "\n",
    "img_size = 32\n",
    "batch_size = 128"
   ]
  },
  {
   "cell_type": "markdown",
   "metadata": {},
   "source": [
    "# Performance on SVHN\n",
    "\n",
    "In this experiment, we use a polynomial kernel and fix the gamma value as 0.01. All images are saved in 'out_image/out_svhn'. It takes a long training time for many epochs(>1000s)"
   ]
  },
  {
   "cell_type": "code",
   "execution_count": null,
   "metadata": {},
   "outputs": [],
   "source": [
    "gan_svhn = Kernel_SVM_GAN(kernel='poly', lr=0.0002, gamma=0.01, gamma_ratio=1.0, g_steps=1, num_epochs=200, batch_size=batch_size, img_size=img_size, data=data_svhn, data_type='svhn', model_type='DCGAN')\n",
    "gan_svhn.train_GAN()"
   ]
  }
 ],
 "metadata": {
  "kernelspec": {
   "display_name": "py37_pytorch",
   "language": "python",
   "name": "conda-env-py37_pytorch-py"
  },
  "language_info": {
   "codemirror_mode": {
    "name": "ipython",
    "version": 3
   },
   "file_extension": ".py",
   "mimetype": "text/x-python",
   "name": "python",
   "nbconvert_exporter": "python",
   "pygments_lexer": "ipython3",
   "version": "3.7.6"
  }
 },
 "nbformat": 4,
 "nbformat_minor": 4
}
