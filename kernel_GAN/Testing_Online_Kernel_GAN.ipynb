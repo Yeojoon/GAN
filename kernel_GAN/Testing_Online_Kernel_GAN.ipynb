{
 "cells": [
  {
   "cell_type": "code",
   "execution_count": 1,
   "metadata": {},
   "outputs": [],
   "source": [
    "from data.gaussianGridDataset import gaussianGridDataset\n",
    "from Online_Kernel_GAN import Online_Kernel_GAN"
   ]
  },
  {
   "cell_type": "markdown",
   "metadata": {},
   "source": [
    "# Let's make a gaussian 2d grid dataset"
   ]
  },
  {
   "cell_type": "code",
   "execution_count": 2,
   "metadata": {},
   "outputs": [],
   "source": [
    "data_config = {\n",
    "            'num_grid':5,\n",
    "            'n_data':100,\n",
    "            'sigma':0.05\n",
    "        }\n",
    "data_gaussiangrid = gaussianGridDataset(n=data_config['num_grid'], n_data=data_config['n_data'], sig=data_config['sigma'])"
   ]
  },
  {
   "cell_type": "markdown",
   "metadata": {},
   "source": [
    "# Let's create and train the GAN on this dataset\n",
    "\n",
    "We fix the gamma value as 0.5. We can observe that the GAN with the online kernel classifier learns a gaussian 2d grid distribution. However, the performance of this GAN is worse than that of GAN with kernel SVM. All images are saved in 'out_image/out_gaussian2d_online_kernel'."
   ]
  },
  {
   "cell_type": "code",
   "execution_count": 3,
   "metadata": {},
   "outputs": [
    {
     "name": "stderr",
     "output_type": "stream",
     "text": [
      "100%|██████████| 25/25 [00:00<00:00, 36.59it/s]\n"
     ]
    },
    {
     "name": "stdout",
     "output_type": "stream",
     "text": [
      "spent time for epoch 0 is 0.6895027160644531s\n",
      "epoch # : 0 gamma : 0.5 gen loss : 1.992035150527954\n"
     ]
    },
    {
     "name": "stderr",
     "output_type": "stream",
     "text": [
      " 20%|██        | 5/25 [00:00<00:00, 49.79it/s]"
     ]
    },
    {
     "name": "stdout",
     "output_type": "stream",
     "text": [
      "Total number of generated modes is  3\n",
      "The number of high quality samples among 2500 samples is 39\n",
      "The mode dictionary is Counter({12: 23, 7: 9, 13: 7})\n"
     ]
    },
    {
     "name": "stderr",
     "output_type": "stream",
     "text": [
      "100%|██████████| 25/25 [00:00<00:00, 48.60it/s]\n"
     ]
    },
    {
     "name": "stdout",
     "output_type": "stream",
     "text": [
      "spent time for epoch 1 is 0.5206291675567627s\n",
      "epoch # : 1 gamma : 0.5 gen loss : 2.0465707778930664\n"
     ]
    },
    {
     "name": "stderr",
     "output_type": "stream",
     "text": [
      " 16%|█▌        | 4/25 [00:00<00:00, 39.66it/s]"
     ]
    },
    {
     "name": "stdout",
     "output_type": "stream",
     "text": [
      "Total number of generated modes is  4\n",
      "The number of high quality samples among 2500 samples is 63\n",
      "The mode dictionary is Counter({12: 27, 7: 14, 13: 13, 17: 9})\n"
     ]
    },
    {
     "name": "stderr",
     "output_type": "stream",
     "text": [
      "100%|██████████| 25/25 [00:00<00:00, 48.12it/s]\n"
     ]
    },
    {
     "name": "stdout",
     "output_type": "stream",
     "text": [
      "spent time for epoch 2 is 0.5256237983703613s\n",
      "epoch # : 2 gamma : 0.5 gen loss : 2.016854763031006\n"
     ]
    },
    {
     "name": "stderr",
     "output_type": "stream",
     "text": [
      " 20%|██        | 5/25 [00:00<00:00, 49.69it/s]"
     ]
    },
    {
     "name": "stdout",
     "output_type": "stream",
     "text": [
      "Total number of generated modes is  5\n",
      "The number of high quality samples among 2500 samples is 114\n",
      "The mode dictionary is Counter({12: 41, 11: 31, 17: 27, 7: 11, 13: 4})\n"
     ]
    },
    {
     "name": "stderr",
     "output_type": "stream",
     "text": [
      "100%|██████████| 25/25 [00:00<00:00, 40.26it/s]\n"
     ]
    },
    {
     "name": "stdout",
     "output_type": "stream",
     "text": [
      "spent time for epoch 3 is 0.6273801326751709s\n",
      "epoch # : 3 gamma : 0.5 gen loss : 1.9062641859054565\n"
     ]
    },
    {
     "name": "stderr",
     "output_type": "stream",
     "text": [
      "  4%|▍         | 1/25 [00:00<00:02,  9.36it/s]"
     ]
    },
    {
     "name": "stdout",
     "output_type": "stream",
     "text": [
      "Total number of generated modes is  5\n",
      "The number of high quality samples among 2500 samples is 103\n",
      "The mode dictionary is Counter({12: 37, 7: 23, 11: 20, 17: 14, 13: 9})\n"
     ]
    },
    {
     "name": "stderr",
     "output_type": "stream",
     "text": [
      "100%|██████████| 25/25 [00:00<00:00, 36.71it/s]\n"
     ]
    },
    {
     "name": "stdout",
     "output_type": "stream",
     "text": [
      "spent time for epoch 4 is 0.6876170635223389s\n",
      "epoch # : 4 gamma : 0.5 gen loss : 1.926302433013916\n"
     ]
    },
    {
     "name": "stderr",
     "output_type": "stream",
     "text": [
      " 20%|██        | 5/25 [00:00<00:00, 48.80it/s]"
     ]
    },
    {
     "name": "stdout",
     "output_type": "stream",
     "text": [
      "Total number of generated modes is  5\n",
      "The number of high quality samples among 2500 samples is 107\n",
      "The mode dictionary is Counter({12: 59, 17: 16, 13: 14, 7: 11, 11: 7})\n"
     ]
    },
    {
     "name": "stderr",
     "output_type": "stream",
     "text": [
      "100%|██████████| 25/25 [00:00<00:00, 48.25it/s]\n"
     ]
    },
    {
     "name": "stdout",
     "output_type": "stream",
     "text": [
      "spent time for epoch 5 is 0.5239932537078857s\n",
      "epoch # : 5 gamma : 0.5 gen loss : 1.89131760597229\n"
     ]
    },
    {
     "name": "stderr",
     "output_type": "stream",
     "text": [
      " 20%|██        | 5/25 [00:00<00:00, 48.80it/s]"
     ]
    },
    {
     "name": "stdout",
     "output_type": "stream",
     "text": [
      "Total number of generated modes is  4\n",
      "The number of high quality samples among 2500 samples is 84\n",
      "The mode dictionary is Counter({12: 48, 17: 18, 13: 11, 7: 7})\n"
     ]
    },
    {
     "name": "stderr",
     "output_type": "stream",
     "text": [
      "100%|██████████| 25/25 [00:00<00:00, 48.62it/s]\n"
     ]
    },
    {
     "name": "stdout",
     "output_type": "stream",
     "text": [
      "spent time for epoch 6 is 0.5203547477722168s\n",
      "epoch # : 6 gamma : 0.5 gen loss : 1.8505703210830688\n"
     ]
    },
    {
     "name": "stderr",
     "output_type": "stream",
     "text": [
      " 20%|██        | 5/25 [00:00<00:00, 49.08it/s]"
     ]
    },
    {
     "name": "stdout",
     "output_type": "stream",
     "text": [
      "Total number of generated modes is  4\n",
      "The number of high quality samples among 2500 samples is 93\n",
      "The mode dictionary is Counter({12: 59, 17: 26, 7: 4, 13: 4})\n"
     ]
    },
    {
     "name": "stderr",
     "output_type": "stream",
     "text": [
      "100%|██████████| 25/25 [00:00<00:00, 49.06it/s]\n"
     ]
    },
    {
     "name": "stdout",
     "output_type": "stream",
     "text": [
      "spent time for epoch 7 is 0.515455961227417s\n",
      "epoch # : 7 gamma : 0.5 gen loss : 1.9414629936218262\n"
     ]
    },
    {
     "name": "stderr",
     "output_type": "stream",
     "text": [
      "  4%|▍         | 1/25 [00:00<00:03,  7.92it/s]"
     ]
    },
    {
     "name": "stdout",
     "output_type": "stream",
     "text": [
      "Total number of generated modes is  5\n",
      "The number of high quality samples among 2500 samples is 112\n",
      "The mode dictionary is Counter({12: 40, 11: 28, 13: 19, 7: 14, 17: 11})\n"
     ]
    },
    {
     "name": "stderr",
     "output_type": "stream",
     "text": [
      "100%|██████████| 25/25 [00:00<00:00, 43.90it/s]\n"
     ]
    },
    {
     "name": "stdout",
     "output_type": "stream",
     "text": [
      "spent time for epoch 8 is 0.5751626491546631s\n",
      "epoch # : 8 gamma : 0.5 gen loss : 1.7992382049560547\n"
     ]
    },
    {
     "name": "stderr",
     "output_type": "stream",
     "text": [
      " 20%|██        | 5/25 [00:00<00:00, 49.20it/s]"
     ]
    },
    {
     "name": "stdout",
     "output_type": "stream",
     "text": [
      "Total number of generated modes is  6\n",
      "The number of high quality samples among 2500 samples is 171\n",
      "The mode dictionary is Counter({12: 95, 7: 32, 13: 24, 17: 11, 11: 7, 6: 2})\n"
     ]
    },
    {
     "name": "stderr",
     "output_type": "stream",
     "text": [
      "100%|██████████| 25/25 [00:00<00:00, 48.77it/s]\n"
     ]
    },
    {
     "name": "stdout",
     "output_type": "stream",
     "text": [
      "spent time for epoch 9 is 0.5184125900268555s\n",
      "epoch # : 9 gamma : 0.5 gen loss : 1.7351559400558472\n"
     ]
    },
    {
     "name": "stderr",
     "output_type": "stream",
     "text": [
      " 20%|██        | 5/25 [00:00<00:00, 49.17it/s]"
     ]
    },
    {
     "name": "stdout",
     "output_type": "stream",
     "text": [
      "Total number of generated modes is  5\n",
      "The number of high quality samples among 2500 samples is 172\n",
      "The mode dictionary is Counter({12: 113, 11: 22, 7: 15, 17: 13, 13: 9})\n"
     ]
    },
    {
     "name": "stderr",
     "output_type": "stream",
     "text": [
      "100%|██████████| 25/25 [00:00<00:00, 47.70it/s]\n"
     ]
    },
    {
     "name": "stdout",
     "output_type": "stream",
     "text": [
      "spent time for epoch 10 is 0.5300655364990234s\n",
      "epoch # : 10 gamma : 0.5 gen loss : 1.8244352340698242\n"
     ]
    },
    {
     "name": "stderr",
     "output_type": "stream",
     "text": [
      " 20%|██        | 5/25 [00:00<00:00, 48.94it/s]"
     ]
    },
    {
     "name": "stdout",
     "output_type": "stream",
     "text": [
      "Total number of generated modes is  5\n",
      "The number of high quality samples among 2500 samples is 197\n",
      "The mode dictionary is Counter({12: 137, 17: 27, 13: 18, 7: 8, 11: 7})\n"
     ]
    },
    {
     "name": "stderr",
     "output_type": "stream",
     "text": [
      "100%|██████████| 25/25 [00:00<00:00, 48.96it/s]\n"
     ]
    },
    {
     "name": "stdout",
     "output_type": "stream",
     "text": [
      "spent time for epoch 11 is 0.5164072513580322s\n",
      "epoch # : 11 gamma : 0.5 gen loss : 1.8371634483337402\n"
     ]
    },
    {
     "name": "stderr",
     "output_type": "stream",
     "text": [
      " 20%|██        | 5/25 [00:00<00:00, 49.68it/s]"
     ]
    },
    {
     "name": "stdout",
     "output_type": "stream",
     "text": [
      "Total number of generated modes is  5\n",
      "The number of high quality samples among 2500 samples is 101\n",
      "The mode dictionary is Counter({12: 48, 13: 20, 11: 12, 17: 11, 7: 10})\n"
     ]
    },
    {
     "name": "stderr",
     "output_type": "stream",
     "text": [
      "100%|██████████| 25/25 [00:00<00:00, 46.95it/s]\n"
     ]
    },
    {
     "name": "stdout",
     "output_type": "stream",
     "text": [
      "spent time for epoch 12 is 0.5384178161621094s\n",
      "epoch # : 12 gamma : 0.5 gen loss : 1.7351374626159668\n"
     ]
    },
    {
     "name": "stderr",
     "output_type": "stream",
     "text": [
      " 20%|██        | 5/25 [00:00<00:00, 49.14it/s]"
     ]
    },
    {
     "name": "stdout",
     "output_type": "stream",
     "text": [
      "Total number of generated modes is  7\n",
      "The number of high quality samples among 2500 samples is 215\n",
      "The mode dictionary is Counter({12: 146, 7: 29, 13: 16, 11: 11, 17: 9, 16: 3, 6: 1})\n"
     ]
    },
    {
     "name": "stderr",
     "output_type": "stream",
     "text": [
      "100%|██████████| 25/25 [00:00<00:00, 48.80it/s]\n"
     ]
    },
    {
     "name": "stdout",
     "output_type": "stream",
     "text": [
      "spent time for epoch 13 is 0.5185112953186035s\n",
      "epoch # : 13 gamma : 0.5 gen loss : 1.8529773950576782\n"
     ]
    },
    {
     "name": "stderr",
     "output_type": "stream",
     "text": [
      " 20%|██        | 5/25 [00:00<00:00, 49.35it/s]"
     ]
    },
    {
     "name": "stdout",
     "output_type": "stream",
     "text": [
      "Total number of generated modes is  6\n",
      "The number of high quality samples among 2500 samples is 178\n",
      "The mode dictionary is Counter({12: 102, 7: 29, 13: 23, 11: 14, 16: 5, 17: 5})\n"
     ]
    },
    {
     "name": "stderr",
     "output_type": "stream",
     "text": [
      "100%|██████████| 25/25 [00:00<00:00, 48.71it/s]\n"
     ]
    },
    {
     "name": "stdout",
     "output_type": "stream",
     "text": [
      "spent time for epoch 14 is 0.5192489624023438s\n",
      "epoch # : 14 gamma : 0.5 gen loss : 1.7816519737243652\n"
     ]
    },
    {
     "name": "stderr",
     "output_type": "stream",
     "text": [
      " 16%|█▌        | 4/25 [00:00<00:00, 38.91it/s]"
     ]
    },
    {
     "name": "stdout",
     "output_type": "stream",
     "text": [
      "Total number of generated modes is  5\n",
      "The number of high quality samples among 2500 samples is 212\n",
      "The mode dictionary is Counter({12: 148, 13: 30, 11: 14, 7: 11, 17: 9})\n"
     ]
    },
    {
     "name": "stderr",
     "output_type": "stream",
     "text": [
      "100%|██████████| 25/25 [00:00<00:00, 48.55it/s]\n"
     ]
    },
    {
     "name": "stdout",
     "output_type": "stream",
     "text": [
      "spent time for epoch 15 is 0.5212764739990234s\n",
      "epoch # : 15 gamma : 0.5 gen loss : 1.759379506111145\n"
     ]
    },
    {
     "name": "stderr",
     "output_type": "stream",
     "text": [
      " 20%|██        | 5/25 [00:00<00:00, 47.40it/s]"
     ]
    },
    {
     "name": "stdout",
     "output_type": "stream",
     "text": [
      "Total number of generated modes is  5\n",
      "The number of high quality samples among 2500 samples is 215\n",
      "The mode dictionary is Counter({12: 163, 13: 33, 7: 10, 17: 5, 11: 4})\n"
     ]
    },
    {
     "name": "stderr",
     "output_type": "stream",
     "text": [
      "100%|██████████| 25/25 [00:00<00:00, 48.59it/s]\n"
     ]
    },
    {
     "name": "stdout",
     "output_type": "stream",
     "text": [
      "spent time for epoch 16 is 0.5206456184387207s\n",
      "epoch # : 16 gamma : 0.5 gen loss : 1.6919012069702148\n"
     ]
    },
    {
     "name": "stderr",
     "output_type": "stream",
     "text": [
      " 20%|██        | 5/25 [00:00<00:00, 49.27it/s]"
     ]
    },
    {
     "name": "stdout",
     "output_type": "stream",
     "text": [
      "Total number of generated modes is  6\n",
      "The number of high quality samples among 2500 samples is 156\n",
      "The mode dictionary is Counter({12: 78, 7: 32, 13: 24, 17: 10, 16: 8, 11: 4})\n"
     ]
    },
    {
     "name": "stderr",
     "output_type": "stream",
     "text": [
      "100%|██████████| 25/25 [00:00<00:00, 47.85it/s]\n"
     ]
    },
    {
     "name": "stdout",
     "output_type": "stream",
     "text": [
      "spent time for epoch 17 is 0.5287396907806396s\n",
      "epoch # : 17 gamma : 0.5 gen loss : 1.6461902856826782\n"
     ]
    },
    {
     "name": "stderr",
     "output_type": "stream",
     "text": [
      " 20%|██        | 5/25 [00:00<00:00, 49.93it/s]"
     ]
    },
    {
     "name": "stdout",
     "output_type": "stream",
     "text": [
      "Total number of generated modes is  5\n",
      "The number of high quality samples among 2500 samples is 176\n",
      "The mode dictionary is Counter({12: 148, 13: 10, 7: 8, 17: 7, 11: 3})\n"
     ]
    },
    {
     "name": "stderr",
     "output_type": "stream",
     "text": [
      "100%|██████████| 25/25 [00:00<00:00, 49.16it/s]\n"
     ]
    },
    {
     "name": "stdout",
     "output_type": "stream",
     "text": [
      "spent time for epoch 18 is 0.515009880065918s\n",
      "epoch # : 18 gamma : 0.5 gen loss : 1.7287451028823853\n"
     ]
    },
    {
     "name": "stderr",
     "output_type": "stream",
     "text": [
      "  4%|▍         | 1/25 [00:00<00:03,  7.70it/s]"
     ]
    },
    {
     "name": "stdout",
     "output_type": "stream",
     "text": [
      "Total number of generated modes is  6\n",
      "The number of high quality samples among 2500 samples is 246\n",
      "The mode dictionary is Counter({12: 202, 17: 15, 13: 10, 7: 8, 16: 7, 11: 4})\n"
     ]
    },
    {
     "name": "stderr",
     "output_type": "stream",
     "text": [
      "100%|██████████| 25/25 [00:00<00:00, 44.09it/s]\n"
     ]
    },
    {
     "name": "stdout",
     "output_type": "stream",
     "text": [
      "spent time for epoch 19 is 0.5727138519287109s\n",
      "epoch # : 19 gamma : 0.5 gen loss : 1.674835205078125\n"
     ]
    },
    {
     "name": "stderr",
     "output_type": "stream",
     "text": [
      " 12%|█▏        | 3/25 [00:00<00:00, 29.85it/s]"
     ]
    },
    {
     "name": "stdout",
     "output_type": "stream",
     "text": [
      "Total number of generated modes is  7\n",
      "The number of high quality samples among 2500 samples is 204\n",
      "The mode dictionary is Counter({12: 131, 11: 18, 17: 18, 13: 12, 7: 9, 8: 8, 16: 8})\n"
     ]
    },
    {
     "name": "stderr",
     "output_type": "stream",
     "text": [
      "100%|██████████| 25/25 [00:00<00:00, 47.48it/s]\n"
     ]
    },
    {
     "name": "stdout",
     "output_type": "stream",
     "text": [
      "spent time for epoch 20 is 0.5324594974517822s\n",
      "epoch # : 20 gamma : 0.5 gen loss : 1.6590642929077148\n"
     ]
    },
    {
     "name": "stderr",
     "output_type": "stream",
     "text": [
      " 20%|██        | 5/25 [00:00<00:00, 47.37it/s]"
     ]
    },
    {
     "name": "stdout",
     "output_type": "stream",
     "text": [
      "Total number of generated modes is  6\n",
      "The number of high quality samples among 2500 samples is 144\n",
      "The mode dictionary is Counter({12: 98, 11: 18, 13: 9, 7: 9, 17: 7, 6: 3})\n"
     ]
    },
    {
     "name": "stderr",
     "output_type": "stream",
     "text": [
      "100%|██████████| 25/25 [00:00<00:00, 48.49it/s]\n"
     ]
    },
    {
     "name": "stdout",
     "output_type": "stream",
     "text": [
      "spent time for epoch 21 is 0.5212481021881104s\n",
      "epoch # : 21 gamma : 0.5 gen loss : 1.7378907203674316\n"
     ]
    },
    {
     "name": "stderr",
     "output_type": "stream",
     "text": [
      " 20%|██        | 5/25 [00:00<00:00, 47.74it/s]"
     ]
    },
    {
     "name": "stdout",
     "output_type": "stream",
     "text": [
      "Total number of generated modes is  6\n",
      "The number of high quality samples among 2500 samples is 178\n",
      "The mode dictionary is Counter({12: 139, 11: 14, 17: 11, 13: 7, 7: 4, 18: 3})\n"
     ]
    },
    {
     "name": "stderr",
     "output_type": "stream",
     "text": [
      "100%|██████████| 25/25 [00:00<00:00, 47.19it/s]\n"
     ]
    },
    {
     "name": "stdout",
     "output_type": "stream",
     "text": [
      "spent time for epoch 22 is 0.5359210968017578s\n",
      "epoch # : 22 gamma : 0.5 gen loss : 1.6460611820220947\n"
     ]
    },
    {
     "name": "stderr",
     "output_type": "stream",
     "text": [
      " 20%|██        | 5/25 [00:00<00:00, 48.73it/s]"
     ]
    },
    {
     "name": "stdout",
     "output_type": "stream",
     "text": [
      "Total number of generated modes is  6\n",
      "The number of high quality samples among 2500 samples is 95\n",
      "The mode dictionary is Counter({12: 47, 11: 16, 7: 15, 17: 8, 16: 6, 13: 3})\n"
     ]
    },
    {
     "name": "stderr",
     "output_type": "stream",
     "text": [
      "100%|██████████| 25/25 [00:00<00:00, 49.00it/s]\n"
     ]
    },
    {
     "name": "stdout",
     "output_type": "stream",
     "text": [
      "spent time for epoch 23 is 0.5165786743164062s\n",
      "epoch # : 23 gamma : 0.5 gen loss : 1.6012986898422241\n"
     ]
    },
    {
     "name": "stderr",
     "output_type": "stream",
     "text": [
      " 20%|██        | 5/25 [00:00<00:00, 48.61it/s]"
     ]
    },
    {
     "name": "stdout",
     "output_type": "stream",
     "text": [
      "Total number of generated modes is  7\n",
      "The number of high quality samples among 2500 samples is 114\n",
      "The mode dictionary is Counter({12: 42, 17: 25, 7: 23, 13: 15, 11: 4, 6: 4, 16: 1})\n"
     ]
    },
    {
     "name": "stderr",
     "output_type": "stream",
     "text": [
      "100%|██████████| 25/25 [00:00<00:00, 48.72it/s]\n"
     ]
    },
    {
     "name": "stdout",
     "output_type": "stream",
     "text": [
      "spent time for epoch 24 is 0.5196783542633057s\n",
      "epoch # : 24 gamma : 0.5 gen loss : 1.7532563209533691\n"
     ]
    },
    {
     "name": "stderr",
     "output_type": "stream",
     "text": [
      " 20%|██        | 5/25 [00:00<00:00, 49.61it/s]"
     ]
    },
    {
     "name": "stdout",
     "output_type": "stream",
     "text": [
      "Total number of generated modes is  7\n",
      "The number of high quality samples among 2500 samples is 102\n",
      "The mode dictionary is Counter({12: 62, 17: 13, 13: 10, 7: 6, 16: 6, 8: 3, 11: 2})\n"
     ]
    },
    {
     "name": "stderr",
     "output_type": "stream",
     "text": [
      "100%|██████████| 25/25 [00:00<00:00, 49.16it/s]\n"
     ]
    },
    {
     "name": "stdout",
     "output_type": "stream",
     "text": [
      "spent time for epoch 25 is 0.5148260593414307s\n",
      "epoch # : 25 gamma : 0.5 gen loss : 1.6985745429992676\n"
     ]
    },
    {
     "name": "stderr",
     "output_type": "stream",
     "text": [
      " 20%|██        | 5/25 [00:00<00:00, 49.60it/s]"
     ]
    },
    {
     "name": "stdout",
     "output_type": "stream",
     "text": [
      "Total number of generated modes is  8\n",
      "The number of high quality samples among 2500 samples is 177\n",
      "The mode dictionary is Counter({12: 130, 11: 12, 16: 9, 7: 8, 13: 7, 17: 6, 18: 3, 6: 2})\n"
     ]
    },
    {
     "name": "stderr",
     "output_type": "stream",
     "text": [
      "100%|██████████| 25/25 [00:00<00:00, 47.21it/s]\n"
     ]
    },
    {
     "name": "stdout",
     "output_type": "stream",
     "text": [
      "spent time for epoch 26 is 0.5372359752655029s\n",
      "epoch # : 26 gamma : 0.5 gen loss : 1.6031758785247803\n"
     ]
    },
    {
     "name": "stderr",
     "output_type": "stream",
     "text": [
      " 24%|██▍       | 6/25 [00:00<00:00, 33.25it/s]"
     ]
    },
    {
     "name": "stdout",
     "output_type": "stream",
     "text": [
      "Total number of generated modes is  6\n",
      "The number of high quality samples among 2500 samples is 134\n",
      "The mode dictionary is Counter({12: 79, 18: 15, 11: 12, 7: 10, 13: 10, 17: 8})\n"
     ]
    },
    {
     "name": "stderr",
     "output_type": "stream",
     "text": [
      "100%|██████████| 25/25 [00:00<00:00, 49.21it/s]\n"
     ]
    },
    {
     "name": "stdout",
     "output_type": "stream",
     "text": [
      "spent time for epoch 27 is 0.5144374370574951s\n",
      "epoch # : 27 gamma : 0.5 gen loss : 1.64263117313385\n"
     ]
    },
    {
     "name": "stderr",
     "output_type": "stream",
     "text": [
      " 20%|██        | 5/25 [00:00<00:00, 49.36it/s]"
     ]
    },
    {
     "name": "stdout",
     "output_type": "stream",
     "text": [
      "Total number of generated modes is  6\n",
      "The number of high quality samples among 2500 samples is 125\n",
      "The mode dictionary is Counter({12: 79, 11: 23, 8: 14, 7: 5, 17: 3, 13: 1})\n"
     ]
    },
    {
     "name": "stderr",
     "output_type": "stream",
     "text": [
      "100%|██████████| 25/25 [00:00<00:00, 48.89it/s]\n"
     ]
    },
    {
     "name": "stdout",
     "output_type": "stream",
     "text": [
      "spent time for epoch 28 is 0.5176491737365723s\n",
      "epoch # : 28 gamma : 0.5 gen loss : 1.5778141021728516\n"
     ]
    },
    {
     "name": "stderr",
     "output_type": "stream",
     "text": [
      " 16%|█▌        | 4/25 [00:00<00:00, 39.21it/s]"
     ]
    },
    {
     "name": "stdout",
     "output_type": "stream",
     "text": [
      "Total number of generated modes is  7\n",
      "The number of high quality samples among 2500 samples is 98\n",
      "The mode dictionary is Counter({12: 37, 17: 17, 18: 12, 11: 11, 16: 8, 7: 7, 13: 6})\n"
     ]
    },
    {
     "name": "stderr",
     "output_type": "stream",
     "text": [
      "100%|██████████| 25/25 [00:00<00:00, 46.98it/s]\n"
     ]
    },
    {
     "name": "stdout",
     "output_type": "stream",
     "text": [
      "spent time for epoch 29 is 0.538200855255127s\n",
      "epoch # : 29 gamma : 0.5 gen loss : 1.6647086143493652\n"
     ]
    },
    {
     "name": "stderr",
     "output_type": "stream",
     "text": [
      "  4%|▍         | 1/25 [00:00<00:03,  7.55it/s]"
     ]
    },
    {
     "name": "stdout",
     "output_type": "stream",
     "text": [
      "Total number of generated modes is  8\n",
      "The number of high quality samples among 2500 samples is 155\n",
      "The mode dictionary is Counter({12: 97, 18: 16, 16: 13, 7: 11, 11: 10, 17: 5, 13: 2, 8: 1})\n"
     ]
    },
    {
     "name": "stderr",
     "output_type": "stream",
     "text": [
      "100%|██████████| 25/25 [00:00<00:00, 43.48it/s]\n"
     ]
    },
    {
     "name": "stdout",
     "output_type": "stream",
     "text": [
      "spent time for epoch 30 is 0.5812091827392578s\n",
      "epoch # : 30 gamma : 0.5 gen loss : 1.604001522064209\n"
     ]
    },
    {
     "name": "stderr",
     "output_type": "stream",
     "text": [
      " 16%|█▌        | 4/25 [00:00<00:00, 38.87it/s]"
     ]
    },
    {
     "name": "stdout",
     "output_type": "stream",
     "text": [
      "Total number of generated modes is  7\n",
      "The number of high quality samples among 2500 samples is 113\n",
      "The mode dictionary is Counter({17: 36, 12: 34, 11: 14, 6: 12, 16: 8, 13: 8, 7: 1})\n"
     ]
    },
    {
     "name": "stderr",
     "output_type": "stream",
     "text": [
      "100%|██████████| 25/25 [00:00<00:00, 46.87it/s]\n"
     ]
    },
    {
     "name": "stdout",
     "output_type": "stream",
     "text": [
      "spent time for epoch 31 is 0.5396943092346191s\n",
      "epoch # : 31 gamma : 0.5 gen loss : 1.6511995792388916\n"
     ]
    },
    {
     "name": "stderr",
     "output_type": "stream",
     "text": [
      " 20%|██        | 5/25 [00:00<00:00, 48.71it/s]"
     ]
    },
    {
     "name": "stdout",
     "output_type": "stream",
     "text": [
      "Total number of generated modes is  7\n",
      "The number of high quality samples among 2500 samples is 121\n",
      "The mode dictionary is Counter({12: 65, 8: 16, 16: 12, 11: 11, 17: 10, 7: 4, 13: 3})\n"
     ]
    },
    {
     "name": "stderr",
     "output_type": "stream",
     "text": [
      "100%|██████████| 25/25 [00:00<00:00, 48.47it/s]\n"
     ]
    },
    {
     "name": "stdout",
     "output_type": "stream",
     "text": [
      "spent time for epoch 32 is 0.5217709541320801s\n",
      "epoch # : 32 gamma : 0.5 gen loss : 1.637999176979065\n"
     ]
    },
    {
     "name": "stderr",
     "output_type": "stream",
     "text": [
      " 20%|██        | 5/25 [00:00<00:00, 49.00it/s]"
     ]
    },
    {
     "name": "stdout",
     "output_type": "stream",
     "text": [
      "Total number of generated modes is  7\n",
      "The number of high quality samples among 2500 samples is 109\n",
      "The mode dictionary is Counter({12: 51, 17: 25, 18: 11, 8: 10, 13: 6, 7: 5, 11: 1})\n"
     ]
    },
    {
     "name": "stderr",
     "output_type": "stream",
     "text": [
      "100%|██████████| 25/25 [00:00<00:00, 47.37it/s]\n"
     ]
    },
    {
     "name": "stdout",
     "output_type": "stream",
     "text": [
      "spent time for epoch 33 is 0.5338256359100342s\n",
      "epoch # : 33 gamma : 0.5 gen loss : 1.5843437910079956\n"
     ]
    },
    {
     "name": "stderr",
     "output_type": "stream",
     "text": [
      " 20%|██        | 5/25 [00:00<00:00, 48.54it/s]"
     ]
    },
    {
     "name": "stdout",
     "output_type": "stream",
     "text": [
      "Total number of generated modes is  7\n",
      "The number of high quality samples among 2500 samples is 79\n",
      "The mode dictionary is Counter({12: 24, 17: 13, 11: 10, 18: 9, 16: 9, 13: 8, 7: 6})\n"
     ]
    },
    {
     "name": "stderr",
     "output_type": "stream",
     "text": [
      "100%|██████████| 25/25 [00:00<00:00, 48.46it/s]\n"
     ]
    },
    {
     "name": "stdout",
     "output_type": "stream",
     "text": [
      "spent time for epoch 34 is 0.522024393081665s\n",
      "epoch # : 34 gamma : 0.5 gen loss : 1.5100568532943726\n"
     ]
    },
    {
     "name": "stderr",
     "output_type": "stream",
     "text": [
      " 20%|██        | 5/25 [00:00<00:00, 49.67it/s]"
     ]
    },
    {
     "name": "stdout",
     "output_type": "stream",
     "text": [
      "Total number of generated modes is  9\n",
      "The number of high quality samples among 2500 samples is 113\n",
      "The mode dictionary is Counter({12: 32, 16: 21, 7: 14, 6: 12, 13: 12, 11: 9, 18: 8, 17: 4, 14: 1})\n"
     ]
    },
    {
     "name": "stderr",
     "output_type": "stream",
     "text": [
      "100%|██████████| 25/25 [00:00<00:00, 49.20it/s]\n"
     ]
    },
    {
     "name": "stdout",
     "output_type": "stream",
     "text": [
      "spent time for epoch 35 is 0.5144009590148926s\n",
      "epoch # : 35 gamma : 0.5 gen loss : 1.599324345588684\n"
     ]
    },
    {
     "name": "stderr",
     "output_type": "stream",
     "text": [
      " 20%|██        | 5/25 [00:00<00:00, 48.88it/s]"
     ]
    },
    {
     "name": "stdout",
     "output_type": "stream",
     "text": [
      "Total number of generated modes is  9\n",
      "The number of high quality samples among 2500 samples is 137\n",
      "The mode dictionary is Counter({12: 53, 17: 23, 11: 13, 18: 11, 6: 10, 7: 9, 16: 9, 13: 5, 8: 4})\n"
     ]
    },
    {
     "name": "stderr",
     "output_type": "stream",
     "text": [
      "100%|██████████| 25/25 [00:00<00:00, 47.95it/s]\n"
     ]
    },
    {
     "name": "stdout",
     "output_type": "stream",
     "text": [
      "spent time for epoch 36 is 0.5278129577636719s\n",
      "epoch # : 36 gamma : 0.5 gen loss : 1.4956556558609009\n"
     ]
    },
    {
     "name": "stderr",
     "output_type": "stream",
     "text": [
      " 20%|██        | 5/25 [00:00<00:00, 48.01it/s]"
     ]
    },
    {
     "name": "stdout",
     "output_type": "stream",
     "text": [
      "Total number of generated modes is  9\n",
      "The number of high quality samples among 2500 samples is 125\n",
      "The mode dictionary is Counter({12: 62, 11: 15, 7: 10, 16: 10, 18: 9, 13: 8, 17: 7, 6: 2, 8: 2})\n"
     ]
    },
    {
     "name": "stderr",
     "output_type": "stream",
     "text": [
      "100%|██████████| 25/25 [00:00<00:00, 48.91it/s]\n"
     ]
    },
    {
     "name": "stdout",
     "output_type": "stream",
     "text": [
      "spent time for epoch 37 is 0.5172328948974609s\n",
      "epoch # : 37 gamma : 0.5 gen loss : 1.5557959079742432\n"
     ]
    },
    {
     "name": "stderr",
     "output_type": "stream",
     "text": [
      " 20%|██        | 5/25 [00:00<00:00, 49.66it/s]"
     ]
    },
    {
     "name": "stdout",
     "output_type": "stream",
     "text": [
      "Total number of generated modes is  9\n",
      "The number of high quality samples among 2500 samples is 84\n",
      "The mode dictionary is Counter({12: 29, 16: 13, 17: 11, 7: 9, 11: 9, 13: 4, 6: 4, 18: 3, 8: 2})\n"
     ]
    },
    {
     "name": "stderr",
     "output_type": "stream",
     "text": [
      "100%|██████████| 25/25 [00:00<00:00, 48.27it/s]\n"
     ]
    },
    {
     "name": "stdout",
     "output_type": "stream",
     "text": [
      "spent time for epoch 38 is 0.5238127708435059s\n",
      "epoch # : 38 gamma : 0.5 gen loss : 1.528290867805481\n"
     ]
    },
    {
     "name": "stderr",
     "output_type": "stream",
     "text": [
      " 20%|██        | 5/25 [00:00<00:00, 49.62it/s]"
     ]
    },
    {
     "name": "stdout",
     "output_type": "stream",
     "text": [
      "Total number of generated modes is  10\n",
      "The number of high quality samples among 2500 samples is 109\n",
      "The mode dictionary is Counter({12: 30, 6: 17, 7: 15, 18: 13, 11: 12, 13: 9, 17: 6, 16: 5, 8: 1, 14: 1})\n"
     ]
    },
    {
     "name": "stderr",
     "output_type": "stream",
     "text": [
      "100%|██████████| 25/25 [00:00<00:00, 48.74it/s]\n"
     ]
    },
    {
     "name": "stdout",
     "output_type": "stream",
     "text": [
      "spent time for epoch 39 is 0.5191218852996826s\n",
      "epoch # : 39 gamma : 0.5 gen loss : 1.4764344692230225\n"
     ]
    },
    {
     "name": "stderr",
     "output_type": "stream",
     "text": [
      " 20%|██        | 5/25 [00:00<00:00, 49.05it/s]"
     ]
    },
    {
     "name": "stdout",
     "output_type": "stream",
     "text": [
      "Total number of generated modes is  9\n",
      "The number of high quality samples among 2500 samples is 100\n",
      "The mode dictionary is Counter({12: 32, 7: 15, 6: 13, 11: 11, 18: 9, 17: 7, 16: 6, 8: 5, 13: 2})\n"
     ]
    },
    {
     "name": "stderr",
     "output_type": "stream",
     "text": [
      "100%|██████████| 25/25 [00:00<00:00, 48.90it/s]\n"
     ]
    },
    {
     "name": "stdout",
     "output_type": "stream",
     "text": [
      "spent time for epoch 40 is 0.5170555114746094s\n",
      "epoch # : 40 gamma : 0.5 gen loss : 1.4655977487564087\n"
     ]
    },
    {
     "name": "stderr",
     "output_type": "stream",
     "text": [
      "  4%|▍         | 1/25 [00:00<00:03,  7.24it/s]"
     ]
    },
    {
     "name": "stdout",
     "output_type": "stream",
     "text": [
      "Total number of generated modes is  9\n",
      "The number of high quality samples among 2500 samples is 89\n",
      "The mode dictionary is Counter({12: 21, 16: 17, 11: 16, 18: 9, 6: 7, 7: 7, 13: 5, 17: 5, 8: 2})\n"
     ]
    },
    {
     "name": "stderr",
     "output_type": "stream",
     "text": [
      "100%|██████████| 25/25 [00:00<00:00, 43.54it/s]\n"
     ]
    },
    {
     "name": "stdout",
     "output_type": "stream",
     "text": [
      "spent time for epoch 41 is 0.5798428058624268s\n",
      "epoch # : 41 gamma : 0.5 gen loss : 1.5064517259597778\n"
     ]
    },
    {
     "name": "stderr",
     "output_type": "stream",
     "text": [
      " 20%|██        | 5/25 [00:00<00:00, 48.83it/s]"
     ]
    },
    {
     "name": "stdout",
     "output_type": "stream",
     "text": [
      "Total number of generated modes is  9\n",
      "The number of high quality samples among 2500 samples is 103\n",
      "The mode dictionary is Counter({12: 29, 11: 16, 8: 14, 16: 12, 18: 9, 13: 8, 7: 8, 17: 6, 6: 1})\n"
     ]
    },
    {
     "name": "stderr",
     "output_type": "stream",
     "text": [
      "100%|██████████| 25/25 [00:00<00:00, 48.59it/s]\n"
     ]
    },
    {
     "name": "stdout",
     "output_type": "stream",
     "text": [
      "spent time for epoch 42 is 0.5201959609985352s\n",
      "epoch # : 42 gamma : 0.5 gen loss : 1.4481250047683716\n"
     ]
    },
    {
     "name": "stderr",
     "output_type": "stream",
     "text": [
      " 20%|██        | 5/25 [00:00<00:00, 49.24it/s]"
     ]
    },
    {
     "name": "stdout",
     "output_type": "stream",
     "text": [
      "Total number of generated modes is  8\n",
      "The number of high quality samples among 2500 samples is 83\n",
      "The mode dictionary is Counter({12: 20, 18: 15, 11: 12, 8: 10, 17: 9, 13: 9, 6: 4, 16: 4})\n"
     ]
    },
    {
     "name": "stderr",
     "output_type": "stream",
     "text": [
      "100%|██████████| 25/25 [00:00<00:00, 48.54it/s]\n"
     ]
    },
    {
     "name": "stdout",
     "output_type": "stream",
     "text": [
      "spent time for epoch 43 is 0.5208520889282227s\n",
      "epoch # : 43 gamma : 0.5 gen loss : 1.4787468910217285\n"
     ]
    },
    {
     "name": "stderr",
     "output_type": "stream",
     "text": [
      " 20%|██        | 5/25 [00:00<00:00, 48.53it/s]"
     ]
    },
    {
     "name": "stdout",
     "output_type": "stream",
     "text": [
      "Total number of generated modes is  9\n",
      "The number of high quality samples among 2500 samples is 74\n",
      "The mode dictionary is Counter({6: 22, 12: 18, 16: 11, 13: 8, 11: 4, 18: 4, 17: 3, 7: 2, 8: 2})\n"
     ]
    },
    {
     "name": "stderr",
     "output_type": "stream",
     "text": [
      "100%|██████████| 25/25 [00:00<00:00, 47.91it/s]\n"
     ]
    },
    {
     "name": "stdout",
     "output_type": "stream",
     "text": [
      "spent time for epoch 44 is 0.5276618003845215s\n",
      "epoch # : 44 gamma : 0.5 gen loss : 1.4427658319473267\n"
     ]
    },
    {
     "name": "stderr",
     "output_type": "stream",
     "text": [
      " 20%|██        | 5/25 [00:00<00:00, 48.11it/s]"
     ]
    },
    {
     "name": "stdout",
     "output_type": "stream",
     "text": [
      "Total number of generated modes is  9\n",
      "The number of high quality samples among 2500 samples is 115\n",
      "The mode dictionary is Counter({12: 52, 13: 17, 16: 13, 18: 10, 11: 8, 6: 8, 8: 4, 7: 2, 17: 1})\n"
     ]
    },
    {
     "name": "stderr",
     "output_type": "stream",
     "text": [
      "100%|██████████| 25/25 [00:00<00:00, 48.45it/s]\n"
     ]
    },
    {
     "name": "stdout",
     "output_type": "stream",
     "text": [
      "spent time for epoch 45 is 0.5216450691223145s\n",
      "epoch # : 45 gamma : 0.5 gen loss : 1.5280027389526367\n"
     ]
    },
    {
     "name": "stderr",
     "output_type": "stream",
     "text": [
      " 20%|██        | 5/25 [00:00<00:00, 48.99it/s]"
     ]
    },
    {
     "name": "stdout",
     "output_type": "stream",
     "text": [
      "Total number of generated modes is  9\n",
      "The number of high quality samples among 2500 samples is 121\n",
      "The mode dictionary is Counter({12: 30, 18: 21, 7: 16, 13: 15, 11: 14, 16: 10, 17: 8, 8: 4, 6: 3})\n"
     ]
    },
    {
     "name": "stderr",
     "output_type": "stream",
     "text": [
      "100%|██████████| 25/25 [00:00<00:00, 48.78it/s]\n"
     ]
    },
    {
     "name": "stdout",
     "output_type": "stream",
     "text": [
      "spent time for epoch 46 is 0.518563985824585s\n",
      "epoch # : 46 gamma : 0.5 gen loss : 1.4614766836166382\n"
     ]
    },
    {
     "name": "stderr",
     "output_type": "stream",
     "text": [
      " 20%|██        | 5/25 [00:00<00:00, 49.28it/s]"
     ]
    },
    {
     "name": "stdout",
     "output_type": "stream",
     "text": [
      "Total number of generated modes is  10\n",
      "The number of high quality samples among 2500 samples is 107\n",
      "The mode dictionary is Counter({12: 22, 17: 22, 13: 19, 11: 11, 18: 10, 16: 10, 7: 7, 8: 3, 6: 2, 14: 1})\n"
     ]
    },
    {
     "name": "stderr",
     "output_type": "stream",
     "text": [
      "100%|██████████| 25/25 [00:00<00:00, 48.96it/s]\n"
     ]
    },
    {
     "name": "stdout",
     "output_type": "stream",
     "text": [
      "spent time for epoch 47 is 0.5161778926849365s\n",
      "epoch # : 47 gamma : 0.5 gen loss : 1.4617745876312256\n"
     ]
    },
    {
     "name": "stderr",
     "output_type": "stream",
     "text": [
      " 20%|██        | 5/25 [00:00<00:00, 49.48it/s]"
     ]
    },
    {
     "name": "stdout",
     "output_type": "stream",
     "text": [
      "Total number of generated modes is  9\n",
      "The number of high quality samples among 2500 samples is 92\n",
      "The mode dictionary is Counter({12: 25, 17: 21, 11: 14, 16: 9, 13: 8, 6: 8, 18: 3, 7: 2, 8: 2})\n"
     ]
    },
    {
     "name": "stderr",
     "output_type": "stream",
     "text": [
      "100%|██████████| 25/25 [00:00<00:00, 48.30it/s]\n"
     ]
    },
    {
     "name": "stdout",
     "output_type": "stream",
     "text": [
      "spent time for epoch 48 is 0.5234284400939941s\n",
      "epoch # : 48 gamma : 0.5 gen loss : 1.5079705715179443\n"
     ]
    },
    {
     "name": "stderr",
     "output_type": "stream",
     "text": [
      " 20%|██        | 5/25 [00:00<00:00, 47.41it/s]"
     ]
    },
    {
     "name": "stdout",
     "output_type": "stream",
     "text": [
      "Total number of generated modes is  9\n",
      "The number of high quality samples among 2500 samples is 77\n",
      "The mode dictionary is Counter({12: 23, 11: 14, 8: 8, 16: 8, 17: 7, 13: 6, 18: 5, 7: 4, 6: 2})\n"
     ]
    },
    {
     "name": "stderr",
     "output_type": "stream",
     "text": [
      "100%|██████████| 25/25 [00:00<00:00, 48.27it/s]\n"
     ]
    },
    {
     "name": "stdout",
     "output_type": "stream",
     "text": [
      "spent time for epoch 49 is 0.5233914852142334s\n",
      "epoch # : 49 gamma : 0.5 gen loss : 1.5025837421417236\n"
     ]
    },
    {
     "name": "stderr",
     "output_type": "stream",
     "text": [
      " 20%|██        | 5/25 [00:00<00:00, 49.92it/s]"
     ]
    },
    {
     "name": "stdout",
     "output_type": "stream",
     "text": [
      "Total number of generated modes is  9\n",
      "The number of high quality samples among 2500 samples is 96\n",
      "The mode dictionary is Counter({12: 32, 11: 14, 17: 9, 13: 9, 18: 9, 16: 8, 8: 7, 6: 4, 7: 4})\n"
     ]
    },
    {
     "name": "stderr",
     "output_type": "stream",
     "text": [
      "100%|██████████| 25/25 [00:00<00:00, 49.27it/s]\n"
     ]
    },
    {
     "name": "stdout",
     "output_type": "stream",
     "text": [
      "spent time for epoch 50 is 0.5131726264953613s\n",
      "epoch # : 50 gamma : 0.5 gen loss : 1.4006054401397705\n"
     ]
    },
    {
     "name": "stderr",
     "output_type": "stream",
     "text": [
      " 20%|██        | 5/25 [00:00<00:00, 49.07it/s]"
     ]
    },
    {
     "name": "stdout",
     "output_type": "stream",
     "text": [
      "Total number of generated modes is  9\n",
      "The number of high quality samples among 2500 samples is 81\n",
      "The mode dictionary is Counter({12: 25, 11: 17, 16: 8, 13: 7, 18: 6, 8: 5, 17: 5, 6: 5, 7: 3})\n"
     ]
    },
    {
     "name": "stderr",
     "output_type": "stream",
     "text": [
      "100%|██████████| 25/25 [00:00<00:00, 49.02it/s]\n"
     ]
    },
    {
     "name": "stdout",
     "output_type": "stream",
     "text": [
      "spent time for epoch 51 is 0.515880823135376s\n",
      "epoch # : 51 gamma : 0.5 gen loss : 1.3907886743545532\n"
     ]
    },
    {
     "name": "stderr",
     "output_type": "stream",
     "text": [
      "  4%|▍         | 1/25 [00:00<00:03,  7.66it/s]"
     ]
    },
    {
     "name": "stdout",
     "output_type": "stream",
     "text": [
      "Total number of generated modes is  9\n",
      "The number of high quality samples among 2500 samples is 120\n",
      "The mode dictionary is Counter({7: 25, 17: 19, 12: 17, 8: 15, 6: 15, 11: 13, 16: 6, 13: 6, 18: 4})\n"
     ]
    },
    {
     "name": "stderr",
     "output_type": "stream",
     "text": [
      "100%|██████████| 25/25 [00:00<00:00, 44.14it/s]\n"
     ]
    },
    {
     "name": "stdout",
     "output_type": "stream",
     "text": [
      "spent time for epoch 52 is 0.5722229480743408s\n",
      "epoch # : 52 gamma : 0.5 gen loss : 1.4776678085327148\n"
     ]
    },
    {
     "name": "stderr",
     "output_type": "stream",
     "text": [
      " 20%|██        | 5/25 [00:00<00:00, 48.95it/s]"
     ]
    },
    {
     "name": "stdout",
     "output_type": "stream",
     "text": [
      "Total number of generated modes is  9\n",
      "The number of high quality samples among 2500 samples is 88\n",
      "The mode dictionary is Counter({17: 26, 13: 18, 12: 16, 11: 12, 18: 5, 8: 4, 16: 3, 7: 2, 6: 2})\n"
     ]
    },
    {
     "name": "stderr",
     "output_type": "stream",
     "text": [
      "100%|██████████| 25/25 [00:00<00:00, 49.05it/s]\n"
     ]
    },
    {
     "name": "stdout",
     "output_type": "stream",
     "text": [
      "spent time for epoch 53 is 0.5154974460601807s\n",
      "epoch # : 53 gamma : 0.5 gen loss : 1.4026631116867065\n"
     ]
    },
    {
     "name": "stderr",
     "output_type": "stream",
     "text": [
      " 20%|██        | 5/25 [00:00<00:00, 48.87it/s]"
     ]
    },
    {
     "name": "stdout",
     "output_type": "stream",
     "text": [
      "Total number of generated modes is  9\n",
      "The number of high quality samples among 2500 samples is 87\n",
      "The mode dictionary is Counter({11: 21, 12: 17, 7: 14, 17: 13, 13: 6, 16: 5, 6: 5, 18: 4, 8: 2})\n"
     ]
    },
    {
     "name": "stderr",
     "output_type": "stream",
     "text": [
      "100%|██████████| 25/25 [00:00<00:00, 48.58it/s]\n"
     ]
    },
    {
     "name": "stdout",
     "output_type": "stream",
     "text": [
      "spent time for epoch 54 is 0.5201079845428467s\n",
      "epoch # : 54 gamma : 0.5 gen loss : 1.4016072750091553\n"
     ]
    },
    {
     "name": "stderr",
     "output_type": "stream",
     "text": [
      " 20%|██        | 5/25 [00:00<00:00, 49.52it/s]"
     ]
    },
    {
     "name": "stdout",
     "output_type": "stream",
     "text": [
      "Total number of generated modes is  10\n",
      "The number of high quality samples among 2500 samples is 74\n",
      "The mode dictionary is Counter({12: 21, 11: 9, 8: 8, 16: 8, 7: 7, 13: 7, 17: 6, 18: 5, 6: 2, 14: 1})\n"
     ]
    },
    {
     "name": "stderr",
     "output_type": "stream",
     "text": [
      "100%|██████████| 25/25 [00:00<00:00, 48.23it/s]\n"
     ]
    },
    {
     "name": "stdout",
     "output_type": "stream",
     "text": [
      "spent time for epoch 55 is 0.5242304801940918s\n",
      "epoch # : 55 gamma : 0.5 gen loss : 1.387426733970642\n"
     ]
    },
    {
     "name": "stderr",
     "output_type": "stream",
     "text": [
      " 20%|██        | 5/25 [00:00<00:00, 49.43it/s]"
     ]
    },
    {
     "name": "stdout",
     "output_type": "stream",
     "text": [
      "Total number of generated modes is  9\n",
      "The number of high quality samples among 2500 samples is 55\n",
      "The mode dictionary is Counter({13: 12, 7: 10, 6: 9, 11: 5, 17: 4, 8: 4, 12: 4, 18: 4, 16: 3})\n"
     ]
    },
    {
     "name": "stderr",
     "output_type": "stream",
     "text": [
      "100%|██████████| 25/25 [00:00<00:00, 49.20it/s]\n"
     ]
    },
    {
     "name": "stdout",
     "output_type": "stream",
     "text": [
      "spent time for epoch 56 is 0.5139219760894775s\n",
      "epoch # : 56 gamma : 0.5 gen loss : 1.3571271896362305\n"
     ]
    },
    {
     "name": "stderr",
     "output_type": "stream",
     "text": [
      " 20%|██        | 5/25 [00:00<00:00, 48.25it/s]"
     ]
    },
    {
     "name": "stdout",
     "output_type": "stream",
     "text": [
      "Total number of generated modes is  9\n",
      "The number of high quality samples among 2500 samples is 74\n",
      "The mode dictionary is Counter({13: 21, 11: 14, 12: 14, 6: 6, 17: 6, 18: 5, 16: 4, 7: 3, 8: 1})\n"
     ]
    },
    {
     "name": "stderr",
     "output_type": "stream",
     "text": [
      "100%|██████████| 25/25 [00:00<00:00, 48.61it/s]\n"
     ]
    },
    {
     "name": "stdout",
     "output_type": "stream",
     "text": [
      "spent time for epoch 57 is 0.5200273990631104s\n",
      "epoch # : 57 gamma : 0.5 gen loss : 1.3267791271209717\n"
     ]
    },
    {
     "name": "stderr",
     "output_type": "stream",
     "text": [
      " 20%|██        | 5/25 [00:00<00:00, 49.36it/s]"
     ]
    },
    {
     "name": "stdout",
     "output_type": "stream",
     "text": [
      "Total number of generated modes is  11\n",
      "The number of high quality samples among 2500 samples is 73\n",
      "The mode dictionary is Counter({12: 17, 13: 14, 11: 13, 8: 10, 7: 6, 18: 4, 16: 3, 10: 2, 6: 2, 17: 1, 14: 1})\n"
     ]
    },
    {
     "name": "stderr",
     "output_type": "stream",
     "text": [
      "100%|██████████| 25/25 [00:00<00:00, 48.81it/s]\n"
     ]
    },
    {
     "name": "stdout",
     "output_type": "stream",
     "text": [
      "spent time for epoch 58 is 0.5179874897003174s\n",
      "epoch # : 58 gamma : 0.5 gen loss : 1.3471046686172485\n"
     ]
    },
    {
     "name": "stderr",
     "output_type": "stream",
     "text": [
      " 20%|██        | 5/25 [00:00<00:00, 49.97it/s]"
     ]
    },
    {
     "name": "stdout",
     "output_type": "stream",
     "text": [
      "Total number of generated modes is  11\n",
      "The number of high quality samples among 2500 samples is 90\n",
      "The mode dictionary is Counter({11: 16, 16: 15, 13: 14, 12: 13, 17: 10, 18: 7, 7: 6, 6: 3, 8: 3, 10: 2, 14: 1})\n"
     ]
    },
    {
     "name": "stderr",
     "output_type": "stream",
     "text": [
      "100%|██████████| 25/25 [00:00<00:00, 48.53it/s]\n"
     ]
    },
    {
     "name": "stdout",
     "output_type": "stream",
     "text": [
      "spent time for epoch 59 is 0.5208330154418945s\n",
      "epoch # : 59 gamma : 0.5 gen loss : 1.4038136005401611\n"
     ]
    },
    {
     "name": "stderr",
     "output_type": "stream",
     "text": [
      " 20%|██        | 5/25 [00:00<00:00, 49.78it/s]"
     ]
    },
    {
     "name": "stdout",
     "output_type": "stream",
     "text": [
      "Total number of generated modes is  9\n",
      "The number of high quality samples among 2500 samples is 59\n",
      "The mode dictionary is Counter({6: 11, 11: 11, 7: 9, 12: 9, 18: 6, 17: 5, 16: 4, 13: 3, 8: 1})\n"
     ]
    },
    {
     "name": "stderr",
     "output_type": "stream",
     "text": [
      "100%|██████████| 25/25 [00:00<00:00, 48.32it/s]\n"
     ]
    },
    {
     "name": "stdout",
     "output_type": "stream",
     "text": [
      "spent time for epoch 60 is 0.5233213901519775s\n",
      "epoch # : 60 gamma : 0.5 gen loss : 1.3901771306991577\n"
     ]
    },
    {
     "name": "stderr",
     "output_type": "stream",
     "text": [
      " 20%|██        | 5/25 [00:00<00:00, 49.58it/s]"
     ]
    },
    {
     "name": "stdout",
     "output_type": "stream",
     "text": [
      "Total number of generated modes is  9\n",
      "The number of high quality samples among 2500 samples is 87\n",
      "The mode dictionary is Counter({11: 21, 13: 20, 12: 18, 8: 7, 18: 7, 17: 4, 6: 4, 7: 3, 10: 3})\n"
     ]
    },
    {
     "name": "stderr",
     "output_type": "stream",
     "text": [
      "100%|██████████| 25/25 [00:00<00:00, 49.34it/s]\n"
     ]
    },
    {
     "name": "stdout",
     "output_type": "stream",
     "text": [
      "spent time for epoch 61 is 0.5123252868652344s\n",
      "epoch # : 61 gamma : 0.5 gen loss : 1.3779658079147339\n"
     ]
    },
    {
     "name": "stderr",
     "output_type": "stream",
     "text": [
      " 20%|██        | 5/25 [00:00<00:00, 49.15it/s]"
     ]
    },
    {
     "name": "stdout",
     "output_type": "stream",
     "text": [
      "Total number of generated modes is  9\n",
      "The number of high quality samples among 2500 samples is 84\n",
      "The mode dictionary is Counter({11: 28, 13: 15, 6: 12, 12: 11, 17: 5, 7: 4, 18: 3, 8: 3, 16: 3})\n"
     ]
    },
    {
     "name": "stderr",
     "output_type": "stream",
     "text": [
      "100%|██████████| 25/25 [00:00<00:00, 49.62it/s]\n"
     ]
    },
    {
     "name": "stdout",
     "output_type": "stream",
     "text": [
      "spent time for epoch 62 is 0.5098357200622559s\n",
      "epoch # : 62 gamma : 0.5 gen loss : 1.3949288129806519\n"
     ]
    },
    {
     "name": "stderr",
     "output_type": "stream",
     "text": [
      "  4%|▍         | 1/25 [00:00<00:03,  6.96it/s]"
     ]
    },
    {
     "name": "stdout",
     "output_type": "stream",
     "text": [
      "Total number of generated modes is  11\n",
      "The number of high quality samples among 2500 samples is 95\n",
      "The mode dictionary is Counter({17: 22, 11: 13, 7: 12, 12: 10, 8: 9, 13: 9, 6: 8, 18: 6, 16: 4, 10: 1, 14: 1})\n"
     ]
    },
    {
     "name": "stderr",
     "output_type": "stream",
     "text": [
      "100%|██████████| 25/25 [00:00<00:00, 42.25it/s]\n"
     ]
    },
    {
     "name": "stdout",
     "output_type": "stream",
     "text": [
      "spent time for epoch 63 is 0.597527027130127s\n",
      "epoch # : 63 gamma : 0.5 gen loss : 1.3592194318771362\n"
     ]
    },
    {
     "name": "stderr",
     "output_type": "stream",
     "text": [
      " 20%|██        | 5/25 [00:00<00:00, 49.13it/s]"
     ]
    },
    {
     "name": "stdout",
     "output_type": "stream",
     "text": [
      "Total number of generated modes is  11\n",
      "The number of high quality samples among 2500 samples is 79\n",
      "The mode dictionary is Counter({11: 21, 12: 16, 13: 13, 6: 7, 7: 6, 18: 5, 14: 4, 10: 3, 17: 2, 8: 1, 16: 1})\n"
     ]
    },
    {
     "name": "stderr",
     "output_type": "stream",
     "text": [
      "100%|██████████| 25/25 [00:00<00:00, 48.72it/s]\n"
     ]
    },
    {
     "name": "stdout",
     "output_type": "stream",
     "text": [
      "spent time for epoch 64 is 0.5189208984375s\n",
      "epoch # : 64 gamma : 0.5 gen loss : 1.354888677597046\n"
     ]
    },
    {
     "name": "stderr",
     "output_type": "stream",
     "text": [
      "  8%|▊         | 2/25 [00:00<00:01, 19.57it/s]"
     ]
    },
    {
     "name": "stdout",
     "output_type": "stream",
     "text": [
      "Total number of generated modes is  10\n",
      "The number of high quality samples among 2500 samples is 89\n",
      "The mode dictionary is Counter({11: 14, 13: 14, 12: 13, 6: 10, 17: 9, 8: 9, 7: 8, 16: 7, 18: 3, 14: 2})\n"
     ]
    },
    {
     "name": "stderr",
     "output_type": "stream",
     "text": [
      "100%|██████████| 25/25 [00:00<00:00, 46.46it/s]\n"
     ]
    },
    {
     "name": "stdout",
     "output_type": "stream",
     "text": [
      "spent time for epoch 65 is 0.5437991619110107s\n",
      "epoch # : 65 gamma : 0.5 gen loss : 1.268762230873108\n"
     ]
    },
    {
     "name": "stderr",
     "output_type": "stream",
     "text": [
      " 20%|██        | 5/25 [00:00<00:00, 48.14it/s]"
     ]
    },
    {
     "name": "stdout",
     "output_type": "stream",
     "text": [
      "Total number of generated modes is  10\n",
      "The number of high quality samples among 2500 samples is 92\n",
      "The mode dictionary is Counter({11: 22, 13: 18, 7: 17, 12: 12, 6: 8, 8: 5, 17: 4, 18: 3, 10: 2, 21: 1})\n"
     ]
    },
    {
     "name": "stderr",
     "output_type": "stream",
     "text": [
      "100%|██████████| 25/25 [00:00<00:00, 48.69it/s]\n"
     ]
    },
    {
     "name": "stdout",
     "output_type": "stream",
     "text": [
      "spent time for epoch 66 is 0.5192649364471436s\n",
      "epoch # : 66 gamma : 0.5 gen loss : 1.4165512323379517\n"
     ]
    },
    {
     "name": "stderr",
     "output_type": "stream",
     "text": [
      " 20%|██        | 5/25 [00:00<00:00, 48.50it/s]"
     ]
    },
    {
     "name": "stdout",
     "output_type": "stream",
     "text": [
      "Total number of generated modes is  11\n",
      "The number of high quality samples among 2500 samples is 75\n",
      "The mode dictionary is Counter({11: 15, 12: 13, 13: 12, 6: 12, 17: 7, 18: 4, 7: 3, 8: 3, 10: 2, 16: 2, 14: 2})\n"
     ]
    },
    {
     "name": "stderr",
     "output_type": "stream",
     "text": [
      "100%|██████████| 25/25 [00:00<00:00, 49.01it/s]\n"
     ]
    },
    {
     "name": "stdout",
     "output_type": "stream",
     "text": [
      "spent time for epoch 67 is 0.5163614749908447s\n",
      "epoch # : 67 gamma : 0.5 gen loss : 1.3045601844787598\n"
     ]
    },
    {
     "name": "stderr",
     "output_type": "stream",
     "text": [
      " 20%|██        | 5/25 [00:00<00:00, 48.49it/s]"
     ]
    },
    {
     "name": "stdout",
     "output_type": "stream",
     "text": [
      "Total number of generated modes is  10\n",
      "The number of high quality samples among 2500 samples is 69\n",
      "The mode dictionary is Counter({17: 26, 11: 12, 7: 8, 8: 5, 12: 4, 13: 4, 6: 3, 16: 3, 18: 2, 10: 2})\n"
     ]
    },
    {
     "name": "stderr",
     "output_type": "stream",
     "text": [
      "100%|██████████| 25/25 [00:00<00:00, 48.84it/s]\n"
     ]
    },
    {
     "name": "stdout",
     "output_type": "stream",
     "text": [
      "spent time for epoch 68 is 0.5177509784698486s\n",
      "epoch # : 68 gamma : 0.5 gen loss : 1.2793587446212769\n"
     ]
    },
    {
     "name": "stderr",
     "output_type": "stream",
     "text": [
      " 20%|██        | 5/25 [00:00<00:00, 49.75it/s]"
     ]
    },
    {
     "name": "stdout",
     "output_type": "stream",
     "text": [
      "Total number of generated modes is  9\n",
      "The number of high quality samples among 2500 samples is 47\n",
      "The mode dictionary is Counter({7: 11, 12: 9, 13: 6, 17: 6, 18: 5, 8: 3, 16: 3, 14: 2, 11: 2})\n"
     ]
    },
    {
     "name": "stderr",
     "output_type": "stream",
     "text": [
      "100%|██████████| 25/25 [00:00<00:00, 49.27it/s]\n"
     ]
    },
    {
     "name": "stdout",
     "output_type": "stream",
     "text": [
      "spent time for epoch 69 is 0.5133969783782959s\n",
      "epoch # : 69 gamma : 0.5 gen loss : 1.3886970281600952\n"
     ]
    },
    {
     "name": "stderr",
     "output_type": "stream",
     "text": [
      " 20%|██        | 5/25 [00:00<00:00, 49.55it/s]"
     ]
    },
    {
     "name": "stdout",
     "output_type": "stream",
     "text": [
      "Total number of generated modes is  10\n",
      "The number of high quality samples among 2500 samples is 78\n",
      "The mode dictionary is Counter({17: 22, 12: 14, 13: 13, 7: 11, 11: 10, 18: 2, 16: 2, 8: 2, 14: 1, 6: 1})\n"
     ]
    },
    {
     "name": "stderr",
     "output_type": "stream",
     "text": [
      "100%|██████████| 25/25 [00:00<00:00, 49.18it/s]\n"
     ]
    },
    {
     "name": "stdout",
     "output_type": "stream",
     "text": [
      "spent time for epoch 70 is 0.5143272876739502s\n",
      "epoch # : 70 gamma : 0.5 gen loss : 1.3809313774108887\n"
     ]
    },
    {
     "name": "stderr",
     "output_type": "stream",
     "text": [
      " 20%|██        | 5/25 [00:00<00:00, 49.36it/s]"
     ]
    },
    {
     "name": "stdout",
     "output_type": "stream",
     "text": [
      "Total number of generated modes is  11\n",
      "The number of high quality samples among 2500 samples is 57\n",
      "The mode dictionary is Counter({13: 13, 7: 9, 8: 7, 12: 7, 17: 7, 11: 4, 6: 4, 16: 2, 10: 2, 21: 1, 18: 1})\n"
     ]
    },
    {
     "name": "stderr",
     "output_type": "stream",
     "text": [
      "100%|██████████| 25/25 [00:00<00:00, 48.94it/s]\n"
     ]
    },
    {
     "name": "stdout",
     "output_type": "stream",
     "text": [
      "spent time for epoch 71 is 0.5166311264038086s\n",
      "epoch # : 71 gamma : 0.5 gen loss : 1.3488361835479736\n"
     ]
    },
    {
     "name": "stderr",
     "output_type": "stream",
     "text": [
      " 20%|██        | 5/25 [00:00<00:00, 48.90it/s]"
     ]
    },
    {
     "name": "stdout",
     "output_type": "stream",
     "text": [
      "Total number of generated modes is  10\n",
      "The number of high quality samples among 2500 samples is 94\n",
      "The mode dictionary is Counter({13: 24, 7: 15, 17: 13, 11: 12, 12: 7, 6: 6, 18: 6, 8: 5, 16: 3, 10: 3})\n"
     ]
    },
    {
     "name": "stderr",
     "output_type": "stream",
     "text": [
      "100%|██████████| 25/25 [00:00<00:00, 49.11it/s]\n"
     ]
    },
    {
     "name": "stdout",
     "output_type": "stream",
     "text": [
      "spent time for epoch 72 is 0.5146663188934326s\n",
      "epoch # : 72 gamma : 0.5 gen loss : 1.3355381488800049\n"
     ]
    },
    {
     "name": "stderr",
     "output_type": "stream",
     "text": [
      " 20%|██        | 5/25 [00:00<00:00, 49.36it/s]"
     ]
    },
    {
     "name": "stdout",
     "output_type": "stream",
     "text": [
      "Total number of generated modes is  12\n",
      "The number of high quality samples among 2500 samples is 90\n",
      "The mode dictionary is Counter({13: 25, 7: 18, 11: 17, 6: 7, 12: 7, 17: 5, 16: 3, 14: 3, 8: 2, 2: 1, 18: 1, 10: 1})\n"
     ]
    },
    {
     "name": "stderr",
     "output_type": "stream",
     "text": [
      "100%|██████████| 25/25 [00:00<00:00, 49.24it/s]\n"
     ]
    },
    {
     "name": "stdout",
     "output_type": "stream",
     "text": [
      "spent time for epoch 73 is 0.5136630535125732s\n",
      "epoch # : 73 gamma : 0.5 gen loss : 1.2670239210128784\n"
     ]
    },
    {
     "name": "stderr",
     "output_type": "stream",
     "text": [
      "  4%|▍         | 1/25 [00:00<00:03,  7.58it/s]"
     ]
    },
    {
     "name": "stdout",
     "output_type": "stream",
     "text": [
      "Total number of generated modes is  10\n",
      "The number of high quality samples among 2500 samples is 48\n",
      "The mode dictionary is Counter({13: 12, 11: 9, 17: 7, 6: 6, 7: 4, 12: 4, 8: 2, 18: 2, 10: 1, 16: 1})\n"
     ]
    },
    {
     "name": "stderr",
     "output_type": "stream",
     "text": [
      "100%|██████████| 25/25 [00:00<00:00, 44.02it/s]\n"
     ]
    },
    {
     "name": "stdout",
     "output_type": "stream",
     "text": [
      "spent time for epoch 74 is 0.5738894939422607s\n",
      "epoch # : 74 gamma : 0.5 gen loss : 1.388816237449646\n"
     ]
    },
    {
     "name": "stderr",
     "output_type": "stream",
     "text": [
      " 20%|██        | 5/25 [00:00<00:00, 48.36it/s]"
     ]
    },
    {
     "name": "stdout",
     "output_type": "stream",
     "text": [
      "Total number of generated modes is  11\n",
      "The number of high quality samples among 2500 samples is 104\n",
      "The mode dictionary is Counter({7: 26, 17: 20, 12: 13, 11: 13, 13: 8, 6: 7, 8: 5, 16: 4, 10: 4, 22: 2, 18: 2})\n"
     ]
    },
    {
     "name": "stderr",
     "output_type": "stream",
     "text": [
      "100%|██████████| 25/25 [00:00<00:00, 48.62it/s]\n"
     ]
    },
    {
     "name": "stdout",
     "output_type": "stream",
     "text": [
      "spent time for epoch 75 is 0.5198729038238525s\n",
      "epoch # : 75 gamma : 0.5 gen loss : 1.3159606456756592\n"
     ]
    },
    {
     "name": "stderr",
     "output_type": "stream",
     "text": [
      " 20%|██        | 5/25 [00:00<00:00, 48.99it/s]"
     ]
    },
    {
     "name": "stdout",
     "output_type": "stream",
     "text": [
      "Total number of generated modes is  11\n",
      "The number of high quality samples among 2500 samples is 92\n",
      "The mode dictionary is Counter({7: 19, 11: 18, 13: 18, 12: 11, 17: 8, 18: 5, 6: 5, 2: 3, 22: 2, 16: 2, 8: 1})\n"
     ]
    },
    {
     "name": "stderr",
     "output_type": "stream",
     "text": [
      "100%|██████████| 25/25 [00:00<00:00, 48.51it/s]\n"
     ]
    },
    {
     "name": "stdout",
     "output_type": "stream",
     "text": [
      "spent time for epoch 76 is 0.5212218761444092s\n",
      "epoch # : 76 gamma : 0.5 gen loss : 1.300079345703125\n"
     ]
    },
    {
     "name": "stderr",
     "output_type": "stream",
     "text": [
      " 20%|██        | 5/25 [00:00<00:00, 48.74it/s]"
     ]
    },
    {
     "name": "stdout",
     "output_type": "stream",
     "text": [
      "Total number of generated modes is  11\n",
      "The number of high quality samples among 2500 samples is 72\n",
      "The mode dictionary is Counter({11: 14, 7: 13, 13: 11, 12: 10, 17: 9, 6: 5, 8: 3, 10: 2, 22: 2, 18: 2, 2: 1})\n"
     ]
    },
    {
     "name": "stderr",
     "output_type": "stream",
     "text": [
      "100%|██████████| 25/25 [00:00<00:00, 48.98it/s]\n"
     ]
    },
    {
     "name": "stdout",
     "output_type": "stream",
     "text": [
      "spent time for epoch 77 is 0.5173513889312744s\n",
      "epoch # : 77 gamma : 0.5 gen loss : 1.305080533027649\n"
     ]
    },
    {
     "name": "stderr",
     "output_type": "stream",
     "text": [
      " 20%|██        | 5/25 [00:00<00:00, 48.10it/s]"
     ]
    },
    {
     "name": "stdout",
     "output_type": "stream",
     "text": [
      "Total number of generated modes is  11\n",
      "The number of high quality samples among 2500 samples is 69\n",
      "The mode dictionary is Counter({13: 11, 12: 10, 17: 9, 7: 9, 11: 9, 10: 6, 6: 5, 16: 4, 2: 2, 8: 2, 18: 2})\n"
     ]
    },
    {
     "name": "stderr",
     "output_type": "stream",
     "text": [
      "100%|██████████| 25/25 [00:00<00:00, 48.27it/s]\n"
     ]
    },
    {
     "name": "stdout",
     "output_type": "stream",
     "text": [
      "spent time for epoch 78 is 0.523745059967041s\n",
      "epoch # : 78 gamma : 0.5 gen loss : 1.3097072839736938\n"
     ]
    },
    {
     "name": "stderr",
     "output_type": "stream",
     "text": [
      " 20%|██        | 5/25 [00:00<00:00, 49.61it/s]"
     ]
    },
    {
     "name": "stdout",
     "output_type": "stream",
     "text": [
      "Total number of generated modes is  13\n",
      "The number of high quality samples among 2500 samples is 127\n",
      "The mode dictionary is Counter({7: 37, 12: 19, 13: 16, 17: 14, 11: 10, 6: 7, 8: 7, 16: 5, 18: 4, 10: 4, 21: 2, 22: 1, 15: 1})\n"
     ]
    },
    {
     "name": "stderr",
     "output_type": "stream",
     "text": [
      "100%|██████████| 25/25 [00:00<00:00, 46.25it/s]\n"
     ]
    },
    {
     "name": "stdout",
     "output_type": "stream",
     "text": [
      "spent time for epoch 79 is 0.546644926071167s\n",
      "epoch # : 79 gamma : 0.5 gen loss : 1.3468661308288574\n"
     ]
    },
    {
     "name": "stderr",
     "output_type": "stream",
     "text": [
      " 20%|██        | 5/25 [00:00<00:00, 49.74it/s]"
     ]
    },
    {
     "name": "stdout",
     "output_type": "stream",
     "text": [
      "Total number of generated modes is  11\n",
      "The number of high quality samples among 2500 samples is 80\n",
      "The mode dictionary is Counter({7: 14, 17: 14, 13: 12, 11: 10, 8: 6, 6: 6, 12: 5, 22: 5, 16: 3, 14: 3, 18: 2})\n"
     ]
    },
    {
     "name": "stderr",
     "output_type": "stream",
     "text": [
      "100%|██████████| 25/25 [00:00<00:00, 49.19it/s]\n"
     ]
    },
    {
     "name": "stdout",
     "output_type": "stream",
     "text": [
      "spent time for epoch 80 is 0.5141973495483398s\n",
      "epoch # : 80 gamma : 0.5 gen loss : 1.260406494140625\n"
     ]
    },
    {
     "name": "stderr",
     "output_type": "stream",
     "text": [
      " 20%|██        | 5/25 [00:00<00:00, 48.03it/s]"
     ]
    },
    {
     "name": "stdout",
     "output_type": "stream",
     "text": [
      "Total number of generated modes is  14\n",
      "The number of high quality samples among 2500 samples is 74\n",
      "The mode dictionary is Counter({11: 13, 13: 10, 17: 9, 2: 7, 12: 7, 18: 6, 8: 5, 6: 5, 10: 5, 7: 3, 16: 1, 14: 1, 21: 1, 15: 1})\n"
     ]
    },
    {
     "name": "stderr",
     "output_type": "stream",
     "text": [
      "100%|██████████| 25/25 [00:00<00:00, 48.90it/s]\n"
     ]
    },
    {
     "name": "stdout",
     "output_type": "stream",
     "text": [
      "spent time for epoch 81 is 0.5170009136199951s\n",
      "epoch # : 81 gamma : 0.5 gen loss : 1.3275823593139648\n"
     ]
    },
    {
     "name": "stderr",
     "output_type": "stream",
     "text": [
      " 20%|██        | 5/25 [00:00<00:00, 47.96it/s]"
     ]
    },
    {
     "name": "stdout",
     "output_type": "stream",
     "text": [
      "Total number of generated modes is  12\n",
      "The number of high quality samples among 2500 samples is 59\n",
      "The mode dictionary is Counter({13: 12, 12: 10, 11: 8, 16: 6, 18: 5, 7: 5, 2: 4, 17: 4, 6: 2, 21: 1, 14: 1, 8: 1})\n"
     ]
    },
    {
     "name": "stderr",
     "output_type": "stream",
     "text": [
      "100%|██████████| 25/25 [00:00<00:00, 48.24it/s]\n"
     ]
    },
    {
     "name": "stdout",
     "output_type": "stream",
     "text": [
      "spent time for epoch 82 is 0.5242507457733154s\n",
      "epoch # : 82 gamma : 0.5 gen loss : 1.3048248291015625\n"
     ]
    },
    {
     "name": "stderr",
     "output_type": "stream",
     "text": [
      " 20%|██        | 5/25 [00:00<00:00, 48.44it/s]"
     ]
    },
    {
     "name": "stdout",
     "output_type": "stream",
     "text": [
      "Total number of generated modes is  11\n",
      "The number of high quality samples among 2500 samples is 87\n",
      "The mode dictionary is Counter({7: 18, 11: 13, 17: 12, 12: 10, 6: 8, 18: 8, 22: 6, 10: 4, 13: 3, 8: 3, 16: 2})\n"
     ]
    },
    {
     "name": "stderr",
     "output_type": "stream",
     "text": [
      "100%|██████████| 25/25 [00:00<00:00, 47.28it/s]\n"
     ]
    },
    {
     "name": "stdout",
     "output_type": "stream",
     "text": [
      "spent time for epoch 83 is 0.534764289855957s\n",
      "epoch # : 83 gamma : 0.5 gen loss : 1.3142999410629272\n"
     ]
    },
    {
     "name": "stderr",
     "output_type": "stream",
     "text": [
      " 20%|██        | 5/25 [00:00<00:00, 49.76it/s]"
     ]
    },
    {
     "name": "stdout",
     "output_type": "stream",
     "text": [
      "Total number of generated modes is  14\n",
      "The number of high quality samples among 2500 samples is 85\n",
      "The mode dictionary is Counter({7: 19, 12: 16, 17: 12, 13: 9, 11: 9, 6: 4, 10: 4, 2: 3, 18: 3, 22: 2, 8: 1, 21: 1, 16: 1, 15: 1})\n"
     ]
    },
    {
     "name": "stderr",
     "output_type": "stream",
     "text": [
      "100%|██████████| 25/25 [00:00<00:00, 47.87it/s]\n"
     ]
    },
    {
     "name": "stdout",
     "output_type": "stream",
     "text": [
      "spent time for epoch 84 is 0.5281012058258057s\n",
      "epoch # : 84 gamma : 0.5 gen loss : 1.2910205125808716\n"
     ]
    },
    {
     "name": "stderr",
     "output_type": "stream",
     "text": [
      "  4%|▍         | 1/25 [00:00<00:03,  7.58it/s]"
     ]
    },
    {
     "name": "stdout",
     "output_type": "stream",
     "text": [
      "Total number of generated modes is  13\n",
      "The number of high quality samples among 2500 samples is 53\n",
      "The mode dictionary is Counter({13: 14, 12: 9, 16: 6, 6: 4, 8: 4, 2: 3, 18: 3, 17: 3, 11: 2, 22: 2, 21: 1, 7: 1, 14: 1})\n"
     ]
    },
    {
     "name": "stderr",
     "output_type": "stream",
     "text": [
      "100%|██████████| 25/25 [00:00<00:00, 44.13it/s]\n"
     ]
    },
    {
     "name": "stdout",
     "output_type": "stream",
     "text": [
      "spent time for epoch 85 is 0.5723004341125488s\n",
      "epoch # : 85 gamma : 0.5 gen loss : 1.2438641786575317\n"
     ]
    },
    {
     "name": "stderr",
     "output_type": "stream",
     "text": [
      " 20%|██        | 5/25 [00:00<00:00, 47.37it/s]"
     ]
    },
    {
     "name": "stdout",
     "output_type": "stream",
     "text": [
      "Total number of generated modes is  13\n",
      "The number of high quality samples among 2500 samples is 72\n",
      "The mode dictionary is Counter({11: 22, 12: 12, 13: 9, 17: 7, 2: 5, 10: 4, 22: 3, 8: 3, 18: 2, 6: 2, 16: 1, 14: 1, 7: 1})\n"
     ]
    },
    {
     "name": "stderr",
     "output_type": "stream",
     "text": [
      "100%|██████████| 25/25 [00:00<00:00, 47.74it/s]\n"
     ]
    },
    {
     "name": "stdout",
     "output_type": "stream",
     "text": [
      "spent time for epoch 86 is 0.5295414924621582s\n",
      "epoch # : 86 gamma : 0.5 gen loss : 1.3067981004714966\n"
     ]
    },
    {
     "name": "stderr",
     "output_type": "stream",
     "text": [
      " 20%|██        | 5/25 [00:00<00:00, 48.25it/s]"
     ]
    },
    {
     "name": "stdout",
     "output_type": "stream",
     "text": [
      "Total number of generated modes is  12\n",
      "The number of high quality samples among 2500 samples is 82\n",
      "The mode dictionary is Counter({13: 16, 7: 14, 17: 11, 12: 9, 11: 9, 10: 5, 2: 4, 18: 4, 6: 4, 16: 2, 8: 2, 15: 2})\n"
     ]
    },
    {
     "name": "stderr",
     "output_type": "stream",
     "text": [
      "100%|██████████| 25/25 [00:00<00:00, 47.13it/s]\n"
     ]
    },
    {
     "name": "stdout",
     "output_type": "stream",
     "text": [
      "spent time for epoch 87 is 0.5361483097076416s\n",
      "epoch # : 87 gamma : 0.5 gen loss : 1.2684277296066284\n"
     ]
    },
    {
     "name": "stderr",
     "output_type": "stream",
     "text": [
      " 20%|██        | 5/25 [00:00<00:00, 48.18it/s]"
     ]
    },
    {
     "name": "stdout",
     "output_type": "stream",
     "text": [
      "Total number of generated modes is  12\n",
      "The number of high quality samples among 2500 samples is 75\n",
      "The mode dictionary is Counter({11: 12, 17: 12, 13: 10, 7: 9, 22: 7, 2: 5, 6: 5, 12: 4, 8: 4, 18: 4, 16: 2, 14: 1})\n"
     ]
    },
    {
     "name": "stderr",
     "output_type": "stream",
     "text": [
      "100%|██████████| 25/25 [00:00<00:00, 48.22it/s]\n"
     ]
    },
    {
     "name": "stdout",
     "output_type": "stream",
     "text": [
      "spent time for epoch 88 is 0.5242774486541748s\n",
      "epoch # : 88 gamma : 0.5 gen loss : 1.1937808990478516\n"
     ]
    },
    {
     "name": "stderr",
     "output_type": "stream",
     "text": [
      " 20%|██        | 5/25 [00:00<00:00, 48.36it/s]"
     ]
    },
    {
     "name": "stdout",
     "output_type": "stream",
     "text": [
      "Total number of generated modes is  13\n",
      "The number of high quality samples among 2500 samples is 71\n",
      "The mode dictionary is Counter({7: 14, 11: 11, 17: 8, 13: 8, 12: 6, 2: 6, 8: 6, 6: 4, 10: 2, 22: 2, 14: 2, 18: 1, 16: 1})\n"
     ]
    },
    {
     "name": "stderr",
     "output_type": "stream",
     "text": [
      "100%|██████████| 25/25 [00:00<00:00, 48.95it/s]\n"
     ]
    },
    {
     "name": "stdout",
     "output_type": "stream",
     "text": [
      "spent time for epoch 89 is 0.5169546604156494s\n",
      "epoch # : 89 gamma : 0.5 gen loss : 1.2765651941299438\n"
     ]
    },
    {
     "name": "stderr",
     "output_type": "stream",
     "text": [
      " 20%|██        | 5/25 [00:00<00:00, 48.28it/s]"
     ]
    },
    {
     "name": "stdout",
     "output_type": "stream",
     "text": [
      "Total number of generated modes is  12\n",
      "The number of high quality samples among 2500 samples is 61\n",
      "The mode dictionary is Counter({17: 11, 12: 9, 13: 9, 14: 7, 2: 7, 22: 5, 8: 3, 16: 3, 18: 2, 11: 2, 7: 2, 6: 1})\n"
     ]
    },
    {
     "name": "stderr",
     "output_type": "stream",
     "text": [
      "100%|██████████| 25/25 [00:00<00:00, 47.79it/s]\n"
     ]
    },
    {
     "name": "stdout",
     "output_type": "stream",
     "text": [
      "spent time for epoch 90 is 0.528843879699707s\n",
      "epoch # : 90 gamma : 0.5 gen loss : 1.2689590454101562\n"
     ]
    },
    {
     "name": "stderr",
     "output_type": "stream",
     "text": [
      " 20%|██        | 5/25 [00:00<00:00, 49.50it/s]"
     ]
    },
    {
     "name": "stdout",
     "output_type": "stream",
     "text": [
      "Total number of generated modes is  12\n",
      "The number of high quality samples among 2500 samples is 66\n",
      "The mode dictionary is Counter({11: 22, 12: 9, 13: 7, 7: 7, 17: 5, 6: 4, 10: 4, 22: 2, 16: 2, 8: 2, 14: 1, 9: 1})\n"
     ]
    },
    {
     "name": "stderr",
     "output_type": "stream",
     "text": [
      "100%|██████████| 25/25 [00:00<00:00, 47.54it/s]\n"
     ]
    },
    {
     "name": "stdout",
     "output_type": "stream",
     "text": [
      "spent time for epoch 91 is 0.5314409732818604s\n",
      "epoch # : 91 gamma : 0.5 gen loss : 1.2217271327972412\n"
     ]
    },
    {
     "name": "stderr",
     "output_type": "stream",
     "text": [
      " 20%|██        | 5/25 [00:00<00:00, 49.00it/s]"
     ]
    },
    {
     "name": "stdout",
     "output_type": "stream",
     "text": [
      "Total number of generated modes is  14\n",
      "The number of high quality samples among 2500 samples is 74\n",
      "The mode dictionary is Counter({11: 18, 12: 11, 17: 7, 2: 7, 6: 6, 18: 5, 10: 4, 21: 3, 8: 3, 22: 3, 13: 2, 16: 2, 15: 2, 7: 1})\n"
     ]
    },
    {
     "name": "stderr",
     "output_type": "stream",
     "text": [
      "100%|██████████| 25/25 [00:00<00:00, 49.43it/s]\n"
     ]
    },
    {
     "name": "stdout",
     "output_type": "stream",
     "text": [
      "spent time for epoch 92 is 0.5116333961486816s\n",
      "epoch # : 92 gamma : 0.5 gen loss : 1.2322148084640503\n"
     ]
    },
    {
     "name": "stderr",
     "output_type": "stream",
     "text": [
      " 20%|██        | 5/25 [00:00<00:00, 49.71it/s]"
     ]
    },
    {
     "name": "stdout",
     "output_type": "stream",
     "text": [
      "Total number of generated modes is  11\n",
      "The number of high quality samples among 2500 samples is 77\n",
      "The mode dictionary is Counter({7: 22, 13: 15, 11: 8, 6: 6, 17: 5, 18: 5, 12: 4, 14: 4, 16: 3, 8: 3, 10: 2})\n"
     ]
    },
    {
     "name": "stderr",
     "output_type": "stream",
     "text": [
      "100%|██████████| 25/25 [00:00<00:00, 49.41it/s]\n"
     ]
    },
    {
     "name": "stdout",
     "output_type": "stream",
     "text": [
      "spent time for epoch 93 is 0.5119273662567139s\n",
      "epoch # : 93 gamma : 0.5 gen loss : 1.220852017402649\n"
     ]
    },
    {
     "name": "stderr",
     "output_type": "stream",
     "text": [
      " 20%|██        | 5/25 [00:00<00:00, 48.97it/s]"
     ]
    },
    {
     "name": "stdout",
     "output_type": "stream",
     "text": [
      "Total number of generated modes is  12\n",
      "The number of high quality samples among 2500 samples is 80\n",
      "The mode dictionary is Counter({11: 16, 12: 12, 7: 12, 16: 7, 6: 7, 13: 7, 2: 5, 8: 4, 18: 3, 17: 3, 10: 3, 9: 1})\n"
     ]
    },
    {
     "name": "stderr",
     "output_type": "stream",
     "text": [
      "100%|██████████| 25/25 [00:00<00:00, 48.60it/s]\n"
     ]
    },
    {
     "name": "stdout",
     "output_type": "stream",
     "text": [
      "spent time for epoch 94 is 0.5202744007110596s\n",
      "epoch # : 94 gamma : 0.5 gen loss : 1.251358151435852\n"
     ]
    },
    {
     "name": "stderr",
     "output_type": "stream",
     "text": [
      " 20%|██        | 5/25 [00:00<00:00, 48.98it/s]"
     ]
    },
    {
     "name": "stdout",
     "output_type": "stream",
     "text": [
      "Total number of generated modes is  13\n",
      "The number of high quality samples among 2500 samples is 57\n",
      "The mode dictionary is Counter({7: 14, 11: 12, 14: 5, 18: 5, 12: 5, 17: 4, 8: 3, 6: 2, 22: 2, 16: 2, 10: 1, 21: 1, 13: 1})\n"
     ]
    },
    {
     "name": "stderr",
     "output_type": "stream",
     "text": [
      "100%|██████████| 25/25 [00:00<00:00, 46.95it/s]\n"
     ]
    },
    {
     "name": "stdout",
     "output_type": "stream",
     "text": [
      "spent time for epoch 95 is 0.538081169128418s\n",
      "epoch # : 95 gamma : 0.5 gen loss : 1.2629203796386719\n"
     ]
    },
    {
     "name": "stderr",
     "output_type": "stream",
     "text": [
      "  4%|▍         | 1/25 [00:00<00:03,  7.57it/s]"
     ]
    },
    {
     "name": "stdout",
     "output_type": "stream",
     "text": [
      "Total number of generated modes is  13\n",
      "The number of high quality samples among 2500 samples is 62\n",
      "The mode dictionary is Counter({12: 9, 13: 9, 11: 8, 2: 7, 17: 6, 18: 5, 14: 4, 8: 4, 22: 3, 7: 3, 6: 2, 16: 1, 21: 1})\n"
     ]
    },
    {
     "name": "stderr",
     "output_type": "stream",
     "text": [
      "100%|██████████| 25/25 [00:00<00:00, 43.47it/s]\n"
     ]
    },
    {
     "name": "stdout",
     "output_type": "stream",
     "text": [
      "spent time for epoch 96 is 0.5808770656585693s\n",
      "epoch # : 96 gamma : 0.5 gen loss : 1.219130039215088\n"
     ]
    },
    {
     "name": "stderr",
     "output_type": "stream",
     "text": [
      " 20%|██        | 5/25 [00:00<00:00, 49.08it/s]"
     ]
    },
    {
     "name": "stdout",
     "output_type": "stream",
     "text": [
      "Total number of generated modes is  15\n",
      "The number of high quality samples among 2500 samples is 89\n",
      "The mode dictionary is Counter({7: 16, 12: 13, 11: 12, 17: 11, 8: 8, 21: 4, 6: 4, 10: 4, 18: 3, 22: 3, 14: 3, 16: 2, 13: 2, 15: 2, 2: 2})\n"
     ]
    },
    {
     "name": "stderr",
     "output_type": "stream",
     "text": [
      "100%|██████████| 25/25 [00:00<00:00, 48.65it/s]\n"
     ]
    },
    {
     "name": "stdout",
     "output_type": "stream",
     "text": [
      "spent time for epoch 97 is 0.5196373462677002s\n",
      "epoch # : 97 gamma : 0.5 gen loss : 1.26960027217865\n"
     ]
    },
    {
     "name": "stderr",
     "output_type": "stream",
     "text": [
      " 20%|██        | 5/25 [00:00<00:00, 48.25it/s]"
     ]
    },
    {
     "name": "stdout",
     "output_type": "stream",
     "text": [
      "Total number of generated modes is  14\n",
      "The number of high quality samples among 2500 samples is 82\n",
      "The mode dictionary is Counter({12: 17, 7: 14, 22: 10, 11: 9, 8: 8, 13: 6, 17: 6, 14: 3, 2: 2, 10: 2, 18: 2, 6: 1, 21: 1, 3: 1})\n"
     ]
    },
    {
     "name": "stderr",
     "output_type": "stream",
     "text": [
      "100%|██████████| 25/25 [00:00<00:00, 46.61it/s]\n"
     ]
    },
    {
     "name": "stdout",
     "output_type": "stream",
     "text": [
      "spent time for epoch 98 is 0.5421302318572998s\n",
      "epoch # : 98 gamma : 0.5 gen loss : 1.2798439264297485\n"
     ]
    },
    {
     "name": "stderr",
     "output_type": "stream",
     "text": [
      " 20%|██        | 5/25 [00:00<00:00, 48.65it/s]"
     ]
    },
    {
     "name": "stdout",
     "output_type": "stream",
     "text": [
      "Total number of generated modes is  12\n",
      "The number of high quality samples among 2500 samples is 76\n",
      "The mode dictionary is Counter({7: 20, 12: 11, 5: 9, 11: 8, 14: 6, 17: 6, 8: 4, 22: 4, 6: 3, 13: 3, 2: 1, 16: 1})\n"
     ]
    },
    {
     "name": "stderr",
     "output_type": "stream",
     "text": [
      "100%|██████████| 25/25 [00:00<00:00, 47.27it/s]\n"
     ]
    },
    {
     "name": "stdout",
     "output_type": "stream",
     "text": [
      "spent time for epoch 99 is 0.5347616672515869s\n",
      "epoch # : 99 gamma : 0.5 gen loss : 1.2432814836502075\n"
     ]
    },
    {
     "name": "stderr",
     "output_type": "stream",
     "text": [
      " 20%|██        | 5/25 [00:00<00:00, 48.53it/s]"
     ]
    },
    {
     "name": "stdout",
     "output_type": "stream",
     "text": [
      "Total number of generated modes is  15\n",
      "The number of high quality samples among 2500 samples is 83\n",
      "The mode dictionary is Counter({7: 12, 13: 10, 10: 8, 11: 8, 6: 7, 15: 6, 14: 5, 22: 5, 21: 4, 2: 4, 18: 4, 12: 3, 8: 3, 17: 3, 16: 1})\n"
     ]
    },
    {
     "name": "stderr",
     "output_type": "stream",
     "text": [
      "100%|██████████| 25/25 [00:00<00:00, 48.13it/s]\n"
     ]
    },
    {
     "name": "stdout",
     "output_type": "stream",
     "text": [
      "spent time for epoch 100 is 0.5252470970153809s\n",
      "epoch # : 100 gamma : 0.5 gen loss : 1.1972248554229736\n"
     ]
    },
    {
     "name": "stderr",
     "output_type": "stream",
     "text": [
      " 20%|██        | 5/25 [00:00<00:00, 47.94it/s]"
     ]
    },
    {
     "name": "stdout",
     "output_type": "stream",
     "text": [
      "Total number of generated modes is  12\n",
      "The number of high quality samples among 2500 samples is 63\n",
      "The mode dictionary is Counter({17: 10, 7: 9, 11: 9, 8: 9, 18: 6, 13: 6, 12: 4, 2: 4, 3: 3, 14: 1, 22: 1, 21: 1})\n"
     ]
    },
    {
     "name": "stderr",
     "output_type": "stream",
     "text": [
      "100%|██████████| 25/25 [00:00<00:00, 47.94it/s]\n"
     ]
    },
    {
     "name": "stdout",
     "output_type": "stream",
     "text": [
      "spent time for epoch 101 is 0.5273184776306152s\n",
      "epoch # : 101 gamma : 0.5 gen loss : 1.2621318101882935\n"
     ]
    },
    {
     "name": "stderr",
     "output_type": "stream",
     "text": [
      " 20%|██        | 5/25 [00:00<00:00, 48.17it/s]"
     ]
    },
    {
     "name": "stdout",
     "output_type": "stream",
     "text": [
      "Total number of generated modes is  14\n",
      "The number of high quality samples among 2500 samples is 76\n",
      "The mode dictionary is Counter({7: 17, 11: 11, 12: 10, 17: 8, 2: 6, 8: 5, 21: 4, 14: 3, 10: 3, 16: 3, 13: 3, 18: 1, 22: 1, 6: 1})\n"
     ]
    },
    {
     "name": "stderr",
     "output_type": "stream",
     "text": [
      "100%|██████████| 25/25 [00:00<00:00, 48.17it/s]\n"
     ]
    },
    {
     "name": "stdout",
     "output_type": "stream",
     "text": [
      "spent time for epoch 102 is 0.5250160694122314s\n",
      "epoch # : 102 gamma : 0.5 gen loss : 1.1721587181091309\n"
     ]
    },
    {
     "name": "stderr",
     "output_type": "stream",
     "text": [
      " 20%|██        | 5/25 [00:00<00:00, 48.56it/s]"
     ]
    },
    {
     "name": "stdout",
     "output_type": "stream",
     "text": [
      "Total number of generated modes is  12\n",
      "The number of high quality samples among 2500 samples is 76\n",
      "The mode dictionary is Counter({7: 14, 12: 12, 6: 11, 17: 6, 13: 6, 11: 6, 14: 5, 18: 4, 8: 4, 10: 3, 16: 3, 2: 2})\n"
     ]
    },
    {
     "name": "stderr",
     "output_type": "stream",
     "text": [
      "100%|██████████| 25/25 [00:00<00:00, 47.83it/s]\n"
     ]
    },
    {
     "name": "stdout",
     "output_type": "stream",
     "text": [
      "spent time for epoch 103 is 0.5286109447479248s\n",
      "epoch # : 103 gamma : 0.5 gen loss : 1.1913437843322754\n"
     ]
    },
    {
     "name": "stderr",
     "output_type": "stream",
     "text": [
      " 20%|██        | 5/25 [00:00<00:00, 48.93it/s]"
     ]
    },
    {
     "name": "stdout",
     "output_type": "stream",
     "text": [
      "Total number of generated modes is  12\n",
      "The number of high quality samples among 2500 samples is 84\n",
      "The mode dictionary is Counter({11: 19, 16: 15, 12: 11, 6: 10, 2: 9, 17: 7, 8: 4, 7: 4, 13: 2, 14: 1, 18: 1, 22: 1})\n"
     ]
    },
    {
     "name": "stderr",
     "output_type": "stream",
     "text": [
      "100%|██████████| 25/25 [00:00<00:00, 48.79it/s]\n"
     ]
    },
    {
     "name": "stdout",
     "output_type": "stream",
     "text": [
      "spent time for epoch 104 is 0.518033504486084s\n",
      "epoch # : 104 gamma : 0.5 gen loss : 1.18595552444458\n"
     ]
    },
    {
     "name": "stderr",
     "output_type": "stream",
     "text": [
      " 20%|██        | 5/25 [00:00<00:00, 48.75it/s]"
     ]
    },
    {
     "name": "stdout",
     "output_type": "stream",
     "text": [
      "Total number of generated modes is  15\n",
      "The number of high quality samples among 2500 samples is 73\n",
      "The mode dictionary is Counter({7: 12, 11: 9, 1: 9, 8: 8, 6: 7, 12: 6, 13: 5, 16: 5, 19: 3, 18: 2, 14: 2, 22: 2, 21: 1, 10: 1, 2: 1})\n"
     ]
    },
    {
     "name": "stderr",
     "output_type": "stream",
     "text": [
      "100%|██████████| 25/25 [00:00<00:00, 48.33it/s]\n"
     ]
    },
    {
     "name": "stdout",
     "output_type": "stream",
     "text": [
      "spent time for epoch 105 is 0.5229268074035645s\n",
      "epoch # : 105 gamma : 0.5 gen loss : 1.2183958292007446\n"
     ]
    },
    {
     "name": "stderr",
     "output_type": "stream",
     "text": [
      " 20%|██        | 5/25 [00:00<00:00, 48.61it/s]"
     ]
    },
    {
     "name": "stdout",
     "output_type": "stream",
     "text": [
      "Total number of generated modes is  14\n",
      "The number of high quality samples among 2500 samples is 72\n",
      "The mode dictionary is Counter({11: 12, 7: 10, 10: 9, 16: 9, 6: 8, 13: 5, 17: 4, 2: 4, 12: 3, 15: 3, 18: 2, 8: 1, 22: 1, 21: 1})\n"
     ]
    },
    {
     "name": "stderr",
     "output_type": "stream",
     "text": [
      "100%|██████████| 25/25 [00:00<00:00, 48.78it/s]\n"
     ]
    },
    {
     "name": "stdout",
     "output_type": "stream",
     "text": [
      "spent time for epoch 106 is 0.5180964469909668s\n",
      "epoch # : 106 gamma : 0.5 gen loss : 1.1363716125488281\n"
     ]
    },
    {
     "name": "stderr",
     "output_type": "stream",
     "text": [
      "  4%|▍         | 1/25 [00:00<00:03,  7.50it/s]"
     ]
    },
    {
     "name": "stdout",
     "output_type": "stream",
     "text": [
      "Total number of generated modes is  16\n",
      "The number of high quality samples among 2500 samples is 94\n",
      "The mode dictionary is Counter({7: 19, 11: 11, 13: 11, 2: 8, 12: 7, 8: 6, 14: 6, 10: 5, 6: 4, 22: 3, 5: 3, 18: 3, 16: 3, 17: 3, 19: 1, 21: 1})\n"
     ]
    },
    {
     "name": "stderr",
     "output_type": "stream",
     "text": [
      "100%|██████████| 25/25 [00:00<00:00, 43.42it/s]\n"
     ]
    },
    {
     "name": "stdout",
     "output_type": "stream",
     "text": [
      "spent time for epoch 107 is 0.5815527439117432s\n",
      "epoch # : 107 gamma : 0.5 gen loss : 1.1924453973770142\n"
     ]
    },
    {
     "name": "stderr",
     "output_type": "stream",
     "text": [
      " 20%|██        | 5/25 [00:00<00:00, 47.72it/s]"
     ]
    },
    {
     "name": "stdout",
     "output_type": "stream",
     "text": [
      "Total number of generated modes is  17\n",
      "The number of high quality samples among 2500 samples is 110\n",
      "The mode dictionary is Counter({13: 18, 7: 18, 12: 16, 11: 12, 17: 8, 10: 7, 6: 6, 2: 5, 5: 4, 1: 4, 15: 3, 8: 3, 21: 2, 22: 1, 14: 1, 18: 1, 16: 1})\n"
     ]
    },
    {
     "name": "stderr",
     "output_type": "stream",
     "text": [
      "100%|██████████| 25/25 [00:00<00:00, 48.46it/s]\n"
     ]
    },
    {
     "name": "stdout",
     "output_type": "stream",
     "text": [
      "spent time for epoch 108 is 0.521895170211792s\n",
      "epoch # : 108 gamma : 0.5 gen loss : 1.2038848400115967\n"
     ]
    },
    {
     "name": "stderr",
     "output_type": "stream",
     "text": [
      " 20%|██        | 5/25 [00:00<00:00, 48.75it/s]"
     ]
    },
    {
     "name": "stdout",
     "output_type": "stream",
     "text": [
      "Total number of generated modes is  14\n",
      "The number of high quality samples among 2500 samples is 93\n",
      "The mode dictionary is Counter({7: 18, 11: 17, 8: 8, 2: 8, 13: 7, 17: 6, 18: 5, 16: 5, 12: 5, 6: 4, 14: 3, 10: 3, 15: 2, 22: 2})\n"
     ]
    },
    {
     "name": "stderr",
     "output_type": "stream",
     "text": [
      "100%|██████████| 25/25 [00:00<00:00, 47.67it/s]\n"
     ]
    },
    {
     "name": "stdout",
     "output_type": "stream",
     "text": [
      "spent time for epoch 109 is 0.5303301811218262s\n",
      "epoch # : 109 gamma : 0.5 gen loss : 1.1521737575531006\n"
     ]
    },
    {
     "name": "stderr",
     "output_type": "stream",
     "text": [
      " 16%|█▌        | 4/25 [00:00<00:00, 39.06it/s]"
     ]
    },
    {
     "name": "stdout",
     "output_type": "stream",
     "text": [
      "Total number of generated modes is  16\n",
      "The number of high quality samples among 2500 samples is 68\n",
      "The mode dictionary is Counter({2: 8, 17: 8, 11: 8, 8: 7, 13: 7, 12: 6, 6: 5, 7: 4, 14: 3, 19: 2, 1: 2, 23: 2, 16: 2, 5: 2, 18: 1, 22: 1})\n"
     ]
    },
    {
     "name": "stderr",
     "output_type": "stream",
     "text": [
      "100%|██████████| 25/25 [00:00<00:00, 46.56it/s]\n"
     ]
    },
    {
     "name": "stdout",
     "output_type": "stream",
     "text": [
      "spent time for epoch 110 is 0.5427255630493164s\n",
      "epoch # : 110 gamma : 0.5 gen loss : 1.1671785116195679\n"
     ]
    },
    {
     "name": "stderr",
     "output_type": "stream",
     "text": [
      " 20%|██        | 5/25 [00:00<00:00, 48.51it/s]"
     ]
    },
    {
     "name": "stdout",
     "output_type": "stream",
     "text": [
      "Total number of generated modes is  18\n",
      "The number of high quality samples among 2500 samples is 73\n",
      "The mode dictionary is Counter({7: 15, 2: 9, 13: 6, 17: 5, 11: 5, 14: 4, 12: 4, 9: 4, 8: 4, 3: 3, 21: 3, 10: 2, 18: 2, 15: 2, 22: 2, 5: 1, 16: 1, 6: 1})\n"
     ]
    },
    {
     "name": "stderr",
     "output_type": "stream",
     "text": [
      "100%|██████████| 25/25 [00:00<00:00, 48.37it/s]\n"
     ]
    },
    {
     "name": "stdout",
     "output_type": "stream",
     "text": [
      "spent time for epoch 111 is 0.5225157737731934s\n",
      "epoch # : 111 gamma : 0.5 gen loss : 1.2248826026916504\n"
     ]
    },
    {
     "name": "stderr",
     "output_type": "stream",
     "text": [
      " 20%|██        | 5/25 [00:00<00:00, 49.54it/s]"
     ]
    },
    {
     "name": "stdout",
     "output_type": "stream",
     "text": [
      "Total number of generated modes is  16\n",
      "The number of high quality samples among 2500 samples is 80\n",
      "The mode dictionary is Counter({7: 15, 12: 8, 17: 7, 11: 7, 10: 7, 18: 6, 8: 6, 6: 5, 5: 4, 14: 3, 2: 3, 1: 3, 21: 2, 22: 2, 19: 1, 9: 1})\n"
     ]
    },
    {
     "name": "stderr",
     "output_type": "stream",
     "text": [
      "100%|██████████| 25/25 [00:00<00:00, 45.05it/s]\n"
     ]
    },
    {
     "name": "stdout",
     "output_type": "stream",
     "text": [
      "spent time for epoch 112 is 0.5606663227081299s\n",
      "epoch # : 112 gamma : 0.5 gen loss : 1.2198681831359863\n"
     ]
    },
    {
     "name": "stderr",
     "output_type": "stream",
     "text": [
      " 20%|██        | 5/25 [00:00<00:00, 48.49it/s]"
     ]
    },
    {
     "name": "stdout",
     "output_type": "stream",
     "text": [
      "Total number of generated modes is  18\n",
      "The number of high quality samples among 2500 samples is 76\n",
      "The mode dictionary is Counter({11: 12, 12: 8, 7: 7, 5: 6, 16: 6, 22: 5, 8: 5, 17: 4, 14: 4, 2: 3, 9: 3, 18: 3, 13: 3, 6: 2, 1: 2, 3: 1, 21: 1, 10: 1})\n"
     ]
    },
    {
     "name": "stderr",
     "output_type": "stream",
     "text": [
      "100%|██████████| 25/25 [00:00<00:00, 48.60it/s]\n"
     ]
    },
    {
     "name": "stdout",
     "output_type": "stream",
     "text": [
      "spent time for epoch 113 is 0.5202360153198242s\n",
      "epoch # : 113 gamma : 0.5 gen loss : 1.1356743574142456\n"
     ]
    },
    {
     "name": "stderr",
     "output_type": "stream",
     "text": [
      " 12%|█▏        | 3/25 [00:00<00:00, 29.36it/s]"
     ]
    },
    {
     "name": "stdout",
     "output_type": "stream",
     "text": [
      "Total number of generated modes is  14\n",
      "The number of high quality samples among 2500 samples is 50\n",
      "The mode dictionary is Counter({11: 12, 7: 8, 13: 7, 1: 4, 14: 3, 6: 3, 12: 2, 9: 2, 3: 2, 8: 2, 10: 2, 5: 1, 16: 1, 2: 1})\n"
     ]
    },
    {
     "name": "stderr",
     "output_type": "stream",
     "text": [
      "100%|██████████| 25/25 [00:00<00:00, 48.12it/s]\n"
     ]
    },
    {
     "name": "stdout",
     "output_type": "stream",
     "text": [
      "spent time for epoch 114 is 0.5251896381378174s\n",
      "epoch # : 114 gamma : 0.5 gen loss : 1.165761947631836\n"
     ]
    },
    {
     "name": "stderr",
     "output_type": "stream",
     "text": [
      " 20%|██        | 5/25 [00:00<00:00, 49.09it/s]"
     ]
    },
    {
     "name": "stdout",
     "output_type": "stream",
     "text": [
      "Total number of generated modes is  15\n",
      "The number of high quality samples among 2500 samples is 94\n",
      "The mode dictionary is Counter({11: 18, 6: 12, 13: 10, 2: 10, 14: 7, 12: 7, 7: 6, 5: 5, 8: 4, 18: 4, 21: 3, 17: 3, 1: 2, 10: 2, 22: 1})\n"
     ]
    },
    {
     "name": "stderr",
     "output_type": "stream",
     "text": [
      "100%|██████████| 25/25 [00:00<00:00, 49.77it/s]\n"
     ]
    },
    {
     "name": "stdout",
     "output_type": "stream",
     "text": [
      "spent time for epoch 115 is 0.5080966949462891s\n",
      "epoch # : 115 gamma : 0.5 gen loss : 1.2075937986373901\n"
     ]
    },
    {
     "name": "stderr",
     "output_type": "stream",
     "text": [
      " 20%|██        | 5/25 [00:00<00:00, 48.52it/s]"
     ]
    },
    {
     "name": "stdout",
     "output_type": "stream",
     "text": [
      "Total number of generated modes is  16\n",
      "The number of high quality samples among 2500 samples is 109\n",
      "The mode dictionary is Counter({7: 22, 10: 19, 11: 9, 12: 8, 5: 7, 16: 6, 2: 6, 13: 5, 8: 5, 15: 5, 18: 4, 21: 4, 22: 3, 14: 2, 6: 2, 17: 2})\n"
     ]
    },
    {
     "name": "stderr",
     "output_type": "stream",
     "text": [
      "100%|██████████| 25/25 [00:00<00:00, 48.39it/s]\n"
     ]
    },
    {
     "name": "stdout",
     "output_type": "stream",
     "text": [
      "spent time for epoch 116 is 0.5225598812103271s\n",
      "epoch # : 116 gamma : 0.5 gen loss : 1.1892632246017456\n"
     ]
    },
    {
     "name": "stderr",
     "output_type": "stream",
     "text": [
      " 20%|██        | 5/25 [00:00<00:00, 49.39it/s]"
     ]
    },
    {
     "name": "stdout",
     "output_type": "stream",
     "text": [
      "Total number of generated modes is  18\n",
      "The number of high quality samples among 2500 samples is 75\n",
      "The mode dictionary is Counter({11: 15, 6: 9, 19: 7, 1: 6, 14: 5, 12: 5, 7: 4, 17: 4, 5: 4, 13: 4, 18: 3, 3: 3, 8: 1, 21: 1, 16: 1, 10: 1, 2: 1, 22: 1})\n"
     ]
    },
    {
     "name": "stderr",
     "output_type": "stream",
     "text": [
      "100%|██████████| 25/25 [00:00<00:00, 49.42it/s]\n"
     ]
    },
    {
     "name": "stdout",
     "output_type": "stream",
     "text": [
      "spent time for epoch 117 is 0.5115163326263428s\n",
      "epoch # : 117 gamma : 0.5 gen loss : 1.1792267560958862\n"
     ]
    },
    {
     "name": "stderr",
     "output_type": "stream",
     "text": [
      "  4%|▍         | 1/25 [00:00<00:03,  7.62it/s]"
     ]
    },
    {
     "name": "stdout",
     "output_type": "stream",
     "text": [
      "Total number of generated modes is  17\n",
      "The number of high quality samples among 2500 samples is 67\n",
      "The mode dictionary is Counter({11: 16, 10: 7, 12: 6, 17: 5, 1: 4, 22: 3, 19: 3, 21: 3, 7: 3, 13: 3, 2: 3, 6: 3, 5: 2, 3: 2, 18: 2, 9: 1, 16: 1})\n"
     ]
    },
    {
     "name": "stderr",
     "output_type": "stream",
     "text": [
      "100%|██████████| 25/25 [00:00<00:00, 43.03it/s]\n"
     ]
    },
    {
     "name": "stdout",
     "output_type": "stream",
     "text": [
      "spent time for epoch 118 is 0.5867235660552979s\n",
      "epoch # : 118 gamma : 0.5 gen loss : 1.16184663772583\n"
     ]
    },
    {
     "name": "stderr",
     "output_type": "stream",
     "text": [
      " 20%|██        | 5/25 [00:00<00:00, 48.02it/s]"
     ]
    },
    {
     "name": "stdout",
     "output_type": "stream",
     "text": [
      "Total number of generated modes is  16\n",
      "The number of high quality samples among 2500 samples is 80\n",
      "The mode dictionary is Counter({7: 17, 11: 12, 13: 8, 17: 7, 12: 6, 15: 5, 5: 5, 23: 4, 21: 3, 10: 3, 14: 2, 16: 2, 18: 2, 6: 2, 9: 1, 2: 1})\n"
     ]
    },
    {
     "name": "stderr",
     "output_type": "stream",
     "text": [
      "100%|██████████| 25/25 [00:00<00:00, 48.05it/s]\n"
     ]
    },
    {
     "name": "stdout",
     "output_type": "stream",
     "text": [
      "spent time for epoch 119 is 0.526254415512085s\n",
      "epoch # : 119 gamma : 0.5 gen loss : 1.180788278579712\n"
     ]
    },
    {
     "name": "stderr",
     "output_type": "stream",
     "text": [
      " 16%|█▌        | 4/25 [00:00<00:00, 37.74it/s]"
     ]
    },
    {
     "name": "stdout",
     "output_type": "stream",
     "text": [
      "Total number of generated modes is  19\n",
      "The number of high quality samples among 2500 samples is 110\n",
      "The mode dictionary is Counter({7: 15, 11: 11, 13: 10, 18: 8, 12: 8, 2: 8, 6: 7, 15: 5, 5: 5, 10: 5, 22: 5, 14: 4, 21: 4, 16: 3, 8: 3, 1: 3, 23: 3, 17: 2, 19: 1})\n"
     ]
    },
    {
     "name": "stderr",
     "output_type": "stream",
     "text": [
      "100%|██████████| 25/25 [00:00<00:00, 48.57it/s]\n"
     ]
    },
    {
     "name": "stdout",
     "output_type": "stream",
     "text": [
      "spent time for epoch 120 is 0.5211548805236816s\n",
      "epoch # : 120 gamma : 0.5 gen loss : 1.1547843217849731\n"
     ]
    },
    {
     "name": "stderr",
     "output_type": "stream",
     "text": [
      " 20%|██        | 5/25 [00:00<00:00, 48.78it/s]"
     ]
    },
    {
     "name": "stdout",
     "output_type": "stream",
     "text": [
      "Total number of generated modes is  15\n",
      "The number of high quality samples among 2500 samples is 107\n",
      "The mode dictionary is Counter({12: 24, 7: 13, 11: 9, 13: 7, 6: 7, 8: 6, 22: 6, 15: 6, 1: 6, 18: 6, 16: 4, 2: 4, 17: 4, 10: 3, 21: 2})\n"
     ]
    },
    {
     "name": "stderr",
     "output_type": "stream",
     "text": [
      "100%|██████████| 25/25 [00:00<00:00, 47.62it/s]\n"
     ]
    },
    {
     "name": "stdout",
     "output_type": "stream",
     "text": [
      "spent time for epoch 121 is 0.5309092998504639s\n",
      "epoch # : 121 gamma : 0.5 gen loss : 1.1521738767623901\n"
     ]
    },
    {
     "name": "stderr",
     "output_type": "stream",
     "text": [
      " 20%|██        | 5/25 [00:00<00:00, 49.43it/s]"
     ]
    },
    {
     "name": "stdout",
     "output_type": "stream",
     "text": [
      "Total number of generated modes is  18\n",
      "The number of high quality samples among 2500 samples is 68\n",
      "The mode dictionary is Counter({12: 9, 22: 7, 17: 7, 15: 7, 1: 6, 11: 4, 2: 4, 9: 3, 6: 3, 8: 3, 10: 3, 16: 3, 18: 2, 3: 2, 5: 2, 14: 1, 13: 1, 7: 1})\n"
     ]
    },
    {
     "name": "stderr",
     "output_type": "stream",
     "text": [
      "100%|██████████| 25/25 [00:00<00:00, 48.97it/s]\n"
     ]
    },
    {
     "name": "stdout",
     "output_type": "stream",
     "text": [
      "spent time for epoch 122 is 0.5161058902740479s\n",
      "epoch # : 122 gamma : 0.5 gen loss : 1.1446255445480347\n"
     ]
    },
    {
     "name": "stderr",
     "output_type": "stream",
     "text": [
      " 24%|██▍       | 6/25 [00:00<00:00, 34.41it/s]"
     ]
    },
    {
     "name": "stdout",
     "output_type": "stream",
     "text": [
      "Total number of generated modes is  16\n",
      "The number of high quality samples among 2500 samples is 103\n",
      "The mode dictionary is Counter({7: 21, 6: 11, 11: 11, 10: 10, 8: 7, 12: 6, 22: 6, 14: 6, 17: 5, 18: 4, 2: 4, 13: 4, 21: 3, 19: 2, 16: 2, 9: 1})\n"
     ]
    },
    {
     "name": "stderr",
     "output_type": "stream",
     "text": [
      "100%|██████████| 25/25 [00:00<00:00, 49.60it/s]\n"
     ]
    },
    {
     "name": "stdout",
     "output_type": "stream",
     "text": [
      "spent time for epoch 123 is 0.5094552040100098s\n",
      "epoch # : 123 gamma : 0.5 gen loss : 1.1600632667541504\n"
     ]
    },
    {
     "name": "stderr",
     "output_type": "stream",
     "text": [
      " 20%|██        | 5/25 [00:00<00:00, 49.06it/s]"
     ]
    },
    {
     "name": "stdout",
     "output_type": "stream",
     "text": [
      "Total number of generated modes is  17\n",
      "The number of high quality samples among 2500 samples is 86\n",
      "The mode dictionary is Counter({11: 14, 23: 9, 7: 9, 14: 7, 17: 6, 12: 6, 21: 5, 6: 5, 16: 5, 13: 5, 8: 4, 18: 3, 1: 3, 5: 2, 22: 1, 19: 1, 2: 1})\n"
     ]
    },
    {
     "name": "stderr",
     "output_type": "stream",
     "text": [
      "100%|██████████| 25/25 [00:00<00:00, 48.37it/s]\n"
     ]
    },
    {
     "name": "stdout",
     "output_type": "stream",
     "text": [
      "spent time for epoch 124 is 0.522479772567749s\n",
      "epoch # : 124 gamma : 0.5 gen loss : 1.1176435947418213\n"
     ]
    },
    {
     "name": "stderr",
     "output_type": "stream",
     "text": [
      " 20%|██        | 5/25 [00:00<00:00, 48.67it/s]"
     ]
    },
    {
     "name": "stdout",
     "output_type": "stream",
     "text": [
      "Total number of generated modes is  18\n",
      "The number of high quality samples among 2500 samples is 99\n",
      "The mode dictionary is Counter({11: 17, 7: 15, 12: 14, 6: 11, 5: 8, 13: 6, 2: 4, 19: 3, 22: 3, 1: 3, 17: 3, 18: 3, 9: 3, 16: 2, 14: 1, 3: 1, 8: 1, 10: 1})\n"
     ]
    },
    {
     "name": "stderr",
     "output_type": "stream",
     "text": [
      "100%|██████████| 25/25 [00:00<00:00, 48.04it/s]\n"
     ]
    },
    {
     "name": "stdout",
     "output_type": "stream",
     "text": [
      "spent time for epoch 125 is 0.5263473987579346s\n",
      "epoch # : 125 gamma : 0.5 gen loss : 1.188228726387024\n"
     ]
    },
    {
     "name": "stderr",
     "output_type": "stream",
     "text": [
      " 20%|██        | 5/25 [00:00<00:00, 48.68it/s]"
     ]
    },
    {
     "name": "stdout",
     "output_type": "stream",
     "text": [
      "Total number of generated modes is  17\n",
      "The number of high quality samples among 2500 samples is 94\n",
      "The mode dictionary is Counter({12: 13, 11: 11, 7: 8, 10: 8, 1: 8, 21: 8, 16: 6, 3: 6, 22: 6, 13: 6, 6: 4, 18: 3, 17: 3, 5: 1, 14: 1, 2: 1, 9: 1})\n"
     ]
    },
    {
     "name": "stderr",
     "output_type": "stream",
     "text": [
      "100%|██████████| 25/25 [00:00<00:00, 49.27it/s]\n"
     ]
    },
    {
     "name": "stdout",
     "output_type": "stream",
     "text": [
      "spent time for epoch 126 is 0.5130739212036133s\n",
      "epoch # : 126 gamma : 0.5 gen loss : 1.1725102663040161\n"
     ]
    },
    {
     "name": "stderr",
     "output_type": "stream",
     "text": [
      " 20%|██        | 5/25 [00:00<00:00, 48.79it/s]"
     ]
    },
    {
     "name": "stdout",
     "output_type": "stream",
     "text": [
      "Total number of generated modes is  17\n",
      "The number of high quality samples among 2500 samples is 77\n",
      "The mode dictionary is Counter({10: 12, 11: 10, 8: 9, 9: 6, 7: 6, 3: 4, 23: 4, 5: 4, 17: 4, 14: 4, 19: 3, 13: 3, 2: 2, 6: 2, 18: 2, 21: 1, 12: 1})\n"
     ]
    },
    {
     "name": "stderr",
     "output_type": "stream",
     "text": [
      "100%|██████████| 25/25 [00:00<00:00, 49.29it/s]\n"
     ]
    },
    {
     "name": "stdout",
     "output_type": "stream",
     "text": [
      "spent time for epoch 127 is 0.5129880905151367s\n",
      "epoch # : 127 gamma : 0.5 gen loss : 1.1298991441726685\n"
     ]
    },
    {
     "name": "stderr",
     "output_type": "stream",
     "text": [
      " 20%|██        | 5/25 [00:00<00:00, 49.39it/s]"
     ]
    },
    {
     "name": "stdout",
     "output_type": "stream",
     "text": [
      "Total number of generated modes is  18\n",
      "The number of high quality samples among 2500 samples is 90\n",
      "The mode dictionary is Counter({7: 13, 12: 11, 10: 9, 8: 7, 11: 6, 6: 6, 1: 6, 18: 5, 13: 4, 14: 4, 21: 3, 3: 3, 5: 3, 2: 3, 17: 2, 15: 2, 22: 2, 19: 1})\n"
     ]
    },
    {
     "name": "stderr",
     "output_type": "stream",
     "text": [
      "100%|██████████| 25/25 [00:00<00:00, 49.30it/s]\n"
     ]
    },
    {
     "name": "stdout",
     "output_type": "stream",
     "text": [
      "spent time for epoch 128 is 0.5128662586212158s\n",
      "epoch # : 128 gamma : 0.5 gen loss : 1.1124290227890015\n"
     ]
    },
    {
     "name": "stderr",
     "output_type": "stream",
     "text": [
      "  4%|▍         | 1/25 [00:00<00:03,  7.65it/s]"
     ]
    },
    {
     "name": "stdout",
     "output_type": "stream",
     "text": [
      "Total number of generated modes is  19\n",
      "The number of high quality samples among 2500 samples is 108\n",
      "The mode dictionary is Counter({7: 22, 11: 14, 10: 9, 6: 8, 16: 7, 1: 7, 15: 6, 8: 5, 12: 5, 13: 5, 5: 4, 17: 4, 18: 4, 2: 2, 9: 2, 22: 1, 21: 1, 14: 1, 23: 1})\n"
     ]
    },
    {
     "name": "stderr",
     "output_type": "stream",
     "text": [
      "100%|██████████| 25/25 [00:00<00:00, 44.71it/s]\n"
     ]
    },
    {
     "name": "stdout",
     "output_type": "stream",
     "text": [
      "spent time for epoch 129 is 0.5650036334991455s\n",
      "epoch # : 129 gamma : 0.5 gen loss : 1.1619629859924316\n"
     ]
    },
    {
     "name": "stderr",
     "output_type": "stream",
     "text": [
      " 20%|██        | 5/25 [00:00<00:00, 48.47it/s]"
     ]
    },
    {
     "name": "stdout",
     "output_type": "stream",
     "text": [
      "Total number of generated modes is  18\n",
      "The number of high quality samples among 2500 samples is 95\n",
      "The mode dictionary is Counter({7: 16, 2: 8, 11: 8, 15: 8, 3: 8, 14: 6, 12: 6, 18: 5, 23: 5, 10: 4, 17: 4, 21: 4, 13: 3, 9: 3, 16: 3, 8: 2, 19: 1, 22: 1})\n"
     ]
    },
    {
     "name": "stderr",
     "output_type": "stream",
     "text": [
      "100%|██████████| 25/25 [00:00<00:00, 49.10it/s]\n"
     ]
    },
    {
     "name": "stdout",
     "output_type": "stream",
     "text": [
      "spent time for epoch 130 is 0.5150609016418457s\n",
      "epoch # : 130 gamma : 0.5 gen loss : 1.1619360446929932\n"
     ]
    },
    {
     "name": "stderr",
     "output_type": "stream",
     "text": [
      " 16%|█▌        | 4/25 [00:00<00:00, 39.07it/s]"
     ]
    },
    {
     "name": "stdout",
     "output_type": "stream",
     "text": [
      "Total number of generated modes is  16\n",
      "The number of high quality samples among 2500 samples is 88\n",
      "The mode dictionary is Counter({11: 19, 10: 9, 15: 8, 21: 8, 22: 7, 18: 7, 17: 5, 9: 4, 1: 4, 12: 4, 13: 4, 16: 3, 5: 2, 2: 2, 6: 1, 19: 1})\n"
     ]
    },
    {
     "name": "stderr",
     "output_type": "stream",
     "text": [
      "100%|██████████| 25/25 [00:00<00:00, 48.94it/s]\n"
     ]
    },
    {
     "name": "stdout",
     "output_type": "stream",
     "text": [
      "spent time for epoch 131 is 0.5166959762573242s\n",
      "epoch # : 131 gamma : 0.5 gen loss : 1.194478154182434\n"
     ]
    },
    {
     "name": "stderr",
     "output_type": "stream",
     "text": [
      " 20%|██        | 5/25 [00:00<00:00, 49.43it/s]"
     ]
    },
    {
     "name": "stdout",
     "output_type": "stream",
     "text": [
      "Total number of generated modes is  17\n",
      "The number of high quality samples among 2500 samples is 78\n",
      "The mode dictionary is Counter({11: 13, 7: 11, 10: 8, 1: 8, 21: 7, 12: 6, 17: 6, 6: 4, 18: 3, 22: 2, 16: 2, 8: 2, 5: 2, 13: 1, 23: 1, 14: 1, 9: 1})\n"
     ]
    },
    {
     "name": "stderr",
     "output_type": "stream",
     "text": [
      "100%|██████████| 25/25 [00:00<00:00, 48.85it/s]\n"
     ]
    },
    {
     "name": "stdout",
     "output_type": "stream",
     "text": [
      "spent time for epoch 132 is 0.517547607421875s\n",
      "epoch # : 132 gamma : 0.5 gen loss : 1.1202383041381836\n"
     ]
    },
    {
     "name": "stderr",
     "output_type": "stream",
     "text": [
      " 20%|██        | 5/25 [00:00<00:00, 49.87it/s]"
     ]
    },
    {
     "name": "stdout",
     "output_type": "stream",
     "text": [
      "Total number of generated modes is  19\n",
      "The number of high quality samples among 2500 samples is 118\n",
      "The mode dictionary is Counter({12: 13, 15: 12, 11: 12, 7: 11, 8: 9, 16: 9, 10: 8, 6: 8, 18: 7, 13: 7, 22: 5, 9: 3, 21: 3, 19: 2, 1: 2, 14: 2, 23: 2, 2: 2, 17: 1})\n"
     ]
    },
    {
     "name": "stderr",
     "output_type": "stream",
     "text": [
      "100%|██████████| 25/25 [00:00<00:00, 49.50it/s]\n"
     ]
    },
    {
     "name": "stdout",
     "output_type": "stream",
     "text": [
      "spent time for epoch 133 is 0.5109279155731201s\n",
      "epoch # : 133 gamma : 0.5 gen loss : 1.1174657344818115\n"
     ]
    },
    {
     "name": "stderr",
     "output_type": "stream",
     "text": [
      " 16%|█▌        | 4/25 [00:00<00:00, 39.34it/s]"
     ]
    },
    {
     "name": "stdout",
     "output_type": "stream",
     "text": [
      "Total number of generated modes is  20\n",
      "The number of high quality samples among 2500 samples is 134\n",
      "The mode dictionary is Counter({11: 24, 7: 17, 12: 10, 6: 9, 13: 8, 16: 8, 1: 7, 23: 6, 14: 5, 5: 5, 17: 4, 10: 4, 15: 4, 2: 4, 19: 4, 21: 3, 18: 3, 3: 3, 22: 3, 9: 3})\n"
     ]
    },
    {
     "name": "stderr",
     "output_type": "stream",
     "text": [
      "100%|██████████| 25/25 [00:00<00:00, 48.19it/s]\n"
     ]
    },
    {
     "name": "stdout",
     "output_type": "stream",
     "text": [
      "spent time for epoch 134 is 0.5246286392211914s\n",
      "epoch # : 134 gamma : 0.5 gen loss : 1.148437738418579\n"
     ]
    },
    {
     "name": "stderr",
     "output_type": "stream",
     "text": [
      " 24%|██▍       | 6/25 [00:00<00:00, 34.30it/s]"
     ]
    },
    {
     "name": "stdout",
     "output_type": "stream",
     "text": [
      "Total number of generated modes is  20\n",
      "The number of high quality samples among 2500 samples is 112\n",
      "The mode dictionary is Counter({11: 16, 13: 10, 7: 10, 9: 9, 12: 9, 10: 8, 2: 7, 8: 6, 19: 5, 17: 4, 14: 4, 23: 4, 1: 4, 18: 3, 5: 3, 3: 3, 6: 2, 21: 2, 16: 2, 15: 1})\n"
     ]
    },
    {
     "name": "stderr",
     "output_type": "stream",
     "text": [
      "100%|██████████| 25/25 [00:00<00:00, 49.74it/s]\n"
     ]
    },
    {
     "name": "stdout",
     "output_type": "stream",
     "text": [
      "spent time for epoch 135 is 0.5084080696105957s\n",
      "epoch # : 135 gamma : 0.5 gen loss : 1.1225152015686035\n"
     ]
    },
    {
     "name": "stderr",
     "output_type": "stream",
     "text": [
      " 20%|██        | 5/25 [00:00<00:00, 49.49it/s]"
     ]
    },
    {
     "name": "stdout",
     "output_type": "stream",
     "text": [
      "Total number of generated modes is  20\n",
      "The number of high quality samples among 2500 samples is 115\n",
      "The mode dictionary is Counter({8: 17, 16: 13, 10: 12, 12: 8, 7: 7, 13: 7, 1: 7, 11: 6, 2: 5, 17: 5, 3: 5, 18: 3, 19: 3, 15: 3, 21: 3, 9: 3, 23: 2, 6: 2, 14: 2, 22: 2})\n"
     ]
    },
    {
     "name": "stderr",
     "output_type": "stream",
     "text": [
      "100%|██████████| 25/25 [00:00<00:00, 49.89it/s]\n"
     ]
    },
    {
     "name": "stdout",
     "output_type": "stream",
     "text": [
      "spent time for epoch 136 is 0.5068881511688232s\n",
      "epoch # : 136 gamma : 0.5 gen loss : 1.1128977537155151\n"
     ]
    },
    {
     "name": "stderr",
     "output_type": "stream",
     "text": [
      " 20%|██        | 5/25 [00:00<00:00, 49.09it/s]"
     ]
    },
    {
     "name": "stdout",
     "output_type": "stream",
     "text": [
      "Total number of generated modes is  19\n",
      "The number of high quality samples among 2500 samples is 96\n",
      "The mode dictionary is Counter({7: 12, 11: 11, 1: 10, 6: 9, 21: 8, 10: 7, 18: 4, 9: 4, 2: 4, 8: 4, 17: 4, 12: 3, 15: 3, 5: 3, 23: 3, 19: 2, 14: 2, 16: 2, 13: 1})\n"
     ]
    },
    {
     "name": "stderr",
     "output_type": "stream",
     "text": [
      "100%|██████████| 25/25 [00:00<00:00, 50.10it/s]\n"
     ]
    },
    {
     "name": "stdout",
     "output_type": "stream",
     "text": [
      "spent time for epoch 137 is 0.504817008972168s\n",
      "epoch # : 137 gamma : 0.5 gen loss : 1.076741337776184\n"
     ]
    },
    {
     "name": "stderr",
     "output_type": "stream",
     "text": [
      " 24%|██▍       | 6/25 [00:00<00:00, 34.47it/s]"
     ]
    },
    {
     "name": "stdout",
     "output_type": "stream",
     "text": [
      "Total number of generated modes is  21\n",
      "The number of high quality samples among 2500 samples is 128\n",
      "The mode dictionary is Counter({11: 13, 7: 13, 13: 12, 8: 12, 10: 11, 16: 11, 17: 9, 6: 8, 23: 5, 21: 5, 19: 4, 9: 4, 3: 3, 15: 3, 12: 3, 1: 3, 18: 3, 2: 2, 14: 2, 22: 1, 5: 1})\n"
     ]
    },
    {
     "name": "stderr",
     "output_type": "stream",
     "text": [
      "100%|██████████| 25/25 [00:00<00:00, 50.13it/s]\n"
     ]
    },
    {
     "name": "stdout",
     "output_type": "stream",
     "text": [
      "spent time for epoch 138 is 0.5063290596008301s\n",
      "epoch # : 138 gamma : 0.5 gen loss : 1.1080610752105713\n"
     ]
    },
    {
     "name": "stderr",
     "output_type": "stream",
     "text": [
      " 24%|██▍       | 6/25 [00:00<00:00, 34.62it/s]"
     ]
    },
    {
     "name": "stdout",
     "output_type": "stream",
     "text": [
      "Total number of generated modes is  17\n",
      "The number of high quality samples among 2500 samples is 92\n",
      "The mode dictionary is Counter({8: 16, 6: 14, 11: 14, 14: 6, 7: 6, 21: 5, 15: 5, 1: 5, 2: 5, 23: 4, 17: 3, 12: 2, 13: 2, 10: 2, 5: 1, 19: 1, 18: 1})\n"
     ]
    },
    {
     "name": "stderr",
     "output_type": "stream",
     "text": [
      "100%|██████████| 25/25 [00:00<00:00, 49.98it/s]\n"
     ]
    },
    {
     "name": "stdout",
     "output_type": "stream",
     "text": [
      "spent time for epoch 139 is 0.5062565803527832s\n",
      "epoch # : 139 gamma : 0.5 gen loss : 1.099382758140564\n"
     ]
    },
    {
     "name": "stderr",
     "output_type": "stream",
     "text": [
      "  4%|▍         | 1/25 [00:00<00:03,  7.67it/s]"
     ]
    },
    {
     "name": "stdout",
     "output_type": "stream",
     "text": [
      "Total number of generated modes is  19\n",
      "The number of high quality samples among 2500 samples is 108\n",
      "The mode dictionary is Counter({11: 17, 6: 12, 16: 11, 7: 11, 10: 10, 2: 8, 23: 7, 9: 6, 18: 6, 12: 4, 3: 3, 15: 3, 21: 2, 17: 2, 22: 2, 19: 1, 5: 1, 8: 1, 13: 1})\n"
     ]
    },
    {
     "name": "stderr",
     "output_type": "stream",
     "text": [
      "100%|██████████| 25/25 [00:00<00:00, 44.76it/s]\n"
     ]
    },
    {
     "name": "stdout",
     "output_type": "stream",
     "text": [
      "spent time for epoch 140 is 0.564769983291626s\n",
      "epoch # : 140 gamma : 0.5 gen loss : 1.1007591485977173\n"
     ]
    },
    {
     "name": "stderr",
     "output_type": "stream",
     "text": [
      " 20%|██        | 5/25 [00:00<00:00, 49.85it/s]"
     ]
    },
    {
     "name": "stdout",
     "output_type": "stream",
     "text": [
      "Total number of generated modes is  16\n",
      "The number of high quality samples among 2500 samples is 86\n",
      "The mode dictionary is Counter({7: 14, 2: 10, 15: 8, 10: 8, 12: 6, 3: 5, 17: 5, 19: 5, 14: 4, 5: 4, 13: 4, 16: 4, 6: 3, 11: 3, 9: 2, 8: 1})\n"
     ]
    },
    {
     "name": "stderr",
     "output_type": "stream",
     "text": [
      "100%|██████████| 25/25 [00:00<00:00, 48.80it/s]\n"
     ]
    },
    {
     "name": "stdout",
     "output_type": "stream",
     "text": [
      "spent time for epoch 141 is 0.5183157920837402s\n",
      "epoch # : 141 gamma : 0.5 gen loss : 1.1026219129562378\n"
     ]
    },
    {
     "name": "stderr",
     "output_type": "stream",
     "text": [
      " 20%|██        | 5/25 [00:00<00:00, 49.08it/s]"
     ]
    },
    {
     "name": "stdout",
     "output_type": "stream",
     "text": [
      "Total number of generated modes is  18\n",
      "The number of high quality samples among 2500 samples is 95\n",
      "The mode dictionary is Counter({10: 11, 7: 10, 16: 9, 6: 8, 11: 7, 13: 6, 1: 6, 19: 6, 8: 5, 5: 4, 14: 4, 22: 4, 9: 3, 12: 3, 21: 3, 17: 3, 3: 2, 2: 1})\n"
     ]
    },
    {
     "name": "stderr",
     "output_type": "stream",
     "text": [
      "100%|██████████| 25/25 [00:00<00:00, 48.04it/s]\n"
     ]
    },
    {
     "name": "stdout",
     "output_type": "stream",
     "text": [
      "spent time for epoch 142 is 0.5260958671569824s\n",
      "epoch # : 142 gamma : 0.5 gen loss : 1.1479191780090332\n"
     ]
    },
    {
     "name": "stderr",
     "output_type": "stream",
     "text": [
      " 24%|██▍       | 6/25 [00:00<00:00, 34.15it/s]"
     ]
    },
    {
     "name": "stdout",
     "output_type": "stream",
     "text": [
      "Total number of generated modes is  17\n",
      "The number of high quality samples among 2500 samples is 85\n",
      "The mode dictionary is Counter({11: 13, 7: 13, 8: 8, 13: 8, 16: 8, 12: 6, 6: 5, 5: 5, 3: 4, 1: 4, 22: 3, 17: 2, 23: 2, 21: 1, 15: 1, 18: 1, 19: 1})\n"
     ]
    },
    {
     "name": "stderr",
     "output_type": "stream",
     "text": [
      "100%|██████████| 25/25 [00:00<00:00, 49.62it/s]\n"
     ]
    },
    {
     "name": "stdout",
     "output_type": "stream",
     "text": [
      "spent time for epoch 143 is 0.5094952583312988s\n",
      "epoch # : 143 gamma : 0.5 gen loss : 1.1210083961486816\n"
     ]
    },
    {
     "name": "stderr",
     "output_type": "stream",
     "text": [
      " 20%|██        | 5/25 [00:00<00:00, 47.61it/s]"
     ]
    },
    {
     "name": "stdout",
     "output_type": "stream",
     "text": [
      "Total number of generated modes is  18\n",
      "The number of high quality samples among 2500 samples is 89\n",
      "The mode dictionary is Counter({7: 22, 8: 11, 3: 7, 10: 6, 15: 6, 2: 4, 11: 4, 13: 4, 23: 4, 9: 4, 21: 4, 12: 3, 6: 3, 17: 2, 1: 2, 16: 1, 19: 1, 5: 1})\n"
     ]
    },
    {
     "name": "stderr",
     "output_type": "stream",
     "text": [
      "100%|██████████| 25/25 [00:00<00:00, 48.88it/s]\n"
     ]
    },
    {
     "name": "stdout",
     "output_type": "stream",
     "text": [
      "spent time for epoch 144 is 0.5172481536865234s\n",
      "epoch # : 144 gamma : 0.5 gen loss : 1.0892412662506104\n"
     ]
    },
    {
     "name": "stderr",
     "output_type": "stream",
     "text": [
      " 20%|██        | 5/25 [00:00<00:00, 49.89it/s]"
     ]
    },
    {
     "name": "stdout",
     "output_type": "stream",
     "text": [
      "Total number of generated modes is  18\n",
      "The number of high quality samples among 2500 samples is 86\n",
      "The mode dictionary is Counter({6: 13, 11: 12, 7: 9, 13: 6, 2: 6, 1: 5, 10: 5, 3: 5, 5: 5, 12: 4, 9: 4, 18: 3, 19: 2, 14: 2, 8: 2, 16: 1, 21: 1, 17: 1})\n"
     ]
    },
    {
     "name": "stderr",
     "output_type": "stream",
     "text": [
      "100%|██████████| 25/25 [00:00<00:00, 49.96it/s]\n"
     ]
    },
    {
     "name": "stdout",
     "output_type": "stream",
     "text": [
      "spent time for epoch 145 is 0.5060439109802246s\n",
      "epoch # : 145 gamma : 0.5 gen loss : 1.0815883874893188\n"
     ]
    },
    {
     "name": "stderr",
     "output_type": "stream",
     "text": [
      " 20%|██        | 5/25 [00:00<00:00, 49.91it/s]"
     ]
    },
    {
     "name": "stdout",
     "output_type": "stream",
     "text": [
      "Total number of generated modes is  17\n",
      "The number of high quality samples among 2500 samples is 109\n",
      "The mode dictionary is Counter({7: 17, 14: 14, 8: 10, 13: 10, 12: 8, 6: 7, 23: 6, 5: 6, 16: 5, 11: 5, 21: 4, 1: 4, 3: 4, 18: 3, 19: 2, 17: 2, 2: 2})\n"
     ]
    },
    {
     "name": "stderr",
     "output_type": "stream",
     "text": [
      "100%|██████████| 25/25 [00:00<00:00, 49.52it/s]\n"
     ]
    },
    {
     "name": "stdout",
     "output_type": "stream",
     "text": [
      "spent time for epoch 146 is 0.5105020999908447s\n",
      "epoch # : 146 gamma : 0.5 gen loss : 1.1008962392807007\n"
     ]
    },
    {
     "name": "stderr",
     "output_type": "stream",
     "text": [
      " 20%|██        | 5/25 [00:00<00:00, 48.14it/s]"
     ]
    },
    {
     "name": "stdout",
     "output_type": "stream",
     "text": [
      "Total number of generated modes is  21\n",
      "The number of high quality samples among 2500 samples is 115\n",
      "The mode dictionary is Counter({7: 25, 11: 9, 6: 8, 8: 7, 13: 7, 12: 7, 5: 7, 3: 6, 2: 6, 10: 5, 16: 5, 1: 5, 21: 4, 14: 3, 17: 3, 9: 2, 23: 2, 19: 1, 18: 1, 15: 1, 22: 1})\n"
     ]
    },
    {
     "name": "stderr",
     "output_type": "stream",
     "text": [
      "100%|██████████| 25/25 [00:00<00:00, 48.88it/s]\n"
     ]
    },
    {
     "name": "stdout",
     "output_type": "stream",
     "text": [
      "spent time for epoch 147 is 0.5171189308166504s\n",
      "epoch # : 147 gamma : 0.5 gen loss : 1.040842890739441\n"
     ]
    },
    {
     "name": "stderr",
     "output_type": "stream",
     "text": [
      " 24%|██▍       | 6/25 [00:00<00:00, 34.56it/s]"
     ]
    },
    {
     "name": "stdout",
     "output_type": "stream",
     "text": [
      "Total number of generated modes is  21\n",
      "The number of high quality samples among 2500 samples is 92\n",
      "The mode dictionary is Counter({7: 11, 3: 10, 11: 9, 10: 6, 21: 6, 5: 6, 6: 5, 13: 5, 2: 5, 12: 4, 23: 4, 18: 4, 15: 3, 9: 2, 1: 2, 19: 2, 14: 2, 16: 2, 22: 2, 8: 1, 17: 1})\n"
     ]
    },
    {
     "name": "stderr",
     "output_type": "stream",
     "text": [
      "100%|██████████| 25/25 [00:00<00:00, 50.32it/s]\n"
     ]
    },
    {
     "name": "stdout",
     "output_type": "stream",
     "text": [
      "spent time for epoch 148 is 0.5025267601013184s\n",
      "epoch # : 148 gamma : 0.5 gen loss : 1.074697732925415\n"
     ]
    },
    {
     "name": "stderr",
     "output_type": "stream",
     "text": [
      " 24%|██▍       | 6/25 [00:00<00:00, 34.41it/s]"
     ]
    },
    {
     "name": "stdout",
     "output_type": "stream",
     "text": [
      "Total number of generated modes is  20\n",
      "The number of high quality samples among 2500 samples is 98\n",
      "The mode dictionary is Counter({11: 15, 16: 11, 3: 9, 12: 8, 1: 7, 6: 6, 15: 5, 2: 5, 5: 5, 7: 4, 23: 4, 9: 3, 19: 3, 17: 3, 13: 3, 21: 2, 10: 2, 14: 1, 8: 1, 18: 1})\n"
     ]
    },
    {
     "name": "stderr",
     "output_type": "stream",
     "text": [
      "100%|██████████| 25/25 [00:00<00:00, 49.63it/s]\n"
     ]
    },
    {
     "name": "stdout",
     "output_type": "stream",
     "text": [
      "spent time for epoch 149 is 0.5093405246734619s\n",
      "epoch # : 149 gamma : 0.5 gen loss : 1.044237494468689\n"
     ]
    },
    {
     "name": "stderr",
     "output_type": "stream",
     "text": [
      " 20%|██        | 5/25 [00:00<00:00, 49.81it/s]"
     ]
    },
    {
     "name": "stdout",
     "output_type": "stream",
     "text": [
      "Total number of generated modes is  20\n",
      "The number of high quality samples among 2500 samples is 108\n",
      "The mode dictionary is Counter({5: 14, 10: 13, 16: 11, 2: 9, 6: 9, 15: 8, 11: 6, 7: 6, 14: 5, 17: 5, 3: 4, 12: 4, 13: 3, 19: 3, 8: 2, 23: 2, 21: 1, 9: 1, 18: 1, 22: 1})\n"
     ]
    },
    {
     "name": "stderr",
     "output_type": "stream",
     "text": [
      "100%|██████████| 25/25 [00:00<00:00, 48.97it/s]\n"
     ]
    },
    {
     "name": "stdout",
     "output_type": "stream",
     "text": [
      "spent time for epoch 150 is 0.5160481929779053s\n",
      "epoch # : 150 gamma : 0.5 gen loss : 1.0593867301940918\n"
     ]
    },
    {
     "name": "stderr",
     "output_type": "stream",
     "text": [
      "  4%|▍         | 1/25 [00:00<00:03,  7.53it/s]"
     ]
    },
    {
     "name": "stdout",
     "output_type": "stream",
     "text": [
      "Total number of generated modes is  20\n",
      "The number of high quality samples among 2500 samples is 105\n",
      "The mode dictionary is Counter({11: 14, 7: 12, 10: 10, 15: 10, 6: 9, 8: 8, 3: 7, 2: 5, 17: 4, 9: 4, 5: 4, 1: 4, 16: 3, 14: 3, 13: 2, 23: 2, 21: 1, 22: 1, 18: 1, 12: 1})\n"
     ]
    },
    {
     "name": "stderr",
     "output_type": "stream",
     "text": [
      "100%|██████████| 25/25 [00:00<00:00, 44.33it/s]\n"
     ]
    },
    {
     "name": "stdout",
     "output_type": "stream",
     "text": [
      "spent time for epoch 151 is 0.5696127414703369s\n",
      "epoch # : 151 gamma : 0.5 gen loss : 1.097362756729126\n"
     ]
    },
    {
     "name": "stderr",
     "output_type": "stream",
     "text": [
      " 20%|██        | 5/25 [00:00<00:00, 49.81it/s]"
     ]
    },
    {
     "name": "stdout",
     "output_type": "stream",
     "text": [
      "Total number of generated modes is  19\n",
      "The number of high quality samples among 2500 samples is 90\n",
      "The mode dictionary is Counter({10: 12, 7: 10, 13: 8, 11: 8, 18: 8, 12: 7, 15: 5, 21: 5, 5: 4, 6: 4, 2: 4, 23: 3, 17: 3, 1: 3, 19: 2, 3: 1, 22: 1, 9: 1, 16: 1})\n"
     ]
    },
    {
     "name": "stderr",
     "output_type": "stream",
     "text": [
      "100%|██████████| 25/25 [00:00<00:00, 49.44it/s]\n"
     ]
    },
    {
     "name": "stdout",
     "output_type": "stream",
     "text": [
      "spent time for epoch 152 is 0.5114681720733643s\n",
      "epoch # : 152 gamma : 0.5 gen loss : 1.0727096796035767\n"
     ]
    },
    {
     "name": "stderr",
     "output_type": "stream",
     "text": [
      " 20%|██        | 5/25 [00:00<00:00, 48.52it/s]"
     ]
    },
    {
     "name": "stdout",
     "output_type": "stream",
     "text": [
      "Total number of generated modes is  21\n",
      "The number of high quality samples among 2500 samples is 77\n",
      "The mode dictionary is Counter({2: 10, 22: 8, 11: 7, 3: 6, 19: 5, 5: 5, 1: 4, 9: 4, 16: 3, 6: 3, 12: 3, 23: 3, 21: 3, 17: 3, 8: 2, 13: 2, 18: 2, 14: 1, 10: 1, 15: 1, 20: 1})\n"
     ]
    },
    {
     "name": "stderr",
     "output_type": "stream",
     "text": [
      "100%|██████████| 25/25 [00:00<00:00, 48.85it/s]\n"
     ]
    },
    {
     "name": "stdout",
     "output_type": "stream",
     "text": [
      "spent time for epoch 153 is 0.5175683498382568s\n",
      "epoch # : 153 gamma : 0.5 gen loss : 1.0574536323547363\n"
     ]
    },
    {
     "name": "stderr",
     "output_type": "stream",
     "text": [
      " 20%|██        | 5/25 [00:00<00:00, 48.43it/s]"
     ]
    },
    {
     "name": "stdout",
     "output_type": "stream",
     "text": [
      "Total number of generated modes is  19\n",
      "The number of high quality samples among 2500 samples is 78\n",
      "The mode dictionary is Counter({12: 10, 13: 9, 14: 9, 3: 6, 11: 5, 9: 5, 5: 4, 7: 4, 10: 3, 8: 3, 15: 3, 23: 3, 2: 3, 21: 3, 6: 2, 17: 2, 19: 2, 18: 1, 16: 1})\n"
     ]
    },
    {
     "name": "stderr",
     "output_type": "stream",
     "text": [
      "100%|██████████| 25/25 [00:00<00:00, 48.75it/s]\n"
     ]
    },
    {
     "name": "stdout",
     "output_type": "stream",
     "text": [
      "spent time for epoch 154 is 0.5186028480529785s\n",
      "epoch # : 154 gamma : 0.5 gen loss : 1.092773675918579\n"
     ]
    },
    {
     "name": "stderr",
     "output_type": "stream",
     "text": [
      " 20%|██        | 5/25 [00:00<00:00, 49.34it/s]"
     ]
    },
    {
     "name": "stdout",
     "output_type": "stream",
     "text": [
      "Total number of generated modes is  17\n",
      "The number of high quality samples among 2500 samples is 62\n",
      "The mode dictionary is Counter({6: 7, 5: 6, 7: 6, 10: 6, 11: 5, 2: 5, 15: 5, 18: 5, 1: 4, 3: 3, 19: 2, 23: 2, 8: 2, 16: 1, 13: 1, 12: 1, 14: 1})\n"
     ]
    },
    {
     "name": "stderr",
     "output_type": "stream",
     "text": [
      "100%|██████████| 25/25 [00:00<00:00, 48.87it/s]\n"
     ]
    },
    {
     "name": "stdout",
     "output_type": "stream",
     "text": [
      "spent time for epoch 155 is 0.5175185203552246s\n",
      "epoch # : 155 gamma : 0.5 gen loss : 1.0607267618179321\n"
     ]
    },
    {
     "name": "stderr",
     "output_type": "stream",
     "text": [
      " 20%|██        | 5/25 [00:00<00:00, 49.47it/s]"
     ]
    },
    {
     "name": "stdout",
     "output_type": "stream",
     "text": [
      "Total number of generated modes is  20\n",
      "The number of high quality samples among 2500 samples is 105\n",
      "The mode dictionary is Counter({16: 11, 7: 10, 12: 8, 14: 7, 10: 7, 17: 7, 22: 7, 6: 7, 11: 7, 3: 6, 21: 5, 18: 4, 1: 3, 19: 3, 8: 3, 13: 2, 5: 2, 15: 2, 2: 2, 23: 2})\n"
     ]
    },
    {
     "name": "stderr",
     "output_type": "stream",
     "text": [
      "100%|██████████| 25/25 [00:00<00:00, 48.94it/s]\n"
     ]
    },
    {
     "name": "stdout",
     "output_type": "stream",
     "text": [
      "spent time for epoch 156 is 0.516711950302124s\n",
      "epoch # : 156 gamma : 0.5 gen loss : 1.0787420272827148\n"
     ]
    },
    {
     "name": "stderr",
     "output_type": "stream",
     "text": [
      " 20%|██        | 5/25 [00:00<00:00, 47.77it/s]"
     ]
    },
    {
     "name": "stdout",
     "output_type": "stream",
     "text": [
      "Total number of generated modes is  19\n",
      "The number of high quality samples among 2500 samples is 89\n",
      "The mode dictionary is Counter({8: 13, 11: 12, 7: 10, 17: 8, 1: 6, 6: 6, 12: 5, 23: 4, 3: 3, 21: 3, 22: 3, 15: 3, 9: 3, 5: 3, 18: 2, 13: 2, 16: 1, 14: 1, 19: 1})\n"
     ]
    },
    {
     "name": "stderr",
     "output_type": "stream",
     "text": [
      "100%|██████████| 25/25 [00:00<00:00, 48.76it/s]\n"
     ]
    },
    {
     "name": "stdout",
     "output_type": "stream",
     "text": [
      "spent time for epoch 157 is 0.5187573432922363s\n",
      "epoch # : 157 gamma : 0.5 gen loss : 1.0606791973114014\n"
     ]
    },
    {
     "name": "stderr",
     "output_type": "stream",
     "text": [
      " 20%|██        | 5/25 [00:00<00:00, 49.38it/s]"
     ]
    },
    {
     "name": "stdout",
     "output_type": "stream",
     "text": [
      "Total number of generated modes is  21\n",
      "The number of high quality samples among 2500 samples is 83\n",
      "The mode dictionary is Counter({11: 9, 3: 8, 10: 7, 2: 7, 15: 7, 23: 6, 21: 5, 9: 5, 16: 3, 17: 3, 19: 3, 18: 3, 13: 3, 1: 2, 22: 2, 14: 2, 7: 2, 12: 2, 5: 2, 6: 1, 8: 1})\n"
     ]
    },
    {
     "name": "stderr",
     "output_type": "stream",
     "text": [
      "100%|██████████| 25/25 [00:00<00:00, 48.91it/s]\n"
     ]
    },
    {
     "name": "stdout",
     "output_type": "stream",
     "text": [
      "spent time for epoch 158 is 0.5168085098266602s\n",
      "epoch # : 158 gamma : 0.5 gen loss : 1.0950428247451782\n"
     ]
    },
    {
     "name": "stderr",
     "output_type": "stream",
     "text": [
      " 20%|██        | 5/25 [00:00<00:00, 48.99it/s]"
     ]
    },
    {
     "name": "stdout",
     "output_type": "stream",
     "text": [
      "Total number of generated modes is  20\n",
      "The number of high quality samples among 2500 samples is 94\n",
      "The mode dictionary is Counter({11: 14, 7: 10, 2: 8, 1: 8, 8: 7, 13: 7, 6: 5, 22: 4, 5: 4, 16: 4, 17: 4, 21: 3, 10: 3, 12: 3, 9: 3, 18: 2, 14: 2, 15: 1, 23: 1, 20: 1})\n"
     ]
    },
    {
     "name": "stderr",
     "output_type": "stream",
     "text": [
      "100%|██████████| 25/25 [00:00<00:00, 48.78it/s]\n"
     ]
    },
    {
     "name": "stdout",
     "output_type": "stream",
     "text": [
      "spent time for epoch 159 is 0.5182673931121826s\n",
      "epoch # : 159 gamma : 0.5 gen loss : 1.0680453777313232\n"
     ]
    },
    {
     "name": "stderr",
     "output_type": "stream",
     "text": [
      " 20%|██        | 5/25 [00:00<00:00, 49.17it/s]"
     ]
    },
    {
     "name": "stdout",
     "output_type": "stream",
     "text": [
      "Total number of generated modes is  20\n",
      "The number of high quality samples among 2500 samples is 91\n",
      "The mode dictionary is Counter({6: 14, 7: 12, 10: 9, 16: 6, 21: 6, 11: 6, 3: 5, 8: 5, 14: 5, 23: 4, 13: 3, 19: 3, 5: 3, 9: 2, 1: 2, 2: 2, 17: 1, 12: 1, 22: 1, 18: 1})\n"
     ]
    },
    {
     "name": "stderr",
     "output_type": "stream",
     "text": [
      "100%|██████████| 25/25 [00:00<00:00, 49.39it/s]\n"
     ]
    },
    {
     "name": "stdout",
     "output_type": "stream",
     "text": [
      "spent time for epoch 160 is 0.5120265483856201s\n",
      "epoch # : 160 gamma : 0.5 gen loss : 1.0608820915222168\n"
     ]
    },
    {
     "name": "stderr",
     "output_type": "stream",
     "text": [
      " 20%|██        | 5/25 [00:00<00:00, 49.11it/s]"
     ]
    },
    {
     "name": "stdout",
     "output_type": "stream",
     "text": [
      "Total number of generated modes is  21\n",
      "The number of high quality samples among 2500 samples is 90\n",
      "The mode dictionary is Counter({7: 17, 11: 11, 6: 8, 10: 7, 8: 7, 17: 5, 14: 5, 15: 4, 16: 4, 9: 3, 22: 2, 23: 2, 24: 2, 21: 2, 1: 2, 18: 2, 19: 2, 3: 2, 13: 1, 12: 1, 5: 1})\n"
     ]
    },
    {
     "name": "stderr",
     "output_type": "stream",
     "text": [
      "100%|██████████| 25/25 [00:00<00:00, 49.25it/s]\n"
     ]
    },
    {
     "name": "stdout",
     "output_type": "stream",
     "text": [
      "spent time for epoch 161 is 0.5132927894592285s\n",
      "epoch # : 161 gamma : 0.5 gen loss : 1.0907739400863647\n"
     ]
    },
    {
     "name": "stderr",
     "output_type": "stream",
     "text": [
      "  4%|▍         | 1/25 [00:00<00:03,  7.39it/s]"
     ]
    },
    {
     "name": "stdout",
     "output_type": "stream",
     "text": [
      "Total number of generated modes is  21\n",
      "The number of high quality samples among 2500 samples is 102\n",
      "The mode dictionary is Counter({11: 14, 7: 12, 8: 9, 5: 8, 18: 7, 23: 7, 10: 5, 6: 5, 21: 5, 3: 5, 9: 4, 15: 4, 17: 3, 2: 3, 14: 3, 19: 2, 16: 2, 22: 1, 1: 1, 12: 1, 13: 1})\n"
     ]
    },
    {
     "name": "stderr",
     "output_type": "stream",
     "text": [
      "100%|██████████| 25/25 [00:00<00:00, 43.87it/s]\n"
     ]
    },
    {
     "name": "stdout",
     "output_type": "stream",
     "text": [
      "spent time for epoch 162 is 0.5756702423095703s\n",
      "epoch # : 162 gamma : 0.5 gen loss : 1.0668541193008423\n"
     ]
    },
    {
     "name": "stderr",
     "output_type": "stream",
     "text": [
      " 20%|██        | 5/25 [00:00<00:00, 49.21it/s]"
     ]
    },
    {
     "name": "stdout",
     "output_type": "stream",
     "text": [
      "Total number of generated modes is  20\n",
      "The number of high quality samples among 2500 samples is 104\n",
      "The mode dictionary is Counter({7: 11, 12: 10, 17: 9, 16: 9, 3: 8, 11: 8, 13: 8, 23: 7, 21: 6, 14: 5, 10: 5, 9: 4, 2: 4, 22: 3, 18: 2, 8: 1, 6: 1, 19: 1, 5: 1, 15: 1})\n"
     ]
    },
    {
     "name": "stderr",
     "output_type": "stream",
     "text": [
      "100%|██████████| 25/25 [00:00<00:00, 48.86it/s]\n"
     ]
    },
    {
     "name": "stdout",
     "output_type": "stream",
     "text": [
      "spent time for epoch 163 is 0.5175132751464844s\n",
      "epoch # : 163 gamma : 0.5 gen loss : 1.0883021354675293\n"
     ]
    },
    {
     "name": "stderr",
     "output_type": "stream",
     "text": [
      " 20%|██        | 5/25 [00:00<00:00, 48.75it/s]"
     ]
    },
    {
     "name": "stdout",
     "output_type": "stream",
     "text": [
      "Total number of generated modes is  20\n",
      "The number of high quality samples among 2500 samples is 102\n",
      "The mode dictionary is Counter({11: 16, 5: 12, 8: 11, 7: 10, 10: 8, 21: 7, 16: 6, 13: 6, 3: 6, 17: 3, 12: 3, 1: 2, 22: 2, 2: 2, 14: 2, 6: 2, 9: 1, 23: 1, 18: 1, 19: 1})\n"
     ]
    },
    {
     "name": "stderr",
     "output_type": "stream",
     "text": [
      "100%|██████████| 25/25 [00:00<00:00, 47.97it/s]\n"
     ]
    },
    {
     "name": "stdout",
     "output_type": "stream",
     "text": [
      "spent time for epoch 164 is 0.5269713401794434s\n",
      "epoch # : 164 gamma : 0.5 gen loss : 1.0673375129699707\n"
     ]
    },
    {
     "name": "stderr",
     "output_type": "stream",
     "text": [
      " 20%|██        | 5/25 [00:00<00:00, 49.04it/s]"
     ]
    },
    {
     "name": "stdout",
     "output_type": "stream",
     "text": [
      "Total number of generated modes is  20\n",
      "The number of high quality samples among 2500 samples is 115\n",
      "The mode dictionary is Counter({11: 17, 15: 12, 7: 12, 6: 10, 8: 9, 1: 8, 10: 7, 2: 6, 14: 6, 5: 5, 3: 4, 12: 4, 18: 3, 22: 3, 23: 2, 21: 2, 9: 2, 19: 1, 13: 1, 17: 1})\n"
     ]
    },
    {
     "name": "stderr",
     "output_type": "stream",
     "text": [
      "100%|██████████| 25/25 [00:00<00:00, 49.10it/s]\n"
     ]
    },
    {
     "name": "stdout",
     "output_type": "stream",
     "text": [
      "spent time for epoch 165 is 0.5147194862365723s\n",
      "epoch # : 165 gamma : 0.5 gen loss : 1.0307815074920654\n"
     ]
    },
    {
     "name": "stderr",
     "output_type": "stream",
     "text": [
      " 20%|██        | 5/25 [00:00<00:00, 48.75it/s]"
     ]
    },
    {
     "name": "stdout",
     "output_type": "stream",
     "text": [
      "Total number of generated modes is  18\n",
      "The number of high quality samples among 2500 samples is 82\n",
      "The mode dictionary is Counter({11: 18, 13: 15, 3: 6, 12: 6, 19: 4, 6: 4, 21: 4, 5: 4, 16: 3, 2: 3, 17: 3, 14: 3, 7: 2, 23: 2, 18: 2, 1: 1, 8: 1, 22: 1})\n"
     ]
    },
    {
     "name": "stderr",
     "output_type": "stream",
     "text": [
      "100%|██████████| 25/25 [00:00<00:00, 47.96it/s]\n"
     ]
    },
    {
     "name": "stdout",
     "output_type": "stream",
     "text": [
      "spent time for epoch 166 is 0.5269110202789307s\n",
      "epoch # : 166 gamma : 0.5 gen loss : 1.0394660234451294\n"
     ]
    },
    {
     "name": "stderr",
     "output_type": "stream",
     "text": [
      " 20%|██        | 5/25 [00:00<00:00, 48.30it/s]"
     ]
    },
    {
     "name": "stdout",
     "output_type": "stream",
     "text": [
      "Total number of generated modes is  19\n",
      "The number of high quality samples among 2500 samples is 98\n",
      "The mode dictionary is Counter({11: 17, 17: 10, 9: 8, 10: 8, 21: 7, 3: 6, 19: 5, 13: 5, 1: 5, 6: 4, 16: 4, 23: 4, 22: 4, 12: 3, 2: 3, 18: 2, 15: 1, 5: 1, 14: 1})\n"
     ]
    },
    {
     "name": "stderr",
     "output_type": "stream",
     "text": [
      "100%|██████████| 25/25 [00:00<00:00, 48.68it/s]\n"
     ]
    },
    {
     "name": "stdout",
     "output_type": "stream",
     "text": [
      "spent time for epoch 167 is 0.5192265510559082s\n",
      "epoch # : 167 gamma : 0.5 gen loss : 1.0154725313186646\n"
     ]
    },
    {
     "name": "stderr",
     "output_type": "stream",
     "text": [
      " 20%|██        | 5/25 [00:00<00:00, 48.42it/s]"
     ]
    },
    {
     "name": "stdout",
     "output_type": "stream",
     "text": [
      "Total number of generated modes is  20\n",
      "The number of high quality samples among 2500 samples is 128\n",
      "The mode dictionary is Counter({7: 17, 8: 16, 11: 13, 16: 10, 12: 9, 13: 7, 10: 7, 21: 7, 14: 6, 19: 5, 17: 5, 0: 4, 6: 4, 22: 3, 23: 3, 15: 3, 9: 3, 18: 3, 5: 2, 1: 1})\n"
     ]
    },
    {
     "name": "stderr",
     "output_type": "stream",
     "text": [
      "100%|██████████| 25/25 [00:00<00:00, 49.04it/s]\n"
     ]
    },
    {
     "name": "stdout",
     "output_type": "stream",
     "text": [
      "spent time for epoch 168 is 0.5157260894775391s\n",
      "epoch # : 168 gamma : 0.5 gen loss : 1.0752224922180176\n"
     ]
    },
    {
     "name": "stderr",
     "output_type": "stream",
     "text": [
      " 24%|██▍       | 6/25 [00:00<00:00, 34.34it/s]"
     ]
    },
    {
     "name": "stdout",
     "output_type": "stream",
     "text": [
      "Total number of generated modes is  20\n",
      "The number of high quality samples among 2500 samples is 108\n",
      "The mode dictionary is Counter({16: 10, 11: 10, 22: 9, 2: 8, 8: 7, 1: 6, 6: 6, 3: 6, 7: 6, 17: 6, 21: 5, 18: 5, 15: 4, 5: 4, 23: 3, 14: 3, 9: 3, 12: 3, 13: 3, 10: 1})\n"
     ]
    },
    {
     "name": "stderr",
     "output_type": "stream",
     "text": [
      "100%|██████████| 25/25 [00:00<00:00, 46.92it/s]\n"
     ]
    },
    {
     "name": "stdout",
     "output_type": "stream",
     "text": [
      "spent time for epoch 169 is 0.5389537811279297s\n",
      "epoch # : 169 gamma : 0.5 gen loss : 1.0285314321517944\n"
     ]
    },
    {
     "name": "stderr",
     "output_type": "stream",
     "text": [
      " 20%|██        | 5/25 [00:00<00:00, 49.11it/s]"
     ]
    },
    {
     "name": "stdout",
     "output_type": "stream",
     "text": [
      "Total number of generated modes is  18\n",
      "The number of high quality samples among 2500 samples is 91\n",
      "The mode dictionary is Counter({7: 13, 2: 10, 8: 9, 11: 8, 3: 8, 20: 7, 6: 7, 5: 6, 16: 5, 23: 3, 19: 3, 13: 3, 21: 2, 1: 2, 14: 2, 12: 1, 17: 1, 15: 1})\n"
     ]
    },
    {
     "name": "stderr",
     "output_type": "stream",
     "text": [
      "100%|██████████| 25/25 [00:00<00:00, 47.36it/s]\n"
     ]
    },
    {
     "name": "stdout",
     "output_type": "stream",
     "text": [
      "spent time for epoch 170 is 0.5335946083068848s\n",
      "epoch # : 170 gamma : 0.5 gen loss : 1.0451602935791016\n"
     ]
    },
    {
     "name": "stderr",
     "output_type": "stream",
     "text": [
      " 20%|██        | 5/25 [00:00<00:00, 48.61it/s]"
     ]
    },
    {
     "name": "stdout",
     "output_type": "stream",
     "text": [
      "Total number of generated modes is  20\n",
      "The number of high quality samples among 2500 samples is 112\n",
      "The mode dictionary is Counter({10: 18, 8: 16, 11: 11, 7: 9, 13: 7, 16: 7, 18: 6, 9: 5, 15: 5, 23: 4, 5: 3, 12: 3, 17: 3, 3: 3, 19: 3, 6: 3, 21: 2, 2: 2, 14: 1, 22: 1})\n"
     ]
    },
    {
     "name": "stderr",
     "output_type": "stream",
     "text": [
      "100%|██████████| 25/25 [00:00<00:00, 47.66it/s]\n"
     ]
    },
    {
     "name": "stdout",
     "output_type": "stream",
     "text": [
      "spent time for epoch 171 is 0.5303199291229248s\n",
      "epoch # : 171 gamma : 0.5 gen loss : 1.1124361753463745\n"
     ]
    },
    {
     "name": "stderr",
     "output_type": "stream",
     "text": [
      " 20%|██        | 5/25 [00:00<00:00, 49.53it/s]"
     ]
    },
    {
     "name": "stdout",
     "output_type": "stream",
     "text": [
      "Total number of generated modes is  17\n",
      "The number of high quality samples among 2500 samples is 99\n",
      "The mode dictionary is Counter({16: 18, 10: 16, 19: 10, 13: 10, 11: 8, 21: 7, 15: 5, 18: 5, 14: 3, 6: 3, 9: 3, 0: 3, 23: 3, 12: 2, 17: 1, 2: 1, 1: 1})\n"
     ]
    },
    {
     "name": "stderr",
     "output_type": "stream",
     "text": [
      "100%|██████████| 25/25 [00:00<00:00, 48.59it/s]\n"
     ]
    },
    {
     "name": "stdout",
     "output_type": "stream",
     "text": [
      "spent time for epoch 172 is 0.5204594135284424s\n",
      "epoch # : 172 gamma : 0.5 gen loss : 1.077449917793274\n"
     ]
    },
    {
     "name": "stderr",
     "output_type": "stream",
     "text": [
      "  4%|▍         | 1/25 [00:00<00:03,  7.49it/s]"
     ]
    },
    {
     "name": "stdout",
     "output_type": "stream",
     "text": [
      "Total number of generated modes is  21\n",
      "The number of high quality samples among 2500 samples is 106\n",
      "The mode dictionary is Counter({11: 13, 23: 9, 7: 9, 21: 8, 10: 6, 22: 6, 5: 6, 3: 5, 13: 5, 8: 5, 9: 5, 20: 5, 6: 4, 16: 4, 17: 3, 14: 3, 2: 3, 15: 3, 12: 2, 1: 1, 18: 1})\n"
     ]
    },
    {
     "name": "stderr",
     "output_type": "stream",
     "text": [
      "100%|██████████| 25/25 [00:00<00:00, 43.42it/s]\n"
     ]
    },
    {
     "name": "stdout",
     "output_type": "stream",
     "text": [
      "spent time for epoch 173 is 0.5820555686950684s\n",
      "epoch # : 173 gamma : 0.5 gen loss : 1.055936336517334\n"
     ]
    },
    {
     "name": "stderr",
     "output_type": "stream",
     "text": [
      " 20%|██        | 5/25 [00:00<00:00, 47.45it/s]"
     ]
    },
    {
     "name": "stdout",
     "output_type": "stream",
     "text": [
      "Total number of generated modes is  21\n",
      "The number of high quality samples among 2500 samples is 107\n",
      "The mode dictionary is Counter({8: 15, 2: 11, 7: 9, 13: 9, 16: 8, 1: 7, 11: 7, 3: 7, 9: 5, 6: 4, 12: 4, 10: 3, 15: 3, 19: 3, 21: 3, 14: 2, 17: 2, 20: 2, 22: 1, 23: 1, 5: 1})\n"
     ]
    },
    {
     "name": "stderr",
     "output_type": "stream",
     "text": [
      "100%|██████████| 25/25 [00:00<00:00, 46.16it/s]\n"
     ]
    },
    {
     "name": "stdout",
     "output_type": "stream",
     "text": [
      "spent time for epoch 174 is 0.5474557876586914s\n",
      "epoch # : 174 gamma : 0.5 gen loss : 1.0032740831375122\n"
     ]
    },
    {
     "name": "stderr",
     "output_type": "stream",
     "text": [
      " 20%|██        | 5/25 [00:00<00:00, 48.60it/s]"
     ]
    },
    {
     "name": "stdout",
     "output_type": "stream",
     "text": [
      "Total number of generated modes is  23\n",
      "The number of high quality samples among 2500 samples is 111\n",
      "The mode dictionary is Counter({7: 16, 6: 11, 11: 10, 8: 9, 23: 8, 15: 7, 13: 6, 0: 4, 21: 4, 17: 4, 16: 4, 5: 4, 18: 4, 3: 3, 10: 3, 12: 2, 1: 2, 4: 2, 2: 2, 9: 2, 14: 2, 22: 1, 19: 1})\n"
     ]
    },
    {
     "name": "stderr",
     "output_type": "stream",
     "text": [
      "100%|██████████| 25/25 [00:00<00:00, 48.26it/s]\n"
     ]
    },
    {
     "name": "stdout",
     "output_type": "stream",
     "text": [
      "spent time for epoch 175 is 0.5240414142608643s\n",
      "epoch # : 175 gamma : 0.5 gen loss : 1.0315747261047363\n"
     ]
    },
    {
     "name": "stderr",
     "output_type": "stream",
     "text": [
      " 20%|██        | 5/25 [00:00<00:00, 48.56it/s]"
     ]
    },
    {
     "name": "stdout",
     "output_type": "stream",
     "text": [
      "Total number of generated modes is  22\n",
      "The number of high quality samples among 2500 samples is 117\n",
      "The mode dictionary is Counter({7: 11, 17: 9, 10: 9, 8: 9, 22: 9, 11: 8, 13: 8, 20: 6, 3: 5, 14: 5, 1: 5, 12: 4, 16: 4, 2: 4, 6: 3, 5: 3, 23: 3, 19: 3, 18: 3, 9: 2, 4: 2, 21: 2})\n"
     ]
    },
    {
     "name": "stderr",
     "output_type": "stream",
     "text": [
      "100%|██████████| 25/25 [00:00<00:00, 48.44it/s]\n"
     ]
    },
    {
     "name": "stdout",
     "output_type": "stream",
     "text": [
      "spent time for epoch 176 is 0.5219414234161377s\n",
      "epoch # : 176 gamma : 0.5 gen loss : 1.0341829061508179\n"
     ]
    },
    {
     "name": "stderr",
     "output_type": "stream",
     "text": [
      " 20%|██        | 5/25 [00:00<00:00, 48.79it/s]"
     ]
    },
    {
     "name": "stdout",
     "output_type": "stream",
     "text": [
      "Total number of generated modes is  22\n",
      "The number of high quality samples among 2500 samples is 103\n",
      "The mode dictionary is Counter({7: 16, 8: 9, 16: 9, 0: 9, 11: 8, 15: 6, 2: 5, 21: 5, 13: 5, 10: 5, 4: 4, 6: 3, 9: 3, 14: 3, 17: 3, 19: 3, 12: 2, 23: 1, 22: 1, 18: 1, 5: 1, 1: 1})\n"
     ]
    },
    {
     "name": "stderr",
     "output_type": "stream",
     "text": [
      "100%|██████████| 25/25 [00:00<00:00, 48.11it/s]\n"
     ]
    },
    {
     "name": "stdout",
     "output_type": "stream",
     "text": [
      "spent time for epoch 177 is 0.5256493091583252s\n",
      "epoch # : 177 gamma : 0.5 gen loss : 1.0682508945465088\n"
     ]
    },
    {
     "name": "stderr",
     "output_type": "stream",
     "text": [
      " 24%|██▍       | 6/25 [00:00<00:00, 34.00it/s]"
     ]
    },
    {
     "name": "stdout",
     "output_type": "stream",
     "text": [
      "Total number of generated modes is  22\n",
      "The number of high quality samples among 2500 samples is 115\n",
      "The mode dictionary is Counter({8: 17, 16: 13, 11: 12, 7: 11, 6: 11, 13: 8, 21: 8, 5: 6, 3: 5, 1: 4, 12: 3, 2: 3, 9: 2, 22: 2, 23: 2, 17: 2, 15: 1, 24: 1, 10: 1, 18: 1, 14: 1, 4: 1})\n"
     ]
    },
    {
     "name": "stderr",
     "output_type": "stream",
     "text": [
      "100%|██████████| 25/25 [00:00<00:00, 49.17it/s]\n"
     ]
    },
    {
     "name": "stdout",
     "output_type": "stream",
     "text": [
      "spent time for epoch 178 is 0.5142433643341064s\n",
      "epoch # : 178 gamma : 0.5 gen loss : 1.0144575834274292\n"
     ]
    },
    {
     "name": "stderr",
     "output_type": "stream",
     "text": [
      " 20%|██        | 5/25 [00:00<00:00, 48.95it/s]"
     ]
    },
    {
     "name": "stdout",
     "output_type": "stream",
     "text": [
      "Total number of generated modes is  22\n",
      "The number of high quality samples among 2500 samples is 105\n",
      "The mode dictionary is Counter({13: 10, 19: 9, 8: 8, 6: 8, 0: 7, 15: 7, 7: 6, 9: 6, 5: 5, 3: 5, 11: 5, 1: 5, 14: 4, 22: 3, 12: 3, 10: 3, 2: 2, 23: 2, 17: 2, 21: 2, 16: 2, 18: 1})\n"
     ]
    },
    {
     "name": "stderr",
     "output_type": "stream",
     "text": [
      "100%|██████████| 25/25 [00:00<00:00, 48.78it/s]\n"
     ]
    },
    {
     "name": "stdout",
     "output_type": "stream",
     "text": [
      "spent time for epoch 179 is 0.5183591842651367s\n",
      "epoch # : 179 gamma : 0.5 gen loss : 1.025942325592041\n"
     ]
    },
    {
     "name": "stderr",
     "output_type": "stream",
     "text": [
      " 20%|██        | 5/25 [00:00<00:00, 48.91it/s]"
     ]
    },
    {
     "name": "stdout",
     "output_type": "stream",
     "text": [
      "Total number of generated modes is  20\n",
      "The number of high quality samples among 2500 samples is 122\n",
      "The mode dictionary is Counter({10: 23, 15: 9, 8: 9, 7: 8, 21: 8, 16: 7, 1: 7, 6: 7, 12: 6, 11: 5, 3: 5, 22: 4, 0: 4, 18: 4, 9: 4, 17: 3, 2: 3, 5: 2, 14: 2, 13: 2})\n"
     ]
    },
    {
     "name": "stderr",
     "output_type": "stream",
     "text": [
      "100%|██████████| 25/25 [00:00<00:00, 48.94it/s]\n"
     ]
    },
    {
     "name": "stdout",
     "output_type": "stream",
     "text": [
      "spent time for epoch 180 is 0.5165069103240967s\n",
      "epoch # : 180 gamma : 0.5 gen loss : 0.9992655515670776\n"
     ]
    },
    {
     "name": "stderr",
     "output_type": "stream",
     "text": [
      " 20%|██        | 5/25 [00:00<00:00, 49.29it/s]"
     ]
    },
    {
     "name": "stdout",
     "output_type": "stream",
     "text": [
      "Total number of generated modes is  20\n",
      "The number of high quality samples among 2500 samples is 99\n",
      "The mode dictionary is Counter({8: 12, 13: 11, 11: 10, 7: 9, 6: 9, 12: 8, 4: 7, 16: 6, 21: 4, 10: 4, 23: 3, 18: 3, 3: 3, 0: 3, 14: 2, 17: 1, 19: 1, 1: 1, 22: 1, 2: 1})\n"
     ]
    },
    {
     "name": "stderr",
     "output_type": "stream",
     "text": [
      "100%|██████████| 25/25 [00:00<00:00, 48.93it/s]\n"
     ]
    },
    {
     "name": "stdout",
     "output_type": "stream",
     "text": [
      "spent time for epoch 181 is 0.516777515411377s\n",
      "epoch # : 181 gamma : 0.5 gen loss : 1.0435725450515747\n"
     ]
    },
    {
     "name": "stderr",
     "output_type": "stream",
     "text": [
      " 20%|██        | 5/25 [00:00<00:00, 49.50it/s]"
     ]
    },
    {
     "name": "stdout",
     "output_type": "stream",
     "text": [
      "Total number of generated modes is  21\n",
      "The number of high quality samples among 2500 samples is 77\n",
      "The mode dictionary is Counter({7: 13, 24: 7, 17: 7, 0: 6, 16: 4, 22: 4, 6: 4, 15: 4, 12: 4, 18: 3, 5: 3, 9: 3, 11: 3, 10: 2, 23: 2, 14: 2, 4: 2, 13: 1, 3: 1, 2: 1, 21: 1})\n"
     ]
    },
    {
     "name": "stderr",
     "output_type": "stream",
     "text": [
      "100%|██████████| 25/25 [00:00<00:00, 48.98it/s]\n"
     ]
    },
    {
     "name": "stdout",
     "output_type": "stream",
     "text": [
      "spent time for epoch 182 is 0.5164320468902588s\n",
      "epoch # : 182 gamma : 0.5 gen loss : 1.0384246110916138\n"
     ]
    },
    {
     "name": "stderr",
     "output_type": "stream",
     "text": [
      " 20%|██        | 5/25 [00:00<00:00, 49.45it/s]"
     ]
    },
    {
     "name": "stdout",
     "output_type": "stream",
     "text": [
      "Total number of generated modes is  21\n",
      "The number of high quality samples among 2500 samples is 114\n",
      "The mode dictionary is Counter({10: 13, 1: 11, 11: 10, 7: 9, 16: 9, 17: 8, 22: 8, 3: 7, 2: 6, 21: 5, 6: 5, 15: 5, 8: 4, 19: 3, 23: 3, 18: 2, 5: 2, 4: 1, 12: 1, 13: 1, 14: 1})\n"
     ]
    },
    {
     "name": "stderr",
     "output_type": "stream",
     "text": [
      "100%|██████████| 25/25 [00:00<00:00, 49.00it/s]\n"
     ]
    },
    {
     "name": "stdout",
     "output_type": "stream",
     "text": [
      "spent time for epoch 183 is 0.5158305168151855s\n",
      "epoch # : 183 gamma : 0.5 gen loss : 1.0251740217208862\n"
     ]
    },
    {
     "name": "stderr",
     "output_type": "stream",
     "text": [
      "  4%|▍         | 1/25 [00:00<00:03,  7.41it/s]"
     ]
    },
    {
     "name": "stdout",
     "output_type": "stream",
     "text": [
      "Total number of generated modes is  22\n",
      "The number of high quality samples among 2500 samples is 131\n",
      "The mode dictionary is Counter({8: 19, 2: 15, 22: 13, 17: 11, 7: 10, 3: 9, 6: 8, 1: 8, 11: 6, 16: 5, 12: 4, 13: 3, 9: 3, 19: 3, 14: 3, 10: 3, 15: 2, 0: 2, 23: 1, 5: 1, 18: 1, 21: 1})\n"
     ]
    },
    {
     "name": "stderr",
     "output_type": "stream",
     "text": [
      "100%|██████████| 25/25 [00:00<00:00, 43.22it/s]\n"
     ]
    },
    {
     "name": "stdout",
     "output_type": "stream",
     "text": [
      "spent time for epoch 184 is 0.5841705799102783s\n",
      "epoch # : 184 gamma : 0.5 gen loss : 1.0831466913223267\n"
     ]
    },
    {
     "name": "stderr",
     "output_type": "stream",
     "text": [
      " 20%|██        | 5/25 [00:00<00:00, 48.29it/s]"
     ]
    },
    {
     "name": "stdout",
     "output_type": "stream",
     "text": [
      "Total number of generated modes is  23\n",
      "The number of high quality samples among 2500 samples is 137\n",
      "The mode dictionary is Counter({7: 14, 10: 14, 8: 11, 3: 11, 16: 11, 11: 10, 0: 9, 21: 8, 17: 6, 14: 6, 9: 5, 6: 5, 19: 4, 5: 4, 1: 4, 13: 3, 2: 3, 23: 2, 22: 2, 18: 2, 12: 1, 4: 1, 15: 1})\n"
     ]
    },
    {
     "name": "stderr",
     "output_type": "stream",
     "text": [
      "100%|██████████| 25/25 [00:00<00:00, 48.42it/s]\n"
     ]
    },
    {
     "name": "stdout",
     "output_type": "stream",
     "text": [
      "spent time for epoch 185 is 0.5220208168029785s\n",
      "epoch # : 185 gamma : 0.5 gen loss : 1.0057324171066284\n"
     ]
    },
    {
     "name": "stderr",
     "output_type": "stream",
     "text": [
      " 20%|██        | 5/25 [00:00<00:00, 48.28it/s]"
     ]
    },
    {
     "name": "stdout",
     "output_type": "stream",
     "text": [
      "Total number of generated modes is  18\n",
      "The number of high quality samples among 2500 samples is 116\n",
      "The mode dictionary is Counter({22: 13, 8: 13, 10: 10, 4: 9, 6: 8, 13: 8, 16: 8, 17: 7, 1: 7, 2: 6, 7: 6, 15: 5, 5: 4, 9: 4, 11: 3, 12: 2, 18: 2, 23: 1})\n"
     ]
    },
    {
     "name": "stderr",
     "output_type": "stream",
     "text": [
      "100%|██████████| 25/25 [00:00<00:00, 48.52it/s]\n"
     ]
    },
    {
     "name": "stdout",
     "output_type": "stream",
     "text": [
      "spent time for epoch 186 is 0.5211718082427979s\n",
      "epoch # : 186 gamma : 0.5 gen loss : 1.0731154680252075\n"
     ]
    },
    {
     "name": "stderr",
     "output_type": "stream",
     "text": [
      " 20%|██        | 5/25 [00:00<00:00, 48.66it/s]"
     ]
    },
    {
     "name": "stdout",
     "output_type": "stream",
     "text": [
      "Total number of generated modes is  21\n",
      "The number of high quality samples among 2500 samples is 107\n",
      "The mode dictionary is Counter({10: 17, 16: 10, 8: 9, 7: 8, 2: 8, 9: 7, 15: 6, 3: 6, 6: 5, 0: 5, 22: 4, 24: 4, 17: 4, 14: 3, 13: 3, 1: 2, 21: 2, 18: 1, 11: 1, 5: 1, 12: 1})\n"
     ]
    },
    {
     "name": "stderr",
     "output_type": "stream",
     "text": [
      "100%|██████████| 25/25 [00:00<00:00, 48.54it/s]\n"
     ]
    },
    {
     "name": "stdout",
     "output_type": "stream",
     "text": [
      "spent time for epoch 187 is 0.5208382606506348s\n",
      "epoch # : 187 gamma : 0.5 gen loss : 1.0691157579421997\n"
     ]
    },
    {
     "name": "stderr",
     "output_type": "stream",
     "text": [
      " 20%|██        | 5/25 [00:00<00:00, 49.13it/s]"
     ]
    },
    {
     "name": "stdout",
     "output_type": "stream",
     "text": [
      "Total number of generated modes is  23\n",
      "The number of high quality samples among 2500 samples is 118\n",
      "The mode dictionary is Counter({13: 13, 15: 10, 2: 9, 5: 8, 0: 8, 21: 6, 7: 6, 16: 5, 20: 5, 17: 5, 11: 5, 6: 5, 24: 4, 8: 4, 3: 4, 14: 4, 12: 3, 22: 3, 18: 3, 19: 3, 23: 2, 9: 2, 1: 1})\n"
     ]
    },
    {
     "name": "stderr",
     "output_type": "stream",
     "text": [
      "100%|██████████| 25/25 [00:00<00:00, 48.51it/s]\n"
     ]
    },
    {
     "name": "stdout",
     "output_type": "stream",
     "text": [
      "spent time for epoch 188 is 0.5208797454833984s\n",
      "epoch # : 188 gamma : 0.5 gen loss : 1.0405502319335938\n"
     ]
    },
    {
     "name": "stderr",
     "output_type": "stream",
     "text": [
      " 20%|██        | 5/25 [00:00<00:00, 49.20it/s]"
     ]
    },
    {
     "name": "stdout",
     "output_type": "stream",
     "text": [
      "Total number of generated modes is  20\n",
      "The number of high quality samples among 2500 samples is 107\n",
      "The mode dictionary is Counter({2: 14, 3: 12, 7: 10, 4: 8, 6: 7, 15: 6, 21: 5, 12: 5, 10: 5, 16: 5, 18: 5, 17: 5, 13: 5, 22: 3, 5: 3, 20: 2, 14: 2, 8: 2, 11: 2, 9: 1})\n"
     ]
    },
    {
     "name": "stderr",
     "output_type": "stream",
     "text": [
      "100%|██████████| 25/25 [00:00<00:00, 48.49it/s]\n"
     ]
    },
    {
     "name": "stdout",
     "output_type": "stream",
     "text": [
      "spent time for epoch 189 is 0.5212335586547852s\n",
      "epoch # : 189 gamma : 0.5 gen loss : 1.034758448600769\n"
     ]
    },
    {
     "name": "stderr",
     "output_type": "stream",
     "text": [
      " 20%|██        | 5/25 [00:00<00:00, 49.18it/s]"
     ]
    },
    {
     "name": "stdout",
     "output_type": "stream",
     "text": [
      "Total number of generated modes is  24\n",
      "The number of high quality samples among 2500 samples is 116\n",
      "The mode dictionary is Counter({5: 22, 7: 15, 8: 12, 16: 6, 3: 6, 11: 6, 21: 5, 2: 5, 6: 4, 0: 4, 13: 3, 20: 3, 10: 3, 18: 3, 17: 3, 1: 3, 14: 2, 23: 2, 4: 2, 19: 2, 22: 2, 15: 1, 12: 1, 9: 1})\n"
     ]
    },
    {
     "name": "stderr",
     "output_type": "stream",
     "text": [
      "100%|██████████| 25/25 [00:00<00:00, 48.78it/s]\n"
     ]
    },
    {
     "name": "stdout",
     "output_type": "stream",
     "text": [
      "spent time for epoch 190 is 0.5184240341186523s\n",
      "epoch # : 190 gamma : 0.5 gen loss : 1.045225977897644\n"
     ]
    },
    {
     "name": "stderr",
     "output_type": "stream",
     "text": [
      " 20%|██        | 5/25 [00:00<00:00, 48.81it/s]"
     ]
    },
    {
     "name": "stdout",
     "output_type": "stream",
     "text": [
      "Total number of generated modes is  21\n",
      "The number of high quality samples among 2500 samples is 126\n",
      "The mode dictionary is Counter({15: 18, 6: 13, 5: 12, 23: 11, 7: 10, 0: 9, 10: 7, 8: 6, 3: 6, 21: 6, 22: 6, 2: 5, 16: 4, 17: 2, 18: 2, 13: 2, 19: 2, 14: 2, 9: 1, 11: 1, 1: 1})\n"
     ]
    },
    {
     "name": "stderr",
     "output_type": "stream",
     "text": [
      "100%|██████████| 25/25 [00:00<00:00, 48.98it/s]\n"
     ]
    },
    {
     "name": "stdout",
     "output_type": "stream",
     "text": [
      "spent time for epoch 191 is 0.5162765979766846s\n",
      "epoch # : 191 gamma : 0.5 gen loss : 1.0256993770599365\n"
     ]
    },
    {
     "name": "stderr",
     "output_type": "stream",
     "text": [
      " 20%|██        | 5/25 [00:00<00:00, 48.95it/s]"
     ]
    },
    {
     "name": "stdout",
     "output_type": "stream",
     "text": [
      "Total number of generated modes is  23\n",
      "The number of high quality samples among 2500 samples is 121\n",
      "The mode dictionary is Counter({7: 16, 22: 11, 16: 11, 13: 10, 20: 8, 8: 7, 15: 7, 10: 7, 6: 6, 17: 6, 4: 4, 12: 4, 18: 4, 9: 3, 24: 3, 1: 2, 0: 2, 11: 2, 21: 2, 3: 2, 23: 2, 5: 1, 2: 1})\n"
     ]
    },
    {
     "name": "stderr",
     "output_type": "stream",
     "text": [
      "100%|██████████| 25/25 [00:00<00:00, 48.32it/s]\n"
     ]
    },
    {
     "name": "stdout",
     "output_type": "stream",
     "text": [
      "spent time for epoch 192 is 0.5233659744262695s\n",
      "epoch # : 192 gamma : 0.5 gen loss : 1.0686997175216675\n"
     ]
    },
    {
     "name": "stderr",
     "output_type": "stream",
     "text": [
      " 20%|██        | 5/25 [00:00<00:00, 47.86it/s]"
     ]
    },
    {
     "name": "stdout",
     "output_type": "stream",
     "text": [
      "Total number of generated modes is  23\n",
      "The number of high quality samples among 2500 samples is 124\n",
      "The mode dictionary is Counter({5: 12, 0: 11, 6: 10, 7: 8, 22: 8, 2: 8, 13: 7, 11: 6, 3: 6, 20: 6, 17: 6, 18: 6, 15: 5, 1: 4, 4: 4, 10: 3, 12: 3, 14: 3, 8: 3, 23: 2, 19: 1, 16: 1, 9: 1})\n"
     ]
    },
    {
     "name": "stderr",
     "output_type": "stream",
     "text": [
      "100%|██████████| 25/25 [00:00<00:00, 48.91it/s]\n"
     ]
    },
    {
     "name": "stdout",
     "output_type": "stream",
     "text": [
      "spent time for epoch 193 is 0.5171065330505371s\n",
      "epoch # : 193 gamma : 0.5 gen loss : 1.0114209651947021\n"
     ]
    },
    {
     "name": "stderr",
     "output_type": "stream",
     "text": [
      " 20%|██        | 5/25 [00:00<00:00, 49.07it/s]"
     ]
    },
    {
     "name": "stdout",
     "output_type": "stream",
     "text": [
      "Total number of generated modes is  23\n",
      "The number of high quality samples among 2500 samples is 118\n",
      "The mode dictionary is Counter({7: 11, 24: 10, 5: 9, 19: 9, 11: 8, 20: 8, 10: 7, 2: 7, 21: 7, 23: 6, 6: 5, 15: 5, 3: 4, 9: 3, 18: 3, 22: 3, 0: 3, 13: 3, 17: 3, 8: 1, 14: 1, 1: 1, 12: 1})\n"
     ]
    },
    {
     "name": "stderr",
     "output_type": "stream",
     "text": [
      "100%|██████████| 25/25 [00:00<00:00, 47.12it/s]\n"
     ]
    },
    {
     "name": "stdout",
     "output_type": "stream",
     "text": [
      "spent time for epoch 194 is 0.5384063720703125s\n",
      "epoch # : 194 gamma : 0.5 gen loss : 1.0452872514724731\n"
     ]
    },
    {
     "name": "stderr",
     "output_type": "stream",
     "text": [
      "  4%|▍         | 1/25 [00:00<00:03,  7.54it/s]"
     ]
    },
    {
     "name": "stdout",
     "output_type": "stream",
     "text": [
      "Total number of generated modes is  21\n",
      "The number of high quality samples among 2500 samples is 100\n",
      "The mode dictionary is Counter({4: 11, 16: 9, 6: 9, 1: 8, 5: 8, 2: 8, 21: 5, 24: 5, 11: 5, 7: 5, 18: 5, 3: 4, 10: 3, 20: 3, 8: 2, 17: 2, 15: 2, 22: 2, 13: 2, 9: 1, 23: 1})\n"
     ]
    },
    {
     "name": "stderr",
     "output_type": "stream",
     "text": [
      "100%|██████████| 25/25 [00:00<00:00, 42.90it/s]\n"
     ]
    },
    {
     "name": "stdout",
     "output_type": "stream",
     "text": [
      "spent time for epoch 195 is 0.5885539054870605s\n",
      "epoch # : 195 gamma : 0.5 gen loss : 1.0208873748779297\n"
     ]
    },
    {
     "name": "stderr",
     "output_type": "stream",
     "text": [
      " 20%|██        | 5/25 [00:00<00:00, 48.37it/s]"
     ]
    },
    {
     "name": "stdout",
     "output_type": "stream",
     "text": [
      "Total number of generated modes is  24\n",
      "The number of high quality samples among 2500 samples is 135\n",
      "The mode dictionary is Counter({8: 17, 10: 15, 15: 14, 0: 14, 5: 9, 23: 9, 4: 7, 7: 7, 20: 6, 3: 6, 11: 4, 21: 4, 16: 3, 6: 3, 24: 2, 22: 2, 1: 2, 13: 2, 9: 2, 2: 2, 17: 2, 12: 1, 19: 1, 18: 1})\n"
     ]
    },
    {
     "name": "stderr",
     "output_type": "stream",
     "text": [
      "100%|██████████| 25/25 [00:00<00:00, 48.34it/s]\n"
     ]
    },
    {
     "name": "stdout",
     "output_type": "stream",
     "text": [
      "spent time for epoch 196 is 0.5228738784790039s\n",
      "epoch # : 196 gamma : 0.5 gen loss : 1.008109211921692\n"
     ]
    },
    {
     "name": "stderr",
     "output_type": "stream",
     "text": [
      " 20%|██        | 5/25 [00:00<00:00, 48.57it/s]"
     ]
    },
    {
     "name": "stdout",
     "output_type": "stream",
     "text": [
      "Total number of generated modes is  22\n",
      "The number of high quality samples among 2500 samples is 185\n",
      "The mode dictionary is Counter({10: 21, 0: 17, 2: 14, 16: 11, 7: 11, 8: 11, 14: 10, 9: 10, 6: 9, 24: 9, 15: 8, 5: 8, 12: 7, 13: 7, 3: 7, 19: 6, 11: 6, 1: 4, 22: 3, 17: 2, 21: 2, 18: 2})\n"
     ]
    },
    {
     "name": "stderr",
     "output_type": "stream",
     "text": [
      "100%|██████████| 25/25 [00:00<00:00, 48.45it/s]\n"
     ]
    },
    {
     "name": "stdout",
     "output_type": "stream",
     "text": [
      "spent time for epoch 197 is 0.5217792987823486s\n",
      "epoch # : 197 gamma : 0.5 gen loss : 1.029720425605774\n"
     ]
    },
    {
     "name": "stderr",
     "output_type": "stream",
     "text": [
      " 20%|██        | 5/25 [00:00<00:00, 48.59it/s]"
     ]
    },
    {
     "name": "stdout",
     "output_type": "stream",
     "text": [
      "Total number of generated modes is  23\n",
      "The number of high quality samples among 2500 samples is 134\n",
      "The mode dictionary is Counter({5: 17, 7: 14, 8: 12, 16: 9, 6: 9, 3: 7, 19: 6, 11: 6, 1: 6, 17: 6, 21: 5, 14: 5, 22: 5, 2: 5, 12: 4, 0: 3, 20: 3, 9: 3, 18: 2, 23: 2, 15: 2, 13: 2, 10: 1})\n"
     ]
    },
    {
     "name": "stderr",
     "output_type": "stream",
     "text": [
      "100%|██████████| 25/25 [00:00<00:00, 47.44it/s]\n"
     ]
    },
    {
     "name": "stdout",
     "output_type": "stream",
     "text": [
      "spent time for epoch 198 is 0.5325062274932861s\n",
      "epoch # : 198 gamma : 0.5 gen loss : 1.0498822927474976\n"
     ]
    },
    {
     "name": "stderr",
     "output_type": "stream",
     "text": [
      " 12%|█▏        | 3/25 [00:00<00:00, 29.18it/s]"
     ]
    },
    {
     "name": "stdout",
     "output_type": "stream",
     "text": [
      "Total number of generated modes is  23\n",
      "The number of high quality samples among 2500 samples is 96\n",
      "The mode dictionary is Counter({20: 9, 13: 8, 12: 8, 8: 7, 11: 7, 6: 6, 10: 5, 5: 5, 1: 5, 7: 5, 2: 4, 21: 4, 15: 4, 18: 4, 9: 3, 24: 2, 14: 2, 3: 2, 22: 2, 17: 1, 19: 1, 23: 1, 0: 1})\n"
     ]
    },
    {
     "name": "stderr",
     "output_type": "stream",
     "text": [
      "100%|██████████| 25/25 [00:00<00:00, 46.94it/s]\n"
     ]
    },
    {
     "name": "stdout",
     "output_type": "stream",
     "text": [
      "spent time for epoch 199 is 0.5382626056671143s\n",
      "epoch # : 199 gamma : 0.5 gen loss : 0.9988000392913818\n"
     ]
    },
    {
     "name": "stderr",
     "output_type": "stream",
     "text": [
      " 20%|██        | 5/25 [00:00<00:00, 48.83it/s]"
     ]
    },
    {
     "name": "stdout",
     "output_type": "stream",
     "text": [
      "Total number of generated modes is  25\n",
      "The number of high quality samples among 2500 samples is 170\n",
      "The mode dictionary is Counter({10: 18, 4: 17, 11: 12, 13: 12, 7: 11, 15: 11, 6: 10, 16: 9, 2: 8, 0: 7, 21: 6, 17: 6, 3: 6, 14: 6, 20: 5, 23: 4, 19: 4, 12: 3, 9: 3, 18: 3, 22: 3, 1: 2, 8: 2, 24: 1, 5: 1})\n"
     ]
    },
    {
     "name": "stderr",
     "output_type": "stream",
     "text": [
      "100%|██████████| 25/25 [00:00<00:00, 47.75it/s]\n"
     ]
    },
    {
     "name": "stdout",
     "output_type": "stream",
     "text": [
      "spent time for epoch 200 is 0.529411792755127s\n",
      "epoch # : 200 gamma : 0.5 gen loss : 1.0096293687820435\n"
     ]
    },
    {
     "name": "stderr",
     "output_type": "stream",
     "text": [
      " 20%|██        | 5/25 [00:00<00:00, 48.58it/s]"
     ]
    },
    {
     "name": "stdout",
     "output_type": "stream",
     "text": [
      "Total number of generated modes is  25\n",
      "The number of high quality samples among 2500 samples is 123\n",
      "The mode dictionary is Counter({22: 13, 20: 12, 11: 10, 15: 9, 16: 8, 10: 8, 23: 7, 17: 6, 0: 6, 21: 5, 18: 5, 4: 5, 6: 4, 1: 3, 5: 3, 13: 3, 7: 3, 9: 3, 24: 2, 19: 2, 2: 2, 12: 1, 8: 1, 14: 1, 3: 1})\n"
     ]
    },
    {
     "name": "stderr",
     "output_type": "stream",
     "text": [
      "100%|██████████| 25/25 [00:00<00:00, 48.13it/s]\n"
     ]
    },
    {
     "name": "stdout",
     "output_type": "stream",
     "text": [
      "spent time for epoch 201 is 0.525294303894043s\n",
      "epoch # : 201 gamma : 0.5 gen loss : 1.0587291717529297\n"
     ]
    },
    {
     "name": "stderr",
     "output_type": "stream",
     "text": [
      " 16%|█▌        | 4/25 [00:00<00:00, 38.26it/s]"
     ]
    },
    {
     "name": "stdout",
     "output_type": "stream",
     "text": [
      "Total number of generated modes is  23\n",
      "The number of high quality samples among 2500 samples is 111\n",
      "The mode dictionary is Counter({10: 20, 6: 13, 7: 8, 24: 8, 11: 6, 1: 6, 16: 5, 4: 5, 2: 5, 23: 4, 12: 4, 21: 4, 0: 4, 3: 3, 18: 3, 8: 3, 9: 2, 19: 2, 14: 2, 13: 1, 17: 1, 22: 1, 5: 1})\n"
     ]
    },
    {
     "name": "stderr",
     "output_type": "stream",
     "text": [
      "100%|██████████| 25/25 [00:00<00:00, 47.94it/s]\n"
     ]
    },
    {
     "name": "stdout",
     "output_type": "stream",
     "text": [
      "spent time for epoch 202 is 0.527118444442749s\n",
      "epoch # : 202 gamma : 0.5 gen loss : 1.0254226922988892\n"
     ]
    },
    {
     "name": "stderr",
     "output_type": "stream",
     "text": [
      " 20%|██        | 5/25 [00:00<00:00, 49.46it/s]"
     ]
    },
    {
     "name": "stdout",
     "output_type": "stream",
     "text": [
      "Total number of generated modes is  22\n",
      "The number of high quality samples among 2500 samples is 111\n",
      "The mode dictionary is Counter({6: 14, 5: 11, 16: 11, 0: 10, 7: 9, 3: 7, 2: 7, 9: 5, 10: 4, 17: 4, 8: 4, 24: 4, 23: 4, 13: 3, 12: 2, 14: 2, 21: 2, 1: 2, 19: 2, 11: 2, 18: 1, 22: 1})\n"
     ]
    },
    {
     "name": "stderr",
     "output_type": "stream",
     "text": [
      "100%|██████████| 25/25 [00:00<00:00, 48.94it/s]\n"
     ]
    },
    {
     "name": "stdout",
     "output_type": "stream",
     "text": [
      "spent time for epoch 203 is 0.5165064334869385s\n",
      "epoch # : 203 gamma : 0.5 gen loss : 1.0413726568222046\n"
     ]
    },
    {
     "name": "stderr",
     "output_type": "stream",
     "text": [
      " 20%|██        | 5/25 [00:00<00:00, 49.72it/s]"
     ]
    },
    {
     "name": "stdout",
     "output_type": "stream",
     "text": [
      "Total number of generated modes is  23\n",
      "The number of high quality samples among 2500 samples is 100\n",
      "The mode dictionary is Counter({7: 14, 16: 9, 15: 7, 2: 7, 11: 7, 13: 7, 8: 6, 17: 6, 24: 5, 12: 5, 1: 3, 21: 3, 6: 3, 0: 3, 9: 3, 20: 3, 10: 2, 22: 2, 19: 1, 5: 1, 4: 1, 23: 1, 18: 1})\n"
     ]
    },
    {
     "name": "stderr",
     "output_type": "stream",
     "text": [
      "100%|██████████| 25/25 [00:00<00:00, 49.23it/s]\n"
     ]
    },
    {
     "name": "stdout",
     "output_type": "stream",
     "text": [
      "spent time for epoch 204 is 0.5137803554534912s\n",
      "epoch # : 204 gamma : 0.5 gen loss : 1.0292714834213257\n"
     ]
    },
    {
     "name": "stderr",
     "output_type": "stream",
     "text": [
      " 20%|██        | 5/25 [00:00<00:00, 48.24it/s]"
     ]
    },
    {
     "name": "stdout",
     "output_type": "stream",
     "text": [
      "Total number of generated modes is  25\n",
      "The number of high quality samples among 2500 samples is 152\n",
      "The mode dictionary is Counter({10: 15, 0: 13, 7: 12, 9: 10, 6: 9, 16: 9, 2: 9, 21: 8, 12: 7, 3: 7, 11: 5, 4: 5, 1: 5, 15: 5, 8: 5, 22: 4, 13: 4, 20: 4, 17: 3, 23: 3, 5: 3, 24: 2, 19: 2, 18: 2, 14: 1})\n"
     ]
    },
    {
     "name": "stderr",
     "output_type": "stream",
     "text": [
      "100%|██████████| 25/25 [00:00<00:00, 48.71it/s]\n"
     ]
    },
    {
     "name": "stdout",
     "output_type": "stream",
     "text": [
      "spent time for epoch 205 is 0.5187077522277832s\n",
      "epoch # : 205 gamma : 0.5 gen loss : 1.0323070287704468\n"
     ]
    },
    {
     "name": "stderr",
     "output_type": "stream",
     "text": [
      "  4%|▍         | 1/25 [00:00<00:03,  7.50it/s]"
     ]
    },
    {
     "name": "stdout",
     "output_type": "stream",
     "text": [
      "Total number of generated modes is  20\n",
      "The number of high quality samples among 2500 samples is 129\n",
      "The mode dictionary is Counter({6: 19, 10: 13, 7: 12, 5: 11, 16: 10, 22: 8, 23: 7, 0: 7, 8: 7, 11: 6, 15: 6, 17: 5, 12: 4, 18: 4, 2: 3, 4: 2, 20: 2, 1: 1, 13: 1, 19: 1})\n"
     ]
    },
    {
     "name": "stderr",
     "output_type": "stream",
     "text": [
      "100%|██████████| 25/25 [00:00<00:00, 41.87it/s]\n"
     ]
    },
    {
     "name": "stdout",
     "output_type": "stream",
     "text": [
      "spent time for epoch 206 is 0.6030707359313965s\n",
      "epoch # : 206 gamma : 0.5 gen loss : 1.056107521057129\n"
     ]
    },
    {
     "name": "stderr",
     "output_type": "stream",
     "text": [
      " 16%|█▌        | 4/25 [00:00<00:00, 38.60it/s]"
     ]
    },
    {
     "name": "stdout",
     "output_type": "stream",
     "text": [
      "Total number of generated modes is  23\n",
      "The number of high quality samples among 2500 samples is 118\n",
      "The mode dictionary is Counter({7: 16, 6: 15, 8: 15, 11: 8, 5: 6, 4: 6, 3: 6, 10: 5, 15: 5, 23: 5, 20: 5, 21: 4, 16: 4, 13: 3, 18: 2, 19: 2, 17: 2, 2: 2, 1: 2, 12: 2, 24: 1, 0: 1, 22: 1})\n"
     ]
    },
    {
     "name": "stderr",
     "output_type": "stream",
     "text": [
      "100%|██████████| 25/25 [00:00<00:00, 47.86it/s]\n"
     ]
    },
    {
     "name": "stdout",
     "output_type": "stream",
     "text": [
      "spent time for epoch 207 is 0.5281262397766113s\n",
      "epoch # : 207 gamma : 0.5 gen loss : 1.0367430448532104\n"
     ]
    },
    {
     "name": "stderr",
     "output_type": "stream",
     "text": [
      " 20%|██        | 5/25 [00:00<00:00, 49.45it/s]"
     ]
    },
    {
     "name": "stdout",
     "output_type": "stream",
     "text": [
      "Total number of generated modes is  24\n",
      "The number of high quality samples among 2500 samples is 147\n",
      "The mode dictionary is Counter({6: 17, 7: 16, 4: 12, 16: 11, 8: 10, 0: 8, 3: 7, 14: 7, 2: 5, 11: 5, 13: 4, 18: 4, 1: 4, 22: 4, 17: 4, 10: 4, 21: 4, 19: 4, 15: 3, 12: 3, 5: 3, 20: 3, 23: 3, 9: 2})\n"
     ]
    },
    {
     "name": "stderr",
     "output_type": "stream",
     "text": [
      "100%|██████████| 25/25 [00:00<00:00, 48.41it/s]\n"
     ]
    },
    {
     "name": "stdout",
     "output_type": "stream",
     "text": [
      "spent time for epoch 208 is 0.5222129821777344s\n",
      "epoch # : 208 gamma : 0.5 gen loss : 1.0119737386703491\n"
     ]
    },
    {
     "name": "stderr",
     "output_type": "stream",
     "text": [
      " 20%|██        | 5/25 [00:00<00:00, 48.70it/s]"
     ]
    },
    {
     "name": "stdout",
     "output_type": "stream",
     "text": [
      "Total number of generated modes is  23\n",
      "The number of high quality samples among 2500 samples is 134\n",
      "The mode dictionary is Counter({5: 20, 7: 14, 3: 12, 8: 12, 4: 10, 6: 9, 0: 9, 2: 7, 21: 5, 20: 4, 15: 4, 24: 4, 11: 4, 18: 3, 19: 3, 16: 3, 13: 3, 9: 2, 1: 2, 17: 1, 23: 1, 22: 1, 10: 1})\n"
     ]
    },
    {
     "name": "stderr",
     "output_type": "stream",
     "text": [
      "100%|██████████| 25/25 [00:00<00:00, 47.99it/s]\n"
     ]
    },
    {
     "name": "stdout",
     "output_type": "stream",
     "text": [
      "spent time for epoch 209 is 0.5267078876495361s\n",
      "epoch # : 209 gamma : 0.5 gen loss : 0.9935654997825623\n"
     ]
    },
    {
     "name": "stderr",
     "output_type": "stream",
     "text": [
      " 20%|██        | 5/25 [00:00<00:00, 49.27it/s]"
     ]
    },
    {
     "name": "stdout",
     "output_type": "stream",
     "text": [
      "Total number of generated modes is  24\n",
      "The number of high quality samples among 2500 samples is 152\n",
      "The mode dictionary is Counter({20: 14, 0: 14, 5: 13, 6: 13, 7: 13, 15: 9, 8: 9, 18: 8, 10: 7, 4: 6, 1: 5, 13: 5, 22: 5, 21: 4, 24: 4, 11: 4, 12: 3, 17: 3, 14: 3, 23: 3, 16: 2, 9: 2, 3: 2, 2: 1})\n"
     ]
    },
    {
     "name": "stderr",
     "output_type": "stream",
     "text": [
      "100%|██████████| 25/25 [00:00<00:00, 48.92it/s]\n"
     ]
    },
    {
     "name": "stdout",
     "output_type": "stream",
     "text": [
      "spent time for epoch 210 is 0.5167548656463623s\n",
      "epoch # : 210 gamma : 0.5 gen loss : 1.0582129955291748\n"
     ]
    },
    {
     "name": "stderr",
     "output_type": "stream",
     "text": [
      " 20%|██        | 5/25 [00:00<00:00, 48.53it/s]"
     ]
    },
    {
     "name": "stdout",
     "output_type": "stream",
     "text": [
      "Total number of generated modes is  24\n",
      "The number of high quality samples among 2500 samples is 160\n",
      "The mode dictionary is Counter({10: 18, 7: 13, 20: 13, 6: 12, 15: 11, 8: 10, 4: 10, 0: 8, 3: 7, 1: 7, 16: 7, 21: 6, 11: 5, 5: 5, 22: 5, 2: 5, 24: 5, 12: 3, 9: 2, 18: 2, 17: 2, 13: 2, 23: 1, 14: 1})\n"
     ]
    },
    {
     "name": "stderr",
     "output_type": "stream",
     "text": [
      "100%|██████████| 25/25 [00:00<00:00, 48.73it/s]\n"
     ]
    },
    {
     "name": "stdout",
     "output_type": "stream",
     "text": [
      "spent time for epoch 211 is 0.5191009044647217s\n",
      "epoch # : 211 gamma : 0.5 gen loss : 1.0638244152069092\n"
     ]
    },
    {
     "name": "stderr",
     "output_type": "stream",
     "text": [
      " 20%|██        | 5/25 [00:00<00:00, 48.51it/s]"
     ]
    },
    {
     "name": "stdout",
     "output_type": "stream",
     "text": [
      "Total number of generated modes is  22\n",
      "The number of high quality samples among 2500 samples is 85\n",
      "The mode dictionary is Counter({11: 12, 8: 9, 20: 7, 24: 7, 6: 6, 15: 6, 12: 6, 13: 5, 9: 4, 17: 4, 2: 3, 23: 2, 5: 2, 10: 2, 7: 2, 18: 2, 4: 1, 22: 1, 3: 1, 21: 1, 0: 1, 16: 1})\n"
     ]
    },
    {
     "name": "stderr",
     "output_type": "stream",
     "text": [
      "100%|██████████| 25/25 [00:00<00:00, 49.02it/s]\n"
     ]
    },
    {
     "name": "stdout",
     "output_type": "stream",
     "text": [
      "spent time for epoch 212 is 0.5160362720489502s\n",
      "epoch # : 212 gamma : 0.5 gen loss : 1.0064011812210083\n"
     ]
    },
    {
     "name": "stderr",
     "output_type": "stream",
     "text": [
      " 20%|██        | 5/25 [00:00<00:00, 49.47it/s]"
     ]
    },
    {
     "name": "stdout",
     "output_type": "stream",
     "text": [
      "Total number of generated modes is  22\n",
      "The number of high quality samples among 2500 samples is 120\n",
      "The mode dictionary is Counter({11: 18, 5: 11, 23: 10, 16: 8, 21: 8, 0: 8, 24: 7, 22: 7, 6: 7, 18: 7, 7: 6, 17: 4, 12: 3, 10: 3, 13: 2, 14: 2, 1: 2, 9: 2, 20: 2, 19: 1, 3: 1, 4: 1})\n"
     ]
    },
    {
     "name": "stderr",
     "output_type": "stream",
     "text": [
      "100%|██████████| 25/25 [00:00<00:00, 49.20it/s]\n"
     ]
    },
    {
     "name": "stdout",
     "output_type": "stream",
     "text": [
      "spent time for epoch 213 is 0.5139431953430176s\n",
      "epoch # : 213 gamma : 0.5 gen loss : 1.0332428216934204\n"
     ]
    },
    {
     "name": "stderr",
     "output_type": "stream",
     "text": [
      " 20%|██        | 5/25 [00:00<00:00, 49.72it/s]"
     ]
    },
    {
     "name": "stdout",
     "output_type": "stream",
     "text": [
      "Total number of generated modes is  23\n",
      "The number of high quality samples among 2500 samples is 140\n",
      "The mode dictionary is Counter({15: 15, 10: 13, 7: 12, 3: 11, 2: 10, 11: 10, 4: 9, 21: 7, 12: 6, 6: 6, 8: 5, 16: 5, 9: 4, 24: 4, 1: 4, 13: 3, 20: 3, 14: 3, 18: 3, 19: 3, 5: 2, 17: 1, 22: 1})\n"
     ]
    },
    {
     "name": "stderr",
     "output_type": "stream",
     "text": [
      "100%|██████████| 25/25 [00:00<00:00, 49.48it/s]\n"
     ]
    },
    {
     "name": "stdout",
     "output_type": "stream",
     "text": [
      "spent time for epoch 214 is 0.5113558769226074s\n",
      "epoch # : 214 gamma : 0.5 gen loss : 1.0223063230514526\n"
     ]
    },
    {
     "name": "stderr",
     "output_type": "stream",
     "text": [
      " 20%|██        | 5/25 [00:00<00:00, 49.89it/s]"
     ]
    },
    {
     "name": "stdout",
     "output_type": "stream",
     "text": [
      "Total number of generated modes is  22\n",
      "The number of high quality samples among 2500 samples is 99\n",
      "The mode dictionary is Counter({6: 12, 0: 10, 10: 10, 11: 8, 22: 7, 5: 7, 3: 6, 8: 6, 21: 5, 16: 4, 15: 4, 7: 4, 13: 3, 17: 2, 20: 2, 1: 2, 18: 2, 12: 1, 4: 1, 23: 1, 9: 1, 14: 1})\n"
     ]
    },
    {
     "name": "stderr",
     "output_type": "stream",
     "text": [
      "100%|██████████| 25/25 [00:00<00:00, 49.32it/s]\n"
     ]
    },
    {
     "name": "stdout",
     "output_type": "stream",
     "text": [
      "spent time for epoch 215 is 0.5128934383392334s\n",
      "epoch # : 215 gamma : 0.5 gen loss : 1.0172991752624512\n"
     ]
    },
    {
     "name": "stderr",
     "output_type": "stream",
     "text": [
      " 20%|██        | 5/25 [00:00<00:00, 49.89it/s]"
     ]
    },
    {
     "name": "stdout",
     "output_type": "stream",
     "text": [
      "Total number of generated modes is  24\n",
      "The number of high quality samples among 2500 samples is 109\n",
      "The mode dictionary is Counter({3: 13, 7: 10, 11: 9, 16: 7, 5: 7, 4: 6, 6: 6, 13: 5, 10: 5, 21: 5, 23: 5, 8: 4, 22: 4, 12: 3, 2: 3, 14: 3, 19: 2, 24: 2, 20: 2, 0: 2, 1: 2, 15: 2, 18: 1, 17: 1})\n"
     ]
    },
    {
     "name": "stderr",
     "output_type": "stream",
     "text": [
      "100%|██████████| 25/25 [00:00<00:00, 49.41it/s]\n"
     ]
    },
    {
     "name": "stdout",
     "output_type": "stream",
     "text": [
      "spent time for epoch 216 is 0.5118589401245117s\n",
      "epoch # : 216 gamma : 0.5 gen loss : 1.0168137550354004\n"
     ]
    },
    {
     "name": "stderr",
     "output_type": "stream",
     "text": [
      "  4%|▍         | 1/25 [00:00<00:03,  7.44it/s]"
     ]
    },
    {
     "name": "stdout",
     "output_type": "stream",
     "text": [
      "Total number of generated modes is  22\n",
      "The number of high quality samples among 2500 samples is 122\n",
      "The mode dictionary is Counter({5: 11, 8: 11, 6: 11, 19: 9, 16: 8, 3: 7, 1: 7, 7: 7, 9: 6, 21: 6, 0: 5, 10: 4, 22: 4, 15: 4, 14: 4, 2: 4, 24: 3, 23: 3, 11: 3, 12: 2, 13: 2, 18: 1})\n"
     ]
    },
    {
     "name": "stderr",
     "output_type": "stream",
     "text": [
      "100%|██████████| 25/25 [00:00<00:00, 43.83it/s]\n"
     ]
    },
    {
     "name": "stdout",
     "output_type": "stream",
     "text": [
      "spent time for epoch 217 is 0.5763726234436035s\n",
      "epoch # : 217 gamma : 0.5 gen loss : 1.0211656093597412\n"
     ]
    },
    {
     "name": "stderr",
     "output_type": "stream",
     "text": [
      " 20%|██        | 5/25 [00:00<00:00, 47.65it/s]"
     ]
    },
    {
     "name": "stdout",
     "output_type": "stream",
     "text": [
      "Total number of generated modes is  24\n",
      "The number of high quality samples among 2500 samples is 122\n",
      "The mode dictionary is Counter({0: 17, 21: 11, 7: 11, 20: 10, 11: 10, 10: 9, 16: 9, 8: 7, 4: 6, 1: 5, 6: 4, 24: 3, 23: 3, 13: 3, 5: 3, 15: 2, 2: 2, 19: 1, 22: 1, 9: 1, 18: 1, 12: 1, 14: 1, 17: 1})\n"
     ]
    },
    {
     "name": "stderr",
     "output_type": "stream",
     "text": [
      "100%|██████████| 25/25 [00:00<00:00, 48.38it/s]\n"
     ]
    },
    {
     "name": "stdout",
     "output_type": "stream",
     "text": [
      "spent time for epoch 218 is 0.5231132507324219s\n",
      "epoch # : 218 gamma : 0.5 gen loss : 1.020027995109558\n"
     ]
    },
    {
     "name": "stderr",
     "output_type": "stream",
     "text": [
      " 20%|██        | 5/25 [00:00<00:00, 49.27it/s]"
     ]
    },
    {
     "name": "stdout",
     "output_type": "stream",
     "text": [
      "Total number of generated modes is  24\n",
      "The number of high quality samples among 2500 samples is 149\n",
      "The mode dictionary is Counter({15: 15, 4: 14, 8: 11, 7: 11, 16: 10, 20: 9, 3: 9, 11: 9, 6: 8, 0: 6, 18: 6, 12: 5, 10: 5, 2: 5, 9: 4, 13: 4, 21: 3, 14: 3, 22: 3, 24: 2, 5: 2, 17: 2, 19: 2, 1: 1})\n"
     ]
    },
    {
     "name": "stderr",
     "output_type": "stream",
     "text": [
      "100%|██████████| 25/25 [00:00<00:00, 48.69it/s]\n"
     ]
    },
    {
     "name": "stdout",
     "output_type": "stream",
     "text": [
      "spent time for epoch 219 is 0.5194227695465088s\n",
      "epoch # : 219 gamma : 0.5 gen loss : 1.0190681219100952\n"
     ]
    },
    {
     "name": "stderr",
     "output_type": "stream",
     "text": [
      " 20%|██        | 5/25 [00:00<00:00, 49.13it/s]"
     ]
    },
    {
     "name": "stdout",
     "output_type": "stream",
     "text": [
      "Total number of generated modes is  21\n",
      "The number of high quality samples among 2500 samples is 113\n",
      "The mode dictionary is Counter({7: 12, 6: 10, 11: 9, 5: 9, 0: 8, 4: 8, 8: 7, 1: 6, 10: 6, 3: 6, 2: 5, 13: 5, 21: 4, 19: 4, 17: 3, 12: 3, 22: 2, 23: 2, 24: 2, 14: 1, 16: 1})\n"
     ]
    },
    {
     "name": "stderr",
     "output_type": "stream",
     "text": [
      "100%|██████████| 25/25 [00:00<00:00, 48.58it/s]\n"
     ]
    },
    {
     "name": "stdout",
     "output_type": "stream",
     "text": [
      "spent time for epoch 220 is 0.5204968452453613s\n",
      "epoch # : 220 gamma : 0.5 gen loss : 1.018028974533081\n"
     ]
    },
    {
     "name": "stderr",
     "output_type": "stream",
     "text": [
      " 20%|██        | 5/25 [00:00<00:00, 49.10it/s]"
     ]
    },
    {
     "name": "stdout",
     "output_type": "stream",
     "text": [
      "Total number of generated modes is  24\n",
      "The number of high quality samples among 2500 samples is 145\n",
      "The mode dictionary is Counter({11: 16, 16: 14, 10: 13, 0: 11, 13: 10, 6: 9, 5: 8, 4: 8, 15: 6, 22: 6, 24: 6, 17: 5, 2: 4, 21: 4, 8: 4, 12: 4, 14: 3, 9: 3, 3: 3, 18: 2, 1: 2, 20: 2, 23: 1, 7: 1})\n"
     ]
    },
    {
     "name": "stderr",
     "output_type": "stream",
     "text": [
      "100%|██████████| 25/25 [00:00<00:00, 48.32it/s]\n"
     ]
    },
    {
     "name": "stdout",
     "output_type": "stream",
     "text": [
      "spent time for epoch 221 is 0.5234031677246094s\n",
      "epoch # : 221 gamma : 0.5 gen loss : 1.0040817260742188\n"
     ]
    },
    {
     "name": "stderr",
     "output_type": "stream",
     "text": [
      " 20%|██        | 5/25 [00:00<00:00, 49.45it/s]"
     ]
    },
    {
     "name": "stdout",
     "output_type": "stream",
     "text": [
      "Total number of generated modes is  23\n",
      "The number of high quality samples among 2500 samples is 155\n",
      "The mode dictionary is Counter({0: 18, 4: 16, 2: 13, 7: 11, 16: 10, 11: 10, 1: 10, 22: 8, 20: 8, 3: 7, 6: 6, 8: 6, 21: 6, 24: 5, 13: 5, 10: 3, 17: 3, 5: 3, 19: 2, 14: 2, 12: 1, 15: 1, 23: 1})\n"
     ]
    },
    {
     "name": "stderr",
     "output_type": "stream",
     "text": [
      "100%|██████████| 25/25 [00:00<00:00, 48.97it/s]\n"
     ]
    },
    {
     "name": "stdout",
     "output_type": "stream",
     "text": [
      "spent time for epoch 222 is 0.5244288444519043s\n",
      "epoch # : 222 gamma : 0.5 gen loss : 1.0107691287994385\n"
     ]
    },
    {
     "name": "stderr",
     "output_type": "stream",
     "text": [
      " 20%|██        | 5/25 [00:00<00:00, 48.27it/s]"
     ]
    },
    {
     "name": "stdout",
     "output_type": "stream",
     "text": [
      "Total number of generated modes is  24\n",
      "The number of high quality samples among 2500 samples is 119\n",
      "The mode dictionary is Counter({6: 9, 15: 9, 24: 9, 10: 8, 8: 8, 16: 7, 11: 7, 12: 6, 7: 6, 5: 6, 19: 6, 13: 5, 14: 5, 4: 5, 17: 4, 3: 3, 23: 3, 20: 3, 2: 3, 9: 2, 21: 2, 18: 1, 0: 1, 22: 1})\n"
     ]
    },
    {
     "name": "stderr",
     "output_type": "stream",
     "text": [
      "100%|██████████| 25/25 [00:00<00:00, 48.84it/s]\n"
     ]
    },
    {
     "name": "stdout",
     "output_type": "stream",
     "text": [
      "spent time for epoch 223 is 0.5176784992218018s\n",
      "epoch # : 223 gamma : 0.5 gen loss : 1.0435689687728882\n"
     ]
    },
    {
     "name": "stderr",
     "output_type": "stream",
     "text": [
      " 20%|██        | 5/25 [00:00<00:00, 49.01it/s]"
     ]
    },
    {
     "name": "stdout",
     "output_type": "stream",
     "text": [
      "Total number of generated modes is  24\n",
      "The number of high quality samples among 2500 samples is 114\n",
      "The mode dictionary is Counter({16: 15, 6: 10, 0: 9, 4: 9, 8: 8, 1: 8, 7: 7, 11: 4, 24: 4, 5: 4, 3: 4, 22: 4, 20: 4, 18: 3, 2: 3, 13: 3, 21: 3, 10: 3, 19: 2, 23: 2, 15: 2, 9: 1, 12: 1, 14: 1})\n"
     ]
    },
    {
     "name": "stderr",
     "output_type": "stream",
     "text": [
      "100%|██████████| 25/25 [00:00<00:00, 48.95it/s]\n"
     ]
    },
    {
     "name": "stdout",
     "output_type": "stream",
     "text": [
      "spent time for epoch 224 is 0.516615629196167s\n",
      "epoch # : 224 gamma : 0.5 gen loss : 1.021841049194336\n"
     ]
    },
    {
     "name": "stderr",
     "output_type": "stream",
     "text": [
      " 24%|██▍       | 6/25 [00:00<00:00, 34.23it/s]"
     ]
    },
    {
     "name": "stdout",
     "output_type": "stream",
     "text": [
      "Total number of generated modes is  24\n",
      "The number of high quality samples among 2500 samples is 91\n",
      "The mode dictionary is Counter({24: 12, 10: 9, 8: 8, 6: 7, 23: 5, 16: 5, 4: 4, 13: 4, 7: 4, 20: 4, 21: 4, 0: 4, 17: 3, 3: 3, 11: 3, 19: 2, 15: 2, 22: 2, 2: 1, 9: 1, 1: 1, 18: 1, 12: 1, 5: 1})\n"
     ]
    },
    {
     "name": "stderr",
     "output_type": "stream",
     "text": [
      "100%|██████████| 25/25 [00:00<00:00, 49.89it/s]\n"
     ]
    },
    {
     "name": "stdout",
     "output_type": "stream",
     "text": [
      "spent time for epoch 225 is 0.5077600479125977s\n",
      "epoch # : 225 gamma : 0.5 gen loss : 1.011196255683899\n"
     ]
    },
    {
     "name": "stderr",
     "output_type": "stream",
     "text": [
      " 20%|██        | 5/25 [00:00<00:00, 49.71it/s]"
     ]
    },
    {
     "name": "stdout",
     "output_type": "stream",
     "text": [
      "Total number of generated modes is  25\n",
      "The number of high quality samples among 2500 samples is 162\n",
      "The mode dictionary is Counter({7: 18, 8: 13, 20: 13, 3: 11, 0: 11, 6: 10, 1: 9, 2: 9, 13: 8, 5: 8, 10: 8, 4: 7, 15: 7, 16: 5, 11: 4, 22: 4, 12: 3, 9: 3, 21: 2, 23: 2, 24: 2, 14: 2, 19: 1, 18: 1, 17: 1})\n"
     ]
    },
    {
     "name": "stderr",
     "output_type": "stream",
     "text": [
      "100%|██████████| 25/25 [00:00<00:00, 49.42it/s]\n"
     ]
    },
    {
     "name": "stdout",
     "output_type": "stream",
     "text": [
      "spent time for epoch 226 is 0.5119140148162842s\n",
      "epoch # : 226 gamma : 0.5 gen loss : 0.9991618394851685\n"
     ]
    },
    {
     "name": "stderr",
     "output_type": "stream",
     "text": [
      " 20%|██        | 5/25 [00:00<00:00, 49.98it/s]"
     ]
    },
    {
     "name": "stdout",
     "output_type": "stream",
     "text": [
      "Total number of generated modes is  23\n",
      "The number of high quality samples among 2500 samples is 166\n",
      "The mode dictionary is Counter({8: 18, 16: 15, 24: 14, 11: 11, 2: 11, 18: 9, 7: 8, 14: 8, 17: 7, 3: 7, 21: 7, 6: 7, 10: 6, 19: 6, 1: 5, 13: 5, 5: 5, 12: 4, 0: 4, 23: 3, 22: 3, 9: 2, 4: 1})\n"
     ]
    },
    {
     "name": "stderr",
     "output_type": "stream",
     "text": [
      "100%|██████████| 25/25 [00:00<00:00, 49.60it/s]\n"
     ]
    },
    {
     "name": "stdout",
     "output_type": "stream",
     "text": [
      "spent time for epoch 227 is 0.5097050666809082s\n",
      "epoch # : 227 gamma : 0.5 gen loss : 1.055014967918396\n"
     ]
    },
    {
     "name": "stderr",
     "output_type": "stream",
     "text": [
      "  4%|▍         | 1/25 [00:00<00:03,  7.51it/s]"
     ]
    },
    {
     "name": "stdout",
     "output_type": "stream",
     "text": [
      "Total number of generated modes is  24\n",
      "The number of high quality samples among 2500 samples is 154\n",
      "The mode dictionary is Counter({3: 18, 1: 15, 4: 14, 6: 13, 2: 11, 7: 9, 8: 9, 11: 8, 16: 8, 0: 7, 24: 6, 20: 6, 15: 6, 10: 5, 5: 4, 21: 3, 13: 3, 12: 2, 18: 2, 23: 1, 9: 1, 22: 1, 14: 1, 19: 1})\n"
     ]
    },
    {
     "name": "stderr",
     "output_type": "stream",
     "text": [
      "100%|██████████| 25/25 [00:00<00:00, 44.49it/s]\n"
     ]
    },
    {
     "name": "stdout",
     "output_type": "stream",
     "text": [
      "spent time for epoch 228 is 0.56787109375s\n",
      "epoch # : 228 gamma : 0.5 gen loss : 1.021241545677185\n"
     ]
    },
    {
     "name": "stderr",
     "output_type": "stream",
     "text": [
      " 20%|██        | 5/25 [00:00<00:00, 49.07it/s]"
     ]
    },
    {
     "name": "stdout",
     "output_type": "stream",
     "text": [
      "Total number of generated modes is  25\n",
      "The number of high quality samples among 2500 samples is 148\n",
      "The mode dictionary is Counter({2: 16, 5: 13, 4: 12, 11: 12, 1: 9, 6: 9, 21: 8, 16: 8, 3: 8, 10: 8, 9: 6, 14: 6, 8: 5, 24: 4, 0: 4, 7: 4, 19: 3, 12: 3, 13: 2, 18: 2, 17: 2, 23: 1, 22: 1, 15: 1, 20: 1})\n"
     ]
    },
    {
     "name": "stderr",
     "output_type": "stream",
     "text": [
      "100%|██████████| 25/25 [00:00<00:00, 49.11it/s]\n"
     ]
    },
    {
     "name": "stdout",
     "output_type": "stream",
     "text": [
      "spent time for epoch 229 is 0.5150260925292969s\n",
      "epoch # : 229 gamma : 0.5 gen loss : 1.0175421237945557\n"
     ]
    },
    {
     "name": "stderr",
     "output_type": "stream",
     "text": [
      " 20%|██        | 5/25 [00:00<00:00, 49.37it/s]"
     ]
    },
    {
     "name": "stdout",
     "output_type": "stream",
     "text": [
      "Total number of generated modes is  24\n",
      "The number of high quality samples among 2500 samples is 113\n",
      "The mode dictionary is Counter({10: 26, 15: 11, 23: 11, 6: 7, 24: 7, 5: 5, 1: 5, 11: 5, 20: 5, 12: 4, 14: 3, 21: 3, 0: 3, 18: 3, 22: 3, 13: 2, 3: 2, 19: 2, 16: 1, 4: 1, 2: 1, 9: 1, 17: 1, 8: 1})\n"
     ]
    },
    {
     "name": "stderr",
     "output_type": "stream",
     "text": [
      "100%|██████████| 25/25 [00:00<00:00, 49.25it/s]\n"
     ]
    },
    {
     "name": "stdout",
     "output_type": "stream",
     "text": [
      "spent time for epoch 230 is 0.5132880210876465s\n",
      "epoch # : 230 gamma : 0.5 gen loss : 1.012046217918396\n"
     ]
    },
    {
     "name": "stderr",
     "output_type": "stream",
     "text": [
      " 24%|██▍       | 6/25 [00:00<00:00, 33.89it/s]"
     ]
    },
    {
     "name": "stdout",
     "output_type": "stream",
     "text": [
      "Total number of generated modes is  23\n",
      "The number of high quality samples among 2500 samples is 137\n",
      "The mode dictionary is Counter({5: 20, 21: 16, 8: 16, 6: 10, 16: 9, 15: 9, 11: 7, 20: 7, 10: 5, 9: 5, 22: 5, 7: 4, 12: 4, 24: 3, 18: 3, 14: 3, 4: 2, 13: 2, 17: 2, 1: 2, 3: 1, 23: 1, 0: 1})\n"
     ]
    },
    {
     "name": "stderr",
     "output_type": "stream",
     "text": [
      "100%|██████████| 25/25 [00:00<00:00, 49.11it/s]\n"
     ]
    },
    {
     "name": "stdout",
     "output_type": "stream",
     "text": [
      "spent time for epoch 231 is 0.5156917572021484s\n",
      "epoch # : 231 gamma : 0.5 gen loss : 1.0007145404815674\n"
     ]
    },
    {
     "name": "stderr",
     "output_type": "stream",
     "text": [
      " 20%|██        | 5/25 [00:00<00:00, 49.17it/s]"
     ]
    },
    {
     "name": "stdout",
     "output_type": "stream",
     "text": [
      "Total number of generated modes is  24\n",
      "The number of high quality samples among 2500 samples is 125\n",
      "The mode dictionary is Counter({4: 20, 6: 12, 16: 10, 20: 7, 5: 7, 2: 7, 9: 6, 15: 6, 3: 6, 21: 5, 7: 5, 1: 5, 11: 5, 8: 4, 10: 4, 22: 3, 12: 3, 23: 3, 13: 2, 14: 1, 17: 1, 19: 1, 24: 1, 18: 1})\n"
     ]
    },
    {
     "name": "stderr",
     "output_type": "stream",
     "text": [
      "100%|██████████| 25/25 [00:00<00:00, 47.65it/s]\n"
     ]
    },
    {
     "name": "stdout",
     "output_type": "stream",
     "text": [
      "spent time for epoch 232 is 0.5305051803588867s\n",
      "epoch # : 232 gamma : 0.5 gen loss : 1.0043039321899414\n"
     ]
    },
    {
     "name": "stderr",
     "output_type": "stream",
     "text": [
      " 20%|██        | 5/25 [00:00<00:00, 49.85it/s]"
     ]
    },
    {
     "name": "stdout",
     "output_type": "stream",
     "text": [
      "Total number of generated modes is  23\n",
      "The number of high quality samples among 2500 samples is 101\n",
      "The mode dictionary is Counter({3: 16, 21: 11, 11: 10, 16: 9, 4: 6, 6: 6, 0: 5, 24: 4, 5: 4, 10: 3, 13: 3, 2: 3, 12: 3, 23: 3, 18: 3, 20: 2, 15: 2, 19: 2, 14: 2, 1: 1, 17: 1, 8: 1, 7: 1})\n"
     ]
    },
    {
     "name": "stderr",
     "output_type": "stream",
     "text": [
      "100%|██████████| 25/25 [00:00<00:00, 49.44it/s]\n"
     ]
    },
    {
     "name": "stdout",
     "output_type": "stream",
     "text": [
      "spent time for epoch 233 is 0.511441707611084s\n",
      "epoch # : 233 gamma : 0.5 gen loss : 1.021950602531433\n"
     ]
    },
    {
     "name": "stderr",
     "output_type": "stream",
     "text": [
      " 20%|██        | 5/25 [00:00<00:00, 48.66it/s]"
     ]
    },
    {
     "name": "stdout",
     "output_type": "stream",
     "text": [
      "Total number of generated modes is  24\n",
      "The number of high quality samples among 2500 samples is 122\n",
      "The mode dictionary is Counter({7: 16, 21: 12, 5: 11, 10: 10, 6: 8, 8: 8, 16: 8, 0: 7, 15: 6, 11: 5, 9: 4, 17: 3, 12: 3, 24: 3, 1: 3, 13: 2, 19: 2, 4: 2, 18: 2, 14: 2, 20: 2, 3: 1, 2: 1, 23: 1})\n"
     ]
    },
    {
     "name": "stderr",
     "output_type": "stream",
     "text": [
      "100%|██████████| 25/25 [00:00<00:00, 49.30it/s]\n"
     ]
    },
    {
     "name": "stdout",
     "output_type": "stream",
     "text": [
      "spent time for epoch 234 is 0.5128922462463379s\n",
      "epoch # : 234 gamma : 0.5 gen loss : 1.0101799964904785\n"
     ]
    },
    {
     "name": "stderr",
     "output_type": "stream",
     "text": [
      " 20%|██        | 5/25 [00:00<00:00, 49.33it/s]"
     ]
    },
    {
     "name": "stdout",
     "output_type": "stream",
     "text": [
      "Total number of generated modes is  24\n",
      "The number of high quality samples among 2500 samples is 131\n",
      "The mode dictionary is Counter({4: 18, 7: 10, 8: 10, 14: 10, 3: 7, 6: 6, 20: 6, 9: 6, 19: 5, 5: 5, 13: 5, 22: 5, 12: 5, 17: 4, 11: 4, 16: 4, 0: 3, 21: 3, 10: 3, 15: 3, 23: 3, 1: 2, 2: 2, 18: 2})\n"
     ]
    },
    {
     "name": "stderr",
     "output_type": "stream",
     "text": [
      "100%|██████████| 25/25 [00:00<00:00, 49.78it/s]\n"
     ]
    },
    {
     "name": "stdout",
     "output_type": "stream",
     "text": [
      "spent time for epoch 235 is 0.5080525875091553s\n",
      "epoch # : 235 gamma : 0.5 gen loss : 1.0319445133209229\n"
     ]
    },
    {
     "name": "stderr",
     "output_type": "stream",
     "text": [
      " 20%|██        | 5/25 [00:00<00:00, 49.85it/s]"
     ]
    },
    {
     "name": "stdout",
     "output_type": "stream",
     "text": [
      "Total number of generated modes is  24\n",
      "The number of high quality samples among 2500 samples is 150\n",
      "The mode dictionary is Counter({5: 13, 6: 11, 9: 11, 24: 10, 4: 9, 16: 8, 11: 8, 13: 8, 19: 7, 0: 7, 7: 7, 10: 6, 21: 6, 22: 5, 23: 5, 18: 5, 17: 4, 14: 4, 8: 4, 20: 4, 15: 3, 12: 3, 3: 1, 1: 1})\n"
     ]
    },
    {
     "name": "stderr",
     "output_type": "stream",
     "text": [
      "100%|██████████| 25/25 [00:00<00:00, 49.85it/s]\n"
     ]
    },
    {
     "name": "stdout",
     "output_type": "stream",
     "text": [
      "spent time for epoch 236 is 0.5072886943817139s\n",
      "epoch # : 236 gamma : 0.5 gen loss : 1.0574548244476318\n"
     ]
    },
    {
     "name": "stderr",
     "output_type": "stream",
     "text": [
      " 20%|██        | 5/25 [00:00<00:00, 48.24it/s]"
     ]
    },
    {
     "name": "stdout",
     "output_type": "stream",
     "text": [
      "Total number of generated modes is  21\n",
      "The number of high quality samples among 2500 samples is 111\n",
      "The mode dictionary is Counter({6: 15, 16: 10, 8: 10, 21: 8, 12: 8, 10: 7, 7: 7, 11: 7, 15: 6, 5: 6, 1: 4, 20: 4, 9: 4, 13: 3, 2: 3, 17: 3, 23: 2, 22: 1, 4: 1, 18: 1, 24: 1})\n"
     ]
    },
    {
     "name": "stderr",
     "output_type": "stream",
     "text": [
      "100%|██████████| 25/25 [00:00<00:00, 49.59it/s]\n"
     ]
    },
    {
     "name": "stdout",
     "output_type": "stream",
     "text": [
      "spent time for epoch 237 is 0.5100288391113281s\n",
      "epoch # : 237 gamma : 0.5 gen loss : 1.0179390907287598\n"
     ]
    },
    {
     "name": "stderr",
     "output_type": "stream",
     "text": [
      " 20%|██        | 5/25 [00:00<00:00, 49.19it/s]"
     ]
    },
    {
     "name": "stdout",
     "output_type": "stream",
     "text": [
      "Total number of generated modes is  25\n",
      "The number of high quality samples among 2500 samples is 118\n",
      "The mode dictionary is Counter({20: 12, 21: 10, 16: 10, 11: 9, 8: 9, 6: 6, 7: 6, 1: 6, 23: 5, 10: 5, 13: 5, 0: 4, 17: 4, 22: 4, 14: 4, 3: 3, 4: 3, 12: 3, 5: 2, 2: 2, 19: 2, 9: 1, 24: 1, 15: 1, 18: 1})\n"
     ]
    },
    {
     "name": "stderr",
     "output_type": "stream",
     "text": [
      "100%|██████████| 25/25 [00:00<00:00, 49.79it/s]\n"
     ]
    },
    {
     "name": "stdout",
     "output_type": "stream",
     "text": [
      "spent time for epoch 238 is 0.507807731628418s\n",
      "epoch # : 238 gamma : 0.5 gen loss : 1.0119688510894775\n"
     ]
    },
    {
     "name": "stderr",
     "output_type": "stream",
     "text": [
      "  4%|▍         | 1/25 [00:00<00:03,  7.69it/s]"
     ]
    },
    {
     "name": "stdout",
     "output_type": "stream",
     "text": [
      "Total number of generated modes is  22\n",
      "The number of high quality samples among 2500 samples is 144\n",
      "The mode dictionary is Counter({6: 16, 7: 14, 8: 13, 19: 10, 5: 9, 20: 9, 23: 9, 14: 8, 4: 8, 24: 7, 9: 6, 22: 6, 12: 5, 3: 5, 10: 4, 21: 4, 17: 3, 18: 3, 15: 2, 1: 1, 2: 1, 0: 1})\n"
     ]
    },
    {
     "name": "stderr",
     "output_type": "stream",
     "text": [
      "100%|██████████| 25/25 [00:00<00:00, 44.73it/s]\n"
     ]
    },
    {
     "name": "stdout",
     "output_type": "stream",
     "text": [
      "spent time for epoch 239 is 0.5645737648010254s\n",
      "epoch # : 239 gamma : 0.5 gen loss : 1.0437322854995728\n"
     ]
    },
    {
     "name": "stderr",
     "output_type": "stream",
     "text": [
      " 20%|██        | 5/25 [00:00<00:00, 49.26it/s]"
     ]
    },
    {
     "name": "stdout",
     "output_type": "stream",
     "text": [
      "Total number of generated modes is  23\n",
      "The number of high quality samples among 2500 samples is 151\n",
      "The mode dictionary is Counter({1: 13, 4: 12, 7: 12, 5: 12, 10: 11, 2: 11, 16: 9, 3: 8, 8: 8, 0: 8, 15: 7, 23: 6, 20: 5, 11: 5, 24: 4, 22: 4, 21: 3, 18: 3, 17: 3, 6: 3, 14: 2, 12: 1, 19: 1})\n"
     ]
    },
    {
     "name": "stderr",
     "output_type": "stream",
     "text": [
      "100%|██████████| 25/25 [00:00<00:00, 49.40it/s]\n"
     ]
    },
    {
     "name": "stdout",
     "output_type": "stream",
     "text": [
      "spent time for epoch 240 is 0.5117387771606445s\n",
      "epoch # : 240 gamma : 0.5 gen loss : 1.0371657609939575\n"
     ]
    },
    {
     "name": "stderr",
     "output_type": "stream",
     "text": [
      " 20%|██        | 5/25 [00:00<00:00, 49.30it/s]"
     ]
    },
    {
     "name": "stdout",
     "output_type": "stream",
     "text": [
      "Total number of generated modes is  23\n",
      "The number of high quality samples among 2500 samples is 141\n",
      "The mode dictionary is Counter({10: 14, 16: 14, 11: 13, 8: 11, 15: 11, 7: 11, 3: 10, 2: 9, 4: 9, 20: 7, 0: 6, 1: 5, 21: 5, 22: 3, 23: 2, 24: 2, 17: 2, 5: 2, 18: 1, 14: 1, 19: 1, 6: 1, 12: 1})\n"
     ]
    },
    {
     "name": "stderr",
     "output_type": "stream",
     "text": [
      "100%|██████████| 25/25 [00:00<00:00, 47.02it/s]\n"
     ]
    },
    {
     "name": "stdout",
     "output_type": "stream",
     "text": [
      "spent time for epoch 241 is 0.5375363826751709s\n",
      "epoch # : 241 gamma : 0.5 gen loss : 0.9821892380714417\n"
     ]
    },
    {
     "name": "stderr",
     "output_type": "stream",
     "text": [
      " 20%|██        | 5/25 [00:00<00:00, 48.47it/s]"
     ]
    },
    {
     "name": "stdout",
     "output_type": "stream",
     "text": [
      "Total number of generated modes is  24\n",
      "The number of high quality samples among 2500 samples is 116\n",
      "The mode dictionary is Counter({7: 16, 6: 15, 8: 15, 16: 8, 15: 8, 4: 6, 5: 5, 20: 5, 18: 4, 11: 4, 0: 3, 1: 3, 13: 3, 21: 3, 9: 3, 12: 3, 14: 3, 17: 2, 3: 2, 24: 1, 19: 1, 23: 1, 2: 1, 22: 1})\n"
     ]
    },
    {
     "name": "stderr",
     "output_type": "stream",
     "text": [
      "100%|██████████| 25/25 [00:00<00:00, 49.00it/s]\n"
     ]
    },
    {
     "name": "stdout",
     "output_type": "stream",
     "text": [
      "spent time for epoch 242 is 0.5159809589385986s\n",
      "epoch # : 242 gamma : 0.5 gen loss : 1.0159727334976196\n"
     ]
    },
    {
     "name": "stderr",
     "output_type": "stream",
     "text": [
      " 20%|██        | 5/25 [00:00<00:00, 48.48it/s]"
     ]
    },
    {
     "name": "stdout",
     "output_type": "stream",
     "text": [
      "Total number of generated modes is  25\n",
      "The number of high quality samples among 2500 samples is 143\n",
      "The mode dictionary is Counter({7: 18, 8: 18, 0: 15, 23: 10, 13: 10, 6: 9, 11: 8, 5: 8, 10: 6, 16: 6, 1: 5, 21: 5, 22: 3, 15: 3, 12: 3, 20: 2, 18: 2, 19: 2, 4: 2, 9: 2, 24: 2, 3: 1, 17: 1, 14: 1, 2: 1})\n"
     ]
    },
    {
     "name": "stderr",
     "output_type": "stream",
     "text": [
      "100%|██████████| 25/25 [00:00<00:00, 48.60it/s]\n"
     ]
    },
    {
     "name": "stdout",
     "output_type": "stream",
     "text": [
      "spent time for epoch 243 is 0.5204436779022217s\n",
      "epoch # : 243 gamma : 0.5 gen loss : 0.9807742834091187\n"
     ]
    },
    {
     "name": "stderr",
     "output_type": "stream",
     "text": [
      " 20%|██        | 5/25 [00:00<00:00, 49.38it/s]"
     ]
    },
    {
     "name": "stdout",
     "output_type": "stream",
     "text": [
      "Total number of generated modes is  24\n",
      "The number of high quality samples among 2500 samples is 113\n",
      "The mode dictionary is Counter({13: 19, 10: 14, 15: 9, 16: 7, 11: 7, 21: 6, 7: 5, 0: 5, 3: 5, 18: 5, 2: 4, 20: 4, 6: 4, 4: 3, 12: 3, 24: 2, 23: 2, 17: 2, 8: 2, 5: 1, 22: 1, 14: 1, 9: 1, 19: 1})\n"
     ]
    },
    {
     "name": "stderr",
     "output_type": "stream",
     "text": [
      "100%|██████████| 25/25 [00:00<00:00, 49.08it/s]\n"
     ]
    },
    {
     "name": "stdout",
     "output_type": "stream",
     "text": [
      "spent time for epoch 244 is 0.5151851177215576s\n",
      "epoch # : 244 gamma : 0.5 gen loss : 1.0018584728240967\n"
     ]
    },
    {
     "name": "stderr",
     "output_type": "stream",
     "text": [
      " 20%|██        | 5/25 [00:00<00:00, 49.11it/s]"
     ]
    },
    {
     "name": "stdout",
     "output_type": "stream",
     "text": [
      "Total number of generated modes is  22\n",
      "The number of high quality samples among 2500 samples is 107\n",
      "The mode dictionary is Counter({4: 13, 3: 12, 16: 11, 7: 10, 8: 7, 21: 7, 5: 6, 13: 5, 2: 4, 10: 4, 11: 4, 12: 4, 18: 3, 6: 3, 23: 3, 15: 2, 1: 2, 20: 2, 0: 2, 17: 1, 14: 1, 9: 1})\n"
     ]
    },
    {
     "name": "stderr",
     "output_type": "stream",
     "text": [
      "100%|██████████| 25/25 [00:00<00:00, 48.83it/s]\n"
     ]
    },
    {
     "name": "stdout",
     "output_type": "stream",
     "text": [
      "spent time for epoch 245 is 0.5174546241760254s\n",
      "epoch # : 245 gamma : 0.5 gen loss : 1.032423734664917\n"
     ]
    },
    {
     "name": "stderr",
     "output_type": "stream",
     "text": [
      " 20%|██        | 5/25 [00:00<00:00, 48.84it/s]"
     ]
    },
    {
     "name": "stdout",
     "output_type": "stream",
     "text": [
      "Total number of generated modes is  21\n",
      "The number of high quality samples among 2500 samples is 132\n",
      "The mode dictionary is Counter({10: 19, 5: 15, 8: 11, 7: 10, 0: 8, 11: 8, 16: 7, 13: 7, 6: 6, 22: 6, 21: 5, 2: 5, 15: 4, 17: 4, 24: 4, 9: 3, 1: 3, 19: 2, 4: 2, 23: 2, 12: 1})\n"
     ]
    },
    {
     "name": "stderr",
     "output_type": "stream",
     "text": [
      "100%|██████████| 25/25 [00:00<00:00, 48.98it/s]\n"
     ]
    },
    {
     "name": "stdout",
     "output_type": "stream",
     "text": [
      "spent time for epoch 246 is 0.5163285732269287s\n",
      "epoch # : 246 gamma : 0.5 gen loss : 1.0451558828353882\n"
     ]
    },
    {
     "name": "stderr",
     "output_type": "stream",
     "text": [
      " 20%|██        | 5/25 [00:00<00:00, 48.99it/s]"
     ]
    },
    {
     "name": "stdout",
     "output_type": "stream",
     "text": [
      "Total number of generated modes is  22\n",
      "The number of high quality samples among 2500 samples is 100\n",
      "The mode dictionary is Counter({16: 12, 7: 11, 3: 10, 10: 10, 8: 6, 21: 6, 1: 5, 15: 4, 4: 4, 12: 4, 6: 4, 0: 3, 13: 3, 14: 3, 17: 3, 22: 3, 2: 2, 5: 2, 19: 2, 11: 1, 18: 1, 23: 1})\n"
     ]
    },
    {
     "name": "stderr",
     "output_type": "stream",
     "text": [
      "100%|██████████| 25/25 [00:00<00:00, 48.98it/s]\n"
     ]
    },
    {
     "name": "stdout",
     "output_type": "stream",
     "text": [
      "spent time for epoch 247 is 0.5161406993865967s\n",
      "epoch # : 247 gamma : 0.5 gen loss : 0.9959227442741394\n"
     ]
    },
    {
     "name": "stderr",
     "output_type": "stream",
     "text": [
      " 20%|██        | 5/25 [00:00<00:00, 47.83it/s]"
     ]
    },
    {
     "name": "stdout",
     "output_type": "stream",
     "text": [
      "Total number of generated modes is  22\n",
      "The number of high quality samples among 2500 samples is 111\n",
      "The mode dictionary is Counter({0: 14, 8: 14, 15: 10, 7: 9, 1: 8, 11: 8, 16: 7, 12: 5, 13: 5, 20: 5, 9: 4, 14: 3, 6: 3, 23: 3, 22: 2, 3: 2, 17: 2, 5: 2, 18: 2, 21: 1, 24: 1, 19: 1})\n"
     ]
    },
    {
     "name": "stderr",
     "output_type": "stream",
     "text": [
      "100%|██████████| 25/25 [00:00<00:00, 48.85it/s]\n"
     ]
    },
    {
     "name": "stdout",
     "output_type": "stream",
     "text": [
      "spent time for epoch 248 is 0.5177204608917236s\n",
      "epoch # : 248 gamma : 0.5 gen loss : 0.9823698401451111\n"
     ]
    },
    {
     "name": "stderr",
     "output_type": "stream",
     "text": [
      " 20%|██        | 5/25 [00:00<00:00, 48.68it/s]"
     ]
    },
    {
     "name": "stdout",
     "output_type": "stream",
     "text": [
      "Total number of generated modes is  25\n",
      "The number of high quality samples among 2500 samples is 138\n",
      "The mode dictionary is Counter({16: 13, 3: 13, 6: 11, 8: 11, 4: 11, 2: 10, 1: 9, 7: 8, 21: 7, 0: 6, 18: 5, 13: 5, 22: 4, 11: 4, 23: 4, 9: 3, 5: 3, 24: 2, 15: 2, 19: 2, 17: 1, 10: 1, 20: 1, 12: 1, 14: 1})\n"
     ]
    },
    {
     "name": "stderr",
     "output_type": "stream",
     "text": [
      "100%|██████████| 25/25 [00:00<00:00, 48.92it/s]\n"
     ]
    },
    {
     "name": "stdout",
     "output_type": "stream",
     "text": [
      "spent time for epoch 249 is 0.5173907279968262s\n",
      "epoch # : 249 gamma : 0.5 gen loss : 1.0024906396865845\n"
     ]
    },
    {
     "name": "stderr",
     "output_type": "stream",
     "text": [
      "  4%|▍         | 1/25 [00:00<00:03,  6.38it/s]"
     ]
    },
    {
     "name": "stdout",
     "output_type": "stream",
     "text": [
      "Total number of generated modes is  24\n",
      "The number of high quality samples among 2500 samples is 138\n",
      "The mode dictionary is Counter({10: 19, 7: 15, 15: 10, 16: 10, 6: 9, 4: 8, 21: 7, 1: 7, 8: 7, 20: 6, 3: 6, 22: 5, 0: 4, 5: 4, 12: 3, 19: 3, 17: 3, 2: 3, 13: 2, 23: 2, 24: 2, 14: 1, 9: 1, 18: 1})\n"
     ]
    },
    {
     "name": "stderr",
     "output_type": "stream",
     "text": [
      "100%|██████████| 25/25 [00:00<00:00, 41.45it/s]\n"
     ]
    },
    {
     "name": "stdout",
     "output_type": "stream",
     "text": [
      "spent time for epoch 250 is 0.6089696884155273s\n",
      "epoch # : 250 gamma : 0.5 gen loss : 1.0114120244979858\n"
     ]
    },
    {
     "name": "stderr",
     "output_type": "stream",
     "text": [
      " 12%|█▏        | 3/25 [00:00<00:00, 29.86it/s]"
     ]
    },
    {
     "name": "stdout",
     "output_type": "stream",
     "text": [
      "Total number of generated modes is  21\n",
      "The number of high quality samples among 2500 samples is 112\n",
      "The mode dictionary is Counter({16: 12, 7: 11, 6: 10, 0: 10, 1: 9, 2: 8, 3: 8, 4: 7, 20: 6, 11: 5, 10: 4, 19: 3, 21: 3, 22: 3, 14: 3, 5: 2, 24: 2, 17: 2, 18: 2, 12: 1, 13: 1})\n"
     ]
    },
    {
     "name": "stderr",
     "output_type": "stream",
     "text": [
      "100%|██████████| 25/25 [00:00<00:00, 46.67it/s]\n"
     ]
    },
    {
     "name": "stdout",
     "output_type": "stream",
     "text": [
      "spent time for epoch 251 is 0.5417695045471191s\n",
      "epoch # : 251 gamma : 0.5 gen loss : 1.0076388120651245\n"
     ]
    },
    {
     "name": "stderr",
     "output_type": "stream",
     "text": [
      " 16%|█▌        | 4/25 [00:00<00:00, 39.32it/s]"
     ]
    },
    {
     "name": "stdout",
     "output_type": "stream",
     "text": [
      "Total number of generated modes is  24\n",
      "The number of high quality samples among 2500 samples is 152\n",
      "The mode dictionary is Counter({6: 17, 16: 12, 2: 12, 13: 12, 23: 11, 11: 10, 4: 9, 3: 8, 21: 7, 9: 6, 7: 6, 12: 6, 24: 5, 22: 4, 5: 3, 14: 3, 8: 3, 20: 3, 17: 3, 15: 3, 0: 3, 18: 2, 1: 2, 10: 2})\n"
     ]
    },
    {
     "name": "stderr",
     "output_type": "stream",
     "text": [
      "100%|██████████| 25/25 [00:00<00:00, 45.39it/s]\n"
     ]
    },
    {
     "name": "stdout",
     "output_type": "stream",
     "text": [
      "spent time for epoch 252 is 0.5569653511047363s\n",
      "epoch # : 252 gamma : 0.5 gen loss : 1.0360924005508423\n"
     ]
    },
    {
     "name": "stderr",
     "output_type": "stream",
     "text": [
      " 20%|██        | 5/25 [00:00<00:00, 48.31it/s]"
     ]
    },
    {
     "name": "stdout",
     "output_type": "stream",
     "text": [
      "Total number of generated modes is  23\n",
      "The number of high quality samples among 2500 samples is 120\n",
      "The mode dictionary is Counter({8: 12, 11: 10, 7: 10, 16: 10, 4: 9, 22: 9, 19: 8, 23: 7, 18: 6, 9: 5, 14: 5, 0: 4, 6: 4, 5: 4, 17: 4, 2: 3, 21: 3, 13: 2, 12: 1, 3: 1, 15: 1, 10: 1, 20: 1})\n"
     ]
    },
    {
     "name": "stderr",
     "output_type": "stream",
     "text": [
      "100%|██████████| 25/25 [00:00<00:00, 48.66it/s]\n"
     ]
    },
    {
     "name": "stdout",
     "output_type": "stream",
     "text": [
      "spent time for epoch 253 is 0.5202164649963379s\n",
      "epoch # : 253 gamma : 0.5 gen loss : 0.9807774424552917\n"
     ]
    },
    {
     "name": "stderr",
     "output_type": "stream",
     "text": [
      " 20%|██        | 5/25 [00:00<00:00, 49.29it/s]"
     ]
    },
    {
     "name": "stdout",
     "output_type": "stream",
     "text": [
      "Total number of generated modes is  22\n",
      "The number of high quality samples among 2500 samples is 148\n",
      "The mode dictionary is Counter({10: 15, 0: 13, 6: 11, 7: 10, 5: 10, 3: 10, 20: 9, 4: 9, 15: 8, 17: 8, 2: 8, 18: 5, 1: 5, 21: 5, 12: 5, 14: 4, 13: 4, 22: 3, 23: 2, 8: 2, 19: 1, 11: 1})\n"
     ]
    },
    {
     "name": "stderr",
     "output_type": "stream",
     "text": [
      "100%|██████████| 25/25 [00:00<00:00, 47.69it/s]\n"
     ]
    },
    {
     "name": "stdout",
     "output_type": "stream",
     "text": [
      "spent time for epoch 254 is 0.5303699970245361s\n",
      "epoch # : 254 gamma : 0.5 gen loss : 1.0067411661148071\n"
     ]
    },
    {
     "name": "stderr",
     "output_type": "stream",
     "text": [
      " 20%|██        | 5/25 [00:00<00:00, 49.09it/s]"
     ]
    },
    {
     "name": "stdout",
     "output_type": "stream",
     "text": [
      "Total number of generated modes is  24\n",
      "The number of high quality samples among 2500 samples is 122\n",
      "The mode dictionary is Counter({4: 14, 8: 11, 7: 10, 3: 9, 2: 9, 6: 8, 24: 7, 12: 5, 20: 5, 23: 5, 9: 4, 5: 4, 1: 4, 21: 4, 0: 3, 17: 3, 11: 3, 13: 3, 19: 2, 15: 2, 14: 2, 16: 2, 22: 2, 10: 1})\n"
     ]
    },
    {
     "name": "stderr",
     "output_type": "stream",
     "text": [
      "100%|██████████| 25/25 [00:00<00:00, 48.07it/s]\n"
     ]
    },
    {
     "name": "stdout",
     "output_type": "stream",
     "text": [
      "spent time for epoch 255 is 0.5259525775909424s\n",
      "epoch # : 255 gamma : 0.5 gen loss : 1.0306106805801392\n"
     ]
    },
    {
     "name": "stderr",
     "output_type": "stream",
     "text": [
      " 20%|██        | 5/25 [00:00<00:00, 49.54it/s]"
     ]
    },
    {
     "name": "stdout",
     "output_type": "stream",
     "text": [
      "Total number of generated modes is  23\n",
      "The number of high quality samples among 2500 samples is 136\n",
      "The mode dictionary is Counter({7: 16, 0: 12, 16: 11, 3: 11, 11: 9, 1: 9, 21: 8, 13: 8, 2: 6, 4: 6, 10: 6, 8: 5, 6: 4, 18: 4, 19: 3, 12: 3, 23: 3, 17: 3, 15: 2, 22: 2, 20: 2, 24: 2, 9: 1})\n"
     ]
    },
    {
     "name": "stderr",
     "output_type": "stream",
     "text": [
      "100%|██████████| 25/25 [00:00<00:00, 48.45it/s]\n"
     ]
    },
    {
     "name": "stdout",
     "output_type": "stream",
     "text": [
      "spent time for epoch 256 is 0.5216736793518066s\n",
      "epoch # : 256 gamma : 0.5 gen loss : 1.0309771299362183\n"
     ]
    },
    {
     "name": "stderr",
     "output_type": "stream",
     "text": [
      " 20%|██        | 5/25 [00:00<00:00, 49.77it/s]"
     ]
    },
    {
     "name": "stdout",
     "output_type": "stream",
     "text": [
      "Total number of generated modes is  24\n",
      "The number of high quality samples among 2500 samples is 104\n",
      "The mode dictionary is Counter({0: 13, 16: 12, 21: 10, 9: 10, 8: 9, 24: 6, 14: 5, 3: 4, 1: 4, 10: 3, 22: 3, 4: 3, 19: 3, 7: 3, 13: 2, 20: 2, 17: 2, 2: 2, 6: 2, 23: 2, 11: 1, 15: 1, 18: 1, 12: 1})\n"
     ]
    },
    {
     "name": "stderr",
     "output_type": "stream",
     "text": [
      "100%|██████████| 25/25 [00:00<00:00, 49.15it/s]\n"
     ]
    },
    {
     "name": "stdout",
     "output_type": "stream",
     "text": [
      "spent time for epoch 257 is 0.5145125389099121s\n",
      "epoch # : 257 gamma : 0.5 gen loss : 1.0209124088287354\n"
     ]
    },
    {
     "name": "stderr",
     "output_type": "stream",
     "text": [
      " 20%|██        | 5/25 [00:00<00:00, 48.74it/s]"
     ]
    },
    {
     "name": "stdout",
     "output_type": "stream",
     "text": [
      "Total number of generated modes is  23\n",
      "The number of high quality samples among 2500 samples is 114\n",
      "The mode dictionary is Counter({2: 15, 8: 12, 0: 11, 7: 10, 13: 9, 6: 8, 20: 7, 11: 6, 1: 5, 10: 4, 12: 4, 5: 3, 18: 3, 17: 3, 4: 3, 22: 2, 16: 2, 21: 2, 23: 1, 9: 1, 15: 1, 19: 1, 3: 1})\n"
     ]
    },
    {
     "name": "stderr",
     "output_type": "stream",
     "text": [
      "100%|██████████| 25/25 [00:00<00:00, 49.15it/s]\n"
     ]
    },
    {
     "name": "stdout",
     "output_type": "stream",
     "text": [
      "spent time for epoch 258 is 0.5145533084869385s\n",
      "epoch # : 258 gamma : 0.5 gen loss : 1.0481704473495483\n"
     ]
    },
    {
     "name": "stderr",
     "output_type": "stream",
     "text": [
      " 16%|█▌        | 4/25 [00:00<00:00, 39.79it/s]"
     ]
    },
    {
     "name": "stdout",
     "output_type": "stream",
     "text": [
      "Total number of generated modes is  23\n",
      "The number of high quality samples among 2500 samples is 149\n",
      "The mode dictionary is Counter({0: 21, 10: 17, 2: 13, 1: 13, 4: 10, 21: 10, 24: 9, 3: 7, 23: 7, 11: 6, 13: 5, 16: 4, 8: 4, 7: 4, 15: 4, 17: 3, 22: 2, 20: 2, 9: 2, 6: 2, 5: 2, 14: 1, 18: 1})\n"
     ]
    },
    {
     "name": "stderr",
     "output_type": "stream",
     "text": [
      "100%|██████████| 25/25 [00:00<00:00, 48.76it/s]\n"
     ]
    },
    {
     "name": "stdout",
     "output_type": "stream",
     "text": [
      "spent time for epoch 259 is 0.5182936191558838s\n",
      "epoch # : 259 gamma : 0.5 gen loss : 0.9913685917854309\n"
     ]
    },
    {
     "name": "stderr",
     "output_type": "stream",
     "text": [
      " 20%|██        | 5/25 [00:00<00:00, 49.42it/s]"
     ]
    },
    {
     "name": "stdout",
     "output_type": "stream",
     "text": [
      "Total number of generated modes is  21\n",
      "The number of high quality samples among 2500 samples is 92\n",
      "The mode dictionary is Counter({21: 11, 6: 9, 5: 8, 19: 7, 14: 7, 4: 7, 24: 5, 16: 5, 18: 4, 9: 4, 10: 4, 13: 3, 23: 3, 1: 3, 12: 2, 3: 2, 8: 2, 22: 2, 17: 2, 7: 1, 11: 1})\n"
     ]
    },
    {
     "name": "stderr",
     "output_type": "stream",
     "text": [
      "100%|██████████| 25/25 [00:00<00:00, 48.80it/s]\n"
     ]
    },
    {
     "name": "stdout",
     "output_type": "stream",
     "text": [
      "spent time for epoch 260 is 0.5181846618652344s\n",
      "epoch # : 260 gamma : 0.5 gen loss : 1.0580217838287354\n"
     ]
    },
    {
     "name": "stderr",
     "output_type": "stream",
     "text": [
      "  4%|▍         | 1/25 [00:00<00:03,  7.43it/s]"
     ]
    },
    {
     "name": "stdout",
     "output_type": "stream",
     "text": [
      "Total number of generated modes is  21\n",
      "The number of high quality samples among 2500 samples is 104\n",
      "The mode dictionary is Counter({5: 19, 10: 11, 2: 9, 0: 9, 4: 6, 3: 6, 6: 6, 15: 5, 8: 5, 21: 5, 1: 4, 14: 3, 16: 3, 7: 3, 24: 2, 13: 2, 18: 2, 23: 1, 12: 1, 20: 1, 17: 1})\n"
     ]
    },
    {
     "name": "stderr",
     "output_type": "stream",
     "text": [
      "100%|██████████| 25/25 [00:00<00:00, 43.77it/s]\n"
     ]
    },
    {
     "name": "stdout",
     "output_type": "stream",
     "text": [
      "spent time for epoch 261 is 0.5768325328826904s\n",
      "epoch # : 261 gamma : 0.5 gen loss : 0.9930213689804077\n"
     ]
    },
    {
     "name": "stderr",
     "output_type": "stream",
     "text": [
      " 20%|██        | 5/25 [00:00<00:00, 48.68it/s]"
     ]
    },
    {
     "name": "stdout",
     "output_type": "stream",
     "text": [
      "Total number of generated modes is  23\n",
      "The number of high quality samples among 2500 samples is 175\n",
      "The mode dictionary is Counter({4: 25, 10: 17, 8: 15, 20: 13, 21: 12, 3: 12, 2: 11, 7: 10, 16: 8, 6: 7, 0: 7, 15: 6, 14: 5, 18: 5, 1: 5, 19: 4, 9: 3, 22: 3, 11: 2, 13: 2, 12: 1, 17: 1, 5: 1})\n"
     ]
    },
    {
     "name": "stderr",
     "output_type": "stream",
     "text": [
      "100%|██████████| 25/25 [00:00<00:00, 48.51it/s]\n"
     ]
    },
    {
     "name": "stdout",
     "output_type": "stream",
     "text": [
      "spent time for epoch 262 is 0.5210328102111816s\n",
      "epoch # : 262 gamma : 0.5 gen loss : 1.027302622795105\n"
     ]
    },
    {
     "name": "stderr",
     "output_type": "stream",
     "text": [
      " 20%|██        | 5/25 [00:00<00:00, 49.09it/s]"
     ]
    },
    {
     "name": "stdout",
     "output_type": "stream",
     "text": [
      "Total number of generated modes is  23\n",
      "The number of high quality samples among 2500 samples is 115\n",
      "The mode dictionary is Counter({9: 11, 7: 11, 21: 11, 16: 9, 14: 9, 23: 8, 11: 6, 6: 6, 8: 6, 24: 5, 13: 4, 10: 4, 18: 4, 5: 3, 22: 3, 15: 3, 12: 3, 20: 2, 17: 2, 3: 2, 4: 1, 2: 1, 0: 1})\n"
     ]
    },
    {
     "name": "stderr",
     "output_type": "stream",
     "text": [
      "100%|██████████| 25/25 [00:00<00:00, 48.61it/s]\n"
     ]
    },
    {
     "name": "stdout",
     "output_type": "stream",
     "text": [
      "spent time for epoch 263 is 0.5199155807495117s\n",
      "epoch # : 263 gamma : 0.5 gen loss : 0.9955989718437195\n"
     ]
    },
    {
     "name": "stderr",
     "output_type": "stream",
     "text": [
      " 20%|██        | 5/25 [00:00<00:00, 47.99it/s]"
     ]
    },
    {
     "name": "stdout",
     "output_type": "stream",
     "text": [
      "Total number of generated modes is  25\n",
      "The number of high quality samples among 2500 samples is 147\n",
      "The mode dictionary is Counter({7: 17, 6: 13, 0: 12, 10: 12, 3: 12, 1: 12, 2: 8, 15: 7, 22: 6, 16: 5, 11: 4, 4: 4, 8: 4, 5: 4, 9: 3, 14: 3, 23: 3, 18: 3, 13: 3, 12: 2, 17: 2, 20: 2, 21: 2, 19: 2, 24: 2})\n"
     ]
    },
    {
     "name": "stderr",
     "output_type": "stream",
     "text": [
      "100%|██████████| 25/25 [00:00<00:00, 48.44it/s]\n"
     ]
    },
    {
     "name": "stdout",
     "output_type": "stream",
     "text": [
      "spent time for epoch 264 is 0.5219724178314209s\n",
      "epoch # : 264 gamma : 0.5 gen loss : 1.0305507183074951\n"
     ]
    },
    {
     "name": "stderr",
     "output_type": "stream",
     "text": [
      " 20%|██        | 5/25 [00:00<00:00, 48.33it/s]"
     ]
    },
    {
     "name": "stdout",
     "output_type": "stream",
     "text": [
      "Total number of generated modes is  23\n",
      "The number of high quality samples among 2500 samples is 157\n",
      "The mode dictionary is Counter({10: 17, 2: 14, 0: 12, 1: 11, 21: 11, 8: 10, 6: 10, 5: 9, 15: 9, 20: 9, 16: 8, 7: 7, 13: 6, 18: 4, 11: 3, 3: 3, 9: 3, 22: 3, 14: 2, 23: 2, 24: 2, 19: 1, 17: 1})\n"
     ]
    },
    {
     "name": "stderr",
     "output_type": "stream",
     "text": [
      "100%|██████████| 25/25 [00:00<00:00, 48.59it/s]\n"
     ]
    },
    {
     "name": "stdout",
     "output_type": "stream",
     "text": [
      "spent time for epoch 265 is 0.5209615230560303s\n",
      "epoch # : 265 gamma : 0.5 gen loss : 0.9838563203811646\n"
     ]
    },
    {
     "name": "stderr",
     "output_type": "stream",
     "text": [
      " 20%|██        | 5/25 [00:00<00:00, 48.91it/s]"
     ]
    },
    {
     "name": "stdout",
     "output_type": "stream",
     "text": [
      "Total number of generated modes is  20\n",
      "The number of high quality samples among 2500 samples is 57\n",
      "The mode dictionary is Counter({10: 6, 6: 6, 21: 5, 3: 5, 16: 5, 11: 4, 2: 3, 23: 3, 9: 3, 24: 3, 15: 2, 14: 2, 18: 2, 4: 2, 5: 1, 13: 1, 22: 1, 17: 1, 7: 1, 12: 1})\n"
     ]
    },
    {
     "name": "stderr",
     "output_type": "stream",
     "text": [
      "100%|██████████| 25/25 [00:00<00:00, 48.56it/s]\n"
     ]
    },
    {
     "name": "stdout",
     "output_type": "stream",
     "text": [
      "spent time for epoch 266 is 0.520432710647583s\n",
      "epoch # : 266 gamma : 0.5 gen loss : 1.045111060142517\n"
     ]
    },
    {
     "name": "stderr",
     "output_type": "stream",
     "text": [
      " 20%|██        | 5/25 [00:00<00:00, 47.95it/s]"
     ]
    },
    {
     "name": "stdout",
     "output_type": "stream",
     "text": [
      "Total number of generated modes is  22\n",
      "The number of high quality samples among 2500 samples is 111\n",
      "The mode dictionary is Counter({3: 18, 5: 14, 0: 9, 4: 9, 16: 8, 6: 7, 22: 7, 2: 5, 1: 5, 7: 5, 13: 4, 18: 4, 23: 3, 17: 2, 20: 2, 21: 2, 11: 2, 15: 1, 14: 1, 24: 1, 19: 1, 10: 1})\n"
     ]
    },
    {
     "name": "stderr",
     "output_type": "stream",
     "text": [
      "100%|██████████| 25/25 [00:00<00:00, 46.60it/s]\n"
     ]
    },
    {
     "name": "stdout",
     "output_type": "stream",
     "text": [
      "spent time for epoch 267 is 0.5426545143127441s\n",
      "epoch # : 267 gamma : 0.5 gen loss : 1.014620065689087\n"
     ]
    },
    {
     "name": "stderr",
     "output_type": "stream",
     "text": [
      " 20%|██        | 5/25 [00:00<00:00, 49.77it/s]"
     ]
    },
    {
     "name": "stdout",
     "output_type": "stream",
     "text": [
      "Total number of generated modes is  24\n",
      "The number of high quality samples among 2500 samples is 107\n",
      "The mode dictionary is Counter({20: 19, 10: 14, 22: 9, 17: 6, 5: 6, 4: 6, 15: 6, 6: 5, 7: 5, 23: 4, 2: 3, 8: 3, 16: 3, 3: 3, 21: 2, 11: 2, 12: 2, 13: 2, 14: 2, 9: 1, 0: 1, 24: 1, 18: 1, 1: 1})\n"
     ]
    },
    {
     "name": "stderr",
     "output_type": "stream",
     "text": [
      "100%|██████████| 25/25 [00:00<00:00, 49.11it/s]\n"
     ]
    },
    {
     "name": "stdout",
     "output_type": "stream",
     "text": [
      "spent time for epoch 268 is 0.5148735046386719s\n",
      "epoch # : 268 gamma : 0.5 gen loss : 1.0100384950637817\n"
     ]
    },
    {
     "name": "stderr",
     "output_type": "stream",
     "text": [
      " 20%|██        | 5/25 [00:00<00:00, 48.71it/s]"
     ]
    },
    {
     "name": "stdout",
     "output_type": "stream",
     "text": [
      "Total number of generated modes is  23\n",
      "The number of high quality samples among 2500 samples is 158\n",
      "The mode dictionary is Counter({0: 16, 4: 16, 1: 14, 8: 13, 16: 12, 3: 12, 7: 10, 24: 8, 13: 8, 21: 5, 2: 5, 10: 5, 11: 5, 9: 4, 20: 4, 14: 4, 19: 4, 12: 3, 22: 3, 17: 3, 5: 2, 23: 1, 6: 1})\n"
     ]
    },
    {
     "name": "stderr",
     "output_type": "stream",
     "text": [
      "100%|██████████| 25/25 [00:00<00:00, 48.84it/s]\n"
     ]
    },
    {
     "name": "stdout",
     "output_type": "stream",
     "text": [
      "spent time for epoch 269 is 0.517831563949585s\n",
      "epoch # : 269 gamma : 0.5 gen loss : 1.0221946239471436\n"
     ]
    },
    {
     "name": "stderr",
     "output_type": "stream",
     "text": [
      " 20%|██        | 5/25 [00:00<00:00, 49.59it/s]"
     ]
    },
    {
     "name": "stdout",
     "output_type": "stream",
     "text": [
      "Total number of generated modes is  24\n",
      "The number of high quality samples among 2500 samples is 132\n",
      "The mode dictionary is Counter({8: 18, 10: 10, 24: 10, 23: 9, 7: 8, 14: 8, 21: 7, 19: 7, 16: 7, 9: 6, 0: 6, 18: 6, 4: 6, 15: 5, 17: 4, 20: 3, 11: 2, 13: 2, 12: 2, 22: 2, 5: 1, 1: 1, 3: 1, 2: 1})\n"
     ]
    },
    {
     "name": "stderr",
     "output_type": "stream",
     "text": [
      "100%|██████████| 25/25 [00:00<00:00, 49.07it/s]\n"
     ]
    },
    {
     "name": "stdout",
     "output_type": "stream",
     "text": [
      "spent time for epoch 270 is 0.5152006149291992s\n",
      "epoch # : 270 gamma : 0.5 gen loss : 1.0021377801895142\n"
     ]
    },
    {
     "name": "stderr",
     "output_type": "stream",
     "text": [
      " 20%|██        | 5/25 [00:00<00:00, 49.64it/s]"
     ]
    },
    {
     "name": "stdout",
     "output_type": "stream",
     "text": [
      "Total number of generated modes is  25\n",
      "The number of high quality samples among 2500 samples is 119\n",
      "The mode dictionary is Counter({7: 12, 6: 11, 15: 10, 20: 10, 10: 9, 21: 7, 23: 7, 3: 6, 4: 6, 16: 5, 17: 4, 0: 4, 2: 4, 8: 3, 1: 3, 11: 3, 12: 2, 13: 2, 24: 2, 5: 2, 19: 2, 22: 2, 14: 1, 18: 1, 9: 1})\n"
     ]
    },
    {
     "name": "stderr",
     "output_type": "stream",
     "text": [
      "100%|██████████| 25/25 [00:00<00:00, 48.92it/s]\n"
     ]
    },
    {
     "name": "stdout",
     "output_type": "stream",
     "text": [
      "spent time for epoch 271 is 0.5167148113250732s\n",
      "epoch # : 271 gamma : 0.5 gen loss : 1.0139821767807007\n"
     ]
    },
    {
     "name": "stderr",
     "output_type": "stream",
     "text": [
      "  4%|▍         | 1/25 [00:00<00:03,  7.40it/s]"
     ]
    },
    {
     "name": "stdout",
     "output_type": "stream",
     "text": [
      "Total number of generated modes is  23\n",
      "The number of high quality samples among 2500 samples is 120\n",
      "The mode dictionary is Counter({16: 16, 0: 12, 7: 9, 3: 9, 24: 8, 19: 7, 1: 7, 2: 6, 18: 5, 4: 5, 12: 5, 6: 4, 23: 4, 21: 4, 11: 3, 22: 3, 9: 3, 14: 2, 15: 2, 17: 2, 13: 2, 5: 1, 10: 1})\n"
     ]
    },
    {
     "name": "stderr",
     "output_type": "stream",
     "text": [
      "100%|██████████| 25/25 [00:00<00:00, 44.28it/s]\n"
     ]
    },
    {
     "name": "stdout",
     "output_type": "stream",
     "text": [
      "spent time for epoch 272 is 0.5705029964447021s\n",
      "epoch # : 272 gamma : 0.5 gen loss : 1.005481243133545\n"
     ]
    },
    {
     "name": "stderr",
     "output_type": "stream",
     "text": [
      " 20%|██        | 5/25 [00:00<00:00, 49.21it/s]"
     ]
    },
    {
     "name": "stdout",
     "output_type": "stream",
     "text": [
      "Total number of generated modes is  25\n",
      "The number of high quality samples among 2500 samples is 137\n",
      "The mode dictionary is Counter({11: 12, 10: 11, 20: 11, 5: 11, 21: 9, 15: 8, 2: 7, 6: 7, 12: 7, 16: 7, 4: 7, 7: 6, 17: 5, 3: 5, 24: 5, 19: 3, 1: 3, 23: 3, 0: 2, 9: 2, 14: 2, 18: 1, 13: 1, 8: 1, 22: 1})\n"
     ]
    },
    {
     "name": "stderr",
     "output_type": "stream",
     "text": [
      "100%|██████████| 25/25 [00:00<00:00, 49.20it/s]\n"
     ]
    },
    {
     "name": "stdout",
     "output_type": "stream",
     "text": [
      "spent time for epoch 273 is 0.5140268802642822s\n",
      "epoch # : 273 gamma : 0.5 gen loss : 1.0516116619110107\n"
     ]
    },
    {
     "name": "stderr",
     "output_type": "stream",
     "text": [
      " 20%|██        | 5/25 [00:00<00:00, 48.47it/s]"
     ]
    },
    {
     "name": "stdout",
     "output_type": "stream",
     "text": [
      "Total number of generated modes is  19\n",
      "The number of high quality samples among 2500 samples is 99\n",
      "The mode dictionary is Counter({10: 21, 0: 20, 16: 8, 21: 8, 1: 7, 7: 5, 2: 5, 6: 5, 12: 4, 18: 3, 8: 2, 3: 2, 23: 2, 24: 2, 22: 1, 15: 1, 17: 1, 14: 1, 19: 1})\n"
     ]
    },
    {
     "name": "stderr",
     "output_type": "stream",
     "text": [
      "100%|██████████| 25/25 [00:00<00:00, 48.80it/s]\n"
     ]
    },
    {
     "name": "stdout",
     "output_type": "stream",
     "text": [
      "spent time for epoch 274 is 0.5180304050445557s\n",
      "epoch # : 274 gamma : 0.5 gen loss : 1.0211645364761353\n"
     ]
    },
    {
     "name": "stderr",
     "output_type": "stream",
     "text": [
      " 20%|██        | 5/25 [00:00<00:00, 48.13it/s]"
     ]
    },
    {
     "name": "stdout",
     "output_type": "stream",
     "text": [
      "Total number of generated modes is  25\n",
      "The number of high quality samples among 2500 samples is 138\n",
      "The mode dictionary is Counter({23: 13, 11: 12, 4: 11, 19: 11, 8: 10, 16: 9, 9: 8, 22: 6, 7: 6, 13: 6, 18: 5, 12: 5, 3: 5, 15: 4, 14: 4, 10: 4, 24: 4, 20: 3, 6: 3, 21: 2, 5: 2, 2: 2, 1: 1, 17: 1, 0: 1})\n"
     ]
    },
    {
     "name": "stderr",
     "output_type": "stream",
     "text": [
      "100%|██████████| 25/25 [00:00<00:00, 48.63it/s]\n"
     ]
    },
    {
     "name": "stdout",
     "output_type": "stream",
     "text": [
      "spent time for epoch 275 is 0.5198254585266113s\n",
      "epoch # : 275 gamma : 0.5 gen loss : 1.0022025108337402\n"
     ]
    },
    {
     "name": "stderr",
     "output_type": "stream",
     "text": [
      " 20%|██        | 5/25 [00:00<00:00, 49.77it/s]"
     ]
    },
    {
     "name": "stdout",
     "output_type": "stream",
     "text": [
      "Total number of generated modes is  23\n",
      "The number of high quality samples among 2500 samples is 144\n",
      "The mode dictionary is Counter({10: 27, 6: 15, 0: 15, 15: 14, 21: 11, 16: 9, 7: 9, 11: 8, 22: 6, 8: 5, 5: 4, 20: 4, 12: 4, 1: 2, 23: 2, 13: 2, 17: 1, 19: 1, 4: 1, 14: 1, 18: 1, 3: 1, 24: 1})\n"
     ]
    },
    {
     "name": "stderr",
     "output_type": "stream",
     "text": [
      "100%|██████████| 25/25 [00:00<00:00, 49.37it/s]\n"
     ]
    },
    {
     "name": "stdout",
     "output_type": "stream",
     "text": [
      "spent time for epoch 276 is 0.511972188949585s\n",
      "epoch # : 276 gamma : 0.5 gen loss : 1.0522147417068481\n"
     ]
    },
    {
     "name": "stderr",
     "output_type": "stream",
     "text": [
      " 24%|██▍       | 6/25 [00:00<00:00, 34.19it/s]"
     ]
    },
    {
     "name": "stdout",
     "output_type": "stream",
     "text": [
      "Total number of generated modes is  23\n",
      "The number of high quality samples among 2500 samples is 163\n",
      "The mode dictionary is Counter({21: 20, 0: 18, 6: 13, 20: 13, 16: 12, 15: 12, 10: 10, 3: 10, 1: 9, 2: 8, 7: 7, 4: 6, 23: 4, 11: 3, 8: 3, 18: 2, 5: 2, 22: 2, 19: 2, 17: 2, 12: 2, 9: 2, 14: 1})\n"
     ]
    },
    {
     "name": "stderr",
     "output_type": "stream",
     "text": [
      "100%|██████████| 25/25 [00:00<00:00, 49.53it/s]\n"
     ]
    },
    {
     "name": "stdout",
     "output_type": "stream",
     "text": [
      "spent time for epoch 277 is 0.5102722644805908s\n",
      "epoch # : 277 gamma : 0.5 gen loss : 0.99540114402771\n"
     ]
    },
    {
     "name": "stderr",
     "output_type": "stream",
     "text": [
      " 20%|██        | 5/25 [00:00<00:00, 49.95it/s]"
     ]
    },
    {
     "name": "stdout",
     "output_type": "stream",
     "text": [
      "Total number of generated modes is  24\n",
      "The number of high quality samples among 2500 samples is 117\n",
      "The mode dictionary is Counter({7: 12, 6: 10, 23: 10, 15: 10, 20: 9, 21: 9, 8: 8, 10: 6, 11: 6, 16: 5, 18: 5, 24: 4, 0: 3, 5: 3, 17: 3, 13: 3, 22: 2, 1: 2, 12: 2, 4: 1, 14: 1, 3: 1, 9: 1, 2: 1})\n"
     ]
    },
    {
     "name": "stderr",
     "output_type": "stream",
     "text": [
      "100%|██████████| 25/25 [00:00<00:00, 49.46it/s]\n"
     ]
    },
    {
     "name": "stdout",
     "output_type": "stream",
     "text": [
      "spent time for epoch 278 is 0.5112748146057129s\n",
      "epoch # : 278 gamma : 0.5 gen loss : 0.9784390330314636\n"
     ]
    },
    {
     "name": "stderr",
     "output_type": "stream",
     "text": [
      " 20%|██        | 5/25 [00:00<00:00, 48.77it/s]"
     ]
    },
    {
     "name": "stdout",
     "output_type": "stream",
     "text": [
      "Total number of generated modes is  23\n",
      "The number of high quality samples among 2500 samples is 111\n",
      "The mode dictionary is Counter({1: 12, 3: 12, 4: 9, 0: 9, 7: 8, 11: 7, 2: 6, 10: 6, 21: 6, 8: 5, 16: 4, 15: 4, 13: 3, 17: 3, 6: 3, 20: 2, 22: 2, 23: 2, 18: 2, 5: 2, 24: 2, 19: 1, 12: 1})\n"
     ]
    },
    {
     "name": "stderr",
     "output_type": "stream",
     "text": [
      "100%|██████████| 25/25 [00:00<00:00, 49.62it/s]\n"
     ]
    },
    {
     "name": "stdout",
     "output_type": "stream",
     "text": [
      "spent time for epoch 279 is 0.5094032287597656s\n",
      "epoch # : 279 gamma : 0.5 gen loss : 1.021699070930481\n"
     ]
    },
    {
     "name": "stderr",
     "output_type": "stream",
     "text": [
      " 20%|██        | 5/25 [00:00<00:00, 49.73it/s]"
     ]
    },
    {
     "name": "stdout",
     "output_type": "stream",
     "text": [
      "Total number of generated modes is  22\n",
      "The number of high quality samples among 2500 samples is 103\n",
      "The mode dictionary is Counter({21: 14, 8: 13, 7: 12, 6: 9, 16: 7, 9: 6, 19: 5, 11: 5, 14: 4, 4: 4, 22: 4, 20: 4, 5: 4, 12: 2, 13: 2, 24: 2, 1: 1, 17: 1, 2: 1, 0: 1, 18: 1, 3: 1})\n"
     ]
    },
    {
     "name": "stderr",
     "output_type": "stream",
     "text": [
      "100%|██████████| 25/25 [00:00<00:00, 49.41it/s]\n"
     ]
    },
    {
     "name": "stdout",
     "output_type": "stream",
     "text": [
      "spent time for epoch 280 is 0.514420747756958s\n",
      "epoch # : 280 gamma : 0.5 gen loss : 1.0224156379699707\n"
     ]
    },
    {
     "name": "stderr",
     "output_type": "stream",
     "text": [
      " 20%|██        | 5/25 [00:00<00:00, 49.42it/s]"
     ]
    },
    {
     "name": "stdout",
     "output_type": "stream",
     "text": [
      "Total number of generated modes is  24\n",
      "The number of high quality samples among 2500 samples is 140\n",
      "The mode dictionary is Counter({15: 17, 2: 12, 0: 12, 12: 10, 23: 10, 16: 9, 6: 8, 10: 8, 7: 8, 8: 6, 21: 5, 18: 5, 3: 5, 1: 5, 11: 4, 14: 3, 22: 3, 4: 2, 13: 2, 5: 2, 20: 1, 17: 1, 9: 1, 24: 1})\n"
     ]
    },
    {
     "name": "stderr",
     "output_type": "stream",
     "text": [
      "100%|██████████| 25/25 [00:00<00:00, 49.58it/s]\n"
     ]
    },
    {
     "name": "stdout",
     "output_type": "stream",
     "text": [
      "spent time for epoch 281 is 0.5097863674163818s\n",
      "epoch # : 281 gamma : 0.5 gen loss : 1.0011268854141235\n"
     ]
    },
    {
     "name": "stderr",
     "output_type": "stream",
     "text": [
      " 20%|██        | 5/25 [00:00<00:00, 49.58it/s]"
     ]
    },
    {
     "name": "stdout",
     "output_type": "stream",
     "text": [
      "Total number of generated modes is  22\n",
      "The number of high quality samples among 2500 samples is 126\n",
      "The mode dictionary is Counter({8: 12, 9: 11, 6: 11, 16: 10, 7: 9, 14: 8, 21: 8, 4: 8, 24: 7, 3: 7, 19: 6, 11: 6, 5: 6, 2: 4, 23: 3, 22: 3, 18: 2, 15: 1, 17: 1, 1: 1, 12: 1, 10: 1})\n"
     ]
    },
    {
     "name": "stderr",
     "output_type": "stream",
     "text": [
      "100%|██████████| 25/25 [00:00<00:00, 48.04it/s]\n"
     ]
    },
    {
     "name": "stdout",
     "output_type": "stream",
     "text": [
      "spent time for epoch 282 is 0.5262467861175537s\n",
      "epoch # : 282 gamma : 0.5 gen loss : 1.0088592767715454\n"
     ]
    },
    {
     "name": "stderr",
     "output_type": "stream",
     "text": [
      "  4%|▍         | 1/25 [00:00<00:03,  7.21it/s]"
     ]
    },
    {
     "name": "stdout",
     "output_type": "stream",
     "text": [
      "Total number of generated modes is  25\n",
      "The number of high quality samples among 2500 samples is 91\n",
      "The mode dictionary is Counter({6: 9, 16: 9, 15: 8, 7: 7, 20: 7, 10: 6, 13: 5, 12: 5, 18: 3, 3: 3, 5: 3, 24: 3, 21: 3, 23: 3, 8: 2, 1: 2, 0: 2, 14: 2, 2: 2, 17: 2, 4: 1, 19: 1, 22: 1, 11: 1, 9: 1})\n"
     ]
    },
    {
     "name": "stderr",
     "output_type": "stream",
     "text": [
      "100%|██████████| 25/25 [00:00<00:00, 43.79it/s]\n"
     ]
    },
    {
     "name": "stdout",
     "output_type": "stream",
     "text": [
      "spent time for epoch 283 is 0.5767784118652344s\n",
      "epoch # : 283 gamma : 0.5 gen loss : 1.021069049835205\n"
     ]
    },
    {
     "name": "stderr",
     "output_type": "stream",
     "text": [
      " 20%|██        | 5/25 [00:00<00:00, 48.99it/s]"
     ]
    },
    {
     "name": "stdout",
     "output_type": "stream",
     "text": [
      "Total number of generated modes is  21\n",
      "The number of high quality samples among 2500 samples is 152\n",
      "The mode dictionary is Counter({0: 29, 20: 14, 7: 14, 10: 13, 3: 12, 21: 10, 2: 9, 4: 9, 6: 7, 8: 6, 1: 5, 15: 5, 11: 5, 16: 4, 17: 2, 13: 2, 5: 2, 12: 1, 18: 1, 9: 1, 23: 1})\n"
     ]
    },
    {
     "name": "stderr",
     "output_type": "stream",
     "text": [
      "100%|██████████| 25/25 [00:00<00:00, 48.54it/s]\n"
     ]
    },
    {
     "name": "stdout",
     "output_type": "stream",
     "text": [
      "spent time for epoch 284 is 0.5208888053894043s\n",
      "epoch # : 284 gamma : 0.5 gen loss : 0.9997947216033936\n"
     ]
    },
    {
     "name": "stderr",
     "output_type": "stream",
     "text": [
      " 20%|██        | 5/25 [00:00<00:00, 49.73it/s]"
     ]
    },
    {
     "name": "stdout",
     "output_type": "stream",
     "text": [
      "Total number of generated modes is  23\n",
      "The number of high quality samples among 2500 samples is 96\n",
      "The mode dictionary is Counter({15: 12, 10: 12, 24: 6, 6: 6, 5: 6, 11: 6, 16: 6, 23: 5, 21: 4, 14: 4, 18: 4, 20: 4, 13: 3, 19: 3, 12: 3, 17: 2, 1: 2, 8: 2, 2: 2, 3: 1, 4: 1, 22: 1, 0: 1})\n"
     ]
    },
    {
     "name": "stderr",
     "output_type": "stream",
     "text": [
      "100%|██████████| 25/25 [00:00<00:00, 48.28it/s]\n"
     ]
    },
    {
     "name": "stdout",
     "output_type": "stream",
     "text": [
      "spent time for epoch 285 is 0.5234344005584717s\n",
      "epoch # : 285 gamma : 0.5 gen loss : 1.0249621868133545\n"
     ]
    },
    {
     "name": "stderr",
     "output_type": "stream",
     "text": [
      " 20%|██        | 5/25 [00:00<00:00, 49.95it/s]"
     ]
    },
    {
     "name": "stdout",
     "output_type": "stream",
     "text": [
      "Total number of generated modes is  23\n",
      "The number of high quality samples among 2500 samples is 147\n",
      "The mode dictionary is Counter({6: 14, 4: 14, 1: 12, 2: 12, 7: 10, 3: 10, 5: 9, 8: 9, 16: 8, 21: 8, 13: 6, 14: 5, 18: 4, 11: 4, 12: 4, 17: 4, 22: 3, 9: 3, 24: 2, 19: 2, 20: 2, 23: 1, 0: 1})\n"
     ]
    },
    {
     "name": "stderr",
     "output_type": "stream",
     "text": [
      "100%|██████████| 25/25 [00:00<00:00, 49.37it/s]\n"
     ]
    },
    {
     "name": "stdout",
     "output_type": "stream",
     "text": [
      "spent time for epoch 286 is 0.5122456550598145s\n",
      "epoch # : 286 gamma : 0.5 gen loss : 1.0069249868392944\n"
     ]
    },
    {
     "name": "stderr",
     "output_type": "stream",
     "text": [
      " 20%|██        | 5/25 [00:00<00:00, 49.18it/s]"
     ]
    },
    {
     "name": "stdout",
     "output_type": "stream",
     "text": [
      "Total number of generated modes is  22\n",
      "The number of high quality samples among 2500 samples is 110\n",
      "The mode dictionary is Counter({16: 17, 8: 12, 10: 9, 23: 9, 7: 7, 15: 7, 11: 7, 24: 7, 21: 5, 18: 4, 9: 4, 22: 4, 12: 3, 20: 3, 3: 2, 13: 2, 0: 2, 5: 2, 14: 1, 19: 1, 6: 1, 1: 1})\n"
     ]
    },
    {
     "name": "stderr",
     "output_type": "stream",
     "text": [
      "100%|██████████| 25/25 [00:00<00:00, 49.39it/s]\n"
     ]
    },
    {
     "name": "stdout",
     "output_type": "stream",
     "text": [
      "spent time for epoch 287 is 0.5116250514984131s\n",
      "epoch # : 287 gamma : 0.5 gen loss : 1.0008279085159302\n"
     ]
    },
    {
     "name": "stderr",
     "output_type": "stream",
     "text": [
      " 20%|██        | 5/25 [00:00<00:00, 49.19it/s]"
     ]
    },
    {
     "name": "stdout",
     "output_type": "stream",
     "text": [
      "Total number of generated modes is  21\n",
      "The number of high quality samples among 2500 samples is 129\n",
      "The mode dictionary is Counter({21: 16, 15: 16, 3: 16, 0: 11, 2: 11, 16: 8, 7: 8, 1: 8, 6: 7, 10: 5, 8: 4, 20: 4, 4: 4, 5: 3, 22: 2, 12: 1, 11: 1, 18: 1, 13: 1, 14: 1, 23: 1})\n"
     ]
    },
    {
     "name": "stderr",
     "output_type": "stream",
     "text": [
      "100%|██████████| 25/25 [00:00<00:00, 49.69it/s]\n"
     ]
    },
    {
     "name": "stdout",
     "output_type": "stream",
     "text": [
      "spent time for epoch 288 is 0.5089776515960693s\n",
      "epoch # : 288 gamma : 0.5 gen loss : 1.0129133462905884\n"
     ]
    },
    {
     "name": "stderr",
     "output_type": "stream",
     "text": [
      " 20%|██        | 5/25 [00:00<00:00, 49.30it/s]"
     ]
    },
    {
     "name": "stdout",
     "output_type": "stream",
     "text": [
      "Total number of generated modes is  25\n",
      "The number of high quality samples among 2500 samples is 143\n",
      "The mode dictionary is Counter({10: 33, 7: 13, 6: 11, 8: 9, 21: 8, 15: 7, 5: 7, 16: 6, 20: 6, 1: 6, 23: 5, 12: 4, 3: 3, 13: 3, 17: 3, 11: 3, 9: 2, 14: 2, 4: 2, 2: 2, 18: 2, 24: 2, 22: 2, 19: 1, 0: 1})\n"
     ]
    },
    {
     "name": "stderr",
     "output_type": "stream",
     "text": [
      "100%|██████████| 25/25 [00:00<00:00, 49.39it/s]\n"
     ]
    },
    {
     "name": "stdout",
     "output_type": "stream",
     "text": [
      "spent time for epoch 289 is 0.511946439743042s\n",
      "epoch # : 289 gamma : 0.5 gen loss : 1.012401819229126\n"
     ]
    },
    {
     "name": "stderr",
     "output_type": "stream",
     "text": [
      " 24%|██▍       | 6/25 [00:00<00:00, 33.54it/s]"
     ]
    },
    {
     "name": "stdout",
     "output_type": "stream",
     "text": [
      "Total number of generated modes is  24\n",
      "The number of high quality samples among 2500 samples is 118\n",
      "The mode dictionary is Counter({11: 11, 8: 9, 1: 9, 2: 8, 7: 8, 16: 7, 20: 6, 3: 6, 4: 5, 13: 5, 6: 5, 22: 5, 9: 5, 10: 4, 21: 4, 0: 4, 23: 4, 12: 3, 5: 3, 19: 2, 24: 2, 18: 1, 17: 1, 14: 1})\n"
     ]
    },
    {
     "name": "stderr",
     "output_type": "stream",
     "text": [
      "100%|██████████| 25/25 [00:00<00:00, 49.18it/s]\n"
     ]
    },
    {
     "name": "stdout",
     "output_type": "stream",
     "text": [
      "spent time for epoch 290 is 0.5141520500183105s\n",
      "epoch # : 290 gamma : 0.5 gen loss : 1.017195701599121\n"
     ]
    },
    {
     "name": "stderr",
     "output_type": "stream",
     "text": [
      " 24%|██▍       | 6/25 [00:00<00:00, 34.42it/s]"
     ]
    },
    {
     "name": "stdout",
     "output_type": "stream",
     "text": [
      "Total number of generated modes is  24\n",
      "The number of high quality samples among 2500 samples is 133\n",
      "The mode dictionary is Counter({4: 19, 6: 13, 16: 10, 1: 10, 8: 10, 3: 9, 7: 8, 5: 6, 21: 6, 2: 6, 0: 5, 23: 4, 10: 4, 18: 4, 14: 3, 13: 3, 9: 3, 24: 2, 20: 2, 17: 2, 19: 1, 12: 1, 11: 1, 22: 1})\n"
     ]
    },
    {
     "name": "stderr",
     "output_type": "stream",
     "text": [
      "100%|██████████| 25/25 [00:00<00:00, 49.48it/s]\n"
     ]
    },
    {
     "name": "stdout",
     "output_type": "stream",
     "text": [
      "spent time for epoch 291 is 0.5108649730682373s\n",
      "epoch # : 291 gamma : 0.5 gen loss : 0.9997689127922058\n"
     ]
    },
    {
     "name": "stderr",
     "output_type": "stream",
     "text": [
      " 24%|██▍       | 6/25 [00:00<00:00, 34.40it/s]"
     ]
    },
    {
     "name": "stdout",
     "output_type": "stream",
     "text": [
      "Total number of generated modes is  23\n",
      "The number of high quality samples among 2500 samples is 138\n",
      "The mode dictionary is Counter({6: 13, 14: 12, 15: 12, 10: 11, 20: 10, 9: 9, 3: 8, 2: 8, 17: 8, 22: 7, 4: 5, 13: 4, 19: 4, 11: 4, 1: 3, 5: 3, 7: 3, 23: 3, 21: 3, 8: 2, 0: 2, 12: 2, 24: 2})\n"
     ]
    },
    {
     "name": "stderr",
     "output_type": "stream",
     "text": [
      "100%|██████████| 25/25 [00:00<00:00, 48.53it/s]\n"
     ]
    },
    {
     "name": "stdout",
     "output_type": "stream",
     "text": [
      "spent time for epoch 292 is 0.5209414958953857s\n",
      "epoch # : 292 gamma : 0.5 gen loss : 1.009210467338562\n"
     ]
    },
    {
     "name": "stderr",
     "output_type": "stream",
     "text": [
      " 24%|██▍       | 6/25 [00:00<00:00, 34.15it/s]"
     ]
    },
    {
     "name": "stdout",
     "output_type": "stream",
     "text": [
      "Total number of generated modes is  23\n",
      "The number of high quality samples among 2500 samples is 117\n",
      "The mode dictionary is Counter({7: 12, 1: 11, 8: 9, 11: 9, 10: 8, 0: 7, 18: 7, 20: 6, 2: 6, 16: 5, 15: 5, 24: 5, 19: 5, 4: 5, 9: 3, 6: 3, 22: 2, 17: 2, 3: 2, 12: 2, 21: 1, 5: 1, 13: 1})\n"
     ]
    },
    {
     "name": "stderr",
     "output_type": "stream",
     "text": [
      "100%|██████████| 25/25 [00:00<00:00, 49.26it/s]\n"
     ]
    },
    {
     "name": "stdout",
     "output_type": "stream",
     "text": [
      "spent time for epoch 293 is 0.5131988525390625s\n",
      "epoch # : 293 gamma : 0.5 gen loss : 1.0261460542678833\n"
     ]
    },
    {
     "name": "stderr",
     "output_type": "stream",
     "text": [
      "  4%|▍         | 1/25 [00:00<00:03,  7.52it/s]"
     ]
    },
    {
     "name": "stdout",
     "output_type": "stream",
     "text": [
      "Total number of generated modes is  22\n",
      "The number of high quality samples among 2500 samples is 121\n",
      "The mode dictionary is Counter({0: 17, 1: 15, 4: 12, 5: 12, 3: 10, 7: 9, 2: 5, 6: 5, 12: 4, 13: 4, 10: 4, 16: 4, 17: 4, 22: 3, 11: 3, 9: 2, 19: 2, 18: 2, 23: 1, 24: 1, 21: 1, 15: 1})\n"
     ]
    },
    {
     "name": "stderr",
     "output_type": "stream",
     "text": [
      "100%|██████████| 25/25 [00:00<00:00, 43.24it/s]\n"
     ]
    },
    {
     "name": "stdout",
     "output_type": "stream",
     "text": [
      "spent time for epoch 294 is 0.5838096141815186s\n",
      "epoch # : 294 gamma : 0.5 gen loss : 1.0059967041015625\n"
     ]
    },
    {
     "name": "stderr",
     "output_type": "stream",
     "text": [
      " 16%|█▌        | 4/25 [00:00<00:00, 39.11it/s]"
     ]
    },
    {
     "name": "stdout",
     "output_type": "stream",
     "text": [
      "Total number of generated modes is  24\n",
      "The number of high quality samples among 2500 samples is 122\n",
      "The mode dictionary is Counter({21: 18, 1: 8, 10: 8, 7: 7, 16: 7, 0: 7, 15: 7, 20: 7, 8: 6, 13: 5, 24: 5, 4: 4, 18: 4, 9: 3, 3: 3, 11: 3, 22: 3, 6: 3, 2: 3, 14: 3, 12: 2, 19: 2, 23: 2, 17: 2})\n"
     ]
    },
    {
     "name": "stderr",
     "output_type": "stream",
     "text": [
      "100%|██████████| 25/25 [00:00<00:00, 48.42it/s]\n"
     ]
    },
    {
     "name": "stdout",
     "output_type": "stream",
     "text": [
      "spent time for epoch 295 is 0.5218503475189209s\n",
      "epoch # : 295 gamma : 0.5 gen loss : 0.9710557460784912\n"
     ]
    },
    {
     "name": "stderr",
     "output_type": "stream",
     "text": [
      " 20%|██        | 5/25 [00:00<00:00, 48.05it/s]"
     ]
    },
    {
     "name": "stdout",
     "output_type": "stream",
     "text": [
      "Total number of generated modes is  21\n",
      "The number of high quality samples among 2500 samples is 143\n",
      "The mode dictionary is Counter({10: 17, 11: 12, 16: 11, 7: 10, 20: 9, 8: 9, 13: 8, 21: 8, 15: 8, 6: 7, 0: 7, 4: 6, 1: 6, 12: 6, 18: 3, 24: 3, 2: 3, 9: 3, 5: 3, 23: 2, 3: 2})\n"
     ]
    },
    {
     "name": "stderr",
     "output_type": "stream",
     "text": [
      "100%|██████████| 25/25 [00:00<00:00, 48.67it/s]\n"
     ]
    },
    {
     "name": "stdout",
     "output_type": "stream",
     "text": [
      "spent time for epoch 296 is 0.5195221900939941s\n",
      "epoch # : 296 gamma : 0.5 gen loss : 0.9910235404968262\n"
     ]
    },
    {
     "name": "stderr",
     "output_type": "stream",
     "text": [
      " 20%|██        | 5/25 [00:00<00:00, 49.06it/s]"
     ]
    },
    {
     "name": "stdout",
     "output_type": "stream",
     "text": [
      "Total number of generated modes is  25\n",
      "The number of high quality samples among 2500 samples is 170\n",
      "The mode dictionary is Counter({7: 18, 21: 15, 8: 12, 16: 11, 14: 11, 24: 10, 9: 9, 1: 9, 20: 9, 19: 8, 15: 8, 23: 8, 11: 7, 22: 5, 3: 5, 4: 5, 2: 4, 10: 3, 6: 3, 18: 3, 17: 2, 0: 2, 5: 1, 13: 1, 12: 1})\n"
     ]
    },
    {
     "name": "stderr",
     "output_type": "stream",
     "text": [
      "100%|██████████| 25/25 [00:00<00:00, 48.36it/s]\n"
     ]
    },
    {
     "name": "stdout",
     "output_type": "stream",
     "text": [
      "spent time for epoch 297 is 0.522881269454956s\n",
      "epoch # : 297 gamma : 0.5 gen loss : 1.0569937229156494\n"
     ]
    },
    {
     "name": "stderr",
     "output_type": "stream",
     "text": [
      " 20%|██        | 5/25 [00:00<00:00, 48.79it/s]"
     ]
    },
    {
     "name": "stdout",
     "output_type": "stream",
     "text": [
      "Total number of generated modes is  25\n",
      "The number of high quality samples among 2500 samples is 164\n",
      "The mode dictionary is Counter({16: 17, 0: 16, 21: 12, 6: 11, 3: 11, 11: 10, 10: 10, 15: 9, 20: 8, 7: 8, 5: 7, 2: 7, 1: 6, 22: 5, 4: 5, 14: 4, 8: 3, 19: 3, 24: 2, 13: 2, 18: 2, 9: 2, 23: 2, 17: 1, 12: 1})\n"
     ]
    },
    {
     "name": "stderr",
     "output_type": "stream",
     "text": [
      "100%|██████████| 25/25 [00:00<00:00, 49.10it/s]\n"
     ]
    },
    {
     "name": "stdout",
     "output_type": "stream",
     "text": [
      "spent time for epoch 298 is 0.5147809982299805s\n",
      "epoch # : 298 gamma : 0.5 gen loss : 0.9796047806739807\n"
     ]
    },
    {
     "name": "stderr",
     "output_type": "stream",
     "text": [
      " 20%|██        | 5/25 [00:00<00:00, 49.29it/s]"
     ]
    },
    {
     "name": "stdout",
     "output_type": "stream",
     "text": [
      "Total number of generated modes is  25\n",
      "The number of high quality samples among 2500 samples is 108\n",
      "The mode dictionary is Counter({6: 17, 8: 7, 20: 7, 16: 7, 5: 7, 23: 6, 15: 6, 7: 6, 1: 5, 11: 5, 0: 4, 2: 4, 4: 4, 13: 4, 10: 3, 24: 3, 3: 3, 22: 2, 9: 2, 21: 1, 12: 1, 18: 1, 17: 1, 19: 1, 14: 1})\n"
     ]
    },
    {
     "name": "stderr",
     "output_type": "stream",
     "text": [
      "100%|██████████| 25/25 [00:00<00:00, 49.35it/s]\n"
     ]
    },
    {
     "name": "stdout",
     "output_type": "stream",
     "text": [
      "spent time for epoch 299 is 0.512230634689331s\n",
      "epoch # : 299 gamma : 0.5 gen loss : 1.0274440050125122\n"
     ]
    },
    {
     "name": "stderr",
     "output_type": "stream",
     "text": [
      " 20%|██        | 5/25 [00:00<00:00, 49.86it/s]"
     ]
    },
    {
     "name": "stdout",
     "output_type": "stream",
     "text": [
      "Total number of generated modes is  22\n",
      "The number of high quality samples among 2500 samples is 99\n",
      "The mode dictionary is Counter({24: 12, 6: 9, 2: 9, 21: 7, 16: 7, 19: 6, 1: 6, 3: 6, 7: 5, 22: 4, 14: 4, 0: 4, 4: 4, 12: 3, 23: 3, 9: 2, 18: 2, 11: 2, 20: 1, 13: 1, 17: 1, 5: 1})\n"
     ]
    },
    {
     "name": "stderr",
     "output_type": "stream",
     "text": [
      "100%|██████████| 25/25 [00:00<00:00, 48.28it/s]\n"
     ]
    },
    {
     "name": "stdout",
     "output_type": "stream",
     "text": [
      "spent time for epoch 300 is 0.5235586166381836s\n",
      "epoch # : 300 gamma : 0.5 gen loss : 1.060926914215088\n"
     ]
    },
    {
     "name": "stderr",
     "output_type": "stream",
     "text": [
      " 20%|██        | 5/25 [00:00<00:00, 49.59it/s]"
     ]
    },
    {
     "name": "stdout",
     "output_type": "stream",
     "text": [
      "Total number of generated modes is  24\n",
      "The number of high quality samples among 2500 samples is 132\n",
      "The mode dictionary is Counter({10: 18, 20: 17, 21: 12, 7: 12, 16: 12, 15: 8, 3: 8, 0: 7, 24: 5, 1: 5, 6: 5, 2: 4, 13: 3, 19: 3, 8: 2, 22: 2, 18: 2, 17: 1, 4: 1, 14: 1, 5: 1, 11: 1, 9: 1, 23: 1})\n"
     ]
    },
    {
     "name": "stderr",
     "output_type": "stream",
     "text": [
      "100%|██████████| 25/25 [00:00<00:00, 49.29it/s]\n"
     ]
    },
    {
     "name": "stdout",
     "output_type": "stream",
     "text": [
      "spent time for epoch 301 is 0.5130801200866699s\n",
      "epoch # : 301 gamma : 0.5 gen loss : 0.9798402190208435\n"
     ]
    },
    {
     "name": "stderr",
     "output_type": "stream",
     "text": [
      " 24%|██▍       | 6/25 [00:00<00:00, 34.04it/s]"
     ]
    },
    {
     "name": "stdout",
     "output_type": "stream",
     "text": [
      "Total number of generated modes is  21\n",
      "The number of high quality samples among 2500 samples is 139\n",
      "The mode dictionary is Counter({5: 21, 20: 13, 7: 12, 8: 11, 1: 10, 15: 8, 4: 7, 0: 6, 3: 6, 21: 6, 6: 6, 2: 5, 13: 5, 9: 5, 11: 5, 12: 3, 14: 3, 16: 3, 10: 2, 22: 1, 23: 1})\n"
     ]
    },
    {
     "name": "stderr",
     "output_type": "stream",
     "text": [
      "100%|██████████| 25/25 [00:00<00:00, 49.47it/s]\n"
     ]
    },
    {
     "name": "stdout",
     "output_type": "stream",
     "text": [
      "spent time for epoch 302 is 0.5112993717193604s\n",
      "epoch # : 302 gamma : 0.5 gen loss : 1.0264761447906494\n"
     ]
    },
    {
     "name": "stderr",
     "output_type": "stream",
     "text": [
      " 20%|██        | 5/25 [00:00<00:00, 48.65it/s]"
     ]
    },
    {
     "name": "stdout",
     "output_type": "stream",
     "text": [
      "Total number of generated modes is  22\n",
      "The number of high quality samples among 2500 samples is 92\n",
      "The mode dictionary is Counter({11: 10, 1: 10, 0: 9, 2: 7, 10: 7, 23: 6, 3: 6, 21: 6, 6: 4, 16: 4, 15: 4, 12: 3, 22: 3, 9: 2, 5: 2, 20: 2, 7: 2, 24: 1, 14: 1, 13: 1, 8: 1, 4: 1})\n"
     ]
    },
    {
     "name": "stderr",
     "output_type": "stream",
     "text": [
      "100%|██████████| 25/25 [00:00<00:00, 48.72it/s]\n"
     ]
    },
    {
     "name": "stdout",
     "output_type": "stream",
     "text": [
      "spent time for epoch 303 is 0.5189270973205566s\n",
      "epoch # : 303 gamma : 0.5 gen loss : 0.993961751461029\n"
     ]
    },
    {
     "name": "stderr",
     "output_type": "stream",
     "text": [
      " 20%|██        | 5/25 [00:00<00:00, 49.56it/s]"
     ]
    },
    {
     "name": "stdout",
     "output_type": "stream",
     "text": [
      "Total number of generated modes is  22\n",
      "The number of high quality samples among 2500 samples is 118\n",
      "The mode dictionary is Counter({10: 21, 15: 11, 8: 10, 11: 10, 21: 9, 16: 8, 3: 7, 1: 6, 6: 6, 13: 4, 7: 4, 4: 4, 20: 3, 18: 3, 12: 2, 14: 2, 5: 2, 2: 2, 19: 1, 22: 1, 0: 1, 17: 1})\n"
     ]
    },
    {
     "name": "stderr",
     "output_type": "stream",
     "text": [
      "100%|██████████| 25/25 [00:00<00:00, 49.67it/s]\n"
     ]
    },
    {
     "name": "stdout",
     "output_type": "stream",
     "text": [
      "spent time for epoch 304 is 0.5088980197906494s\n",
      "epoch # : 304 gamma : 0.5 gen loss : 1.0217965841293335\n"
     ]
    },
    {
     "name": "stderr",
     "output_type": "stream",
     "text": [
      "  4%|▍         | 1/25 [00:00<00:03,  7.47it/s]"
     ]
    },
    {
     "name": "stdout",
     "output_type": "stream",
     "text": [
      "Total number of generated modes is  25\n",
      "The number of high quality samples among 2500 samples is 144\n",
      "The mode dictionary is Counter({10: 15, 8: 13, 23: 12, 15: 11, 20: 9, 3: 8, 22: 7, 16: 7, 13: 5, 11: 5, 9: 5, 7: 5, 1: 5, 4: 5, 12: 4, 24: 4, 18: 4, 2: 4, 0: 3, 6: 3, 5: 3, 21: 2, 14: 2, 17: 2, 19: 1})\n"
     ]
    },
    {
     "name": "stderr",
     "output_type": "stream",
     "text": [
      "100%|██████████| 25/25 [00:00<00:00, 42.89it/s]\n"
     ]
    },
    {
     "name": "stdout",
     "output_type": "stream",
     "text": [
      "spent time for epoch 305 is 0.589409589767456s\n",
      "epoch # : 305 gamma : 0.5 gen loss : 1.0136632919311523\n"
     ]
    },
    {
     "name": "stderr",
     "output_type": "stream",
     "text": [
      " 20%|██        | 5/25 [00:00<00:00, 48.62it/s]"
     ]
    },
    {
     "name": "stdout",
     "output_type": "stream",
     "text": [
      "Total number of generated modes is  24\n",
      "The number of high quality samples among 2500 samples is 120\n",
      "The mode dictionary is Counter({19: 10, 13: 8, 5: 8, 24: 8, 14: 7, 3: 7, 1: 7, 6: 7, 8: 6, 10: 5, 2: 5, 20: 5, 7: 5, 4: 5, 9: 5, 17: 4, 16: 3, 12: 3, 11: 3, 23: 3, 18: 2, 21: 2, 0: 1, 15: 1})\n"
     ]
    },
    {
     "name": "stderr",
     "output_type": "stream",
     "text": [
      "100%|██████████| 25/25 [00:00<00:00, 48.00it/s]\n"
     ]
    },
    {
     "name": "stdout",
     "output_type": "stream",
     "text": [
      "spent time for epoch 306 is 0.5264692306518555s\n",
      "epoch # : 306 gamma : 0.5 gen loss : 0.9682314991950989\n"
     ]
    },
    {
     "name": "stderr",
     "output_type": "stream",
     "text": [
      " 16%|█▌        | 4/25 [00:00<00:00, 38.99it/s]"
     ]
    },
    {
     "name": "stdout",
     "output_type": "stream",
     "text": [
      "Total number of generated modes is  24\n",
      "The number of high quality samples among 2500 samples is 102\n",
      "The mode dictionary is Counter({1: 13, 16: 9, 7: 6, 8: 6, 15: 5, 3: 5, 22: 5, 6: 5, 21: 5, 18: 5, 2: 5, 10: 4, 20: 4, 4: 4, 11: 3, 13: 3, 0: 3, 5: 3, 9: 2, 24: 2, 17: 2, 19: 1, 23: 1, 14: 1})\n"
     ]
    },
    {
     "name": "stderr",
     "output_type": "stream",
     "text": [
      "100%|██████████| 25/25 [00:00<00:00, 47.59it/s]\n"
     ]
    },
    {
     "name": "stdout",
     "output_type": "stream",
     "text": [
      "spent time for epoch 307 is 0.5310885906219482s\n",
      "epoch # : 307 gamma : 0.5 gen loss : 1.0198415517807007\n"
     ]
    },
    {
     "name": "stderr",
     "output_type": "stream",
     "text": [
      " 20%|██        | 5/25 [00:00<00:00, 48.56it/s]"
     ]
    },
    {
     "name": "stdout",
     "output_type": "stream",
     "text": [
      "Total number of generated modes is  23\n",
      "The number of high quality samples among 2500 samples is 129\n",
      "The mode dictionary is Counter({21: 22, 7: 14, 16: 11, 3: 11, 20: 11, 8: 9, 0: 7, 1: 5, 14: 4, 19: 4, 6: 4, 11: 4, 2: 3, 13: 3, 5: 3, 15: 3, 22: 2, 23: 2, 4: 2, 17: 2, 12: 1, 9: 1, 24: 1})\n"
     ]
    },
    {
     "name": "stderr",
     "output_type": "stream",
     "text": [
      "100%|██████████| 25/25 [00:00<00:00, 48.42it/s]\n"
     ]
    },
    {
     "name": "stdout",
     "output_type": "stream",
     "text": [
      "spent time for epoch 308 is 0.5220551490783691s\n",
      "epoch # : 308 gamma : 0.5 gen loss : 0.9469438195228577\n"
     ]
    },
    {
     "name": "stderr",
     "output_type": "stream",
     "text": [
      " 16%|█▌        | 4/25 [00:00<00:00, 39.36it/s]"
     ]
    },
    {
     "name": "stdout",
     "output_type": "stream",
     "text": [
      "Total number of generated modes is  25\n",
      "The number of high quality samples among 2500 samples is 137\n",
      "The mode dictionary is Counter({23: 16, 21: 14, 5: 12, 6: 10, 20: 10, 15: 8, 22: 6, 16: 6, 7: 6, 8: 5, 9: 5, 17: 5, 19: 4, 24: 4, 18: 4, 3: 3, 11: 3, 13: 3, 4: 3, 14: 2, 0: 2, 10: 2, 2: 2, 12: 1, 1: 1})\n"
     ]
    },
    {
     "name": "stderr",
     "output_type": "stream",
     "text": [
      "100%|██████████| 25/25 [00:00<00:00, 47.52it/s]\n"
     ]
    },
    {
     "name": "stdout",
     "output_type": "stream",
     "text": [
      "spent time for epoch 309 is 0.5318820476531982s\n",
      "epoch # : 309 gamma : 0.5 gen loss : 1.0292659997940063\n"
     ]
    },
    {
     "name": "stderr",
     "output_type": "stream",
     "text": [
      " 20%|██        | 5/25 [00:00<00:00, 47.92it/s]"
     ]
    },
    {
     "name": "stdout",
     "output_type": "stream",
     "text": [
      "Total number of generated modes is  25\n",
      "The number of high quality samples among 2500 samples is 145\n",
      "The mode dictionary is Counter({0: 22, 5: 16, 2: 14, 3: 13, 16: 9, 4: 8, 13: 8, 1: 7, 10: 7, 6: 5, 11: 4, 21: 3, 12: 3, 14: 3, 17: 3, 7: 3, 24: 3, 18: 3, 8: 3, 15: 2, 20: 2, 19: 1, 9: 1, 22: 1, 23: 1})\n"
     ]
    },
    {
     "name": "stderr",
     "output_type": "stream",
     "text": [
      "100%|██████████| 25/25 [00:00<00:00, 47.93it/s]\n"
     ]
    },
    {
     "name": "stdout",
     "output_type": "stream",
     "text": [
      "spent time for epoch 310 is 0.5272750854492188s\n",
      "epoch # : 310 gamma : 0.5 gen loss : 1.0497150421142578\n"
     ]
    },
    {
     "name": "stderr",
     "output_type": "stream",
     "text": [
      " 20%|██        | 5/25 [00:00<00:00, 48.45it/s]"
     ]
    },
    {
     "name": "stdout",
     "output_type": "stream",
     "text": [
      "Total number of generated modes is  24\n",
      "The number of high quality samples among 2500 samples is 121\n",
      "The mode dictionary is Counter({7: 17, 5: 15, 10: 13, 0: 7, 8: 7, 6: 6, 3: 6, 18: 5, 15: 5, 20: 5, 12: 5, 4: 4, 16: 4, 21: 3, 2: 3, 11: 3, 22: 3, 23: 2, 24: 2, 9: 2, 1: 1, 14: 1, 19: 1, 13: 1})\n"
     ]
    },
    {
     "name": "stderr",
     "output_type": "stream",
     "text": [
      "100%|██████████| 25/25 [00:00<00:00, 48.12it/s]\n"
     ]
    },
    {
     "name": "stdout",
     "output_type": "stream",
     "text": [
      "spent time for epoch 311 is 0.5254676342010498s\n",
      "epoch # : 311 gamma : 0.5 gen loss : 1.021194577217102\n"
     ]
    },
    {
     "name": "stderr",
     "output_type": "stream",
     "text": [
      " 20%|██        | 5/25 [00:00<00:00, 48.32it/s]"
     ]
    },
    {
     "name": "stdout",
     "output_type": "stream",
     "text": [
      "Total number of generated modes is  24\n",
      "The number of high quality samples among 2500 samples is 144\n",
      "The mode dictionary is Counter({0: 21, 1: 14, 3: 11, 7: 9, 6: 9, 11: 8, 21: 8, 16: 8, 2: 7, 22: 7, 19: 7, 4: 6, 13: 4, 9: 4, 14: 4, 17: 3, 18: 3, 20: 2, 12: 2, 5: 2, 8: 2, 10: 1, 24: 1, 15: 1})\n"
     ]
    },
    {
     "name": "stderr",
     "output_type": "stream",
     "text": [
      "100%|██████████| 25/25 [00:00<00:00, 46.86it/s]\n"
     ]
    },
    {
     "name": "stdout",
     "output_type": "stream",
     "text": [
      "spent time for epoch 312 is 0.5394096374511719s\n",
      "epoch # : 312 gamma : 0.5 gen loss : 1.0129655599594116\n"
     ]
    },
    {
     "name": "stderr",
     "output_type": "stream",
     "text": [
      " 20%|██        | 5/25 [00:00<00:00, 48.72it/s]"
     ]
    },
    {
     "name": "stdout",
     "output_type": "stream",
     "text": [
      "Total number of generated modes is  23\n",
      "The number of high quality samples among 2500 samples is 99\n",
      "The mode dictionary is Counter({16: 12, 7: 12, 15: 9, 10: 7, 8: 6, 11: 5, 13: 5, 20: 5, 6: 5, 21: 5, 12: 4, 5: 3, 9: 3, 24: 3, 23: 3, 18: 3, 14: 2, 22: 2, 17: 1, 1: 1, 19: 1, 0: 1, 3: 1})\n"
     ]
    },
    {
     "name": "stderr",
     "output_type": "stream",
     "text": [
      "100%|██████████| 25/25 [00:00<00:00, 47.70it/s]\n"
     ]
    },
    {
     "name": "stdout",
     "output_type": "stream",
     "text": [
      "spent time for epoch 313 is 0.5295381546020508s\n",
      "epoch # : 313 gamma : 0.5 gen loss : 0.9661561250686646\n"
     ]
    },
    {
     "name": "stderr",
     "output_type": "stream",
     "text": [
      " 20%|██        | 5/25 [00:00<00:00, 48.59it/s]"
     ]
    },
    {
     "name": "stdout",
     "output_type": "stream",
     "text": [
      "Total number of generated modes is  25\n",
      "The number of high quality samples among 2500 samples is 175\n",
      "The mode dictionary is Counter({10: 23, 7: 20, 0: 18, 2: 14, 16: 14, 1: 12, 3: 11, 6: 10, 8: 8, 15: 7, 4: 6, 21: 5, 11: 4, 20: 4, 22: 3, 5: 3, 17: 2, 12: 2, 13: 2, 14: 2, 9: 1, 19: 1, 24: 1, 18: 1, 23: 1})\n"
     ]
    },
    {
     "name": "stderr",
     "output_type": "stream",
     "text": [
      "100%|██████████| 25/25 [00:00<00:00, 48.51it/s]\n"
     ]
    },
    {
     "name": "stdout",
     "output_type": "stream",
     "text": [
      "spent time for epoch 314 is 0.5212082862854004s\n",
      "epoch # : 314 gamma : 0.5 gen loss : 0.9929741621017456\n"
     ]
    },
    {
     "name": "stderr",
     "output_type": "stream",
     "text": [
      " 20%|██        | 5/25 [00:00<00:00, 49.00it/s]"
     ]
    },
    {
     "name": "stdout",
     "output_type": "stream",
     "text": [
      "Total number of generated modes is  23\n",
      "The number of high quality samples among 2500 samples is 103\n",
      "The mode dictionary is Counter({6: 12, 0: 8, 16: 8, 8: 7, 13: 7, 10: 7, 5: 7, 7: 5, 23: 4, 11: 4, 15: 4, 22: 4, 2: 4, 4: 3, 3: 3, 12: 3, 24: 3, 21: 2, 17: 2, 18: 2, 9: 2, 14: 1, 19: 1})\n"
     ]
    },
    {
     "name": "stderr",
     "output_type": "stream",
     "text": [
      "100%|██████████| 25/25 [00:00<00:00, 48.96it/s]\n"
     ]
    },
    {
     "name": "stdout",
     "output_type": "stream",
     "text": [
      "spent time for epoch 315 is 0.5166172981262207s\n",
      "epoch # : 315 gamma : 0.5 gen loss : 0.9974765777587891\n"
     ]
    },
    {
     "name": "stderr",
     "output_type": "stream",
     "text": [
      "  4%|▍         | 1/25 [00:00<00:03,  7.30it/s]"
     ]
    },
    {
     "name": "stdout",
     "output_type": "stream",
     "text": [
      "Total number of generated modes is  24\n",
      "The number of high quality samples among 2500 samples is 123\n",
      "The mode dictionary is Counter({4: 14, 7: 14, 5: 13, 0: 11, 3: 9, 8: 9, 1: 8, 21: 8, 6: 5, 16: 4, 18: 4, 13: 3, 9: 3, 22: 3, 2: 3, 11: 2, 23: 2, 19: 2, 15: 1, 24: 1, 10: 1, 12: 1, 17: 1, 14: 1})\n"
     ]
    },
    {
     "name": "stderr",
     "output_type": "stream",
     "text": [
      "100%|██████████| 25/25 [00:00<00:00, 43.10it/s]\n"
     ]
    },
    {
     "name": "stdout",
     "output_type": "stream",
     "text": [
      "spent time for epoch 316 is 0.5855593681335449s\n",
      "epoch # : 316 gamma : 0.5 gen loss : 1.017959475517273\n"
     ]
    },
    {
     "name": "stderr",
     "output_type": "stream",
     "text": [
      " 16%|█▌        | 4/25 [00:00<00:00, 39.45it/s]"
     ]
    },
    {
     "name": "stdout",
     "output_type": "stream",
     "text": [
      "Total number of generated modes is  23\n",
      "The number of high quality samples among 2500 samples is 94\n",
      "The mode dictionary is Counter({6: 11, 5: 9, 15: 7, 7: 6, 22: 6, 21: 6, 24: 5, 8: 5, 12: 5, 14: 4, 10: 4, 9: 4, 13: 3, 18: 3, 16: 3, 4: 3, 0: 2, 11: 2, 23: 2, 3: 1, 1: 1, 19: 1, 17: 1})\n"
     ]
    },
    {
     "name": "stderr",
     "output_type": "stream",
     "text": [
      "100%|██████████| 25/25 [00:00<00:00, 47.11it/s]\n"
     ]
    },
    {
     "name": "stdout",
     "output_type": "stream",
     "text": [
      "spent time for epoch 317 is 0.5366547107696533s\n",
      "epoch # : 317 gamma : 0.5 gen loss : 1.0066890716552734\n"
     ]
    },
    {
     "name": "stderr",
     "output_type": "stream",
     "text": [
      " 20%|██        | 5/25 [00:00<00:00, 47.71it/s]"
     ]
    },
    {
     "name": "stdout",
     "output_type": "stream",
     "text": [
      "Total number of generated modes is  24\n",
      "The number of high quality samples among 2500 samples is 128\n",
      "The mode dictionary is Counter({0: 16, 3: 14, 21: 12, 1: 11, 10: 10, 7: 8, 11: 7, 2: 6, 5: 6, 8: 5, 16: 5, 13: 4, 22: 4, 6: 3, 20: 3, 19: 2, 12: 2, 15: 2, 4: 2, 18: 2, 24: 1, 17: 1, 14: 1, 9: 1})\n"
     ]
    },
    {
     "name": "stderr",
     "output_type": "stream",
     "text": [
      "100%|██████████| 25/25 [00:00<00:00, 47.97it/s]\n"
     ]
    },
    {
     "name": "stdout",
     "output_type": "stream",
     "text": [
      "spent time for epoch 318 is 0.5269372463226318s\n",
      "epoch # : 318 gamma : 0.5 gen loss : 1.0163180828094482\n"
     ]
    },
    {
     "name": "stderr",
     "output_type": "stream",
     "text": [
      " 20%|██        | 5/25 [00:00<00:00, 48.18it/s]"
     ]
    },
    {
     "name": "stdout",
     "output_type": "stream",
     "text": [
      "Total number of generated modes is  23\n",
      "The number of high quality samples among 2500 samples is 114\n",
      "The mode dictionary is Counter({3: 14, 6: 14, 4: 12, 16: 10, 2: 9, 11: 6, 8: 6, 7: 4, 23: 4, 17: 4, 22: 3, 21: 3, 18: 3, 12: 3, 0: 3, 10: 3, 14: 2, 19: 2, 13: 2, 15: 2, 20: 2, 24: 2, 1: 1})\n"
     ]
    },
    {
     "name": "stderr",
     "output_type": "stream",
     "text": [
      "100%|██████████| 25/25 [00:00<00:00, 47.79it/s]\n"
     ]
    },
    {
     "name": "stdout",
     "output_type": "stream",
     "text": [
      "spent time for epoch 319 is 0.5289933681488037s\n",
      "epoch # : 319 gamma : 0.5 gen loss : 1.0329633951187134\n"
     ]
    },
    {
     "name": "stderr",
     "output_type": "stream",
     "text": [
      " 20%|██        | 5/25 [00:00<00:00, 49.08it/s]"
     ]
    },
    {
     "name": "stdout",
     "output_type": "stream",
     "text": [
      "Total number of generated modes is  24\n",
      "The number of high quality samples among 2500 samples is 141\n",
      "The mode dictionary is Counter({6: 14, 20: 13, 7: 13, 21: 10, 8: 10, 10: 10, 5: 8, 11: 7, 15: 7, 3: 6, 13: 5, 2: 4, 22: 4, 4: 4, 0: 4, 24: 4, 18: 3, 23: 3, 16: 3, 17: 2, 12: 2, 14: 2, 9: 2, 1: 1})\n"
     ]
    },
    {
     "name": "stderr",
     "output_type": "stream",
     "text": [
      "100%|██████████| 25/25 [00:00<00:00, 48.33it/s]\n"
     ]
    },
    {
     "name": "stdout",
     "output_type": "stream",
     "text": [
      "spent time for epoch 320 is 0.5229125022888184s\n",
      "epoch # : 320 gamma : 0.5 gen loss : 1.0208848714828491\n"
     ]
    },
    {
     "name": "stderr",
     "output_type": "stream",
     "text": [
      " 20%|██        | 5/25 [00:00<00:00, 47.92it/s]"
     ]
    },
    {
     "name": "stdout",
     "output_type": "stream",
     "text": [
      "Total number of generated modes is  24\n",
      "The number of high quality samples among 2500 samples is 127\n",
      "The mode dictionary is Counter({21: 19, 16: 13, 8: 12, 7: 10, 5: 10, 6: 9, 24: 9, 20: 8, 15: 6, 3: 5, 22: 4, 13: 3, 14: 3, 12: 3, 11: 2, 18: 2, 23: 2, 19: 1, 2: 1, 10: 1, 0: 1, 17: 1, 4: 1, 1: 1})\n"
     ]
    },
    {
     "name": "stderr",
     "output_type": "stream",
     "text": [
      "100%|██████████| 25/25 [00:00<00:00, 48.32it/s]\n"
     ]
    },
    {
     "name": "stdout",
     "output_type": "stream",
     "text": [
      "spent time for epoch 321 is 0.5233209133148193s\n",
      "epoch # : 321 gamma : 0.5 gen loss : 1.0459187030792236\n"
     ]
    },
    {
     "name": "stderr",
     "output_type": "stream",
     "text": [
      " 20%|██        | 5/25 [00:00<00:00, 49.31it/s]"
     ]
    },
    {
     "name": "stdout",
     "output_type": "stream",
     "text": [
      "Total number of generated modes is  23\n",
      "The number of high quality samples among 2500 samples is 137\n",
      "The mode dictionary is Counter({0: 16, 3: 14, 10: 12, 16: 10, 7: 9, 21: 9, 2: 8, 14: 7, 9: 7, 19: 6, 6: 6, 1: 6, 8: 5, 17: 5, 4: 4, 22: 4, 12: 2, 24: 2, 23: 1, 20: 1, 18: 1, 5: 1, 13: 1})\n"
     ]
    },
    {
     "name": "stderr",
     "output_type": "stream",
     "text": [
      "100%|██████████| 25/25 [00:00<00:00, 48.65it/s]\n"
     ]
    },
    {
     "name": "stdout",
     "output_type": "stream",
     "text": [
      "spent time for epoch 322 is 0.5195918083190918s\n",
      "epoch # : 322 gamma : 0.5 gen loss : 1.0116958618164062\n"
     ]
    },
    {
     "name": "stderr",
     "output_type": "stream",
     "text": [
      " 20%|██        | 5/25 [00:00<00:00, 48.43it/s]"
     ]
    },
    {
     "name": "stdout",
     "output_type": "stream",
     "text": [
      "Total number of generated modes is  24\n",
      "The number of high quality samples among 2500 samples is 158\n",
      "The mode dictionary is Counter({20: 17, 21: 12, 4: 10, 19: 10, 16: 10, 22: 9, 8: 9, 2: 8, 9: 7, 5: 7, 3: 7, 0: 7, 6: 7, 7: 7, 14: 6, 1: 5, 23: 4, 17: 3, 11: 3, 12: 3, 24: 2, 10: 2, 15: 2, 13: 1})\n"
     ]
    },
    {
     "name": "stderr",
     "output_type": "stream",
     "text": [
      "100%|██████████| 25/25 [00:00<00:00, 48.56it/s]\n"
     ]
    },
    {
     "name": "stdout",
     "output_type": "stream",
     "text": [
      "spent time for epoch 323 is 0.5204617977142334s\n",
      "epoch # : 323 gamma : 0.5 gen loss : 1.0445913076400757\n"
     ]
    },
    {
     "name": "stderr",
     "output_type": "stream",
     "text": [
      " 20%|██        | 5/25 [00:00<00:00, 47.90it/s]"
     ]
    },
    {
     "name": "stdout",
     "output_type": "stream",
     "text": [
      "Total number of generated modes is  24\n",
      "The number of high quality samples among 2500 samples is 153\n",
      "The mode dictionary is Counter({20: 14, 5: 13, 6: 13, 21: 12, 16: 10, 15: 9, 13: 8, 17: 7, 7: 7, 4: 7, 3: 7, 22: 6, 1: 5, 11: 4, 12: 4, 18: 4, 8: 4, 24: 4, 2: 3, 23: 3, 0: 3, 9: 3, 10: 2, 19: 1})\n"
     ]
    },
    {
     "name": "stderr",
     "output_type": "stream",
     "text": [
      "100%|██████████| 25/25 [00:00<00:00, 47.89it/s]\n"
     ]
    },
    {
     "name": "stdout",
     "output_type": "stream",
     "text": [
      "spent time for epoch 324 is 0.5278909206390381s\n",
      "epoch # : 324 gamma : 0.5 gen loss : 0.9737273454666138\n"
     ]
    },
    {
     "name": "stderr",
     "output_type": "stream",
     "text": [
      " 20%|██        | 5/25 [00:00<00:00, 48.30it/s]"
     ]
    },
    {
     "name": "stdout",
     "output_type": "stream",
     "text": [
      "Total number of generated modes is  23\n",
      "The number of high quality samples among 2500 samples is 115\n",
      "The mode dictionary is Counter({5: 28, 16: 10, 9: 9, 7: 7, 14: 7, 22: 5, 8: 5, 10: 5, 17: 5, 21: 4, 11: 4, 6: 4, 18: 3, 4: 3, 24: 2, 15: 2, 12: 2, 13: 2, 3: 2, 2: 2, 1: 2, 0: 1, 19: 1})\n"
     ]
    },
    {
     "name": "stderr",
     "output_type": "stream",
     "text": [
      "100%|██████████| 25/25 [00:00<00:00, 48.52it/s]\n"
     ]
    },
    {
     "name": "stdout",
     "output_type": "stream",
     "text": [
      "spent time for epoch 325 is 0.5211341381072998s\n",
      "epoch # : 325 gamma : 0.5 gen loss : 1.0173674821853638\n"
     ]
    },
    {
     "name": "stderr",
     "output_type": "stream",
     "text": [
      " 20%|██        | 5/25 [00:00<00:00, 49.93it/s]"
     ]
    },
    {
     "name": "stdout",
     "output_type": "stream",
     "text": [
      "Total number of generated modes is  24\n",
      "The number of high quality samples among 2500 samples is 164\n",
      "The mode dictionary is Counter({0: 28, 10: 18, 5: 13, 1: 13, 6: 13, 8: 9, 16: 9, 15: 8, 7: 8, 21: 7, 11: 7, 12: 4, 13: 3, 9: 3, 18: 3, 4: 3, 17: 3, 2: 2, 20: 2, 19: 2, 14: 2, 24: 2, 22: 1, 3: 1})\n"
     ]
    },
    {
     "name": "stderr",
     "output_type": "stream",
     "text": [
      "100%|██████████| 25/25 [00:00<00:00, 49.34it/s]\n"
     ]
    },
    {
     "name": "stdout",
     "output_type": "stream",
     "text": [
      "spent time for epoch 326 is 0.51261305809021s\n",
      "epoch # : 326 gamma : 0.5 gen loss : 1.0092681646347046\n"
     ]
    },
    {
     "name": "stderr",
     "output_type": "stream",
     "text": [
      "  4%|▍         | 1/25 [00:00<00:03,  7.20it/s]"
     ]
    },
    {
     "name": "stdout",
     "output_type": "stream",
     "text": [
      "Total number of generated modes is  24\n",
      "The number of high quality samples among 2500 samples is 184\n",
      "The mode dictionary is Counter({22: 17, 20: 17, 4: 16, 6: 15, 13: 12, 5: 12, 7: 11, 1: 10, 3: 9, 2: 8, 21: 7, 16: 6, 23: 6, 17: 6, 8: 5, 0: 5, 18: 4, 15: 4, 11: 4, 9: 3, 12: 2, 14: 2, 10: 2, 24: 1})\n"
     ]
    },
    {
     "name": "stderr",
     "output_type": "stream",
     "text": [
      "100%|██████████| 25/25 [00:00<00:00, 43.04it/s]\n"
     ]
    },
    {
     "name": "stdout",
     "output_type": "stream",
     "text": [
      "spent time for epoch 327 is 0.5864555835723877s\n",
      "epoch # : 327 gamma : 0.5 gen loss : 1.0035808086395264\n"
     ]
    },
    {
     "name": "stderr",
     "output_type": "stream",
     "text": [
      " 20%|██        | 5/25 [00:00<00:00, 48.56it/s]"
     ]
    },
    {
     "name": "stdout",
     "output_type": "stream",
     "text": [
      "Total number of generated modes is  25\n",
      "The number of high quality samples among 2500 samples is 115\n",
      "The mode dictionary is Counter({5: 16, 16: 11, 21: 9, 11: 9, 6: 8, 9: 7, 4: 5, 2: 5, 19: 4, 7: 4, 13: 4, 14: 4, 3: 4, 10: 4, 1: 3, 12: 3, 15: 3, 8: 3, 17: 2, 0: 2, 23: 1, 22: 1, 24: 1, 18: 1, 20: 1})\n"
     ]
    },
    {
     "name": "stderr",
     "output_type": "stream",
     "text": [
      "100%|██████████| 25/25 [00:00<00:00, 47.61it/s]\n"
     ]
    },
    {
     "name": "stdout",
     "output_type": "stream",
     "text": [
      "spent time for epoch 328 is 0.5310595035552979s\n",
      "epoch # : 328 gamma : 0.5 gen loss : 1.0026977062225342\n"
     ]
    },
    {
     "name": "stderr",
     "output_type": "stream",
     "text": [
      " 20%|██        | 5/25 [00:00<00:00, 47.82it/s]"
     ]
    },
    {
     "name": "stdout",
     "output_type": "stream",
     "text": [
      "Total number of generated modes is  23\n",
      "The number of high quality samples among 2500 samples is 136\n",
      "The mode dictionary is Counter({7: 22, 20: 17, 15: 13, 21: 13, 5: 10, 11: 6, 6: 6, 9: 6, 0: 5, 8: 5, 12: 4, 4: 4, 1: 3, 16: 3, 18: 3, 3: 3, 14: 3, 22: 2, 2: 2, 17: 2, 19: 2, 13: 1, 10: 1})\n"
     ]
    },
    {
     "name": "stderr",
     "output_type": "stream",
     "text": [
      "100%|██████████| 25/25 [00:00<00:00, 47.63it/s]\n"
     ]
    },
    {
     "name": "stdout",
     "output_type": "stream",
     "text": [
      "spent time for epoch 329 is 0.530695915222168s\n",
      "epoch # : 329 gamma : 0.5 gen loss : 0.9878649711608887\n"
     ]
    },
    {
     "name": "stderr",
     "output_type": "stream",
     "text": [
      " 20%|██        | 5/25 [00:00<00:00, 48.41it/s]"
     ]
    },
    {
     "name": "stdout",
     "output_type": "stream",
     "text": [
      "Total number of generated modes is  24\n",
      "The number of high quality samples among 2500 samples is 139\n",
      "The mode dictionary is Counter({15: 16, 20: 12, 11: 10, 5: 10, 16: 9, 6: 8, 18: 8, 4: 7, 21: 7, 17: 7, 9: 6, 7: 6, 14: 5, 10: 5, 19: 4, 0: 4, 3: 3, 8: 2, 2: 2, 12: 2, 23: 2, 22: 2, 13: 1, 1: 1})\n"
     ]
    },
    {
     "name": "stderr",
     "output_type": "stream",
     "text": [
      "100%|██████████| 25/25 [00:00<00:00, 48.43it/s]\n"
     ]
    },
    {
     "name": "stdout",
     "output_type": "stream",
     "text": [
      "spent time for epoch 330 is 0.5219440460205078s\n",
      "epoch # : 330 gamma : 0.5 gen loss : 1.02444589138031\n"
     ]
    },
    {
     "name": "stderr",
     "output_type": "stream",
     "text": [
      " 20%|██        | 5/25 [00:00<00:00, 48.71it/s]"
     ]
    },
    {
     "name": "stdout",
     "output_type": "stream",
     "text": [
      "Total number of generated modes is  22\n",
      "The number of high quality samples among 2500 samples is 138\n",
      "The mode dictionary is Counter({5: 23, 0: 18, 16: 14, 6: 13, 21: 13, 11: 8, 15: 7, 23: 6, 8: 5, 24: 5, 22: 4, 7: 4, 3: 3, 20: 3, 12: 2, 9: 2, 18: 2, 2: 2, 19: 1, 14: 1, 1: 1, 13: 1})\n"
     ]
    },
    {
     "name": "stderr",
     "output_type": "stream",
     "text": [
      "100%|██████████| 25/25 [00:00<00:00, 48.66it/s]\n"
     ]
    },
    {
     "name": "stdout",
     "output_type": "stream",
     "text": [
      "spent time for epoch 331 is 0.5195515155792236s\n",
      "epoch # : 331 gamma : 0.5 gen loss : 1.0132559537887573\n"
     ]
    },
    {
     "name": "stderr",
     "output_type": "stream",
     "text": [
      " 20%|██        | 5/25 [00:00<00:00, 48.90it/s]"
     ]
    },
    {
     "name": "stdout",
     "output_type": "stream",
     "text": [
      "Total number of generated modes is  25\n",
      "The number of high quality samples among 2500 samples is 149\n",
      "The mode dictionary is Counter({15: 17, 6: 14, 22: 10, 21: 10, 20: 10, 11: 10, 3: 7, 12: 7, 16: 7, 7: 6, 18: 5, 24: 5, 9: 5, 2: 5, 4: 4, 10: 4, 17: 4, 8: 3, 14: 3, 13: 3, 5: 3, 23: 2, 0: 2, 19: 2, 1: 1})\n"
     ]
    },
    {
     "name": "stderr",
     "output_type": "stream",
     "text": [
      "100%|██████████| 25/25 [00:00<00:00, 48.58it/s]\n"
     ]
    },
    {
     "name": "stdout",
     "output_type": "stream",
     "text": [
      "spent time for epoch 332 is 0.5203156471252441s\n",
      "epoch # : 332 gamma : 0.5 gen loss : 0.9794145822525024\n"
     ]
    },
    {
     "name": "stderr",
     "output_type": "stream",
     "text": [
      " 20%|██        | 5/25 [00:00<00:00, 48.53it/s]"
     ]
    },
    {
     "name": "stdout",
     "output_type": "stream",
     "text": [
      "Total number of generated modes is  25\n",
      "The number of high quality samples among 2500 samples is 154\n",
      "The mode dictionary is Counter({4: 20, 7: 11, 19: 11, 1: 10, 16: 9, 0: 9, 2: 8, 11: 8, 5: 8, 6: 8, 21: 7, 8: 6, 14: 6, 3: 6, 9: 5, 17: 5, 13: 4, 20: 2, 15: 2, 24: 2, 18: 2, 12: 2, 10: 1, 23: 1, 22: 1})\n"
     ]
    },
    {
     "name": "stderr",
     "output_type": "stream",
     "text": [
      "100%|██████████| 25/25 [00:00<00:00, 49.36it/s]\n"
     ]
    },
    {
     "name": "stdout",
     "output_type": "stream",
     "text": [
      "spent time for epoch 333 is 0.5145227909088135s\n",
      "epoch # : 333 gamma : 0.5 gen loss : 0.9909537434577942\n"
     ]
    },
    {
     "name": "stderr",
     "output_type": "stream",
     "text": [
      " 24%|██▍       | 6/25 [00:00<00:00, 34.48it/s]"
     ]
    },
    {
     "name": "stdout",
     "output_type": "stream",
     "text": [
      "Total number of generated modes is  23\n",
      "The number of high quality samples among 2500 samples is 146\n",
      "The mode dictionary is Counter({0: 17, 21: 17, 20: 15, 7: 12, 23: 10, 10: 10, 8: 9, 16: 8, 5: 7, 15: 7, 11: 4, 6: 4, 17: 4, 24: 3, 13: 3, 14: 3, 1: 3, 4: 3, 22: 2, 18: 2, 19: 1, 3: 1, 9: 1})\n"
     ]
    },
    {
     "name": "stderr",
     "output_type": "stream",
     "text": [
      "100%|██████████| 25/25 [00:00<00:00, 49.60it/s]\n"
     ]
    },
    {
     "name": "stdout",
     "output_type": "stream",
     "text": [
      "spent time for epoch 334 is 0.5098280906677246s\n",
      "epoch # : 334 gamma : 0.5 gen loss : 0.9806007742881775\n"
     ]
    },
    {
     "name": "stderr",
     "output_type": "stream",
     "text": [
      " 20%|██        | 5/25 [00:00<00:00, 49.46it/s]"
     ]
    },
    {
     "name": "stdout",
     "output_type": "stream",
     "text": [
      "Total number of generated modes is  18\n",
      "The number of high quality samples among 2500 samples is 109\n",
      "The mode dictionary is Counter({23: 17, 8: 14, 6: 12, 21: 8, 7: 8, 5: 8, 2: 7, 13: 7, 1: 6, 18: 4, 3: 4, 20: 3, 19: 3, 11: 2, 4: 2, 12: 2, 17: 1, 16: 1})\n"
     ]
    },
    {
     "name": "stderr",
     "output_type": "stream",
     "text": [
      "100%|██████████| 25/25 [00:00<00:00, 48.74it/s]\n"
     ]
    },
    {
     "name": "stdout",
     "output_type": "stream",
     "text": [
      "spent time for epoch 335 is 0.518634557723999s\n",
      "epoch # : 335 gamma : 0.5 gen loss : 0.999399721622467\n"
     ]
    },
    {
     "name": "stderr",
     "output_type": "stream",
     "text": [
      " 24%|██▍       | 6/25 [00:00<00:00, 34.35it/s]"
     ]
    },
    {
     "name": "stdout",
     "output_type": "stream",
     "text": [
      "Total number of generated modes is  24\n",
      "The number of high quality samples among 2500 samples is 118\n",
      "The mode dictionary is Counter({7: 15, 6: 11, 2: 10, 16: 9, 10: 9, 0: 8, 21: 8, 8: 7, 19: 5, 18: 5, 22: 5, 9: 3, 17: 3, 3: 3, 20: 3, 1: 2, 5: 2, 4: 2, 12: 2, 24: 2, 13: 1, 15: 1, 14: 1, 11: 1})\n"
     ]
    },
    {
     "name": "stderr",
     "output_type": "stream",
     "text": [
      "100%|██████████| 25/25 [00:00<00:00, 49.71it/s]\n"
     ]
    },
    {
     "name": "stdout",
     "output_type": "stream",
     "text": [
      "spent time for epoch 336 is 0.5089223384857178s\n",
      "epoch # : 336 gamma : 0.5 gen loss : 0.9922932386398315\n"
     ]
    },
    {
     "name": "stderr",
     "output_type": "stream",
     "text": [
      " 20%|██        | 5/25 [00:00<00:00, 49.30it/s]"
     ]
    },
    {
     "name": "stdout",
     "output_type": "stream",
     "text": [
      "Total number of generated modes is  22\n",
      "The number of high quality samples among 2500 samples is 116\n",
      "The mode dictionary is Counter({21: 26, 16: 12, 13: 10, 20: 9, 14: 8, 3: 7, 17: 4, 5: 4, 11: 4, 18: 4, 2: 4, 1: 3, 22: 3, 4: 3, 6: 3, 9: 2, 12: 2, 24: 2, 7: 2, 23: 2, 0: 1, 19: 1})\n"
     ]
    },
    {
     "name": "stderr",
     "output_type": "stream",
     "text": [
      "100%|██████████| 25/25 [00:00<00:00, 49.08it/s]\n"
     ]
    },
    {
     "name": "stdout",
     "output_type": "stream",
     "text": [
      "spent time for epoch 337 is 0.5153589248657227s\n",
      "epoch # : 337 gamma : 0.5 gen loss : 0.9997973442077637\n"
     ]
    },
    {
     "name": "stderr",
     "output_type": "stream",
     "text": [
      "  4%|▍         | 1/25 [00:00<00:03,  7.60it/s]"
     ]
    },
    {
     "name": "stdout",
     "output_type": "stream",
     "text": [
      "Total number of generated modes is  19\n",
      "The number of high quality samples among 2500 samples is 109\n",
      "The mode dictionary is Counter({21: 20, 16: 19, 23: 12, 7: 10, 6: 8, 5: 6, 11: 5, 12: 4, 22: 3, 13: 3, 1: 3, 14: 3, 18: 3, 24: 2, 3: 2, 0: 2, 20: 2, 9: 1, 17: 1})\n"
     ]
    },
    {
     "name": "stderr",
     "output_type": "stream",
     "text": [
      "100%|██████████| 25/25 [00:00<00:00, 43.99it/s]\n"
     ]
    },
    {
     "name": "stdout",
     "output_type": "stream",
     "text": [
      "spent time for epoch 338 is 0.5740876197814941s\n",
      "epoch # : 338 gamma : 0.5 gen loss : 0.9653974771499634\n"
     ]
    },
    {
     "name": "stderr",
     "output_type": "stream",
     "text": [
      " 20%|██        | 5/25 [00:00<00:00, 47.20it/s]"
     ]
    },
    {
     "name": "stdout",
     "output_type": "stream",
     "text": [
      "Total number of generated modes is  23\n",
      "The number of high quality samples among 2500 samples is 153\n",
      "The mode dictionary is Counter({5: 26, 11: 13, 6: 13, 0: 11, 1: 10, 2: 10, 10: 10, 15: 8, 20: 7, 16: 7, 3: 6, 13: 6, 12: 5, 22: 4, 4: 4, 19: 2, 17: 2, 7: 2, 8: 2, 9: 2, 21: 1, 24: 1, 23: 1})\n"
     ]
    },
    {
     "name": "stderr",
     "output_type": "stream",
     "text": [
      "100%|██████████| 25/25 [00:00<00:00, 47.32it/s]\n"
     ]
    },
    {
     "name": "stdout",
     "output_type": "stream",
     "text": [
      "spent time for epoch 339 is 0.5339102745056152s\n",
      "epoch # : 339 gamma : 0.5 gen loss : 1.0283796787261963\n"
     ]
    },
    {
     "name": "stderr",
     "output_type": "stream",
     "text": [
      " 20%|██        | 5/25 [00:00<00:00, 49.48it/s]"
     ]
    },
    {
     "name": "stdout",
     "output_type": "stream",
     "text": [
      "Total number of generated modes is  24\n",
      "The number of high quality samples among 2500 samples is 132\n",
      "The mode dictionary is Counter({7: 15, 10: 15, 6: 11, 15: 10, 20: 10, 21: 10, 16: 9, 5: 7, 8: 6, 4: 5, 13: 5, 22: 5, 0: 3, 14: 3, 11: 3, 12: 3, 24: 3, 19: 2, 18: 2, 9: 1, 2: 1, 1: 1, 17: 1, 3: 1})\n"
     ]
    },
    {
     "name": "stderr",
     "output_type": "stream",
     "text": [
      "100%|██████████| 25/25 [00:00<00:00, 48.15it/s]\n"
     ]
    },
    {
     "name": "stdout",
     "output_type": "stream",
     "text": [
      "spent time for epoch 340 is 0.52516770362854s\n",
      "epoch # : 340 gamma : 0.5 gen loss : 1.0122153759002686\n"
     ]
    },
    {
     "name": "stderr",
     "output_type": "stream",
     "text": [
      " 20%|██        | 5/25 [00:00<00:00, 49.15it/s]"
     ]
    },
    {
     "name": "stdout",
     "output_type": "stream",
     "text": [
      "Total number of generated modes is  25\n",
      "The number of high quality samples among 2500 samples is 147\n",
      "The mode dictionary is Counter({7: 28, 6: 11, 0: 9, 4: 8, 15: 8, 24: 7, 5: 7, 2: 7, 3: 7, 8: 6, 16: 6, 1: 5, 20: 4, 22: 4, 11: 4, 19: 4, 13: 4, 17: 3, 23: 3, 10: 3, 18: 2, 21: 2, 12: 2, 14: 2, 9: 1})\n"
     ]
    },
    {
     "name": "stderr",
     "output_type": "stream",
     "text": [
      "100%|██████████| 25/25 [00:00<00:00, 47.59it/s]\n"
     ]
    },
    {
     "name": "stdout",
     "output_type": "stream",
     "text": [
      "spent time for epoch 341 is 0.5313320159912109s\n",
      "epoch # : 341 gamma : 0.5 gen loss : 0.9609209895133972\n"
     ]
    },
    {
     "name": "stderr",
     "output_type": "stream",
     "text": [
      " 20%|██        | 5/25 [00:00<00:00, 48.18it/s]"
     ]
    },
    {
     "name": "stdout",
     "output_type": "stream",
     "text": [
      "Total number of generated modes is  18\n",
      "The number of high quality samples among 2500 samples is 94\n",
      "The mode dictionary is Counter({0: 17, 7: 13, 24: 12, 16: 7, 6: 7, 3: 6, 2: 5, 11: 4, 21: 4, 4: 3, 8: 3, 14: 3, 1: 3, 9: 2, 13: 2, 23: 1, 19: 1, 17: 1})\n"
     ]
    },
    {
     "name": "stderr",
     "output_type": "stream",
     "text": [
      "100%|██████████| 25/25 [00:00<00:00, 47.38it/s]\n"
     ]
    },
    {
     "name": "stdout",
     "output_type": "stream",
     "text": [
      "spent time for epoch 342 is 0.5334193706512451s\n",
      "epoch # : 342 gamma : 0.5 gen loss : 1.0023819208145142\n"
     ]
    },
    {
     "name": "stderr",
     "output_type": "stream",
     "text": [
      " 20%|██        | 5/25 [00:00<00:00, 48.37it/s]"
     ]
    },
    {
     "name": "stdout",
     "output_type": "stream",
     "text": [
      "Total number of generated modes is  23\n",
      "The number of high quality samples among 2500 samples is 233\n",
      "The mode dictionary is Counter({5: 39, 0: 31, 7: 18, 2: 14, 10: 12, 12: 11, 6: 11, 1: 11, 11: 10, 20: 9, 4: 9, 13: 9, 15: 9, 8: 8, 16: 7, 21: 7, 3: 6, 9: 3, 18: 3, 17: 2, 19: 2, 14: 1, 22: 1})\n"
     ]
    },
    {
     "name": "stderr",
     "output_type": "stream",
     "text": [
      "100%|██████████| 25/25 [00:00<00:00, 48.72it/s]\n"
     ]
    },
    {
     "name": "stdout",
     "output_type": "stream",
     "text": [
      "spent time for epoch 343 is 0.5185599327087402s\n",
      "epoch # : 343 gamma : 0.5 gen loss : 1.0150020122528076\n"
     ]
    },
    {
     "name": "stderr",
     "output_type": "stream",
     "text": [
      " 24%|██▍       | 6/25 [00:00<00:00, 33.92it/s]"
     ]
    },
    {
     "name": "stdout",
     "output_type": "stream",
     "text": [
      "Total number of generated modes is  19\n",
      "The number of high quality samples among 2500 samples is 153\n",
      "The mode dictionary is Counter({7: 20, 20: 20, 24: 14, 4: 11, 15: 11, 1: 9, 2: 9, 16: 9, 0: 8, 21: 7, 9: 7, 19: 5, 6: 4, 14: 4, 3: 4, 8: 4, 22: 3, 11: 2, 10: 2})\n"
     ]
    },
    {
     "name": "stderr",
     "output_type": "stream",
     "text": [
      "100%|██████████| 25/25 [00:00<00:00, 49.33it/s]\n"
     ]
    },
    {
     "name": "stdout",
     "output_type": "stream",
     "text": [
      "spent time for epoch 344 is 0.5127570629119873s\n",
      "epoch # : 344 gamma : 0.5 gen loss : 1.055935025215149\n"
     ]
    },
    {
     "name": "stderr",
     "output_type": "stream",
     "text": [
      " 20%|██        | 5/25 [00:00<00:00, 48.26it/s]"
     ]
    },
    {
     "name": "stdout",
     "output_type": "stream",
     "text": [
      "Total number of generated modes is  23\n",
      "The number of high quality samples among 2500 samples is 143\n",
      "The mode dictionary is Counter({5: 27, 21: 23, 20: 13, 16: 11, 7: 9, 10: 7, 6: 6, 22: 6, 15: 6, 24: 6, 13: 5, 17: 4, 23: 4, 8: 3, 11: 3, 18: 2, 4: 2, 9: 1, 3: 1, 19: 1, 12: 1, 14: 1, 0: 1})\n"
     ]
    },
    {
     "name": "stderr",
     "output_type": "stream",
     "text": [
      "100%|██████████| 25/25 [00:00<00:00, 48.53it/s]\n"
     ]
    },
    {
     "name": "stdout",
     "output_type": "stream",
     "text": [
      "spent time for epoch 345 is 0.5209784507751465s\n",
      "epoch # : 345 gamma : 0.5 gen loss : 1.03842294216156\n"
     ]
    },
    {
     "name": "stderr",
     "output_type": "stream",
     "text": [
      " 20%|██        | 5/25 [00:00<00:00, 47.52it/s]"
     ]
    },
    {
     "name": "stdout",
     "output_type": "stream",
     "text": [
      "Total number of generated modes is  23\n",
      "The number of high quality samples among 2500 samples is 133\n",
      "The mode dictionary is Counter({7: 14, 24: 13, 11: 10, 4: 9, 16: 8, 8: 8, 6: 8, 9: 6, 19: 6, 23: 6, 1: 5, 15: 5, 0: 5, 14: 4, 3: 4, 5: 4, 10: 4, 2: 4, 12: 3, 17: 3, 13: 2, 18: 1, 20: 1})\n"
     ]
    },
    {
     "name": "stderr",
     "output_type": "stream",
     "text": [
      "100%|██████████| 25/25 [00:00<00:00, 49.41it/s]\n"
     ]
    },
    {
     "name": "stdout",
     "output_type": "stream",
     "text": [
      "spent time for epoch 346 is 0.5117988586425781s\n",
      "epoch # : 346 gamma : 0.5 gen loss : 0.960983157157898\n"
     ]
    },
    {
     "name": "stderr",
     "output_type": "stream",
     "text": [
      " 16%|█▌        | 4/25 [00:00<00:00, 39.99it/s]"
     ]
    },
    {
     "name": "stdout",
     "output_type": "stream",
     "text": [
      "Total number of generated modes is  23\n",
      "The number of high quality samples among 2500 samples is 122\n",
      "The mode dictionary is Counter({5: 23, 21: 16, 16: 12, 9: 11, 7: 11, 6: 9, 18: 6, 8: 4, 10: 4, 15: 4, 14: 4, 24: 3, 23: 2, 11: 2, 1: 2, 3: 2, 13: 1, 17: 1, 2: 1, 12: 1, 4: 1, 20: 1, 22: 1})\n"
     ]
    },
    {
     "name": "stderr",
     "output_type": "stream",
     "text": [
      "100%|██████████| 25/25 [00:00<00:00, 48.09it/s]\n"
     ]
    },
    {
     "name": "stdout",
     "output_type": "stream",
     "text": [
      "spent time for epoch 347 is 0.5255124568939209s\n",
      "epoch # : 347 gamma : 0.5 gen loss : 0.9823037385940552\n"
     ]
    },
    {
     "name": "stderr",
     "output_type": "stream",
     "text": [
      " 20%|██        | 5/25 [00:00<00:00, 48.69it/s]"
     ]
    },
    {
     "name": "stdout",
     "output_type": "stream",
     "text": [
      "Total number of generated modes is  25\n",
      "The number of high quality samples among 2500 samples is 171\n",
      "The mode dictionary is Counter({0: 30, 5: 20, 7: 14, 6: 12, 2: 12, 16: 10, 8: 9, 3: 8, 19: 6, 14: 6, 21: 6, 1: 5, 20: 5, 22: 4, 11: 4, 13: 3, 12: 3, 23: 3, 4: 2, 10: 2, 9: 2, 15: 2, 24: 1, 18: 1, 17: 1})\n"
     ]
    },
    {
     "name": "stderr",
     "output_type": "stream",
     "text": [
      "100%|██████████| 25/25 [00:00<00:00, 48.72it/s]\n"
     ]
    },
    {
     "name": "stdout",
     "output_type": "stream",
     "text": [
      "spent time for epoch 348 is 0.5186269283294678s\n",
      "epoch # : 348 gamma : 0.5 gen loss : 1.0200947523117065\n"
     ]
    },
    {
     "name": "stderr",
     "output_type": "stream",
     "text": [
      "  4%|▍         | 1/25 [00:00<00:03,  7.46it/s]"
     ]
    },
    {
     "name": "stdout",
     "output_type": "stream",
     "text": [
      "Total number of generated modes is  25\n",
      "The number of high quality samples among 2500 samples is 154\n",
      "The mode dictionary is Counter({16: 15, 15: 14, 20: 12, 8: 12, 7: 10, 23: 7, 10: 7, 22: 7, 4: 6, 1: 6, 18: 6, 3: 5, 2: 5, 6: 5, 13: 5, 12: 5, 14: 4, 21: 4, 11: 4, 0: 3, 24: 3, 9: 3, 5: 2, 17: 2, 19: 2})\n"
     ]
    },
    {
     "name": "stderr",
     "output_type": "stream",
     "text": [
      "100%|██████████| 25/25 [00:00<00:00, 43.72it/s]\n"
     ]
    },
    {
     "name": "stdout",
     "output_type": "stream",
     "text": [
      "spent time for epoch 349 is 0.5775482654571533s\n",
      "epoch # : 349 gamma : 0.5 gen loss : 1.0410091876983643\n"
     ]
    },
    {
     "name": "stderr",
     "output_type": "stream",
     "text": [
      " 20%|██        | 5/25 [00:00<00:00, 48.30it/s]"
     ]
    },
    {
     "name": "stdout",
     "output_type": "stream",
     "text": [
      "Total number of generated modes is  21\n",
      "The number of high quality samples among 2500 samples is 127\n",
      "The mode dictionary is Counter({5: 26, 15: 13, 7: 11, 6: 10, 13: 9, 20: 8, 11: 8, 3: 6, 16: 6, 10: 5, 23: 4, 21: 4, 18: 4, 4: 3, 17: 2, 8: 2, 1: 2, 14: 1, 24: 1, 2: 1, 0: 1})\n"
     ]
    },
    {
     "name": "stderr",
     "output_type": "stream",
     "text": [
      "100%|██████████| 25/25 [00:00<00:00, 48.44it/s]\n"
     ]
    },
    {
     "name": "stdout",
     "output_type": "stream",
     "text": [
      "spent time for epoch 350 is 0.5219669342041016s\n",
      "epoch # : 350 gamma : 0.5 gen loss : 1.0236190557479858\n"
     ]
    },
    {
     "name": "stderr",
     "output_type": "stream",
     "text": [
      " 20%|██        | 5/25 [00:00<00:00, 49.38it/s]"
     ]
    },
    {
     "name": "stdout",
     "output_type": "stream",
     "text": [
      "Total number of generated modes is  23\n",
      "The number of high quality samples among 2500 samples is 115\n",
      "The mode dictionary is Counter({16: 13, 0: 10, 8: 9, 2: 9, 15: 9, 1: 8, 11: 7, 21: 5, 6: 5, 3: 5, 17: 5, 19: 4, 10: 4, 24: 4, 4: 3, 20: 3, 12: 2, 23: 2, 7: 2, 9: 2, 13: 2, 18: 1, 14: 1})\n"
     ]
    },
    {
     "name": "stderr",
     "output_type": "stream",
     "text": [
      "100%|██████████| 25/25 [00:00<00:00, 48.66it/s]\n"
     ]
    },
    {
     "name": "stdout",
     "output_type": "stream",
     "text": [
      "spent time for epoch 351 is 0.5194194316864014s\n",
      "epoch # : 351 gamma : 0.5 gen loss : 1.0102051496505737\n"
     ]
    },
    {
     "name": "stderr",
     "output_type": "stream",
     "text": [
      " 20%|██        | 5/25 [00:00<00:00, 47.86it/s]"
     ]
    },
    {
     "name": "stdout",
     "output_type": "stream",
     "text": [
      "Total number of generated modes is  22\n",
      "The number of high quality samples among 2500 samples is 129\n",
      "The mode dictionary is Counter({5: 15, 24: 15, 6: 11, 21: 9, 16: 8, 9: 8, 19: 8, 12: 7, 14: 7, 2: 6, 8: 5, 11: 5, 22: 5, 1: 4, 18: 3, 3: 3, 4: 3, 15: 2, 7: 2, 17: 1, 20: 1, 23: 1})\n"
     ]
    },
    {
     "name": "stderr",
     "output_type": "stream",
     "text": [
      "100%|██████████| 25/25 [00:00<00:00, 48.13it/s]\n"
     ]
    },
    {
     "name": "stdout",
     "output_type": "stream",
     "text": [
      "spent time for epoch 352 is 0.5252876281738281s\n",
      "epoch # : 352 gamma : 0.5 gen loss : 0.9901523590087891\n"
     ]
    },
    {
     "name": "stderr",
     "output_type": "stream",
     "text": [
      " 20%|██        | 5/25 [00:00<00:00, 48.24it/s]"
     ]
    },
    {
     "name": "stdout",
     "output_type": "stream",
     "text": [
      "Total number of generated modes is  25\n",
      "The number of high quality samples among 2500 samples is 190\n",
      "The mode dictionary is Counter({0: 35, 5: 27, 21: 20, 16: 15, 2: 11, 10: 10, 17: 8, 18: 8, 6: 7, 1: 7, 7: 7, 8: 5, 3: 5, 19: 4, 20: 3, 12: 3, 4: 3, 23: 2, 14: 2, 15: 2, 24: 2, 13: 1, 11: 1, 9: 1, 22: 1})\n"
     ]
    },
    {
     "name": "stderr",
     "output_type": "stream",
     "text": [
      "100%|██████████| 25/25 [00:00<00:00, 47.30it/s]\n"
     ]
    },
    {
     "name": "stdout",
     "output_type": "stream",
     "text": [
      "spent time for epoch 353 is 0.5356631278991699s\n",
      "epoch # : 353 gamma : 0.5 gen loss : 1.0576751232147217\n"
     ]
    },
    {
     "name": "stderr",
     "output_type": "stream",
     "text": [
      " 20%|██        | 5/25 [00:00<00:00, 49.08it/s]"
     ]
    },
    {
     "name": "stdout",
     "output_type": "stream",
     "text": [
      "Total number of generated modes is  22\n",
      "The number of high quality samples among 2500 samples is 130\n",
      "The mode dictionary is Counter({7: 13, 5: 11, 11: 10, 6: 9, 13: 9, 12: 8, 1: 8, 20: 8, 10: 7, 15: 7, 21: 6, 24: 5, 8: 4, 3: 4, 18: 4, 23: 3, 17: 3, 22: 3, 16: 2, 9: 2, 0: 2, 19: 2})\n"
     ]
    },
    {
     "name": "stderr",
     "output_type": "stream",
     "text": [
      "100%|██████████| 25/25 [00:00<00:00, 49.09it/s]\n"
     ]
    },
    {
     "name": "stdout",
     "output_type": "stream",
     "text": [
      "spent time for epoch 354 is 0.5148806571960449s\n",
      "epoch # : 354 gamma : 0.5 gen loss : 1.0024322271347046\n"
     ]
    },
    {
     "name": "stderr",
     "output_type": "stream",
     "text": [
      " 20%|██        | 5/25 [00:00<00:00, 49.60it/s]"
     ]
    },
    {
     "name": "stdout",
     "output_type": "stream",
     "text": [
      "Total number of generated modes is  24\n",
      "The number of high quality samples among 2500 samples is 136\n",
      "The mode dictionary is Counter({7: 14, 2: 12, 9: 10, 21: 10, 12: 9, 1: 9, 3: 8, 4: 8, 6: 7, 0: 6, 8: 6, 11: 5, 14: 4, 17: 4, 19: 4, 16: 4, 22: 4, 18: 3, 13: 3, 5: 2, 24: 1, 23: 1, 10: 1, 15: 1})\n"
     ]
    },
    {
     "name": "stderr",
     "output_type": "stream",
     "text": [
      "100%|██████████| 25/25 [00:00<00:00, 48.53it/s]\n"
     ]
    },
    {
     "name": "stdout",
     "output_type": "stream",
     "text": [
      "spent time for epoch 355 is 0.5209169387817383s\n",
      "epoch # : 355 gamma : 0.5 gen loss : 1.0581824779510498\n"
     ]
    },
    {
     "name": "stderr",
     "output_type": "stream",
     "text": [
      " 20%|██        | 5/25 [00:00<00:00, 49.70it/s]"
     ]
    },
    {
     "name": "stdout",
     "output_type": "stream",
     "text": [
      "Total number of generated modes is  23\n",
      "The number of high quality samples among 2500 samples is 138\n",
      "The mode dictionary is Counter({5: 27, 21: 15, 6: 13, 10: 11, 0: 10, 11: 9, 16: 8, 22: 7, 18: 5, 23: 5, 20: 4, 7: 4, 8: 4, 15: 3, 13: 2, 24: 2, 17: 2, 9: 2, 1: 1, 19: 1, 12: 1, 14: 1, 4: 1})\n"
     ]
    },
    {
     "name": "stderr",
     "output_type": "stream",
     "text": [
      "100%|██████████| 25/25 [00:00<00:00, 48.96it/s]\n"
     ]
    },
    {
     "name": "stdout",
     "output_type": "stream",
     "text": [
      "spent time for epoch 356 is 0.5160062313079834s\n",
      "epoch # : 356 gamma : 0.5 gen loss : 1.0104647874832153\n"
     ]
    },
    {
     "name": "stderr",
     "output_type": "stream",
     "text": [
      " 20%|██        | 5/25 [00:00<00:00, 49.37it/s]"
     ]
    },
    {
     "name": "stdout",
     "output_type": "stream",
     "text": [
      "Total number of generated modes is  24\n",
      "The number of high quality samples among 2500 samples is 141\n",
      "The mode dictionary is Counter({7: 14, 16: 9, 0: 9, 8: 9, 20: 9, 1: 9, 15: 7, 18: 7, 24: 7, 2: 6, 6: 6, 22: 6, 21: 5, 19: 5, 9: 5, 23: 5, 10: 5, 11: 4, 14: 4, 12: 3, 17: 2, 13: 2, 3: 2, 5: 1})\n"
     ]
    },
    {
     "name": "stderr",
     "output_type": "stream",
     "text": [
      "100%|██████████| 25/25 [00:00<00:00, 48.67it/s]\n"
     ]
    },
    {
     "name": "stdout",
     "output_type": "stream",
     "text": [
      "spent time for epoch 357 is 0.5192945003509521s\n",
      "epoch # : 357 gamma : 0.5 gen loss : 1.0014681816101074\n"
     ]
    },
    {
     "name": "stderr",
     "output_type": "stream",
     "text": [
      " 20%|██        | 5/25 [00:00<00:00, 48.07it/s]"
     ]
    },
    {
     "name": "stdout",
     "output_type": "stream",
     "text": [
      "Total number of generated modes is  23\n",
      "The number of high quality samples among 2500 samples is 187\n",
      "The mode dictionary is Counter({21: 26, 20: 24, 5: 19, 3: 14, 6: 13, 24: 11, 15: 10, 22: 8, 1: 7, 16: 7, 11: 7, 13: 7, 19: 6, 2: 5, 7: 5, 4: 5, 8: 3, 9: 2, 18: 2, 23: 2, 10: 2, 0: 1, 12: 1})\n"
     ]
    },
    {
     "name": "stderr",
     "output_type": "stream",
     "text": [
      "100%|██████████| 25/25 [00:00<00:00, 47.87it/s]\n"
     ]
    },
    {
     "name": "stdout",
     "output_type": "stream",
     "text": [
      "spent time for epoch 358 is 0.5279953479766846s\n",
      "epoch # : 358 gamma : 0.5 gen loss : 0.9859296679496765\n"
     ]
    },
    {
     "name": "stderr",
     "output_type": "stream",
     "text": [
      " 20%|██        | 5/25 [00:00<00:00, 49.66it/s]"
     ]
    },
    {
     "name": "stdout",
     "output_type": "stream",
     "text": [
      "Total number of generated modes is  21\n",
      "The number of high quality samples among 2500 samples is 148\n",
      "The mode dictionary is Counter({7: 21, 5: 19, 16: 15, 21: 11, 8: 10, 4: 9, 3: 9, 11: 9, 2: 8, 6: 7, 1: 4, 12: 4, 0: 4, 24: 3, 18: 3, 23: 3, 9: 3, 13: 2, 17: 2, 22: 1, 14: 1})\n"
     ]
    },
    {
     "name": "stderr",
     "output_type": "stream",
     "text": [
      "100%|██████████| 25/25 [00:00<00:00, 49.42it/s]\n"
     ]
    },
    {
     "name": "stdout",
     "output_type": "stream",
     "text": [
      "spent time for epoch 359 is 0.5116493701934814s\n",
      "epoch # : 359 gamma : 0.5 gen loss : 0.9940733313560486\n"
     ]
    },
    {
     "name": "stderr",
     "output_type": "stream",
     "text": [
      "  4%|▍         | 1/25 [00:00<00:03,  7.39it/s]"
     ]
    },
    {
     "name": "stdout",
     "output_type": "stream",
     "text": [
      "Total number of generated modes is  24\n",
      "The number of high quality samples among 2500 samples is 154\n",
      "The mode dictionary is Counter({7: 19, 8: 16, 20: 12, 15: 12, 11: 10, 16: 10, 13: 9, 10: 8, 23: 7, 18: 7, 12: 7, 21: 6, 6: 6, 17: 5, 1: 3, 22: 3, 9: 3, 2: 2, 5: 2, 19: 2, 3: 2, 4: 1, 0: 1, 24: 1})\n"
     ]
    },
    {
     "name": "stderr",
     "output_type": "stream",
     "text": [
      "100%|██████████| 25/25 [00:00<00:00, 43.93it/s]\n"
     ]
    },
    {
     "name": "stdout",
     "output_type": "stream",
     "text": [
      "spent time for epoch 360 is 0.5747544765472412s\n",
      "epoch # : 360 gamma : 0.5 gen loss : 0.9996470212936401\n"
     ]
    },
    {
     "name": "stderr",
     "output_type": "stream",
     "text": [
      " 20%|██        | 5/25 [00:00<00:00, 49.55it/s]"
     ]
    },
    {
     "name": "stdout",
     "output_type": "stream",
     "text": [
      "Total number of generated modes is  24\n",
      "The number of high quality samples among 2500 samples is 141\n",
      "The mode dictionary is Counter({0: 39, 6: 9, 2: 9, 3: 9, 7: 8, 8: 8, 20: 7, 21: 6, 1: 6, 22: 5, 16: 5, 9: 4, 5: 4, 18: 3, 4: 3, 12: 3, 13: 3, 23: 2, 24: 2, 11: 2, 10: 1, 15: 1, 17: 1, 19: 1})\n"
     ]
    },
    {
     "name": "stderr",
     "output_type": "stream",
     "text": [
      "100%|██████████| 25/25 [00:00<00:00, 49.14it/s]\n"
     ]
    },
    {
     "name": "stdout",
     "output_type": "stream",
     "text": [
      "spent time for epoch 361 is 0.5165736675262451s\n",
      "epoch # : 361 gamma : 0.5 gen loss : 1.0008043050765991\n"
     ]
    },
    {
     "name": "stderr",
     "output_type": "stream",
     "text": [
      " 20%|██        | 5/25 [00:00<00:00, 49.36it/s]"
     ]
    },
    {
     "name": "stdout",
     "output_type": "stream",
     "text": [
      "Total number of generated modes is  23\n",
      "The number of high quality samples among 2500 samples is 163\n",
      "The mode dictionary is Counter({5: 28, 0: 13, 4: 13, 23: 12, 1: 12, 2: 12, 16: 10, 9: 9, 6: 7, 14: 7, 21: 6, 19: 6, 13: 5, 3: 5, 12: 5, 17: 3, 18: 3, 11: 2, 24: 1, 7: 1, 8: 1, 10: 1, 22: 1})\n"
     ]
    },
    {
     "name": "stderr",
     "output_type": "stream",
     "text": [
      "100%|██████████| 25/25 [00:00<00:00, 48.38it/s]\n"
     ]
    },
    {
     "name": "stdout",
     "output_type": "stream",
     "text": [
      "spent time for epoch 362 is 0.5226747989654541s\n",
      "epoch # : 362 gamma : 0.5 gen loss : 1.012525200843811\n"
     ]
    },
    {
     "name": "stderr",
     "output_type": "stream",
     "text": [
      " 20%|██        | 5/25 [00:00<00:00, 48.74it/s]"
     ]
    },
    {
     "name": "stdout",
     "output_type": "stream",
     "text": [
      "Total number of generated modes is  21\n",
      "The number of high quality samples among 2500 samples is 110\n",
      "The mode dictionary is Counter({20: 23, 10: 16, 16: 8, 1: 8, 11: 7, 4: 6, 18: 5, 15: 5, 13: 4, 6: 4, 9: 3, 5: 3, 12: 3, 23: 3, 22: 3, 19: 2, 7: 2, 0: 2, 3: 1, 14: 1, 17: 1})\n"
     ]
    },
    {
     "name": "stderr",
     "output_type": "stream",
     "text": [
      "100%|██████████| 25/25 [00:00<00:00, 48.43it/s]\n"
     ]
    },
    {
     "name": "stdout",
     "output_type": "stream",
     "text": [
      "spent time for epoch 363 is 0.5216913223266602s\n",
      "epoch # : 363 gamma : 0.5 gen loss : 1.004357933998108\n"
     ]
    },
    {
     "name": "stderr",
     "output_type": "stream",
     "text": [
      " 20%|██        | 5/25 [00:00<00:00, 48.47it/s]"
     ]
    },
    {
     "name": "stdout",
     "output_type": "stream",
     "text": [
      "Total number of generated modes is  24\n",
      "The number of high quality samples among 2500 samples is 98\n",
      "The mode dictionary is Counter({5: 9, 22: 7, 21: 7, 16: 7, 2: 6, 9: 6, 3: 5, 6: 5, 11: 5, 8: 5, 0: 4, 12: 4, 13: 4, 1: 3, 18: 3, 4: 3, 7: 3, 24: 3, 23: 2, 14: 2, 17: 2, 20: 1, 15: 1, 19: 1})\n"
     ]
    },
    {
     "name": "stderr",
     "output_type": "stream",
     "text": [
      "100%|██████████| 25/25 [00:00<00:00, 48.12it/s]\n"
     ]
    },
    {
     "name": "stdout",
     "output_type": "stream",
     "text": [
      "spent time for epoch 364 is 0.5249576568603516s\n",
      "epoch # : 364 gamma : 0.5 gen loss : 1.0066382884979248\n"
     ]
    },
    {
     "name": "stderr",
     "output_type": "stream",
     "text": [
      " 20%|██        | 5/25 [00:00<00:00, 48.54it/s]"
     ]
    },
    {
     "name": "stdout",
     "output_type": "stream",
     "text": [
      "Total number of generated modes is  25\n",
      "The number of high quality samples among 2500 samples is 140\n",
      "The mode dictionary is Counter({0: 14, 16: 13, 10: 11, 19: 10, 21: 10, 7: 9, 8: 8, 6: 8, 9: 8, 14: 6, 22: 5, 3: 5, 1: 5, 24: 4, 5: 4, 23: 4, 11: 3, 18: 2, 2: 2, 20: 2, 13: 2, 15: 2, 17: 1, 4: 1, 12: 1})\n"
     ]
    },
    {
     "name": "stderr",
     "output_type": "stream",
     "text": [
      "100%|██████████| 25/25 [00:00<00:00, 47.97it/s]\n"
     ]
    },
    {
     "name": "stdout",
     "output_type": "stream",
     "text": [
      "spent time for epoch 365 is 0.5268514156341553s\n",
      "epoch # : 365 gamma : 0.5 gen loss : 0.9945515394210815\n"
     ]
    },
    {
     "name": "stderr",
     "output_type": "stream",
     "text": [
      " 20%|██        | 5/25 [00:00<00:00, 48.54it/s]"
     ]
    },
    {
     "name": "stdout",
     "output_type": "stream",
     "text": [
      "Total number of generated modes is  23\n",
      "The number of high quality samples among 2500 samples is 107\n",
      "The mode dictionary is Counter({8: 15, 6: 14, 7: 12, 1: 9, 10: 8, 13: 6, 11: 5, 12: 5, 15: 4, 22: 4, 24: 3, 16: 3, 21: 2, 9: 2, 2: 2, 14: 2, 18: 2, 3: 2, 0: 2, 19: 2, 17: 1, 5: 1, 23: 1})\n"
     ]
    },
    {
     "name": "stderr",
     "output_type": "stream",
     "text": [
      "100%|██████████| 25/25 [00:00<00:00, 48.66it/s]\n"
     ]
    },
    {
     "name": "stdout",
     "output_type": "stream",
     "text": [
      "spent time for epoch 366 is 0.5195052623748779s\n",
      "epoch # : 366 gamma : 0.5 gen loss : 1.012699007987976\n"
     ]
    },
    {
     "name": "stderr",
     "output_type": "stream",
     "text": [
      " 20%|██        | 5/25 [00:00<00:00, 49.36it/s]"
     ]
    },
    {
     "name": "stdout",
     "output_type": "stream",
     "text": [
      "Total number of generated modes is  24\n",
      "The number of high quality samples among 2500 samples is 132\n",
      "The mode dictionary is Counter({7: 11, 21: 11, 22: 11, 8: 11, 6: 9, 20: 9, 23: 9, 5: 9, 12: 6, 11: 6, 18: 5, 9: 5, 17: 5, 16: 5, 24: 4, 4: 4, 0: 3, 1: 2, 3: 2, 10: 1, 14: 1, 15: 1, 13: 1, 19: 1})\n"
     ]
    },
    {
     "name": "stderr",
     "output_type": "stream",
     "text": [
      "100%|██████████| 25/25 [00:00<00:00, 47.99it/s]\n"
     ]
    },
    {
     "name": "stdout",
     "output_type": "stream",
     "text": [
      "spent time for epoch 367 is 0.526623010635376s\n",
      "epoch # : 367 gamma : 0.5 gen loss : 1.0112409591674805\n"
     ]
    },
    {
     "name": "stderr",
     "output_type": "stream",
     "text": [
      " 20%|██        | 5/25 [00:00<00:00, 49.43it/s]"
     ]
    },
    {
     "name": "stdout",
     "output_type": "stream",
     "text": [
      "Total number of generated modes is  23\n",
      "The number of high quality samples among 2500 samples is 154\n",
      "The mode dictionary is Counter({0: 17, 5: 16, 1: 14, 2: 13, 16: 10, 8: 10, 21: 9, 3: 9, 6: 8, 13: 7, 7: 7, 11: 5, 4: 5, 17: 4, 9: 4, 14: 3, 24: 3, 18: 3, 23: 2, 10: 2, 15: 1, 22: 1, 20: 1})\n"
     ]
    },
    {
     "name": "stderr",
     "output_type": "stream",
     "text": [
      "100%|██████████| 25/25 [00:00<00:00, 49.37it/s]\n"
     ]
    },
    {
     "name": "stdout",
     "output_type": "stream",
     "text": [
      "spent time for epoch 368 is 0.5120453834533691s\n",
      "epoch # : 368 gamma : 0.5 gen loss : 1.006960391998291\n"
     ]
    },
    {
     "name": "stderr",
     "output_type": "stream",
     "text": [
      " 20%|██        | 5/25 [00:00<00:00, 48.75it/s]"
     ]
    },
    {
     "name": "stdout",
     "output_type": "stream",
     "text": [
      "Total number of generated modes is  22\n",
      "The number of high quality samples among 2500 samples is 148\n",
      "The mode dictionary is Counter({20: 19, 21: 14, 16: 14, 8: 14, 13: 10, 15: 10, 6: 9, 7: 7, 11: 6, 10: 6, 14: 6, 17: 5, 22: 5, 9: 4, 5: 3, 19: 3, 24: 3, 23: 3, 18: 3, 12: 2, 0: 1, 1: 1})\n"
     ]
    },
    {
     "name": "stderr",
     "output_type": "stream",
     "text": [
      "100%|██████████| 25/25 [00:00<00:00, 47.14it/s]\n"
     ]
    },
    {
     "name": "stdout",
     "output_type": "stream",
     "text": [
      "spent time for epoch 369 is 0.5359084606170654s\n",
      "epoch # : 369 gamma : 0.5 gen loss : 0.992530345916748\n"
     ]
    },
    {
     "name": "stderr",
     "output_type": "stream",
     "text": [
      " 20%|██        | 5/25 [00:00<00:00, 47.87it/s]"
     ]
    },
    {
     "name": "stdout",
     "output_type": "stream",
     "text": [
      "Total number of generated modes is  23\n",
      "The number of high quality samples among 2500 samples is 148\n",
      "The mode dictionary is Counter({5: 16, 22: 15, 17: 14, 21: 12, 2: 11, 16: 9, 6: 8, 0: 8, 12: 6, 1: 6, 8: 6, 11: 6, 23: 5, 3: 4, 9: 4, 7: 4, 13: 3, 14: 3, 24: 2, 18: 2, 19: 2, 10: 1, 4: 1})\n"
     ]
    },
    {
     "name": "stderr",
     "output_type": "stream",
     "text": [
      "100%|██████████| 25/25 [00:00<00:00, 48.59it/s]\n"
     ]
    },
    {
     "name": "stdout",
     "output_type": "stream",
     "text": [
      "spent time for epoch 370 is 0.5200903415679932s\n",
      "epoch # : 370 gamma : 0.5 gen loss : 0.9917240738868713\n"
     ]
    },
    {
     "name": "stderr",
     "output_type": "stream",
     "text": [
      "  4%|▍         | 1/25 [00:00<00:03,  7.41it/s]"
     ]
    },
    {
     "name": "stdout",
     "output_type": "stream",
     "text": [
      "Total number of generated modes is  24\n",
      "The number of high quality samples among 2500 samples is 128\n",
      "The mode dictionary is Counter({5: 42, 20: 13, 21: 8, 22: 7, 15: 6, 11: 5, 16: 5, 17: 5, 8: 4, 18: 4, 6: 4, 3: 4, 7: 3, 23: 3, 19: 2, 13: 2, 12: 2, 9: 2, 14: 2, 0: 1, 1: 1, 4: 1, 2: 1, 24: 1})\n"
     ]
    },
    {
     "name": "stderr",
     "output_type": "stream",
     "text": [
      "100%|██████████| 25/25 [00:00<00:00, 43.19it/s]\n"
     ]
    },
    {
     "name": "stdout",
     "output_type": "stream",
     "text": [
      "spent time for epoch 371 is 0.5846905708312988s\n",
      "epoch # : 371 gamma : 0.5 gen loss : 0.9879252314567566\n"
     ]
    },
    {
     "name": "stderr",
     "output_type": "stream",
     "text": [
      " 20%|██        | 5/25 [00:00<00:00, 48.64it/s]"
     ]
    },
    {
     "name": "stdout",
     "output_type": "stream",
     "text": [
      "Total number of generated modes is  23\n",
      "The number of high quality samples among 2500 samples is 111\n",
      "The mode dictionary is Counter({20: 12, 16: 11, 7: 11, 21: 8, 8: 7, 17: 6, 6: 6, 22: 6, 14: 5, 9: 5, 23: 4, 11: 4, 4: 4, 15: 3, 19: 3, 5: 2, 12: 2, 0: 2, 2: 2, 24: 2, 13: 2, 10: 2, 18: 2})\n"
     ]
    },
    {
     "name": "stderr",
     "output_type": "stream",
     "text": [
      "100%|██████████| 25/25 [00:00<00:00, 48.15it/s]\n"
     ]
    },
    {
     "name": "stdout",
     "output_type": "stream",
     "text": [
      "spent time for epoch 372 is 0.5252175331115723s\n",
      "epoch # : 372 gamma : 0.5 gen loss : 1.04132878780365\n"
     ]
    },
    {
     "name": "stderr",
     "output_type": "stream",
     "text": [
      " 20%|██        | 5/25 [00:00<00:00, 47.01it/s]"
     ]
    },
    {
     "name": "stdout",
     "output_type": "stream",
     "text": [
      "Total number of generated modes is  25\n",
      "The number of high quality samples among 2500 samples is 122\n",
      "The mode dictionary is Counter({21: 15, 16: 11, 1: 11, 5: 11, 6: 10, 7: 7, 3: 6, 11: 6, 4: 5, 9: 4, 13: 4, 8: 4, 20: 3, 24: 3, 23: 3, 19: 3, 15: 3, 14: 3, 2: 2, 22: 2, 17: 2, 0: 1, 10: 1, 12: 1, 18: 1})\n"
     ]
    },
    {
     "name": "stderr",
     "output_type": "stream",
     "text": [
      "100%|██████████| 25/25 [00:00<00:00, 47.08it/s]\n"
     ]
    },
    {
     "name": "stdout",
     "output_type": "stream",
     "text": [
      "spent time for epoch 373 is 0.536428689956665s\n",
      "epoch # : 373 gamma : 0.5 gen loss : 0.9611155390739441\n"
     ]
    },
    {
     "name": "stderr",
     "output_type": "stream",
     "text": [
      " 20%|██        | 5/25 [00:00<00:00, 48.88it/s]"
     ]
    },
    {
     "name": "stdout",
     "output_type": "stream",
     "text": [
      "Total number of generated modes is  24\n",
      "The number of high quality samples among 2500 samples is 171\n",
      "The mode dictionary is Counter({21: 19, 20: 16, 4: 15, 15: 13, 0: 12, 7: 12, 6: 10, 16: 10, 1: 9, 8: 6, 3: 6, 23: 5, 18: 5, 11: 4, 14: 4, 12: 4, 22: 4, 2: 4, 10: 3, 19: 3, 9: 3, 24: 2, 13: 1, 17: 1})\n"
     ]
    },
    {
     "name": "stderr",
     "output_type": "stream",
     "text": [
      "100%|██████████| 25/25 [00:00<00:00, 48.09it/s]\n"
     ]
    },
    {
     "name": "stdout",
     "output_type": "stream",
     "text": [
      "spent time for epoch 374 is 0.5255215167999268s\n",
      "epoch # : 374 gamma : 0.5 gen loss : 1.0387051105499268\n"
     ]
    },
    {
     "name": "stderr",
     "output_type": "stream",
     "text": [
      " 20%|██        | 5/25 [00:00<00:00, 48.93it/s]"
     ]
    },
    {
     "name": "stdout",
     "output_type": "stream",
     "text": [
      "Total number of generated modes is  22\n",
      "The number of high quality samples among 2500 samples is 112\n",
      "The mode dictionary is Counter({22: 13, 21: 10, 6: 10, 8: 9, 23: 8, 13: 5, 7: 5, 5: 5, 15: 5, 0: 5, 18: 5, 10: 4, 2: 4, 16: 4, 1: 4, 17: 3, 9: 3, 11: 3, 24: 2, 12: 2, 3: 2, 20: 1})\n"
     ]
    },
    {
     "name": "stderr",
     "output_type": "stream",
     "text": [
      "100%|██████████| 25/25 [00:00<00:00, 49.00it/s]\n"
     ]
    },
    {
     "name": "stdout",
     "output_type": "stream",
     "text": [
      "spent time for epoch 375 is 0.5157897472381592s\n",
      "epoch # : 375 gamma : 0.5 gen loss : 1.032430648803711\n"
     ]
    },
    {
     "name": "stderr",
     "output_type": "stream",
     "text": [
      " 20%|██        | 5/25 [00:00<00:00, 47.80it/s]"
     ]
    },
    {
     "name": "stdout",
     "output_type": "stream",
     "text": [
      "Total number of generated modes is  24\n",
      "The number of high quality samples among 2500 samples is 101\n",
      "The mode dictionary is Counter({5: 12, 2: 9, 21: 8, 6: 8, 16: 6, 4: 5, 11: 5, 9: 4, 24: 4, 14: 4, 3: 4, 8: 4, 19: 4, 18: 3, 7: 3, 13: 3, 12: 3, 15: 3, 1: 3, 22: 2, 23: 1, 10: 1, 0: 1, 17: 1})\n"
     ]
    },
    {
     "name": "stderr",
     "output_type": "stream",
     "text": [
      "100%|██████████| 25/25 [00:00<00:00, 48.48it/s]\n"
     ]
    },
    {
     "name": "stdout",
     "output_type": "stream",
     "text": [
      "spent time for epoch 376 is 0.5213704109191895s\n",
      "epoch # : 376 gamma : 0.5 gen loss : 0.9980614185333252\n"
     ]
    },
    {
     "name": "stderr",
     "output_type": "stream",
     "text": [
      " 20%|██        | 5/25 [00:00<00:00, 48.62it/s]"
     ]
    },
    {
     "name": "stdout",
     "output_type": "stream",
     "text": [
      "Total number of generated modes is  25\n",
      "The number of high quality samples among 2500 samples is 153\n",
      "The mode dictionary is Counter({20: 26, 21: 17, 7: 15, 16: 13, 3: 10, 22: 10, 15: 7, 8: 7, 18: 7, 6: 7, 5: 4, 17: 3, 1: 3, 12: 3, 0: 3, 4: 3, 11: 3, 14: 3, 23: 2, 13: 2, 19: 1, 9: 1, 2: 1, 10: 1, 24: 1})\n"
     ]
    },
    {
     "name": "stderr",
     "output_type": "stream",
     "text": [
      "100%|██████████| 25/25 [00:00<00:00, 48.11it/s]\n"
     ]
    },
    {
     "name": "stdout",
     "output_type": "stream",
     "text": [
      "spent time for epoch 377 is 0.5255477428436279s\n",
      "epoch # : 377 gamma : 0.5 gen loss : 1.0053132772445679\n"
     ]
    },
    {
     "name": "stderr",
     "output_type": "stream",
     "text": [
      " 20%|██        | 5/25 [00:00<00:00, 49.66it/s]"
     ]
    },
    {
     "name": "stdout",
     "output_type": "stream",
     "text": [
      "Total number of generated modes is  21\n",
      "The number of high quality samples among 2500 samples is 122\n",
      "The mode dictionary is Counter({5: 40, 23: 9, 16: 9, 11: 8, 6: 7, 21: 6, 10: 5, 1: 5, 18: 5, 0: 5, 8: 4, 9: 3, 13: 3, 4: 2, 20: 2, 14: 2, 19: 2, 15: 2, 17: 1, 3: 1, 22: 1})\n"
     ]
    },
    {
     "name": "stderr",
     "output_type": "stream",
     "text": [
      "100%|██████████| 25/25 [00:00<00:00, 49.03it/s]\n"
     ]
    },
    {
     "name": "stdout",
     "output_type": "stream",
     "text": [
      "spent time for epoch 378 is 0.5157227516174316s\n",
      "epoch # : 378 gamma : 0.5 gen loss : 0.9785459637641907\n"
     ]
    },
    {
     "name": "stderr",
     "output_type": "stream",
     "text": [
      " 20%|██        | 5/25 [00:00<00:00, 48.95it/s]"
     ]
    },
    {
     "name": "stdout",
     "output_type": "stream",
     "text": [
      "Total number of generated modes is  22\n",
      "The number of high quality samples among 2500 samples is 89\n",
      "The mode dictionary is Counter({8: 10, 7: 10, 11: 8, 14: 8, 16: 7, 21: 7, 6: 5, 23: 5, 19: 4, 2: 4, 13: 3, 1: 3, 9: 3, 17: 2, 5: 2, 22: 2, 24: 1, 4: 1, 18: 1, 15: 1, 3: 1, 12: 1})\n"
     ]
    },
    {
     "name": "stderr",
     "output_type": "stream",
     "text": [
      "100%|██████████| 25/25 [00:00<00:00, 47.91it/s]\n"
     ]
    },
    {
     "name": "stdout",
     "output_type": "stream",
     "text": [
      "spent time for epoch 379 is 0.5278410911560059s\n",
      "epoch # : 379 gamma : 0.5 gen loss : 1.0132431983947754\n"
     ]
    },
    {
     "name": "stderr",
     "output_type": "stream",
     "text": [
      " 20%|██        | 5/25 [00:00<00:00, 49.21it/s]"
     ]
    },
    {
     "name": "stdout",
     "output_type": "stream",
     "text": [
      "Total number of generated modes is  24\n",
      "The number of high quality samples among 2500 samples is 181\n",
      "The mode dictionary is Counter({5: 35, 21: 31, 7: 13, 16: 12, 15: 12, 4: 10, 9: 10, 11: 8, 8: 8, 10: 7, 6: 7, 13: 3, 17: 3, 14: 3, 20: 3, 3: 2, 2: 2, 12: 2, 19: 2, 23: 2, 18: 2, 0: 2, 1: 1, 22: 1})\n"
     ]
    },
    {
     "name": "stderr",
     "output_type": "stream",
     "text": [
      "100%|██████████| 25/25 [00:00<00:00, 48.67it/s]\n"
     ]
    },
    {
     "name": "stdout",
     "output_type": "stream",
     "text": [
      "spent time for epoch 380 is 0.5192272663116455s\n",
      "epoch # : 380 gamma : 0.5 gen loss : 1.0323543548583984\n"
     ]
    },
    {
     "name": "stderr",
     "output_type": "stream",
     "text": [
      " 24%|██▍       | 6/25 [00:00<00:00, 34.31it/s]"
     ]
    },
    {
     "name": "stdout",
     "output_type": "stream",
     "text": [
      "Total number of generated modes is  22\n",
      "The number of high quality samples among 2500 samples is 114\n",
      "The mode dictionary is Counter({8: 16, 6: 15, 16: 12, 7: 11, 11: 11, 21: 7, 9: 5, 22: 5, 15: 4, 1: 3, 10: 3, 4: 3, 24: 3, 13: 3, 19: 2, 0: 2, 14: 2, 17: 2, 3: 2, 2: 1, 23: 1, 12: 1})\n"
     ]
    },
    {
     "name": "stderr",
     "output_type": "stream",
     "text": [
      "100%|██████████| 25/25 [00:00<00:00, 47.79it/s]\n"
     ]
    },
    {
     "name": "stdout",
     "output_type": "stream",
     "text": [
      "spent time for epoch 381 is 0.5287702083587646s\n",
      "epoch # : 381 gamma : 0.5 gen loss : 0.9820928573608398\n"
     ]
    },
    {
     "name": "stderr",
     "output_type": "stream",
     "text": [
      "  4%|▍         | 1/25 [00:00<00:03,  7.40it/s]"
     ]
    },
    {
     "name": "stdout",
     "output_type": "stream",
     "text": [
      "Total number of generated modes is  24\n",
      "The number of high quality samples among 2500 samples is 147\n",
      "The mode dictionary is Counter({21: 24, 22: 14, 7: 12, 16: 11, 6: 9, 10: 8, 8: 8, 23: 8, 15: 7, 4: 6, 20: 6, 24: 5, 13: 5, 5: 4, 11: 3, 1: 3, 3: 3, 0: 3, 17: 2, 9: 2, 14: 1, 19: 1, 2: 1, 12: 1})\n"
     ]
    },
    {
     "name": "stderr",
     "output_type": "stream",
     "text": [
      "100%|██████████| 25/25 [00:00<00:00, 43.76it/s]\n"
     ]
    },
    {
     "name": "stdout",
     "output_type": "stream",
     "text": [
      "spent time for epoch 382 is 0.5767743587493896s\n",
      "epoch # : 382 gamma : 0.5 gen loss : 0.9636419415473938\n"
     ]
    },
    {
     "name": "stderr",
     "output_type": "stream",
     "text": [
      " 20%|██        | 5/25 [00:00<00:00, 48.62it/s]"
     ]
    },
    {
     "name": "stdout",
     "output_type": "stream",
     "text": [
      "Total number of generated modes is  22\n",
      "The number of high quality samples among 2500 samples is 140\n",
      "The mode dictionary is Counter({8: 18, 16: 13, 6: 13, 7: 11, 0: 10, 2: 10, 1: 9, 13: 9, 19: 7, 4: 6, 21: 6, 11: 5, 12: 4, 18: 3, 17: 3, 22: 2, 23: 2, 20: 2, 24: 2, 3: 2, 9: 2, 14: 1})\n"
     ]
    },
    {
     "name": "stderr",
     "output_type": "stream",
     "text": [
      "100%|██████████| 25/25 [00:00<00:00, 46.07it/s]\n"
     ]
    },
    {
     "name": "stdout",
     "output_type": "stream",
     "text": [
      "spent time for epoch 383 is 0.5477969646453857s\n",
      "epoch # : 383 gamma : 0.5 gen loss : 0.9833530187606812\n"
     ]
    },
    {
     "name": "stderr",
     "output_type": "stream",
     "text": [
      " 20%|██        | 5/25 [00:00<00:00, 47.90it/s]"
     ]
    },
    {
     "name": "stdout",
     "output_type": "stream",
     "text": [
      "Total number of generated modes is  20\n",
      "The number of high quality samples among 2500 samples is 119\n",
      "The mode dictionary is Counter({7: 15, 0: 13, 3: 11, 16: 10, 8: 10, 1: 8, 21: 7, 2: 7, 6: 6, 13: 6, 20: 5, 9: 5, 11: 4, 15: 3, 12: 2, 10: 2, 4: 2, 23: 1, 14: 1, 24: 1})\n"
     ]
    },
    {
     "name": "stderr",
     "output_type": "stream",
     "text": [
      "100%|██████████| 25/25 [00:00<00:00, 47.92it/s]\n"
     ]
    },
    {
     "name": "stdout",
     "output_type": "stream",
     "text": [
      "spent time for epoch 384 is 0.5274195671081543s\n",
      "epoch # : 384 gamma : 0.5 gen loss : 1.0197341442108154\n"
     ]
    },
    {
     "name": "stderr",
     "output_type": "stream",
     "text": [
      " 20%|██        | 5/25 [00:00<00:00, 48.16it/s]"
     ]
    },
    {
     "name": "stdout",
     "output_type": "stream",
     "text": [
      "Total number of generated modes is  24\n",
      "The number of high quality samples among 2500 samples is 171\n",
      "The mode dictionary is Counter({6: 17, 16: 13, 20: 12, 10: 12, 15: 12, 7: 10, 21: 9, 1: 9, 11: 9, 13: 8, 8: 8, 9: 7, 23: 6, 17: 6, 22: 5, 2: 5, 14: 4, 4: 4, 12: 3, 18: 3, 3: 3, 0: 3, 5: 2, 19: 1})\n"
     ]
    },
    {
     "name": "stderr",
     "output_type": "stream",
     "text": [
      "100%|██████████| 25/25 [00:00<00:00, 47.84it/s]\n"
     ]
    },
    {
     "name": "stdout",
     "output_type": "stream",
     "text": [
      "spent time for epoch 385 is 0.528515100479126s\n",
      "epoch # : 385 gamma : 0.5 gen loss : 0.9927018284797668\n"
     ]
    },
    {
     "name": "stderr",
     "output_type": "stream",
     "text": [
      " 16%|█▌        | 4/25 [00:00<00:00, 39.31it/s]"
     ]
    },
    {
     "name": "stdout",
     "output_type": "stream",
     "text": [
      "Total number of generated modes is  19\n",
      "The number of high quality samples among 2500 samples is 88\n",
      "The mode dictionary is Counter({16: 14, 15: 12, 13: 8, 11: 8, 20: 8, 23: 5, 3: 5, 10: 4, 0: 4, 21: 3, 18: 2, 6: 2, 8: 2, 4: 2, 2: 2, 1: 2, 19: 2, 24: 2, 17: 1})\n"
     ]
    },
    {
     "name": "stderr",
     "output_type": "stream",
     "text": [
      "100%|██████████| 25/25 [00:00<00:00, 47.21it/s]\n"
     ]
    },
    {
     "name": "stdout",
     "output_type": "stream",
     "text": [
      "spent time for epoch 386 is 0.5352363586425781s\n",
      "epoch # : 386 gamma : 0.5 gen loss : 0.9938665628433228\n"
     ]
    },
    {
     "name": "stderr",
     "output_type": "stream",
     "text": [
      " 20%|██        | 5/25 [00:00<00:00, 49.01it/s]"
     ]
    },
    {
     "name": "stdout",
     "output_type": "stream",
     "text": [
      "Total number of generated modes is  24\n",
      "The number of high quality samples among 2500 samples is 166\n",
      "The mode dictionary is Counter({21: 21, 16: 15, 3: 12, 7: 12, 13: 10, 8: 10, 5: 10, 1: 9, 20: 9, 4: 9, 17: 6, 6: 6, 9: 5, 22: 5, 12: 5, 0: 4, 18: 4, 15: 3, 2: 2, 23: 2, 11: 2, 14: 2, 24: 2, 10: 1})\n"
     ]
    },
    {
     "name": "stderr",
     "output_type": "stream",
     "text": [
      "100%|██████████| 25/25 [00:00<00:00, 48.39it/s]\n"
     ]
    },
    {
     "name": "stdout",
     "output_type": "stream",
     "text": [
      "spent time for epoch 387 is 0.5224428176879883s\n",
      "epoch # : 387 gamma : 0.5 gen loss : 1.0238289833068848\n"
     ]
    },
    {
     "name": "stderr",
     "output_type": "stream",
     "text": [
      " 16%|█▌        | 4/25 [00:00<00:00, 39.93it/s]"
     ]
    },
    {
     "name": "stdout",
     "output_type": "stream",
     "text": [
      "Total number of generated modes is  25\n",
      "The number of high quality samples among 2500 samples is 153\n",
      "The mode dictionary is Counter({20: 21, 7: 13, 3: 13, 15: 12, 8: 11, 6: 10, 2: 9, 21: 8, 16: 7, 5: 7, 17: 6, 1: 5, 13: 4, 22: 4, 24: 4, 11: 4, 4: 3, 12: 3, 0: 2, 19: 2, 23: 1, 10: 1, 18: 1, 9: 1, 14: 1})\n"
     ]
    },
    {
     "name": "stderr",
     "output_type": "stream",
     "text": [
      "100%|██████████| 25/25 [00:00<00:00, 47.97it/s]\n"
     ]
    },
    {
     "name": "stdout",
     "output_type": "stream",
     "text": [
      "spent time for epoch 388 is 0.5269262790679932s\n",
      "epoch # : 388 gamma : 0.5 gen loss : 0.9947786331176758\n"
     ]
    },
    {
     "name": "stderr",
     "output_type": "stream",
     "text": [
      " 20%|██        | 5/25 [00:00<00:00, 48.39it/s]"
     ]
    },
    {
     "name": "stdout",
     "output_type": "stream",
     "text": [
      "Total number of generated modes is  24\n",
      "The number of high quality samples among 2500 samples is 162\n",
      "The mode dictionary is Counter({15: 17, 23: 16, 16: 14, 7: 11, 1: 10, 3: 9, 13: 9, 6: 8, 22: 8, 11: 8, 2: 7, 0: 7, 21: 7, 8: 6, 18: 5, 4: 5, 17: 3, 12: 2, 14: 2, 5: 2, 10: 2, 9: 2, 19: 1, 20: 1})\n"
     ]
    },
    {
     "name": "stderr",
     "output_type": "stream",
     "text": [
      "100%|██████████| 25/25 [00:00<00:00, 48.85it/s]\n"
     ]
    },
    {
     "name": "stdout",
     "output_type": "stream",
     "text": [
      "spent time for epoch 389 is 0.5186455249786377s\n",
      "epoch # : 389 gamma : 0.5 gen loss : 1.0079903602600098\n"
     ]
    },
    {
     "name": "stderr",
     "output_type": "stream",
     "text": [
      " 20%|██        | 5/25 [00:00<00:00, 49.30it/s]"
     ]
    },
    {
     "name": "stdout",
     "output_type": "stream",
     "text": [
      "Total number of generated modes is  21\n",
      "The number of high quality samples among 2500 samples is 138\n",
      "The mode dictionary is Counter({23: 14, 6: 12, 7: 12, 5: 11, 20: 10, 8: 9, 1: 9, 15: 8, 11: 8, 17: 7, 2: 6, 22: 6, 13: 6, 18: 5, 10: 4, 12: 3, 3: 2, 16: 2, 4: 2, 14: 1, 21: 1})\n"
     ]
    },
    {
     "name": "stderr",
     "output_type": "stream",
     "text": [
      "100%|██████████| 25/25 [00:00<00:00, 48.82it/s]\n"
     ]
    },
    {
     "name": "stdout",
     "output_type": "stream",
     "text": [
      "spent time for epoch 390 is 0.5180227756500244s\n",
      "epoch # : 390 gamma : 0.5 gen loss : 0.9828523993492126\n"
     ]
    },
    {
     "name": "stderr",
     "output_type": "stream",
     "text": [
      " 20%|██        | 5/25 [00:00<00:00, 49.59it/s]"
     ]
    },
    {
     "name": "stdout",
     "output_type": "stream",
     "text": [
      "Total number of generated modes is  23\n",
      "The number of high quality samples among 2500 samples is 118\n",
      "The mode dictionary is Counter({22: 16, 7: 10, 20: 9, 8: 9, 6: 8, 21: 8, 19: 6, 14: 6, 16: 6, 13: 6, 9: 5, 11: 4, 12: 4, 4: 4, 15: 4, 23: 3, 5: 2, 18: 2, 3: 2, 1: 1, 17: 1, 24: 1, 0: 1})\n"
     ]
    },
    {
     "name": "stderr",
     "output_type": "stream",
     "text": [
      "100%|██████████| 25/25 [00:00<00:00, 49.57it/s]\n"
     ]
    },
    {
     "name": "stdout",
     "output_type": "stream",
     "text": [
      "spent time for epoch 391 is 0.5099236965179443s\n",
      "epoch # : 391 gamma : 0.5 gen loss : 0.9655091762542725\n"
     ]
    },
    {
     "name": "stderr",
     "output_type": "stream",
     "text": [
      " 20%|██        | 5/25 [00:00<00:00, 48.43it/s]"
     ]
    },
    {
     "name": "stdout",
     "output_type": "stream",
     "text": [
      "Total number of generated modes is  24\n",
      "The number of high quality samples among 2500 samples is 136\n",
      "The mode dictionary is Counter({8: 15, 7: 13, 14: 9, 1: 8, 6: 8, 0: 8, 3: 8, 15: 7, 4: 7, 2: 7, 9: 6, 16: 5, 21: 5, 24: 4, 11: 4, 13: 4, 10: 4, 17: 3, 20: 2, 18: 2, 23: 2, 5: 2, 12: 2, 19: 1})\n"
     ]
    },
    {
     "name": "stderr",
     "output_type": "stream",
     "text": [
      "100%|██████████| 25/25 [00:00<00:00, 47.67it/s]\n"
     ]
    },
    {
     "name": "stdout",
     "output_type": "stream",
     "text": [
      "spent time for epoch 392 is 0.5300743579864502s\n",
      "epoch # : 392 gamma : 0.5 gen loss : 1.043221354484558\n"
     ]
    },
    {
     "name": "stderr",
     "output_type": "stream",
     "text": [
      "  4%|▍         | 1/25 [00:00<00:03,  6.03it/s]"
     ]
    },
    {
     "name": "stdout",
     "output_type": "stream",
     "text": [
      "Total number of generated modes is  22\n",
      "The number of high quality samples among 2500 samples is 145\n",
      "The mode dictionary is Counter({23: 16, 16: 16, 5: 15, 22: 13, 13: 10, 17: 9, 24: 8, 20: 7, 21: 7, 8: 6, 1: 6, 7: 6, 11: 5, 15: 3, 6: 3, 2: 3, 12: 3, 14: 2, 3: 2, 0: 2, 19: 2, 18: 1})\n"
     ]
    },
    {
     "name": "stderr",
     "output_type": "stream",
     "text": [
      "100%|██████████| 25/25 [00:00<00:00, 41.66it/s]\n"
     ]
    },
    {
     "name": "stdout",
     "output_type": "stream",
     "text": [
      "spent time for epoch 393 is 0.6057949066162109s\n",
      "epoch # : 393 gamma : 0.5 gen loss : 1.0794813632965088\n"
     ]
    },
    {
     "name": "stderr",
     "output_type": "stream",
     "text": [
      " 20%|██        | 5/25 [00:00<00:00, 48.86it/s]"
     ]
    },
    {
     "name": "stdout",
     "output_type": "stream",
     "text": [
      "Total number of generated modes is  25\n",
      "The number of high quality samples among 2500 samples is 144\n",
      "The mode dictionary is Counter({0: 19, 7: 17, 2: 14, 6: 12, 3: 11, 20: 9, 1: 7, 8: 7, 10: 6, 5: 6, 4: 5, 17: 4, 21: 3, 12: 3, 15: 3, 24: 3, 18: 3, 19: 2, 16: 2, 9: 2, 13: 2, 22: 1, 11: 1, 14: 1, 23: 1})\n"
     ]
    },
    {
     "name": "stderr",
     "output_type": "stream",
     "text": [
      "100%|██████████| 25/25 [00:00<00:00, 49.03it/s]\n"
     ]
    },
    {
     "name": "stdout",
     "output_type": "stream",
     "text": [
      "spent time for epoch 394 is 0.5157620906829834s\n",
      "epoch # : 394 gamma : 0.5 gen loss : 0.9893314838409424\n"
     ]
    },
    {
     "name": "stderr",
     "output_type": "stream",
     "text": [
      " 20%|██        | 5/25 [00:00<00:00, 48.35it/s]"
     ]
    },
    {
     "name": "stdout",
     "output_type": "stream",
     "text": [
      "Total number of generated modes is  22\n",
      "The number of high quality samples among 2500 samples is 122\n",
      "The mode dictionary is Counter({5: 12, 16: 10, 6: 10, 8: 9, 13: 9, 11: 8, 7: 8, 22: 7, 20: 6, 14: 6, 17: 5, 9: 4, 24: 4, 15: 4, 18: 4, 21: 4, 4: 3, 1: 2, 2: 2, 19: 2, 12: 2, 0: 1})\n"
     ]
    },
    {
     "name": "stderr",
     "output_type": "stream",
     "text": [
      "100%|██████████| 25/25 [00:00<00:00, 48.48it/s]\n"
     ]
    },
    {
     "name": "stdout",
     "output_type": "stream",
     "text": [
      "spent time for epoch 395 is 0.521327018737793s\n",
      "epoch # : 395 gamma : 0.5 gen loss : 1.028248906135559\n"
     ]
    },
    {
     "name": "stderr",
     "output_type": "stream",
     "text": [
      " 20%|██        | 5/25 [00:00<00:00, 49.26it/s]"
     ]
    },
    {
     "name": "stdout",
     "output_type": "stream",
     "text": [
      "Total number of generated modes is  23\n",
      "The number of high quality samples among 2500 samples is 164\n",
      "The mode dictionary is Counter({16: 16, 23: 15, 11: 14, 8: 13, 6: 13, 7: 13, 17: 10, 13: 8, 22: 7, 1: 7, 5: 6, 12: 6, 0: 6, 15: 4, 4: 4, 10: 4, 9: 3, 21: 3, 2: 3, 3: 3, 14: 2, 24: 2, 18: 2})\n"
     ]
    },
    {
     "name": "stderr",
     "output_type": "stream",
     "text": [
      "100%|██████████| 25/25 [00:00<00:00, 49.09it/s]\n"
     ]
    },
    {
     "name": "stdout",
     "output_type": "stream",
     "text": [
      "spent time for epoch 396 is 0.5149688720703125s\n",
      "epoch # : 396 gamma : 0.5 gen loss : 1.0143860578536987\n"
     ]
    },
    {
     "name": "stderr",
     "output_type": "stream",
     "text": [
      " 20%|██        | 5/25 [00:00<00:00, 48.24it/s]"
     ]
    },
    {
     "name": "stdout",
     "output_type": "stream",
     "text": [
      "Total number of generated modes is  18\n",
      "The number of high quality samples among 2500 samples is 106\n",
      "The mode dictionary is Counter({16: 16, 8: 16, 20: 12, 11: 10, 0: 7, 15: 6, 6: 6, 7: 5, 24: 5, 1: 5, 17: 5, 21: 4, 13: 4, 5: 1, 2: 1, 18: 1, 4: 1, 9: 1})\n"
     ]
    },
    {
     "name": "stderr",
     "output_type": "stream",
     "text": [
      "100%|██████████| 25/25 [00:00<00:00, 47.49it/s]\n"
     ]
    },
    {
     "name": "stdout",
     "output_type": "stream",
     "text": [
      "spent time for epoch 397 is 0.5321378707885742s\n",
      "epoch # : 397 gamma : 0.5 gen loss : 0.990736722946167\n"
     ]
    },
    {
     "name": "stderr",
     "output_type": "stream",
     "text": [
      " 20%|██        | 5/25 [00:00<00:00, 49.30it/s]"
     ]
    },
    {
     "name": "stdout",
     "output_type": "stream",
     "text": [
      "Total number of generated modes is  21\n",
      "The number of high quality samples among 2500 samples is 131\n",
      "The mode dictionary is Counter({21: 28, 11: 17, 6: 11, 10: 10, 8: 10, 16: 10, 7: 10, 13: 5, 20: 4, 22: 4, 5: 4, 17: 3, 12: 3, 24: 2, 9: 2, 18: 2, 15: 2, 4: 1, 3: 1, 1: 1, 23: 1})\n"
     ]
    },
    {
     "name": "stderr",
     "output_type": "stream",
     "text": [
      "100%|██████████| 25/25 [00:00<00:00, 48.17it/s]\n"
     ]
    },
    {
     "name": "stdout",
     "output_type": "stream",
     "text": [
      "spent time for epoch 398 is 0.5247793197631836s\n",
      "epoch # : 398 gamma : 0.5 gen loss : 1.0230937004089355\n"
     ]
    },
    {
     "name": "stderr",
     "output_type": "stream",
     "text": [
      " 20%|██        | 5/25 [00:00<00:00, 48.25it/s]"
     ]
    },
    {
     "name": "stdout",
     "output_type": "stream",
     "text": [
      "Total number of generated modes is  24\n",
      "The number of high quality samples among 2500 samples is 194\n",
      "The mode dictionary is Counter({22: 26, 23: 16, 6: 15, 10: 12, 16: 11, 14: 11, 4: 10, 0: 10, 8: 9, 1: 8, 9: 7, 17: 6, 20: 6, 11: 6, 12: 5, 5: 5, 2: 5, 3: 4, 18: 4, 7: 4, 13: 4, 15: 4, 21: 3, 24: 3})\n"
     ]
    },
    {
     "name": "stderr",
     "output_type": "stream",
     "text": [
      "100%|██████████| 25/25 [00:00<00:00, 47.92it/s]\n"
     ]
    },
    {
     "name": "stdout",
     "output_type": "stream",
     "text": [
      "spent time for epoch 399 is 0.5276846885681152s\n",
      "epoch # : 399 gamma : 0.5 gen loss : 1.0110069513320923\n"
     ]
    },
    {
     "name": "stderr",
     "output_type": "stream",
     "text": [
      " 20%|██        | 5/25 [00:00<00:00, 48.82it/s]"
     ]
    },
    {
     "name": "stdout",
     "output_type": "stream",
     "text": [
      "Total number of generated modes is  22\n",
      "The number of high quality samples among 2500 samples is 121\n",
      "The mode dictionary is Counter({1: 19, 0: 15, 6: 12, 2: 11, 5: 8, 17: 7, 7: 6, 3: 5, 16: 5, 23: 4, 4: 4, 9: 3, 11: 3, 8: 3, 22: 3, 20: 3, 19: 3, 12: 2, 13: 2, 24: 1, 18: 1, 14: 1})\n"
     ]
    },
    {
     "name": "stderr",
     "output_type": "stream",
     "text": [
      "100%|██████████| 25/25 [00:00<00:00, 48.58it/s]\n"
     ]
    },
    {
     "name": "stdout",
     "output_type": "stream",
     "text": [
      "spent time for epoch 400 is 0.5203120708465576s\n",
      "epoch # : 400 gamma : 0.5 gen loss : 1.0088289976119995\n"
     ]
    },
    {
     "name": "stderr",
     "output_type": "stream",
     "text": [
      " 20%|██        | 5/25 [00:00<00:00, 48.80it/s]"
     ]
    },
    {
     "name": "stdout",
     "output_type": "stream",
     "text": [
      "Total number of generated modes is  24\n",
      "The number of high quality samples among 2500 samples is 134\n",
      "The mode dictionary is Counter({20: 17, 6: 11, 16: 10, 3: 10, 8: 9, 7: 8, 21: 7, 9: 6, 14: 6, 22: 6, 15: 5, 1: 4, 19: 4, 18: 4, 4: 4, 12: 4, 23: 4, 13: 3, 24: 3, 17: 2, 5: 2, 11: 2, 2: 2, 10: 1})\n"
     ]
    },
    {
     "name": "stderr",
     "output_type": "stream",
     "text": [
      "100%|██████████| 25/25 [00:00<00:00, 48.86it/s]\n"
     ]
    },
    {
     "name": "stdout",
     "output_type": "stream",
     "text": [
      "spent time for epoch 401 is 0.5176033973693848s\n",
      "epoch # : 401 gamma : 0.5 gen loss : 0.9873824119567871\n"
     ]
    },
    {
     "name": "stderr",
     "output_type": "stream",
     "text": [
      " 20%|██        | 5/25 [00:00<00:00, 48.88it/s]"
     ]
    },
    {
     "name": "stdout",
     "output_type": "stream",
     "text": [
      "Total number of generated modes is  25\n",
      "The number of high quality samples among 2500 samples is 138\n",
      "The mode dictionary is Counter({16: 12, 11: 11, 8: 10, 6: 10, 7: 10, 1: 10, 12: 9, 21: 8, 4: 8, 18: 8, 13: 7, 9: 5, 2: 5, 22: 4, 10: 3, 5: 3, 14: 3, 23: 2, 19: 2, 24: 2, 17: 2, 20: 1, 0: 1, 3: 1, 15: 1})\n"
     ]
    },
    {
     "name": "stderr",
     "output_type": "stream",
     "text": [
      "100%|██████████| 25/25 [00:00<00:00, 47.07it/s]\n"
     ]
    },
    {
     "name": "stdout",
     "output_type": "stream",
     "text": [
      "spent time for epoch 402 is 0.5363178253173828s\n",
      "epoch # : 402 gamma : 0.5 gen loss : 0.998874843120575\n"
     ]
    },
    {
     "name": "stderr",
     "output_type": "stream",
     "text": [
      " 20%|██        | 5/25 [00:00<00:00, 49.54it/s]"
     ]
    },
    {
     "name": "stdout",
     "output_type": "stream",
     "text": [
      "Total number of generated modes is  24\n",
      "The number of high quality samples among 2500 samples is 117\n",
      "The mode dictionary is Counter({9: 13, 16: 11, 0: 10, 7: 8, 22: 7, 23: 7, 13: 6, 2: 6, 1: 6, 21: 6, 18: 5, 11: 4, 15: 4, 8: 4, 14: 3, 17: 3, 12: 3, 3: 2, 20: 2, 4: 2, 24: 2, 6: 1, 5: 1, 10: 1})\n"
     ]
    },
    {
     "name": "stderr",
     "output_type": "stream",
     "text": [
      "100%|██████████| 25/25 [00:00<00:00, 49.30it/s]\n"
     ]
    },
    {
     "name": "stdout",
     "output_type": "stream",
     "text": [
      "spent time for epoch 403 is 0.5129940509796143s\n",
      "epoch # : 403 gamma : 0.5 gen loss : 1.0181306600570679\n"
     ]
    },
    {
     "name": "stderr",
     "output_type": "stream",
     "text": [
      "  4%|▍         | 1/25 [00:00<00:03,  7.36it/s]"
     ]
    },
    {
     "name": "stdout",
     "output_type": "stream",
     "text": [
      "Total number of generated modes is  23\n",
      "The number of high quality samples among 2500 samples is 154\n",
      "The mode dictionary is Counter({1: 17, 0: 13, 2: 13, 7: 13, 16: 12, 20: 10, 21: 10, 4: 9, 8: 9, 15: 7, 3: 6, 17: 6, 6: 5, 10: 5, 11: 3, 22: 3, 9: 3, 18: 2, 24: 2, 13: 2, 14: 2, 5: 1, 23: 1})\n"
     ]
    },
    {
     "name": "stderr",
     "output_type": "stream",
     "text": [
      "100%|██████████| 25/25 [00:00<00:00, 43.60it/s]\n"
     ]
    },
    {
     "name": "stdout",
     "output_type": "stream",
     "text": [
      "spent time for epoch 404 is 0.579064130783081s\n",
      "epoch # : 404 gamma : 0.5 gen loss : 1.0181957483291626\n"
     ]
    },
    {
     "name": "stderr",
     "output_type": "stream",
     "text": [
      " 20%|██        | 5/25 [00:00<00:00, 48.09it/s]"
     ]
    },
    {
     "name": "stdout",
     "output_type": "stream",
     "text": [
      "Total number of generated modes is  22\n",
      "The number of high quality samples among 2500 samples is 193\n",
      "The mode dictionary is Counter({20: 36, 8: 18, 7: 13, 23: 13, 21: 12, 6: 11, 9: 9, 11: 8, 15: 8, 22: 8, 13: 7, 16: 7, 17: 7, 10: 7, 4: 4, 12: 4, 0: 4, 1: 4, 18: 4, 2: 3, 14: 3, 24: 3})\n"
     ]
    },
    {
     "name": "stderr",
     "output_type": "stream",
     "text": [
      "100%|██████████| 25/25 [00:00<00:00, 48.26it/s]\n"
     ]
    },
    {
     "name": "stdout",
     "output_type": "stream",
     "text": [
      "spent time for epoch 405 is 0.5236620903015137s\n",
      "epoch # : 405 gamma : 0.5 gen loss : 0.991265058517456\n"
     ]
    },
    {
     "name": "stderr",
     "output_type": "stream",
     "text": [
      " 16%|█▌        | 4/25 [00:00<00:00, 37.77it/s]"
     ]
    },
    {
     "name": "stdout",
     "output_type": "stream",
     "text": [
      "Total number of generated modes is  21\n",
      "The number of high quality samples among 2500 samples is 130\n",
      "The mode dictionary is Counter({16: 19, 0: 17, 7: 13, 6: 12, 8: 12, 21: 8, 2: 7, 10: 5, 19: 4, 3: 4, 17: 4, 11: 4, 15: 3, 22: 3, 5: 3, 24: 3, 9: 2, 18: 2, 1: 2, 13: 2, 14: 1})\n"
     ]
    },
    {
     "name": "stderr",
     "output_type": "stream",
     "text": [
      "100%|██████████| 25/25 [00:00<00:00, 48.18it/s]\n"
     ]
    },
    {
     "name": "stdout",
     "output_type": "stream",
     "text": [
      "spent time for epoch 406 is 0.5247049331665039s\n",
      "epoch # : 406 gamma : 0.5 gen loss : 1.029744267463684\n"
     ]
    },
    {
     "name": "stderr",
     "output_type": "stream",
     "text": [
      " 20%|██        | 5/25 [00:00<00:00, 48.86it/s]"
     ]
    },
    {
     "name": "stdout",
     "output_type": "stream",
     "text": [
      "Total number of generated modes is  25\n",
      "The number of high quality samples among 2500 samples is 127\n",
      "The mode dictionary is Counter({16: 17, 14: 12, 4: 9, 9: 8, 8: 8, 19: 8, 15: 7, 13: 6, 0: 6, 17: 6, 18: 5, 6: 5, 24: 4, 5: 4, 12: 3, 7: 3, 23: 3, 22: 3, 11: 3, 21: 2, 1: 1, 3: 1, 2: 1, 10: 1, 20: 1})\n"
     ]
    },
    {
     "name": "stderr",
     "output_type": "stream",
     "text": [
      "100%|██████████| 25/25 [00:00<00:00, 47.92it/s]\n"
     ]
    },
    {
     "name": "stdout",
     "output_type": "stream",
     "text": [
      "spent time for epoch 407 is 0.5272026062011719s\n",
      "epoch # : 407 gamma : 0.5 gen loss : 0.9780318140983582\n"
     ]
    },
    {
     "name": "stderr",
     "output_type": "stream",
     "text": [
      " 20%|██        | 5/25 [00:00<00:00, 49.66it/s]"
     ]
    },
    {
     "name": "stdout",
     "output_type": "stream",
     "text": [
      "Total number of generated modes is  24\n",
      "The number of high quality samples among 2500 samples is 132\n",
      "The mode dictionary is Counter({7: 15, 20: 15, 6: 15, 16: 13, 23: 9, 8: 7, 15: 7, 10: 6, 9: 6, 18: 5, 21: 5, 1: 4, 3: 4, 2: 4, 17: 2, 5: 2, 13: 2, 12: 2, 11: 2, 0: 2, 14: 2, 4: 1, 19: 1, 22: 1})\n"
     ]
    },
    {
     "name": "stderr",
     "output_type": "stream",
     "text": [
      "100%|██████████| 25/25 [00:00<00:00, 49.41it/s]\n"
     ]
    },
    {
     "name": "stdout",
     "output_type": "stream",
     "text": [
      "spent time for epoch 408 is 0.511744499206543s\n",
      "epoch # : 408 gamma : 0.5 gen loss : 1.0467560291290283\n"
     ]
    },
    {
     "name": "stderr",
     "output_type": "stream",
     "text": [
      " 20%|██        | 5/25 [00:00<00:00, 47.74it/s]"
     ]
    },
    {
     "name": "stdout",
     "output_type": "stream",
     "text": [
      "Total number of generated modes is  23\n",
      "The number of high quality samples among 2500 samples is 129\n",
      "The mode dictionary is Counter({21: 17, 1: 15, 7: 13, 6: 8, 0: 8, 19: 7, 4: 7, 2: 6, 13: 5, 8: 5, 17: 5, 18: 4, 22: 4, 11: 4, 16: 4, 9: 3, 10: 3, 3: 3, 12: 2, 15: 2, 23: 2, 5: 1, 20: 1})\n"
     ]
    },
    {
     "name": "stderr",
     "output_type": "stream",
     "text": [
      "100%|██████████| 25/25 [00:00<00:00, 49.24it/s]\n"
     ]
    },
    {
     "name": "stdout",
     "output_type": "stream",
     "text": [
      "spent time for epoch 409 is 0.5135018825531006s\n",
      "epoch # : 409 gamma : 0.5 gen loss : 1.0052210092544556\n"
     ]
    },
    {
     "name": "stderr",
     "output_type": "stream",
     "text": [
      " 24%|██▍       | 6/25 [00:00<00:00, 34.29it/s]"
     ]
    },
    {
     "name": "stdout",
     "output_type": "stream",
     "text": [
      "Total number of generated modes is  21\n",
      "The number of high quality samples among 2500 samples is 111\n",
      "The mode dictionary is Counter({20: 14, 7: 11, 6: 10, 21: 9, 5: 9, 16: 8, 10: 6, 8: 6, 15: 5, 17: 4, 22: 4, 9: 4, 18: 3, 19: 3, 3: 3, 13: 3, 11: 2, 23: 2, 14: 2, 12: 2, 24: 1})\n"
     ]
    },
    {
     "name": "stderr",
     "output_type": "stream",
     "text": [
      "100%|██████████| 25/25 [00:00<00:00, 49.71it/s]\n"
     ]
    },
    {
     "name": "stdout",
     "output_type": "stream",
     "text": [
      "spent time for epoch 410 is 0.5087685585021973s\n",
      "epoch # : 410 gamma : 0.5 gen loss : 1.0117088556289673\n"
     ]
    },
    {
     "name": "stderr",
     "output_type": "stream",
     "text": [
      " 20%|██        | 5/25 [00:00<00:00, 49.81it/s]"
     ]
    },
    {
     "name": "stdout",
     "output_type": "stream",
     "text": [
      "Total number of generated modes is  22\n",
      "The number of high quality samples among 2500 samples is 151\n",
      "The mode dictionary is Counter({5: 18, 0: 18, 23: 13, 6: 11, 8: 10, 18: 9, 16: 8, 7: 8, 10: 7, 11: 7, 12: 6, 1: 5, 9: 5, 22: 4, 13: 4, 20: 4, 3: 4, 15: 3, 21: 3, 17: 2, 19: 1, 24: 1})\n"
     ]
    },
    {
     "name": "stderr",
     "output_type": "stream",
     "text": [
      "100%|██████████| 25/25 [00:00<00:00, 49.09it/s]\n"
     ]
    },
    {
     "name": "stdout",
     "output_type": "stream",
     "text": [
      "spent time for epoch 411 is 0.5148251056671143s\n",
      "epoch # : 411 gamma : 0.5 gen loss : 0.9983111619949341\n"
     ]
    },
    {
     "name": "stderr",
     "output_type": "stream",
     "text": [
      " 16%|█▌        | 4/25 [00:00<00:00, 39.55it/s]"
     ]
    },
    {
     "name": "stdout",
     "output_type": "stream",
     "text": [
      "Total number of generated modes is  22\n",
      "The number of high quality samples among 2500 samples is 148\n",
      "The mode dictionary is Counter({10: 27, 21: 18, 5: 16, 16: 10, 6: 7, 22: 6, 13: 6, 8: 6, 24: 6, 11: 5, 20: 5, 12: 5, 17: 5, 15: 5, 23: 5, 9: 4, 7: 3, 18: 3, 19: 2, 2: 2, 3: 1, 0: 1})\n"
     ]
    },
    {
     "name": "stderr",
     "output_type": "stream",
     "text": [
      "100%|██████████| 25/25 [00:00<00:00, 48.07it/s]\n"
     ]
    },
    {
     "name": "stdout",
     "output_type": "stream",
     "text": [
      "spent time for epoch 412 is 0.5256636142730713s\n",
      "epoch # : 412 gamma : 0.5 gen loss : 0.9994207620620728\n"
     ]
    },
    {
     "name": "stderr",
     "output_type": "stream",
     "text": [
      " 20%|██        | 5/25 [00:00<00:00, 48.57it/s]"
     ]
    },
    {
     "name": "stdout",
     "output_type": "stream",
     "text": [
      "Total number of generated modes is  24\n",
      "The number of high quality samples among 2500 samples is 146\n",
      "The mode dictionary is Counter({21: 19, 7: 11, 3: 10, 16: 10, 1: 10, 2: 8, 17: 8, 10: 8, 15: 7, 0: 7, 12: 6, 6: 6, 5: 6, 4: 6, 24: 4, 14: 4, 13: 4, 22: 3, 8: 2, 18: 2, 9: 2, 11: 1, 19: 1, 20: 1})\n"
     ]
    },
    {
     "name": "stderr",
     "output_type": "stream",
     "text": [
      "100%|██████████| 25/25 [00:00<00:00, 49.02it/s]\n"
     ]
    },
    {
     "name": "stdout",
     "output_type": "stream",
     "text": [
      "spent time for epoch 413 is 0.5155768394470215s\n",
      "epoch # : 413 gamma : 0.5 gen loss : 1.0132339000701904\n"
     ]
    },
    {
     "name": "stderr",
     "output_type": "stream",
     "text": [
      " 20%|██        | 5/25 [00:00<00:00, 48.94it/s]"
     ]
    },
    {
     "name": "stdout",
     "output_type": "stream",
     "text": [
      "Total number of generated modes is  22\n",
      "The number of high quality samples among 2500 samples is 151\n",
      "The mode dictionary is Counter({15: 23, 10: 16, 8: 13, 20: 13, 21: 12, 7: 10, 16: 10, 6: 9, 17: 8, 11: 7, 13: 5, 18: 4, 23: 3, 24: 3, 9: 2, 12: 2, 22: 2, 0: 2, 19: 2, 4: 2, 14: 2, 2: 1})\n"
     ]
    },
    {
     "name": "stderr",
     "output_type": "stream",
     "text": [
      "100%|██████████| 25/25 [00:00<00:00, 49.00it/s]\n"
     ]
    },
    {
     "name": "stdout",
     "output_type": "stream",
     "text": [
      "spent time for epoch 414 is 0.5161283016204834s\n",
      "epoch # : 414 gamma : 0.5 gen loss : 1.012614369392395\n"
     ]
    },
    {
     "name": "stderr",
     "output_type": "stream",
     "text": [
      "  4%|▍         | 1/25 [00:00<00:03,  7.37it/s]"
     ]
    },
    {
     "name": "stdout",
     "output_type": "stream",
     "text": [
      "Total number of generated modes is  23\n",
      "The number of high quality samples among 2500 samples is 155\n",
      "The mode dictionary is Counter({8: 15, 7: 15, 22: 15, 21: 13, 16: 10, 17: 10, 0: 10, 6: 10, 12: 8, 23: 7, 9: 6, 11: 5, 1: 5, 18: 5, 14: 4, 4: 4, 13: 3, 24: 3, 2: 2, 19: 2, 20: 1, 15: 1, 3: 1})\n"
     ]
    },
    {
     "name": "stderr",
     "output_type": "stream",
     "text": [
      "100%|██████████| 25/25 [00:00<00:00, 44.10it/s]\n"
     ]
    },
    {
     "name": "stdout",
     "output_type": "stream",
     "text": [
      "spent time for epoch 415 is 0.5727202892303467s\n",
      "epoch # : 415 gamma : 0.5 gen loss : 1.0263079404830933\n"
     ]
    },
    {
     "name": "stderr",
     "output_type": "stream",
     "text": [
      " 16%|█▌        | 4/25 [00:00<00:00, 38.54it/s]"
     ]
    },
    {
     "name": "stdout",
     "output_type": "stream",
     "text": [
      "Total number of generated modes is  24\n",
      "The number of high quality samples among 2500 samples is 144\n",
      "The mode dictionary is Counter({7: 15, 6: 14, 16: 11, 21: 11, 17: 10, 15: 8, 22: 7, 13: 7, 10: 7, 23: 7, 5: 6, 20: 5, 12: 5, 1: 5, 3: 5, 24: 4, 2: 4, 11: 4, 18: 3, 19: 2, 0: 1, 4: 1, 14: 1, 8: 1})\n"
     ]
    },
    {
     "name": "stderr",
     "output_type": "stream",
     "text": [
      "100%|██████████| 25/25 [00:00<00:00, 45.10it/s]\n"
     ]
    },
    {
     "name": "stdout",
     "output_type": "stream",
     "text": [
      "spent time for epoch 416 is 0.5602796077728271s\n",
      "epoch # : 416 gamma : 0.5 gen loss : 1.0322952270507812\n"
     ]
    },
    {
     "name": "stderr",
     "output_type": "stream",
     "text": [
      " 20%|██        | 5/25 [00:00<00:00, 48.90it/s]"
     ]
    },
    {
     "name": "stdout",
     "output_type": "stream",
     "text": [
      "Total number of generated modes is  22\n",
      "The number of high quality samples among 2500 samples is 133\n",
      "The mode dictionary is Counter({20: 18, 21: 12, 23: 12, 7: 11, 15: 10, 16: 9, 22: 8, 10: 7, 11: 6, 9: 6, 24: 6, 17: 5, 13: 3, 18: 3, 14: 3, 0: 3, 4: 3, 8: 2, 12: 2, 2: 2, 1: 1, 6: 1})\n"
     ]
    },
    {
     "name": "stderr",
     "output_type": "stream",
     "text": [
      "100%|██████████| 25/25 [00:00<00:00, 48.82it/s]\n"
     ]
    },
    {
     "name": "stdout",
     "output_type": "stream",
     "text": [
      "spent time for epoch 417 is 0.5179495811462402s\n",
      "epoch # : 417 gamma : 0.5 gen loss : 1.0137789249420166\n"
     ]
    },
    {
     "name": "stderr",
     "output_type": "stream",
     "text": [
      " 20%|██        | 5/25 [00:00<00:00, 48.51it/s]"
     ]
    },
    {
     "name": "stdout",
     "output_type": "stream",
     "text": [
      "Total number of generated modes is  22\n",
      "The number of high quality samples among 2500 samples is 138\n",
      "The mode dictionary is Counter({16: 20, 3: 13, 0: 10, 6: 10, 4: 9, 13: 9, 1: 8, 21: 8, 2: 8, 17: 7, 11: 5, 7: 5, 18: 5, 8: 4, 23: 3, 10: 3, 20: 3, 14: 2, 12: 2, 22: 2, 15: 1, 24: 1})\n"
     ]
    },
    {
     "name": "stderr",
     "output_type": "stream",
     "text": [
      "100%|██████████| 25/25 [00:00<00:00, 48.45it/s]\n"
     ]
    },
    {
     "name": "stdout",
     "output_type": "stream",
     "text": [
      "spent time for epoch 418 is 0.5217037200927734s\n",
      "epoch # : 418 gamma : 0.5 gen loss : 0.9906026124954224\n"
     ]
    },
    {
     "name": "stderr",
     "output_type": "stream",
     "text": [
      " 20%|██        | 5/25 [00:00<00:00, 49.14it/s]"
     ]
    },
    {
     "name": "stdout",
     "output_type": "stream",
     "text": [
      "Total number of generated modes is  23\n",
      "The number of high quality samples among 2500 samples is 157\n",
      "The mode dictionary is Counter({22: 19, 8: 16, 16: 13, 17: 12, 6: 11, 20: 11, 21: 10, 7: 9, 12: 8, 1: 7, 23: 7, 3: 6, 11: 5, 13: 5, 5: 4, 4: 3, 0: 2, 24: 2, 18: 2, 15: 2, 9: 1, 14: 1, 10: 1})\n"
     ]
    },
    {
     "name": "stderr",
     "output_type": "stream",
     "text": [
      "100%|██████████| 25/25 [00:00<00:00, 49.45it/s]\n"
     ]
    },
    {
     "name": "stdout",
     "output_type": "stream",
     "text": [
      "spent time for epoch 419 is 0.5111560821533203s\n",
      "epoch # : 419 gamma : 0.5 gen loss : 1.0016988515853882\n"
     ]
    },
    {
     "name": "stderr",
     "output_type": "stream",
     "text": [
      " 20%|██        | 5/25 [00:00<00:00, 49.30it/s]"
     ]
    },
    {
     "name": "stdout",
     "output_type": "stream",
     "text": [
      "Total number of generated modes is  24\n",
      "The number of high quality samples among 2500 samples is 131\n",
      "The mode dictionary is Counter({10: 13, 8: 11, 16: 11, 7: 11, 13: 10, 0: 8, 2: 7, 1: 7, 11: 6, 21: 6, 3: 6, 6: 6, 23: 4, 12: 4, 14: 3, 4: 3, 18: 3, 17: 3, 20: 2, 5: 2, 24: 2, 19: 1, 22: 1, 15: 1})\n"
     ]
    },
    {
     "name": "stderr",
     "output_type": "stream",
     "text": [
      "100%|██████████| 25/25 [00:00<00:00, 49.48it/s]\n"
     ]
    },
    {
     "name": "stdout",
     "output_type": "stream",
     "text": [
      "spent time for epoch 420 is 0.5109097957611084s\n",
      "epoch # : 420 gamma : 0.5 gen loss : 1.0062923431396484\n"
     ]
    },
    {
     "name": "stderr",
     "output_type": "stream",
     "text": [
      " 12%|█▏        | 3/25 [00:00<00:00, 28.47it/s]"
     ]
    },
    {
     "name": "stdout",
     "output_type": "stream",
     "text": [
      "Total number of generated modes is  24\n",
      "The number of high quality samples among 2500 samples is 172\n",
      "The mode dictionary is Counter({20: 14, 2: 13, 15: 13, 21: 11, 3: 11, 1: 10, 7: 10, 11: 10, 10: 9, 24: 8, 13: 8, 19: 7, 6: 7, 0: 7, 8: 6, 18: 6, 4: 6, 12: 5, 9: 3, 16: 2, 22: 2, 14: 2, 17: 1, 23: 1})\n"
     ]
    },
    {
     "name": "stderr",
     "output_type": "stream",
     "text": [
      "100%|██████████| 25/25 [00:00<00:00, 46.36it/s]\n"
     ]
    },
    {
     "name": "stdout",
     "output_type": "stream",
     "text": [
      "spent time for epoch 421 is 0.545203447341919s\n",
      "epoch # : 421 gamma : 0.5 gen loss : 1.022790551185608\n"
     ]
    },
    {
     "name": "stderr",
     "output_type": "stream",
     "text": [
      " 24%|██▍       | 6/25 [00:00<00:00, 34.11it/s]"
     ]
    },
    {
     "name": "stdout",
     "output_type": "stream",
     "text": [
      "Total number of generated modes is  24\n",
      "The number of high quality samples among 2500 samples is 170\n",
      "The mode dictionary is Counter({0: 24, 6: 16, 2: 14, 16: 13, 4: 10, 3: 9, 7: 9, 1: 8, 15: 7, 20: 7, 17: 7, 13: 6, 19: 6, 8: 5, 14: 5, 11: 5, 21: 4, 5: 4, 23: 3, 22: 3, 9: 2, 12: 1, 24: 1, 18: 1})\n"
     ]
    },
    {
     "name": "stderr",
     "output_type": "stream",
     "text": [
      "100%|██████████| 25/25 [00:00<00:00, 49.39it/s]\n"
     ]
    },
    {
     "name": "stdout",
     "output_type": "stream",
     "text": [
      "spent time for epoch 422 is 0.5121088027954102s\n",
      "epoch # : 422 gamma : 0.5 gen loss : 0.9611360430717468\n"
     ]
    },
    {
     "name": "stderr",
     "output_type": "stream",
     "text": [
      " 20%|██        | 5/25 [00:00<00:00, 49.59it/s]"
     ]
    },
    {
     "name": "stdout",
     "output_type": "stream",
     "text": [
      "Total number of generated modes is  24\n",
      "The number of high quality samples among 2500 samples is 128\n",
      "The mode dictionary is Counter({10: 26, 16: 12, 21: 12, 5: 8, 7: 8, 13: 7, 3: 7, 18: 6, 15: 6, 8: 5, 4: 4, 12: 4, 11: 4, 17: 4, 1: 3, 6: 3, 19: 2, 9: 1, 20: 1, 0: 1, 24: 1, 14: 1, 23: 1, 22: 1})\n"
     ]
    },
    {
     "name": "stderr",
     "output_type": "stream",
     "text": [
      "100%|██████████| 25/25 [00:00<00:00, 49.40it/s]\n"
     ]
    },
    {
     "name": "stdout",
     "output_type": "stream",
     "text": [
      "spent time for epoch 423 is 0.5118768215179443s\n",
      "epoch # : 423 gamma : 0.5 gen loss : 1.0289949178695679\n"
     ]
    },
    {
     "name": "stderr",
     "output_type": "stream",
     "text": [
      " 20%|██        | 5/25 [00:00<00:00, 49.57it/s]"
     ]
    },
    {
     "name": "stdout",
     "output_type": "stream",
     "text": [
      "Total number of generated modes is  25\n",
      "The number of high quality samples among 2500 samples is 171\n",
      "The mode dictionary is Counter({1: 15, 20: 14, 7: 13, 16: 13, 3: 12, 2: 10, 8: 10, 4: 9, 19: 8, 15: 8, 9: 7, 0: 7, 11: 6, 14: 6, 21: 5, 6: 5, 17: 4, 22: 4, 24: 3, 13: 3, 10: 3, 23: 2, 18: 2, 12: 1, 5: 1})\n"
     ]
    },
    {
     "name": "stderr",
     "output_type": "stream",
     "text": [
      "100%|██████████| 25/25 [00:00<00:00, 48.94it/s]\n"
     ]
    },
    {
     "name": "stdout",
     "output_type": "stream",
     "text": [
      "spent time for epoch 424 is 0.51658034324646s\n",
      "epoch # : 424 gamma : 0.5 gen loss : 1.0069842338562012\n"
     ]
    },
    {
     "name": "stderr",
     "output_type": "stream",
     "text": [
      " 20%|██        | 5/25 [00:00<00:00, 49.14it/s]"
     ]
    },
    {
     "name": "stdout",
     "output_type": "stream",
     "text": [
      "Total number of generated modes is  21\n",
      "The number of high quality samples among 2500 samples is 126\n",
      "The mode dictionary is Counter({5: 16, 19: 13, 24: 12, 7: 11, 14: 9, 8: 8, 21: 8, 16: 8, 9: 7, 18: 6, 11: 4, 12: 4, 1: 4, 4: 3, 13: 3, 2: 2, 6: 2, 22: 2, 23: 2, 0: 1, 17: 1})\n"
     ]
    },
    {
     "name": "stderr",
     "output_type": "stream",
     "text": [
      "100%|██████████| 25/25 [00:00<00:00, 48.73it/s]\n"
     ]
    },
    {
     "name": "stdout",
     "output_type": "stream",
     "text": [
      "spent time for epoch 425 is 0.5188472270965576s\n",
      "epoch # : 425 gamma : 0.5 gen loss : 1.0024476051330566\n"
     ]
    },
    {
     "name": "stderr",
     "output_type": "stream",
     "text": [
      "  4%|▍         | 1/25 [00:00<00:03,  7.25it/s]"
     ]
    },
    {
     "name": "stdout",
     "output_type": "stream",
     "text": [
      "Total number of generated modes is  23\n",
      "The number of high quality samples among 2500 samples is 206\n",
      "The mode dictionary is Counter({22: 32, 10: 22, 7: 14, 16: 14, 2: 12, 17: 10, 8: 9, 11: 9, 3: 9, 12: 8, 15: 8, 6: 8, 1: 8, 20: 8, 5: 8, 0: 6, 23: 5, 24: 4, 13: 4, 21: 3, 18: 3, 19: 1, 14: 1})\n"
     ]
    },
    {
     "name": "stderr",
     "output_type": "stream",
     "text": [
      "100%|██████████| 25/25 [00:00<00:00, 43.45it/s]\n"
     ]
    },
    {
     "name": "stdout",
     "output_type": "stream",
     "text": [
      "spent time for epoch 426 is 0.5809252262115479s\n",
      "epoch # : 426 gamma : 0.5 gen loss : 1.0152541399002075\n"
     ]
    },
    {
     "name": "stderr",
     "output_type": "stream",
     "text": [
      " 20%|██        | 5/25 [00:00<00:00, 48.64it/s]"
     ]
    },
    {
     "name": "stdout",
     "output_type": "stream",
     "text": [
      "Total number of generated modes is  24\n",
      "The number of high quality samples among 2500 samples is 155\n",
      "The mode dictionary is Counter({7: 16, 16: 14, 14: 12, 22: 12, 19: 10, 24: 9, 9: 9, 8: 8, 15: 8, 11: 8, 4: 5, 2: 5, 20: 4, 12: 4, 13: 4, 6: 4, 3: 4, 17: 4, 21: 3, 1: 3, 23: 3, 5: 3, 0: 2, 18: 1})\n"
     ]
    },
    {
     "name": "stderr",
     "output_type": "stream",
     "text": [
      "100%|██████████| 25/25 [00:00<00:00, 48.48it/s]\n"
     ]
    },
    {
     "name": "stdout",
     "output_type": "stream",
     "text": [
      "spent time for epoch 427 is 0.5215451717376709s\n",
      "epoch # : 427 gamma : 0.5 gen loss : 0.9763883948326111\n"
     ]
    },
    {
     "name": "stderr",
     "output_type": "stream",
     "text": [
      " 20%|██        | 5/25 [00:00<00:00, 48.44it/s]"
     ]
    },
    {
     "name": "stdout",
     "output_type": "stream",
     "text": [
      "Total number of generated modes is  25\n",
      "The number of high quality samples among 2500 samples is 239\n",
      "The mode dictionary is Counter({0: 31, 10: 28, 5: 26, 15: 16, 4: 15, 21: 15, 8: 13, 1: 12, 2: 12, 20: 11, 7: 8, 16: 7, 11: 7, 6: 6, 17: 6, 23: 6, 13: 5, 14: 3, 18: 3, 9: 2, 3: 2, 22: 2, 24: 1, 19: 1, 12: 1})\n"
     ]
    },
    {
     "name": "stderr",
     "output_type": "stream",
     "text": [
      "100%|██████████| 25/25 [00:00<00:00, 48.10it/s]\n"
     ]
    },
    {
     "name": "stdout",
     "output_type": "stream",
     "text": [
      "spent time for epoch 428 is 0.5256891250610352s\n",
      "epoch # : 428 gamma : 0.5 gen loss : 0.9986848831176758\n"
     ]
    },
    {
     "name": "stderr",
     "output_type": "stream",
     "text": [
      " 20%|██        | 5/25 [00:00<00:00, 49.86it/s]"
     ]
    },
    {
     "name": "stdout",
     "output_type": "stream",
     "text": [
      "Total number of generated modes is  23\n",
      "The number of high quality samples among 2500 samples is 131\n",
      "The mode dictionary is Counter({14: 12, 19: 12, 16: 11, 1: 11, 9: 9, 6: 7, 15: 7, 3: 6, 17: 6, 7: 6, 21: 6, 24: 6, 0: 6, 2: 4, 8: 4, 23: 4, 13: 3, 10: 2, 4: 2, 18: 2, 22: 2, 11: 2, 12: 1})\n"
     ]
    },
    {
     "name": "stderr",
     "output_type": "stream",
     "text": [
      "100%|██████████| 25/25 [00:00<00:00, 49.76it/s]\n"
     ]
    },
    {
     "name": "stdout",
     "output_type": "stream",
     "text": [
      "spent time for epoch 429 is 0.5079734325408936s\n",
      "epoch # : 429 gamma : 0.5 gen loss : 1.0299113988876343\n"
     ]
    },
    {
     "name": "stderr",
     "output_type": "stream",
     "text": [
      " 20%|██        | 5/25 [00:00<00:00, 49.80it/s]"
     ]
    },
    {
     "name": "stdout",
     "output_type": "stream",
     "text": [
      "Total number of generated modes is  22\n",
      "The number of high quality samples among 2500 samples is 138\n",
      "The mode dictionary is Counter({5: 23, 16: 14, 6: 10, 24: 10, 11: 10, 18: 9, 7: 8, 22: 6, 21: 6, 8: 6, 23: 5, 13: 5, 20: 5, 10: 4, 12: 3, 1: 3, 15: 3, 14: 2, 19: 2, 3: 2, 4: 1, 9: 1})\n"
     ]
    },
    {
     "name": "stderr",
     "output_type": "stream",
     "text": [
      "100%|██████████| 25/25 [00:00<00:00, 48.86it/s]\n"
     ]
    },
    {
     "name": "stdout",
     "output_type": "stream",
     "text": [
      "spent time for epoch 430 is 0.5173313617706299s\n",
      "epoch # : 430 gamma : 0.5 gen loss : 0.984318196773529\n"
     ]
    },
    {
     "name": "stderr",
     "output_type": "stream",
     "text": [
      " 20%|██        | 5/25 [00:00<00:00, 49.03it/s]"
     ]
    },
    {
     "name": "stdout",
     "output_type": "stream",
     "text": [
      "Total number of generated modes is  20\n",
      "The number of high quality samples among 2500 samples is 150\n",
      "The mode dictionary is Counter({20: 30, 21: 21, 16: 14, 11: 11, 6: 9, 13: 8, 5: 8, 22: 6, 8: 5, 15: 5, 17: 5, 12: 5, 7: 4, 10: 4, 9: 3, 1: 3, 14: 3, 18: 3, 23: 2, 0: 1})\n"
     ]
    },
    {
     "name": "stderr",
     "output_type": "stream",
     "text": [
      "100%|██████████| 25/25 [00:00<00:00, 49.17it/s]\n"
     ]
    },
    {
     "name": "stdout",
     "output_type": "stream",
     "text": [
      "spent time for epoch 431 is 0.5143547058105469s\n",
      "epoch # : 431 gamma : 0.5 gen loss : 0.9752479195594788\n"
     ]
    },
    {
     "name": "stderr",
     "output_type": "stream",
     "text": [
      " 20%|██        | 5/25 [00:00<00:00, 48.01it/s]"
     ]
    },
    {
     "name": "stdout",
     "output_type": "stream",
     "text": [
      "Total number of generated modes is  23\n",
      "The number of high quality samples among 2500 samples is 136\n",
      "The mode dictionary is Counter({15: 13, 2: 13, 16: 11, 8: 10, 5: 10, 1: 10, 3: 7, 6: 6, 0: 6, 13: 6, 7: 6, 10: 5, 12: 5, 23: 5, 20: 4, 11: 4, 21: 3, 24: 3, 14: 2, 4: 2, 9: 2, 17: 2, 18: 1})\n"
     ]
    },
    {
     "name": "stderr",
     "output_type": "stream",
     "text": [
      "100%|██████████| 25/25 [00:00<00:00, 48.42it/s]\n"
     ]
    },
    {
     "name": "stdout",
     "output_type": "stream",
     "text": [
      "spent time for epoch 432 is 0.5221471786499023s\n",
      "epoch # : 432 gamma : 0.5 gen loss : 0.9838369488716125\n"
     ]
    },
    {
     "name": "stderr",
     "output_type": "stream",
     "text": [
      " 24%|██▍       | 6/25 [00:00<00:00, 34.48it/s]"
     ]
    },
    {
     "name": "stdout",
     "output_type": "stream",
     "text": [
      "Total number of generated modes is  25\n",
      "The number of high quality samples among 2500 samples is 182\n",
      "The mode dictionary is Counter({22: 44, 7: 15, 16: 13, 23: 11, 17: 11, 14: 9, 6: 9, 8: 8, 4: 8, 5: 8, 21: 7, 18: 6, 11: 5, 15: 5, 9: 4, 3: 3, 24: 3, 13: 3, 1: 2, 12: 2, 19: 2, 20: 1, 2: 1, 10: 1, 0: 1})\n"
     ]
    },
    {
     "name": "stderr",
     "output_type": "stream",
     "text": [
      "100%|██████████| 25/25 [00:00<00:00, 50.03it/s]\n"
     ]
    },
    {
     "name": "stdout",
     "output_type": "stream",
     "text": [
      "spent time for epoch 433 is 0.5054788589477539s\n",
      "epoch # : 433 gamma : 0.5 gen loss : 1.0026991367340088\n"
     ]
    },
    {
     "name": "stderr",
     "output_type": "stream",
     "text": [
      " 24%|██▍       | 6/25 [00:00<00:00, 34.47it/s]"
     ]
    },
    {
     "name": "stdout",
     "output_type": "stream",
     "text": [
      "Total number of generated modes is  22\n",
      "The number of high quality samples among 2500 samples is 177\n",
      "The mode dictionary is Counter({15: 20, 5: 19, 20: 14, 6: 13, 16: 11, 7: 11, 21: 11, 22: 10, 13: 10, 1: 7, 10: 7, 11: 7, 17: 7, 8: 6, 24: 5, 3: 4, 9: 3, 12: 3, 18: 3, 0: 2, 23: 2, 4: 2})\n"
     ]
    },
    {
     "name": "stderr",
     "output_type": "stream",
     "text": [
      "100%|██████████| 25/25 [00:00<00:00, 50.09it/s]\n"
     ]
    },
    {
     "name": "stdout",
     "output_type": "stream",
     "text": [
      "spent time for epoch 434 is 0.5046968460083008s\n",
      "epoch # : 434 gamma : 0.5 gen loss : 0.9746140241622925\n"
     ]
    },
    {
     "name": "stderr",
     "output_type": "stream",
     "text": [
      " 24%|██▍       | 6/25 [00:00<00:00, 34.63it/s]"
     ]
    },
    {
     "name": "stdout",
     "output_type": "stream",
     "text": [
      "Total number of generated modes is  24\n",
      "The number of high quality samples among 2500 samples is 152\n",
      "The mode dictionary is Counter({0: 25, 22: 11, 11: 10, 23: 10, 24: 8, 1: 8, 14: 8, 6: 8, 7: 8, 21: 7, 16: 7, 20: 6, 19: 6, 13: 5, 15: 5, 2: 5, 18: 4, 17: 3, 8: 2, 5: 2, 10: 1, 3: 1, 4: 1, 9: 1})\n"
     ]
    },
    {
     "name": "stderr",
     "output_type": "stream",
     "text": [
      "100%|██████████| 25/25 [00:00<00:00, 49.50it/s]\n"
     ]
    },
    {
     "name": "stdout",
     "output_type": "stream",
     "text": [
      "spent time for epoch 435 is 0.5107681751251221s\n",
      "epoch # : 435 gamma : 0.5 gen loss : 1.0271096229553223\n"
     ]
    },
    {
     "name": "stderr",
     "output_type": "stream",
     "text": [
      " 24%|██▍       | 6/25 [00:00<00:00, 34.42it/s]"
     ]
    },
    {
     "name": "stdout",
     "output_type": "stream",
     "text": [
      "Total number of generated modes is  23\n",
      "The number of high quality samples among 2500 samples is 197\n",
      "The mode dictionary is Counter({5: 25, 7: 16, 4: 15, 16: 13, 15: 13, 14: 12, 22: 10, 21: 9, 8: 8, 9: 8, 11: 8, 12: 8, 6: 7, 10: 7, 2: 7, 3: 7, 1: 6, 17: 5, 0: 4, 18: 3, 23: 3, 13: 2, 20: 1})\n"
     ]
    },
    {
     "name": "stderr",
     "output_type": "stream",
     "text": [
      "100%|██████████| 25/25 [00:00<00:00, 49.93it/s]\n"
     ]
    },
    {
     "name": "stdout",
     "output_type": "stream",
     "text": [
      "spent time for epoch 436 is 0.5062897205352783s\n",
      "epoch # : 436 gamma : 0.5 gen loss : 0.997516930103302\n"
     ]
    },
    {
     "name": "stderr",
     "output_type": "stream",
     "text": [
      "  4%|▍         | 1/25 [00:00<00:03,  7.41it/s]"
     ]
    },
    {
     "name": "stdout",
     "output_type": "stream",
     "text": [
      "Total number of generated modes is  22\n",
      "The number of high quality samples among 2500 samples is 218\n",
      "The mode dictionary is Counter({0: 36, 10: 33, 7: 16, 15: 16, 8: 15, 1: 11, 11: 11, 3: 10, 16: 10, 2: 7, 6: 7, 21: 6, 4: 5, 12: 5, 5: 5, 20: 5, 18: 4, 22: 4, 17: 4, 13: 3, 23: 3, 14: 2})\n"
     ]
    },
    {
     "name": "stderr",
     "output_type": "stream",
     "text": [
      "100%|██████████| 25/25 [00:00<00:00, 44.15it/s]\n"
     ]
    },
    {
     "name": "stdout",
     "output_type": "stream",
     "text": [
      "spent time for epoch 437 is 0.572028636932373s\n",
      "epoch # : 437 gamma : 0.5 gen loss : 1.0135784149169922\n"
     ]
    },
    {
     "name": "stderr",
     "output_type": "stream",
     "text": [
      " 20%|██        | 5/25 [00:00<00:00, 48.41it/s]"
     ]
    },
    {
     "name": "stdout",
     "output_type": "stream",
     "text": [
      "Total number of generated modes is  23\n",
      "The number of high quality samples among 2500 samples is 150\n",
      "The mode dictionary is Counter({0: 14, 1: 14, 23: 14, 7: 12, 16: 12, 6: 9, 8: 8, 15: 7, 2: 7, 10: 7, 20: 6, 24: 6, 22: 5, 17: 4, 3: 4, 18: 4, 14: 4, 11: 3, 5: 3, 12: 2, 19: 2, 9: 2, 21: 1})\n"
     ]
    },
    {
     "name": "stderr",
     "output_type": "stream",
     "text": [
      "100%|██████████| 25/25 [00:00<00:00, 48.76it/s]\n"
     ]
    },
    {
     "name": "stdout",
     "output_type": "stream",
     "text": [
      "spent time for epoch 438 is 0.5184926986694336s\n",
      "epoch # : 438 gamma : 0.5 gen loss : 1.0033326148986816\n"
     ]
    },
    {
     "name": "stderr",
     "output_type": "stream",
     "text": [
      " 20%|██        | 5/25 [00:00<00:00, 48.99it/s]"
     ]
    },
    {
     "name": "stdout",
     "output_type": "stream",
     "text": [
      "Total number of generated modes is  24\n",
      "The number of high quality samples among 2500 samples is 139\n",
      "The mode dictionary is Counter({5: 29, 6: 13, 15: 10, 16: 8, 11: 8, 10: 7, 9: 7, 19: 6, 7: 6, 21: 6, 3: 5, 17: 4, 8: 4, 23: 4, 14: 4, 18: 3, 12: 3, 2: 3, 22: 2, 13: 2, 1: 2, 24: 1, 4: 1, 0: 1})\n"
     ]
    },
    {
     "name": "stderr",
     "output_type": "stream",
     "text": [
      "100%|██████████| 25/25 [00:00<00:00, 48.63it/s]\n"
     ]
    },
    {
     "name": "stdout",
     "output_type": "stream",
     "text": [
      "spent time for epoch 439 is 0.5203614234924316s\n",
      "epoch # : 439 gamma : 0.5 gen loss : 1.0202726125717163\n"
     ]
    },
    {
     "name": "stderr",
     "output_type": "stream",
     "text": [
      " 20%|██        | 5/25 [00:00<00:00, 49.19it/s]"
     ]
    },
    {
     "name": "stdout",
     "output_type": "stream",
     "text": [
      "Total number of generated modes is  22\n",
      "The number of high quality samples among 2500 samples is 168\n",
      "The mode dictionary is Counter({7: 18, 6: 17, 9: 13, 16: 12, 14: 12, 2: 10, 11: 10, 1: 8, 3: 8, 22: 7, 15: 7, 4: 7, 20: 6, 5: 6, 19: 6, 13: 5, 8: 4, 17: 3, 18: 3, 21: 3, 10: 2, 12: 1})\n"
     ]
    },
    {
     "name": "stderr",
     "output_type": "stream",
     "text": [
      "100%|██████████| 25/25 [00:00<00:00, 48.85it/s]\n"
     ]
    },
    {
     "name": "stdout",
     "output_type": "stream",
     "text": [
      "spent time for epoch 440 is 0.5174179077148438s\n",
      "epoch # : 440 gamma : 0.5 gen loss : 1.0283008813858032\n"
     ]
    },
    {
     "name": "stderr",
     "output_type": "stream",
     "text": [
      " 20%|██        | 5/25 [00:00<00:00, 49.41it/s]"
     ]
    },
    {
     "name": "stdout",
     "output_type": "stream",
     "text": [
      "Total number of generated modes is  25\n",
      "The number of high quality samples among 2500 samples is 200\n",
      "The mode dictionary is Counter({7: 19, 9: 14, 24: 12, 16: 12, 5: 11, 22: 10, 23: 10, 19: 9, 2: 9, 1: 9, 0: 9, 8: 9, 14: 8, 11: 8, 6: 8, 12: 6, 21: 6, 20: 6, 4: 6, 3: 6, 17: 4, 18: 4, 13: 3, 15: 1, 10: 1})\n"
     ]
    },
    {
     "name": "stderr",
     "output_type": "stream",
     "text": [
      "100%|██████████| 25/25 [00:00<00:00, 48.71it/s]\n"
     ]
    },
    {
     "name": "stdout",
     "output_type": "stream",
     "text": [
      "spent time for epoch 441 is 0.5189907550811768s\n",
      "epoch # : 441 gamma : 0.5 gen loss : 0.9573081135749817\n"
     ]
    },
    {
     "name": "stderr",
     "output_type": "stream",
     "text": [
      " 20%|██        | 5/25 [00:00<00:00, 48.23it/s]"
     ]
    },
    {
     "name": "stdout",
     "output_type": "stream",
     "text": [
      "Total number of generated modes is  25\n",
      "The number of high quality samples among 2500 samples is 157\n",
      "The mode dictionary is Counter({20: 18, 16: 13, 10: 12, 5: 11, 8: 11, 23: 9, 13: 8, 7: 6, 12: 6, 1: 6, 3: 6, 14: 6, 4: 6, 22: 5, 17: 5, 2: 4, 9: 4, 18: 4, 0: 4, 6: 4, 19: 3, 21: 2, 15: 2, 24: 1, 11: 1})\n"
     ]
    },
    {
     "name": "stderr",
     "output_type": "stream",
     "text": [
      "100%|██████████| 25/25 [00:00<00:00, 48.47it/s]\n"
     ]
    },
    {
     "name": "stdout",
     "output_type": "stream",
     "text": [
      "spent time for epoch 442 is 0.5230047702789307s\n",
      "epoch # : 442 gamma : 0.5 gen loss : 0.9757020473480225\n"
     ]
    },
    {
     "name": "stderr",
     "output_type": "stream",
     "text": [
      "  4%|▍         | 1/25 [00:00<00:02,  8.90it/s]"
     ]
    },
    {
     "name": "stdout",
     "output_type": "stream",
     "text": [
      "Total number of generated modes is  24\n",
      "The number of high quality samples among 2500 samples is 163\n",
      "The mode dictionary is Counter({21: 45, 5: 18, 16: 12, 23: 7, 22: 7, 14: 7, 19: 6, 3: 6, 13: 6, 7: 5, 6: 5, 11: 5, 0: 4, 18: 4, 4: 4, 20: 4, 17: 3, 12: 3, 8: 3, 24: 2, 10: 2, 2: 2, 1: 2, 9: 1})\n"
     ]
    },
    {
     "name": "stderr",
     "output_type": "stream",
     "text": [
      "100%|██████████| 25/25 [00:00<00:00, 45.23it/s]\n"
     ]
    },
    {
     "name": "stdout",
     "output_type": "stream",
     "text": [
      "spent time for epoch 443 is 0.5587127208709717s\n",
      "epoch # : 443 gamma : 0.5 gen loss : 1.0119123458862305\n"
     ]
    },
    {
     "name": "stderr",
     "output_type": "stream",
     "text": [
      " 16%|█▌        | 4/25 [00:00<00:00, 39.33it/s]"
     ]
    },
    {
     "name": "stdout",
     "output_type": "stream",
     "text": [
      "Total number of generated modes is  23\n",
      "The number of high quality samples among 2500 samples is 151\n",
      "The mode dictionary is Counter({0: 23, 7: 12, 6: 11, 8: 10, 15: 10, 16: 9, 5: 8, 23: 8, 1: 8, 20: 8, 11: 7, 22: 7, 18: 5, 10: 4, 21: 4, 12: 4, 9: 3, 24: 3, 17: 2, 13: 2, 4: 1, 14: 1, 2: 1})\n"
     ]
    },
    {
     "name": "stderr",
     "output_type": "stream",
     "text": [
      "100%|██████████| 25/25 [00:00<00:00, 46.21it/s]\n"
     ]
    },
    {
     "name": "stdout",
     "output_type": "stream",
     "text": [
      "spent time for epoch 444 is 0.5492386817932129s\n",
      "epoch # : 444 gamma : 0.5 gen loss : 0.9643580317497253\n"
     ]
    },
    {
     "name": "stderr",
     "output_type": "stream",
     "text": [
      "  4%|▍         | 1/25 [00:00<00:02,  9.61it/s]"
     ]
    },
    {
     "name": "stdout",
     "output_type": "stream",
     "text": [
      "Total number of generated modes is  23\n",
      "The number of high quality samples among 2500 samples is 139\n",
      "The mode dictionary is Counter({7: 16, 6: 14, 18: 10, 2: 9, 17: 9, 1: 8, 8: 8, 5: 8, 11: 7, 10: 7, 13: 6, 15: 6, 20: 5, 12: 5, 16: 4, 22: 4, 23: 3, 9: 3, 24: 2, 19: 2, 3: 1, 21: 1, 4: 1})\n"
     ]
    },
    {
     "name": "stderr",
     "output_type": "stream",
     "text": [
      "100%|██████████| 25/25 [00:00<00:00, 36.60it/s]\n"
     ]
    },
    {
     "name": "stdout",
     "output_type": "stream",
     "text": [
      "spent time for epoch 445 is 0.6889054775238037s\n",
      "epoch # : 445 gamma : 0.5 gen loss : 1.0051391124725342\n"
     ]
    },
    {
     "name": "stderr",
     "output_type": "stream",
     "text": [
      " 20%|██        | 5/25 [00:00<00:00, 49.93it/s]"
     ]
    },
    {
     "name": "stdout",
     "output_type": "stream",
     "text": [
      "Total number of generated modes is  24\n",
      "The number of high quality samples among 2500 samples is 192\n",
      "The mode dictionary is Counter({20: 25, 7: 18, 1: 18, 2: 17, 3: 13, 0: 11, 21: 11, 11: 10, 6: 10, 16: 10, 23: 7, 13: 6, 15: 5, 10: 5, 17: 5, 9: 4, 19: 3, 24: 3, 8: 3, 12: 3, 5: 2, 18: 1, 4: 1, 22: 1})\n"
     ]
    },
    {
     "name": "stderr",
     "output_type": "stream",
     "text": [
      "100%|██████████| 25/25 [00:00<00:00, 49.13it/s]\n"
     ]
    },
    {
     "name": "stdout",
     "output_type": "stream",
     "text": [
      "spent time for epoch 446 is 0.5149862766265869s\n",
      "epoch # : 446 gamma : 0.5 gen loss : 1.0298384428024292\n"
     ]
    },
    {
     "name": "stderr",
     "output_type": "stream",
     "text": [
      "  4%|▍         | 1/25 [00:00<00:02,  9.48it/s]"
     ]
    },
    {
     "name": "stdout",
     "output_type": "stream",
     "text": [
      "Total number of generated modes is  23\n",
      "The number of high quality samples among 2500 samples is 174\n",
      "The mode dictionary is Counter({3: 21, 5: 18, 10: 18, 16: 17, 7: 15, 4: 11, 12: 10, 2: 9, 15: 7, 9: 7, 11: 6, 22: 6, 13: 6, 14: 5, 6: 4, 21: 3, 20: 2, 24: 2, 8: 2, 19: 2, 0: 1, 17: 1, 18: 1})\n"
     ]
    },
    {
     "name": "stderr",
     "output_type": "stream",
     "text": [
      "100%|██████████| 25/25 [00:00<00:00, 36.23it/s]\n"
     ]
    },
    {
     "name": "stdout",
     "output_type": "stream",
     "text": [
      "spent time for epoch 447 is 0.696044921875s\n",
      "epoch # : 447 gamma : 0.5 gen loss : 1.0196166038513184\n"
     ]
    },
    {
     "name": "stderr",
     "output_type": "stream",
     "text": [
      "  4%|▍         | 1/25 [00:00<00:03,  6.07it/s]"
     ]
    },
    {
     "name": "stdout",
     "output_type": "stream",
     "text": [
      "Total number of generated modes is  23\n",
      "The number of high quality samples among 2500 samples is 158\n",
      "The mode dictionary is Counter({7: 17, 6: 15, 23: 14, 1: 13, 11: 9, 16: 8, 8: 8, 5: 7, 17: 7, 13: 7, 0: 7, 12: 7, 2: 7, 22: 6, 4: 5, 14: 4, 18: 4, 10: 4, 3: 3, 24: 2, 20: 2, 9: 1, 21: 1})\n"
     ]
    },
    {
     "name": "stderr",
     "output_type": "stream",
     "text": [
      "100%|██████████| 25/25 [00:00<00:00, 33.46it/s]\n"
     ]
    },
    {
     "name": "stdout",
     "output_type": "stream",
     "text": [
      "spent time for epoch 448 is 0.7537477016448975s\n",
      "epoch # : 448 gamma : 0.5 gen loss : 0.993836522102356\n"
     ]
    },
    {
     "name": "stderr",
     "output_type": "stream",
     "text": [
      "  4%|▍         | 1/25 [00:00<00:02,  9.46it/s]"
     ]
    },
    {
     "name": "stdout",
     "output_type": "stream",
     "text": [
      "Total number of generated modes is  24\n",
      "The number of high quality samples among 2500 samples is 166\n",
      "The mode dictionary is Counter({5: 20, 20: 20, 15: 17, 16: 14, 3: 10, 1: 9, 2: 9, 7: 8, 0: 8, 10: 7, 8: 6, 14: 6, 21: 5, 13: 5, 4: 5, 18: 4, 23: 3, 6: 2, 11: 2, 17: 2, 24: 1, 12: 1, 19: 1, 9: 1})\n"
     ]
    },
    {
     "name": "stderr",
     "output_type": "stream",
     "text": [
      "100%|██████████| 25/25 [00:00<00:00, 35.89it/s]\n"
     ]
    },
    {
     "name": "stdout",
     "output_type": "stream",
     "text": [
      "spent time for epoch 449 is 0.7027132511138916s\n",
      "epoch # : 449 gamma : 0.5 gen loss : 1.0184510946273804\n"
     ]
    },
    {
     "name": "stderr",
     "output_type": "stream",
     "text": [
      " 20%|██        | 5/25 [00:00<00:00, 48.69it/s]"
     ]
    },
    {
     "name": "stdout",
     "output_type": "stream",
     "text": [
      "Total number of generated modes is  24\n",
      "The number of high quality samples among 2500 samples is 207\n",
      "The mode dictionary is Counter({5: 28, 21: 28, 7: 17, 10: 17, 23: 14, 16: 12, 6: 10, 13: 9, 1: 9, 8: 9, 24: 8, 15: 8, 22: 5, 14: 4, 18: 4, 17: 4, 20: 4, 11: 4, 4: 3, 2: 3, 3: 2, 12: 2, 9: 2, 0: 1})\n"
     ]
    },
    {
     "name": "stderr",
     "output_type": "stream",
     "text": [
      "100%|██████████| 25/25 [00:00<00:00, 48.37it/s]\n"
     ]
    },
    {
     "name": "stdout",
     "output_type": "stream",
     "text": [
      "spent time for epoch 450 is 0.5228722095489502s\n",
      "epoch # : 450 gamma : 0.5 gen loss : 1.0205955505371094\n"
     ]
    },
    {
     "name": "stderr",
     "output_type": "stream",
     "text": [
      " 12%|█▏        | 3/25 [00:00<00:00, 28.08it/s]"
     ]
    },
    {
     "name": "stdout",
     "output_type": "stream",
     "text": [
      "Total number of generated modes is  23\n",
      "The number of high quality samples among 2500 samples is 148\n",
      "The mode dictionary is Counter({3: 17, 7: 16, 16: 13, 1: 11, 21: 10, 4: 9, 0: 8, 6: 8, 8: 8, 9: 7, 24: 6, 14: 5, 19: 5, 2: 5, 20: 4, 12: 3, 18: 3, 13: 3, 15: 2, 23: 2, 5: 1, 22: 1, 11: 1})\n"
     ]
    },
    {
     "name": "stderr",
     "output_type": "stream",
     "text": [
      "100%|██████████| 25/25 [00:00<00:00, 47.07it/s]\n"
     ]
    },
    {
     "name": "stdout",
     "output_type": "stream",
     "text": [
      "spent time for epoch 451 is 0.5371427536010742s\n",
      "epoch # : 451 gamma : 0.5 gen loss : 0.996189534664154\n"
     ]
    },
    {
     "name": "stderr",
     "output_type": "stream",
     "text": [
      " 20%|██        | 5/25 [00:00<00:00, 49.09it/s]"
     ]
    },
    {
     "name": "stdout",
     "output_type": "stream",
     "text": [
      "Total number of generated modes is  24\n",
      "The number of high quality samples among 2500 samples is 190\n",
      "The mode dictionary is Counter({21: 27, 20: 19, 7: 18, 5: 14, 16: 10, 6: 10, 11: 10, 15: 10, 23: 9, 8: 8, 3: 7, 13: 7, 1: 7, 0: 5, 9: 5, 10: 4, 2: 4, 4: 3, 17: 3, 22: 3, 12: 3, 18: 2, 19: 1, 24: 1})\n"
     ]
    },
    {
     "name": "stderr",
     "output_type": "stream",
     "text": [
      "100%|██████████| 25/25 [00:00<00:00, 48.51it/s]\n"
     ]
    },
    {
     "name": "stdout",
     "output_type": "stream",
     "text": [
      "spent time for epoch 452 is 0.5213525295257568s\n",
      "epoch # : 452 gamma : 0.5 gen loss : 1.0169750452041626\n"
     ]
    },
    {
     "name": "stderr",
     "output_type": "stream",
     "text": [
      " 12%|█▏        | 3/25 [00:00<00:00, 29.92it/s]"
     ]
    },
    {
     "name": "stdout",
     "output_type": "stream",
     "text": [
      "Total number of generated modes is  24\n",
      "The number of high quality samples among 2500 samples is 165\n",
      "The mode dictionary is Counter({1: 14, 4: 13, 6: 11, 7: 11, 16: 10, 8: 10, 13: 10, 21: 9, 9: 9, 2: 8, 3: 8, 14: 7, 17: 7, 11: 7, 18: 6, 0: 6, 19: 4, 22: 4, 23: 4, 10: 2, 5: 2, 24: 1, 15: 1, 12: 1})\n"
     ]
    },
    {
     "name": "stderr",
     "output_type": "stream",
     "text": [
      "100%|██████████| 25/25 [00:00<00:00, 47.32it/s]\n"
     ]
    },
    {
     "name": "stdout",
     "output_type": "stream",
     "text": [
      "spent time for epoch 453 is 0.5342206954956055s\n",
      "epoch # : 453 gamma : 0.5 gen loss : 0.9896299242973328\n"
     ]
    },
    {
     "name": "stderr",
     "output_type": "stream",
     "text": [
      " 20%|██        | 5/25 [00:00<00:00, 48.91it/s]"
     ]
    },
    {
     "name": "stdout",
     "output_type": "stream",
     "text": [
      "Total number of generated modes is  25\n",
      "The number of high quality samples among 2500 samples is 188\n",
      "The mode dictionary is Counter({5: 24, 24: 23, 21: 16, 19: 14, 16: 12, 13: 10, 6: 10, 7: 9, 12: 9, 17: 7, 9: 7, 22: 7, 1: 6, 11: 5, 23: 5, 15: 4, 14: 4, 8: 3, 20: 3, 4: 3, 10: 2, 2: 2, 18: 1, 3: 1, 0: 1})\n"
     ]
    },
    {
     "name": "stderr",
     "output_type": "stream",
     "text": [
      "100%|██████████| 25/25 [00:00<00:00, 47.59it/s]\n"
     ]
    },
    {
     "name": "stdout",
     "output_type": "stream",
     "text": [
      "spent time for epoch 454 is 0.5314455032348633s\n",
      "epoch # : 454 gamma : 0.5 gen loss : 1.0155853033065796\n"
     ]
    },
    {
     "name": "stderr",
     "output_type": "stream",
     "text": [
      " 20%|██        | 5/25 [00:00<00:00, 48.58it/s]"
     ]
    },
    {
     "name": "stdout",
     "output_type": "stream",
     "text": [
      "Total number of generated modes is  23\n",
      "The number of high quality samples among 2500 samples is 143\n",
      "The mode dictionary is Counter({5: 32, 16: 12, 3: 10, 4: 8, 2: 8, 7: 8, 0: 7, 21: 7, 18: 7, 24: 5, 6: 5, 13: 5, 23: 4, 1: 4, 20: 4, 15: 3, 14: 3, 17: 3, 9: 2, 11: 2, 8: 2, 12: 1, 22: 1})\n"
     ]
    },
    {
     "name": "stderr",
     "output_type": "stream",
     "text": [
      "100%|██████████| 25/25 [00:00<00:00, 49.12it/s]\n"
     ]
    },
    {
     "name": "stdout",
     "output_type": "stream",
     "text": [
      "spent time for epoch 455 is 0.5148754119873047s\n",
      "epoch # : 455 gamma : 0.5 gen loss : 1.006930947303772\n"
     ]
    },
    {
     "name": "stderr",
     "output_type": "stream",
     "text": [
      " 20%|██        | 5/25 [00:00<00:00, 49.81it/s]"
     ]
    },
    {
     "name": "stdout",
     "output_type": "stream",
     "text": [
      "Total number of generated modes is  24\n",
      "The number of high quality samples among 2500 samples is 206\n",
      "The mode dictionary is Counter({5: 28, 20: 26, 21: 21, 16: 15, 7: 12, 13: 11, 6: 10, 1: 9, 2: 8, 3: 8, 4: 7, 23: 7, 11: 7, 8: 5, 24: 5, 10: 4, 12: 4, 0: 4, 9: 3, 15: 3, 22: 3, 17: 3, 18: 2, 14: 1})\n"
     ]
    },
    {
     "name": "stderr",
     "output_type": "stream",
     "text": [
      "100%|██████████| 25/25 [00:00<00:00, 49.04it/s]\n"
     ]
    },
    {
     "name": "stdout",
     "output_type": "stream",
     "text": [
      "spent time for epoch 456 is 0.5157623291015625s\n",
      "epoch # : 456 gamma : 0.5 gen loss : 1.0298216342926025\n"
     ]
    },
    {
     "name": "stderr",
     "output_type": "stream",
     "text": [
      " 16%|█▌        | 4/25 [00:00<00:00, 39.48it/s]"
     ]
    },
    {
     "name": "stdout",
     "output_type": "stream",
     "text": [
      "Total number of generated modes is  22\n",
      "The number of high quality samples among 2500 samples is 139\n",
      "The mode dictionary is Counter({4: 16, 9: 13, 6: 12, 23: 11, 17: 10, 11: 10, 16: 8, 12: 7, 14: 6, 7: 6, 22: 6, 3: 6, 13: 5, 19: 4, 8: 4, 18: 3, 0: 3, 24: 3, 1: 2, 15: 2, 2: 1, 21: 1})\n"
     ]
    },
    {
     "name": "stderr",
     "output_type": "stream",
     "text": [
      "100%|██████████| 25/25 [00:00<00:00, 45.17it/s]\n"
     ]
    },
    {
     "name": "stdout",
     "output_type": "stream",
     "text": [
      "spent time for epoch 457 is 0.5594584941864014s\n",
      "epoch # : 457 gamma : 0.5 gen loss : 1.0285542011260986\n"
     ]
    },
    {
     "name": "stderr",
     "output_type": "stream",
     "text": [
      " 20%|██        | 5/25 [00:00<00:00, 48.55it/s]"
     ]
    },
    {
     "name": "stdout",
     "output_type": "stream",
     "text": [
      "Total number of generated modes is  25\n",
      "The number of high quality samples among 2500 samples is 195\n",
      "The mode dictionary is Counter({5: 44, 15: 21, 7: 15, 20: 13, 6: 10, 13: 10, 10: 10, 16: 9, 8: 8, 2: 7, 3: 7, 11: 7, 23: 5, 12: 4, 18: 4, 24: 3, 0: 3, 17: 3, 1: 3, 19: 2, 4: 2, 22: 2, 21: 1, 9: 1, 14: 1})\n"
     ]
    },
    {
     "name": "stderr",
     "output_type": "stream",
     "text": [
      "100%|██████████| 25/25 [00:00<00:00, 49.11it/s]\n"
     ]
    },
    {
     "name": "stdout",
     "output_type": "stream",
     "text": [
      "spent time for epoch 458 is 0.5153830051422119s\n",
      "epoch # : 458 gamma : 0.5 gen loss : 0.9869702458381653\n"
     ]
    },
    {
     "name": "stderr",
     "output_type": "stream",
     "text": [
      "  4%|▍         | 1/25 [00:00<00:03,  7.43it/s]"
     ]
    },
    {
     "name": "stdout",
     "output_type": "stream",
     "text": [
      "Total number of generated modes is  25\n",
      "The number of high quality samples among 2500 samples is 166\n",
      "The mode dictionary is Counter({23: 19, 10: 14, 7: 14, 20: 13, 14: 11, 9: 9, 6: 9, 15: 8, 3: 6, 21: 6, 13: 5, 4: 5, 16: 5, 0: 5, 17: 5, 5: 5, 18: 5, 2: 4, 11: 4, 22: 4, 8: 3, 1: 3, 19: 2, 24: 1, 12: 1})\n"
     ]
    },
    {
     "name": "stderr",
     "output_type": "stream",
     "text": [
      "100%|██████████| 25/25 [00:00<00:00, 43.69it/s]\n"
     ]
    },
    {
     "name": "stdout",
     "output_type": "stream",
     "text": [
      "spent time for epoch 459 is 0.5781993865966797s\n",
      "epoch # : 459 gamma : 0.5 gen loss : 1.007370948791504\n"
     ]
    },
    {
     "name": "stderr",
     "output_type": "stream",
     "text": [
      " 20%|██        | 5/25 [00:00<00:00, 48.31it/s]"
     ]
    },
    {
     "name": "stdout",
     "output_type": "stream",
     "text": [
      "Total number of generated modes is  22\n",
      "The number of high quality samples among 2500 samples is 99\n",
      "The mode dictionary is Counter({7: 25, 23: 8, 8: 8, 16: 7, 11: 7, 6: 6, 21: 5, 18: 4, 24: 4, 12: 3, 3: 3, 13: 3, 0: 3, 2: 2, 1: 2, 9: 2, 22: 2, 10: 1, 17: 1, 19: 1, 5: 1, 15: 1})\n"
     ]
    },
    {
     "name": "stderr",
     "output_type": "stream",
     "text": [
      "100%|██████████| 25/25 [00:00<00:00, 48.04it/s]\n"
     ]
    },
    {
     "name": "stdout",
     "output_type": "stream",
     "text": [
      "spent time for epoch 460 is 0.5263774394989014s\n",
      "epoch # : 460 gamma : 0.5 gen loss : 1.0337828397750854\n"
     ]
    },
    {
     "name": "stderr",
     "output_type": "stream",
     "text": [
      " 20%|██        | 5/25 [00:00<00:00, 48.81it/s]"
     ]
    },
    {
     "name": "stdout",
     "output_type": "stream",
     "text": [
      "Total number of generated modes is  25\n",
      "The number of high quality samples among 2500 samples is 207\n",
      "The mode dictionary is Counter({0: 28, 23: 26, 21: 19, 16: 12, 7: 11, 15: 11, 10: 11, 14: 11, 9: 8, 19: 8, 4: 7, 8: 6, 6: 5, 1: 5, 11: 5, 20: 5, 3: 5, 18: 5, 22: 4, 12: 4, 2: 3, 13: 3, 24: 2, 5: 2, 17: 1})\n"
     ]
    },
    {
     "name": "stderr",
     "output_type": "stream",
     "text": [
      "100%|██████████| 25/25 [00:00<00:00, 48.56it/s]\n"
     ]
    },
    {
     "name": "stdout",
     "output_type": "stream",
     "text": [
      "spent time for epoch 461 is 0.5204257965087891s\n",
      "epoch # : 461 gamma : 0.5 gen loss : 0.9985185861587524\n"
     ]
    },
    {
     "name": "stderr",
     "output_type": "stream",
     "text": [
      " 20%|██        | 5/25 [00:00<00:00, 48.15it/s]"
     ]
    },
    {
     "name": "stdout",
     "output_type": "stream",
     "text": [
      "Total number of generated modes is  22\n",
      "The number of high quality samples among 2500 samples is 135\n",
      "The mode dictionary is Counter({5: 25, 6: 13, 23: 13, 8: 11, 16: 10, 7: 9, 17: 8, 11: 7, 1: 7, 21: 6, 2: 4, 22: 3, 20: 3, 13: 3, 15: 2, 18: 2, 14: 2, 12: 2, 19: 2, 4: 1, 9: 1, 3: 1})\n"
     ]
    },
    {
     "name": "stderr",
     "output_type": "stream",
     "text": [
      "100%|██████████| 25/25 [00:00<00:00, 47.22it/s]\n"
     ]
    },
    {
     "name": "stdout",
     "output_type": "stream",
     "text": [
      "spent time for epoch 462 is 0.5355968475341797s\n",
      "epoch # : 462 gamma : 0.5 gen loss : 1.0254405736923218\n"
     ]
    },
    {
     "name": "stderr",
     "output_type": "stream",
     "text": [
      " 20%|██        | 5/25 [00:00<00:00, 49.05it/s]"
     ]
    },
    {
     "name": "stdout",
     "output_type": "stream",
     "text": [
      "Total number of generated modes is  25\n",
      "The number of high quality samples among 2500 samples is 161\n",
      "The mode dictionary is Counter({5: 15, 16: 14, 7: 12, 6: 11, 17: 11, 1: 10, 8: 8, 3: 8, 24: 7, 23: 7, 0: 7, 21: 7, 14: 6, 11: 6, 22: 6, 19: 4, 12: 4, 2: 3, 9: 3, 4: 3, 13: 3, 18: 2, 15: 2, 10: 1, 20: 1})\n"
     ]
    },
    {
     "name": "stderr",
     "output_type": "stream",
     "text": [
      "100%|██████████| 25/25 [00:00<00:00, 48.53it/s]\n"
     ]
    },
    {
     "name": "stdout",
     "output_type": "stream",
     "text": [
      "spent time for epoch 463 is 0.5212016105651855s\n",
      "epoch # : 463 gamma : 0.5 gen loss : 0.9580610394477844\n"
     ]
    },
    {
     "name": "stderr",
     "output_type": "stream",
     "text": [
      " 20%|██        | 5/25 [00:00<00:00, 48.06it/s]"
     ]
    },
    {
     "name": "stdout",
     "output_type": "stream",
     "text": [
      "Total number of generated modes is  24\n",
      "The number of high quality samples among 2500 samples is 156\n",
      "The mode dictionary is Counter({21: 35, 16: 13, 6: 12, 5: 12, 7: 12, 8: 11, 20: 7, 13: 6, 23: 5, 11: 5, 15: 4, 17: 4, 12: 4, 9: 4, 22: 3, 3: 3, 24: 3, 14: 2, 1: 2, 4: 2, 18: 2, 0: 2, 2: 2, 19: 1})\n"
     ]
    },
    {
     "name": "stderr",
     "output_type": "stream",
     "text": [
      "100%|██████████| 25/25 [00:00<00:00, 47.81it/s]\n"
     ]
    },
    {
     "name": "stdout",
     "output_type": "stream",
     "text": [
      "spent time for epoch 464 is 0.5289187431335449s\n",
      "epoch # : 464 gamma : 0.5 gen loss : 1.0256510972976685\n"
     ]
    },
    {
     "name": "stderr",
     "output_type": "stream",
     "text": [
      " 20%|██        | 5/25 [00:00<00:00, 48.65it/s]"
     ]
    },
    {
     "name": "stdout",
     "output_type": "stream",
     "text": [
      "Total number of generated modes is  24\n",
      "The number of high quality samples among 2500 samples is 158\n",
      "The mode dictionary is Counter({5: 28, 7: 20, 16: 15, 8: 13, 23: 11, 6: 8, 9: 7, 10: 6, 15: 6, 13: 5, 21: 5, 11: 5, 18: 4, 22: 4, 12: 4, 1: 3, 17: 3, 0: 3, 2: 2, 3: 2, 20: 1, 14: 1, 24: 1, 4: 1})\n"
     ]
    },
    {
     "name": "stderr",
     "output_type": "stream",
     "text": [
      "100%|██████████| 25/25 [00:00<00:00, 48.53it/s]\n"
     ]
    },
    {
     "name": "stdout",
     "output_type": "stream",
     "text": [
      "spent time for epoch 465 is 0.5210511684417725s\n",
      "epoch # : 465 gamma : 0.5 gen loss : 1.006920337677002\n"
     ]
    },
    {
     "name": "stderr",
     "output_type": "stream",
     "text": [
      " 20%|██        | 5/25 [00:00<00:00, 49.43it/s]"
     ]
    },
    {
     "name": "stdout",
     "output_type": "stream",
     "text": [
      "Total number of generated modes is  24\n",
      "The number of high quality samples among 2500 samples is 118\n",
      "The mode dictionary is Counter({15: 21, 8: 14, 5: 10, 16: 9, 20: 9, 1: 8, 6: 7, 22: 5, 7: 5, 11: 4, 17: 4, 10: 4, 3: 3, 19: 2, 9: 2, 12: 2, 21: 2, 2: 1, 13: 1, 0: 1, 14: 1, 23: 1, 18: 1, 24: 1})\n"
     ]
    },
    {
     "name": "stderr",
     "output_type": "stream",
     "text": [
      "100%|██████████| 25/25 [00:00<00:00, 48.38it/s]\n"
     ]
    },
    {
     "name": "stdout",
     "output_type": "stream",
     "text": [
      "spent time for epoch 466 is 0.522611141204834s\n",
      "epoch # : 466 gamma : 0.5 gen loss : 0.9929274320602417\n"
     ]
    },
    {
     "name": "stderr",
     "output_type": "stream",
     "text": [
      " 20%|██        | 5/25 [00:00<00:00, 49.20it/s]"
     ]
    },
    {
     "name": "stdout",
     "output_type": "stream",
     "text": [
      "Total number of generated modes is  22\n",
      "The number of high quality samples among 2500 samples is 198\n",
      "The mode dictionary is Counter({0: 24, 16: 21, 5: 19, 17: 16, 23: 14, 24: 13, 19: 10, 1: 10, 9: 8, 2: 8, 12: 7, 6: 7, 3: 7, 14: 7, 22: 6, 11: 6, 21: 5, 4: 4, 18: 3, 13: 1, 20: 1, 8: 1})\n"
     ]
    },
    {
     "name": "stderr",
     "output_type": "stream",
     "text": [
      "100%|██████████| 25/25 [00:00<00:00, 48.46it/s]\n"
     ]
    },
    {
     "name": "stdout",
     "output_type": "stream",
     "text": [
      "spent time for epoch 467 is 0.5217075347900391s\n",
      "epoch # : 467 gamma : 0.5 gen loss : 0.9864194393157959\n"
     ]
    },
    {
     "name": "stderr",
     "output_type": "stream",
     "text": [
      " 20%|██        | 5/25 [00:00<00:00, 49.21it/s]"
     ]
    },
    {
     "name": "stdout",
     "output_type": "stream",
     "text": [
      "Total number of generated modes is  22\n",
      "The number of high quality samples among 2500 samples is 144\n",
      "The mode dictionary is Counter({5: 39, 22: 18, 15: 12, 23: 11, 10: 11, 7: 8, 8: 7, 6: 6, 24: 5, 18: 3, 13: 3, 1: 3, 9: 3, 11: 2, 21: 2, 17: 2, 3: 2, 20: 2, 0: 2, 2: 1, 19: 1, 14: 1})\n"
     ]
    },
    {
     "name": "stderr",
     "output_type": "stream",
     "text": [
      "100%|██████████| 25/25 [00:00<00:00, 48.33it/s]\n"
     ]
    },
    {
     "name": "stdout",
     "output_type": "stream",
     "text": [
      "spent time for epoch 468 is 0.5231513977050781s\n",
      "epoch # : 468 gamma : 0.5 gen loss : 1.0585285425186157\n"
     ]
    },
    {
     "name": "stderr",
     "output_type": "stream",
     "text": [
      " 16%|█▌        | 4/25 [00:00<00:00, 39.93it/s]"
     ]
    },
    {
     "name": "stdout",
     "output_type": "stream",
     "text": [
      "Total number of generated modes is  25\n",
      "The number of high quality samples among 2500 samples is 210\n",
      "The mode dictionary is Counter({7: 19, 17: 17, 10: 16, 23: 15, 21: 14, 20: 13, 16: 12, 12: 11, 8: 10, 24: 9, 22: 9, 3: 8, 5: 8, 18: 6, 9: 6, 0: 6, 15: 5, 13: 5, 2: 4, 1: 4, 14: 3, 11: 3, 19: 3, 4: 2, 6: 2})\n"
     ]
    },
    {
     "name": "stderr",
     "output_type": "stream",
     "text": [
      "100%|██████████| 25/25 [00:00<00:00, 48.68it/s]\n"
     ]
    },
    {
     "name": "stdout",
     "output_type": "stream",
     "text": [
      "spent time for epoch 469 is 0.5194597244262695s\n",
      "epoch # : 469 gamma : 0.5 gen loss : 1.0096640586853027\n"
     ]
    },
    {
     "name": "stderr",
     "output_type": "stream",
     "text": [
      "  4%|▍         | 1/25 [00:00<00:03,  6.76it/s]"
     ]
    },
    {
     "name": "stdout",
     "output_type": "stream",
     "text": [
      "Total number of generated modes is  24\n",
      "The number of high quality samples among 2500 samples is 138\n",
      "The mode dictionary is Counter({0: 17, 1: 14, 3: 10, 7: 10, 16: 10, 11: 9, 13: 8, 8: 8, 20: 7, 17: 6, 2: 6, 12: 4, 15: 4, 24: 4, 6: 4, 9: 3, 18: 3, 5: 3, 10: 2, 22: 2, 4: 1, 23: 1, 14: 1, 19: 1})\n"
     ]
    },
    {
     "name": "stderr",
     "output_type": "stream",
     "text": [
      "100%|██████████| 25/25 [00:00<00:00, 42.31it/s]\n"
     ]
    },
    {
     "name": "stdout",
     "output_type": "stream",
     "text": [
      "spent time for epoch 470 is 0.5968596935272217s\n",
      "epoch # : 470 gamma : 0.5 gen loss : 0.9844734072685242\n"
     ]
    },
    {
     "name": "stderr",
     "output_type": "stream",
     "text": [
      " 20%|██        | 5/25 [00:00<00:00, 47.28it/s]"
     ]
    },
    {
     "name": "stdout",
     "output_type": "stream",
     "text": [
      "Total number of generated modes is  24\n",
      "The number of high quality samples among 2500 samples is 147\n",
      "The mode dictionary is Counter({7: 13, 23: 12, 8: 11, 13: 11, 5: 9, 3: 9, 17: 9, 1: 8, 16: 7, 12: 7, 9: 7, 22: 5, 18: 5, 11: 5, 6: 5, 4: 5, 10: 4, 2: 4, 20: 3, 24: 2, 14: 2, 0: 2, 21: 1, 15: 1})\n"
     ]
    },
    {
     "name": "stderr",
     "output_type": "stream",
     "text": [
      "100%|██████████| 25/25 [00:00<00:00, 47.19it/s]\n"
     ]
    },
    {
     "name": "stdout",
     "output_type": "stream",
     "text": [
      "spent time for epoch 471 is 0.535773515701294s\n",
      "epoch # : 471 gamma : 0.5 gen loss : 0.9900509715080261\n"
     ]
    },
    {
     "name": "stderr",
     "output_type": "stream",
     "text": [
      " 16%|█▌        | 4/25 [00:00<00:00, 39.82it/s]"
     ]
    },
    {
     "name": "stdout",
     "output_type": "stream",
     "text": [
      "Total number of generated modes is  24\n",
      "The number of high quality samples among 2500 samples is 136\n",
      "The mode dictionary is Counter({2: 14, 7: 11, 10: 11, 1: 10, 11: 10, 3: 10, 16: 9, 8: 8, 15: 7, 0: 6, 6: 5, 17: 5, 24: 4, 13: 4, 22: 3, 4: 3, 20: 3, 9: 2, 18: 2, 21: 2, 5: 2, 23: 2, 12: 2, 14: 1})\n"
     ]
    },
    {
     "name": "stderr",
     "output_type": "stream",
     "text": [
      "100%|██████████| 25/25 [00:00<00:00, 47.16it/s]\n"
     ]
    },
    {
     "name": "stdout",
     "output_type": "stream",
     "text": [
      "spent time for epoch 472 is 0.5359988212585449s\n",
      "epoch # : 472 gamma : 0.5 gen loss : 1.028886318206787\n"
     ]
    },
    {
     "name": "stderr",
     "output_type": "stream",
     "text": [
      " 20%|██        | 5/25 [00:00<00:00, 49.14it/s]"
     ]
    },
    {
     "name": "stdout",
     "output_type": "stream",
     "text": [
      "Total number of generated modes is  24\n",
      "The number of high quality samples among 2500 samples is 158\n",
      "The mode dictionary is Counter({2: 13, 3: 11, 16: 11, 24: 11, 13: 10, 8: 10, 4: 10, 21: 9, 19: 8, 1: 7, 14: 6, 23: 6, 5: 6, 9: 5, 12: 5, 11: 5, 7: 5, 18: 4, 22: 4, 17: 4, 6: 4, 15: 2, 0: 1, 10: 1})\n"
     ]
    },
    {
     "name": "stderr",
     "output_type": "stream",
     "text": [
      "100%|██████████| 25/25 [00:00<00:00, 48.56it/s]\n"
     ]
    },
    {
     "name": "stdout",
     "output_type": "stream",
     "text": [
      "spent time for epoch 473 is 0.5205755233764648s\n",
      "epoch # : 473 gamma : 0.5 gen loss : 1.0246691703796387\n"
     ]
    },
    {
     "name": "stderr",
     "output_type": "stream",
     "text": [
      " 20%|██        | 5/25 [00:00<00:00, 49.42it/s]"
     ]
    },
    {
     "name": "stdout",
     "output_type": "stream",
     "text": [
      "Total number of generated modes is  25\n",
      "The number of high quality samples among 2500 samples is 128\n",
      "The mode dictionary is Counter({5: 21, 13: 15, 6: 13, 16: 9, 17: 9, 11: 8, 18: 6, 8: 5, 21: 5, 1: 4, 24: 4, 3: 3, 15: 3, 23: 3, 14: 3, 20: 3, 19: 3, 22: 2, 7: 2, 10: 2, 9: 1, 0: 1, 12: 1, 4: 1, 2: 1})\n"
     ]
    },
    {
     "name": "stderr",
     "output_type": "stream",
     "text": [
      "100%|██████████| 25/25 [00:00<00:00, 49.45it/s]\n"
     ]
    },
    {
     "name": "stdout",
     "output_type": "stream",
     "text": [
      "spent time for epoch 474 is 0.5118293762207031s\n",
      "epoch # : 474 gamma : 0.5 gen loss : 1.0265436172485352\n"
     ]
    },
    {
     "name": "stderr",
     "output_type": "stream",
     "text": [
      " 20%|██        | 5/25 [00:00<00:00, 48.20it/s]"
     ]
    },
    {
     "name": "stdout",
     "output_type": "stream",
     "text": [
      "Total number of generated modes is  23\n",
      "The number of high quality samples among 2500 samples is 170\n",
      "The mode dictionary is Counter({5: 33, 6: 16, 1: 15, 15: 11, 7: 9, 2: 9, 21: 9, 8: 8, 20: 8, 22: 6, 23: 6, 16: 6, 4: 6, 17: 5, 9: 4, 10: 4, 11: 4, 3: 3, 12: 2, 18: 2, 14: 2, 0: 1, 13: 1})\n"
     ]
    },
    {
     "name": "stderr",
     "output_type": "stream",
     "text": [
      "100%|██████████| 25/25 [00:00<00:00, 48.77it/s]\n"
     ]
    },
    {
     "name": "stdout",
     "output_type": "stream",
     "text": [
      "spent time for epoch 475 is 0.518500566482544s\n",
      "epoch # : 475 gamma : 0.5 gen loss : 1.0020885467529297\n"
     ]
    },
    {
     "name": "stderr",
     "output_type": "stream",
     "text": [
      " 20%|██        | 5/25 [00:00<00:00, 49.19it/s]"
     ]
    },
    {
     "name": "stdout",
     "output_type": "stream",
     "text": [
      "Total number of generated modes is  25\n",
      "The number of high quality samples among 2500 samples is 167\n",
      "The mode dictionary is Counter({5: 38, 7: 16, 15: 12, 17: 10, 6: 10, 16: 7, 2: 6, 11: 6, 3: 5, 22: 5, 1: 5, 14: 5, 8: 5, 13: 4, 0: 4, 21: 4, 23: 4, 19: 4, 20: 4, 12: 3, 18: 3, 4: 2, 10: 2, 9: 2, 24: 1})\n"
     ]
    },
    {
     "name": "stderr",
     "output_type": "stream",
     "text": [
      "100%|██████████| 25/25 [00:00<00:00, 49.50it/s]\n"
     ]
    },
    {
     "name": "stdout",
     "output_type": "stream",
     "text": [
      "spent time for epoch 476 is 0.5110251903533936s\n",
      "epoch # : 476 gamma : 0.5 gen loss : 1.009772539138794\n"
     ]
    },
    {
     "name": "stderr",
     "output_type": "stream",
     "text": [
      " 20%|██        | 5/25 [00:00<00:00, 48.12it/s]"
     ]
    },
    {
     "name": "stdout",
     "output_type": "stream",
     "text": [
      "Total number of generated modes is  25\n",
      "The number of high quality samples among 2500 samples is 165\n",
      "The mode dictionary is Counter({6: 20, 7: 13, 5: 13, 2: 10, 11: 10, 16: 9, 21: 9, 0: 9, 1: 8, 17: 7, 3: 6, 18: 6, 13: 5, 8: 5, 14: 5, 9: 5, 10: 5, 24: 4, 4: 4, 23: 3, 19: 3, 15: 2, 20: 2, 22: 1, 12: 1})\n"
     ]
    },
    {
     "name": "stderr",
     "output_type": "stream",
     "text": [
      "100%|██████████| 25/25 [00:00<00:00, 49.16it/s]\n"
     ]
    },
    {
     "name": "stdout",
     "output_type": "stream",
     "text": [
      "spent time for epoch 477 is 0.5145509243011475s\n",
      "epoch # : 477 gamma : 0.5 gen loss : 1.0073200464248657\n"
     ]
    },
    {
     "name": "stderr",
     "output_type": "stream",
     "text": [
      " 20%|██        | 5/25 [00:00<00:00, 49.42it/s]"
     ]
    },
    {
     "name": "stdout",
     "output_type": "stream",
     "text": [
      "Total number of generated modes is  23\n",
      "The number of high quality samples among 2500 samples is 182\n",
      "The mode dictionary is Counter({21: 22, 6: 16, 5: 16, 20: 15, 22: 14, 7: 13, 8: 11, 13: 10, 16: 9, 11: 9, 14: 8, 17: 7, 23: 6, 18: 6, 15: 4, 9: 3, 12: 3, 1: 2, 19: 2, 24: 2, 10: 2, 3: 1, 4: 1})\n"
     ]
    },
    {
     "name": "stderr",
     "output_type": "stream",
     "text": [
      "100%|██████████| 25/25 [00:00<00:00, 48.36it/s]\n"
     ]
    },
    {
     "name": "stdout",
     "output_type": "stream",
     "text": [
      "spent time for epoch 478 is 0.5231678485870361s\n",
      "epoch # : 478 gamma : 0.5 gen loss : 1.0124976634979248\n"
     ]
    },
    {
     "name": "stderr",
     "output_type": "stream",
     "text": [
      " 20%|██        | 5/25 [00:00<00:00, 49.53it/s]"
     ]
    },
    {
     "name": "stdout",
     "output_type": "stream",
     "text": [
      "Total number of generated modes is  25\n",
      "The number of high quality samples among 2500 samples is 159\n",
      "The mode dictionary is Counter({7: 15, 0: 12, 16: 11, 6: 10, 9: 10, 8: 8, 1: 8, 10: 8, 2: 8, 24: 7, 3: 6, 15: 6, 14: 6, 17: 6, 4: 6, 19: 5, 5: 5, 18: 5, 13: 4, 11: 3, 21: 3, 12: 2, 20: 2, 22: 2, 23: 1})\n"
     ]
    },
    {
     "name": "stderr",
     "output_type": "stream",
     "text": [
      "100%|██████████| 25/25 [00:00<00:00, 48.90it/s]\n"
     ]
    },
    {
     "name": "stdout",
     "output_type": "stream",
     "text": [
      "spent time for epoch 479 is 0.5170834064483643s\n",
      "epoch # : 479 gamma : 0.5 gen loss : 0.9706965684890747\n"
     ]
    },
    {
     "name": "stderr",
     "output_type": "stream",
     "text": [
      " 20%|██        | 5/25 [00:00<00:00, 49.21it/s]"
     ]
    },
    {
     "name": "stdout",
     "output_type": "stream",
     "text": [
      "Total number of generated modes is  24\n",
      "The number of high quality samples among 2500 samples is 228\n",
      "The mode dictionary is Counter({21: 27, 10: 27, 22: 27, 7: 19, 23: 18, 17: 15, 16: 12, 13: 11, 12: 10, 11: 8, 3: 8, 8: 7, 6: 5, 24: 5, 20: 5, 4: 4, 18: 4, 15: 4, 14: 3, 0: 2, 9: 2, 2: 2, 1: 2, 19: 1})\n"
     ]
    },
    {
     "name": "stderr",
     "output_type": "stream",
     "text": [
      "100%|██████████| 25/25 [00:00<00:00, 49.11it/s]\n"
     ]
    },
    {
     "name": "stdout",
     "output_type": "stream",
     "text": [
      "spent time for epoch 480 is 0.5148735046386719s\n",
      "epoch # : 480 gamma : 0.5 gen loss : 0.9951168894767761\n"
     ]
    },
    {
     "name": "stderr",
     "output_type": "stream",
     "text": [
      "  4%|▍         | 1/25 [00:00<00:03,  7.41it/s]"
     ]
    },
    {
     "name": "stdout",
     "output_type": "stream",
     "text": [
      "Total number of generated modes is  25\n",
      "The number of high quality samples among 2500 samples is 162\n",
      "The mode dictionary is Counter({6: 16, 7: 14, 23: 14, 22: 13, 16: 12, 8: 12, 20: 10, 15: 9, 10: 9, 24: 7, 3: 7, 14: 6, 17: 5, 21: 4, 12: 3, 5: 3, 1: 3, 19: 3, 11: 3, 9: 2, 18: 2, 13: 2, 2: 1, 0: 1, 4: 1})\n"
     ]
    },
    {
     "name": "stderr",
     "output_type": "stream",
     "text": [
      "100%|██████████| 25/25 [00:00<00:00, 43.48it/s]\n"
     ]
    },
    {
     "name": "stdout",
     "output_type": "stream",
     "text": [
      "spent time for epoch 481 is 0.5807967185974121s\n",
      "epoch # : 481 gamma : 0.5 gen loss : 1.0013055801391602\n"
     ]
    },
    {
     "name": "stderr",
     "output_type": "stream",
     "text": [
      " 20%|██        | 5/25 [00:00<00:00, 47.75it/s]"
     ]
    },
    {
     "name": "stdout",
     "output_type": "stream",
     "text": [
      "Total number of generated modes is  24\n",
      "The number of high quality samples among 2500 samples is 188\n",
      "The mode dictionary is Counter({0: 30, 21: 24, 1: 14, 10: 13, 3: 12, 4: 11, 6: 10, 16: 9, 2: 9, 11: 9, 7: 8, 8: 6, 15: 6, 17: 5, 24: 5, 18: 3, 14: 3, 12: 3, 13: 2, 20: 2, 19: 1, 22: 1, 5: 1, 9: 1})\n"
     ]
    },
    {
     "name": "stderr",
     "output_type": "stream",
     "text": [
      "100%|██████████| 25/25 [00:00<00:00, 48.23it/s]\n"
     ]
    },
    {
     "name": "stdout",
     "output_type": "stream",
     "text": [
      "spent time for epoch 482 is 0.5243093967437744s\n",
      "epoch # : 482 gamma : 0.5 gen loss : 0.9560543894767761\n"
     ]
    },
    {
     "name": "stderr",
     "output_type": "stream",
     "text": [
      " 20%|██        | 5/25 [00:00<00:00, 48.18it/s]"
     ]
    },
    {
     "name": "stdout",
     "output_type": "stream",
     "text": [
      "Total number of generated modes is  23\n",
      "The number of high quality samples among 2500 samples is 137\n",
      "The mode dictionary is Counter({7: 18, 6: 12, 3: 11, 1: 10, 4: 9, 2: 7, 22: 7, 11: 6, 0: 6, 16: 6, 12: 5, 9: 5, 5: 5, 13: 4, 18: 4, 15: 4, 24: 3, 17: 3, 10: 3, 14: 3, 21: 3, 19: 2, 23: 1})\n"
     ]
    },
    {
     "name": "stderr",
     "output_type": "stream",
     "text": [
      "100%|██████████| 25/25 [00:00<00:00, 48.28it/s]\n"
     ]
    },
    {
     "name": "stdout",
     "output_type": "stream",
     "text": [
      "spent time for epoch 483 is 0.5239620208740234s\n",
      "epoch # : 483 gamma : 0.5 gen loss : 0.9990392923355103\n"
     ]
    },
    {
     "name": "stderr",
     "output_type": "stream",
     "text": [
      " 20%|██        | 5/25 [00:00<00:00, 48.61it/s]"
     ]
    },
    {
     "name": "stdout",
     "output_type": "stream",
     "text": [
      "Total number of generated modes is  23\n",
      "The number of high quality samples among 2500 samples is 195\n",
      "The mode dictionary is Counter({5: 38, 7: 18, 20: 17, 15: 14, 16: 13, 19: 11, 6: 10, 13: 9, 11: 7, 17: 6, 23: 6, 8: 6, 14: 6, 9: 5, 24: 5, 18: 4, 21: 4, 10: 4, 1: 3, 2: 3, 22: 3, 3: 2, 12: 1})\n"
     ]
    },
    {
     "name": "stderr",
     "output_type": "stream",
     "text": [
      "100%|██████████| 25/25 [00:00<00:00, 48.48it/s]\n"
     ]
    },
    {
     "name": "stdout",
     "output_type": "stream",
     "text": [
      "spent time for epoch 484 is 0.5216636657714844s\n",
      "epoch # : 484 gamma : 0.5 gen loss : 1.0360490083694458\n"
     ]
    },
    {
     "name": "stderr",
     "output_type": "stream",
     "text": [
      " 20%|██        | 5/25 [00:00<00:00, 48.75it/s]"
     ]
    },
    {
     "name": "stdout",
     "output_type": "stream",
     "text": [
      "Total number of generated modes is  23\n",
      "The number of high quality samples among 2500 samples is 139\n",
      "The mode dictionary is Counter({1: 15, 2: 13, 3: 11, 4: 10, 8: 8, 15: 8, 18: 8, 20: 7, 17: 7, 16: 7, 7: 7, 19: 5, 21: 5, 10: 5, 12: 4, 0: 4, 6: 4, 23: 3, 22: 2, 11: 2, 5: 2, 13: 1, 9: 1})\n"
     ]
    },
    {
     "name": "stderr",
     "output_type": "stream",
     "text": [
      "100%|██████████| 25/25 [00:00<00:00, 48.40it/s]\n"
     ]
    },
    {
     "name": "stdout",
     "output_type": "stream",
     "text": [
      "spent time for epoch 485 is 0.5225169658660889s\n",
      "epoch # : 485 gamma : 0.5 gen loss : 1.0030263662338257\n"
     ]
    },
    {
     "name": "stderr",
     "output_type": "stream",
     "text": [
      " 20%|██        | 5/25 [00:00<00:00, 47.44it/s]"
     ]
    },
    {
     "name": "stdout",
     "output_type": "stream",
     "text": [
      "Total number of generated modes is  24\n",
      "The number of high quality samples among 2500 samples is 184\n",
      "The mode dictionary is Counter({5: 24, 23: 18, 7: 18, 9: 14, 8: 13, 21: 9, 16: 9, 22: 8, 6: 7, 19: 7, 20: 7, 3: 6, 14: 5, 17: 5, 15: 5, 24: 5, 2: 4, 11: 4, 12: 4, 18: 4, 10: 3, 4: 2, 13: 2, 1: 1})\n"
     ]
    },
    {
     "name": "stderr",
     "output_type": "stream",
     "text": [
      "100%|██████████| 25/25 [00:00<00:00, 48.26it/s]\n"
     ]
    },
    {
     "name": "stdout",
     "output_type": "stream",
     "text": [
      "spent time for epoch 486 is 0.5238077640533447s\n",
      "epoch # : 486 gamma : 0.5 gen loss : 0.9818333387374878\n"
     ]
    },
    {
     "name": "stderr",
     "output_type": "stream",
     "text": [
      " 20%|██        | 5/25 [00:00<00:00, 49.07it/s]"
     ]
    },
    {
     "name": "stdout",
     "output_type": "stream",
     "text": [
      "Total number of generated modes is  25\n",
      "The number of high quality samples among 2500 samples is 179\n",
      "The mode dictionary is Counter({5: 29, 0: 16, 15: 11, 16: 11, 11: 10, 2: 10, 20: 10, 4: 9, 6: 9, 1: 9, 7: 8, 8: 7, 3: 7, 17: 6, 22: 6, 21: 4, 18: 4, 10: 3, 9: 2, 14: 2, 12: 2, 19: 1, 13: 1, 23: 1, 24: 1})\n"
     ]
    },
    {
     "name": "stderr",
     "output_type": "stream",
     "text": [
      "100%|██████████| 25/25 [00:00<00:00, 48.83it/s]\n"
     ]
    },
    {
     "name": "stdout",
     "output_type": "stream",
     "text": [
      "spent time for epoch 487 is 0.5177524089813232s\n",
      "epoch # : 487 gamma : 0.5 gen loss : 1.0273503065109253\n"
     ]
    },
    {
     "name": "stderr",
     "output_type": "stream",
     "text": [
      " 20%|██        | 5/25 [00:00<00:00, 48.30it/s]"
     ]
    },
    {
     "name": "stdout",
     "output_type": "stream",
     "text": [
      "Total number of generated modes is  25\n",
      "The number of high quality samples among 2500 samples is 260\n",
      "The mode dictionary is Counter({10: 30, 20: 30, 21: 21, 22: 21, 23: 20, 15: 17, 7: 17, 11: 15, 8: 13, 6: 12, 18: 8, 13: 8, 5: 7, 17: 7, 16: 6, 1: 6, 24: 5, 3: 5, 14: 3, 4: 3, 9: 2, 19: 1, 12: 1, 2: 1, 0: 1})\n"
     ]
    },
    {
     "name": "stderr",
     "output_type": "stream",
     "text": [
      "100%|██████████| 25/25 [00:00<00:00, 48.80it/s]\n"
     ]
    },
    {
     "name": "stdout",
     "output_type": "stream",
     "text": [
      "spent time for epoch 488 is 0.5182232856750488s\n",
      "epoch # : 488 gamma : 0.5 gen loss : 1.0138957500457764\n"
     ]
    },
    {
     "name": "stderr",
     "output_type": "stream",
     "text": [
      " 20%|██        | 5/25 [00:00<00:00, 48.58it/s]"
     ]
    },
    {
     "name": "stdout",
     "output_type": "stream",
     "text": [
      "Total number of generated modes is  25\n",
      "The number of high quality samples among 2500 samples is 133\n",
      "The mode dictionary is Counter({7: 15, 5: 14, 8: 13, 6: 13, 16: 11, 13: 7, 21: 7, 15: 6, 20: 5, 19: 5, 18: 5, 0: 4, 3: 4, 9: 4, 23: 3, 10: 3, 17: 2, 11: 2, 22: 2, 2: 2, 14: 2, 12: 1, 1: 1, 4: 1, 24: 1})\n"
     ]
    },
    {
     "name": "stderr",
     "output_type": "stream",
     "text": [
      "100%|██████████| 25/25 [00:00<00:00, 48.58it/s]\n"
     ]
    },
    {
     "name": "stdout",
     "output_type": "stream",
     "text": [
      "spent time for epoch 489 is 0.5206649303436279s\n",
      "epoch # : 489 gamma : 0.5 gen loss : 1.0220938920974731\n"
     ]
    },
    {
     "name": "stderr",
     "output_type": "stream",
     "text": [
      " 20%|██        | 5/25 [00:00<00:00, 49.43it/s]"
     ]
    },
    {
     "name": "stdout",
     "output_type": "stream",
     "text": [
      "Total number of generated modes is  25\n",
      "The number of high quality samples among 2500 samples is 149\n",
      "The mode dictionary is Counter({7: 18, 17: 11, 0: 11, 4: 11, 16: 10, 8: 10, 14: 10, 6: 10, 15: 8, 22: 6, 20: 6, 1: 5, 11: 5, 13: 4, 18: 4, 10: 4, 12: 3, 5: 2, 21: 2, 24: 2, 19: 2, 2: 2, 23: 1, 9: 1, 3: 1})\n"
     ]
    },
    {
     "name": "stderr",
     "output_type": "stream",
     "text": [
      "100%|██████████| 25/25 [00:00<00:00, 49.12it/s]\n"
     ]
    },
    {
     "name": "stdout",
     "output_type": "stream",
     "text": [
      "spent time for epoch 490 is 0.5155608654022217s\n",
      "epoch # : 490 gamma : 0.5 gen loss : 1.0054672956466675\n"
     ]
    },
    {
     "name": "stderr",
     "output_type": "stream",
     "text": [
      " 20%|██        | 5/25 [00:00<00:00, 49.14it/s]"
     ]
    },
    {
     "name": "stdout",
     "output_type": "stream",
     "text": [
      "Total number of generated modes is  23\n",
      "The number of high quality samples among 2500 samples is 169\n",
      "The mode dictionary is Counter({10: 18, 8: 13, 16: 12, 5: 11, 6: 11, 0: 10, 17: 10, 15: 9, 7: 9, 11: 8, 23: 8, 22: 7, 13: 6, 9: 6, 21: 5, 18: 5, 3: 5, 12: 4, 2: 4, 1: 2, 19: 2, 14: 2, 20: 2})\n"
     ]
    },
    {
     "name": "stderr",
     "output_type": "stream",
     "text": [
      "100%|██████████| 25/25 [00:00<00:00, 48.71it/s]\n"
     ]
    },
    {
     "name": "stdout",
     "output_type": "stream",
     "text": [
      "spent time for epoch 491 is 0.5190811157226562s\n",
      "epoch # : 491 gamma : 0.5 gen loss : 0.9659693837165833\n"
     ]
    },
    {
     "name": "stderr",
     "output_type": "stream",
     "text": [
      "  4%|▍         | 1/25 [00:00<00:03,  7.37it/s]"
     ]
    },
    {
     "name": "stdout",
     "output_type": "stream",
     "text": [
      "Total number of generated modes is  23\n",
      "The number of high quality samples among 2500 samples is 137\n",
      "The mode dictionary is Counter({16: 14, 15: 13, 5: 10, 10: 10, 8: 10, 7: 9, 24: 8, 22: 7, 20: 6, 11: 6, 9: 6, 21: 5, 17: 4, 6: 4, 18: 4, 19: 4, 12: 3, 0: 3, 14: 3, 2: 2, 3: 2, 23: 2, 13: 2})\n"
     ]
    },
    {
     "name": "stderr",
     "output_type": "stream",
     "text": [
      "100%|██████████| 25/25 [00:00<00:00, 42.85it/s]\n"
     ]
    },
    {
     "name": "stdout",
     "output_type": "stream",
     "text": [
      "spent time for epoch 492 is 0.5894241333007812s\n",
      "epoch # : 492 gamma : 0.5 gen loss : 1.0243419408798218\n"
     ]
    },
    {
     "name": "stderr",
     "output_type": "stream",
     "text": [
      " 20%|██        | 5/25 [00:00<00:00, 47.80it/s]"
     ]
    },
    {
     "name": "stdout",
     "output_type": "stream",
     "text": [
      "Total number of generated modes is  25\n",
      "The number of high quality samples among 2500 samples is 189\n",
      "The mode dictionary is Counter({5: 32, 0: 16, 17: 16, 10: 12, 1: 11, 15: 11, 6: 10, 2: 8, 3: 8, 7: 8, 11: 7, 16: 7, 8: 7, 22: 6, 18: 6, 12: 5, 14: 4, 9: 2, 24: 2, 4: 2, 19: 2, 20: 2, 13: 2, 21: 2, 23: 1})\n"
     ]
    },
    {
     "name": "stderr",
     "output_type": "stream",
     "text": [
      "100%|██████████| 25/25 [00:00<00:00, 47.75it/s]\n"
     ]
    },
    {
     "name": "stdout",
     "output_type": "stream",
     "text": [
      "spent time for epoch 493 is 0.5292403697967529s\n",
      "epoch # : 493 gamma : 0.5 gen loss : 1.0286399126052856\n"
     ]
    },
    {
     "name": "stderr",
     "output_type": "stream",
     "text": [
      "  4%|▍         | 1/25 [00:00<00:02,  9.43it/s]"
     ]
    },
    {
     "name": "stdout",
     "output_type": "stream",
     "text": [
      "Total number of generated modes is  23\n",
      "The number of high quality samples among 2500 samples is 136\n",
      "The mode dictionary is Counter({7: 16, 16: 12, 8: 11, 11: 9, 23: 9, 0: 9, 1: 8, 9: 7, 10: 7, 19: 6, 6: 6, 22: 5, 21: 4, 14: 4, 17: 4, 4: 3, 2: 3, 18: 3, 3: 3, 24: 2, 15: 2, 12: 2, 13: 1})\n"
     ]
    },
    {
     "name": "stderr",
     "output_type": "stream",
     "text": [
      "100%|██████████| 25/25 [00:00<00:00, 36.29it/s]\n"
     ]
    },
    {
     "name": "stdout",
     "output_type": "stream",
     "text": [
      "spent time for epoch 494 is 0.6949906349182129s\n",
      "epoch # : 494 gamma : 0.5 gen loss : 1.0401439666748047\n"
     ]
    },
    {
     "name": "stderr",
     "output_type": "stream",
     "text": [
      " 20%|██        | 5/25 [00:00<00:00, 48.67it/s]"
     ]
    },
    {
     "name": "stdout",
     "output_type": "stream",
     "text": [
      "Total number of generated modes is  24\n",
      "The number of high quality samples among 2500 samples is 197\n",
      "The mode dictionary is Counter({4: 21, 20: 13, 6: 12, 11: 12, 7: 12, 0: 10, 1: 10, 16: 10, 2: 10, 10: 9, 14: 9, 13: 9, 3: 8, 8: 7, 24: 7, 19: 7, 17: 6, 9: 6, 15: 6, 18: 3, 23: 3, 12: 3, 21: 3, 22: 1})\n"
     ]
    },
    {
     "name": "stderr",
     "output_type": "stream",
     "text": [
      "100%|██████████| 25/25 [00:00<00:00, 41.29it/s]\n"
     ]
    },
    {
     "name": "stdout",
     "output_type": "stream",
     "text": [
      "spent time for epoch 495 is 0.6117129325866699s\n",
      "epoch # : 495 gamma : 0.5 gen loss : 0.9874541759490967\n"
     ]
    },
    {
     "name": "stderr",
     "output_type": "stream",
     "text": [
      " 20%|██        | 5/25 [00:00<00:00, 48.69it/s]"
     ]
    },
    {
     "name": "stdout",
     "output_type": "stream",
     "text": [
      "Total number of generated modes is  24\n",
      "The number of high quality samples among 2500 samples is 170\n",
      "The mode dictionary is Counter({21: 23, 10: 23, 7: 17, 15: 16, 6: 13, 22: 12, 17: 9, 13: 8, 8: 8, 23: 5, 16: 5, 5: 4, 11: 4, 18: 4, 1: 3, 4: 2, 12: 2, 19: 2, 14: 2, 20: 2, 3: 2, 9: 2, 2: 1, 0: 1})\n"
     ]
    },
    {
     "name": "stderr",
     "output_type": "stream",
     "text": [
      "100%|██████████| 25/25 [00:00<00:00, 47.85it/s]\n"
     ]
    },
    {
     "name": "stdout",
     "output_type": "stream",
     "text": [
      "spent time for epoch 496 is 0.5283949375152588s\n",
      "epoch # : 496 gamma : 0.5 gen loss : 0.9726799726486206\n"
     ]
    },
    {
     "name": "stderr",
     "output_type": "stream",
     "text": [
      " 12%|█▏        | 3/25 [00:00<00:00, 29.85it/s]"
     ]
    },
    {
     "name": "stdout",
     "output_type": "stream",
     "text": [
      "Total number of generated modes is  25\n",
      "The number of high quality samples among 2500 samples is 168\n",
      "The mode dictionary is Counter({3: 17, 6: 15, 0: 12, 1: 11, 16: 11, 13: 8, 14: 8, 5: 8, 20: 8, 23: 7, 8: 7, 7: 7, 2: 7, 9: 6, 11: 5, 19: 5, 17: 4, 18: 4, 12: 4, 24: 3, 21: 3, 22: 3, 10: 2, 15: 2, 4: 1})\n"
     ]
    },
    {
     "name": "stderr",
     "output_type": "stream",
     "text": [
      "100%|██████████| 25/25 [00:00<00:00, 46.70it/s]\n"
     ]
    },
    {
     "name": "stdout",
     "output_type": "stream",
     "text": [
      "spent time for epoch 497 is 0.5413644313812256s\n",
      "epoch # : 497 gamma : 0.5 gen loss : 0.985285222530365\n"
     ]
    },
    {
     "name": "stderr",
     "output_type": "stream",
     "text": [
      " 20%|██        | 5/25 [00:00<00:00, 48.55it/s]"
     ]
    },
    {
     "name": "stdout",
     "output_type": "stream",
     "text": [
      "Total number of generated modes is  25\n",
      "The number of high quality samples among 2500 samples is 148\n",
      "The mode dictionary is Counter({22: 18, 7: 16, 5: 13, 15: 12, 10: 10, 16: 9, 20: 9, 6: 8, 24: 7, 11: 6, 23: 6, 13: 5, 4: 3, 1: 3, 17: 3, 14: 3, 0: 2, 2: 2, 9: 2, 19: 2, 8: 2, 3: 2, 12: 2, 21: 2, 18: 1})\n"
     ]
    },
    {
     "name": "stderr",
     "output_type": "stream",
     "text": [
      "100%|██████████| 25/25 [00:00<00:00, 47.93it/s]\n"
     ]
    },
    {
     "name": "stdout",
     "output_type": "stream",
     "text": [
      "spent time for epoch 498 is 0.5292773246765137s\n",
      "epoch # : 498 gamma : 0.5 gen loss : 1.0126415491104126\n"
     ]
    },
    {
     "name": "stderr",
     "output_type": "stream",
     "text": [
      " 20%|██        | 5/25 [00:00<00:00, 48.58it/s]"
     ]
    },
    {
     "name": "stdout",
     "output_type": "stream",
     "text": [
      "Total number of generated modes is  24\n",
      "The number of high quality samples among 2500 samples is 198\n",
      "The mode dictionary is Counter({22: 21, 21: 21, 23: 18, 16: 13, 19: 11, 20: 10, 6: 10, 17: 10, 24: 8, 3: 8, 7: 7, 14: 7, 13: 7, 2: 6, 0: 6, 15: 6, 11: 5, 1: 4, 9: 4, 18: 4, 5: 4, 4: 4, 10: 3, 8: 1})\n"
     ]
    },
    {
     "name": "stderr",
     "output_type": "stream",
     "text": [
      "100%|██████████| 25/25 [00:00<00:00, 48.30it/s]\n"
     ]
    },
    {
     "name": "stdout",
     "output_type": "stream",
     "text": [
      "spent time for epoch 499 is 0.5237951278686523s\n",
      "epoch # : 499 gamma : 0.5 gen loss : 0.9965678453445435\n"
     ]
    },
    {
     "name": "stderr",
     "output_type": "stream",
     "text": [
      " 20%|██        | 5/25 [00:00<00:00, 48.78it/s]"
     ]
    },
    {
     "name": "stdout",
     "output_type": "stream",
     "text": [
      "Total number of generated modes is  25\n",
      "The number of high quality samples among 2500 samples is 148\n",
      "The mode dictionary is Counter({20: 24, 10: 14, 7: 11, 5: 10, 21: 10, 12: 7, 8: 7, 11: 7, 22: 7, 0: 6, 17: 6, 16: 5, 15: 5, 1: 4, 13: 4, 18: 4, 14: 3, 24: 3, 3: 3, 4: 2, 6: 2, 19: 1, 9: 1, 2: 1, 23: 1})\n"
     ]
    },
    {
     "name": "stderr",
     "output_type": "stream",
     "text": [
      "100%|██████████| 25/25 [00:00<00:00, 48.08it/s]\n"
     ]
    },
    {
     "name": "stdout",
     "output_type": "stream",
     "text": [
      "spent time for epoch 500 is 0.5261693000793457s\n",
      "epoch # : 500 gamma : 0.5 gen loss : 1.0065653324127197\n"
     ]
    },
    {
     "name": "stderr",
     "output_type": "stream",
     "text": [
      " 20%|██        | 5/25 [00:00<00:00, 47.69it/s]"
     ]
    },
    {
     "name": "stdout",
     "output_type": "stream",
     "text": [
      "Total number of generated modes is  25\n",
      "The number of high quality samples among 2500 samples is 192\n",
      "The mode dictionary is Counter({22: 44, 16: 16, 7: 14, 8: 13, 17: 12, 4: 11, 11: 10, 14: 10, 13: 9, 21: 7, 9: 6, 3: 5, 6: 5, 19: 5, 12: 4, 5: 3, 2: 3, 1: 3, 15: 2, 20: 2, 23: 2, 18: 2, 10: 2, 24: 1, 0: 1})\n"
     ]
    },
    {
     "name": "stderr",
     "output_type": "stream",
     "text": [
      "100%|██████████| 25/25 [00:00<00:00, 47.07it/s]\n"
     ]
    },
    {
     "name": "stdout",
     "output_type": "stream",
     "text": [
      "spent time for epoch 501 is 0.5371112823486328s\n",
      "epoch # : 501 gamma : 0.5 gen loss : 1.0330781936645508\n"
     ]
    },
    {
     "name": "stderr",
     "output_type": "stream",
     "text": [
      " 20%|██        | 5/25 [00:00<00:00, 47.79it/s]"
     ]
    },
    {
     "name": "stdout",
     "output_type": "stream",
     "text": [
      "Total number of generated modes is  24\n",
      "The number of high quality samples among 2500 samples is 222\n",
      "The mode dictionary is Counter({0: 33, 5: 23, 20: 22, 6: 15, 21: 13, 7: 11, 16: 11, 11: 11, 8: 10, 17: 10, 22: 9, 15: 8, 10: 6, 3: 6, 18: 6, 12: 6, 2: 5, 24: 4, 23: 4, 13: 3, 19: 2, 1: 2, 9: 1, 4: 1})\n"
     ]
    },
    {
     "name": "stderr",
     "output_type": "stream",
     "text": [
      "100%|██████████| 25/25 [00:00<00:00, 47.45it/s]\n"
     ]
    },
    {
     "name": "stdout",
     "output_type": "stream",
     "text": [
      "spent time for epoch 502 is 0.5330004692077637s\n",
      "epoch # : 502 gamma : 0.5 gen loss : 0.9662595987319946\n"
     ]
    },
    {
     "name": "stderr",
     "output_type": "stream",
     "text": [
      "  4%|▍         | 1/25 [00:00<00:03,  6.83it/s]"
     ]
    },
    {
     "name": "stdout",
     "output_type": "stream",
     "text": [
      "Total number of generated modes is  21\n",
      "The number of high quality samples among 2500 samples is 120\n",
      "The mode dictionary is Counter({6: 15, 7: 14, 16: 14, 5: 14, 0: 9, 11: 9, 8: 8, 17: 6, 21: 6, 10: 5, 3: 3, 4: 3, 23: 3, 24: 2, 15: 2, 12: 2, 20: 1, 2: 1, 14: 1, 22: 1, 18: 1})\n"
     ]
    },
    {
     "name": "stderr",
     "output_type": "stream",
     "text": [
      "100%|██████████| 25/25 [00:00<00:00, 42.02it/s]\n"
     ]
    },
    {
     "name": "stdout",
     "output_type": "stream",
     "text": [
      "spent time for epoch 503 is 0.6002328395843506s\n",
      "epoch # : 503 gamma : 0.5 gen loss : 1.0344146490097046\n"
     ]
    },
    {
     "name": "stderr",
     "output_type": "stream",
     "text": [
      " 20%|██        | 5/25 [00:00<00:00, 47.85it/s]"
     ]
    },
    {
     "name": "stdout",
     "output_type": "stream",
     "text": [
      "Total number of generated modes is  25\n",
      "The number of high quality samples among 2500 samples is 145\n",
      "The mode dictionary is Counter({6: 16, 9: 14, 17: 11, 16: 10, 8: 10, 7: 9, 2: 7, 1: 6, 5: 6, 11: 5, 13: 5, 14: 5, 4: 5, 3: 5, 21: 5, 12: 5, 19: 4, 18: 4, 0: 3, 10: 3, 20: 2, 23: 2, 24: 1, 22: 1, 15: 1})\n"
     ]
    },
    {
     "name": "stderr",
     "output_type": "stream",
     "text": [
      "100%|██████████| 25/25 [00:00<00:00, 46.02it/s]\n"
     ]
    },
    {
     "name": "stdout",
     "output_type": "stream",
     "text": [
      "spent time for epoch 504 is 0.549095869064331s\n",
      "epoch # : 504 gamma : 0.5 gen loss : 1.029226541519165\n"
     ]
    },
    {
     "name": "stderr",
     "output_type": "stream",
     "text": [
      " 20%|██        | 5/25 [00:00<00:00, 48.69it/s]"
     ]
    },
    {
     "name": "stdout",
     "output_type": "stream",
     "text": [
      "Total number of generated modes is  25\n",
      "The number of high quality samples among 2500 samples is 145\n",
      "The mode dictionary is Counter({5: 20, 20: 19, 8: 14, 11: 11, 15: 11, 6: 9, 10: 8, 16: 6, 7: 6, 13: 6, 21: 5, 17: 4, 14: 3, 0: 3, 12: 3, 18: 3, 1: 2, 4: 2, 23: 2, 3: 2, 22: 2, 24: 1, 9: 1, 2: 1, 19: 1})\n"
     ]
    },
    {
     "name": "stderr",
     "output_type": "stream",
     "text": [
      "100%|██████████| 25/25 [00:00<00:00, 47.81it/s]\n"
     ]
    },
    {
     "name": "stdout",
     "output_type": "stream",
     "text": [
      "spent time for epoch 505 is 0.5287473201751709s\n",
      "epoch # : 505 gamma : 0.5 gen loss : 1.0194816589355469\n"
     ]
    },
    {
     "name": "stderr",
     "output_type": "stream",
     "text": [
      " 20%|██        | 5/25 [00:00<00:00, 47.53it/s]"
     ]
    },
    {
     "name": "stdout",
     "output_type": "stream",
     "text": [
      "Total number of generated modes is  23\n",
      "The number of high quality samples among 2500 samples is 154\n",
      "The mode dictionary is Counter({8: 14, 15: 11, 1: 11, 0: 11, 16: 11, 3: 9, 11: 9, 7: 8, 6: 8, 17: 8, 10: 8, 13: 7, 20: 7, 24: 6, 12: 6, 2: 4, 21: 4, 22: 4, 18: 3, 9: 2, 4: 1, 23: 1, 19: 1})\n"
     ]
    },
    {
     "name": "stderr",
     "output_type": "stream",
     "text": [
      "100%|██████████| 25/25 [00:00<00:00, 47.70it/s]\n"
     ]
    },
    {
     "name": "stdout",
     "output_type": "stream",
     "text": [
      "spent time for epoch 506 is 0.5299167633056641s\n",
      "epoch # : 506 gamma : 0.5 gen loss : 1.048454999923706\n"
     ]
    },
    {
     "name": "stderr",
     "output_type": "stream",
     "text": [
      " 16%|█▌        | 4/25 [00:00<00:00, 39.73it/s]"
     ]
    },
    {
     "name": "stdout",
     "output_type": "stream",
     "text": [
      "Total number of generated modes is  24\n",
      "The number of high quality samples among 2500 samples is 243\n",
      "The mode dictionary is Counter({22: 27, 4: 26, 0: 20, 7: 19, 23: 15, 1: 15, 8: 13, 2: 12, 5: 11, 16: 11, 17: 11, 21: 9, 6: 8, 9: 7, 11: 6, 3: 6, 13: 6, 12: 4, 14: 3, 15: 3, 18: 3, 24: 3, 10: 3, 19: 2})\n"
     ]
    },
    {
     "name": "stderr",
     "output_type": "stream",
     "text": [
      "100%|██████████| 25/25 [00:00<00:00, 47.86it/s]\n"
     ]
    },
    {
     "name": "stdout",
     "output_type": "stream",
     "text": [
      "spent time for epoch 507 is 0.5282394886016846s\n",
      "epoch # : 507 gamma : 0.5 gen loss : 0.981859564781189\n"
     ]
    },
    {
     "name": "stderr",
     "output_type": "stream",
     "text": [
      " 20%|██        | 5/25 [00:00<00:00, 48.74it/s]"
     ]
    },
    {
     "name": "stdout",
     "output_type": "stream",
     "text": [
      "Total number of generated modes is  24\n",
      "The number of high quality samples among 2500 samples is 121\n",
      "The mode dictionary is Counter({10: 17, 6: 12, 15: 11, 7: 7, 20: 7, 9: 7, 17: 6, 3: 6, 2: 5, 0: 5, 1: 5, 8: 5, 16: 5, 12: 4, 11: 4, 4: 3, 22: 2, 18: 2, 24: 2, 23: 2, 13: 1, 14: 1, 5: 1, 21: 1})\n"
     ]
    },
    {
     "name": "stderr",
     "output_type": "stream",
     "text": [
      "100%|██████████| 25/25 [00:00<00:00, 48.08it/s]\n"
     ]
    },
    {
     "name": "stdout",
     "output_type": "stream",
     "text": [
      "spent time for epoch 508 is 0.5257551670074463s\n",
      "epoch # : 508 gamma : 0.5 gen loss : 0.9998005628585815\n"
     ]
    },
    {
     "name": "stderr",
     "output_type": "stream",
     "text": [
      " 20%|██        | 5/25 [00:00<00:00, 47.48it/s]"
     ]
    },
    {
     "name": "stdout",
     "output_type": "stream",
     "text": [
      "Total number of generated modes is  24\n",
      "The number of high quality samples among 2500 samples is 180\n",
      "The mode dictionary is Counter({10: 32, 20: 21, 15: 17, 16: 16, 8: 12, 18: 9, 11: 9, 5: 9, 7: 8, 17: 8, 6: 8, 22: 4, 12: 4, 13: 4, 21: 3, 19: 3, 2: 2, 0: 2, 9: 2, 23: 2, 1: 2, 14: 1, 3: 1, 4: 1})\n"
     ]
    },
    {
     "name": "stderr",
     "output_type": "stream",
     "text": [
      "100%|██████████| 25/25 [00:00<00:00, 47.60it/s]\n"
     ]
    },
    {
     "name": "stdout",
     "output_type": "stream",
     "text": [
      "spent time for epoch 509 is 0.5307812690734863s\n",
      "epoch # : 509 gamma : 0.5 gen loss : 1.0102393627166748\n"
     ]
    },
    {
     "name": "stderr",
     "output_type": "stream",
     "text": [
      " 20%|██        | 5/25 [00:00<00:00, 48.65it/s]"
     ]
    },
    {
     "name": "stdout",
     "output_type": "stream",
     "text": [
      "Total number of generated modes is  23\n",
      "The number of high quality samples among 2500 samples is 207\n",
      "The mode dictionary is Counter({4: 22, 22: 19, 5: 19, 10: 19, 16: 12, 2: 12, 7: 11, 3: 9, 23: 9, 6: 8, 11: 8, 15: 8, 17: 7, 8: 7, 1: 7, 9: 7, 13: 7, 14: 5, 20: 5, 12: 2, 18: 2, 19: 1, 0: 1})\n"
     ]
    },
    {
     "name": "stderr",
     "output_type": "stream",
     "text": [
      "100%|██████████| 25/25 [00:00<00:00, 47.36it/s]\n"
     ]
    },
    {
     "name": "stdout",
     "output_type": "stream",
     "text": [
      "spent time for epoch 510 is 0.5336289405822754s\n",
      "epoch # : 510 gamma : 0.5 gen loss : 0.9719138741493225\n"
     ]
    },
    {
     "name": "stderr",
     "output_type": "stream",
     "text": [
      " 20%|██        | 5/25 [00:00<00:00, 48.19it/s]"
     ]
    },
    {
     "name": "stdout",
     "output_type": "stream",
     "text": [
      "Total number of generated modes is  24\n",
      "The number of high quality samples among 2500 samples is 153\n",
      "The mode dictionary is Counter({24: 14, 20: 12, 3: 12, 16: 11, 21: 11, 11: 11, 2: 10, 0: 9, 7: 9, 6: 9, 15: 6, 8: 6, 1: 5, 19: 4, 12: 4, 14: 4, 10: 4, 5: 3, 17: 3, 13: 2, 9: 1, 4: 1, 23: 1, 22: 1})\n"
     ]
    },
    {
     "name": "stderr",
     "output_type": "stream",
     "text": [
      "100%|██████████| 25/25 [00:00<00:00, 47.96it/s]\n"
     ]
    },
    {
     "name": "stdout",
     "output_type": "stream",
     "text": [
      "spent time for epoch 511 is 0.5268106460571289s\n",
      "epoch # : 511 gamma : 0.5 gen loss : 1.0265414714813232\n"
     ]
    },
    {
     "name": "stderr",
     "output_type": "stream",
     "text": [
      " 20%|██        | 5/25 [00:00<00:00, 48.38it/s]"
     ]
    },
    {
     "name": "stdout",
     "output_type": "stream",
     "text": [
      "Total number of generated modes is  24\n",
      "The number of high quality samples among 2500 samples is 199\n",
      "The mode dictionary is Counter({22: 23, 8: 16, 23: 15, 6: 15, 7: 14, 14: 10, 5: 10, 10: 9, 20: 9, 4: 9, 15: 8, 21: 8, 16: 8, 18: 7, 17: 7, 9: 7, 11: 6, 24: 6, 3: 5, 1: 2, 0: 2, 2: 1, 13: 1, 19: 1})\n"
     ]
    },
    {
     "name": "stderr",
     "output_type": "stream",
     "text": [
      "100%|██████████| 25/25 [00:00<00:00, 47.88it/s]\n"
     ]
    },
    {
     "name": "stdout",
     "output_type": "stream",
     "text": [
      "spent time for epoch 512 is 0.5279207229614258s\n",
      "epoch # : 512 gamma : 0.5 gen loss : 0.9690048098564148\n"
     ]
    },
    {
     "name": "stderr",
     "output_type": "stream",
     "text": [
      " 20%|██        | 5/25 [00:00<00:00, 49.68it/s]"
     ]
    },
    {
     "name": "stdout",
     "output_type": "stream",
     "text": [
      "Total number of generated modes is  23\n",
      "The number of high quality samples among 2500 samples is 200\n",
      "The mode dictionary is Counter({10: 30, 21: 24, 5: 19, 16: 17, 15: 17, 23: 16, 8: 12, 22: 9, 6: 9, 3: 7, 24: 5, 11: 5, 1: 5, 7: 4, 17: 4, 20: 4, 13: 4, 18: 2, 2: 2, 4: 2, 14: 1, 19: 1, 9: 1})\n"
     ]
    },
    {
     "name": "stderr",
     "output_type": "stream",
     "text": [
      "100%|██████████| 25/25 [00:00<00:00, 49.12it/s]\n"
     ]
    },
    {
     "name": "stdout",
     "output_type": "stream",
     "text": [
      "spent time for epoch 513 is 0.5147595405578613s\n",
      "epoch # : 513 gamma : 0.5 gen loss : 1.034162998199463\n"
     ]
    },
    {
     "name": "stderr",
     "output_type": "stream",
     "text": [
      "  4%|▍         | 1/25 [00:00<00:03,  7.30it/s]"
     ]
    },
    {
     "name": "stdout",
     "output_type": "stream",
     "text": [
      "Total number of generated modes is  24\n",
      "The number of high quality samples among 2500 samples is 158\n",
      "The mode dictionary is Counter({0: 23, 7: 16, 16: 14, 8: 14, 9: 10, 3: 9, 21: 9, 11: 8, 18: 8, 19: 8, 14: 6, 2: 6, 1: 5, 6: 5, 13: 3, 5: 3, 4: 3, 24: 2, 17: 1, 12: 1, 22: 1, 23: 1, 10: 1, 15: 1})\n"
     ]
    },
    {
     "name": "stderr",
     "output_type": "stream",
     "text": [
      "100%|██████████| 25/25 [00:00<00:00, 43.74it/s]\n"
     ]
    },
    {
     "name": "stdout",
     "output_type": "stream",
     "text": [
      "spent time for epoch 514 is 0.5773282051086426s\n",
      "epoch # : 514 gamma : 0.5 gen loss : 1.0093640089035034\n"
     ]
    },
    {
     "name": "stderr",
     "output_type": "stream",
     "text": [
      " 20%|██        | 5/25 [00:00<00:00, 48.17it/s]"
     ]
    },
    {
     "name": "stdout",
     "output_type": "stream",
     "text": [
      "Total number of generated modes is  24\n",
      "The number of high quality samples among 2500 samples is 149\n",
      "The mode dictionary is Counter({7: 17, 3: 15, 2: 12, 16: 11, 11: 10, 10: 8, 6: 7, 23: 7, 21: 7, 13: 6, 8: 6, 24: 5, 22: 5, 17: 5, 14: 4, 1: 4, 15: 4, 5: 3, 4: 3, 18: 3, 0: 3, 20: 2, 12: 1, 19: 1})\n"
     ]
    },
    {
     "name": "stderr",
     "output_type": "stream",
     "text": [
      "100%|██████████| 25/25 [00:00<00:00, 48.62it/s]\n"
     ]
    },
    {
     "name": "stdout",
     "output_type": "stream",
     "text": [
      "spent time for epoch 515 is 0.5202655792236328s\n",
      "epoch # : 515 gamma : 0.5 gen loss : 1.0159765481948853\n"
     ]
    },
    {
     "name": "stderr",
     "output_type": "stream",
     "text": [
      " 20%|██        | 5/25 [00:00<00:00, 48.54it/s]"
     ]
    },
    {
     "name": "stdout",
     "output_type": "stream",
     "text": [
      "Total number of generated modes is  23\n",
      "The number of high quality samples among 2500 samples is 205\n",
      "The mode dictionary is Counter({5: 26, 4: 18, 7: 17, 8: 14, 14: 14, 17: 13, 22: 13, 11: 10, 3: 10, 9: 9, 16: 8, 18: 8, 19: 7, 12: 7, 6: 7, 2: 6, 23: 4, 20: 3, 24: 3, 13: 3, 15: 2, 0: 2, 1: 1})\n"
     ]
    },
    {
     "name": "stderr",
     "output_type": "stream",
     "text": [
      "100%|██████████| 25/25 [00:00<00:00, 48.66it/s]\n"
     ]
    },
    {
     "name": "stdout",
     "output_type": "stream",
     "text": [
      "spent time for epoch 516 is 0.519690990447998s\n",
      "epoch # : 516 gamma : 0.5 gen loss : 1.011689305305481\n"
     ]
    },
    {
     "name": "stderr",
     "output_type": "stream",
     "text": [
      " 20%|██        | 5/25 [00:00<00:00, 47.71it/s]"
     ]
    },
    {
     "name": "stdout",
     "output_type": "stream",
     "text": [
      "Total number of generated modes is  25\n",
      "The number of high quality samples among 2500 samples is 153\n",
      "The mode dictionary is Counter({15: 13, 0: 13, 11: 12, 1: 12, 8: 10, 20: 10, 2: 10, 23: 9, 17: 8, 7: 8, 12: 6, 6: 6, 18: 6, 16: 5, 13: 4, 10: 4, 5: 3, 14: 3, 24: 2, 19: 2, 3: 2, 4: 2, 21: 1, 22: 1, 9: 1})\n"
     ]
    },
    {
     "name": "stderr",
     "output_type": "stream",
     "text": [
      "100%|██████████| 25/25 [00:00<00:00, 48.18it/s]\n"
     ]
    },
    {
     "name": "stdout",
     "output_type": "stream",
     "text": [
      "spent time for epoch 517 is 0.5252182483673096s\n",
      "epoch # : 517 gamma : 0.5 gen loss : 1.0061205625534058\n"
     ]
    },
    {
     "name": "stderr",
     "output_type": "stream",
     "text": [
      " 20%|██        | 5/25 [00:00<00:00, 48.55it/s]"
     ]
    },
    {
     "name": "stdout",
     "output_type": "stream",
     "text": [
      "Total number of generated modes is  24\n",
      "The number of high quality samples among 2500 samples is 179\n",
      "The mode dictionary is Counter({6: 19, 5: 17, 4: 13, 16: 13, 2: 13, 20: 13, 15: 11, 8: 10, 17: 8, 3: 7, 21: 7, 12: 6, 18: 6, 7: 6, 22: 5, 9: 5, 11: 4, 10: 4, 0: 3, 1: 3, 24: 2, 14: 2, 13: 1, 19: 1})\n"
     ]
    },
    {
     "name": "stderr",
     "output_type": "stream",
     "text": [
      "100%|██████████| 25/25 [00:00<00:00, 47.81it/s]\n"
     ]
    },
    {
     "name": "stdout",
     "output_type": "stream",
     "text": [
      "spent time for epoch 518 is 0.5287351608276367s\n",
      "epoch # : 518 gamma : 0.5 gen loss : 0.9956220984458923\n"
     ]
    },
    {
     "name": "stderr",
     "output_type": "stream",
     "text": [
      " 20%|██        | 5/25 [00:00<00:00, 49.06it/s]"
     ]
    },
    {
     "name": "stdout",
     "output_type": "stream",
     "text": [
      "Total number of generated modes is  24\n",
      "The number of high quality samples among 2500 samples is 208\n",
      "The mode dictionary is Counter({0: 34, 6: 16, 10: 14, 15: 14, 8: 13, 7: 12, 1: 11, 16: 11, 20: 11, 3: 10, 11: 8, 2: 7, 9: 7, 17: 7, 5: 6, 24: 5, 13: 4, 18: 4, 19: 4, 21: 3, 12: 3, 22: 2, 14: 1, 23: 1})\n"
     ]
    },
    {
     "name": "stderr",
     "output_type": "stream",
     "text": [
      "100%|██████████| 25/25 [00:00<00:00, 48.62it/s]\n"
     ]
    },
    {
     "name": "stdout",
     "output_type": "stream",
     "text": [
      "spent time for epoch 519 is 0.5200328826904297s\n",
      "epoch # : 519 gamma : 0.5 gen loss : 1.0306613445281982\n"
     ]
    },
    {
     "name": "stderr",
     "output_type": "stream",
     "text": [
      " 20%|██        | 5/25 [00:00<00:00, 49.24it/s]"
     ]
    },
    {
     "name": "stdout",
     "output_type": "stream",
     "text": [
      "Total number of generated modes is  24\n",
      "The number of high quality samples among 2500 samples is 218\n",
      "The mode dictionary is Counter({20: 30, 1: 18, 3: 16, 7: 15, 21: 14, 6: 13, 4: 11, 0: 10, 24: 10, 18: 10, 16: 9, 8: 8, 11: 8, 19: 7, 13: 7, 17: 6, 12: 6, 22: 6, 2: 5, 9: 3, 23: 2, 15: 2, 5: 1, 14: 1})\n"
     ]
    },
    {
     "name": "stderr",
     "output_type": "stream",
     "text": [
      "100%|██████████| 25/25 [00:00<00:00, 48.89it/s]\n"
     ]
    },
    {
     "name": "stdout",
     "output_type": "stream",
     "text": [
      "spent time for epoch 520 is 0.5173118114471436s\n",
      "epoch # : 520 gamma : 0.5 gen loss : 0.958941638469696\n"
     ]
    },
    {
     "name": "stderr",
     "output_type": "stream",
     "text": [
      " 20%|██        | 5/25 [00:00<00:00, 49.37it/s]"
     ]
    },
    {
     "name": "stdout",
     "output_type": "stream",
     "text": [
      "Total number of generated modes is  24\n",
      "The number of high quality samples among 2500 samples is 155\n",
      "The mode dictionary is Counter({7: 20, 5: 17, 6: 17, 16: 15, 0: 9, 21: 9, 8: 7, 18: 7, 14: 6, 17: 6, 15: 6, 11: 5, 12: 4, 2: 4, 3: 4, 13: 3, 1: 3, 9: 3, 24: 2, 19: 2, 22: 2, 10: 2, 20: 1, 4: 1})\n"
     ]
    },
    {
     "name": "stderr",
     "output_type": "stream",
     "text": [
      "100%|██████████| 25/25 [00:00<00:00, 49.01it/s]\n"
     ]
    },
    {
     "name": "stdout",
     "output_type": "stream",
     "text": [
      "spent time for epoch 521 is 0.5156397819519043s\n",
      "epoch # : 521 gamma : 0.5 gen loss : 0.9703416228294373\n"
     ]
    },
    {
     "name": "stderr",
     "output_type": "stream",
     "text": [
      " 20%|██        | 5/25 [00:00<00:00, 48.74it/s]"
     ]
    },
    {
     "name": "stdout",
     "output_type": "stream",
     "text": [
      "Total number of generated modes is  25\n",
      "The number of high quality samples among 2500 samples is 149\n",
      "The mode dictionary is Counter({10: 16, 7: 15, 5: 15, 15: 9, 17: 8, 22: 8, 16: 8, 13: 7, 6: 7, 23: 7, 8: 6, 11: 5, 0: 4, 21: 4, 1: 4, 20: 4, 18: 4, 2: 3, 14: 3, 9: 3, 12: 3, 24: 2, 19: 2, 3: 1, 4: 1})\n"
     ]
    },
    {
     "name": "stderr",
     "output_type": "stream",
     "text": [
      "100%|██████████| 25/25 [00:00<00:00, 49.09it/s]\n"
     ]
    },
    {
     "name": "stdout",
     "output_type": "stream",
     "text": [
      "spent time for epoch 522 is 0.515064001083374s\n",
      "epoch # : 522 gamma : 0.5 gen loss : 0.9970094561576843\n"
     ]
    },
    {
     "name": "stderr",
     "output_type": "stream",
     "text": [
      " 20%|██        | 5/25 [00:00<00:00, 49.28it/s]"
     ]
    },
    {
     "name": "stdout",
     "output_type": "stream",
     "text": [
      "Total number of generated modes is  24\n",
      "The number of high quality samples among 2500 samples is 208\n",
      "The mode dictionary is Counter({22: 25, 10: 17, 6: 16, 17: 14, 8: 14, 15: 11, 2: 11, 11: 11, 7: 11, 9: 9, 23: 9, 18: 8, 14: 6, 0: 6, 3: 6, 1: 6, 13: 5, 16: 5, 12: 5, 5: 5, 4: 3, 20: 3, 19: 1, 24: 1})\n"
     ]
    },
    {
     "name": "stderr",
     "output_type": "stream",
     "text": [
      "100%|██████████| 25/25 [00:00<00:00, 48.71it/s]\n"
     ]
    },
    {
     "name": "stdout",
     "output_type": "stream",
     "text": [
      "spent time for epoch 523 is 0.5191740989685059s\n",
      "epoch # : 523 gamma : 0.5 gen loss : 0.9936802387237549\n"
     ]
    },
    {
     "name": "stderr",
     "output_type": "stream",
     "text": [
      " 16%|█▌        | 4/25 [00:00<00:00, 39.07it/s]"
     ]
    },
    {
     "name": "stdout",
     "output_type": "stream",
     "text": [
      "Total number of generated modes is  22\n",
      "The number of high quality samples among 2500 samples is 151\n",
      "The mode dictionary is Counter({0: 17, 5: 15, 20: 14, 7: 12, 6: 11, 15: 10, 8: 10, 10: 10, 18: 7, 11: 7, 16: 7, 24: 5, 17: 5, 9: 5, 19: 4, 13: 4, 3: 2, 22: 2, 23: 1, 21: 1, 2: 1, 1: 1})\n"
     ]
    },
    {
     "name": "stderr",
     "output_type": "stream",
     "text": [
      "100%|██████████| 25/25 [00:00<00:00, 48.26it/s]\n"
     ]
    },
    {
     "name": "stdout",
     "output_type": "stream",
     "text": [
      "spent time for epoch 524 is 0.5237083435058594s\n",
      "epoch # : 524 gamma : 0.5 gen loss : 1.0053489208221436\n"
     ]
    },
    {
     "name": "stderr",
     "output_type": "stream",
     "text": [
      "  4%|▍         | 1/25 [00:00<00:03,  7.15it/s]"
     ]
    },
    {
     "name": "stdout",
     "output_type": "stream",
     "text": [
      "Total number of generated modes is  25\n",
      "The number of high quality samples among 2500 samples is 191\n",
      "The mode dictionary is Counter({4: 19, 7: 15, 8: 14, 17: 14, 16: 13, 2: 11, 6: 11, 11: 10, 18: 9, 5: 9, 3: 8, 0: 8, 9: 7, 15: 6, 1: 5, 22: 5, 24: 4, 14: 4, 10: 4, 23: 3, 19: 3, 20: 3, 12: 2, 21: 2, 13: 2})\n"
     ]
    },
    {
     "name": "stderr",
     "output_type": "stream",
     "text": [
      "100%|██████████| 25/25 [00:00<00:00, 43.10it/s]\n"
     ]
    },
    {
     "name": "stdout",
     "output_type": "stream",
     "text": [
      "spent time for epoch 525 is 0.5862119197845459s\n",
      "epoch # : 525 gamma : 0.5 gen loss : 1.0344074964523315\n"
     ]
    },
    {
     "name": "stderr",
     "output_type": "stream",
     "text": [
      " 20%|██        | 5/25 [00:00<00:00, 49.52it/s]"
     ]
    },
    {
     "name": "stdout",
     "output_type": "stream",
     "text": [
      "Total number of generated modes is  22\n",
      "The number of high quality samples among 2500 samples is 149\n",
      "The mode dictionary is Counter({5: 23, 7: 14, 21: 13, 6: 10, 8: 10, 17: 9, 16: 8, 11: 7, 1: 7, 18: 6, 9: 5, 10: 5, 23: 5, 12: 4, 13: 4, 15: 4, 24: 4, 3: 4, 22: 3, 20: 2, 14: 1, 4: 1})\n"
     ]
    },
    {
     "name": "stderr",
     "output_type": "stream",
     "text": [
      "100%|██████████| 25/25 [00:00<00:00, 49.24it/s]\n"
     ]
    },
    {
     "name": "stdout",
     "output_type": "stream",
     "text": [
      "spent time for epoch 526 is 0.5133793354034424s\n",
      "epoch # : 526 gamma : 0.5 gen loss : 1.0445021390914917\n"
     ]
    },
    {
     "name": "stderr",
     "output_type": "stream",
     "text": [
      " 20%|██        | 5/25 [00:00<00:00, 49.49it/s]"
     ]
    },
    {
     "name": "stdout",
     "output_type": "stream",
     "text": [
      "Total number of generated modes is  24\n",
      "The number of high quality samples among 2500 samples is 217\n",
      "The mode dictionary is Counter({5: 41, 23: 20, 7: 19, 10: 17, 11: 14, 18: 11, 15: 11, 16: 10, 20: 9, 24: 9, 6: 7, 1: 7, 17: 7, 8: 7, 21: 5, 13: 4, 3: 4, 22: 3, 12: 3, 9: 3, 14: 2, 19: 2, 2: 1, 4: 1})\n"
     ]
    },
    {
     "name": "stderr",
     "output_type": "stream",
     "text": [
      "100%|██████████| 25/25 [00:00<00:00, 49.39it/s]\n"
     ]
    },
    {
     "name": "stdout",
     "output_type": "stream",
     "text": [
      "spent time for epoch 527 is 0.51194167137146s\n",
      "epoch # : 527 gamma : 0.5 gen loss : 1.0124046802520752\n"
     ]
    },
    {
     "name": "stderr",
     "output_type": "stream",
     "text": [
      " 20%|██        | 5/25 [00:00<00:00, 47.96it/s]"
     ]
    },
    {
     "name": "stdout",
     "output_type": "stream",
     "text": [
      "Total number of generated modes is  25\n",
      "The number of high quality samples among 2500 samples is 194\n",
      "The mode dictionary is Counter({7: 19, 3: 15, 8: 14, 9: 14, 1: 14, 2: 12, 21: 12, 5: 11, 6: 10, 16: 10, 4: 9, 20: 9, 18: 8, 13: 5, 11: 5, 0: 5, 12: 5, 17: 4, 23: 3, 14: 3, 19: 2, 15: 2, 22: 1, 24: 1, 10: 1})\n"
     ]
    },
    {
     "name": "stderr",
     "output_type": "stream",
     "text": [
      "100%|██████████| 25/25 [00:00<00:00, 49.12it/s]\n"
     ]
    },
    {
     "name": "stdout",
     "output_type": "stream",
     "text": [
      "spent time for epoch 528 is 0.5149848461151123s\n",
      "epoch # : 528 gamma : 0.5 gen loss : 0.9933143258094788\n"
     ]
    },
    {
     "name": "stderr",
     "output_type": "stream",
     "text": [
      " 20%|██        | 5/25 [00:00<00:00, 49.29it/s]"
     ]
    },
    {
     "name": "stdout",
     "output_type": "stream",
     "text": [
      "Total number of generated modes is  22\n",
      "The number of high quality samples among 2500 samples is 184\n",
      "The mode dictionary is Counter({21: 40, 5: 24, 20: 15, 16: 12, 7: 11, 8: 10, 17: 10, 23: 9, 6: 8, 13: 6, 24: 6, 15: 5, 12: 5, 18: 5, 11: 4, 3: 4, 10: 3, 1: 2, 4: 2, 9: 1, 22: 1, 0: 1})\n"
     ]
    },
    {
     "name": "stderr",
     "output_type": "stream",
     "text": [
      "100%|██████████| 25/25 [00:00<00:00, 48.86it/s]\n"
     ]
    },
    {
     "name": "stdout",
     "output_type": "stream",
     "text": [
      "spent time for epoch 529 is 0.5178613662719727s\n",
      "epoch # : 529 gamma : 0.5 gen loss : 0.995741605758667\n"
     ]
    },
    {
     "name": "stderr",
     "output_type": "stream",
     "text": [
      " 20%|██        | 5/25 [00:00<00:00, 47.48it/s]"
     ]
    },
    {
     "name": "stdout",
     "output_type": "stream",
     "text": [
      "Total number of generated modes is  25\n",
      "The number of high quality samples among 2500 samples is 159\n",
      "The mode dictionary is Counter({17: 14, 14: 13, 7: 11, 8: 10, 5: 10, 3: 9, 13: 9, 12: 8, 19: 8, 9: 8, 16: 8, 24: 7, 18: 7, 2: 6, 11: 6, 4: 5, 21: 4, 15: 3, 1: 3, 6: 3, 0: 2, 20: 2, 10: 1, 22: 1, 23: 1})\n"
     ]
    },
    {
     "name": "stderr",
     "output_type": "stream",
     "text": [
      "100%|██████████| 25/25 [00:00<00:00, 48.46it/s]\n"
     ]
    },
    {
     "name": "stdout",
     "output_type": "stream",
     "text": [
      "spent time for epoch 530 is 0.5217955112457275s\n",
      "epoch # : 530 gamma : 0.5 gen loss : 0.9912968277931213\n"
     ]
    },
    {
     "name": "stderr",
     "output_type": "stream",
     "text": [
      " 20%|██        | 5/25 [00:00<00:00, 47.66it/s]"
     ]
    },
    {
     "name": "stdout",
     "output_type": "stream",
     "text": [
      "Total number of generated modes is  24\n",
      "The number of high quality samples among 2500 samples is 158\n",
      "The mode dictionary is Counter({5: 23, 6: 16, 7: 13, 22: 11, 17: 11, 16: 10, 1: 7, 11: 7, 8: 6, 12: 6, 10: 6, 24: 5, 9: 5, 23: 5, 13: 5, 2: 4, 21: 4, 18: 3, 0: 3, 15: 3, 14: 2, 4: 1, 3: 1, 20: 1})\n"
     ]
    },
    {
     "name": "stderr",
     "output_type": "stream",
     "text": [
      "100%|██████████| 25/25 [00:00<00:00, 48.12it/s]\n"
     ]
    },
    {
     "name": "stdout",
     "output_type": "stream",
     "text": [
      "spent time for epoch 531 is 0.5255787372589111s\n",
      "epoch # : 531 gamma : 0.5 gen loss : 1.0134238004684448\n"
     ]
    },
    {
     "name": "stderr",
     "output_type": "stream",
     "text": [
      " 20%|██        | 5/25 [00:00<00:00, 49.38it/s]"
     ]
    },
    {
     "name": "stdout",
     "output_type": "stream",
     "text": [
      "Total number of generated modes is  24\n",
      "The number of high quality samples among 2500 samples is 177\n",
      "The mode dictionary is Counter({7: 19, 2: 15, 15: 14, 10: 13, 16: 13, 6: 12, 20: 11, 1: 9, 8: 9, 0: 9, 3: 8, 17: 7, 5: 7, 18: 5, 11: 5, 13: 4, 4: 3, 12: 3, 14: 2, 9: 2, 22: 2, 21: 2, 24: 2, 19: 1})\n"
     ]
    },
    {
     "name": "stderr",
     "output_type": "stream",
     "text": [
      "100%|██████████| 25/25 [00:00<00:00, 49.60it/s]\n"
     ]
    },
    {
     "name": "stdout",
     "output_type": "stream",
     "text": [
      "spent time for epoch 532 is 0.5100407600402832s\n",
      "epoch # : 532 gamma : 0.5 gen loss : 1.0155203342437744\n"
     ]
    },
    {
     "name": "stderr",
     "output_type": "stream",
     "text": [
      " 24%|██▍       | 6/25 [00:00<00:00, 34.56it/s]"
     ]
    },
    {
     "name": "stdout",
     "output_type": "stream",
     "text": [
      "Total number of generated modes is  23\n",
      "The number of high quality samples among 2500 samples is 174\n",
      "The mode dictionary is Counter({5: 42, 7: 15, 11: 13, 6: 12, 1: 10, 16: 9, 24: 8, 15: 7, 8: 7, 19: 6, 20: 6, 13: 5, 0: 5, 18: 4, 3: 4, 21: 4, 10: 3, 14: 3, 17: 3, 4: 3, 23: 3, 9: 1, 12: 1})\n"
     ]
    },
    {
     "name": "stderr",
     "output_type": "stream",
     "text": [
      "100%|██████████| 25/25 [00:00<00:00, 49.99it/s]\n"
     ]
    },
    {
     "name": "stdout",
     "output_type": "stream",
     "text": [
      "spent time for epoch 533 is 0.5058591365814209s\n",
      "epoch # : 533 gamma : 0.5 gen loss : 0.9650081992149353\n"
     ]
    },
    {
     "name": "stderr",
     "output_type": "stream",
     "text": [
      " 24%|██▍       | 6/25 [00:00<00:00, 34.35it/s]"
     ]
    },
    {
     "name": "stdout",
     "output_type": "stream",
     "text": [
      "Total number of generated modes is  25\n",
      "The number of high quality samples among 2500 samples is 247\n",
      "The mode dictionary is Counter({5: 36, 21: 24, 16: 17, 20: 15, 24: 15, 9: 14, 15: 11, 14: 11, 23: 10, 17: 10, 10: 9, 2: 9, 22: 9, 19: 8, 11: 8, 13: 7, 0: 6, 7: 5, 3: 5, 18: 5, 6: 4, 4: 4, 12: 2, 1: 2, 8: 1})\n"
     ]
    },
    {
     "name": "stderr",
     "output_type": "stream",
     "text": [
      "100%|██████████| 25/25 [00:00<00:00, 49.95it/s]\n"
     ]
    },
    {
     "name": "stdout",
     "output_type": "stream",
     "text": [
      "spent time for epoch 534 is 0.5063800811767578s\n",
      "epoch # : 534 gamma : 0.5 gen loss : 0.9900118112564087\n"
     ]
    },
    {
     "name": "stderr",
     "output_type": "stream",
     "text": [
      " 24%|██▍       | 6/25 [00:00<00:00, 34.48it/s]"
     ]
    },
    {
     "name": "stdout",
     "output_type": "stream",
     "text": [
      "Total number of generated modes is  25\n",
      "The number of high quality samples among 2500 samples is 182\n",
      "The mode dictionary is Counter({24: 20, 16: 14, 7: 13, 8: 10, 17: 10, 5: 10, 3: 9, 11: 9, 18: 9, 19: 8, 23: 8, 15: 7, 12: 6, 2: 6, 6: 6, 14: 6, 20: 6, 0: 5, 9: 4, 13: 4, 1: 4, 22: 3, 10: 2, 4: 2, 21: 1})\n"
     ]
    },
    {
     "name": "stderr",
     "output_type": "stream",
     "text": [
      "100%|██████████| 25/25 [00:00<00:00, 49.75it/s]\n"
     ]
    },
    {
     "name": "stdout",
     "output_type": "stream",
     "text": [
      "spent time for epoch 535 is 0.5087931156158447s\n",
      "epoch # : 535 gamma : 0.5 gen loss : 1.0088592767715454\n"
     ]
    },
    {
     "name": "stderr",
     "output_type": "stream",
     "text": [
      "  4%|▍         | 1/25 [00:00<00:03,  7.40it/s]"
     ]
    },
    {
     "name": "stdout",
     "output_type": "stream",
     "text": [
      "Total number of generated modes is  24\n",
      "The number of high quality samples among 2500 samples is 269\n",
      "The mode dictionary is Counter({5: 33, 21: 31, 7: 19, 16: 17, 8: 16, 6: 15, 13: 14, 2: 13, 10: 10, 1: 10, 9: 9, 17: 9, 14: 9, 0: 9, 23: 8, 3: 8, 11: 8, 4: 8, 22: 6, 15: 5, 12: 4, 24: 3, 20: 3, 18: 2})\n"
     ]
    },
    {
     "name": "stderr",
     "output_type": "stream",
     "text": [
      "100%|██████████| 25/25 [00:00<00:00, 44.31it/s]\n"
     ]
    },
    {
     "name": "stdout",
     "output_type": "stream",
     "text": [
      "spent time for epoch 536 is 0.5707435607910156s\n",
      "epoch # : 536 gamma : 0.5 gen loss : 1.0082354545593262\n"
     ]
    },
    {
     "name": "stderr",
     "output_type": "stream",
     "text": [
      " 20%|██        | 5/25 [00:00<00:00, 48.30it/s]"
     ]
    },
    {
     "name": "stdout",
     "output_type": "stream",
     "text": [
      "Total number of generated modes is  25\n",
      "The number of high quality samples among 2500 samples is 132\n",
      "The mode dictionary is Counter({7: 15, 13: 12, 16: 11, 6: 11, 2: 9, 3: 8, 11: 8, 20: 7, 9: 6, 18: 6, 8: 6, 0: 4, 17: 4, 24: 3, 15: 3, 1: 3, 22: 3, 12: 2, 14: 2, 21: 2, 4: 2, 10: 2, 5: 1, 19: 1, 23: 1})\n"
     ]
    },
    {
     "name": "stderr",
     "output_type": "stream",
     "text": [
      "100%|██████████| 25/25 [00:00<00:00, 47.94it/s]\n"
     ]
    },
    {
     "name": "stdout",
     "output_type": "stream",
     "text": [
      "spent time for epoch 537 is 0.5276081562042236s\n",
      "epoch # : 537 gamma : 0.5 gen loss : 1.0040472745895386\n"
     ]
    },
    {
     "name": "stderr",
     "output_type": "stream",
     "text": [
      " 20%|██        | 5/25 [00:00<00:00, 48.67it/s]"
     ]
    },
    {
     "name": "stdout",
     "output_type": "stream",
     "text": [
      "Total number of generated modes is  25\n",
      "The number of high quality samples among 2500 samples is 211\n",
      "The mode dictionary is Counter({20: 38, 21: 29, 5: 14, 18: 13, 17: 11, 7: 10, 16: 10, 4: 10, 9: 9, 15: 9, 8: 9, 13: 8, 14: 6, 23: 6, 12: 5, 6: 5, 19: 4, 24: 4, 2: 2, 1: 2, 22: 2, 3: 2, 10: 1, 0: 1, 11: 1})\n"
     ]
    },
    {
     "name": "stderr",
     "output_type": "stream",
     "text": [
      "100%|██████████| 25/25 [00:00<00:00, 48.45it/s]\n"
     ]
    },
    {
     "name": "stdout",
     "output_type": "stream",
     "text": [
      "spent time for epoch 538 is 0.5217704772949219s\n",
      "epoch # : 538 gamma : 0.5 gen loss : 0.9839311242103577\n"
     ]
    },
    {
     "name": "stderr",
     "output_type": "stream",
     "text": [
      " 20%|██        | 5/25 [00:00<00:00, 47.67it/s]"
     ]
    },
    {
     "name": "stdout",
     "output_type": "stream",
     "text": [
      "Total number of generated modes is  24\n",
      "The number of high quality samples among 2500 samples is 122\n",
      "The mode dictionary is Counter({7: 16, 6: 12, 17: 11, 20: 9, 23: 9, 0: 7, 18: 6, 5: 6, 13: 5, 16: 5, 8: 5, 12: 4, 11: 4, 19: 4, 24: 4, 4: 3, 1: 2, 3: 2, 15: 2, 9: 2, 10: 1, 21: 1, 22: 1, 14: 1})\n"
     ]
    },
    {
     "name": "stderr",
     "output_type": "stream",
     "text": [
      "100%|██████████| 25/25 [00:00<00:00, 48.43it/s]\n"
     ]
    },
    {
     "name": "stdout",
     "output_type": "stream",
     "text": [
      "spent time for epoch 539 is 0.5219602584838867s\n",
      "epoch # : 539 gamma : 0.5 gen loss : 0.9748663306236267\n"
     ]
    },
    {
     "name": "stderr",
     "output_type": "stream",
     "text": [
      " 20%|██        | 5/25 [00:00<00:00, 49.14it/s]"
     ]
    },
    {
     "name": "stdout",
     "output_type": "stream",
     "text": [
      "Total number of generated modes is  25\n",
      "The number of high quality samples among 2500 samples is 209\n",
      "The mode dictionary is Counter({23: 33, 10: 27, 1: 15, 15: 15, 11: 10, 8: 10, 2: 10, 9: 10, 0: 9, 17: 8, 18: 7, 3: 7, 16: 7, 21: 6, 6: 5, 20: 5, 7: 5, 4: 4, 13: 4, 22: 3, 14: 2, 12: 2, 24: 2, 5: 2, 19: 1})\n"
     ]
    },
    {
     "name": "stderr",
     "output_type": "stream",
     "text": [
      "100%|██████████| 25/25 [00:00<00:00, 48.67it/s]\n"
     ]
    },
    {
     "name": "stdout",
     "output_type": "stream",
     "text": [
      "spent time for epoch 540 is 0.5194563865661621s\n",
      "epoch # : 540 gamma : 0.5 gen loss : 1.0168992280960083\n"
     ]
    },
    {
     "name": "stderr",
     "output_type": "stream",
     "text": [
      " 20%|██        | 5/25 [00:00<00:00, 48.75it/s]"
     ]
    },
    {
     "name": "stdout",
     "output_type": "stream",
     "text": [
      "Total number of generated modes is  24\n",
      "The number of high quality samples among 2500 samples is 184\n",
      "The mode dictionary is Counter({17: 16, 6: 16, 18: 15, 16: 15, 24: 12, 13: 11, 7: 11, 22: 11, 19: 10, 11: 10, 8: 10, 9: 7, 14: 7, 12: 7, 15: 5, 2: 4, 20: 4, 5: 3, 21: 3, 23: 2, 3: 2, 0: 1, 1: 1, 10: 1})\n"
     ]
    },
    {
     "name": "stderr",
     "output_type": "stream",
     "text": [
      "100%|██████████| 25/25 [00:00<00:00, 48.09it/s]\n"
     ]
    },
    {
     "name": "stdout",
     "output_type": "stream",
     "text": [
      "spent time for epoch 541 is 0.5259969234466553s\n",
      "epoch # : 541 gamma : 0.5 gen loss : 0.981303870677948\n"
     ]
    },
    {
     "name": "stderr",
     "output_type": "stream",
     "text": [
      " 20%|██        | 5/25 [00:00<00:00, 48.51it/s]"
     ]
    },
    {
     "name": "stdout",
     "output_type": "stream",
     "text": [
      "Total number of generated modes is  24\n",
      "The number of high quality samples among 2500 samples is 175\n",
      "The mode dictionary is Counter({10: 31, 20: 18, 7: 16, 5: 12, 15: 12, 6: 11, 11: 9, 21: 9, 23: 8, 16: 7, 1: 7, 13: 5, 2: 4, 9: 4, 17: 3, 12: 3, 3: 3, 18: 3, 22: 2, 24: 2, 8: 2, 0: 2, 4: 1, 14: 1})\n"
     ]
    },
    {
     "name": "stderr",
     "output_type": "stream",
     "text": [
      "100%|██████████| 25/25 [00:00<00:00, 47.95it/s]\n"
     ]
    },
    {
     "name": "stdout",
     "output_type": "stream",
     "text": [
      "spent time for epoch 542 is 0.5269970893859863s\n",
      "epoch # : 542 gamma : 0.5 gen loss : 0.9799541234970093\n"
     ]
    },
    {
     "name": "stderr",
     "output_type": "stream",
     "text": [
      " 20%|██        | 5/25 [00:00<00:00, 48.00it/s]"
     ]
    },
    {
     "name": "stdout",
     "output_type": "stream",
     "text": [
      "Total number of generated modes is  25\n",
      "The number of high quality samples among 2500 samples is 202\n",
      "The mode dictionary is Counter({23: 30, 7: 21, 10: 17, 6: 17, 1: 14, 16: 13, 0: 13, 3: 12, 15: 8, 21: 7, 2: 7, 13: 6, 8: 6, 17: 5, 22: 4, 24: 4, 4: 3, 12: 2, 19: 2, 18: 2, 20: 2, 14: 2, 9: 2, 11: 2, 5: 1})\n"
     ]
    },
    {
     "name": "stderr",
     "output_type": "stream",
     "text": [
      "100%|██████████| 25/25 [00:00<00:00, 47.77it/s]\n"
     ]
    },
    {
     "name": "stdout",
     "output_type": "stream",
     "text": [
      "spent time for epoch 543 is 0.5295844078063965s\n",
      "epoch # : 543 gamma : 0.5 gen loss : 0.98493891954422\n"
     ]
    },
    {
     "name": "stderr",
     "output_type": "stream",
     "text": [
      " 20%|██        | 5/25 [00:00<00:00, 47.41it/s]"
     ]
    },
    {
     "name": "stdout",
     "output_type": "stream",
     "text": [
      "Total number of generated modes is  24\n",
      "The number of high quality samples among 2500 samples is 186\n",
      "The mode dictionary is Counter({7: 20, 20: 16, 10: 15, 16: 14, 21: 14, 6: 12, 15: 11, 3: 10, 12: 8, 22: 8, 5: 7, 13: 6, 11: 6, 19: 6, 1: 6, 18: 5, 4: 5, 8: 5, 2: 3, 24: 3, 14: 2, 23: 2, 0: 1, 17: 1})\n"
     ]
    },
    {
     "name": "stderr",
     "output_type": "stream",
     "text": [
      "100%|██████████| 25/25 [00:00<00:00, 48.45it/s]\n"
     ]
    },
    {
     "name": "stdout",
     "output_type": "stream",
     "text": [
      "spent time for epoch 544 is 0.5217893123626709s\n",
      "epoch # : 544 gamma : 0.5 gen loss : 1.0014451742172241\n"
     ]
    },
    {
     "name": "stderr",
     "output_type": "stream",
     "text": [
      " 20%|██        | 5/25 [00:00<00:00, 49.67it/s]"
     ]
    },
    {
     "name": "stdout",
     "output_type": "stream",
     "text": [
      "Total number of generated modes is  25\n",
      "The number of high quality samples among 2500 samples is 144\n",
      "The mode dictionary is Counter({6: 15, 4: 12, 16: 12, 3: 11, 20: 10, 1: 10, 7: 8, 15: 7, 17: 7, 2: 7, 18: 6, 0: 5, 14: 4, 12: 4, 13: 4, 9: 3, 5: 3, 22: 3, 21: 3, 23: 2, 11: 2, 8: 2, 19: 2, 10: 1, 24: 1})\n"
     ]
    },
    {
     "name": "stderr",
     "output_type": "stream",
     "text": [
      "100%|██████████| 25/25 [00:00<00:00, 49.10it/s]\n"
     ]
    },
    {
     "name": "stdout",
     "output_type": "stream",
     "text": [
      "spent time for epoch 545 is 0.5149831771850586s\n",
      "epoch # : 545 gamma : 0.5 gen loss : 1.0262835025787354\n"
     ]
    },
    {
     "name": "stderr",
     "output_type": "stream",
     "text": [
      " 20%|██        | 5/25 [00:00<00:00, 49.61it/s]"
     ]
    },
    {
     "name": "stdout",
     "output_type": "stream",
     "text": [
      "Total number of generated modes is  24\n",
      "The number of high quality samples among 2500 samples is 180\n",
      "The mode dictionary is Counter({7: 16, 8: 15, 3: 12, 6: 12, 1: 12, 4: 11, 16: 10, 2: 9, 9: 9, 18: 8, 10: 7, 21: 7, 17: 6, 19: 6, 11: 5, 14: 5, 22: 5, 15: 5, 5: 4, 13: 4, 12: 4, 0: 3, 23: 3, 20: 2})\n"
     ]
    },
    {
     "name": "stderr",
     "output_type": "stream",
     "text": [
      "100%|██████████| 25/25 [00:00<00:00, 48.81it/s]\n"
     ]
    },
    {
     "name": "stdout",
     "output_type": "stream",
     "text": [
      "spent time for epoch 546 is 0.5181519985198975s\n",
      "epoch # : 546 gamma : 0.5 gen loss : 1.0198485851287842\n"
     ]
    },
    {
     "name": "stderr",
     "output_type": "stream",
     "text": [
      "  4%|▍         | 1/25 [00:00<00:03,  7.37it/s]"
     ]
    },
    {
     "name": "stdout",
     "output_type": "stream",
     "text": [
      "Total number of generated modes is  24\n",
      "The number of high quality samples among 2500 samples is 206\n",
      "The mode dictionary is Counter({0: 30, 21: 19, 6: 13, 19: 11, 7: 10, 1: 10, 4: 10, 18: 9, 16: 9, 8: 9, 24: 8, 3: 8, 17: 8, 9: 7, 23: 7, 2: 7, 13: 5, 12: 5, 5: 5, 22: 4, 14: 4, 11: 3, 10: 3, 15: 2})\n"
     ]
    },
    {
     "name": "stderr",
     "output_type": "stream",
     "text": [
      "100%|██████████| 25/25 [00:00<00:00, 42.81it/s]\n"
     ]
    },
    {
     "name": "stdout",
     "output_type": "stream",
     "text": [
      "spent time for epoch 547 is 0.5900251865386963s\n",
      "epoch # : 547 gamma : 0.5 gen loss : 1.0324019193649292\n"
     ]
    },
    {
     "name": "stderr",
     "output_type": "stream",
     "text": [
      " 20%|██        | 5/25 [00:00<00:00, 47.93it/s]"
     ]
    },
    {
     "name": "stdout",
     "output_type": "stream",
     "text": [
      "Total number of generated modes is  22\n",
      "The number of high quality samples among 2500 samples is 161\n",
      "The mode dictionary is Counter({10: 25, 11: 15, 7: 14, 1: 14, 8: 11, 6: 10, 0: 9, 16: 8, 15: 7, 22: 6, 12: 5, 4: 5, 18: 5, 17: 4, 24: 4, 3: 4, 5: 3, 23: 3, 2: 3, 13: 3, 21: 2, 9: 1})\n"
     ]
    },
    {
     "name": "stderr",
     "output_type": "stream",
     "text": [
      "100%|██████████| 25/25 [00:00<00:00, 48.28it/s]\n"
     ]
    },
    {
     "name": "stdout",
     "output_type": "stream",
     "text": [
      "spent time for epoch 548 is 0.5235805511474609s\n",
      "epoch # : 548 gamma : 0.5 gen loss : 0.9961454272270203\n"
     ]
    },
    {
     "name": "stderr",
     "output_type": "stream",
     "text": [
      " 20%|██        | 5/25 [00:00<00:00, 48.65it/s]"
     ]
    },
    {
     "name": "stdout",
     "output_type": "stream",
     "text": [
      "Total number of generated modes is  23\n",
      "The number of high quality samples among 2500 samples is 164\n",
      "The mode dictionary is Counter({7: 18, 19: 14, 8: 12, 6: 11, 10: 11, 16: 11, 14: 11, 17: 9, 21: 9, 11: 8, 9: 8, 22: 6, 4: 6, 18: 5, 12: 5, 20: 5, 13: 4, 15: 3, 23: 2, 1: 2, 24: 2, 3: 1, 2: 1})\n"
     ]
    },
    {
     "name": "stderr",
     "output_type": "stream",
     "text": [
      "100%|██████████| 25/25 [00:00<00:00, 48.18it/s]\n"
     ]
    },
    {
     "name": "stdout",
     "output_type": "stream",
     "text": [
      "spent time for epoch 549 is 0.5245535373687744s\n",
      "epoch # : 549 gamma : 0.5 gen loss : 1.0305842161178589\n"
     ]
    },
    {
     "name": "stderr",
     "output_type": "stream",
     "text": [
      " 16%|█▌        | 4/25 [00:00<00:00, 38.66it/s]"
     ]
    },
    {
     "name": "stdout",
     "output_type": "stream",
     "text": [
      "Total number of generated modes is  24\n",
      "The number of high quality samples among 2500 samples is 207\n",
      "The mode dictionary is Counter({0: 32, 10: 27, 7: 18, 22: 13, 20: 13, 5: 12, 6: 11, 18: 10, 12: 9, 11: 9, 8: 7, 24: 6, 15: 6, 23: 5, 13: 5, 17: 5, 14: 4, 2: 3, 16: 3, 21: 3, 3: 3, 19: 1, 9: 1, 1: 1})\n"
     ]
    },
    {
     "name": "stderr",
     "output_type": "stream",
     "text": [
      "100%|██████████| 25/25 [00:00<00:00, 46.70it/s]\n"
     ]
    },
    {
     "name": "stdout",
     "output_type": "stream",
     "text": [
      "spent time for epoch 550 is 0.5411162376403809s\n",
      "epoch # : 550 gamma : 0.5 gen loss : 1.0144567489624023\n"
     ]
    },
    {
     "name": "stderr",
     "output_type": "stream",
     "text": [
      " 20%|██        | 5/25 [00:00<00:00, 48.86it/s]"
     ]
    },
    {
     "name": "stdout",
     "output_type": "stream",
     "text": [
      "Total number of generated modes is  23\n",
      "The number of high quality samples among 2500 samples is 225\n",
      "The mode dictionary is Counter({22: 18, 7: 17, 17: 16, 16: 16, 9: 15, 8: 14, 12: 14, 23: 12, 11: 10, 13: 9, 1: 9, 19: 9, 2: 9, 18: 9, 24: 7, 3: 7, 6: 7, 0: 7, 14: 6, 21: 5, 15: 4, 10: 3, 4: 2})\n"
     ]
    },
    {
     "name": "stderr",
     "output_type": "stream",
     "text": [
      "100%|██████████| 25/25 [00:00<00:00, 48.67it/s]\n"
     ]
    },
    {
     "name": "stdout",
     "output_type": "stream",
     "text": [
      "spent time for epoch 551 is 0.519625186920166s\n",
      "epoch # : 551 gamma : 0.5 gen loss : 0.9875924587249756\n"
     ]
    },
    {
     "name": "stderr",
     "output_type": "stream",
     "text": [
      " 20%|██        | 5/25 [00:00<00:00, 48.02it/s]"
     ]
    },
    {
     "name": "stdout",
     "output_type": "stream",
     "text": [
      "Total number of generated modes is  25\n",
      "The number of high quality samples among 2500 samples is 229\n",
      "The mode dictionary is Counter({5: 26, 16: 23, 7: 21, 0: 17, 10: 12, 6: 12, 15: 11, 17: 11, 8: 10, 3: 9, 11: 8, 2: 8, 22: 8, 14: 8, 12: 7, 23: 6, 18: 6, 21: 5, 9: 5, 1: 5, 13: 3, 24: 3, 19: 3, 4: 1, 20: 1})\n"
     ]
    },
    {
     "name": "stderr",
     "output_type": "stream",
     "text": [
      "100%|██████████| 25/25 [00:00<00:00, 47.95it/s]\n"
     ]
    },
    {
     "name": "stdout",
     "output_type": "stream",
     "text": [
      "spent time for epoch 552 is 0.5273687839508057s\n",
      "epoch # : 552 gamma : 0.5 gen loss : 1.006266474723816\n"
     ]
    },
    {
     "name": "stderr",
     "output_type": "stream",
     "text": [
      " 20%|██        | 5/25 [00:00<00:00, 48.01it/s]"
     ]
    },
    {
     "name": "stdout",
     "output_type": "stream",
     "text": [
      "Total number of generated modes is  24\n",
      "The number of high quality samples among 2500 samples is 221\n",
      "The mode dictionary is Counter({5: 30, 20: 24, 7: 18, 10: 17, 8: 13, 22: 13, 6: 12, 15: 11, 13: 9, 16: 9, 3: 8, 21: 8, 1: 7, 18: 7, 0: 7, 12: 6, 17: 5, 9: 4, 24: 3, 2: 3, 11: 2, 4: 2, 23: 2, 14: 1})\n"
     ]
    },
    {
     "name": "stderr",
     "output_type": "stream",
     "text": [
      "100%|██████████| 25/25 [00:00<00:00, 48.52it/s]\n"
     ]
    },
    {
     "name": "stdout",
     "output_type": "stream",
     "text": [
      "spent time for epoch 553 is 0.5211994647979736s\n",
      "epoch # : 553 gamma : 0.5 gen loss : 1.0090699195861816\n"
     ]
    },
    {
     "name": "stderr",
     "output_type": "stream",
     "text": [
      " 20%|██        | 5/25 [00:00<00:00, 49.36it/s]"
     ]
    },
    {
     "name": "stdout",
     "output_type": "stream",
     "text": [
      "Total number of generated modes is  24\n",
      "The number of high quality samples among 2500 samples is 197\n",
      "The mode dictionary is Counter({23: 31, 16: 23, 22: 16, 7: 15, 8: 12, 20: 12, 3: 9, 5: 9, 21: 9, 14: 7, 18: 7, 6: 6, 1: 5, 19: 5, 13: 4, 17: 4, 9: 4, 15: 4, 24: 3, 12: 3, 4: 3, 2: 3, 11: 2, 0: 1})\n"
     ]
    },
    {
     "name": "stderr",
     "output_type": "stream",
     "text": [
      "100%|██████████| 25/25 [00:00<00:00, 48.79it/s]\n"
     ]
    },
    {
     "name": "stdout",
     "output_type": "stream",
     "text": [
      "spent time for epoch 554 is 0.5186126232147217s\n",
      "epoch # : 554 gamma : 0.5 gen loss : 1.0036507844924927\n"
     ]
    },
    {
     "name": "stderr",
     "output_type": "stream",
     "text": [
      " 20%|██        | 5/25 [00:00<00:00, 49.30it/s]"
     ]
    },
    {
     "name": "stdout",
     "output_type": "stream",
     "text": [
      "Total number of generated modes is  23\n",
      "The number of high quality samples among 2500 samples is 154\n",
      "The mode dictionary is Counter({5: 26, 23: 13, 7: 10, 11: 9, 6: 8, 14: 8, 3: 8, 18: 7, 0: 7, 19: 6, 2: 6, 16: 6, 8: 6, 15: 5, 20: 4, 9: 4, 4: 4, 13: 4, 17: 4, 24: 3, 1: 3, 10: 2, 12: 1})\n"
     ]
    },
    {
     "name": "stderr",
     "output_type": "stream",
     "text": [
      "100%|██████████| 25/25 [00:00<00:00, 48.75it/s]\n"
     ]
    },
    {
     "name": "stdout",
     "output_type": "stream",
     "text": [
      "spent time for epoch 555 is 0.5187480449676514s\n",
      "epoch # : 555 gamma : 0.5 gen loss : 1.0439528226852417\n"
     ]
    },
    {
     "name": "stderr",
     "output_type": "stream",
     "text": [
      " 16%|█▌        | 4/25 [00:00<00:00, 39.26it/s]"
     ]
    },
    {
     "name": "stdout",
     "output_type": "stream",
     "text": [
      "Total number of generated modes is  23\n",
      "The number of high quality samples among 2500 samples is 157\n",
      "The mode dictionary is Counter({16: 14, 3: 13, 2: 12, 8: 12, 7: 11, 0: 9, 13: 9, 6: 9, 14: 7, 22: 7, 1: 7, 21: 7, 18: 5, 9: 5, 5: 5, 11: 5, 24: 4, 17: 4, 19: 3, 23: 3, 20: 2, 12: 2, 15: 2})\n"
     ]
    },
    {
     "name": "stderr",
     "output_type": "stream",
     "text": [
      "100%|██████████| 25/25 [00:00<00:00, 46.71it/s]\n"
     ]
    },
    {
     "name": "stdout",
     "output_type": "stream",
     "text": [
      "spent time for epoch 556 is 0.5412111282348633s\n",
      "epoch # : 556 gamma : 0.5 gen loss : 1.0592445135116577\n"
     ]
    },
    {
     "name": "stderr",
     "output_type": "stream",
     "text": [
      " 16%|█▌        | 4/25 [00:00<00:00, 38.31it/s]"
     ]
    },
    {
     "name": "stdout",
     "output_type": "stream",
     "text": [
      "Total number of generated modes is  25\n",
      "The number of high quality samples among 2500 samples is 176\n",
      "The mode dictionary is Counter({15: 16, 16: 13, 2: 12, 7: 12, 4: 12, 3: 11, 1: 11, 0: 10, 8: 7, 20: 7, 9: 7, 23: 7, 6: 7, 22: 6, 5: 6, 10: 5, 12: 4, 18: 4, 11: 3, 21: 3, 19: 3, 14: 3, 13: 3, 17: 3, 24: 1})\n"
     ]
    },
    {
     "name": "stderr",
     "output_type": "stream",
     "text": [
      "100%|██████████| 25/25 [00:00<00:00, 47.20it/s]\n"
     ]
    },
    {
     "name": "stdout",
     "output_type": "stream",
     "text": [
      "spent time for epoch 557 is 0.535362958908081s\n",
      "epoch # : 557 gamma : 0.5 gen loss : 1.0239728689193726\n"
     ]
    },
    {
     "name": "stderr",
     "output_type": "stream",
     "text": [
      "  4%|▍         | 1/25 [00:00<00:03,  7.29it/s]"
     ]
    },
    {
     "name": "stdout",
     "output_type": "stream",
     "text": [
      "Total number of generated modes is  23\n",
      "The number of high quality samples among 2500 samples is 190\n",
      "The mode dictionary is Counter({10: 33, 6: 15, 24: 15, 16: 13, 11: 12, 9: 12, 7: 12, 14: 11, 8: 9, 0: 8, 19: 6, 15: 6, 13: 5, 1: 5, 17: 5, 21: 4, 5: 4, 20: 3, 4: 3, 18: 3, 22: 3, 12: 2, 2: 1})\n"
     ]
    },
    {
     "name": "stderr",
     "output_type": "stream",
     "text": [
      "100%|██████████| 25/25 [00:00<00:00, 43.45it/s]\n"
     ]
    },
    {
     "name": "stdout",
     "output_type": "stream",
     "text": [
      "spent time for epoch 558 is 0.5812118053436279s\n",
      "epoch # : 558 gamma : 0.5 gen loss : 1.0129375457763672\n"
     ]
    },
    {
     "name": "stderr",
     "output_type": "stream",
     "text": [
      " 20%|██        | 5/25 [00:00<00:00, 47.88it/s]"
     ]
    },
    {
     "name": "stdout",
     "output_type": "stream",
     "text": [
      "Total number of generated modes is  23\n",
      "The number of high quality samples among 2500 samples is 162\n",
      "The mode dictionary is Counter({22: 19, 6: 16, 5: 12, 1: 12, 13: 11, 18: 10, 11: 10, 16: 8, 15: 7, 23: 6, 4: 6, 0: 5, 10: 5, 9: 5, 2: 5, 19: 5, 17: 4, 14: 4, 3: 4, 7: 4, 24: 2, 8: 1, 12: 1})\n"
     ]
    },
    {
     "name": "stderr",
     "output_type": "stream",
     "text": [
      "100%|██████████| 25/25 [00:00<00:00, 47.74it/s]\n"
     ]
    },
    {
     "name": "stdout",
     "output_type": "stream",
     "text": [
      "spent time for epoch 559 is 0.5297677516937256s\n",
      "epoch # : 559 gamma : 0.5 gen loss : 1.0259482860565186\n"
     ]
    },
    {
     "name": "stderr",
     "output_type": "stream",
     "text": [
      " 16%|█▌        | 4/25 [00:00<00:00, 39.33it/s]"
     ]
    },
    {
     "name": "stdout",
     "output_type": "stream",
     "text": [
      "Total number of generated modes is  24\n",
      "The number of high quality samples among 2500 samples is 167\n",
      "The mode dictionary is Counter({23: 21, 10: 17, 0: 16, 16: 13, 8: 12, 7: 10, 6: 9, 17: 9, 9: 7, 4: 6, 15: 6, 1: 6, 14: 6, 21: 6, 11: 4, 13: 4, 2: 3, 18: 3, 24: 2, 3: 2, 5: 2, 19: 1, 12: 1, 22: 1})\n"
     ]
    },
    {
     "name": "stderr",
     "output_type": "stream",
     "text": [
      "100%|██████████| 25/25 [00:00<00:00, 47.95it/s]\n"
     ]
    },
    {
     "name": "stdout",
     "output_type": "stream",
     "text": [
      "spent time for epoch 560 is 0.5271687507629395s\n",
      "epoch # : 560 gamma : 0.5 gen loss : 1.0236202478408813\n"
     ]
    },
    {
     "name": "stderr",
     "output_type": "stream",
     "text": [
      " 20%|██        | 5/25 [00:00<00:00, 48.95it/s]"
     ]
    },
    {
     "name": "stdout",
     "output_type": "stream",
     "text": [
      "Total number of generated modes is  24\n",
      "The number of high quality samples among 2500 samples is 184\n",
      "The mode dictionary is Counter({5: 26, 20: 21, 16: 20, 7: 15, 8: 13, 15: 11, 23: 11, 6: 10, 11: 9, 14: 7, 24: 5, 21: 5, 19: 4, 1: 4, 3: 4, 13: 4, 0: 4, 18: 3, 22: 2, 17: 2, 4: 1, 10: 1, 9: 1, 12: 1})\n"
     ]
    },
    {
     "name": "stderr",
     "output_type": "stream",
     "text": [
      "100%|██████████| 25/25 [00:00<00:00, 48.56it/s]\n"
     ]
    },
    {
     "name": "stdout",
     "output_type": "stream",
     "text": [
      "spent time for epoch 561 is 0.5209271907806396s\n",
      "epoch # : 561 gamma : 0.5 gen loss : 1.0025293827056885\n"
     ]
    },
    {
     "name": "stderr",
     "output_type": "stream",
     "text": [
      " 20%|██        | 5/25 [00:00<00:00, 48.81it/s]"
     ]
    },
    {
     "name": "stdout",
     "output_type": "stream",
     "text": [
      "Total number of generated modes is  23\n",
      "The number of high quality samples among 2500 samples is 186\n",
      "The mode dictionary is Counter({16: 22, 7: 20, 9: 16, 14: 13, 5: 12, 19: 10, 11: 9, 8: 9, 18: 9, 6: 8, 15: 8, 24: 7, 21: 7, 4: 6, 0: 5, 3: 5, 2: 5, 17: 4, 1: 4, 10: 3, 13: 2, 20: 1, 23: 1})\n"
     ]
    },
    {
     "name": "stderr",
     "output_type": "stream",
     "text": [
      "100%|██████████| 25/25 [00:00<00:00, 48.56it/s]\n"
     ]
    },
    {
     "name": "stdout",
     "output_type": "stream",
     "text": [
      "spent time for epoch 562 is 0.5206692218780518s\n",
      "epoch # : 562 gamma : 0.5 gen loss : 1.0279418230056763\n"
     ]
    },
    {
     "name": "stderr",
     "output_type": "stream",
     "text": [
      " 20%|██        | 5/25 [00:00<00:00, 48.92it/s]"
     ]
    },
    {
     "name": "stdout",
     "output_type": "stream",
     "text": [
      "Total number of generated modes is  23\n",
      "The number of high quality samples among 2500 samples is 196\n",
      "The mode dictionary is Counter({5: 19, 0: 17, 7: 17, 1: 16, 23: 15, 6: 14, 16: 12, 8: 11, 3: 11, 18: 9, 21: 9, 11: 8, 2: 8, 24: 6, 4: 4, 12: 4, 15: 4, 20: 3, 14: 3, 13: 2, 10: 2, 22: 1, 9: 1})\n"
     ]
    },
    {
     "name": "stderr",
     "output_type": "stream",
     "text": [
      "100%|██████████| 25/25 [00:00<00:00, 48.55it/s]\n"
     ]
    },
    {
     "name": "stdout",
     "output_type": "stream",
     "text": [
      "spent time for epoch 563 is 0.5210154056549072s\n",
      "epoch # : 563 gamma : 0.5 gen loss : 1.0288254022598267\n"
     ]
    },
    {
     "name": "stderr",
     "output_type": "stream",
     "text": [
      " 20%|██        | 5/25 [00:00<00:00, 48.50it/s]"
     ]
    },
    {
     "name": "stdout",
     "output_type": "stream",
     "text": [
      "Total number of generated modes is  24\n",
      "The number of high quality samples among 2500 samples is 197\n",
      "The mode dictionary is Counter({23: 22, 13: 19, 7: 19, 5: 12, 21: 11, 16: 11, 11: 11, 6: 11, 12: 8, 8: 8, 18: 7, 22: 7, 20: 6, 4: 6, 15: 6, 9: 6, 1: 6, 17: 5, 14: 4, 10: 4, 3: 3, 2: 2, 0: 2, 24: 1})\n"
     ]
    },
    {
     "name": "stderr",
     "output_type": "stream",
     "text": [
      "100%|██████████| 25/25 [00:00<00:00, 48.17it/s]\n"
     ]
    },
    {
     "name": "stdout",
     "output_type": "stream",
     "text": [
      "spent time for epoch 564 is 0.5250225067138672s\n",
      "epoch # : 564 gamma : 0.5 gen loss : 1.0078802108764648\n"
     ]
    },
    {
     "name": "stderr",
     "output_type": "stream",
     "text": [
      " 20%|██        | 5/25 [00:00<00:00, 49.03it/s]"
     ]
    },
    {
     "name": "stdout",
     "output_type": "stream",
     "text": [
      "Total number of generated modes is  24\n",
      "The number of high quality samples among 2500 samples is 138\n",
      "The mode dictionary is Counter({16: 15, 7: 14, 8: 8, 0: 8, 1: 8, 15: 8, 2: 8, 3: 8, 17: 7, 13: 7, 9: 6, 11: 5, 5: 4, 6: 4, 4: 4, 19: 4, 20: 4, 21: 4, 12: 3, 18: 2, 14: 2, 23: 2, 22: 2, 10: 1})\n"
     ]
    },
    {
     "name": "stderr",
     "output_type": "stream",
     "text": [
      "100%|██████████| 25/25 [00:00<00:00, 48.05it/s]\n"
     ]
    },
    {
     "name": "stdout",
     "output_type": "stream",
     "text": [
      "spent time for epoch 565 is 0.5265331268310547s\n",
      "epoch # : 565 gamma : 0.5 gen loss : 1.0097726583480835\n"
     ]
    },
    {
     "name": "stderr",
     "output_type": "stream",
     "text": [
      " 20%|██        | 5/25 [00:00<00:00, 49.35it/s]"
     ]
    },
    {
     "name": "stdout",
     "output_type": "stream",
     "text": [
      "Total number of generated modes is  25\n",
      "The number of high quality samples among 2500 samples is 217\n",
      "The mode dictionary is Counter({23: 29, 7: 17, 16: 17, 19: 16, 8: 15, 17: 14, 24: 13, 18: 11, 21: 9, 14: 9, 9: 9, 2: 8, 12: 8, 22: 8, 3: 6, 5: 5, 0: 4, 4: 4, 1: 3, 11: 3, 6: 3, 13: 2, 15: 2, 20: 1, 10: 1})\n"
     ]
    },
    {
     "name": "stderr",
     "output_type": "stream",
     "text": [
      "100%|██████████| 25/25 [00:00<00:00, 47.94it/s]\n"
     ]
    },
    {
     "name": "stdout",
     "output_type": "stream",
     "text": [
      "spent time for epoch 566 is 0.5270354747772217s\n",
      "epoch # : 566 gamma : 0.5 gen loss : 0.995326042175293\n"
     ]
    },
    {
     "name": "stderr",
     "output_type": "stream",
     "text": [
      " 20%|██        | 5/25 [00:00<00:00, 48.94it/s]"
     ]
    },
    {
     "name": "stdout",
     "output_type": "stream",
     "text": [
      "Total number of generated modes is  25\n",
      "The number of high quality samples among 2500 samples is 189\n",
      "The mode dictionary is Counter({15: 20, 16: 19, 17: 12, 20: 12, 10: 12, 13: 11, 0: 11, 2: 11, 5: 9, 6: 9, 1: 8, 8: 7, 11: 7, 22: 6, 3: 6, 18: 5, 21: 5, 7: 5, 23: 3, 14: 3, 24: 2, 9: 2, 4: 2, 19: 1, 12: 1})\n"
     ]
    },
    {
     "name": "stderr",
     "output_type": "stream",
     "text": [
      "100%|██████████| 25/25 [00:00<00:00, 48.63it/s]\n"
     ]
    },
    {
     "name": "stdout",
     "output_type": "stream",
     "text": [
      "spent time for epoch 567 is 0.5200233459472656s\n",
      "epoch # : 567 gamma : 0.5 gen loss : 1.0268316268920898\n"
     ]
    },
    {
     "name": "stderr",
     "output_type": "stream",
     "text": [
      " 20%|██        | 5/25 [00:00<00:00, 49.58it/s]"
     ]
    },
    {
     "name": "stdout",
     "output_type": "stream",
     "text": [
      "Total number of generated modes is  21\n",
      "The number of high quality samples among 2500 samples is 127\n",
      "The mode dictionary is Counter({16: 19, 24: 15, 19: 13, 7: 13, 14: 11, 8: 7, 6: 6, 12: 5, 20: 5, 21: 5, 3: 5, 17: 4, 18: 4, 9: 3, 15: 3, 1: 3, 13: 2, 2: 1, 5: 1, 11: 1, 4: 1})\n"
     ]
    },
    {
     "name": "stderr",
     "output_type": "stream",
     "text": [
      "100%|██████████| 25/25 [00:00<00:00, 49.03it/s]\n"
     ]
    },
    {
     "name": "stdout",
     "output_type": "stream",
     "text": [
      "spent time for epoch 568 is 0.5159461498260498s\n",
      "epoch # : 568 gamma : 0.5 gen loss : 1.0074702501296997\n"
     ]
    },
    {
     "name": "stderr",
     "output_type": "stream",
     "text": [
      "  4%|▍         | 1/25 [00:00<00:03,  7.28it/s]"
     ]
    },
    {
     "name": "stdout",
     "output_type": "stream",
     "text": [
      "Total number of generated modes is  23\n",
      "The number of high quality samples among 2500 samples is 227\n",
      "The mode dictionary is Counter({20: 33, 21: 19, 16: 17, 2: 17, 15: 15, 5: 14, 6: 13, 3: 13, 7: 11, 8: 10, 13: 9, 11: 7, 0: 7, 9: 7, 23: 6, 17: 5, 18: 5, 4: 5, 1: 5, 14: 4, 22: 3, 19: 1, 12: 1})\n"
     ]
    },
    {
     "name": "stderr",
     "output_type": "stream",
     "text": [
      "100%|██████████| 25/25 [00:00<00:00, 43.58it/s]\n"
     ]
    },
    {
     "name": "stdout",
     "output_type": "stream",
     "text": [
      "spent time for epoch 569 is 0.5794305801391602s\n",
      "epoch # : 569 gamma : 0.5 gen loss : 1.0540108680725098\n"
     ]
    },
    {
     "name": "stderr",
     "output_type": "stream",
     "text": [
      " 16%|█▌        | 4/25 [00:00<00:00, 39.76it/s]"
     ]
    },
    {
     "name": "stdout",
     "output_type": "stream",
     "text": [
      "Total number of generated modes is  24\n",
      "The number of high quality samples among 2500 samples is 193\n",
      "The mode dictionary is Counter({6: 25, 23: 19, 22: 17, 24: 17, 11: 11, 19: 9, 16: 9, 21: 9, 10: 8, 18: 7, 17: 7, 8: 6, 14: 6, 1: 5, 3: 5, 7: 5, 15: 5, 9: 5, 13: 4, 20: 4, 4: 3, 12: 3, 2: 2, 5: 2})\n"
     ]
    },
    {
     "name": "stderr",
     "output_type": "stream",
     "text": [
      "100%|██████████| 25/25 [00:00<00:00, 46.96it/s]\n"
     ]
    },
    {
     "name": "stdout",
     "output_type": "stream",
     "text": [
      "spent time for epoch 570 is 0.5383727550506592s\n",
      "epoch # : 570 gamma : 0.5 gen loss : 0.9828019738197327\n"
     ]
    },
    {
     "name": "stderr",
     "output_type": "stream",
     "text": [
      " 20%|██        | 5/25 [00:00<00:00, 48.35it/s]"
     ]
    },
    {
     "name": "stdout",
     "output_type": "stream",
     "text": [
      "Total number of generated modes is  24\n",
      "The number of high quality samples among 2500 samples is 172\n",
      "The mode dictionary is Counter({5: 21, 21: 20, 0: 18, 2: 16, 3: 13, 20: 10, 11: 8, 18: 8, 16: 7, 17: 6, 8: 6, 23: 6, 15: 5, 22: 5, 9: 5, 1: 5, 4: 4, 19: 2, 10: 2, 24: 1, 14: 1, 12: 1, 7: 1, 6: 1})\n"
     ]
    },
    {
     "name": "stderr",
     "output_type": "stream",
     "text": [
      "100%|██████████| 25/25 [00:00<00:00, 47.84it/s]\n"
     ]
    },
    {
     "name": "stdout",
     "output_type": "stream",
     "text": [
      "spent time for epoch 571 is 0.5292181968688965s\n",
      "epoch # : 571 gamma : 0.5 gen loss : 0.9682969450950623\n"
     ]
    },
    {
     "name": "stderr",
     "output_type": "stream",
     "text": [
      " 20%|██        | 5/25 [00:00<00:00, 48.61it/s]"
     ]
    },
    {
     "name": "stdout",
     "output_type": "stream",
     "text": [
      "Total number of generated modes is  22\n",
      "The number of high quality samples among 2500 samples is 158\n",
      "The mode dictionary is Counter({21: 26, 23: 12, 20: 10, 5: 10, 15: 10, 22: 9, 24: 9, 8: 9, 7: 8, 16: 8, 10: 7, 13: 6, 6: 6, 17: 5, 18: 5, 14: 4, 12: 3, 11: 3, 19: 3, 9: 2, 2: 2, 1: 1})\n"
     ]
    },
    {
     "name": "stderr",
     "output_type": "stream",
     "text": [
      "100%|██████████| 25/25 [00:00<00:00, 47.36it/s]\n"
     ]
    },
    {
     "name": "stdout",
     "output_type": "stream",
     "text": [
      "spent time for epoch 572 is 0.5342411994934082s\n",
      "epoch # : 572 gamma : 0.5 gen loss : 0.9871890544891357\n"
     ]
    },
    {
     "name": "stderr",
     "output_type": "stream",
     "text": [
      " 20%|██        | 5/25 [00:00<00:00, 48.72it/s]"
     ]
    },
    {
     "name": "stdout",
     "output_type": "stream",
     "text": [
      "Total number of generated modes is  24\n",
      "The number of high quality samples among 2500 samples is 173\n",
      "The mode dictionary is Counter({24: 17, 4: 16, 2: 15, 9: 10, 16: 10, 14: 9, 19: 9, 11: 9, 17: 9, 3: 8, 1: 7, 12: 7, 13: 6, 23: 6, 0: 5, 7: 5, 5: 5, 21: 4, 8: 4, 6: 4, 22: 3, 10: 2, 18: 2, 20: 1})\n"
     ]
    },
    {
     "name": "stderr",
     "output_type": "stream",
     "text": [
      "100%|██████████| 25/25 [00:00<00:00, 48.47it/s]\n"
     ]
    },
    {
     "name": "stdout",
     "output_type": "stream",
     "text": [
      "spent time for epoch 573 is 0.5214560031890869s\n",
      "epoch # : 573 gamma : 0.5 gen loss : 1.0077072381973267\n"
     ]
    },
    {
     "name": "stderr",
     "output_type": "stream",
     "text": [
      " 20%|██        | 5/25 [00:00<00:00, 49.15it/s]"
     ]
    },
    {
     "name": "stdout",
     "output_type": "stream",
     "text": [
      "Total number of generated modes is  25\n",
      "The number of high quality samples among 2500 samples is 188\n",
      "The mode dictionary is Counter({21: 24, 5: 19, 7: 18, 0: 13, 6: 12, 3: 10, 8: 10, 23: 10, 13: 8, 16: 8, 1: 6, 24: 6, 14: 5, 2: 5, 18: 5, 11: 5, 4: 5, 12: 4, 20: 4, 9: 2, 15: 2, 19: 2, 22: 2, 10: 2, 17: 1})\n"
     ]
    },
    {
     "name": "stderr",
     "output_type": "stream",
     "text": [
      "100%|██████████| 25/25 [00:00<00:00, 48.55it/s]\n"
     ]
    },
    {
     "name": "stdout",
     "output_type": "stream",
     "text": [
      "spent time for epoch 574 is 0.5208814144134521s\n",
      "epoch # : 574 gamma : 0.5 gen loss : 0.9694942831993103\n"
     ]
    },
    {
     "name": "stderr",
     "output_type": "stream",
     "text": [
      " 12%|█▏        | 3/25 [00:00<00:00, 29.82it/s]"
     ]
    },
    {
     "name": "stdout",
     "output_type": "stream",
     "text": [
      "Total number of generated modes is  24\n",
      "The number of high quality samples among 2500 samples is 166\n",
      "The mode dictionary is Counter({5: 18, 23: 16, 16: 15, 17: 13, 15: 13, 6: 12, 10: 9, 21: 9, 20: 8, 18: 8, 11: 7, 13: 6, 12: 5, 2: 5, 7: 4, 1: 3, 9: 3, 0: 3, 19: 2, 24: 2, 8: 2, 4: 1, 22: 1, 14: 1})\n"
     ]
    },
    {
     "name": "stderr",
     "output_type": "stream",
     "text": [
      "100%|██████████| 25/25 [00:00<00:00, 47.73it/s]\n"
     ]
    },
    {
     "name": "stdout",
     "output_type": "stream",
     "text": [
      "spent time for epoch 575 is 0.5295853614807129s\n",
      "epoch # : 575 gamma : 0.5 gen loss : 0.9741601347923279\n"
     ]
    },
    {
     "name": "stderr",
     "output_type": "stream",
     "text": [
      " 20%|██        | 5/25 [00:00<00:00, 49.00it/s]"
     ]
    },
    {
     "name": "stdout",
     "output_type": "stream",
     "text": [
      "Total number of generated modes is  24\n",
      "The number of high quality samples among 2500 samples is 178\n",
      "The mode dictionary is Counter({5: 22, 16: 18, 11: 15, 21: 11, 8: 10, 14: 9, 6: 8, 18: 8, 3: 8, 7: 7, 9: 7, 2: 7, 4: 6, 12: 6, 0: 6, 17: 6, 1: 6, 19: 5, 13: 3, 22: 3, 10: 3, 23: 2, 24: 1, 15: 1})\n"
     ]
    },
    {
     "name": "stderr",
     "output_type": "stream",
     "text": [
      "100%|██████████| 25/25 [00:00<00:00, 47.76it/s]\n"
     ]
    },
    {
     "name": "stdout",
     "output_type": "stream",
     "text": [
      "spent time for epoch 576 is 0.5293982028961182s\n",
      "epoch # : 576 gamma : 0.5 gen loss : 1.0006060600280762\n"
     ]
    },
    {
     "name": "stderr",
     "output_type": "stream",
     "text": [
      " 20%|██        | 5/25 [00:00<00:00, 49.47it/s]"
     ]
    },
    {
     "name": "stdout",
     "output_type": "stream",
     "text": [
      "Total number of generated modes is  23\n",
      "The number of high quality samples among 2500 samples is 200\n",
      "The mode dictionary is Counter({3: 19, 7: 17, 16: 14, 13: 12, 8: 12, 23: 11, 2: 10, 6: 10, 11: 10, 21: 10, 22: 9, 4: 9, 24: 9, 12: 8, 17: 8, 19: 6, 18: 6, 14: 5, 1: 5, 0: 4, 5: 3, 15: 2, 9: 1})\n"
     ]
    },
    {
     "name": "stderr",
     "output_type": "stream",
     "text": [
      "100%|██████████| 25/25 [00:00<00:00, 48.45it/s]\n"
     ]
    },
    {
     "name": "stdout",
     "output_type": "stream",
     "text": [
      "spent time for epoch 577 is 0.5216052532196045s\n",
      "epoch # : 577 gamma : 0.5 gen loss : 0.9911342263221741\n"
     ]
    },
    {
     "name": "stderr",
     "output_type": "stream",
     "text": [
      " 20%|██        | 5/25 [00:00<00:00, 49.30it/s]"
     ]
    },
    {
     "name": "stdout",
     "output_type": "stream",
     "text": [
      "Total number of generated modes is  23\n",
      "The number of high quality samples among 2500 samples is 187\n",
      "The mode dictionary is Counter({17: 17, 14: 14, 7: 14, 16: 12, 3: 11, 5: 10, 4: 10, 9: 9, 1: 9, 6: 9, 8: 8, 24: 8, 19: 7, 11: 7, 21: 6, 2: 6, 13: 6, 23: 5, 15: 5, 18: 4, 10: 4, 12: 4, 22: 2})\n"
     ]
    },
    {
     "name": "stderr",
     "output_type": "stream",
     "text": [
      "100%|██████████| 25/25 [00:00<00:00, 48.59it/s]\n"
     ]
    },
    {
     "name": "stdout",
     "output_type": "stream",
     "text": [
      "spent time for epoch 578 is 0.5210845470428467s\n",
      "epoch # : 578 gamma : 0.5 gen loss : 0.9491449594497681\n"
     ]
    },
    {
     "name": "stderr",
     "output_type": "stream",
     "text": [
      " 20%|██        | 5/25 [00:00<00:00, 49.61it/s]"
     ]
    },
    {
     "name": "stdout",
     "output_type": "stream",
     "text": [
      "Total number of generated modes is  23\n",
      "The number of high quality samples among 2500 samples is 197\n",
      "The mode dictionary is Counter({7: 32, 16: 20, 0: 19, 5: 17, 6: 16, 8: 11, 20: 11, 10: 9, 3: 8, 18: 7, 11: 7, 13: 5, 17: 5, 15: 5, 9: 4, 1: 4, 21: 4, 4: 4, 23: 2, 2: 2, 22: 2, 14: 2, 24: 1})\n"
     ]
    },
    {
     "name": "stderr",
     "output_type": "stream",
     "text": [
      "100%|██████████| 25/25 [00:00<00:00, 49.05it/s]\n"
     ]
    },
    {
     "name": "stdout",
     "output_type": "stream",
     "text": [
      "spent time for epoch 579 is 0.5156173706054688s\n",
      "epoch # : 579 gamma : 0.5 gen loss : 1.0078136920928955\n"
     ]
    },
    {
     "name": "stderr",
     "output_type": "stream",
     "text": [
      "  4%|▍         | 1/25 [00:00<00:03,  7.11it/s]"
     ]
    },
    {
     "name": "stdout",
     "output_type": "stream",
     "text": [
      "Total number of generated modes is  25\n",
      "The number of high quality samples among 2500 samples is 196\n",
      "The mode dictionary is Counter({5: 17, 22: 14, 13: 14, 20: 13, 10: 11, 16: 11, 17: 11, 11: 10, 12: 9, 18: 9, 6: 8, 14: 8, 19: 7, 9: 7, 15: 6, 1: 6, 24: 6, 0: 5, 2: 4, 4: 4, 21: 4, 7: 4, 3: 4, 8: 3, 23: 1})\n"
     ]
    },
    {
     "name": "stderr",
     "output_type": "stream",
     "text": [
      "100%|██████████| 25/25 [00:00<00:00, 42.77it/s]\n"
     ]
    },
    {
     "name": "stdout",
     "output_type": "stream",
     "text": [
      "spent time for epoch 580 is 0.5904202461242676s\n",
      "epoch # : 580 gamma : 0.5 gen loss : 1.0107835531234741\n"
     ]
    },
    {
     "name": "stderr",
     "output_type": "stream",
     "text": [
      " 20%|██        | 5/25 [00:00<00:00, 48.33it/s]"
     ]
    },
    {
     "name": "stdout",
     "output_type": "stream",
     "text": [
      "Total number of generated modes is  25\n",
      "The number of high quality samples among 2500 samples is 171\n",
      "The mode dictionary is Counter({23: 21, 16: 17, 15: 12, 10: 10, 11: 10, 22: 9, 0: 9, 13: 9, 8: 8, 9: 8, 20: 8, 7: 7, 6: 7, 18: 6, 21: 6, 19: 4, 17: 4, 1: 3, 2: 3, 12: 3, 14: 2, 24: 2, 4: 1, 5: 1, 3: 1})\n"
     ]
    },
    {
     "name": "stderr",
     "output_type": "stream",
     "text": [
      "100%|██████████| 25/25 [00:00<00:00, 47.41it/s]\n"
     ]
    },
    {
     "name": "stdout",
     "output_type": "stream",
     "text": [
      "spent time for epoch 581 is 0.5333869457244873s\n",
      "epoch # : 581 gamma : 0.5 gen loss : 1.0058255195617676\n"
     ]
    },
    {
     "name": "stderr",
     "output_type": "stream",
     "text": [
      " 20%|██        | 5/25 [00:00<00:00, 48.01it/s]"
     ]
    },
    {
     "name": "stdout",
     "output_type": "stream",
     "text": [
      "Total number of generated modes is  24\n",
      "The number of high quality samples among 2500 samples is 193\n",
      "The mode dictionary is Counter({23: 35, 5: 16, 7: 15, 19: 12, 24: 12, 16: 11, 8: 11, 17: 10, 9: 9, 12: 9, 3: 8, 6: 8, 18: 7, 22: 5, 21: 5, 1: 5, 13: 4, 14: 3, 2: 2, 15: 2, 11: 1, 4: 1, 0: 1, 20: 1})\n"
     ]
    },
    {
     "name": "stderr",
     "output_type": "stream",
     "text": [
      "100%|██████████| 25/25 [00:00<00:00, 47.40it/s]\n"
     ]
    },
    {
     "name": "stdout",
     "output_type": "stream",
     "text": [
      "spent time for epoch 582 is 0.5332605838775635s\n",
      "epoch # : 582 gamma : 0.5 gen loss : 1.0275017023086548\n"
     ]
    },
    {
     "name": "stderr",
     "output_type": "stream",
     "text": [
      " 20%|██        | 5/25 [00:00<00:00, 48.56it/s]"
     ]
    },
    {
     "name": "stdout",
     "output_type": "stream",
     "text": [
      "Total number of generated modes is  25\n",
      "The number of high quality samples among 2500 samples is 246\n",
      "The mode dictionary is Counter({0: 55, 17: 19, 22: 13, 3: 11, 8: 11, 1: 11, 6: 10, 12: 10, 2: 9, 19: 9, 7: 9, 4: 9, 13: 8, 16: 8, 15: 7, 23: 6, 9: 6, 5: 6, 11: 6, 10: 6, 18: 5, 21: 5, 14: 4, 24: 2, 20: 1})\n"
     ]
    },
    {
     "name": "stderr",
     "output_type": "stream",
     "text": [
      "100%|██████████| 25/25 [00:00<00:00, 48.11it/s]\n"
     ]
    },
    {
     "name": "stdout",
     "output_type": "stream",
     "text": [
      "spent time for epoch 583 is 0.5253689289093018s\n",
      "epoch # : 583 gamma : 0.5 gen loss : 0.9855202436447144\n"
     ]
    },
    {
     "name": "stderr",
     "output_type": "stream",
     "text": [
      " 20%|██        | 5/25 [00:00<00:00, 48.52it/s]"
     ]
    },
    {
     "name": "stdout",
     "output_type": "stream",
     "text": [
      "Total number of generated modes is  24\n",
      "The number of high quality samples among 2500 samples is 175\n",
      "The mode dictionary is Counter({10: 22, 16: 20, 3: 13, 7: 12, 2: 12, 15: 11, 17: 10, 1: 8, 0: 8, 13: 7, 20: 7, 9: 7, 8: 7, 6: 6, 4: 4, 14: 4, 21: 3, 22: 3, 11: 3, 24: 2, 19: 2, 5: 2, 12: 1, 18: 1})\n"
     ]
    },
    {
     "name": "stderr",
     "output_type": "stream",
     "text": [
      "100%|██████████| 25/25 [00:00<00:00, 48.38it/s]\n"
     ]
    },
    {
     "name": "stdout",
     "output_type": "stream",
     "text": [
      "spent time for epoch 584 is 0.5226473808288574s\n",
      "epoch # : 584 gamma : 0.5 gen loss : 1.047342300415039\n"
     ]
    },
    {
     "name": "stderr",
     "output_type": "stream",
     "text": [
      " 20%|██        | 5/25 [00:00<00:00, 47.92it/s]"
     ]
    },
    {
     "name": "stdout",
     "output_type": "stream",
     "text": [
      "Total number of generated modes is  25\n",
      "The number of high quality samples among 2500 samples is 236\n",
      "The mode dictionary is Counter({5: 51, 11: 15, 16: 13, 24: 12, 6: 11, 0: 11, 10: 11, 7: 11, 2: 11, 14: 9, 1: 8, 17: 8, 8: 7, 19: 7, 3: 7, 12: 7, 9: 7, 18: 6, 4: 6, 15: 4, 22: 3, 23: 3, 21: 3, 13: 3, 20: 2})\n"
     ]
    },
    {
     "name": "stderr",
     "output_type": "stream",
     "text": [
      "100%|██████████| 25/25 [00:00<00:00, 48.02it/s]\n"
     ]
    },
    {
     "name": "stdout",
     "output_type": "stream",
     "text": [
      "spent time for epoch 585 is 0.5267190933227539s\n",
      "epoch # : 585 gamma : 0.5 gen loss : 1.0015263557434082\n"
     ]
    },
    {
     "name": "stderr",
     "output_type": "stream",
     "text": [
      " 20%|██        | 5/25 [00:00<00:00, 48.35it/s]"
     ]
    },
    {
     "name": "stdout",
     "output_type": "stream",
     "text": [
      "Total number of generated modes is  25\n",
      "The number of high quality samples among 2500 samples is 234\n",
      "The mode dictionary is Counter({22: 27, 21: 23, 7: 16, 8: 16, 15: 16, 17: 15, 2: 14, 12: 10, 23: 10, 20: 10, 0: 9, 16: 9, 10: 8, 1: 7, 3: 7, 6: 6, 13: 6, 11: 6, 14: 4, 9: 4, 18: 4, 4: 2, 19: 2, 5: 2, 24: 1})\n"
     ]
    },
    {
     "name": "stderr",
     "output_type": "stream",
     "text": [
      "100%|██████████| 25/25 [00:00<00:00, 48.45it/s]\n"
     ]
    },
    {
     "name": "stdout",
     "output_type": "stream",
     "text": [
      "spent time for epoch 586 is 0.5218091011047363s\n",
      "epoch # : 586 gamma : 0.5 gen loss : 1.0019718408584595\n"
     ]
    },
    {
     "name": "stderr",
     "output_type": "stream",
     "text": [
      " 20%|██        | 5/25 [00:00<00:00, 48.92it/s]"
     ]
    },
    {
     "name": "stdout",
     "output_type": "stream",
     "text": [
      "Total number of generated modes is  25\n",
      "The number of high quality samples among 2500 samples is 258\n",
      "The mode dictionary is Counter({0: 44, 10: 43, 16: 15, 24: 14, 15: 13, 17: 12, 13: 11, 2: 10, 19: 9, 8: 9, 11: 9, 9: 9, 6: 8, 1: 8, 14: 7, 3: 6, 21: 5, 22: 4, 7: 4, 18: 4, 5: 4, 23: 3, 12: 3, 20: 2, 4: 2})\n"
     ]
    },
    {
     "name": "stderr",
     "output_type": "stream",
     "text": [
      "100%|██████████| 25/25 [00:00<00:00, 48.76it/s]\n"
     ]
    },
    {
     "name": "stdout",
     "output_type": "stream",
     "text": [
      "spent time for epoch 587 is 0.5189201831817627s\n",
      "epoch # : 587 gamma : 0.5 gen loss : 0.9886956810951233\n"
     ]
    },
    {
     "name": "stderr",
     "output_type": "stream",
     "text": [
      " 20%|██        | 5/25 [00:00<00:00, 49.36it/s]"
     ]
    },
    {
     "name": "stdout",
     "output_type": "stream",
     "text": [
      "Total number of generated modes is  24\n",
      "The number of high quality samples among 2500 samples is 166\n",
      "The mode dictionary is Counter({7: 22, 5: 18, 8: 15, 15: 12, 16: 12, 13: 11, 6: 10, 14: 9, 9: 9, 17: 8, 3: 6, 1: 5, 18: 5, 10: 4, 11: 4, 21: 3, 20: 3, 2: 3, 19: 2, 22: 1, 0: 1, 24: 1, 23: 1, 4: 1})\n"
     ]
    },
    {
     "name": "stderr",
     "output_type": "stream",
     "text": [
      "100%|██████████| 25/25 [00:00<00:00, 48.72it/s]\n"
     ]
    },
    {
     "name": "stdout",
     "output_type": "stream",
     "text": [
      "spent time for epoch 588 is 0.5190074443817139s\n",
      "epoch # : 588 gamma : 0.5 gen loss : 1.0086113214492798\n"
     ]
    },
    {
     "name": "stderr",
     "output_type": "stream",
     "text": [
      " 20%|██        | 5/25 [00:00<00:00, 49.40it/s]"
     ]
    },
    {
     "name": "stdout",
     "output_type": "stream",
     "text": [
      "Total number of generated modes is  23\n",
      "The number of high quality samples among 2500 samples is 184\n",
      "The mode dictionary is Counter({5: 47, 7: 17, 8: 17, 20: 14, 16: 11, 17: 9, 3: 8, 11: 7, 12: 6, 13: 5, 22: 5, 2: 5, 9: 5, 18: 5, 1: 4, 6: 4, 14: 4, 23: 4, 4: 2, 0: 2, 24: 1, 19: 1, 10: 1})\n"
     ]
    },
    {
     "name": "stderr",
     "output_type": "stream",
     "text": [
      "100%|██████████| 25/25 [00:00<00:00, 48.71it/s]\n"
     ]
    },
    {
     "name": "stdout",
     "output_type": "stream",
     "text": [
      "spent time for epoch 589 is 0.5189533233642578s\n",
      "epoch # : 589 gamma : 0.5 gen loss : 1.0075461864471436\n"
     ]
    },
    {
     "name": "stderr",
     "output_type": "stream",
     "text": [
      " 20%|██        | 5/25 [00:00<00:00, 49.75it/s]"
     ]
    },
    {
     "name": "stdout",
     "output_type": "stream",
     "text": [
      "Total number of generated modes is  25\n",
      "The number of high quality samples among 2500 samples is 200\n",
      "The mode dictionary is Counter({0: 39, 7: 23, 10: 15, 8: 15, 16: 12, 15: 10, 1: 9, 18: 9, 6: 9, 11: 8, 13: 8, 17: 8, 21: 6, 5: 5, 23: 5, 22: 3, 9: 3, 3: 2, 14: 2, 2: 2, 4: 2, 12: 2, 24: 1, 20: 1, 19: 1})\n"
     ]
    },
    {
     "name": "stderr",
     "output_type": "stream",
     "text": [
      "100%|██████████| 25/25 [00:00<00:00, 49.03it/s]\n"
     ]
    },
    {
     "name": "stdout",
     "output_type": "stream",
     "text": [
      "spent time for epoch 590 is 0.515634298324585s\n",
      "epoch # : 590 gamma : 0.5 gen loss : 1.038325309753418\n"
     ]
    },
    {
     "name": "stderr",
     "output_type": "stream",
     "text": [
      "  4%|▍         | 1/25 [00:00<00:03,  7.29it/s]"
     ]
    },
    {
     "name": "stdout",
     "output_type": "stream",
     "text": [
      "Total number of generated modes is  24\n",
      "The number of high quality samples among 2500 samples is 202\n",
      "The mode dictionary is Counter({21: 41, 7: 22, 17: 17, 1: 12, 6: 11, 10: 10, 15: 9, 8: 8, 13: 8, 16: 8, 3: 8, 9: 7, 0: 6, 18: 6, 12: 5, 22: 4, 24: 4, 11: 4, 19: 3, 20: 3, 23: 2, 2: 2, 14: 1, 5: 1})\n"
     ]
    },
    {
     "name": "stderr",
     "output_type": "stream",
     "text": [
      "100%|██████████| 25/25 [00:00<00:00, 42.88it/s]\n"
     ]
    },
    {
     "name": "stdout",
     "output_type": "stream",
     "text": [
      "spent time for epoch 591 is 0.5891003608703613s\n",
      "epoch # : 591 gamma : 0.5 gen loss : 0.9936498999595642\n"
     ]
    },
    {
     "name": "stderr",
     "output_type": "stream",
     "text": [
      " 20%|██        | 5/25 [00:00<00:00, 47.79it/s]"
     ]
    },
    {
     "name": "stdout",
     "output_type": "stream",
     "text": [
      "Total number of generated modes is  23\n",
      "The number of high quality samples among 2500 samples is 238\n",
      "The mode dictionary is Counter({20: 36, 7: 25, 0: 24, 21: 18, 1: 16, 5: 15, 16: 14, 3: 13, 4: 10, 11: 10, 18: 8, 8: 8, 6: 8, 2: 6, 15: 5, 9: 5, 14: 3, 13: 3, 17: 3, 23: 3, 12: 2, 19: 2, 24: 1})\n"
     ]
    },
    {
     "name": "stderr",
     "output_type": "stream",
     "text": [
      "100%|██████████| 25/25 [00:00<00:00, 47.59it/s]\n"
     ]
    },
    {
     "name": "stdout",
     "output_type": "stream",
     "text": [
      "spent time for epoch 592 is 0.5310401916503906s\n",
      "epoch # : 592 gamma : 0.5 gen loss : 0.9994775056838989\n"
     ]
    },
    {
     "name": "stderr",
     "output_type": "stream",
     "text": [
      " 20%|██        | 5/25 [00:00<00:00, 48.32it/s]"
     ]
    },
    {
     "name": "stdout",
     "output_type": "stream",
     "text": [
      "Total number of generated modes is  23\n",
      "The number of high quality samples among 2500 samples is 207\n",
      "The mode dictionary is Counter({0: 27, 3: 18, 7: 17, 2: 15, 10: 13, 15: 13, 6: 12, 8: 11, 21: 11, 1: 10, 20: 9, 13: 7, 11: 6, 17: 5, 4: 5, 16: 5, 18: 5, 5: 4, 9: 4, 12: 3, 22: 3, 19: 2, 14: 2})\n"
     ]
    },
    {
     "name": "stderr",
     "output_type": "stream",
     "text": [
      "100%|██████████| 25/25 [00:00<00:00, 48.32it/s]\n"
     ]
    },
    {
     "name": "stdout",
     "output_type": "stream",
     "text": [
      "spent time for epoch 593 is 0.5233051776885986s\n",
      "epoch # : 593 gamma : 0.5 gen loss : 1.0104197263717651\n"
     ]
    },
    {
     "name": "stderr",
     "output_type": "stream",
     "text": [
      " 20%|██        | 5/25 [00:00<00:00, 48.37it/s]"
     ]
    },
    {
     "name": "stdout",
     "output_type": "stream",
     "text": [
      "Total number of generated modes is  24\n",
      "The number of high quality samples among 2500 samples is 197\n",
      "The mode dictionary is Counter({7: 20, 5: 20, 4: 15, 3: 15, 16: 13, 2: 13, 8: 11, 21: 11, 6: 9, 1: 8, 18: 8, 14: 7, 19: 7, 9: 7, 11: 6, 17: 5, 13: 5, 23: 4, 12: 3, 20: 3, 15: 3, 24: 2, 22: 1, 0: 1})\n"
     ]
    },
    {
     "name": "stderr",
     "output_type": "stream",
     "text": [
      "100%|██████████| 25/25 [00:00<00:00, 48.54it/s]\n"
     ]
    },
    {
     "name": "stdout",
     "output_type": "stream",
     "text": [
      "spent time for epoch 594 is 0.5209367275238037s\n",
      "epoch # : 594 gamma : 0.5 gen loss : 0.9973193407058716\n"
     ]
    },
    {
     "name": "stderr",
     "output_type": "stream",
     "text": [
      " 20%|██        | 5/25 [00:00<00:00, 48.45it/s]"
     ]
    },
    {
     "name": "stdout",
     "output_type": "stream",
     "text": [
      "Total number of generated modes is  25\n",
      "The number of high quality samples among 2500 samples is 263\n",
      "The mode dictionary is Counter({0: 43, 22: 25, 24: 17, 23: 17, 7: 14, 6: 13, 1: 13, 17: 12, 5: 12, 2: 11, 16: 11, 21: 10, 3: 10, 8: 10, 12: 8, 4: 6, 9: 6, 19: 4, 15: 4, 20: 3, 10: 3, 18: 3, 13: 3, 11: 3, 14: 2})\n"
     ]
    },
    {
     "name": "stderr",
     "output_type": "stream",
     "text": [
      "100%|██████████| 25/25 [00:00<00:00, 48.24it/s]\n"
     ]
    },
    {
     "name": "stdout",
     "output_type": "stream",
     "text": [
      "spent time for epoch 595 is 0.5242345333099365s\n",
      "epoch # : 595 gamma : 0.5 gen loss : 1.00953209400177\n"
     ]
    },
    {
     "name": "stderr",
     "output_type": "stream",
     "text": [
      " 20%|██        | 5/25 [00:00<00:00, 48.93it/s]"
     ]
    },
    {
     "name": "stdout",
     "output_type": "stream",
     "text": [
      "Total number of generated modes is  24\n",
      "The number of high quality samples among 2500 samples is 174\n",
      "The mode dictionary is Counter({23: 21, 7: 17, 16: 14, 5: 13, 21: 11, 8: 10, 18: 10, 11: 9, 6: 9, 17: 8, 13: 7, 10: 6, 15: 6, 9: 5, 2: 5, 24: 4, 22: 4, 0: 3, 4: 3, 12: 3, 3: 2, 1: 2, 19: 1, 14: 1})\n"
     ]
    },
    {
     "name": "stderr",
     "output_type": "stream",
     "text": [
      "100%|██████████| 25/25 [00:00<00:00, 48.24it/s]\n"
     ]
    },
    {
     "name": "stdout",
     "output_type": "stream",
     "text": [
      "spent time for epoch 596 is 0.5238986015319824s\n",
      "epoch # : 596 gamma : 0.5 gen loss : 1.0131357908248901\n"
     ]
    },
    {
     "name": "stderr",
     "output_type": "stream",
     "text": [
      " 20%|██        | 5/25 [00:00<00:00, 48.74it/s]"
     ]
    },
    {
     "name": "stdout",
     "output_type": "stream",
     "text": [
      "Total number of generated modes is  25\n",
      "The number of high quality samples among 2500 samples is 149\n",
      "The mode dictionary is Counter({5: 27, 15: 10, 6: 9, 11: 9, 3: 8, 0: 7, 20: 7, 24: 7, 1: 7, 17: 7, 18: 6, 13: 6, 16: 5, 21: 4, 14: 4, 22: 4, 12: 4, 10: 4, 4: 3, 19: 3, 7: 2, 9: 2, 2: 2, 8: 1, 23: 1})\n"
     ]
    },
    {
     "name": "stderr",
     "output_type": "stream",
     "text": [
      "100%|██████████| 25/25 [00:00<00:00, 48.42it/s]\n"
     ]
    },
    {
     "name": "stdout",
     "output_type": "stream",
     "text": [
      "spent time for epoch 597 is 0.5221765041351318s\n",
      "epoch # : 597 gamma : 0.5 gen loss : 1.0116652250289917\n"
     ]
    },
    {
     "name": "stderr",
     "output_type": "stream",
     "text": [
      " 20%|██        | 5/25 [00:00<00:00, 48.67it/s]"
     ]
    },
    {
     "name": "stdout",
     "output_type": "stream",
     "text": [
      "Total number of generated modes is  25\n",
      "The number of high quality samples among 2500 samples is 175\n",
      "The mode dictionary is Counter({7: 22, 6: 11, 21: 11, 9: 11, 16: 11, 15: 10, 8: 10, 14: 9, 24: 8, 19: 8, 23: 8, 12: 7, 20: 7, 0: 6, 17: 5, 1: 4, 2: 4, 13: 4, 3: 4, 18: 3, 4: 3, 11: 3, 10: 2, 5: 2, 22: 2})\n"
     ]
    },
    {
     "name": "stderr",
     "output_type": "stream",
     "text": [
      "100%|██████████| 25/25 [00:00<00:00, 48.73it/s]\n"
     ]
    },
    {
     "name": "stdout",
     "output_type": "stream",
     "text": [
      "spent time for epoch 598 is 0.518826961517334s\n",
      "epoch # : 598 gamma : 0.5 gen loss : 0.9985554218292236\n"
     ]
    },
    {
     "name": "stderr",
     "output_type": "stream",
     "text": [
      " 20%|██        | 5/25 [00:00<00:00, 48.55it/s]"
     ]
    },
    {
     "name": "stdout",
     "output_type": "stream",
     "text": [
      "Total number of generated modes is  25\n",
      "The number of high quality samples among 2500 samples is 251\n",
      "The mode dictionary is Counter({21: 49, 20: 27, 16: 21, 7: 21, 11: 13, 15: 11, 13: 11, 18: 10, 3: 9, 10: 9, 17: 8, 5: 7, 1: 7, 6: 6, 9: 5, 2: 5, 12: 5, 24: 5, 4: 5, 8: 5, 22: 3, 23: 3, 0: 3, 19: 2, 14: 1})\n"
     ]
    },
    {
     "name": "stderr",
     "output_type": "stream",
     "text": [
      "100%|██████████| 25/25 [00:00<00:00, 48.85it/s]\n"
     ]
    },
    {
     "name": "stdout",
     "output_type": "stream",
     "text": [
      "spent time for epoch 599 is 0.5179505348205566s\n",
      "epoch # : 599 gamma : 0.5 gen loss : 0.9933401346206665\n"
     ]
    },
    {
     "name": "stderr",
     "output_type": "stream",
     "text": [
      " 20%|██        | 5/25 [00:00<00:00, 49.37it/s]"
     ]
    },
    {
     "name": "stdout",
     "output_type": "stream",
     "text": [
      "Total number of generated modes is  22\n",
      "The number of high quality samples among 2500 samples is 171\n",
      "The mode dictionary is Counter({5: 36, 7: 20, 16: 17, 19: 14, 13: 13, 9: 8, 8: 8, 14: 7, 21: 7, 6: 7, 18: 6, 11: 5, 4: 5, 17: 3, 1: 3, 12: 3, 15: 2, 24: 2, 2: 2, 10: 1, 22: 1, 23: 1})\n"
     ]
    },
    {
     "name": "stderr",
     "output_type": "stream",
     "text": [
      "100%|██████████| 25/25 [00:00<00:00, 48.90it/s]\n"
     ]
    },
    {
     "name": "stdout",
     "output_type": "stream",
     "text": [
      "spent time for epoch 600 is 0.5171864032745361s\n",
      "epoch # : 600 gamma : 0.5 gen loss : 1.0170005559921265\n"
     ]
    },
    {
     "name": "stderr",
     "output_type": "stream",
     "text": [
      " 20%|██        | 5/25 [00:00<00:00, 49.46it/s]"
     ]
    },
    {
     "name": "stdout",
     "output_type": "stream",
     "text": [
      "Total number of generated modes is  25\n",
      "The number of high quality samples among 2500 samples is 211\n",
      "The mode dictionary is Counter({17: 20, 20: 18, 3: 16, 0: 12, 8: 12, 1: 12, 16: 11, 15: 10, 21: 10, 23: 10, 6: 10, 2: 9, 22: 8, 12: 8, 5: 7, 7: 7, 13: 6, 10: 5, 18: 4, 4: 4, 11: 4, 24: 3, 19: 2, 14: 2, 9: 1})\n"
     ]
    },
    {
     "name": "stderr",
     "output_type": "stream",
     "text": [
      "100%|██████████| 25/25 [00:00<00:00, 48.86it/s]\n"
     ]
    },
    {
     "name": "stdout",
     "output_type": "stream",
     "text": [
      "spent time for epoch 601 is 0.5175521373748779s\n",
      "epoch # : 601 gamma : 0.5 gen loss : 1.0114216804504395\n"
     ]
    },
    {
     "name": "stderr",
     "output_type": "stream",
     "text": [
      "  4%|▍         | 1/25 [00:00<00:03,  7.19it/s]"
     ]
    },
    {
     "name": "stdout",
     "output_type": "stream",
     "text": [
      "Total number of generated modes is  24\n",
      "The number of high quality samples among 2500 samples is 216\n",
      "The mode dictionary is Counter({20: 33, 10: 22, 3: 14, 2: 12, 1: 12, 21: 12, 23: 11, 0: 11, 11: 10, 7: 10, 13: 7, 18: 7, 15: 7, 17: 7, 16: 7, 8: 7, 12: 6, 22: 4, 6: 4, 9: 3, 5: 3, 4: 3, 19: 3, 24: 1})\n"
     ]
    },
    {
     "name": "stderr",
     "output_type": "stream",
     "text": [
      "100%|██████████| 25/25 [00:00<00:00, 42.56it/s]\n"
     ]
    },
    {
     "name": "stdout",
     "output_type": "stream",
     "text": [
      "spent time for epoch 602 is 0.593226432800293s\n",
      "epoch # : 602 gamma : 0.5 gen loss : 1.0455291271209717\n"
     ]
    },
    {
     "name": "stderr",
     "output_type": "stream",
     "text": [
      " 20%|██        | 5/25 [00:00<00:00, 47.54it/s]"
     ]
    },
    {
     "name": "stdout",
     "output_type": "stream",
     "text": [
      "Total number of generated modes is  24\n",
      "The number of high quality samples among 2500 samples is 259\n",
      "The mode dictionary is Counter({0: 37, 23: 25, 22: 25, 1: 16, 6: 14, 21: 13, 16: 12, 2: 11, 5: 11, 8: 11, 17: 10, 7: 9, 3: 9, 14: 8, 13: 7, 24: 7, 4: 7, 9: 6, 19: 6, 18: 5, 11: 5, 15: 2, 12: 2, 10: 1})\n"
     ]
    },
    {
     "name": "stderr",
     "output_type": "stream",
     "text": [
      "100%|██████████| 25/25 [00:00<00:00, 47.31it/s]\n"
     ]
    },
    {
     "name": "stdout",
     "output_type": "stream",
     "text": [
      "spent time for epoch 603 is 0.5344507694244385s\n",
      "epoch # : 603 gamma : 0.5 gen loss : 1.0239781141281128\n"
     ]
    },
    {
     "name": "stderr",
     "output_type": "stream",
     "text": [
      " 12%|█▏        | 3/25 [00:00<00:00, 29.81it/s]"
     ]
    },
    {
     "name": "stdout",
     "output_type": "stream",
     "text": [
      "Total number of generated modes is  25\n",
      "The number of high quality samples among 2500 samples is 193\n",
      "The mode dictionary is Counter({7: 23, 8: 22, 23: 16, 21: 14, 16: 13, 20: 12, 22: 10, 11: 10, 15: 10, 13: 9, 17: 8, 10: 6, 1: 6, 2: 5, 0: 4, 14: 4, 24: 4, 18: 4, 3: 3, 6: 3, 9: 2, 12: 2, 5: 1, 19: 1, 4: 1})\n"
     ]
    },
    {
     "name": "stderr",
     "output_type": "stream",
     "text": [
      "100%|██████████| 25/25 [00:00<00:00, 47.02it/s]\n"
     ]
    },
    {
     "name": "stdout",
     "output_type": "stream",
     "text": [
      "spent time for epoch 604 is 0.537259578704834s\n",
      "epoch # : 604 gamma : 0.5 gen loss : 0.9949418306350708\n"
     ]
    },
    {
     "name": "stderr",
     "output_type": "stream",
     "text": [
      " 20%|██        | 5/25 [00:00<00:00, 48.54it/s]"
     ]
    },
    {
     "name": "stdout",
     "output_type": "stream",
     "text": [
      "Total number of generated modes is  25\n",
      "The number of high quality samples among 2500 samples is 222\n",
      "The mode dictionary is Counter({21: 41, 22: 18, 23: 15, 14: 12, 16: 11, 19: 10, 5: 10, 6: 9, 11: 9, 3: 9, 13: 8, 2: 8, 15: 7, 20: 7, 10: 7, 4: 7, 7: 6, 12: 5, 17: 5, 24: 4, 1: 4, 9: 3, 8: 3, 18: 3, 0: 1})\n"
     ]
    },
    {
     "name": "stderr",
     "output_type": "stream",
     "text": [
      "100%|██████████| 25/25 [00:00<00:00, 47.67it/s]\n"
     ]
    },
    {
     "name": "stdout",
     "output_type": "stream",
     "text": [
      "spent time for epoch 605 is 0.53155517578125s\n",
      "epoch # : 605 gamma : 0.5 gen loss : 1.0419807434082031\n"
     ]
    },
    {
     "name": "stderr",
     "output_type": "stream",
     "text": [
      " 20%|██        | 5/25 [00:00<00:00, 48.94it/s]"
     ]
    },
    {
     "name": "stdout",
     "output_type": "stream",
     "text": [
      "Total number of generated modes is  25\n",
      "The number of high quality samples among 2500 samples is 203\n",
      "The mode dictionary is Counter({23: 19, 7: 18, 5: 17, 16: 16, 15: 13, 14: 11, 20: 11, 17: 10, 9: 10, 11: 9, 6: 8, 8: 8, 2: 7, 18: 7, 13: 7, 22: 7, 12: 6, 24: 5, 10: 3, 1: 3, 19: 2, 4: 2, 21: 2, 3: 1, 0: 1})\n"
     ]
    },
    {
     "name": "stderr",
     "output_type": "stream",
     "text": [
      "100%|██████████| 25/25 [00:00<00:00, 48.48it/s]\n"
     ]
    },
    {
     "name": "stdout",
     "output_type": "stream",
     "text": [
      "spent time for epoch 606 is 0.5216686725616455s\n",
      "epoch # : 606 gamma : 0.5 gen loss : 0.9795955419540405\n"
     ]
    },
    {
     "name": "stderr",
     "output_type": "stream",
     "text": [
      " 20%|██        | 5/25 [00:00<00:00, 47.83it/s]"
     ]
    },
    {
     "name": "stdout",
     "output_type": "stream",
     "text": [
      "Total number of generated modes is  24\n",
      "The number of high quality samples among 2500 samples is 250\n",
      "The mode dictionary is Counter({5: 32, 20: 26, 21: 24, 0: 21, 3: 18, 4: 16, 1: 14, 15: 13, 16: 12, 6: 10, 17: 10, 18: 8, 11: 8, 7: 8, 13: 7, 10: 6, 22: 5, 2: 3, 8: 3, 19: 2, 9: 1, 14: 1, 23: 1, 12: 1})\n"
     ]
    },
    {
     "name": "stderr",
     "output_type": "stream",
     "text": [
      "100%|██████████| 25/25 [00:00<00:00, 48.06it/s]\n"
     ]
    },
    {
     "name": "stdout",
     "output_type": "stream",
     "text": [
      "spent time for epoch 607 is 0.5261447429656982s\n",
      "epoch # : 607 gamma : 0.5 gen loss : 0.9877897500991821\n"
     ]
    },
    {
     "name": "stderr",
     "output_type": "stream",
     "text": [
      " 20%|██        | 5/25 [00:00<00:00, 49.12it/s]"
     ]
    },
    {
     "name": "stdout",
     "output_type": "stream",
     "text": [
      "Total number of generated modes is  25\n",
      "The number of high quality samples among 2500 samples is 284\n",
      "The mode dictionary is Counter({17: 26, 3: 21, 24: 20, 23: 20, 22: 20, 0: 20, 4: 19, 16: 15, 6: 14, 1: 13, 18: 12, 7: 12, 8: 11, 13: 9, 12: 8, 21: 7, 2: 7, 14: 7, 9: 7, 19: 6, 11: 5, 10: 2, 5: 1, 15: 1, 20: 1})\n"
     ]
    },
    {
     "name": "stderr",
     "output_type": "stream",
     "text": [
      "100%|██████████| 25/25 [00:00<00:00, 48.82it/s]\n"
     ]
    },
    {
     "name": "stdout",
     "output_type": "stream",
     "text": [
      "spent time for epoch 608 is 0.5178427696228027s\n",
      "epoch # : 608 gamma : 0.5 gen loss : 1.0085549354553223\n"
     ]
    },
    {
     "name": "stderr",
     "output_type": "stream",
     "text": [
      " 20%|██        | 5/25 [00:00<00:00, 47.96it/s]"
     ]
    },
    {
     "name": "stdout",
     "output_type": "stream",
     "text": [
      "Total number of generated modes is  23\n",
      "The number of high quality samples among 2500 samples is 193\n",
      "The mode dictionary is Counter({0: 30, 15: 16, 4: 13, 17: 12, 6: 11, 2: 11, 16: 11, 7: 10, 20: 10, 8: 10, 3: 9, 18: 8, 1: 7, 9: 7, 11: 6, 10: 6, 21: 5, 13: 4, 19: 3, 23: 1, 14: 1, 22: 1, 24: 1})\n"
     ]
    },
    {
     "name": "stderr",
     "output_type": "stream",
     "text": [
      "100%|██████████| 25/25 [00:00<00:00, 48.46it/s]\n"
     ]
    },
    {
     "name": "stdout",
     "output_type": "stream",
     "text": [
      "spent time for epoch 609 is 0.5215866565704346s\n",
      "epoch # : 609 gamma : 0.5 gen loss : 0.9969915747642517\n"
     ]
    },
    {
     "name": "stderr",
     "output_type": "stream",
     "text": [
      " 20%|██        | 5/25 [00:00<00:00, 48.69it/s]"
     ]
    },
    {
     "name": "stdout",
     "output_type": "stream",
     "text": [
      "Total number of generated modes is  25\n",
      "The number of high quality samples among 2500 samples is 180\n",
      "The mode dictionary is Counter({16: 21, 15: 18, 3: 14, 8: 13, 0: 12, 19: 10, 20: 10, 6: 9, 7: 8, 18: 8, 13: 6, 9: 6, 1: 6, 2: 5, 17: 5, 5: 5, 24: 4, 22: 4, 21: 4, 23: 3, 10: 3, 12: 2, 14: 2, 11: 1, 4: 1})\n"
     ]
    },
    {
     "name": "stderr",
     "output_type": "stream",
     "text": [
      "100%|██████████| 25/25 [00:00<00:00, 48.87it/s]\n"
     ]
    },
    {
     "name": "stdout",
     "output_type": "stream",
     "text": [
      "spent time for epoch 610 is 0.5175948143005371s\n",
      "epoch # : 610 gamma : 0.5 gen loss : 0.9949913024902344\n"
     ]
    },
    {
     "name": "stderr",
     "output_type": "stream",
     "text": [
      " 20%|██        | 5/25 [00:00<00:00, 48.97it/s]"
     ]
    },
    {
     "name": "stdout",
     "output_type": "stream",
     "text": [
      "Total number of generated modes is  24\n",
      "The number of high quality samples among 2500 samples is 238\n",
      "The mode dictionary is Counter({20: 23, 22: 22, 23: 19, 16: 18, 15: 18, 21: 18, 8: 15, 17: 14, 7: 11, 10: 10, 6: 10, 13: 9, 11: 8, 12: 8, 2: 8, 5: 6, 18: 5, 4: 5, 3: 4, 14: 2, 24: 2, 1: 1, 19: 1, 9: 1})\n"
     ]
    },
    {
     "name": "stderr",
     "output_type": "stream",
     "text": [
      "100%|██████████| 25/25 [00:00<00:00, 48.30it/s]\n"
     ]
    },
    {
     "name": "stdout",
     "output_type": "stream",
     "text": [
      "spent time for epoch 611 is 0.5234696865081787s\n",
      "epoch # : 611 gamma : 0.5 gen loss : 1.0261257886886597\n"
     ]
    },
    {
     "name": "stderr",
     "output_type": "stream",
     "text": [
      " 20%|██        | 5/25 [00:00<00:00, 49.21it/s]"
     ]
    },
    {
     "name": "stdout",
     "output_type": "stream",
     "text": [
      "Total number of generated modes is  24\n",
      "The number of high quality samples among 2500 samples is 228\n",
      "The mode dictionary is Counter({0: 27, 15: 19, 20: 17, 3: 16, 17: 15, 4: 15, 8: 14, 1: 13, 11: 11, 2: 10, 7: 10, 6: 9, 16: 8, 18: 8, 13: 8, 22: 5, 21: 5, 5: 4, 23: 4, 14: 3, 12: 3, 10: 2, 24: 1, 19: 1})\n"
     ]
    },
    {
     "name": "stderr",
     "output_type": "stream",
     "text": [
      "100%|██████████| 25/25 [00:00<00:00, 47.81it/s]\n"
     ]
    },
    {
     "name": "stdout",
     "output_type": "stream",
     "text": [
      "spent time for epoch 612 is 0.5283589363098145s\n",
      "epoch # : 612 gamma : 0.5 gen loss : 1.0242339372634888\n"
     ]
    },
    {
     "name": "stderr",
     "output_type": "stream",
     "text": [
      "  4%|▍         | 1/25 [00:00<00:03,  7.37it/s]"
     ]
    },
    {
     "name": "stdout",
     "output_type": "stream",
     "text": [
      "Total number of generated modes is  25\n",
      "The number of high quality samples among 2500 samples is 151\n",
      "The mode dictionary is Counter({16: 13, 13: 13, 17: 12, 9: 12, 8: 11, 7: 9, 18: 8, 24: 8, 3: 7, 14: 6, 22: 5, 19: 5, 23: 5, 12: 4, 10: 4, 15: 4, 11: 4, 5: 4, 21: 3, 2: 3, 4: 3, 6: 3, 20: 2, 0: 2, 1: 1})\n"
     ]
    },
    {
     "name": "stderr",
     "output_type": "stream",
     "text": [
      "100%|██████████| 25/25 [00:00<00:00, 43.24it/s]\n"
     ]
    },
    {
     "name": "stdout",
     "output_type": "stream",
     "text": [
      "spent time for epoch 613 is 0.5860207080841064s\n",
      "epoch # : 613 gamma : 0.5 gen loss : 0.9828143119812012\n"
     ]
    },
    {
     "name": "stderr",
     "output_type": "stream",
     "text": [
      " 20%|██        | 5/25 [00:00<00:00, 48.10it/s]"
     ]
    },
    {
     "name": "stdout",
     "output_type": "stream",
     "text": [
      "Total number of generated modes is  24\n",
      "The number of high quality samples among 2500 samples is 280\n",
      "The mode dictionary is Counter({22: 53, 23: 27, 0: 23, 5: 17, 17: 12, 4: 12, 20: 11, 7: 11, 2: 11, 1: 11, 9: 10, 19: 9, 11: 8, 16: 8, 14: 8, 15: 7, 3: 7, 6: 7, 18: 6, 12: 6, 13: 5, 8: 5, 10: 4, 21: 2})\n"
     ]
    },
    {
     "name": "stderr",
     "output_type": "stream",
     "text": [
      "100%|██████████| 25/25 [00:00<00:00, 47.61it/s]\n"
     ]
    },
    {
     "name": "stdout",
     "output_type": "stream",
     "text": [
      "spent time for epoch 614 is 0.5306627750396729s\n",
      "epoch # : 614 gamma : 0.5 gen loss : 1.0056740045547485\n"
     ]
    },
    {
     "name": "stderr",
     "output_type": "stream",
     "text": [
      " 16%|█▌        | 4/25 [00:00<00:00, 38.92it/s]"
     ]
    },
    {
     "name": "stdout",
     "output_type": "stream",
     "text": [
      "Total number of generated modes is  24\n",
      "The number of high quality samples among 2500 samples is 171\n",
      "The mode dictionary is Counter({20: 24, 16: 15, 9: 13, 7: 11, 15: 11, 6: 11, 8: 10, 0: 9, 1: 9, 19: 7, 17: 7, 14: 6, 3: 6, 24: 4, 18: 4, 11: 4, 2: 4, 13: 3, 21: 3, 22: 3, 12: 2, 23: 2, 10: 2, 4: 1})\n"
     ]
    },
    {
     "name": "stderr",
     "output_type": "stream",
     "text": [
      "100%|██████████| 25/25 [00:00<00:00, 47.52it/s]\n"
     ]
    },
    {
     "name": "stdout",
     "output_type": "stream",
     "text": [
      "spent time for epoch 615 is 0.5317423343658447s\n",
      "epoch # : 615 gamma : 0.5 gen loss : 0.9877606630325317\n"
     ]
    },
    {
     "name": "stderr",
     "output_type": "stream",
     "text": [
      "  4%|▍         | 1/25 [00:00<00:02,  9.89it/s]"
     ]
    },
    {
     "name": "stdout",
     "output_type": "stream",
     "text": [
      "Total number of generated modes is  25\n",
      "The number of high quality samples among 2500 samples is 187\n",
      "The mode dictionary is Counter({0: 26, 16: 17, 7: 15, 2: 9, 22: 9, 1: 9, 19: 8, 17: 8, 24: 8, 8: 8, 9: 8, 14: 7, 11: 7, 13: 7, 5: 7, 6: 7, 18: 5, 3: 5, 21: 5, 12: 4, 23: 2, 15: 2, 10: 2, 20: 1, 4: 1})\n"
     ]
    },
    {
     "name": "stderr",
     "output_type": "stream",
     "text": [
      "100%|██████████| 25/25 [00:00<00:00, 46.26it/s]\n"
     ]
    },
    {
     "name": "stdout",
     "output_type": "stream",
     "text": [
      "spent time for epoch 616 is 0.5461254119873047s\n",
      "epoch # : 616 gamma : 0.5 gen loss : 1.0192753076553345\n"
     ]
    },
    {
     "name": "stderr",
     "output_type": "stream",
     "text": [
      " 20%|██        | 5/25 [00:00<00:00, 49.03it/s]"
     ]
    },
    {
     "name": "stdout",
     "output_type": "stream",
     "text": [
      "Total number of generated modes is  22\n",
      "The number of high quality samples among 2500 samples is 206\n",
      "The mode dictionary is Counter({23: 22, 17: 17, 22: 16, 3: 15, 7: 13, 10: 13, 16: 12, 6: 12, 21: 11, 18: 9, 8: 9, 12: 9, 19: 8, 24: 7, 11: 6, 9: 5, 13: 5, 5: 5, 2: 4, 4: 3, 14: 3, 15: 2})\n"
     ]
    },
    {
     "name": "stderr",
     "output_type": "stream",
     "text": [
      "100%|██████████| 25/25 [00:00<00:00, 47.31it/s]\n"
     ]
    },
    {
     "name": "stdout",
     "output_type": "stream",
     "text": [
      "spent time for epoch 617 is 0.5342128276824951s\n",
      "epoch # : 617 gamma : 0.5 gen loss : 1.015038013458252\n"
     ]
    },
    {
     "name": "stderr",
     "output_type": "stream",
     "text": [
      " 20%|██        | 5/25 [00:00<00:00, 47.35it/s]"
     ]
    },
    {
     "name": "stdout",
     "output_type": "stream",
     "text": [
      "Total number of generated modes is  23\n",
      "The number of high quality samples among 2500 samples is 173\n",
      "The mode dictionary is Counter({16: 17, 23: 15, 0: 14, 21: 12, 1: 11, 9: 11, 15: 10, 11: 9, 20: 9, 2: 8, 18: 8, 19: 7, 10: 7, 7: 7, 14: 6, 8: 6, 4: 4, 3: 3, 6: 2, 24: 2, 13: 2, 12: 2, 22: 1})\n"
     ]
    },
    {
     "name": "stderr",
     "output_type": "stream",
     "text": [
      "100%|██████████| 25/25 [00:00<00:00, 47.86it/s]\n"
     ]
    },
    {
     "name": "stdout",
     "output_type": "stream",
     "text": [
      "spent time for epoch 618 is 0.5279824733734131s\n",
      "epoch # : 618 gamma : 0.5 gen loss : 0.9848214983940125\n"
     ]
    },
    {
     "name": "stderr",
     "output_type": "stream",
     "text": [
      " 20%|██        | 5/25 [00:00<00:00, 48.09it/s]"
     ]
    },
    {
     "name": "stdout",
     "output_type": "stream",
     "text": [
      "Total number of generated modes is  25\n",
      "The number of high quality samples among 2500 samples is 160\n",
      "The mode dictionary is Counter({5: 16, 16: 15, 21: 15, 1: 12, 8: 10, 20: 8, 6: 8, 18: 7, 13: 7, 15: 6, 9: 6, 3: 6, 22: 5, 19: 5, 17: 4, 2: 4, 14: 4, 23: 4, 0: 4, 7: 3, 11: 3, 12: 2, 24: 2, 10: 2, 4: 2})\n"
     ]
    },
    {
     "name": "stderr",
     "output_type": "stream",
     "text": [
      "100%|██████████| 25/25 [00:00<00:00, 48.21it/s]\n"
     ]
    },
    {
     "name": "stdout",
     "output_type": "stream",
     "text": [
      "spent time for epoch 619 is 0.524122953414917s\n",
      "epoch # : 619 gamma : 0.5 gen loss : 1.0177276134490967\n"
     ]
    },
    {
     "name": "stderr",
     "output_type": "stream",
     "text": [
      " 20%|██        | 5/25 [00:00<00:00, 48.05it/s]"
     ]
    },
    {
     "name": "stdout",
     "output_type": "stream",
     "text": [
      "Total number of generated modes is  25\n",
      "The number of high quality samples among 2500 samples is 188\n",
      "The mode dictionary is Counter({23: 25, 16: 19, 7: 15, 9: 15, 8: 12, 6: 12, 1: 10, 11: 9, 14: 8, 5: 8, 18: 7, 13: 6, 0: 6, 2: 6, 21: 5, 12: 5, 19: 4, 17: 3, 22: 3, 4: 2, 24: 2, 20: 2, 3: 2, 15: 1, 10: 1})\n"
     ]
    },
    {
     "name": "stderr",
     "output_type": "stream",
     "text": [
      "100%|██████████| 25/25 [00:00<00:00, 48.32it/s]\n"
     ]
    },
    {
     "name": "stdout",
     "output_type": "stream",
     "text": [
      "spent time for epoch 620 is 0.5232391357421875s\n",
      "epoch # : 620 gamma : 0.5 gen loss : 0.9947739839553833\n"
     ]
    },
    {
     "name": "stderr",
     "output_type": "stream",
     "text": [
      " 20%|██        | 5/25 [00:00<00:00, 49.53it/s]"
     ]
    },
    {
     "name": "stdout",
     "output_type": "stream",
     "text": [
      "Total number of generated modes is  24\n",
      "The number of high quality samples among 2500 samples is 223\n",
      "The mode dictionary is Counter({24: 18, 22: 18, 5: 17, 16: 17, 23: 16, 7: 15, 14: 14, 12: 14, 3: 13, 17: 12, 6: 10, 19: 9, 1: 8, 11: 8, 20: 7, 2: 6, 15: 4, 13: 4, 8: 4, 9: 2, 21: 2, 18: 2, 0: 2, 10: 1})\n"
     ]
    },
    {
     "name": "stderr",
     "output_type": "stream",
     "text": [
      "100%|██████████| 25/25 [00:00<00:00, 48.67it/s]\n"
     ]
    },
    {
     "name": "stdout",
     "output_type": "stream",
     "text": [
      "spent time for epoch 621 is 0.5191860198974609s\n",
      "epoch # : 621 gamma : 0.5 gen loss : 0.9862107038497925\n"
     ]
    },
    {
     "name": "stderr",
     "output_type": "stream",
     "text": [
      " 16%|█▌        | 4/25 [00:00<00:00, 38.15it/s]"
     ]
    },
    {
     "name": "stdout",
     "output_type": "stream",
     "text": [
      "Total number of generated modes is  25\n",
      "The number of high quality samples among 2500 samples is 261\n",
      "The mode dictionary is Counter({20: 39, 5: 33, 21: 24, 10: 16, 16: 16, 7: 14, 11: 14, 13: 13, 8: 13, 6: 13, 4: 12, 15: 10, 3: 10, 18: 5, 1: 5, 12: 4, 9: 4, 19: 4, 24: 3, 17: 3, 2: 2, 22: 1, 0: 1, 23: 1, 14: 1})\n"
     ]
    },
    {
     "name": "stderr",
     "output_type": "stream",
     "text": [
      "100%|██████████| 25/25 [00:00<00:00, 47.58it/s]\n"
     ]
    },
    {
     "name": "stdout",
     "output_type": "stream",
     "text": [
      "spent time for epoch 622 is 0.5312578678131104s\n",
      "epoch # : 622 gamma : 0.5 gen loss : 1.0323069095611572\n"
     ]
    },
    {
     "name": "stderr",
     "output_type": "stream",
     "text": [
      " 20%|██        | 5/25 [00:00<00:00, 49.50it/s]"
     ]
    },
    {
     "name": "stdout",
     "output_type": "stream",
     "text": [
      "Total number of generated modes is  24\n",
      "The number of high quality samples among 2500 samples is 214\n",
      "The mode dictionary is Counter({17: 19, 7: 16, 6: 13, 16: 13, 20: 12, 15: 12, 12: 12, 11: 12, 23: 11, 9: 11, 8: 11, 0: 11, 1: 8, 21: 8, 22: 7, 3: 6, 2: 6, 14: 6, 19: 5, 13: 4, 10: 3, 18: 3, 4: 3, 24: 2})\n"
     ]
    },
    {
     "name": "stderr",
     "output_type": "stream",
     "text": [
      "100%|██████████| 25/25 [00:00<00:00, 48.82it/s]\n"
     ]
    },
    {
     "name": "stdout",
     "output_type": "stream",
     "text": [
      "spent time for epoch 623 is 0.5177178382873535s\n",
      "epoch # : 623 gamma : 0.5 gen loss : 1.0992701053619385\n"
     ]
    },
    {
     "name": "stderr",
     "output_type": "stream",
     "text": [
      "  4%|▍         | 1/25 [00:00<00:03,  7.07it/s]"
     ]
    },
    {
     "name": "stdout",
     "output_type": "stream",
     "text": [
      "Total number of generated modes is  24\n",
      "The number of high quality samples among 2500 samples is 259\n",
      "The mode dictionary is Counter({0: 39, 10: 31, 16: 17, 7: 17, 20: 17, 23: 16, 3: 12, 17: 12, 15: 12, 8: 12, 1: 9, 2: 8, 18: 8, 11: 8, 21: 7, 22: 6, 12: 6, 5: 6, 13: 5, 6: 5, 9: 3, 19: 1, 24: 1, 4: 1})\n"
     ]
    },
    {
     "name": "stderr",
     "output_type": "stream",
     "text": [
      "100%|██████████| 25/25 [00:00<00:00, 43.17it/s]\n"
     ]
    },
    {
     "name": "stdout",
     "output_type": "stream",
     "text": [
      "spent time for epoch 624 is 0.5845553874969482s\n",
      "epoch # : 624 gamma : 0.5 gen loss : 1.0224310159683228\n"
     ]
    },
    {
     "name": "stderr",
     "output_type": "stream",
     "text": [
      " 20%|██        | 5/25 [00:00<00:00, 47.84it/s]"
     ]
    },
    {
     "name": "stdout",
     "output_type": "stream",
     "text": [
      "Total number of generated modes is  25\n",
      "The number of high quality samples among 2500 samples is 220\n",
      "The mode dictionary is Counter({7: 19, 20: 16, 15: 16, 6: 15, 9: 13, 3: 13, 8: 13, 17: 13, 24: 11, 14: 10, 19: 10, 2: 9, 1: 8, 13: 7, 11: 7, 21: 7, 0: 6, 5: 5, 22: 4, 4: 4, 23: 4, 10: 3, 18: 3, 16: 2, 12: 2})\n"
     ]
    },
    {
     "name": "stderr",
     "output_type": "stream",
     "text": [
      "100%|██████████| 25/25 [00:00<00:00, 47.84it/s]\n"
     ]
    },
    {
     "name": "stdout",
     "output_type": "stream",
     "text": [
      "spent time for epoch 625 is 0.52809739112854s\n",
      "epoch # : 625 gamma : 0.5 gen loss : 1.0693614482879639\n"
     ]
    },
    {
     "name": "stderr",
     "output_type": "stream",
     "text": [
      " 20%|██        | 5/25 [00:00<00:00, 48.62it/s]"
     ]
    },
    {
     "name": "stdout",
     "output_type": "stream",
     "text": [
      "Total number of generated modes is  25\n",
      "The number of high quality samples among 2500 samples is 233\n",
      "The mode dictionary is Counter({5: 23, 2: 23, 21: 18, 0: 16, 3: 16, 7: 13, 24: 13, 23: 11, 16: 10, 1: 10, 20: 9, 4: 8, 14: 8, 8: 7, 12: 7, 22: 7, 18: 5, 17: 5, 19: 5, 13: 4, 6: 4, 15: 4, 11: 3, 9: 3, 10: 1})\n"
     ]
    },
    {
     "name": "stderr",
     "output_type": "stream",
     "text": [
      "100%|██████████| 25/25 [00:00<00:00, 48.19it/s]\n"
     ]
    },
    {
     "name": "stdout",
     "output_type": "stream",
     "text": [
      "spent time for epoch 626 is 0.5244827270507812s\n",
      "epoch # : 626 gamma : 0.5 gen loss : 1.0315531492233276\n"
     ]
    },
    {
     "name": "stderr",
     "output_type": "stream",
     "text": [
      " 20%|██        | 5/25 [00:00<00:00, 48.39it/s]"
     ]
    },
    {
     "name": "stdout",
     "output_type": "stream",
     "text": [
      "Total number of generated modes is  25\n",
      "The number of high quality samples among 2500 samples is 219\n",
      "The mode dictionary is Counter({5: 30, 7: 22, 8: 16, 20: 15, 22: 12, 13: 11, 4: 10, 14: 10, 12: 10, 19: 10, 3: 9, 9: 9, 6: 8, 24: 7, 2: 6, 23: 6, 17: 6, 18: 5, 11: 4, 16: 4, 1: 3, 0: 2, 21: 2, 10: 1, 15: 1})\n"
     ]
    },
    {
     "name": "stderr",
     "output_type": "stream",
     "text": [
      "100%|██████████| 25/25 [00:00<00:00, 48.15it/s]\n"
     ]
    },
    {
     "name": "stdout",
     "output_type": "stream",
     "text": [
      "spent time for epoch 627 is 0.5251059532165527s\n",
      "epoch # : 627 gamma : 0.5 gen loss : 0.9769827127456665\n"
     ]
    },
    {
     "name": "stderr",
     "output_type": "stream",
     "text": [
      " 20%|██        | 5/25 [00:00<00:00, 48.74it/s]"
     ]
    },
    {
     "name": "stdout",
     "output_type": "stream",
     "text": [
      "Total number of generated modes is  24\n",
      "The number of high quality samples among 2500 samples is 185\n",
      "The mode dictionary is Counter({5: 34, 0: 25, 16: 16, 12: 11, 18: 10, 8: 10, 1: 9, 15: 9, 17: 7, 6: 7, 20: 7, 2: 7, 13: 5, 21: 5, 7: 5, 10: 5, 11: 3, 19: 2, 14: 2, 4: 2, 3: 1, 24: 1, 9: 1, 23: 1})\n"
     ]
    },
    {
     "name": "stderr",
     "output_type": "stream",
     "text": [
      "100%|██████████| 25/25 [00:00<00:00, 48.36it/s]\n"
     ]
    },
    {
     "name": "stdout",
     "output_type": "stream",
     "text": [
      "spent time for epoch 628 is 0.5228469371795654s\n",
      "epoch # : 628 gamma : 0.5 gen loss : 0.9771352410316467\n"
     ]
    },
    {
     "name": "stderr",
     "output_type": "stream",
     "text": [
      " 20%|██        | 5/25 [00:00<00:00, 49.01it/s]"
     ]
    },
    {
     "name": "stdout",
     "output_type": "stream",
     "text": [
      "Total number of generated modes is  24\n",
      "The number of high quality samples among 2500 samples is 171\n",
      "The mode dictionary is Counter({24: 24, 7: 22, 16: 16, 8: 12, 2: 11, 12: 10, 17: 9, 1: 8, 23: 8, 18: 8, 3: 6, 14: 5, 22: 5, 19: 4, 0: 4, 13: 3, 21: 3, 15: 3, 11: 3, 9: 2, 6: 2, 20: 1, 4: 1, 5: 1})\n"
     ]
    },
    {
     "name": "stderr",
     "output_type": "stream",
     "text": [
      "100%|██████████| 25/25 [00:00<00:00, 48.72it/s]\n"
     ]
    },
    {
     "name": "stdout",
     "output_type": "stream",
     "text": [
      "spent time for epoch 629 is 0.5192470550537109s\n",
      "epoch # : 629 gamma : 0.5 gen loss : 1.0538328886032104\n"
     ]
    },
    {
     "name": "stderr",
     "output_type": "stream",
     "text": [
      " 16%|█▌        | 4/25 [00:00<00:00, 39.61it/s]"
     ]
    },
    {
     "name": "stdout",
     "output_type": "stream",
     "text": [
      "Total number of generated modes is  22\n",
      "The number of high quality samples among 2500 samples is 138\n",
      "The mode dictionary is Counter({16: 17, 7: 15, 8: 13, 21: 11, 13: 11, 20: 11, 11: 9, 17: 7, 18: 6, 3: 5, 9: 5, 6: 5, 23: 5, 2: 3, 4: 3, 1: 3, 19: 2, 24: 2, 15: 2, 22: 1, 12: 1, 14: 1})\n"
     ]
    },
    {
     "name": "stderr",
     "output_type": "stream",
     "text": [
      "100%|██████████| 25/25 [00:00<00:00, 48.19it/s]\n"
     ]
    },
    {
     "name": "stdout",
     "output_type": "stream",
     "text": [
      "spent time for epoch 630 is 0.5248668193817139s\n",
      "epoch # : 630 gamma : 0.5 gen loss : 1.015160083770752\n"
     ]
    },
    {
     "name": "stderr",
     "output_type": "stream",
     "text": [
      " 20%|██        | 5/25 [00:00<00:00, 47.76it/s]"
     ]
    },
    {
     "name": "stdout",
     "output_type": "stream",
     "text": [
      "Total number of generated modes is  25\n",
      "The number of high quality samples among 2500 samples is 204\n",
      "The mode dictionary is Counter({17: 21, 16: 17, 23: 14, 0: 12, 20: 11, 5: 10, 15: 10, 21: 10, 6: 10, 18: 9, 9: 9, 12: 9, 1: 9, 3: 8, 2: 7, 22: 7, 13: 6, 14: 5, 11: 5, 4: 3, 7: 3, 19: 3, 8: 3, 24: 2, 10: 1})\n"
     ]
    },
    {
     "name": "stderr",
     "output_type": "stream",
     "text": [
      "100%|██████████| 25/25 [00:00<00:00, 47.68it/s]\n"
     ]
    },
    {
     "name": "stdout",
     "output_type": "stream",
     "text": [
      "spent time for epoch 631 is 0.5300331115722656s\n",
      "epoch # : 631 gamma : 0.5 gen loss : 1.0372612476348877\n"
     ]
    },
    {
     "name": "stderr",
     "output_type": "stream",
     "text": [
      " 20%|██        | 5/25 [00:00<00:00, 49.64it/s]"
     ]
    },
    {
     "name": "stdout",
     "output_type": "stream",
     "text": [
      "Total number of generated modes is  23\n",
      "The number of high quality samples among 2500 samples is 218\n",
      "The mode dictionary is Counter({23: 30, 5: 25, 7: 16, 4: 14, 22: 12, 8: 12, 17: 11, 13: 11, 16: 11, 3: 10, 2: 9, 11: 9, 1: 8, 6: 8, 21: 7, 18: 6, 20: 5, 24: 4, 0: 3, 9: 3, 12: 2, 15: 1, 14: 1})\n"
     ]
    },
    {
     "name": "stderr",
     "output_type": "stream",
     "text": [
      "100%|██████████| 25/25 [00:00<00:00, 48.95it/s]\n"
     ]
    },
    {
     "name": "stdout",
     "output_type": "stream",
     "text": [
      "spent time for epoch 632 is 0.5163953304290771s\n",
      "epoch # : 632 gamma : 0.5 gen loss : 1.0179680585861206\n"
     ]
    },
    {
     "name": "stderr",
     "output_type": "stream",
     "text": [
      " 20%|██        | 5/25 [00:00<00:00, 49.62it/s]"
     ]
    },
    {
     "name": "stdout",
     "output_type": "stream",
     "text": [
      "Total number of generated modes is  23\n",
      "The number of high quality samples among 2500 samples is 185\n",
      "The mode dictionary is Counter({7: 19, 17: 14, 16: 13, 1: 13, 0: 12, 12: 11, 5: 10, 8: 10, 11: 10, 9: 8, 13: 8, 18: 8, 2: 8, 21: 7, 6: 7, 22: 5, 19: 5, 14: 5, 3: 3, 10: 3, 24: 2, 15: 2, 23: 2})\n"
     ]
    },
    {
     "name": "stderr",
     "output_type": "stream",
     "text": [
      "100%|██████████| 25/25 [00:00<00:00, 48.68it/s]\n"
     ]
    },
    {
     "name": "stdout",
     "output_type": "stream",
     "text": [
      "spent time for epoch 633 is 0.5198054313659668s\n",
      "epoch # : 633 gamma : 0.5 gen loss : 1.043354868888855\n"
     ]
    },
    {
     "name": "stderr",
     "output_type": "stream",
     "text": [
      " 20%|██        | 5/25 [00:00<00:00, 49.05it/s]"
     ]
    },
    {
     "name": "stdout",
     "output_type": "stream",
     "text": [
      "Total number of generated modes is  25\n",
      "The number of high quality samples among 2500 samples is 197\n",
      "The mode dictionary is Counter({16: 17, 20: 16, 1: 15, 7: 13, 3: 13, 19: 13, 14: 12, 21: 12, 6: 9, 12: 9, 5: 8, 0: 7, 24: 7, 17: 6, 18: 5, 9: 5, 15: 5, 22: 4, 2: 4, 4: 3, 11: 3, 8: 3, 13: 3, 23: 3, 10: 2})\n"
     ]
    },
    {
     "name": "stderr",
     "output_type": "stream",
     "text": [
      "100%|██████████| 25/25 [00:00<00:00, 48.24it/s]\n"
     ]
    },
    {
     "name": "stdout",
     "output_type": "stream",
     "text": [
      "spent time for epoch 634 is 0.5239212512969971s\n",
      "epoch # : 634 gamma : 0.5 gen loss : 1.0109384059906006\n"
     ]
    },
    {
     "name": "stderr",
     "output_type": "stream",
     "text": [
      "  4%|▍         | 1/25 [00:00<00:03,  7.08it/s]"
     ]
    },
    {
     "name": "stdout",
     "output_type": "stream",
     "text": [
      "Total number of generated modes is  25\n",
      "The number of high quality samples among 2500 samples is 289\n",
      "The mode dictionary is Counter({22: 32, 23: 25, 17: 23, 21: 21, 5: 20, 24: 19, 16: 19, 13: 15, 18: 12, 19: 12, 0: 9, 10: 9, 6: 9, 7: 8, 14: 8, 8: 8, 12: 8, 11: 6, 1: 6, 2: 5, 15: 5, 9: 4, 3: 4, 4: 1, 20: 1})\n"
     ]
    },
    {
     "name": "stderr",
     "output_type": "stream",
     "text": [
      "100%|██████████| 25/25 [00:00<00:00, 42.80it/s]\n"
     ]
    },
    {
     "name": "stdout",
     "output_type": "stream",
     "text": [
      "spent time for epoch 635 is 0.5896084308624268s\n",
      "epoch # : 635 gamma : 0.5 gen loss : 1.020233154296875\n"
     ]
    },
    {
     "name": "stderr",
     "output_type": "stream",
     "text": [
      "  8%|▊         | 2/25 [00:00<00:01, 19.53it/s]"
     ]
    },
    {
     "name": "stdout",
     "output_type": "stream",
     "text": [
      "Total number of generated modes is  24\n",
      "The number of high quality samples among 2500 samples is 156\n",
      "The mode dictionary is Counter({5: 32, 16: 16, 7: 15, 6: 10, 8: 9, 21: 8, 18: 7, 17: 7, 12: 6, 0: 6, 22: 5, 11: 5, 9: 4, 15: 4, 13: 3, 1: 3, 14: 3, 19: 3, 2: 2, 20: 2, 4: 2, 24: 2, 3: 1, 23: 1})\n"
     ]
    },
    {
     "name": "stderr",
     "output_type": "stream",
     "text": [
      "100%|██████████| 25/25 [00:00<00:00, 46.80it/s]\n"
     ]
    },
    {
     "name": "stdout",
     "output_type": "stream",
     "text": [
      "spent time for epoch 636 is 0.539970874786377s\n",
      "epoch # : 636 gamma : 0.5 gen loss : 1.0162609815597534\n"
     ]
    },
    {
     "name": "stderr",
     "output_type": "stream",
     "text": [
      " 16%|█▌        | 4/25 [00:00<00:00, 39.49it/s]"
     ]
    },
    {
     "name": "stdout",
     "output_type": "stream",
     "text": [
      "Total number of generated modes is  25\n",
      "The number of high quality samples among 2500 samples is 231\n",
      "The mode dictionary is Counter({5: 35, 24: 19, 21: 17, 22: 14, 16: 13, 1: 13, 6: 13, 12: 11, 0: 11, 14: 10, 11: 9, 8: 8, 13: 8, 17: 7, 7: 6, 19: 6, 20: 6, 18: 5, 3: 4, 2: 4, 23: 3, 15: 3, 9: 3, 10: 2, 4: 1})\n"
     ]
    },
    {
     "name": "stderr",
     "output_type": "stream",
     "text": [
      "100%|██████████| 25/25 [00:00<00:00, 48.26it/s]\n"
     ]
    },
    {
     "name": "stdout",
     "output_type": "stream",
     "text": [
      "spent time for epoch 637 is 0.5238981246948242s\n",
      "epoch # : 637 gamma : 0.5 gen loss : 0.9999833703041077\n"
     ]
    },
    {
     "name": "stderr",
     "output_type": "stream",
     "text": [
      " 20%|██        | 5/25 [00:00<00:00, 49.11it/s]"
     ]
    },
    {
     "name": "stdout",
     "output_type": "stream",
     "text": [
      "Total number of generated modes is  24\n",
      "The number of high quality samples among 2500 samples is 191\n",
      "The mode dictionary is Counter({4: 20, 7: 18, 2: 16, 17: 16, 8: 14, 3: 14, 9: 10, 16: 9, 21: 9, 22: 9, 1: 8, 14: 7, 23: 5, 18: 5, 19: 5, 12: 5, 13: 5, 6: 4, 10: 3, 11: 2, 24: 2, 20: 2, 0: 2, 15: 1})\n"
     ]
    },
    {
     "name": "stderr",
     "output_type": "stream",
     "text": [
      "100%|██████████| 25/25 [00:00<00:00, 49.08it/s]\n"
     ]
    },
    {
     "name": "stdout",
     "output_type": "stream",
     "text": [
      "spent time for epoch 638 is 0.5153088569641113s\n",
      "epoch # : 638 gamma : 0.5 gen loss : 1.0292612314224243\n"
     ]
    },
    {
     "name": "stderr",
     "output_type": "stream",
     "text": [
      " 20%|██        | 5/25 [00:00<00:00, 48.91it/s]"
     ]
    },
    {
     "name": "stdout",
     "output_type": "stream",
     "text": [
      "Total number of generated modes is  24\n",
      "The number of high quality samples among 2500 samples is 200\n",
      "The mode dictionary is Counter({7: 23, 10: 18, 22: 17, 8: 14, 19: 14, 15: 12, 14: 11, 6: 10, 9: 9, 23: 9, 24: 8, 16: 8, 13: 8, 11: 7, 17: 6, 12: 5, 21: 4, 1: 4, 0: 4, 18: 3, 3: 2, 20: 2, 5: 1, 4: 1})\n"
     ]
    },
    {
     "name": "stderr",
     "output_type": "stream",
     "text": [
      "100%|██████████| 25/25 [00:00<00:00, 48.65it/s]\n"
     ]
    },
    {
     "name": "stdout",
     "output_type": "stream",
     "text": [
      "spent time for epoch 639 is 0.5194923877716064s\n",
      "epoch # : 639 gamma : 0.5 gen loss : 1.0174435377120972\n"
     ]
    },
    {
     "name": "stderr",
     "output_type": "stream",
     "text": [
      " 20%|██        | 5/25 [00:00<00:00, 49.07it/s]"
     ]
    },
    {
     "name": "stdout",
     "output_type": "stream",
     "text": [
      "Total number of generated modes is  25\n",
      "The number of high quality samples among 2500 samples is 271\n",
      "The mode dictionary is Counter({20: 34, 23: 32, 21: 25, 5: 24, 15: 18, 7: 14, 22: 13, 6: 12, 16: 11, 8: 10, 12: 10, 13: 8, 1: 8, 9: 8, 11: 7, 18: 7, 10: 7, 3: 6, 17: 6, 14: 3, 0: 2, 24: 2, 2: 2, 19: 1, 4: 1})\n"
     ]
    },
    {
     "name": "stderr",
     "output_type": "stream",
     "text": [
      "100%|██████████| 25/25 [00:00<00:00, 48.45it/s]\n"
     ]
    },
    {
     "name": "stdout",
     "output_type": "stream",
     "text": [
      "spent time for epoch 640 is 0.5218522548675537s\n",
      "epoch # : 640 gamma : 0.5 gen loss : 1.0231786966323853\n"
     ]
    },
    {
     "name": "stderr",
     "output_type": "stream",
     "text": [
      " 20%|██        | 5/25 [00:00<00:00, 49.19it/s]"
     ]
    },
    {
     "name": "stdout",
     "output_type": "stream",
     "text": [
      "Total number of generated modes is  23\n",
      "The number of high quality samples among 2500 samples is 193\n",
      "The mode dictionary is Counter({5: 31, 24: 16, 16: 13, 15: 12, 0: 12, 19: 10, 13: 9, 22: 9, 14: 8, 11: 7, 21: 7, 9: 7, 7: 6, 17: 6, 3: 6, 2: 6, 6: 5, 10: 5, 1: 5, 20: 4, 23: 4, 8: 3, 4: 2})\n"
     ]
    },
    {
     "name": "stderr",
     "output_type": "stream",
     "text": [
      "100%|██████████| 25/25 [00:00<00:00, 49.01it/s]\n"
     ]
    },
    {
     "name": "stdout",
     "output_type": "stream",
     "text": [
      "spent time for epoch 641 is 0.5157060623168945s\n",
      "epoch # : 641 gamma : 0.5 gen loss : 1.0266940593719482\n"
     ]
    },
    {
     "name": "stderr",
     "output_type": "stream",
     "text": [
      " 20%|██        | 5/25 [00:00<00:00, 47.99it/s]"
     ]
    },
    {
     "name": "stdout",
     "output_type": "stream",
     "text": [
      "Total number of generated modes is  22\n",
      "The number of high quality samples among 2500 samples is 158\n",
      "The mode dictionary is Counter({7: 18, 16: 17, 10: 16, 3: 15, 13: 10, 18: 10, 12: 9, 21: 8, 15: 8, 11: 7, 17: 7, 20: 6, 1: 5, 8: 4, 19: 3, 6: 3, 0: 3, 23: 3, 4: 2, 14: 2, 5: 1, 2: 1})\n"
     ]
    },
    {
     "name": "stderr",
     "output_type": "stream",
     "text": [
      "100%|██████████| 25/25 [00:00<00:00, 48.79it/s]\n"
     ]
    },
    {
     "name": "stdout",
     "output_type": "stream",
     "text": [
      "spent time for epoch 642 is 0.5182499885559082s\n",
      "epoch # : 642 gamma : 0.5 gen loss : 1.015830397605896\n"
     ]
    },
    {
     "name": "stderr",
     "output_type": "stream",
     "text": [
      " 20%|██        | 5/25 [00:00<00:00, 48.40it/s]"
     ]
    },
    {
     "name": "stdout",
     "output_type": "stream",
     "text": [
      "Total number of generated modes is  23\n",
      "The number of high quality samples among 2500 samples is 198\n",
      "The mode dictionary is Counter({20: 35, 10: 19, 16: 17, 4: 17, 15: 14, 21: 13, 0: 12, 13: 10, 6: 9, 1: 8, 3: 8, 2: 6, 22: 6, 18: 4, 12: 4, 11: 4, 17: 3, 24: 2, 9: 2, 8: 2, 7: 1, 5: 1, 23: 1})\n"
     ]
    },
    {
     "name": "stderr",
     "output_type": "stream",
     "text": [
      "100%|██████████| 25/25 [00:00<00:00, 48.50it/s]\n"
     ]
    },
    {
     "name": "stdout",
     "output_type": "stream",
     "text": [
      "spent time for epoch 643 is 0.5213606357574463s\n",
      "epoch # : 643 gamma : 0.5 gen loss : 1.0284146070480347\n"
     ]
    },
    {
     "name": "stderr",
     "output_type": "stream",
     "text": [
      " 20%|██        | 5/25 [00:00<00:00, 49.13it/s]"
     ]
    },
    {
     "name": "stdout",
     "output_type": "stream",
     "text": [
      "Total number of generated modes is  25\n",
      "The number of high quality samples among 2500 samples is 182\n",
      "The mode dictionary is Counter({22: 32, 23: 22, 17: 15, 7: 11, 12: 11, 16: 10, 6: 9, 10: 8, 21: 8, 8: 8, 13: 6, 18: 6, 11: 6, 19: 5, 0: 4, 1: 4, 20: 3, 5: 3, 15: 3, 3: 2, 24: 2, 4: 1, 9: 1, 14: 1, 2: 1})\n"
     ]
    },
    {
     "name": "stderr",
     "output_type": "stream",
     "text": [
      "100%|██████████| 25/25 [00:00<00:00, 49.11it/s]\n"
     ]
    },
    {
     "name": "stdout",
     "output_type": "stream",
     "text": [
      "spent time for epoch 644 is 0.5148353576660156s\n",
      "epoch # : 644 gamma : 0.5 gen loss : 0.9903547167778015\n"
     ]
    },
    {
     "name": "stderr",
     "output_type": "stream",
     "text": [
      " 20%|██        | 5/25 [00:00<00:00, 49.25it/s]"
     ]
    },
    {
     "name": "stdout",
     "output_type": "stream",
     "text": [
      "Total number of generated modes is  23\n",
      "The number of high quality samples among 2500 samples is 191\n",
      "The mode dictionary is Counter({20: 20, 21: 19, 16: 16, 1: 15, 5: 14, 6: 13, 13: 12, 7: 10, 8: 10, 11: 9, 18: 8, 0: 8, 12: 6, 3: 6, 15: 5, 19: 4, 2: 4, 23: 3, 14: 2, 17: 2, 10: 2, 24: 2, 9: 1})\n"
     ]
    },
    {
     "name": "stderr",
     "output_type": "stream",
     "text": [
      "100%|██████████| 25/25 [00:00<00:00, 48.93it/s]\n"
     ]
    },
    {
     "name": "stdout",
     "output_type": "stream",
     "text": [
      "spent time for epoch 645 is 0.5166161060333252s\n",
      "epoch # : 645 gamma : 0.5 gen loss : 0.9911679625511169\n"
     ]
    },
    {
     "name": "stderr",
     "output_type": "stream",
     "text": [
      "  4%|▍         | 1/25 [00:00<00:03,  7.23it/s]"
     ]
    },
    {
     "name": "stdout",
     "output_type": "stream",
     "text": [
      "Total number of generated modes is  25\n",
      "The number of high quality samples among 2500 samples is 224\n",
      "The mode dictionary is Counter({10: 24, 0: 23, 9: 18, 7: 17, 16: 16, 4: 14, 2: 11, 15: 11, 3: 10, 12: 8, 11: 8, 14: 8, 6: 8, 17: 7, 19: 6, 20: 6, 1: 5, 22: 5, 8: 5, 21: 4, 13: 3, 18: 3, 23: 2, 5: 1, 24: 1})\n"
     ]
    },
    {
     "name": "stderr",
     "output_type": "stream",
     "text": [
      "100%|██████████| 25/25 [00:00<00:00, 43.42it/s]\n"
     ]
    },
    {
     "name": "stdout",
     "output_type": "stream",
     "text": [
      "spent time for epoch 646 is 0.5814745426177979s\n",
      "epoch # : 646 gamma : 0.5 gen loss : 1.0213764905929565\n"
     ]
    },
    {
     "name": "stderr",
     "output_type": "stream",
     "text": [
      " 20%|██        | 5/25 [00:00<00:00, 48.43it/s]"
     ]
    },
    {
     "name": "stdout",
     "output_type": "stream",
     "text": [
      "Total number of generated modes is  24\n",
      "The number of high quality samples among 2500 samples is 219\n",
      "The mode dictionary is Counter({22: 26, 23: 24, 5: 22, 16: 17, 13: 16, 24: 13, 6: 11, 14: 9, 21: 8, 11: 8, 17: 7, 19: 7, 8: 6, 9: 6, 12: 6, 7: 6, 0: 5, 3: 5, 18: 4, 15: 3, 1: 3, 2: 3, 10: 2, 20: 2})\n"
     ]
    },
    {
     "name": "stderr",
     "output_type": "stream",
     "text": [
      "100%|██████████| 25/25 [00:00<00:00, 48.25it/s]\n"
     ]
    },
    {
     "name": "stdout",
     "output_type": "stream",
     "text": [
      "spent time for epoch 647 is 0.5239713191986084s\n",
      "epoch # : 647 gamma : 0.5 gen loss : 1.013176441192627\n"
     ]
    },
    {
     "name": "stderr",
     "output_type": "stream",
     "text": [
      " 20%|██        | 5/25 [00:00<00:00, 47.77it/s]"
     ]
    },
    {
     "name": "stdout",
     "output_type": "stream",
     "text": [
      "Total number of generated modes is  25\n",
      "The number of high quality samples among 2500 samples is 210\n",
      "The mode dictionary is Counter({5: 17, 15: 17, 0: 16, 16: 15, 9: 14, 24: 11, 6: 10, 10: 10, 8: 9, 14: 9, 11: 9, 4: 9, 20: 8, 13: 8, 3: 7, 1: 6, 12: 5, 18: 5, 23: 5, 7: 5, 17: 5, 19: 4, 22: 3, 2: 2, 21: 1})\n"
     ]
    },
    {
     "name": "stderr",
     "output_type": "stream",
     "text": [
      "100%|██████████| 25/25 [00:00<00:00, 47.81it/s]\n"
     ]
    },
    {
     "name": "stdout",
     "output_type": "stream",
     "text": [
      "spent time for epoch 648 is 0.5291702747344971s\n",
      "epoch # : 648 gamma : 0.5 gen loss : 1.0034432411193848\n"
     ]
    },
    {
     "name": "stderr",
     "output_type": "stream",
     "text": [
      " 20%|██        | 5/25 [00:00<00:00, 48.58it/s]"
     ]
    },
    {
     "name": "stdout",
     "output_type": "stream",
     "text": [
      "Total number of generated modes is  23\n",
      "The number of high quality samples among 2500 samples is 140\n",
      "The mode dictionary is Counter({7: 20, 8: 15, 22: 12, 6: 11, 16: 11, 18: 10, 11: 9, 12: 9, 20: 8, 3: 5, 4: 5, 13: 5, 9: 4, 17: 3, 15: 3, 1: 2, 24: 2, 0: 1, 14: 1, 5: 1, 10: 1, 21: 1, 23: 1})\n"
     ]
    },
    {
     "name": "stderr",
     "output_type": "stream",
     "text": [
      "100%|██████████| 25/25 [00:00<00:00, 48.32it/s]\n"
     ]
    },
    {
     "name": "stdout",
     "output_type": "stream",
     "text": [
      "spent time for epoch 649 is 0.5229439735412598s\n",
      "epoch # : 649 gamma : 0.5 gen loss : 1.0304572582244873\n"
     ]
    },
    {
     "name": "stderr",
     "output_type": "stream",
     "text": [
      " 20%|██        | 5/25 [00:00<00:00, 49.11it/s]"
     ]
    },
    {
     "name": "stdout",
     "output_type": "stream",
     "text": [
      "Total number of generated modes is  25\n",
      "The number of high quality samples among 2500 samples is 243\n",
      "The mode dictionary is Counter({20: 47, 17: 19, 1: 15, 5: 14, 7: 13, 16: 13, 8: 11, 11: 9, 12: 9, 22: 8, 21: 8, 6: 8, 15: 7, 9: 7, 2: 7, 3: 7, 14: 6, 4: 6, 0: 6, 19: 6, 10: 5, 13: 4, 18: 4, 24: 2, 23: 2})\n"
     ]
    },
    {
     "name": "stderr",
     "output_type": "stream",
     "text": [
      "100%|██████████| 25/25 [00:00<00:00, 47.44it/s]\n"
     ]
    },
    {
     "name": "stdout",
     "output_type": "stream",
     "text": [
      "spent time for epoch 650 is 0.5328178405761719s\n",
      "epoch # : 650 gamma : 0.5 gen loss : 1.006414771080017\n"
     ]
    },
    {
     "name": "stderr",
     "output_type": "stream",
     "text": [
      " 20%|██        | 5/25 [00:00<00:00, 49.02it/s]"
     ]
    },
    {
     "name": "stdout",
     "output_type": "stream",
     "text": [
      "Total number of generated modes is  24\n",
      "The number of high quality samples among 2500 samples is 229\n",
      "The mode dictionary is Counter({23: 34, 22: 30, 7: 25, 12: 17, 16: 15, 6: 14, 18: 10, 8: 10, 17: 9, 11: 9, 21: 7, 1: 7, 13: 7, 24: 5, 3: 5, 9: 5, 5: 4, 20: 3, 10: 3, 15: 3, 14: 3, 0: 2, 19: 1, 4: 1})\n"
     ]
    },
    {
     "name": "stderr",
     "output_type": "stream",
     "text": [
      "100%|██████████| 25/25 [00:00<00:00, 47.97it/s]\n"
     ]
    },
    {
     "name": "stdout",
     "output_type": "stream",
     "text": [
      "spent time for epoch 651 is 0.5269660949707031s\n",
      "epoch # : 651 gamma : 0.5 gen loss : 1.0105983018875122\n"
     ]
    },
    {
     "name": "stderr",
     "output_type": "stream",
     "text": [
      " 20%|██        | 5/25 [00:00<00:00, 48.86it/s]"
     ]
    },
    {
     "name": "stdout",
     "output_type": "stream",
     "text": [
      "Total number of generated modes is  23\n",
      "The number of high quality samples among 2500 samples is 196\n",
      "The mode dictionary is Counter({20: 22, 6: 17, 0: 15, 12: 14, 16: 13, 5: 13, 15: 12, 17: 11, 19: 10, 8: 9, 10: 8, 1: 8, 11: 7, 7: 6, 18: 5, 21: 5, 13: 5, 3: 4, 14: 4, 24: 3, 22: 2, 9: 2, 2: 1})\n"
     ]
    },
    {
     "name": "stderr",
     "output_type": "stream",
     "text": [
      "100%|██████████| 25/25 [00:00<00:00, 48.53it/s]\n"
     ]
    },
    {
     "name": "stdout",
     "output_type": "stream",
     "text": [
      "spent time for epoch 652 is 0.5208168029785156s\n",
      "epoch # : 652 gamma : 0.5 gen loss : 0.9969097971916199\n"
     ]
    },
    {
     "name": "stderr",
     "output_type": "stream",
     "text": [
      " 20%|██        | 5/25 [00:00<00:00, 48.32it/s]"
     ]
    },
    {
     "name": "stdout",
     "output_type": "stream",
     "text": [
      "Total number of generated modes is  25\n",
      "The number of high quality samples among 2500 samples is 235\n",
      "The mode dictionary is Counter({10: 41, 24: 33, 11: 15, 12: 14, 7: 13, 23: 13, 8: 13, 15: 12, 6: 12, 16: 11, 17: 7, 22: 7, 14: 6, 0: 6, 9: 5, 13: 5, 19: 4, 5: 4, 18: 4, 21: 3, 1: 3, 4: 1, 20: 1, 3: 1, 2: 1})\n"
     ]
    },
    {
     "name": "stderr",
     "output_type": "stream",
     "text": [
      "100%|██████████| 25/25 [00:00<00:00, 48.99it/s]\n"
     ]
    },
    {
     "name": "stdout",
     "output_type": "stream",
     "text": [
      "spent time for epoch 653 is 0.5157604217529297s\n",
      "epoch # : 653 gamma : 0.5 gen loss : 0.9828301668167114\n"
     ]
    },
    {
     "name": "stderr",
     "output_type": "stream",
     "text": [
      " 16%|█▌        | 4/25 [00:00<00:00, 39.03it/s]"
     ]
    },
    {
     "name": "stdout",
     "output_type": "stream",
     "text": [
      "Total number of generated modes is  25\n",
      "The number of high quality samples among 2500 samples is 285\n",
      "The mode dictionary is Counter({20: 33, 21: 31, 7: 21, 9: 19, 3: 16, 4: 14, 18: 11, 22: 11, 16: 11, 15: 11, 17: 10, 6: 10, 8: 10, 2: 9, 12: 8, 24: 8, 5: 8, 0: 8, 11: 6, 23: 6, 13: 6, 19: 5, 14: 5, 1: 5, 10: 3})\n"
     ]
    },
    {
     "name": "stderr",
     "output_type": "stream",
     "text": [
      "100%|██████████| 25/25 [00:00<00:00, 48.38it/s]\n"
     ]
    },
    {
     "name": "stdout",
     "output_type": "stream",
     "text": [
      "spent time for epoch 654 is 0.5225329399108887s\n",
      "epoch # : 654 gamma : 0.5 gen loss : 0.9803847074508667\n"
     ]
    },
    {
     "name": "stderr",
     "output_type": "stream",
     "text": [
      " 20%|██        | 5/25 [00:00<00:00, 49.07it/s]"
     ]
    },
    {
     "name": "stdout",
     "output_type": "stream",
     "text": [
      "Total number of generated modes is  23\n",
      "The number of high quality samples among 2500 samples is 189\n",
      "The mode dictionary is Counter({6: 19, 13: 19, 17: 16, 16: 14, 10: 14, 7: 14, 15: 13, 8: 11, 22: 10, 12: 10, 20: 7, 18: 7, 5: 7, 23: 6, 11: 4, 9: 4, 1: 4, 0: 3, 2: 2, 3: 2, 4: 1, 14: 1, 19: 1})\n"
     ]
    },
    {
     "name": "stderr",
     "output_type": "stream",
     "text": [
      "100%|██████████| 25/25 [00:00<00:00, 48.81it/s]\n"
     ]
    },
    {
     "name": "stdout",
     "output_type": "stream",
     "text": [
      "spent time for epoch 655 is 0.5178139209747314s\n",
      "epoch # : 655 gamma : 0.5 gen loss : 1.0355852842330933\n"
     ]
    },
    {
     "name": "stderr",
     "output_type": "stream",
     "text": [
      " 20%|██        | 5/25 [00:00<00:00, 49.75it/s]"
     ]
    },
    {
     "name": "stdout",
     "output_type": "stream",
     "text": [
      "Total number of generated modes is  23\n",
      "The number of high quality samples among 2500 samples is 192\n",
      "The mode dictionary is Counter({16: 19, 6: 18, 7: 17, 13: 13, 12: 12, 9: 11, 8: 10, 0: 10, 11: 9, 18: 9, 24: 8, 1: 7, 3: 7, 23: 6, 14: 6, 21: 6, 19: 5, 22: 4, 2: 4, 5: 4, 15: 3, 17: 3, 4: 1})\n"
     ]
    },
    {
     "name": "stderr",
     "output_type": "stream",
     "text": [
      "100%|██████████| 25/25 [00:00<00:00, 49.69it/s]\n"
     ]
    },
    {
     "name": "stdout",
     "output_type": "stream",
     "text": [
      "spent time for epoch 656 is 0.5089583396911621s\n",
      "epoch # : 656 gamma : 0.5 gen loss : 0.9723941087722778\n"
     ]
    },
    {
     "name": "stderr",
     "output_type": "stream",
     "text": [
      "  4%|▍         | 1/25 [00:00<00:03,  7.40it/s]"
     ]
    },
    {
     "name": "stdout",
     "output_type": "stream",
     "text": [
      "Total number of generated modes is  25\n",
      "The number of high quality samples among 2500 samples is 171\n",
      "The mode dictionary is Counter({16: 16, 6: 16, 13: 11, 2: 11, 5: 10, 24: 9, 12: 8, 18: 8, 11: 8, 19: 8, 3: 7, 4: 7, 17: 6, 14: 6, 22: 6, 7: 6, 20: 5, 10: 5, 8: 4, 1: 3, 23: 3, 15: 3, 21: 3, 9: 1, 0: 1})\n"
     ]
    },
    {
     "name": "stderr",
     "output_type": "stream",
     "text": [
      "100%|██████████| 25/25 [00:00<00:00, 44.29it/s]\n"
     ]
    },
    {
     "name": "stdout",
     "output_type": "stream",
     "text": [
      "spent time for epoch 657 is 0.5700051784515381s\n",
      "epoch # : 657 gamma : 0.5 gen loss : 1.0095854997634888\n"
     ]
    },
    {
     "name": "stderr",
     "output_type": "stream",
     "text": [
      " 16%|█▌        | 4/25 [00:00<00:00, 39.69it/s]"
     ]
    },
    {
     "name": "stdout",
     "output_type": "stream",
     "text": [
      "Total number of generated modes is  24\n",
      "The number of high quality samples among 2500 samples is 197\n",
      "The mode dictionary is Counter({17: 22, 7: 17, 6: 15, 12: 15, 13: 13, 16: 11, 3: 11, 11: 11, 18: 10, 8: 9, 22: 9, 0: 8, 1: 7, 2: 7, 23: 7, 9: 6, 19: 4, 21: 4, 4: 3, 10: 3, 14: 2, 5: 1, 24: 1, 20: 1})\n"
     ]
    },
    {
     "name": "stderr",
     "output_type": "stream",
     "text": [
      "100%|██████████| 25/25 [00:00<00:00, 48.58it/s]\n"
     ]
    },
    {
     "name": "stdout",
     "output_type": "stream",
     "text": [
      "spent time for epoch 658 is 0.5202949047088623s\n",
      "epoch # : 658 gamma : 0.5 gen loss : 1.0138415098190308\n"
     ]
    },
    {
     "name": "stderr",
     "output_type": "stream",
     "text": [
      " 20%|██        | 5/25 [00:00<00:00, 49.06it/s]"
     ]
    },
    {
     "name": "stdout",
     "output_type": "stream",
     "text": [
      "Total number of generated modes is  25\n",
      "The number of high quality samples among 2500 samples is 185\n",
      "The mode dictionary is Counter({7: 19, 12: 14, 6: 12, 8: 12, 21: 11, 11: 11, 19: 11, 13: 10, 5: 10, 16: 10, 9: 9, 3: 7, 4: 7, 17: 7, 22: 6, 20: 5, 18: 5, 23: 4, 14: 4, 15: 3, 24: 3, 1: 2, 2: 1, 0: 1, 10: 1})\n"
     ]
    },
    {
     "name": "stderr",
     "output_type": "stream",
     "text": [
      "100%|██████████| 25/25 [00:00<00:00, 48.74it/s]\n"
     ]
    },
    {
     "name": "stdout",
     "output_type": "stream",
     "text": [
      "spent time for epoch 659 is 0.5187180042266846s\n",
      "epoch # : 659 gamma : 0.5 gen loss : 0.9882603883743286\n"
     ]
    },
    {
     "name": "stderr",
     "output_type": "stream",
     "text": [
      " 20%|██        | 5/25 [00:00<00:00, 47.61it/s]"
     ]
    },
    {
     "name": "stdout",
     "output_type": "stream",
     "text": [
      "Total number of generated modes is  25\n",
      "The number of high quality samples among 2500 samples is 239\n",
      "The mode dictionary is Counter({20: 36, 21: 30, 16: 16, 7: 16, 5: 14, 13: 14, 10: 13, 8: 10, 6: 10, 11: 9, 18: 9, 4: 8, 22: 7, 9: 6, 3: 6, 23: 6, 14: 6, 1: 5, 15: 5, 2: 4, 17: 3, 0: 3, 19: 1, 12: 1, 24: 1})\n"
     ]
    },
    {
     "name": "stderr",
     "output_type": "stream",
     "text": [
      "100%|██████████| 25/25 [00:00<00:00, 47.86it/s]\n"
     ]
    },
    {
     "name": "stdout",
     "output_type": "stream",
     "text": [
      "spent time for epoch 660 is 0.5282478332519531s\n",
      "epoch # : 660 gamma : 0.5 gen loss : 1.020127534866333\n"
     ]
    },
    {
     "name": "stderr",
     "output_type": "stream",
     "text": [
      " 20%|██        | 5/25 [00:00<00:00, 48.80it/s]"
     ]
    },
    {
     "name": "stdout",
     "output_type": "stream",
     "text": [
      "Total number of generated modes is  24\n",
      "The number of high quality samples among 2500 samples is 279\n",
      "The mode dictionary is Counter({0: 39, 21: 29, 5: 29, 7: 20, 6: 20, 13: 16, 16: 15, 3: 15, 4: 14, 9: 10, 8: 10, 11: 9, 1: 8, 18: 7, 17: 6, 2: 6, 10: 6, 14: 5, 15: 4, 19: 3, 20: 3, 12: 2, 24: 2, 23: 1})\n"
     ]
    },
    {
     "name": "stderr",
     "output_type": "stream",
     "text": [
      "100%|██████████| 25/25 [00:00<00:00, 48.70it/s]\n"
     ]
    },
    {
     "name": "stdout",
     "output_type": "stream",
     "text": [
      "spent time for epoch 661 is 0.5191214084625244s\n",
      "epoch # : 661 gamma : 0.5 gen loss : 0.9683152437210083\n"
     ]
    },
    {
     "name": "stderr",
     "output_type": "stream",
     "text": [
      " 20%|██        | 5/25 [00:00<00:00, 48.72it/s]"
     ]
    },
    {
     "name": "stdout",
     "output_type": "stream",
     "text": [
      "Total number of generated modes is  25\n",
      "The number of high quality samples among 2500 samples is 204\n",
      "The mode dictionary is Counter({23: 29, 7: 21, 17: 14, 8: 13, 13: 13, 15: 12, 12: 12, 22: 9, 10: 9, 16: 8, 11: 8, 5: 7, 6: 7, 9: 6, 18: 6, 3: 5, 20: 5, 1: 4, 0: 4, 21: 3, 24: 2, 19: 2, 2: 2, 14: 2, 4: 1})\n"
     ]
    },
    {
     "name": "stderr",
     "output_type": "stream",
     "text": [
      "100%|██████████| 25/25 [00:00<00:00, 48.70it/s]\n"
     ]
    },
    {
     "name": "stdout",
     "output_type": "stream",
     "text": [
      "spent time for epoch 662 is 0.5197076797485352s\n",
      "epoch # : 662 gamma : 0.5 gen loss : 1.0308393239974976\n"
     ]
    },
    {
     "name": "stderr",
     "output_type": "stream",
     "text": [
      " 20%|██        | 5/25 [00:00<00:00, 48.69it/s]"
     ]
    },
    {
     "name": "stdout",
     "output_type": "stream",
     "text": [
      "Total number of generated modes is  23\n",
      "The number of high quality samples among 2500 samples is 196\n",
      "The mode dictionary is Counter({20: 40, 10: 17, 6: 14, 5: 14, 7: 11, 13: 10, 17: 10, 11: 10, 18: 9, 12: 8, 22: 8, 15: 8, 8: 8, 1: 7, 21: 5, 16: 5, 0: 4, 23: 3, 2: 1, 14: 1, 3: 1, 9: 1, 4: 1})\n"
     ]
    },
    {
     "name": "stderr",
     "output_type": "stream",
     "text": [
      "100%|██████████| 25/25 [00:00<00:00, 48.79it/s]\n"
     ]
    },
    {
     "name": "stdout",
     "output_type": "stream",
     "text": [
      "spent time for epoch 663 is 0.5192630290985107s\n",
      "epoch # : 663 gamma : 0.5 gen loss : 1.026767373085022\n"
     ]
    },
    {
     "name": "stderr",
     "output_type": "stream",
     "text": [
      " 20%|██        | 5/25 [00:00<00:00, 48.29it/s]"
     ]
    },
    {
     "name": "stdout",
     "output_type": "stream",
     "text": [
      "Total number of generated modes is  24\n",
      "The number of high quality samples among 2500 samples is 201\n",
      "The mode dictionary is Counter({23: 22, 7: 17, 3: 12, 19: 12, 20: 11, 2: 9, 24: 9, 5: 9, 0: 8, 4: 8, 12: 8, 22: 8, 1: 7, 17: 7, 6: 7, 8: 7, 13: 6, 18: 6, 11: 6, 21: 6, 16: 6, 9: 5, 14: 4, 10: 1})\n"
     ]
    },
    {
     "name": "stderr",
     "output_type": "stream",
     "text": [
      "100%|██████████| 25/25 [00:00<00:00, 47.70it/s]\n"
     ]
    },
    {
     "name": "stdout",
     "output_type": "stream",
     "text": [
      "spent time for epoch 664 is 0.5297322273254395s\n",
      "epoch # : 664 gamma : 0.5 gen loss : 0.9984051585197449\n"
     ]
    },
    {
     "name": "stderr",
     "output_type": "stream",
     "text": [
      " 20%|██        | 5/25 [00:00<00:00, 49.24it/s]"
     ]
    },
    {
     "name": "stdout",
     "output_type": "stream",
     "text": [
      "Total number of generated modes is  25\n",
      "The number of high quality samples among 2500 samples is 293\n",
      "The mode dictionary is Counter({10: 55, 23: 36, 5: 36, 7: 21, 9: 16, 8: 16, 15: 15, 16: 11, 11: 10, 20: 10, 6: 9, 1: 9, 3: 8, 17: 5, 12: 5, 14: 5, 18: 5, 2: 4, 4: 3, 0: 3, 22: 3, 13: 3, 21: 2, 19: 2, 24: 1})\n"
     ]
    },
    {
     "name": "stderr",
     "output_type": "stream",
     "text": [
      "100%|██████████| 25/25 [00:00<00:00, 48.57it/s]\n"
     ]
    },
    {
     "name": "stdout",
     "output_type": "stream",
     "text": [
      "spent time for epoch 665 is 0.5206830501556396s\n",
      "epoch # : 665 gamma : 0.5 gen loss : 0.9955848455429077\n"
     ]
    },
    {
     "name": "stderr",
     "output_type": "stream",
     "text": [
      " 20%|██        | 5/25 [00:00<00:00, 47.82it/s]"
     ]
    },
    {
     "name": "stdout",
     "output_type": "stream",
     "text": [
      "Total number of generated modes is  23\n",
      "The number of high quality samples among 2500 samples is 206\n",
      "The mode dictionary is Counter({20: 51, 21: 32, 5: 15, 10: 13, 18: 12, 16: 11, 6: 10, 8: 10, 15: 10, 17: 9, 23: 5, 12: 4, 11: 4, 7: 4, 22: 4, 0: 2, 24: 2, 1: 2, 19: 2, 4: 1, 13: 1, 9: 1, 2: 1})\n"
     ]
    },
    {
     "name": "stderr",
     "output_type": "stream",
     "text": [
      "100%|██████████| 25/25 [00:00<00:00, 48.61it/s]\n"
     ]
    },
    {
     "name": "stdout",
     "output_type": "stream",
     "text": [
      "spent time for epoch 666 is 0.520193338394165s\n",
      "epoch # : 666 gamma : 0.5 gen loss : 0.9915088415145874\n"
     ]
    },
    {
     "name": "stderr",
     "output_type": "stream",
     "text": [
      " 20%|██        | 5/25 [00:00<00:00, 49.49it/s]"
     ]
    },
    {
     "name": "stdout",
     "output_type": "stream",
     "text": [
      "Total number of generated modes is  24\n",
      "The number of high quality samples among 2500 samples is 190\n",
      "The mode dictionary is Counter({16: 19, 17: 18, 22: 14, 12: 13, 14: 12, 3: 12, 5: 11, 18: 10, 24: 9, 4: 8, 20: 8, 19: 8, 8: 7, 11: 7, 15: 6, 6: 5, 7: 4, 13: 4, 1: 4, 9: 3, 2: 3, 10: 2, 0: 2, 23: 1})\n"
     ]
    },
    {
     "name": "stderr",
     "output_type": "stream",
     "text": [
      "100%|██████████| 25/25 [00:00<00:00, 48.30it/s]\n"
     ]
    },
    {
     "name": "stdout",
     "output_type": "stream",
     "text": [
      "spent time for epoch 667 is 0.5253942012786865s\n",
      "epoch # : 667 gamma : 0.5 gen loss : 1.0093994140625\n"
     ]
    },
    {
     "name": "stderr",
     "output_type": "stream",
     "text": [
      "  4%|▍         | 1/25 [00:00<00:03,  7.35it/s]"
     ]
    },
    {
     "name": "stdout",
     "output_type": "stream",
     "text": [
      "Total number of generated modes is  22\n",
      "The number of high quality samples among 2500 samples is 146\n",
      "The mode dictionary is Counter({8: 21, 7: 16, 3: 11, 19: 9, 16: 8, 0: 8, 11: 7, 6: 7, 9: 6, 1: 5, 17: 5, 21: 5, 12: 5, 15: 5, 13: 5, 2: 4, 4: 4, 23: 4, 22: 3, 14: 3, 18: 3, 10: 2})\n"
     ]
    },
    {
     "name": "stderr",
     "output_type": "stream",
     "text": [
      "100%|██████████| 25/25 [00:00<00:00, 43.64it/s]\n"
     ]
    },
    {
     "name": "stdout",
     "output_type": "stream",
     "text": [
      "spent time for epoch 668 is 0.5786223411560059s\n",
      "epoch # : 668 gamma : 0.5 gen loss : 0.9902368187904358\n"
     ]
    },
    {
     "name": "stderr",
     "output_type": "stream",
     "text": [
      " 20%|██        | 5/25 [00:00<00:00, 44.74it/s]"
     ]
    },
    {
     "name": "stdout",
     "output_type": "stream",
     "text": [
      "Total number of generated modes is  25\n",
      "The number of high quality samples among 2500 samples is 218\n",
      "The mode dictionary is Counter({8: 19, 3: 17, 5: 15, 7: 14, 2: 13, 24: 12, 4: 11, 11: 11, 15: 10, 19: 10, 1: 9, 6: 9, 13: 9, 20: 9, 21: 8, 18: 8, 16: 7, 10: 6, 9: 5, 12: 5, 17: 3, 22: 3, 0: 3, 14: 1, 23: 1})\n"
     ]
    },
    {
     "name": "stderr",
     "output_type": "stream",
     "text": [
      "100%|██████████| 25/25 [00:00<00:00, 46.83it/s]\n"
     ]
    },
    {
     "name": "stdout",
     "output_type": "stream",
     "text": [
      "spent time for epoch 669 is 0.5395638942718506s\n",
      "epoch # : 669 gamma : 0.5 gen loss : 1.0611040592193604\n"
     ]
    },
    {
     "name": "stderr",
     "output_type": "stream",
     "text": [
      " 20%|██        | 5/25 [00:00<00:00, 48.37it/s]"
     ]
    },
    {
     "name": "stdout",
     "output_type": "stream",
     "text": [
      "Total number of generated modes is  24\n",
      "The number of high quality samples among 2500 samples is 248\n",
      "The mode dictionary is Counter({5: 28, 10: 26, 7: 23, 15: 23, 16: 22, 12: 13, 14: 11, 11: 10, 8: 10, 19: 9, 9: 9, 17: 8, 13: 7, 20: 7, 23: 6, 1: 5, 22: 5, 18: 5, 3: 5, 6: 4, 21: 4, 4: 3, 24: 3, 0: 2})\n"
     ]
    },
    {
     "name": "stderr",
     "output_type": "stream",
     "text": [
      "100%|██████████| 25/25 [00:00<00:00, 47.90it/s]\n"
     ]
    },
    {
     "name": "stdout",
     "output_type": "stream",
     "text": [
      "spent time for epoch 670 is 0.5276336669921875s\n",
      "epoch # : 670 gamma : 0.5 gen loss : 1.0125603675842285\n"
     ]
    },
    {
     "name": "stderr",
     "output_type": "stream",
     "text": [
      " 20%|██        | 5/25 [00:00<00:00, 47.33it/s]"
     ]
    },
    {
     "name": "stdout",
     "output_type": "stream",
     "text": [
      "Total number of generated modes is  22\n",
      "The number of high quality samples among 2500 samples is 210\n",
      "The mode dictionary is Counter({5: 32, 20: 22, 12: 19, 10: 13, 15: 13, 8: 12, 22: 11, 7: 10, 21: 9, 18: 9, 13: 9, 1: 8, 6: 6, 16: 6, 24: 6, 17: 6, 3: 4, 19: 4, 23: 4, 11: 3, 0: 3, 2: 1})\n"
     ]
    },
    {
     "name": "stderr",
     "output_type": "stream",
     "text": [
      "100%|██████████| 25/25 [00:00<00:00, 47.60it/s]\n"
     ]
    },
    {
     "name": "stdout",
     "output_type": "stream",
     "text": [
      "spent time for epoch 671 is 0.5310008525848389s\n",
      "epoch # : 671 gamma : 0.5 gen loss : 1.0207653045654297\n"
     ]
    },
    {
     "name": "stderr",
     "output_type": "stream",
     "text": [
      " 16%|█▌        | 4/25 [00:00<00:00, 39.12it/s]"
     ]
    },
    {
     "name": "stdout",
     "output_type": "stream",
     "text": [
      "Total number of generated modes is  25\n",
      "The number of high quality samples among 2500 samples is 263\n",
      "The mode dictionary is Counter({10: 31, 0: 22, 15: 22, 5: 18, 7: 16, 12: 15, 6: 14, 20: 14, 13: 13, 16: 10, 17: 9, 11: 9, 18: 9, 3: 8, 1: 8, 14: 7, 19: 7, 23: 6, 8: 6, 24: 5, 9: 4, 2: 3, 4: 3, 22: 2, 21: 2})\n"
     ]
    },
    {
     "name": "stderr",
     "output_type": "stream",
     "text": [
      "100%|██████████| 25/25 [00:00<00:00, 48.03it/s]\n"
     ]
    },
    {
     "name": "stdout",
     "output_type": "stream",
     "text": [
      "spent time for epoch 672 is 0.5263772010803223s\n",
      "epoch # : 672 gamma : 0.5 gen loss : 0.9969426989555359\n"
     ]
    },
    {
     "name": "stderr",
     "output_type": "stream",
     "text": [
      " 20%|██        | 5/25 [00:00<00:00, 48.86it/s]"
     ]
    },
    {
     "name": "stdout",
     "output_type": "stream",
     "text": [
      "Total number of generated modes is  25\n",
      "The number of high quality samples among 2500 samples is 157\n",
      "The mode dictionary is Counter({3: 14, 16: 12, 15: 12, 7: 12, 0: 11, 20: 11, 13: 10, 21: 10, 18: 8, 8: 8, 1: 7, 6: 7, 10: 6, 17: 5, 11: 4, 2: 4, 24: 3, 5: 3, 23: 2, 9: 2, 19: 2, 14: 1, 22: 1, 12: 1, 4: 1})\n"
     ]
    },
    {
     "name": "stderr",
     "output_type": "stream",
     "text": [
      "100%|██████████| 25/25 [00:00<00:00, 48.85it/s]\n"
     ]
    },
    {
     "name": "stdout",
     "output_type": "stream",
     "text": [
      "spent time for epoch 673 is 0.5176663398742676s\n",
      "epoch # : 673 gamma : 0.5 gen loss : 0.9940391182899475\n"
     ]
    },
    {
     "name": "stderr",
     "output_type": "stream",
     "text": [
      " 20%|██        | 5/25 [00:00<00:00, 49.25it/s]"
     ]
    },
    {
     "name": "stdout",
     "output_type": "stream",
     "text": [
      "Total number of generated modes is  24\n",
      "The number of high quality samples among 2500 samples is 336\n",
      "The mode dictionary is Counter({22: 52, 20: 44, 21: 29, 10: 26, 23: 24, 8: 18, 1: 14, 13: 13, 12: 13, 17: 12, 7: 11, 2: 11, 5: 10, 6: 10, 0: 8, 15: 7, 11: 7, 16: 6, 14: 5, 3: 5, 18: 4, 9: 3, 4: 3, 19: 1})\n"
     ]
    },
    {
     "name": "stderr",
     "output_type": "stream",
     "text": [
      "100%|██████████| 25/25 [00:00<00:00, 48.53it/s]\n"
     ]
    },
    {
     "name": "stdout",
     "output_type": "stream",
     "text": [
      "spent time for epoch 674 is 0.5210447311401367s\n",
      "epoch # : 674 gamma : 0.5 gen loss : 1.0192984342575073\n"
     ]
    },
    {
     "name": "stderr",
     "output_type": "stream",
     "text": [
      " 20%|██        | 5/25 [00:00<00:00, 49.30it/s]"
     ]
    },
    {
     "name": "stdout",
     "output_type": "stream",
     "text": [
      "Total number of generated modes is  23\n",
      "The number of high quality samples among 2500 samples is 208\n",
      "The mode dictionary is Counter({23: 28, 22: 28, 8: 15, 11: 14, 24: 12, 7: 12, 9: 11, 6: 11, 14: 10, 18: 9, 17: 7, 19: 6, 21: 5, 16: 5, 13: 5, 3: 5, 1: 5, 5: 4, 2: 4, 12: 4, 20: 4, 10: 2, 15: 2})\n"
     ]
    },
    {
     "name": "stderr",
     "output_type": "stream",
     "text": [
      "100%|██████████| 25/25 [00:00<00:00, 48.94it/s]\n"
     ]
    },
    {
     "name": "stdout",
     "output_type": "stream",
     "text": [
      "spent time for epoch 675 is 0.5163965225219727s\n",
      "epoch # : 675 gamma : 0.5 gen loss : 0.9884984493255615\n"
     ]
    },
    {
     "name": "stderr",
     "output_type": "stream",
     "text": [
      " 20%|██        | 5/25 [00:00<00:00, 49.49it/s]"
     ]
    },
    {
     "name": "stdout",
     "output_type": "stream",
     "text": [
      "Total number of generated modes is  24\n",
      "The number of high quality samples among 2500 samples is 211\n",
      "The mode dictionary is Counter({5: 22, 16: 18, 14: 13, 4: 12, 3: 12, 0: 11, 1: 11, 7: 11, 8: 11, 11: 10, 17: 9, 24: 9, 15: 8, 20: 8, 2: 6, 22: 6, 6: 5, 19: 5, 12: 5, 13: 4, 23: 4, 9: 4, 18: 4, 21: 3})\n"
     ]
    },
    {
     "name": "stderr",
     "output_type": "stream",
     "text": [
      "100%|██████████| 25/25 [00:00<00:00, 48.95it/s]\n"
     ]
    },
    {
     "name": "stdout",
     "output_type": "stream",
     "text": [
      "spent time for epoch 676 is 0.5166189670562744s\n",
      "epoch # : 676 gamma : 0.5 gen loss : 1.018526554107666\n"
     ]
    },
    {
     "name": "stderr",
     "output_type": "stream",
     "text": [
      " 20%|██        | 5/25 [00:00<00:00, 49.43it/s]"
     ]
    },
    {
     "name": "stdout",
     "output_type": "stream",
     "text": [
      "Total number of generated modes is  25\n",
      "The number of high quality samples among 2500 samples is 287\n",
      "The mode dictionary is Counter({5: 50, 22: 42, 20: 39, 21: 20, 17: 14, 16: 12, 7: 11, 23: 11, 15: 11, 10: 10, 13: 9, 6: 9, 12: 9, 3: 7, 8: 6, 18: 5, 11: 5, 0: 3, 9: 3, 4: 2, 2: 2, 14: 2, 19: 2, 1: 2, 24: 1})\n"
     ]
    },
    {
     "name": "stderr",
     "output_type": "stream",
     "text": [
      "100%|██████████| 25/25 [00:00<00:00, 49.31it/s]\n"
     ]
    },
    {
     "name": "stdout",
     "output_type": "stream",
     "text": [
      "spent time for epoch 677 is 0.5128176212310791s\n",
      "epoch # : 677 gamma : 0.5 gen loss : 1.009149432182312\n"
     ]
    },
    {
     "name": "stderr",
     "output_type": "stream",
     "text": [
      " 20%|██        | 5/25 [00:00<00:00, 49.47it/s]"
     ]
    },
    {
     "name": "stdout",
     "output_type": "stream",
     "text": [
      "Total number of generated modes is  25\n",
      "The number of high quality samples among 2500 samples is 180\n",
      "The mode dictionary is Counter({5: 22, 0: 17, 6: 17, 7: 16, 18: 11, 1: 11, 3: 11, 4: 8, 16: 8, 2: 8, 20: 6, 12: 6, 11: 6, 13: 5, 23: 5, 17: 4, 24: 4, 21: 3, 9: 3, 8: 3, 22: 2, 10: 1, 14: 1, 15: 1, 19: 1})\n"
     ]
    },
    {
     "name": "stderr",
     "output_type": "stream",
     "text": [
      "100%|██████████| 25/25 [00:00<00:00, 49.25it/s]\n"
     ]
    },
    {
     "name": "stdout",
     "output_type": "stream",
     "text": [
      "spent time for epoch 678 is 0.5133330821990967s\n",
      "epoch # : 678 gamma : 0.5 gen loss : 0.9727329015731812\n"
     ]
    },
    {
     "name": "stderr",
     "output_type": "stream",
     "text": [
      "  4%|▍         | 1/25 [00:00<00:03,  7.12it/s]"
     ]
    },
    {
     "name": "stdout",
     "output_type": "stream",
     "text": [
      "Total number of generated modes is  25\n",
      "The number of high quality samples among 2500 samples is 250\n",
      "The mode dictionary is Counter({21: 31, 10: 28, 15: 22, 5: 21, 12: 20, 17: 19, 6: 12, 18: 11, 20: 11, 1: 8, 0: 8, 13: 8, 11: 8, 8: 7, 7: 7, 3: 6, 9: 5, 16: 5, 2: 4, 23: 3, 19: 2, 14: 1, 4: 1, 24: 1, 22: 1})\n"
     ]
    },
    {
     "name": "stderr",
     "output_type": "stream",
     "text": [
      "100%|██████████| 25/25 [00:00<00:00, 43.32it/s]\n"
     ]
    },
    {
     "name": "stdout",
     "output_type": "stream",
     "text": [
      "spent time for epoch 679 is 0.5828912258148193s\n",
      "epoch # : 679 gamma : 0.5 gen loss : 1.0015372037887573\n"
     ]
    },
    {
     "name": "stderr",
     "output_type": "stream",
     "text": [
      " 20%|██        | 5/25 [00:00<00:00, 48.46it/s]"
     ]
    },
    {
     "name": "stdout",
     "output_type": "stream",
     "text": [
      "Total number of generated modes is  24\n",
      "The number of high quality samples among 2500 samples is 169\n",
      "The mode dictionary is Counter({3: 16, 16: 13, 6: 13, 20: 12, 15: 11, 7: 10, 24: 10, 19: 10, 21: 9, 0: 9, 1: 8, 18: 7, 2: 7, 5: 6, 8: 5, 14: 4, 13: 3, 17: 3, 11: 3, 4: 3, 12: 2, 10: 2, 9: 2, 23: 1})\n"
     ]
    },
    {
     "name": "stderr",
     "output_type": "stream",
     "text": [
      "100%|██████████| 25/25 [00:00<00:00, 47.39it/s]\n"
     ]
    },
    {
     "name": "stdout",
     "output_type": "stream",
     "text": [
      "spent time for epoch 680 is 0.5332975387573242s\n",
      "epoch # : 680 gamma : 0.5 gen loss : 1.0073195695877075\n"
     ]
    },
    {
     "name": "stderr",
     "output_type": "stream",
     "text": [
      " 20%|██        | 5/25 [00:00<00:00, 48.57it/s]"
     ]
    },
    {
     "name": "stdout",
     "output_type": "stream",
     "text": [
      "Total number of generated modes is  24\n",
      "The number of high quality samples among 2500 samples is 191\n",
      "The mode dictionary is Counter({5: 45, 16: 16, 11: 14, 7: 13, 6: 13, 15: 11, 17: 9, 8: 8, 23: 7, 3: 7, 21: 7, 18: 6, 20: 6, 10: 5, 0: 5, 13: 5, 1: 4, 12: 2, 24: 2, 2: 2, 19: 1, 9: 1, 22: 1, 4: 1})\n"
     ]
    },
    {
     "name": "stderr",
     "output_type": "stream",
     "text": [
      "100%|██████████| 25/25 [00:00<00:00, 48.53it/s]\n"
     ]
    },
    {
     "name": "stdout",
     "output_type": "stream",
     "text": [
      "spent time for epoch 681 is 0.5210819244384766s\n",
      "epoch # : 681 gamma : 0.5 gen loss : 0.9767667651176453\n"
     ]
    },
    {
     "name": "stderr",
     "output_type": "stream",
     "text": [
      " 20%|██        | 5/25 [00:00<00:00, 49.13it/s]"
     ]
    },
    {
     "name": "stdout",
     "output_type": "stream",
     "text": [
      "Total number of generated modes is  25\n",
      "The number of high quality samples among 2500 samples is 232\n",
      "The mode dictionary is Counter({16: 18, 10: 18, 19: 15, 22: 15, 5: 13, 6: 13, 8: 13, 15: 12, 3: 12, 17: 9, 9: 9, 24: 9, 11: 8, 18: 8, 14: 8, 21: 7, 7: 7, 20: 7, 1: 6, 2: 6, 23: 6, 4: 5, 12: 5, 13: 2, 0: 1})\n"
     ]
    },
    {
     "name": "stderr",
     "output_type": "stream",
     "text": [
      "100%|██████████| 25/25 [00:00<00:00, 48.44it/s]\n"
     ]
    },
    {
     "name": "stdout",
     "output_type": "stream",
     "text": [
      "spent time for epoch 682 is 0.5219926834106445s\n",
      "epoch # : 682 gamma : 0.5 gen loss : 0.985641598701477\n"
     ]
    },
    {
     "name": "stderr",
     "output_type": "stream",
     "text": [
      " 20%|██        | 5/25 [00:00<00:00, 48.65it/s]"
     ]
    },
    {
     "name": "stdout",
     "output_type": "stream",
     "text": [
      "Total number of generated modes is  25\n",
      "The number of high quality samples among 2500 samples is 211\n",
      "The mode dictionary is Counter({20: 40, 21: 28, 16: 17, 7: 15, 15: 11, 6: 9, 3: 9, 17: 9, 18: 8, 12: 8, 5: 7, 11: 6, 23: 6, 13: 6, 8: 6, 22: 5, 4: 5, 14: 4, 9: 3, 19: 2, 1: 2, 24: 2, 0: 1, 2: 1, 10: 1})\n"
     ]
    },
    {
     "name": "stderr",
     "output_type": "stream",
     "text": [
      "100%|██████████| 25/25 [00:00<00:00, 46.42it/s]\n"
     ]
    },
    {
     "name": "stdout",
     "output_type": "stream",
     "text": [
      "spent time for epoch 683 is 0.5446064472198486s\n",
      "epoch # : 683 gamma : 0.5 gen loss : 1.0329228639602661\n"
     ]
    },
    {
     "name": "stderr",
     "output_type": "stream",
     "text": [
      " 20%|██        | 5/25 [00:00<00:00, 48.08it/s]"
     ]
    },
    {
     "name": "stdout",
     "output_type": "stream",
     "text": [
      "Total number of generated modes is  23\n",
      "The number of high quality samples among 2500 samples is 213\n",
      "The mode dictionary is Counter({22: 27, 3: 15, 16: 14, 0: 14, 9: 14, 5: 12, 1: 12, 2: 11, 14: 11, 21: 11, 23: 9, 17: 9, 6: 8, 13: 7, 18: 7, 4: 5, 7: 4, 12: 4, 11: 4, 15: 4, 19: 4, 8: 4, 10: 3})\n"
     ]
    },
    {
     "name": "stderr",
     "output_type": "stream",
     "text": [
      "100%|██████████| 25/25 [00:00<00:00, 48.42it/s]\n"
     ]
    },
    {
     "name": "stdout",
     "output_type": "stream",
     "text": [
      "spent time for epoch 684 is 0.5223655700683594s\n",
      "epoch # : 684 gamma : 0.5 gen loss : 1.00385582447052\n"
     ]
    },
    {
     "name": "stderr",
     "output_type": "stream",
     "text": [
      " 20%|██        | 5/25 [00:00<00:00, 49.19it/s]"
     ]
    },
    {
     "name": "stdout",
     "output_type": "stream",
     "text": [
      "Total number of generated modes is  25\n",
      "The number of high quality samples among 2500 samples is 186\n",
      "The mode dictionary is Counter({16: 21, 23: 17, 6: 14, 7: 13, 5: 12, 17: 11, 18: 10, 21: 10, 3: 9, 1: 9, 11: 9, 8: 8, 2: 7, 10: 6, 4: 5, 15: 5, 13: 4, 0: 3, 19: 3, 24: 2, 14: 2, 9: 2, 22: 2, 12: 1, 20: 1})\n"
     ]
    },
    {
     "name": "stderr",
     "output_type": "stream",
     "text": [
      "100%|██████████| 25/25 [00:00<00:00, 48.73it/s]\n"
     ]
    },
    {
     "name": "stdout",
     "output_type": "stream",
     "text": [
      "spent time for epoch 685 is 0.5189664363861084s\n",
      "epoch # : 685 gamma : 0.5 gen loss : 0.9936485290527344\n"
     ]
    },
    {
     "name": "stderr",
     "output_type": "stream",
     "text": [
      " 20%|██        | 5/25 [00:00<00:00, 48.43it/s]"
     ]
    },
    {
     "name": "stdout",
     "output_type": "stream",
     "text": [
      "Total number of generated modes is  25\n",
      "The number of high quality samples among 2500 samples is 253\n",
      "The mode dictionary is Counter({0: 28, 20: 20, 17: 19, 3: 17, 1: 17, 2: 17, 22: 14, 8: 13, 6: 13, 16: 12, 9: 10, 18: 9, 13: 8, 7: 8, 12: 7, 21: 7, 11: 6, 23: 6, 4: 5, 14: 5, 19: 4, 15: 3, 24: 2, 5: 2, 10: 1})\n"
     ]
    },
    {
     "name": "stderr",
     "output_type": "stream",
     "text": [
      "100%|██████████| 25/25 [00:00<00:00, 48.25it/s]\n"
     ]
    },
    {
     "name": "stdout",
     "output_type": "stream",
     "text": [
      "spent time for epoch 686 is 0.5239801406860352s\n",
      "epoch # : 686 gamma : 0.5 gen loss : 0.983885645866394\n"
     ]
    },
    {
     "name": "stderr",
     "output_type": "stream",
     "text": [
      " 20%|██        | 5/25 [00:00<00:00, 49.61it/s]"
     ]
    },
    {
     "name": "stdout",
     "output_type": "stream",
     "text": [
      "Total number of generated modes is  24\n",
      "The number of high quality samples among 2500 samples is 229\n",
      "The mode dictionary is Counter({20: 37, 5: 23, 7: 16, 3: 15, 8: 15, 24: 15, 16: 12, 6: 11, 15: 10, 12: 10, 1: 9, 10: 8, 0: 7, 2: 6, 21: 5, 18: 5, 4: 5, 13: 5, 17: 4, 23: 4, 19: 3, 14: 2, 11: 1, 9: 1})\n"
     ]
    },
    {
     "name": "stderr",
     "output_type": "stream",
     "text": [
      "100%|██████████| 25/25 [00:00<00:00, 48.25it/s]\n"
     ]
    },
    {
     "name": "stdout",
     "output_type": "stream",
     "text": [
      "spent time for epoch 687 is 0.5237021446228027s\n",
      "epoch # : 687 gamma : 0.5 gen loss : 1.0197908878326416\n"
     ]
    },
    {
     "name": "stderr",
     "output_type": "stream",
     "text": [
      " 20%|██        | 5/25 [00:00<00:00, 49.14it/s]"
     ]
    },
    {
     "name": "stdout",
     "output_type": "stream",
     "text": [
      "Total number of generated modes is  24\n",
      "The number of high quality samples among 2500 samples is 280\n",
      "The mode dictionary is Counter({5: 23, 23: 22, 16: 19, 24: 18, 17: 17, 6: 15, 8: 14, 22: 13, 9: 13, 7: 12, 2: 12, 12: 12, 13: 11, 18: 10, 14: 10, 0: 9, 3: 8, 19: 8, 21: 7, 11: 6, 4: 6, 10: 6, 15: 5, 1: 4})\n"
     ]
    },
    {
     "name": "stderr",
     "output_type": "stream",
     "text": [
      "100%|██████████| 25/25 [00:00<00:00, 48.74it/s]\n"
     ]
    },
    {
     "name": "stdout",
     "output_type": "stream",
     "text": [
      "spent time for epoch 688 is 0.518604040145874s\n",
      "epoch # : 688 gamma : 0.5 gen loss : 0.9966807961463928\n"
     ]
    },
    {
     "name": "stderr",
     "output_type": "stream",
     "text": [
      " 20%|██        | 5/25 [00:00<00:00, 49.40it/s]"
     ]
    },
    {
     "name": "stdout",
     "output_type": "stream",
     "text": [
      "Total number of generated modes is  25\n",
      "The number of high quality samples among 2500 samples is 297\n",
      "The mode dictionary is Counter({20: 47, 5: 32, 21: 23, 0: 23, 3: 15, 15: 15, 2: 14, 4: 13, 7: 11, 10: 10, 6: 10, 16: 10, 17: 10, 18: 10, 1: 9, 11: 9, 22: 8, 8: 7, 23: 6, 13: 6, 14: 4, 9: 2, 24: 1, 19: 1, 12: 1})\n"
     ]
    },
    {
     "name": "stderr",
     "output_type": "stream",
     "text": [
      "100%|██████████| 25/25 [00:00<00:00, 49.05it/s]\n"
     ]
    },
    {
     "name": "stdout",
     "output_type": "stream",
     "text": [
      "spent time for epoch 689 is 0.51542067527771s\n",
      "epoch # : 689 gamma : 0.5 gen loss : 1.004495620727539\n"
     ]
    },
    {
     "name": "stderr",
     "output_type": "stream",
     "text": [
      "  4%|▍         | 1/25 [00:00<00:03,  7.27it/s]"
     ]
    },
    {
     "name": "stdout",
     "output_type": "stream",
     "text": [
      "Total number of generated modes is  24\n",
      "The number of high quality samples among 2500 samples is 213\n",
      "The mode dictionary is Counter({7: 29, 23: 22, 15: 17, 8: 15, 14: 14, 21: 13, 20: 13, 16: 12, 10: 12, 5: 9, 3: 8, 6: 8, 9: 6, 18: 6, 11: 5, 22: 5, 19: 4, 13: 4, 1: 3, 17: 3, 4: 2, 2: 1, 0: 1, 12: 1})\n"
     ]
    },
    {
     "name": "stderr",
     "output_type": "stream",
     "text": [
      "100%|██████████| 25/25 [00:00<00:00, 42.51it/s]\n"
     ]
    },
    {
     "name": "stdout",
     "output_type": "stream",
     "text": [
      "spent time for epoch 690 is 0.5935821533203125s\n",
      "epoch # : 690 gamma : 0.5 gen loss : 0.9726952910423279\n"
     ]
    },
    {
     "name": "stderr",
     "output_type": "stream",
     "text": [
      " 20%|██        | 5/25 [00:00<00:00, 47.21it/s]"
     ]
    },
    {
     "name": "stdout",
     "output_type": "stream",
     "text": [
      "Total number of generated modes is  25\n",
      "The number of high quality samples among 2500 samples is 197\n",
      "The mode dictionary is Counter({5: 23, 19: 13, 7: 13, 20: 12, 21: 12, 6: 11, 0: 11, 15: 10, 1: 9, 13: 9, 16: 8, 9: 7, 4: 6, 8: 6, 14: 6, 18: 6, 17: 5, 2: 5, 23: 4, 3: 4, 24: 4, 12: 4, 22: 4, 10: 3, 11: 2})\n"
     ]
    },
    {
     "name": "stderr",
     "output_type": "stream",
     "text": [
      "100%|██████████| 25/25 [00:00<00:00, 47.93it/s]\n"
     ]
    },
    {
     "name": "stdout",
     "output_type": "stream",
     "text": [
      "spent time for epoch 691 is 0.52730393409729s\n",
      "epoch # : 691 gamma : 0.5 gen loss : 1.0166521072387695\n"
     ]
    },
    {
     "name": "stderr",
     "output_type": "stream",
     "text": [
      " 20%|██        | 5/25 [00:00<00:00, 48.53it/s]"
     ]
    },
    {
     "name": "stdout",
     "output_type": "stream",
     "text": [
      "Total number of generated modes is  25\n",
      "The number of high quality samples among 2500 samples is 293\n",
      "The mode dictionary is Counter({4: 27, 7: 21, 21: 21, 5: 18, 20: 17, 16: 16, 14: 15, 15: 14, 9: 14, 0: 13, 22: 13, 6: 12, 1: 12, 17: 11, 10: 9, 2: 9, 18: 8, 19: 7, 11: 7, 8: 7, 12: 6, 3: 6, 23: 5, 13: 4, 24: 1})\n"
     ]
    },
    {
     "name": "stderr",
     "output_type": "stream",
     "text": [
      "100%|██████████| 25/25 [00:00<00:00, 48.22it/s]\n"
     ]
    },
    {
     "name": "stdout",
     "output_type": "stream",
     "text": [
      "spent time for epoch 692 is 0.5244956016540527s\n",
      "epoch # : 692 gamma : 0.5 gen loss : 1.008169412612915\n"
     ]
    },
    {
     "name": "stderr",
     "output_type": "stream",
     "text": [
      " 20%|██        | 5/25 [00:00<00:00, 48.73it/s]"
     ]
    },
    {
     "name": "stdout",
     "output_type": "stream",
     "text": [
      "Total number of generated modes is  22\n",
      "The number of high quality samples among 2500 samples is 238\n",
      "The mode dictionary is Counter({20: 42, 23: 26, 22: 23, 21: 19, 6: 18, 5: 18, 7: 13, 15: 12, 8: 11, 11: 10, 16: 8, 17: 7, 18: 7, 12: 5, 1: 4, 3: 4, 13: 3, 24: 3, 10: 2, 2: 1, 9: 1, 0: 1})\n"
     ]
    },
    {
     "name": "stderr",
     "output_type": "stream",
     "text": [
      "100%|██████████| 25/25 [00:00<00:00, 48.29it/s]\n"
     ]
    },
    {
     "name": "stdout",
     "output_type": "stream",
     "text": [
      "spent time for epoch 693 is 0.5238924026489258s\n",
      "epoch # : 693 gamma : 0.5 gen loss : 1.05010986328125\n"
     ]
    },
    {
     "name": "stderr",
     "output_type": "stream",
     "text": [
      " 20%|██        | 5/25 [00:00<00:00, 48.23it/s]"
     ]
    },
    {
     "name": "stdout",
     "output_type": "stream",
     "text": [
      "Total number of generated modes is  25\n",
      "The number of high quality samples among 2500 samples is 286\n",
      "The mode dictionary is Counter({5: 69, 23: 33, 10: 19, 8: 15, 6: 15, 0: 13, 18: 13, 16: 11, 14: 11, 7: 8, 1: 8, 24: 8, 15: 8, 2: 8, 4: 7, 12: 7, 17: 6, 9: 5, 11: 5, 19: 4, 21: 4, 13: 3, 3: 2, 22: 2, 20: 2})\n"
     ]
    },
    {
     "name": "stderr",
     "output_type": "stream",
     "text": [
      "100%|██████████| 25/25 [00:00<00:00, 48.64it/s]\n"
     ]
    },
    {
     "name": "stdout",
     "output_type": "stream",
     "text": [
      "spent time for epoch 694 is 0.519728422164917s\n",
      "epoch # : 694 gamma : 0.5 gen loss : 1.0306674242019653\n"
     ]
    },
    {
     "name": "stderr",
     "output_type": "stream",
     "text": [
      " 16%|█▌        | 4/25 [00:00<00:00, 39.83it/s]"
     ]
    },
    {
     "name": "stdout",
     "output_type": "stream",
     "text": [
      "Total number of generated modes is  25\n",
      "The number of high quality samples among 2500 samples is 230\n",
      "The mode dictionary is Counter({5: 20, 12: 19, 7: 16, 15: 14, 16: 14, 0: 12, 13: 12, 6: 11, 2: 10, 20: 10, 17: 9, 1: 9, 8: 9, 18: 8, 3: 8, 21: 8, 10: 7, 19: 7, 14: 7, 11: 7, 24: 5, 23: 3, 22: 2, 4: 2, 9: 1})\n"
     ]
    },
    {
     "name": "stderr",
     "output_type": "stream",
     "text": [
      "100%|██████████| 25/25 [00:00<00:00, 48.20it/s]\n"
     ]
    },
    {
     "name": "stdout",
     "output_type": "stream",
     "text": [
      "spent time for epoch 695 is 0.5249865055084229s\n",
      "epoch # : 695 gamma : 0.5 gen loss : 1.0169413089752197\n"
     ]
    },
    {
     "name": "stderr",
     "output_type": "stream",
     "text": [
      " 20%|██        | 5/25 [00:00<00:00, 48.41it/s]"
     ]
    },
    {
     "name": "stdout",
     "output_type": "stream",
     "text": [
      "Total number of generated modes is  22\n",
      "The number of high quality samples among 2500 samples is 229\n",
      "The mode dictionary is Counter({5: 39, 10: 30, 11: 16, 13: 16, 2: 15, 12: 13, 7: 12, 15: 12, 16: 12, 6: 12, 8: 10, 23: 9, 20: 8, 3: 5, 22: 4, 18: 3, 17: 3, 21: 2, 19: 2, 4: 2, 1: 2, 0: 2})\n"
     ]
    },
    {
     "name": "stderr",
     "output_type": "stream",
     "text": [
      "100%|██████████| 25/25 [00:00<00:00, 47.54it/s]\n"
     ]
    },
    {
     "name": "stdout",
     "output_type": "stream",
     "text": [
      "spent time for epoch 696 is 0.5316722393035889s\n",
      "epoch # : 696 gamma : 0.5 gen loss : 0.9891328811645508\n"
     ]
    },
    {
     "name": "stderr",
     "output_type": "stream",
     "text": [
      " 20%|██        | 5/25 [00:00<00:00, 49.38it/s]"
     ]
    },
    {
     "name": "stdout",
     "output_type": "stream",
     "text": [
      "Total number of generated modes is  24\n",
      "The number of high quality samples among 2500 samples is 214\n",
      "The mode dictionary is Counter({5: 47, 15: 15, 12: 14, 0: 13, 7: 13, 3: 12, 13: 11, 16: 11, 2: 10, 6: 10, 20: 9, 10: 8, 11: 6, 18: 6, 23: 5, 21: 4, 8: 4, 1: 4, 14: 3, 9: 2, 24: 2, 17: 2, 22: 2, 19: 1})\n"
     ]
    },
    {
     "name": "stderr",
     "output_type": "stream",
     "text": [
      "100%|██████████| 25/25 [00:00<00:00, 47.09it/s]\n"
     ]
    },
    {
     "name": "stdout",
     "output_type": "stream",
     "text": [
      "spent time for epoch 697 is 0.5368380546569824s\n",
      "epoch # : 697 gamma : 0.5 gen loss : 1.0234992504119873\n"
     ]
    },
    {
     "name": "stderr",
     "output_type": "stream",
     "text": [
      " 20%|██        | 5/25 [00:00<00:00, 49.51it/s]"
     ]
    },
    {
     "name": "stdout",
     "output_type": "stream",
     "text": [
      "Total number of generated modes is  25\n",
      "The number of high quality samples among 2500 samples is 334\n",
      "The mode dictionary is Counter({5: 47, 22: 44, 0: 28, 7: 18, 21: 17, 17: 17, 23: 15, 3: 14, 6: 13, 9: 12, 20: 11, 18: 11, 2: 10, 13: 9, 16: 9, 8: 9, 12: 8, 15: 8, 1: 8, 14: 7, 19: 7, 4: 5, 11: 4, 24: 2, 10: 1})\n"
     ]
    },
    {
     "name": "stderr",
     "output_type": "stream",
     "text": [
      "100%|██████████| 25/25 [00:00<00:00, 48.90it/s]\n"
     ]
    },
    {
     "name": "stdout",
     "output_type": "stream",
     "text": [
      "spent time for epoch 698 is 0.5167355537414551s\n",
      "epoch # : 698 gamma : 0.5 gen loss : 0.9758663773536682\n"
     ]
    },
    {
     "name": "stderr",
     "output_type": "stream",
     "text": [
      " 20%|██        | 5/25 [00:00<00:00, 48.16it/s]"
     ]
    },
    {
     "name": "stdout",
     "output_type": "stream",
     "text": [
      "Total number of generated modes is  25\n",
      "The number of high quality samples among 2500 samples is 222\n",
      "The mode dictionary is Counter({23: 35, 7: 16, 11: 13, 15: 12, 16: 11, 8: 10, 14: 10, 17: 10, 19: 10, 21: 9, 13: 9, 22: 8, 12: 8, 9: 8, 1: 8, 24: 8, 20: 7, 0: 6, 6: 6, 18: 6, 5: 4, 10: 3, 2: 2, 4: 2, 3: 1})\n"
     ]
    },
    {
     "name": "stderr",
     "output_type": "stream",
     "text": [
      "100%|██████████| 25/25 [00:00<00:00, 48.52it/s]\n"
     ]
    },
    {
     "name": "stdout",
     "output_type": "stream",
     "text": [
      "spent time for epoch 699 is 0.5212967395782471s\n",
      "epoch # : 699 gamma : 0.5 gen loss : 1.0191727876663208\n"
     ]
    },
    {
     "name": "stderr",
     "output_type": "stream",
     "text": [
      " 20%|██        | 5/25 [00:00<00:00, 49.62it/s]"
     ]
    },
    {
     "name": "stdout",
     "output_type": "stream",
     "text": [
      "Total number of generated modes is  25\n",
      "The number of high quality samples among 2500 samples is 220\n",
      "The mode dictionary is Counter({5: 25, 16: 20, 3: 19, 21: 17, 20: 12, 6: 12, 10: 12, 7: 12, 15: 10, 13: 9, 4: 9, 8: 8, 18: 8, 2: 7, 17: 7, 12: 6, 0: 5, 23: 5, 9: 4, 14: 3, 19: 3, 1: 3, 11: 2, 22: 1, 24: 1})\n"
     ]
    },
    {
     "name": "stderr",
     "output_type": "stream",
     "text": [
      "100%|██████████| 25/25 [00:00<00:00, 49.09it/s]\n"
     ]
    },
    {
     "name": "stdout",
     "output_type": "stream",
     "text": [
      "spent time for epoch 700 is 0.5168683528900146s\n",
      "epoch # : 700 gamma : 0.5 gen loss : 0.98736572265625\n"
     ]
    },
    {
     "name": "stderr",
     "output_type": "stream",
     "text": [
      "  4%|▍         | 1/25 [00:00<00:03,  7.16it/s]"
     ]
    },
    {
     "name": "stdout",
     "output_type": "stream",
     "text": [
      "Total number of generated modes is  22\n",
      "The number of high quality samples among 2500 samples is 243\n",
      "The mode dictionary is Counter({0: 30, 7: 21, 1: 17, 4: 16, 5: 16, 3: 16, 11: 14, 13: 13, 6: 13, 21: 12, 2: 12, 18: 11, 8: 10, 16: 9, 12: 6, 19: 6, 17: 6, 14: 4, 23: 4, 10: 3, 9: 2, 15: 2})\n"
     ]
    },
    {
     "name": "stderr",
     "output_type": "stream",
     "text": [
      "100%|██████████| 25/25 [00:00<00:00, 43.00it/s]\n"
     ]
    },
    {
     "name": "stdout",
     "output_type": "stream",
     "text": [
      "spent time for epoch 701 is 0.5870883464813232s\n",
      "epoch # : 701 gamma : 0.5 gen loss : 1.0026079416275024\n"
     ]
    },
    {
     "name": "stderr",
     "output_type": "stream",
     "text": [
      " 16%|█▌        | 4/25 [00:00<00:00, 39.05it/s]"
     ]
    },
    {
     "name": "stdout",
     "output_type": "stream",
     "text": [
      "Total number of generated modes is  23\n",
      "The number of high quality samples among 2500 samples is 211\n",
      "The mode dictionary is Counter({7: 20, 16: 18, 6: 16, 22: 16, 5: 15, 13: 14, 8: 11, 20: 11, 19: 11, 24: 10, 12: 10, 11: 9, 21: 9, 15: 8, 17: 7, 18: 6, 3: 5, 1: 4, 9: 4, 0: 2, 23: 2, 10: 2, 14: 1})\n"
     ]
    },
    {
     "name": "stderr",
     "output_type": "stream",
     "text": [
      "100%|██████████| 25/25 [00:00<00:00, 47.70it/s]\n"
     ]
    },
    {
     "name": "stdout",
     "output_type": "stream",
     "text": [
      "spent time for epoch 702 is 0.5300078392028809s\n",
      "epoch # : 702 gamma : 0.5 gen loss : 0.9857941269874573\n"
     ]
    },
    {
     "name": "stderr",
     "output_type": "stream",
     "text": [
      " 20%|██        | 5/25 [00:00<00:00, 48.67it/s]"
     ]
    },
    {
     "name": "stdout",
     "output_type": "stream",
     "text": [
      "Total number of generated modes is  25\n",
      "The number of high quality samples among 2500 samples is 215\n",
      "The mode dictionary is Counter({3: 19, 10: 19, 17: 15, 14: 15, 15: 14, 13: 10, 11: 10, 16: 9, 12: 9, 23: 9, 19: 9, 1: 8, 7: 8, 6: 8, 4: 8, 2: 7, 21: 7, 20: 6, 5: 6, 24: 5, 0: 4, 18: 3, 9: 3, 8: 3, 22: 1})\n"
     ]
    },
    {
     "name": "stderr",
     "output_type": "stream",
     "text": [
      "100%|██████████| 25/25 [00:00<00:00, 48.38it/s]\n"
     ]
    },
    {
     "name": "stdout",
     "output_type": "stream",
     "text": [
      "spent time for epoch 703 is 0.5228250026702881s\n",
      "epoch # : 703 gamma : 0.5 gen loss : 0.9965789318084717\n"
     ]
    },
    {
     "name": "stderr",
     "output_type": "stream",
     "text": [
      " 20%|██        | 5/25 [00:00<00:00, 48.74it/s]"
     ]
    },
    {
     "name": "stdout",
     "output_type": "stream",
     "text": [
      "Total number of generated modes is  23\n",
      "The number of high quality samples among 2500 samples is 246\n",
      "The mode dictionary is Counter({20: 57, 10: 28, 21: 21, 15: 18, 8: 17, 16: 14, 11: 14, 0: 11, 7: 10, 6: 9, 2: 9, 17: 7, 12: 7, 3: 6, 1: 4, 18: 4, 13: 2, 9: 2, 24: 2, 22: 1, 14: 1, 19: 1, 23: 1})\n"
     ]
    },
    {
     "name": "stderr",
     "output_type": "stream",
     "text": [
      "100%|██████████| 25/25 [00:00<00:00, 48.59it/s]\n"
     ]
    },
    {
     "name": "stdout",
     "output_type": "stream",
     "text": [
      "spent time for epoch 704 is 0.520310640335083s\n",
      "epoch # : 704 gamma : 0.5 gen loss : 1.0486699342727661\n"
     ]
    },
    {
     "name": "stderr",
     "output_type": "stream",
     "text": [
      " 20%|██        | 5/25 [00:00<00:00, 48.97it/s]"
     ]
    },
    {
     "name": "stdout",
     "output_type": "stream",
     "text": [
      "Total number of generated modes is  24\n",
      "The number of high quality samples among 2500 samples is 197\n",
      "The mode dictionary is Counter({23: 39, 7: 22, 16: 14, 8: 14, 18: 13, 14: 12, 9: 10, 0: 8, 3: 7, 11: 7, 2: 7, 17: 7, 4: 6, 6: 5, 22: 5, 19: 4, 5: 3, 21: 3, 13: 3, 24: 3, 1: 2, 15: 1, 10: 1, 20: 1})\n"
     ]
    },
    {
     "name": "stderr",
     "output_type": "stream",
     "text": [
      "100%|██████████| 25/25 [00:00<00:00, 48.36it/s]\n"
     ]
    },
    {
     "name": "stdout",
     "output_type": "stream",
     "text": [
      "spent time for epoch 705 is 0.5227391719818115s\n",
      "epoch # : 705 gamma : 0.5 gen loss : 1.0084288120269775\n"
     ]
    },
    {
     "name": "stderr",
     "output_type": "stream",
     "text": [
      " 20%|██        | 5/25 [00:00<00:00, 48.38it/s]"
     ]
    },
    {
     "name": "stdout",
     "output_type": "stream",
     "text": [
      "Total number of generated modes is  24\n",
      "The number of high quality samples among 2500 samples is 237\n",
      "The mode dictionary is Counter({23: 31, 16: 25, 20: 24, 8: 14, 9: 13, 19: 13, 7: 12, 17: 11, 24: 11, 22: 11, 12: 9, 15: 9, 18: 8, 21: 8, 6: 8, 13: 7, 3: 6, 11: 4, 14: 4, 5: 2, 0: 2, 4: 2, 2: 2, 1: 1})\n"
     ]
    },
    {
     "name": "stderr",
     "output_type": "stream",
     "text": [
      "100%|██████████| 25/25 [00:00<00:00, 48.77it/s]\n"
     ]
    },
    {
     "name": "stdout",
     "output_type": "stream",
     "text": [
      "spent time for epoch 706 is 0.518355131149292s\n",
      "epoch # : 706 gamma : 0.5 gen loss : 1.0007601976394653\n"
     ]
    },
    {
     "name": "stderr",
     "output_type": "stream",
     "text": [
      " 20%|██        | 5/25 [00:00<00:00, 49.22it/s]"
     ]
    },
    {
     "name": "stdout",
     "output_type": "stream",
     "text": [
      "Total number of generated modes is  24\n",
      "The number of high quality samples among 2500 samples is 262\n",
      "The mode dictionary is Counter({5: 50, 21: 38, 20: 27, 16: 19, 7: 16, 4: 13, 3: 12, 6: 10, 2: 10, 18: 10, 10: 8, 13: 7, 23: 6, 15: 6, 8: 5, 0: 4, 11: 4, 19: 4, 24: 3, 22: 2, 12: 2, 14: 2, 9: 2, 17: 2})\n"
     ]
    },
    {
     "name": "stderr",
     "output_type": "stream",
     "text": [
      "100%|██████████| 25/25 [00:00<00:00, 49.01it/s]\n"
     ]
    },
    {
     "name": "stdout",
     "output_type": "stream",
     "text": [
      "spent time for epoch 707 is 0.5159122943878174s\n",
      "epoch # : 707 gamma : 0.5 gen loss : 1.020304560661316\n"
     ]
    },
    {
     "name": "stderr",
     "output_type": "stream",
     "text": [
      " 20%|██        | 5/25 [00:00<00:00, 48.20it/s]"
     ]
    },
    {
     "name": "stdout",
     "output_type": "stream",
     "text": [
      "Total number of generated modes is  25\n",
      "The number of high quality samples among 2500 samples is 172\n",
      "The mode dictionary is Counter({16: 17, 7: 15, 11: 14, 8: 13, 17: 10, 13: 10, 24: 9, 20: 9, 6: 9, 10: 7, 5: 7, 1: 7, 19: 6, 12: 5, 0: 5, 18: 4, 3: 4, 22: 4, 21: 4, 9: 3, 4: 3, 23: 3, 15: 2, 14: 1, 2: 1})\n"
     ]
    },
    {
     "name": "stderr",
     "output_type": "stream",
     "text": [
      "100%|██████████| 25/25 [00:00<00:00, 47.93it/s]\n"
     ]
    },
    {
     "name": "stdout",
     "output_type": "stream",
     "text": [
      "spent time for epoch 708 is 0.5273983478546143s\n",
      "epoch # : 708 gamma : 0.5 gen loss : 1.0056530237197876\n"
     ]
    },
    {
     "name": "stderr",
     "output_type": "stream",
     "text": [
      " 20%|██        | 5/25 [00:00<00:00, 49.02it/s]"
     ]
    },
    {
     "name": "stdout",
     "output_type": "stream",
     "text": [
      "Total number of generated modes is  24\n",
      "The number of high quality samples among 2500 samples is 242\n",
      "The mode dictionary is Counter({23: 32, 17: 22, 20: 17, 5: 17, 3: 14, 18: 13, 0: 13, 1: 12, 16: 12, 13: 12, 12: 12, 21: 9, 2: 8, 15: 7, 22: 7, 11: 6, 8: 5, 4: 5, 7: 5, 19: 4, 9: 4, 14: 3, 6: 2, 24: 1})\n"
     ]
    },
    {
     "name": "stderr",
     "output_type": "stream",
     "text": [
      "100%|██████████| 25/25 [00:00<00:00, 48.57it/s]\n"
     ]
    },
    {
     "name": "stdout",
     "output_type": "stream",
     "text": [
      "spent time for epoch 709 is 0.5205674171447754s\n",
      "epoch # : 709 gamma : 0.5 gen loss : 0.9824646711349487\n"
     ]
    },
    {
     "name": "stderr",
     "output_type": "stream",
     "text": [
      " 20%|██        | 5/25 [00:00<00:00, 49.57it/s]"
     ]
    },
    {
     "name": "stdout",
     "output_type": "stream",
     "text": [
      "Total number of generated modes is  23\n",
      "The number of high quality samples among 2500 samples is 204\n",
      "The mode dictionary is Counter({16: 28, 5: 20, 17: 16, 15: 15, 22: 13, 7: 10, 2: 10, 6: 9, 0: 9, 13: 9, 10: 8, 12: 8, 1: 8, 3: 7, 18: 7, 4: 7, 20: 6, 21: 5, 14: 3, 9: 2, 8: 2, 19: 1, 23: 1})\n"
     ]
    },
    {
     "name": "stderr",
     "output_type": "stream",
     "text": [
      "100%|██████████| 25/25 [00:00<00:00, 48.84it/s]\n"
     ]
    },
    {
     "name": "stdout",
     "output_type": "stream",
     "text": [
      "spent time for epoch 710 is 0.5176546573638916s\n",
      "epoch # : 710 gamma : 0.5 gen loss : 1.065386176109314\n"
     ]
    },
    {
     "name": "stderr",
     "output_type": "stream",
     "text": [
      " 20%|██        | 5/25 [00:00<00:00, 48.35it/s]"
     ]
    },
    {
     "name": "stdout",
     "output_type": "stream",
     "text": [
      "Total number of generated modes is  22\n",
      "The number of high quality samples among 2500 samples is 221\n",
      "The mode dictionary is Counter({21: 31, 5: 21, 0: 20, 1: 18, 13: 15, 16: 12, 15: 12, 8: 11, 19: 10, 2: 10, 6: 9, 7: 9, 24: 8, 20: 7, 14: 6, 11: 6, 4: 5, 9: 4, 22: 2, 10: 2, 18: 2, 12: 1})\n"
     ]
    },
    {
     "name": "stderr",
     "output_type": "stream",
     "text": [
      "100%|██████████| 25/25 [00:00<00:00, 47.84it/s]\n"
     ]
    },
    {
     "name": "stdout",
     "output_type": "stream",
     "text": [
      "spent time for epoch 711 is 0.5365073680877686s\n",
      "epoch # : 711 gamma : 0.5 gen loss : 1.0170162916183472\n"
     ]
    },
    {
     "name": "stderr",
     "output_type": "stream",
     "text": [
      "  4%|▍         | 1/25 [00:00<00:03,  7.10it/s]"
     ]
    },
    {
     "name": "stdout",
     "output_type": "stream",
     "text": [
      "Total number of generated modes is  25\n",
      "The number of high quality samples among 2500 samples is 180\n",
      "The mode dictionary is Counter({0: 18, 13: 16, 8: 14, 16: 14, 23: 13, 11: 12, 24: 10, 15: 10, 20: 10, 18: 8, 14: 7, 6: 6, 10: 6, 7: 5, 5: 5, 9: 4, 2: 4, 1: 3, 12: 3, 22: 3, 3: 3, 21: 2, 19: 2, 4: 1, 17: 1})\n"
     ]
    },
    {
     "name": "stderr",
     "output_type": "stream",
     "text": [
      "100%|██████████| 25/25 [00:00<00:00, 42.93it/s]\n"
     ]
    },
    {
     "name": "stdout",
     "output_type": "stream",
     "text": [
      "spent time for epoch 712 is 0.5880615711212158s\n",
      "epoch # : 712 gamma : 0.5 gen loss : 0.9652923345565796\n"
     ]
    },
    {
     "name": "stderr",
     "output_type": "stream",
     "text": [
      " 20%|██        | 5/25 [00:00<00:00, 48.22it/s]"
     ]
    },
    {
     "name": "stdout",
     "output_type": "stream",
     "text": [
      "Total number of generated modes is  25\n",
      "The number of high quality samples among 2500 samples is 189\n",
      "The mode dictionary is Counter({14: 13, 1: 13, 16: 12, 6: 12, 13: 11, 2: 11, 12: 10, 18: 10, 21: 10, 7: 9, 3: 9, 9: 9, 19: 9, 8: 8, 0: 7, 4: 6, 5: 6, 11: 6, 23: 5, 17: 4, 24: 3, 15: 2, 22: 2, 20: 1, 10: 1})\n"
     ]
    },
    {
     "name": "stderr",
     "output_type": "stream",
     "text": [
      "100%|██████████| 25/25 [00:00<00:00, 47.87it/s]\n"
     ]
    },
    {
     "name": "stdout",
     "output_type": "stream",
     "text": [
      "spent time for epoch 713 is 0.5280005931854248s\n",
      "epoch # : 713 gamma : 0.5 gen loss : 0.996467649936676\n"
     ]
    },
    {
     "name": "stderr",
     "output_type": "stream",
     "text": [
      " 20%|██        | 5/25 [00:00<00:00, 48.18it/s]"
     ]
    },
    {
     "name": "stdout",
     "output_type": "stream",
     "text": [
      "Total number of generated modes is  22\n",
      "The number of high quality samples among 2500 samples is 234\n",
      "The mode dictionary is Counter({21: 47, 8: 18, 20: 17, 10: 15, 18: 14, 4: 13, 16: 11, 7: 10, 13: 10, 2: 9, 23: 8, 11: 8, 0: 8, 9: 8, 22: 8, 1: 6, 12: 6, 3: 5, 6: 5, 15: 5, 17: 2, 19: 1})\n"
     ]
    },
    {
     "name": "stderr",
     "output_type": "stream",
     "text": [
      "100%|██████████| 25/25 [00:00<00:00, 48.37it/s]\n"
     ]
    },
    {
     "name": "stdout",
     "output_type": "stream",
     "text": [
      "spent time for epoch 714 is 0.5226173400878906s\n",
      "epoch # : 714 gamma : 0.5 gen loss : 1.0080031156539917\n"
     ]
    },
    {
     "name": "stderr",
     "output_type": "stream",
     "text": [
      " 16%|█▌        | 4/25 [00:00<00:00, 39.83it/s]"
     ]
    },
    {
     "name": "stdout",
     "output_type": "stream",
     "text": [
      "Total number of generated modes is  24\n",
      "The number of high quality samples among 2500 samples is 194\n",
      "The mode dictionary is Counter({7: 25, 16: 16, 12: 14, 11: 13, 1: 11, 2: 11, 19: 10, 0: 10, 3: 9, 8: 8, 14: 8, 21: 8, 18: 8, 10: 6, 13: 6, 17: 6, 20: 6, 9: 5, 6: 4, 24: 4, 5: 2, 22: 2, 15: 1, 23: 1})\n"
     ]
    },
    {
     "name": "stderr",
     "output_type": "stream",
     "text": [
      "100%|██████████| 25/25 [00:00<00:00, 47.87it/s]\n"
     ]
    },
    {
     "name": "stdout",
     "output_type": "stream",
     "text": [
      "spent time for epoch 715 is 0.5281968116760254s\n",
      "epoch # : 715 gamma : 0.5 gen loss : 0.9848982691764832\n"
     ]
    },
    {
     "name": "stderr",
     "output_type": "stream",
     "text": [
      " 20%|██        | 5/25 [00:00<00:00, 48.13it/s]"
     ]
    },
    {
     "name": "stdout",
     "output_type": "stream",
     "text": [
      "Total number of generated modes is  25\n",
      "The number of high quality samples among 2500 samples is 293\n",
      "The mode dictionary is Counter({10: 50, 22: 47, 23: 34, 6: 16, 16: 14, 11: 14, 7: 13, 15: 11, 14: 11, 21: 10, 18: 10, 13: 9, 12: 8, 8: 7, 9: 6, 5: 6, 24: 5, 3: 5, 19: 4, 2: 3, 1: 3, 20: 2, 17: 2, 4: 2, 0: 1})\n"
     ]
    },
    {
     "name": "stderr",
     "output_type": "stream",
     "text": [
      "100%|██████████| 25/25 [00:00<00:00, 46.62it/s]\n"
     ]
    },
    {
     "name": "stdout",
     "output_type": "stream",
     "text": [
      "spent time for epoch 716 is 0.542360782623291s\n",
      "epoch # : 716 gamma : 0.5 gen loss : 1.0477370023727417\n"
     ]
    },
    {
     "name": "stderr",
     "output_type": "stream",
     "text": [
      " 20%|██        | 5/25 [00:00<00:00, 48.65it/s]"
     ]
    },
    {
     "name": "stdout",
     "output_type": "stream",
     "text": [
      "Total number of generated modes is  25\n",
      "The number of high quality samples among 2500 samples is 214\n",
      "The mode dictionary is Counter({20: 30, 21: 18, 6: 16, 23: 15, 0: 13, 1: 10, 15: 10, 17: 9, 18: 9, 16: 9, 2: 8, 9: 8, 5: 8, 12: 7, 3: 6, 22: 6, 8: 6, 7: 6, 13: 5, 14: 4, 19: 3, 24: 3, 11: 2, 4: 2, 10: 1})\n"
     ]
    },
    {
     "name": "stderr",
     "output_type": "stream",
     "text": [
      "100%|██████████| 25/25 [00:00<00:00, 47.27it/s]\n"
     ]
    },
    {
     "name": "stdout",
     "output_type": "stream",
     "text": [
      "spent time for epoch 717 is 0.5349311828613281s\n",
      "epoch # : 717 gamma : 0.5 gen loss : 1.0086452960968018\n"
     ]
    },
    {
     "name": "stderr",
     "output_type": "stream",
     "text": [
      " 20%|██        | 5/25 [00:00<00:00, 48.58it/s]"
     ]
    },
    {
     "name": "stdout",
     "output_type": "stream",
     "text": [
      "Total number of generated modes is  23\n",
      "The number of high quality samples among 2500 samples is 227\n",
      "The mode dictionary is Counter({21: 36, 20: 28, 15: 15, 7: 14, 5: 13, 6: 13, 16: 12, 8: 11, 3: 10, 10: 9, 11: 8, 18: 7, 1: 7, 17: 7, 22: 7, 24: 6, 13: 6, 23: 5, 9: 4, 12: 3, 0: 2, 14: 2, 4: 2})\n"
     ]
    },
    {
     "name": "stderr",
     "output_type": "stream",
     "text": [
      "100%|██████████| 25/25 [00:00<00:00, 45.13it/s]\n"
     ]
    },
    {
     "name": "stdout",
     "output_type": "stream",
     "text": [
      "spent time for epoch 718 is 0.5599822998046875s\n",
      "epoch # : 718 gamma : 0.5 gen loss : 0.982666552066803\n"
     ]
    },
    {
     "name": "stderr",
     "output_type": "stream",
     "text": [
      "  4%|▍         | 1/25 [00:00<00:02,  9.45it/s]"
     ]
    },
    {
     "name": "stdout",
     "output_type": "stream",
     "text": [
      "Total number of generated modes is  22\n",
      "The number of high quality samples among 2500 samples is 162\n",
      "The mode dictionary is Counter({15: 23, 10: 23, 16: 18, 17: 14, 5: 13, 12: 10, 18: 7, 20: 7, 23: 7, 21: 7, 11: 6, 6: 6, 1: 4, 8: 4, 14: 3, 13: 3, 4: 2, 3: 1, 19: 1, 9: 1, 0: 1, 22: 1})\n"
     ]
    },
    {
     "name": "stderr",
     "output_type": "stream",
     "text": [
      "100%|██████████| 25/25 [00:00<00:00, 35.80it/s]\n"
     ]
    },
    {
     "name": "stdout",
     "output_type": "stream",
     "text": [
      "spent time for epoch 719 is 0.7039809226989746s\n",
      "epoch # : 719 gamma : 0.5 gen loss : 0.9938181638717651\n"
     ]
    },
    {
     "name": "stderr",
     "output_type": "stream",
     "text": [
      "  4%|▍         | 1/25 [00:00<00:02,  9.45it/s]"
     ]
    },
    {
     "name": "stdout",
     "output_type": "stream",
     "text": [
      "Total number of generated modes is  23\n",
      "The number of high quality samples among 2500 samples is 194\n",
      "The mode dictionary is Counter({17: 26, 15: 21, 7: 17, 3: 12, 8: 11, 1: 11, 18: 10, 11: 9, 6: 9, 0: 8, 2: 8, 16: 7, 12: 7, 20: 6, 22: 6, 5: 6, 10: 5, 23: 4, 13: 3, 24: 3, 19: 3, 14: 1, 9: 1})\n"
     ]
    },
    {
     "name": "stderr",
     "output_type": "stream",
     "text": [
      "100%|██████████| 25/25 [00:00<00:00, 37.42it/s]\n"
     ]
    },
    {
     "name": "stdout",
     "output_type": "stream",
     "text": [
      "spent time for epoch 720 is 0.6753506660461426s\n",
      "epoch # : 720 gamma : 0.5 gen loss : 1.0139724016189575\n"
     ]
    },
    {
     "name": "stderr",
     "output_type": "stream",
     "text": [
      " 20%|██        | 5/25 [00:00<00:00, 46.64it/s]"
     ]
    },
    {
     "name": "stdout",
     "output_type": "stream",
     "text": [
      "Total number of generated modes is  24\n",
      "The number of high quality samples among 2500 samples is 169\n",
      "The mode dictionary is Counter({7: 23, 6: 15, 8: 15, 20: 14, 16: 13, 5: 12, 18: 9, 9: 9, 14: 8, 1: 6, 23: 6, 21: 5, 2: 5, 11: 5, 12: 4, 19: 4, 13: 4, 17: 3, 4: 3, 15: 2, 22: 1, 24: 1, 10: 1, 0: 1})\n"
     ]
    },
    {
     "name": "stderr",
     "output_type": "stream",
     "text": [
      "100%|██████████| 25/25 [00:00<00:00, 38.01it/s]\n"
     ]
    },
    {
     "name": "stdout",
     "output_type": "stream",
     "text": [
      "spent time for epoch 721 is 0.6637616157531738s\n",
      "epoch # : 721 gamma : 0.5 gen loss : 0.9886550903320312\n"
     ]
    },
    {
     "name": "stderr",
     "output_type": "stream",
     "text": [
      "  4%|▍         | 1/25 [00:00<00:02,  9.79it/s]"
     ]
    },
    {
     "name": "stdout",
     "output_type": "stream",
     "text": [
      "Total number of generated modes is  23\n",
      "The number of high quality samples among 2500 samples is 208\n",
      "The mode dictionary is Counter({23: 22, 5: 20, 10: 19, 22: 17, 16: 16, 20: 15, 21: 12, 15: 12, 24: 9, 18: 8, 19: 7, 12: 7, 11: 6, 6: 6, 17: 6, 14: 6, 7: 5, 3: 4, 13: 3, 4: 3, 1: 2, 9: 2, 8: 1})\n"
     ]
    },
    {
     "name": "stderr",
     "output_type": "stream",
     "text": [
      "100%|██████████| 25/25 [00:00<00:00, 46.32it/s]\n"
     ]
    },
    {
     "name": "stdout",
     "output_type": "stream",
     "text": [
      "spent time for epoch 722 is 0.5453064441680908s\n",
      "epoch # : 722 gamma : 0.5 gen loss : 1.0079172849655151\n"
     ]
    },
    {
     "name": "stderr",
     "output_type": "stream",
     "text": [
      "  4%|▍         | 1/25 [00:00<00:03,  7.22it/s]"
     ]
    },
    {
     "name": "stdout",
     "output_type": "stream",
     "text": [
      "Total number of generated modes is  22\n",
      "The number of high quality samples among 2500 samples is 180\n",
      "The mode dictionary is Counter({7: 22, 16: 17, 5: 17, 13: 15, 17: 11, 3: 10, 12: 10, 11: 9, 14: 8, 18: 8, 20: 7, 8: 7, 1: 6, 2: 6, 6: 6, 22: 5, 23: 4, 0: 4, 15: 3, 24: 2, 21: 2, 9: 1})\n"
     ]
    },
    {
     "name": "stderr",
     "output_type": "stream",
     "text": [
      "100%|██████████| 25/25 [00:00<00:00, 42.75it/s]\n"
     ]
    },
    {
     "name": "stdout",
     "output_type": "stream",
     "text": [
      "spent time for epoch 723 is 0.590801477432251s\n",
      "epoch # : 723 gamma : 0.5 gen loss : 1.010968565940857\n"
     ]
    },
    {
     "name": "stderr",
     "output_type": "stream",
     "text": [
      " 20%|██        | 5/25 [00:00<00:00, 48.68it/s]"
     ]
    },
    {
     "name": "stdout",
     "output_type": "stream",
     "text": [
      "Total number of generated modes is  23\n",
      "The number of high quality samples among 2500 samples is 225\n",
      "The mode dictionary is Counter({23: 46, 22: 25, 7: 16, 13: 15, 3: 13, 19: 13, 16: 13, 6: 10, 24: 9, 8: 8, 17: 7, 14: 6, 18: 6, 11: 6, 2: 5, 5: 5, 15: 4, 12: 4, 21: 4, 1: 3, 9: 3, 4: 3, 20: 1})\n"
     ]
    },
    {
     "name": "stderr",
     "output_type": "stream",
     "text": [
      "100%|██████████| 25/25 [00:00<00:00, 41.84it/s]\n"
     ]
    },
    {
     "name": "stdout",
     "output_type": "stream",
     "text": [
      "spent time for epoch 724 is 0.6035888195037842s\n",
      "epoch # : 724 gamma : 0.5 gen loss : 1.041732668876648\n"
     ]
    },
    {
     "name": "stderr",
     "output_type": "stream",
     "text": [
      " 20%|██        | 5/25 [00:00<00:00, 48.77it/s]"
     ]
    },
    {
     "name": "stdout",
     "output_type": "stream",
     "text": [
      "Total number of generated modes is  23\n",
      "The number of high quality samples among 2500 samples is 205\n",
      "The mode dictionary is Counter({5: 40, 7: 19, 16: 17, 13: 11, 15: 11, 17: 11, 23: 9, 20: 9, 0: 9, 21: 8, 18: 7, 1: 7, 6: 7, 8: 7, 12: 6, 11: 5, 3: 5, 2: 4, 24: 3, 9: 3, 10: 3, 22: 3, 14: 1})\n"
     ]
    },
    {
     "name": "stderr",
     "output_type": "stream",
     "text": [
      "100%|██████████| 25/25 [00:00<00:00, 39.97it/s]\n"
     ]
    },
    {
     "name": "stdout",
     "output_type": "stream",
     "text": [
      "spent time for epoch 725 is 0.6311776638031006s\n",
      "epoch # : 725 gamma : 0.5 gen loss : 0.98625248670578\n"
     ]
    },
    {
     "name": "stderr",
     "output_type": "stream",
     "text": [
      "  4%|▍         | 1/25 [00:00<00:02,  8.84it/s]"
     ]
    },
    {
     "name": "stdout",
     "output_type": "stream",
     "text": [
      "Total number of generated modes is  23\n",
      "The number of high quality samples among 2500 samples is 179\n",
      "The mode dictionary is Counter({23: 30, 16: 16, 5: 15, 11: 12, 17: 12, 18: 12, 13: 9, 6: 9, 10: 9, 24: 7, 14: 6, 21: 6, 22: 6, 7: 5, 12: 5, 19: 4, 15: 4, 9: 3, 2: 3, 0: 2, 8: 2, 1: 1, 20: 1})\n"
     ]
    },
    {
     "name": "stderr",
     "output_type": "stream",
     "text": [
      "100%|██████████| 25/25 [00:00<00:00, 39.11it/s]\n"
     ]
    },
    {
     "name": "stdout",
     "output_type": "stream",
     "text": [
      "spent time for epoch 726 is 0.64520263671875s\n",
      "epoch # : 726 gamma : 0.5 gen loss : 1.0398098230361938\n"
     ]
    },
    {
     "name": "stderr",
     "output_type": "stream",
     "text": [
      " 12%|█▏        | 3/25 [00:00<00:00, 29.75it/s]"
     ]
    },
    {
     "name": "stdout",
     "output_type": "stream",
     "text": [
      "Total number of generated modes is  23\n",
      "The number of high quality samples among 2500 samples is 212\n",
      "The mode dictionary is Counter({0: 35, 7: 21, 16: 17, 9: 15, 2: 15, 14: 14, 3: 14, 18: 10, 13: 10, 6: 10, 8: 9, 11: 9, 24: 8, 1: 6, 19: 5, 17: 4, 21: 3, 5: 2, 20: 1, 12: 1, 4: 1, 23: 1, 15: 1})\n"
     ]
    },
    {
     "name": "stderr",
     "output_type": "stream",
     "text": [
      "100%|██████████| 25/25 [00:00<00:00, 44.26it/s]\n"
     ]
    },
    {
     "name": "stdout",
     "output_type": "stream",
     "text": [
      "spent time for epoch 727 is 0.5708374977111816s\n",
      "epoch # : 727 gamma : 0.5 gen loss : 0.993834376335144\n"
     ]
    },
    {
     "name": "stderr",
     "output_type": "stream",
     "text": [
      "  4%|▍         | 1/25 [00:00<00:02,  9.53it/s]"
     ]
    },
    {
     "name": "stdout",
     "output_type": "stream",
     "text": [
      "Total number of generated modes is  25\n",
      "The number of high quality samples among 2500 samples is 199\n",
      "The mode dictionary is Counter({16: 13, 15: 13, 17: 13, 10: 12, 6: 12, 14: 12, 1: 12, 7: 11, 18: 10, 5: 10, 23: 10, 9: 10, 19: 9, 11: 8, 13: 8, 8: 7, 12: 5, 21: 5, 2: 5, 22: 4, 4: 3, 3: 2, 0: 2, 24: 2, 20: 1})\n"
     ]
    },
    {
     "name": "stderr",
     "output_type": "stream",
     "text": [
      "100%|██████████| 25/25 [00:00<00:00, 42.51it/s]\n"
     ]
    },
    {
     "name": "stdout",
     "output_type": "stream",
     "text": [
      "spent time for epoch 728 is 0.5940229892730713s\n",
      "epoch # : 728 gamma : 0.5 gen loss : 1.0309457778930664\n"
     ]
    },
    {
     "name": "stderr",
     "output_type": "stream",
     "text": [
      "  4%|▍         | 1/25 [00:00<00:02,  9.37it/s]"
     ]
    },
    {
     "name": "stdout",
     "output_type": "stream",
     "text": [
      "Total number of generated modes is  24\n",
      "The number of high quality samples among 2500 samples is 203\n",
      "The mode dictionary is Counter({23: 20, 5: 19, 16: 15, 11: 14, 18: 13, 13: 13, 6: 13, 10: 12, 7: 10, 20: 10, 1: 8, 15: 8, 22: 7, 17: 7, 8: 7, 14: 5, 3: 4, 24: 4, 9: 4, 0: 3, 21: 3, 2: 2, 4: 1, 12: 1})\n"
     ]
    },
    {
     "name": "stderr",
     "output_type": "stream",
     "text": [
      "100%|██████████| 25/25 [00:00<00:00, 38.30it/s]\n"
     ]
    },
    {
     "name": "stdout",
     "output_type": "stream",
     "text": [
      "spent time for epoch 729 is 0.6590077877044678s\n",
      "epoch # : 729 gamma : 0.5 gen loss : 1.032642126083374\n"
     ]
    },
    {
     "name": "stderr",
     "output_type": "stream",
     "text": [
      " 20%|██        | 5/25 [00:00<00:00, 48.73it/s]"
     ]
    },
    {
     "name": "stdout",
     "output_type": "stream",
     "text": [
      "Total number of generated modes is  25\n",
      "The number of high quality samples among 2500 samples is 291\n",
      "The mode dictionary is Counter({0: 58, 5: 46, 21: 19, 15: 14, 10: 13, 24: 12, 19: 11, 13: 11, 14: 10, 16: 10, 2: 9, 18: 9, 9: 8, 12: 7, 4: 7, 6: 7, 3: 7, 20: 6, 17: 5, 11: 5, 7: 4, 1: 4, 8: 4, 23: 3, 22: 2})\n"
     ]
    },
    {
     "name": "stderr",
     "output_type": "stream",
     "text": [
      "100%|██████████| 25/25 [00:00<00:00, 47.83it/s]\n"
     ]
    },
    {
     "name": "stdout",
     "output_type": "stream",
     "text": [
      "spent time for epoch 730 is 0.5289475917816162s\n",
      "epoch # : 730 gamma : 0.5 gen loss : 0.9919676184654236\n"
     ]
    },
    {
     "name": "stderr",
     "output_type": "stream",
     "text": [
      " 20%|██        | 5/25 [00:00<00:00, 49.29it/s]"
     ]
    },
    {
     "name": "stdout",
     "output_type": "stream",
     "text": [
      "Total number of generated modes is  25\n",
      "The number of high quality samples among 2500 samples is 195\n",
      "The mode dictionary is Counter({10: 30, 23: 28, 15: 14, 16: 13, 11: 13, 8: 12, 7: 10, 13: 8, 17: 7, 6: 7, 3: 6, 18: 6, 9: 6, 1: 5, 0: 5, 21: 5, 22: 3, 20: 3, 5: 3, 14: 2, 4: 2, 24: 2, 12: 2, 19: 2, 2: 1})\n"
     ]
    },
    {
     "name": "stderr",
     "output_type": "stream",
     "text": [
      "100%|██████████| 25/25 [00:00<00:00, 48.85it/s]\n"
     ]
    },
    {
     "name": "stdout",
     "output_type": "stream",
     "text": [
      "spent time for epoch 731 is 0.5177023410797119s\n",
      "epoch # : 731 gamma : 0.5 gen loss : 1.0093274116516113\n"
     ]
    },
    {
     "name": "stderr",
     "output_type": "stream",
     "text": [
      " 20%|██        | 5/25 [00:00<00:00, 49.42it/s]"
     ]
    },
    {
     "name": "stdout",
     "output_type": "stream",
     "text": [
      "Total number of generated modes is  25\n",
      "The number of high quality samples among 2500 samples is 272\n",
      "The mode dictionary is Counter({23: 46, 21: 43, 22: 17, 17: 17, 24: 15, 5: 14, 6: 12, 10: 11, 16: 10, 15: 9, 13: 9, 11: 9, 2: 7, 1: 7, 4: 6, 14: 6, 18: 6, 19: 5, 9: 4, 3: 4, 20: 4, 12: 3, 8: 3, 0: 3, 7: 2})\n"
     ]
    },
    {
     "name": "stderr",
     "output_type": "stream",
     "text": [
      "100%|██████████| 25/25 [00:00<00:00, 48.88it/s]\n"
     ]
    },
    {
     "name": "stdout",
     "output_type": "stream",
     "text": [
      "spent time for epoch 732 is 0.517465353012085s\n",
      "epoch # : 732 gamma : 0.5 gen loss : 0.9980118870735168\n"
     ]
    },
    {
     "name": "stderr",
     "output_type": "stream",
     "text": [
      " 20%|██        | 5/25 [00:00<00:00, 49.15it/s]"
     ]
    },
    {
     "name": "stdout",
     "output_type": "stream",
     "text": [
      "Total number of generated modes is  25\n",
      "The number of high quality samples among 2500 samples is 190\n",
      "The mode dictionary is Counter({16: 16, 2: 16, 7: 15, 18: 14, 23: 14, 11: 12, 8: 9, 13: 9, 3: 9, 22: 9, 0: 8, 20: 8, 1: 7, 15: 7, 12: 7, 17: 6, 21: 5, 6: 4, 19: 4, 4: 3, 5: 3, 24: 2, 14: 1, 9: 1, 10: 1})\n"
     ]
    },
    {
     "name": "stderr",
     "output_type": "stream",
     "text": [
      "100%|██████████| 25/25 [00:00<00:00, 49.78it/s]\n"
     ]
    },
    {
     "name": "stdout",
     "output_type": "stream",
     "text": [
      "spent time for epoch 733 is 0.5080373287200928s\n",
      "epoch # : 733 gamma : 0.5 gen loss : 0.9985071420669556\n"
     ]
    },
    {
     "name": "stderr",
     "output_type": "stream",
     "text": [
      "  4%|▍         | 1/25 [00:00<00:03,  7.33it/s]"
     ]
    },
    {
     "name": "stdout",
     "output_type": "stream",
     "text": [
      "Total number of generated modes is  25\n",
      "The number of high quality samples among 2500 samples is 211\n",
      "The mode dictionary is Counter({16: 19, 17: 14, 14: 13, 5: 12, 10: 12, 7: 12, 8: 11, 0: 11, 4: 10, 2: 10, 13: 10, 9: 9, 1: 9, 12: 8, 11: 7, 18: 7, 22: 7, 15: 6, 20: 6, 23: 5, 21: 5, 6: 4, 3: 2, 19: 1, 24: 1})\n"
     ]
    },
    {
     "name": "stderr",
     "output_type": "stream",
     "text": [
      "100%|██████████| 25/25 [00:00<00:00, 44.00it/s]\n"
     ]
    },
    {
     "name": "stdout",
     "output_type": "stream",
     "text": [
      "spent time for epoch 734 is 0.5737171173095703s\n",
      "epoch # : 734 gamma : 0.5 gen loss : 0.979553759098053\n"
     ]
    },
    {
     "name": "stderr",
     "output_type": "stream",
     "text": [
      " 20%|██        | 5/25 [00:00<00:00, 48.84it/s]"
     ]
    },
    {
     "name": "stdout",
     "output_type": "stream",
     "text": [
      "Total number of generated modes is  23\n",
      "The number of high quality samples among 2500 samples is 319\n",
      "The mode dictionary is Counter({5: 51, 22: 42, 23: 38, 7: 18, 15: 16, 12: 15, 17: 14, 18: 13, 24: 12, 3: 12, 16: 11, 6: 9, 20: 9, 0: 9, 14: 8, 13: 8, 19: 7, 1: 6, 2: 6, 8: 5, 11: 5, 21: 3, 9: 2})\n"
     ]
    },
    {
     "name": "stderr",
     "output_type": "stream",
     "text": [
      "100%|██████████| 25/25 [00:00<00:00, 49.17it/s]\n"
     ]
    },
    {
     "name": "stdout",
     "output_type": "stream",
     "text": [
      "spent time for epoch 735 is 0.51438307762146s\n",
      "epoch # : 735 gamma : 0.5 gen loss : 0.9993058443069458\n"
     ]
    },
    {
     "name": "stderr",
     "output_type": "stream",
     "text": [
      " 20%|██        | 5/25 [00:00<00:00, 49.02it/s]"
     ]
    },
    {
     "name": "stdout",
     "output_type": "stream",
     "text": [
      "Total number of generated modes is  25\n",
      "The number of high quality samples among 2500 samples is 224\n",
      "The mode dictionary is Counter({5: 32, 16: 18, 15: 18, 24: 17, 11: 12, 7: 12, 8: 11, 9: 11, 18: 10, 12: 10, 6: 9, 14: 9, 0: 8, 19: 7, 10: 6, 17: 6, 13: 5, 2: 5, 23: 5, 3: 4, 20: 4, 1: 2, 21: 1, 4: 1, 22: 1})\n"
     ]
    },
    {
     "name": "stderr",
     "output_type": "stream",
     "text": [
      "100%|██████████| 25/25 [00:00<00:00, 49.14it/s]\n"
     ]
    },
    {
     "name": "stdout",
     "output_type": "stream",
     "text": [
      "spent time for epoch 736 is 0.5145292282104492s\n",
      "epoch # : 736 gamma : 0.5 gen loss : 1.025231957435608\n"
     ]
    },
    {
     "name": "stderr",
     "output_type": "stream",
     "text": [
      " 20%|██        | 5/25 [00:00<00:00, 49.09it/s]"
     ]
    },
    {
     "name": "stdout",
     "output_type": "stream",
     "text": [
      "Total number of generated modes is  25\n",
      "The number of high quality samples among 2500 samples is 214\n",
      "The mode dictionary is Counter({23: 31, 0: 27, 16: 20, 7: 12, 8: 11, 1: 10, 15: 10, 2: 9, 18: 9, 6: 8, 19: 7, 21: 6, 14: 6, 10: 6, 11: 6, 22: 6, 3: 6, 20: 5, 24: 4, 9: 4, 13: 3, 4: 3, 17: 3, 12: 1, 5: 1})\n"
     ]
    },
    {
     "name": "stderr",
     "output_type": "stream",
     "text": [
      "100%|██████████| 25/25 [00:00<00:00, 48.36it/s]\n"
     ]
    },
    {
     "name": "stdout",
     "output_type": "stream",
     "text": [
      "spent time for epoch 737 is 0.52290940284729s\n",
      "epoch # : 737 gamma : 0.5 gen loss : 0.9470278024673462\n"
     ]
    },
    {
     "name": "stderr",
     "output_type": "stream",
     "text": [
      "  4%|▍         | 1/25 [00:00<00:02,  9.56it/s]"
     ]
    },
    {
     "name": "stdout",
     "output_type": "stream",
     "text": [
      "Total number of generated modes is  24\n",
      "The number of high quality samples among 2500 samples is 213\n",
      "The mode dictionary is Counter({5: 45, 17: 20, 10: 15, 15: 13, 12: 12, 22: 11, 1: 11, 20: 11, 3: 10, 16: 9, 6: 9, 18: 8, 11: 8, 2: 7, 23: 4, 13: 3, 4: 3, 7: 3, 0: 2, 21: 2, 14: 2, 24: 2, 8: 2, 9: 1})\n"
     ]
    },
    {
     "name": "stderr",
     "output_type": "stream",
     "text": [
      "100%|██████████| 25/25 [00:00<00:00, 37.92it/s]\n"
     ]
    },
    {
     "name": "stdout",
     "output_type": "stream",
     "text": [
      "spent time for epoch 738 is 0.6656551361083984s\n",
      "epoch # : 738 gamma : 0.5 gen loss : 1.0242269039154053\n"
     ]
    },
    {
     "name": "stderr",
     "output_type": "stream",
     "text": [
      "  4%|▍         | 1/25 [00:00<00:02,  9.50it/s]"
     ]
    },
    {
     "name": "stdout",
     "output_type": "stream",
     "text": [
      "Total number of generated modes is  25\n",
      "The number of high quality samples among 2500 samples is 219\n",
      "The mode dictionary is Counter({22: 26, 23: 25, 16: 16, 20: 16, 7: 12, 24: 12, 12: 11, 19: 10, 9: 9, 11: 9, 15: 8, 10: 7, 13: 7, 21: 7, 18: 7, 8: 6, 17: 5, 5: 5, 4: 5, 1: 4, 2: 3, 14: 3, 6: 3, 0: 2, 3: 1})\n"
     ]
    },
    {
     "name": "stderr",
     "output_type": "stream",
     "text": [
      "100%|██████████| 25/25 [00:00<00:00, 37.61it/s]\n"
     ]
    },
    {
     "name": "stdout",
     "output_type": "stream",
     "text": [
      "spent time for epoch 739 is 0.6703486442565918s\n",
      "epoch # : 739 gamma : 0.5 gen loss : 1.0091397762298584\n"
     ]
    },
    {
     "name": "stderr",
     "output_type": "stream",
     "text": [
      " 20%|██        | 5/25 [00:00<00:00, 47.57it/s]"
     ]
    },
    {
     "name": "stdout",
     "output_type": "stream",
     "text": [
      "Total number of generated modes is  24\n",
      "The number of high quality samples among 2500 samples is 248\n",
      "The mode dictionary is Counter({5: 70, 0: 35, 13: 13, 3: 13, 20: 12, 1: 12, 16: 11, 11: 11, 2: 10, 7: 8, 6: 8, 21: 7, 4: 7, 15: 6, 8: 5, 12: 4, 17: 4, 18: 3, 22: 2, 10: 2, 23: 2, 24: 1, 14: 1, 19: 1})\n"
     ]
    },
    {
     "name": "stderr",
     "output_type": "stream",
     "text": [
      "100%|██████████| 25/25 [00:00<00:00, 46.38it/s]\n"
     ]
    },
    {
     "name": "stdout",
     "output_type": "stream",
     "text": [
      "spent time for epoch 740 is 0.5450420379638672s\n",
      "epoch # : 740 gamma : 0.5 gen loss : 0.9787522554397583\n"
     ]
    },
    {
     "name": "stderr",
     "output_type": "stream",
     "text": [
      " 20%|██        | 5/25 [00:00<00:00, 49.18it/s]"
     ]
    },
    {
     "name": "stdout",
     "output_type": "stream",
     "text": [
      "Total number of generated modes is  25\n",
      "The number of high quality samples among 2500 samples is 254\n",
      "The mode dictionary is Counter({5: 31, 4: 21, 15: 20, 23: 18, 2: 15, 16: 13, 22: 13, 13: 12, 10: 11, 6: 10, 9: 9, 7: 9, 8: 8, 18: 8, 21: 7, 14: 7, 20: 7, 11: 6, 3: 6, 0: 5, 17: 5, 1: 5, 24: 4, 19: 3, 12: 1})\n"
     ]
    },
    {
     "name": "stderr",
     "output_type": "stream",
     "text": [
      "100%|██████████| 25/25 [00:00<00:00, 38.17it/s]\n"
     ]
    },
    {
     "name": "stdout",
     "output_type": "stream",
     "text": [
      "spent time for epoch 741 is 0.6612546443939209s\n",
      "epoch # : 741 gamma : 0.5 gen loss : 0.9760175943374634\n"
     ]
    },
    {
     "name": "stderr",
     "output_type": "stream",
     "text": [
      " 20%|██        | 5/25 [00:00<00:00, 49.40it/s]"
     ]
    },
    {
     "name": "stdout",
     "output_type": "stream",
     "text": [
      "Total number of generated modes is  25\n",
      "The number of high quality samples among 2500 samples is 198\n",
      "The mode dictionary is Counter({15: 17, 8: 15, 16: 14, 6: 11, 7: 11, 2: 10, 17: 10, 13: 10, 3: 10, 23: 9, 20: 9, 19: 8, 9: 8, 11: 8, 1: 8, 0: 8, 14: 7, 18: 6, 12: 4, 21: 4, 22: 4, 10: 3, 4: 2, 24: 1, 5: 1})\n"
     ]
    },
    {
     "name": "stderr",
     "output_type": "stream",
     "text": [
      "100%|██████████| 25/25 [00:00<00:00, 48.68it/s]\n"
     ]
    },
    {
     "name": "stdout",
     "output_type": "stream",
     "text": [
      "spent time for epoch 742 is 0.5196425914764404s\n",
      "epoch # : 742 gamma : 0.5 gen loss : 0.9530239701271057\n"
     ]
    },
    {
     "name": "stderr",
     "output_type": "stream",
     "text": [
      "  4%|▍         | 1/25 [00:00<00:02,  9.65it/s]"
     ]
    },
    {
     "name": "stdout",
     "output_type": "stream",
     "text": [
      "Total number of generated modes is  24\n",
      "The number of high quality samples among 2500 samples is 241\n",
      "The mode dictionary is Counter({23: 39, 5: 30, 7: 18, 16: 18, 13: 15, 8: 14, 24: 12, 18: 11, 19: 11, 6: 9, 2: 7, 15: 7, 3: 7, 11: 6, 9: 6, 14: 6, 22: 5, 17: 4, 0: 4, 21: 3, 1: 3, 20: 3, 12: 2, 10: 1})\n"
     ]
    },
    {
     "name": "stderr",
     "output_type": "stream",
     "text": [
      "100%|██████████| 25/25 [00:00<00:00, 36.17it/s]\n"
     ]
    },
    {
     "name": "stdout",
     "output_type": "stream",
     "text": [
      "spent time for epoch 743 is 0.6968672275543213s\n",
      "epoch # : 743 gamma : 0.5 gen loss : 1.0067100524902344\n"
     ]
    },
    {
     "name": "stderr",
     "output_type": "stream",
     "text": [
      "  4%|▍         | 1/25 [00:00<00:02,  9.69it/s]"
     ]
    },
    {
     "name": "stdout",
     "output_type": "stream",
     "text": [
      "Total number of generated modes is  23\n",
      "The number of high quality samples among 2500 samples is 224\n",
      "The mode dictionary is Counter({20: 45, 21: 33, 0: 20, 16: 15, 15: 11, 2: 11, 13: 11, 8: 10, 7: 10, 3: 8, 6: 8, 11: 8, 5: 7, 4: 5, 1: 5, 18: 4, 12: 4, 10: 2, 17: 2, 19: 2, 22: 1, 9: 1, 14: 1})\n"
     ]
    },
    {
     "name": "stderr",
     "output_type": "stream",
     "text": [
      "100%|██████████| 25/25 [00:00<00:00, 36.71it/s]\n"
     ]
    },
    {
     "name": "stdout",
     "output_type": "stream",
     "text": [
      "spent time for epoch 744 is 0.6867105960845947s\n",
      "epoch # : 744 gamma : 0.5 gen loss : 1.0122541189193726\n"
     ]
    },
    {
     "name": "stderr",
     "output_type": "stream",
     "text": [
      "  4%|▍         | 1/25 [00:00<00:03,  6.05it/s]"
     ]
    },
    {
     "name": "stdout",
     "output_type": "stream",
     "text": [
      "Total number of generated modes is  23\n",
      "The number of high quality samples among 2500 samples is 209\n",
      "The mode dictionary is Counter({23: 32, 22: 18, 24: 17, 9: 14, 6: 14, 1: 14, 8: 12, 11: 11, 7: 11, 0: 10, 16: 8, 2: 7, 3: 7, 13: 7, 18: 6, 14: 5, 17: 4, 12: 4, 21: 2, 19: 2, 5: 2, 10: 1, 15: 1})\n"
     ]
    },
    {
     "name": "stderr",
     "output_type": "stream",
     "text": [
      "100%|██████████| 25/25 [00:00<00:00, 32.92it/s]\n"
     ]
    },
    {
     "name": "stdout",
     "output_type": "stream",
     "text": [
      "spent time for epoch 745 is 0.765493631362915s\n",
      "epoch # : 745 gamma : 0.5 gen loss : 1.0251914262771606\n"
     ]
    },
    {
     "name": "stderr",
     "output_type": "stream",
     "text": [
      "  4%|▍         | 1/25 [00:00<00:02,  9.13it/s]"
     ]
    },
    {
     "name": "stdout",
     "output_type": "stream",
     "text": [
      "Total number of generated modes is  25\n",
      "The number of high quality samples among 2500 samples is 233\n",
      "The mode dictionary is Counter({5: 22, 8: 19, 7: 17, 16: 15, 2: 14, 11: 13, 4: 12, 1: 12, 20: 12, 3: 11, 13: 9, 9: 9, 6: 9, 23: 8, 15: 8, 12: 6, 18: 6, 21: 6, 17: 6, 14: 5, 0: 5, 10: 3, 24: 2, 22: 2, 19: 2})\n"
     ]
    },
    {
     "name": "stderr",
     "output_type": "stream",
     "text": [
      "100%|██████████| 25/25 [00:00<00:00, 38.77it/s]\n"
     ]
    },
    {
     "name": "stdout",
     "output_type": "stream",
     "text": [
      "spent time for epoch 746 is 0.6507036685943604s\n",
      "epoch # : 746 gamma : 0.5 gen loss : 1.0144658088684082\n"
     ]
    },
    {
     "name": "stderr",
     "output_type": "stream",
     "text": [
      " 20%|██        | 5/25 [00:00<00:00, 46.96it/s]"
     ]
    },
    {
     "name": "stdout",
     "output_type": "stream",
     "text": [
      "Total number of generated modes is  25\n",
      "The number of high quality samples among 2500 samples is 244\n",
      "The mode dictionary is Counter({4: 21, 7: 19, 3: 17, 20: 17, 13: 15, 6: 12, 8: 12, 5: 11, 15: 11, 14: 10, 19: 10, 16: 10, 2: 9, 9: 9, 1: 8, 17: 8, 10: 8, 12: 7, 24: 6, 21: 6, 22: 5, 18: 5, 11: 5, 0: 2, 23: 1})\n"
     ]
    },
    {
     "name": "stderr",
     "output_type": "stream",
     "text": [
      "100%|██████████| 25/25 [00:00<00:00, 37.15it/s]\n"
     ]
    },
    {
     "name": "stdout",
     "output_type": "stream",
     "text": [
      "spent time for epoch 747 is 0.6790194511413574s\n",
      "epoch # : 747 gamma : 0.5 gen loss : 0.9939510226249695\n"
     ]
    },
    {
     "name": "stderr",
     "output_type": "stream",
     "text": [
      "  8%|▊         | 2/25 [00:00<00:01, 19.83it/s]"
     ]
    },
    {
     "name": "stdout",
     "output_type": "stream",
     "text": [
      "Total number of generated modes is  24\n",
      "The number of high quality samples among 2500 samples is 216\n",
      "The mode dictionary is Counter({10: 26, 5: 19, 7: 17, 16: 15, 17: 14, 11: 14, 15: 10, 0: 9, 1: 9, 13: 8, 2: 8, 23: 8, 18: 7, 9: 7, 20: 6, 22: 6, 12: 6, 8: 6, 3: 5, 14: 5, 6: 5, 21: 3, 19: 2, 4: 1})\n"
     ]
    },
    {
     "name": "stderr",
     "output_type": "stream",
     "text": [
      "100%|██████████| 25/25 [00:00<00:00, 46.91it/s]\n"
     ]
    },
    {
     "name": "stdout",
     "output_type": "stream",
     "text": [
      "spent time for epoch 748 is 0.538844108581543s\n",
      "epoch # : 748 gamma : 0.5 gen loss : 0.985289454460144\n"
     ]
    },
    {
     "name": "stderr",
     "output_type": "stream",
     "text": [
      " 16%|█▌        | 4/25 [00:00<00:00, 38.01it/s]"
     ]
    },
    {
     "name": "stdout",
     "output_type": "stream",
     "text": [
      "Total number of generated modes is  25\n",
      "The number of high quality samples among 2500 samples is 309\n",
      "The mode dictionary is Counter({23: 34, 22: 28, 5: 24, 16: 22, 7: 20, 19: 19, 14: 17, 8: 14, 20: 13, 4: 12, 13: 12, 9: 11, 6: 10, 21: 10, 17: 10, 24: 9, 18: 8, 11: 7, 1: 6, 3: 5, 2: 5, 10: 4, 12: 3, 15: 3, 0: 3})\n"
     ]
    },
    {
     "name": "stderr",
     "output_type": "stream",
     "text": [
      "100%|██████████| 25/25 [00:00<00:00, 47.57it/s]\n"
     ]
    },
    {
     "name": "stdout",
     "output_type": "stream",
     "text": [
      "spent time for epoch 749 is 0.5314419269561768s\n",
      "epoch # : 749 gamma : 0.5 gen loss : 0.9973156452178955\n"
     ]
    },
    {
     "name": "stderr",
     "output_type": "stream",
     "text": [
      " 20%|██        | 5/25 [00:00<00:00, 49.20it/s]"
     ]
    },
    {
     "name": "stdout",
     "output_type": "stream",
     "text": [
      "Total number of generated modes is  25\n",
      "The number of high quality samples among 2500 samples is 194\n",
      "The mode dictionary is Counter({7: 23, 20: 20, 15: 15, 10: 14, 21: 12, 18: 11, 5: 11, 6: 11, 8: 10, 3: 10, 11: 9, 13: 9, 16: 8, 17: 5, 1: 5, 12: 4, 2: 3, 0: 3, 4: 2, 23: 2, 22: 2, 14: 2, 9: 1, 24: 1, 19: 1})\n"
     ]
    },
    {
     "name": "stderr",
     "output_type": "stream",
     "text": [
      "100%|██████████| 25/25 [00:00<00:00, 48.90it/s]\n"
     ]
    },
    {
     "name": "stdout",
     "output_type": "stream",
     "text": [
      "spent time for epoch 750 is 0.5170228481292725s\n",
      "epoch # : 750 gamma : 0.5 gen loss : 0.9890914559364319\n"
     ]
    },
    {
     "name": "stderr",
     "output_type": "stream",
     "text": [
      " 20%|██        | 5/25 [00:00<00:00, 48.95it/s]"
     ]
    },
    {
     "name": "stdout",
     "output_type": "stream",
     "text": [
      "Total number of generated modes is  25\n",
      "The number of high quality samples among 2500 samples is 314\n",
      "The mode dictionary is Counter({5: 52, 10: 33, 23: 32, 7: 18, 22: 17, 16: 16, 6: 15, 18: 14, 11: 13, 15: 13, 24: 11, 14: 10, 21: 9, 13: 7, 8: 7, 0: 7, 9: 7, 1: 6, 20: 6, 17: 5, 3: 5, 12: 5, 19: 4, 4: 1, 2: 1})\n"
     ]
    },
    {
     "name": "stderr",
     "output_type": "stream",
     "text": [
      "100%|██████████| 25/25 [00:00<00:00, 48.40it/s]\n"
     ]
    },
    {
     "name": "stdout",
     "output_type": "stream",
     "text": [
      "spent time for epoch 751 is 0.523613691329956s\n",
      "epoch # : 751 gamma : 0.5 gen loss : 1.0132626295089722\n"
     ]
    },
    {
     "name": "stderr",
     "output_type": "stream",
     "text": [
      " 20%|██        | 5/25 [00:00<00:00, 48.36it/s]"
     ]
    },
    {
     "name": "stdout",
     "output_type": "stream",
     "text": [
      "Total number of generated modes is  22\n",
      "The number of high quality samples among 2500 samples is 254\n",
      "The mode dictionary is Counter({20: 38, 21: 37, 5: 31, 7: 16, 15: 15, 8: 14, 6: 14, 18: 14, 16: 10, 10: 9, 11: 8, 3: 7, 13: 7, 0: 6, 2: 6, 17: 5, 9: 5, 1: 5, 22: 3, 12: 2, 14: 1, 24: 1})\n"
     ]
    },
    {
     "name": "stderr",
     "output_type": "stream",
     "text": [
      "100%|██████████| 25/25 [00:00<00:00, 48.85it/s]\n"
     ]
    },
    {
     "name": "stdout",
     "output_type": "stream",
     "text": [
      "spent time for epoch 752 is 0.5177438259124756s\n",
      "epoch # : 752 gamma : 0.5 gen loss : 0.9814582467079163\n"
     ]
    },
    {
     "name": "stderr",
     "output_type": "stream",
     "text": [
      " 20%|██        | 5/25 [00:00<00:00, 48.53it/s]"
     ]
    },
    {
     "name": "stdout",
     "output_type": "stream",
     "text": [
      "Total number of generated modes is  22\n",
      "The number of high quality samples among 2500 samples is 176\n",
      "The mode dictionary is Counter({7: 19, 6: 15, 5: 15, 16: 12, 15: 12, 8: 11, 19: 11, 18: 9, 10: 8, 17: 8, 21: 8, 14: 7, 9: 7, 13: 6, 20: 6, 24: 6, 11: 5, 3: 4, 23: 3, 1: 2, 4: 1, 0: 1})\n"
     ]
    },
    {
     "name": "stderr",
     "output_type": "stream",
     "text": [
      "100%|██████████| 25/25 [00:00<00:00, 48.31it/s]\n"
     ]
    },
    {
     "name": "stdout",
     "output_type": "stream",
     "text": [
      "spent time for epoch 753 is 0.5235445499420166s\n",
      "epoch # : 753 gamma : 0.5 gen loss : 1.0383036136627197\n"
     ]
    },
    {
     "name": "stderr",
     "output_type": "stream",
     "text": [
      " 20%|██        | 5/25 [00:00<00:00, 48.94it/s]"
     ]
    },
    {
     "name": "stdout",
     "output_type": "stream",
     "text": [
      "Total number of generated modes is  24\n",
      "The number of high quality samples among 2500 samples is 242\n",
      "The mode dictionary is Counter({7: 24, 20: 23, 5: 21, 15: 20, 3: 16, 16: 16, 10: 13, 13: 11, 1: 11, 0: 10, 8: 10, 6: 10, 18: 9, 2: 9, 17: 8, 4: 6, 21: 5, 11: 4, 12: 3, 23: 3, 22: 3, 24: 3, 14: 3, 19: 1})\n"
     ]
    },
    {
     "name": "stderr",
     "output_type": "stream",
     "text": [
      "100%|██████████| 25/25 [00:00<00:00, 48.64it/s]\n"
     ]
    },
    {
     "name": "stdout",
     "output_type": "stream",
     "text": [
      "spent time for epoch 754 is 0.5200471878051758s\n",
      "epoch # : 754 gamma : 0.5 gen loss : 1.004591703414917\n"
     ]
    },
    {
     "name": "stderr",
     "output_type": "stream",
     "text": [
      " 20%|██        | 5/25 [00:00<00:00, 49.25it/s]"
     ]
    },
    {
     "name": "stdout",
     "output_type": "stream",
     "text": [
      "Total number of generated modes is  23\n",
      "The number of high quality samples among 2500 samples is 186\n",
      "The mode dictionary is Counter({7: 27, 8: 16, 23: 12, 24: 12, 11: 11, 13: 11, 21: 11, 6: 9, 18: 9, 5: 9, 16: 8, 10: 7, 9: 6, 19: 6, 17: 6, 1: 4, 3: 4, 22: 4, 2: 4, 12: 3, 14: 3, 0: 3, 4: 1})\n"
     ]
    },
    {
     "name": "stderr",
     "output_type": "stream",
     "text": [
      "100%|██████████| 25/25 [00:00<00:00, 47.36it/s]\n"
     ]
    },
    {
     "name": "stdout",
     "output_type": "stream",
     "text": [
      "spent time for epoch 755 is 0.5336794853210449s\n",
      "epoch # : 755 gamma : 0.5 gen loss : 1.0119589567184448\n"
     ]
    },
    {
     "name": "stderr",
     "output_type": "stream",
     "text": [
      "  4%|▍         | 1/25 [00:00<00:03,  7.29it/s]"
     ]
    },
    {
     "name": "stdout",
     "output_type": "stream",
     "text": [
      "Total number of generated modes is  24\n",
      "The number of high quality samples among 2500 samples is 191\n",
      "The mode dictionary is Counter({7: 22, 16: 18, 15: 16, 3: 14, 6: 13, 1: 12, 18: 11, 8: 10, 2: 8, 17: 8, 11: 8, 13: 8, 21: 7, 10: 6, 20: 5, 23: 4, 14: 4, 4: 3, 24: 3, 0: 3, 12: 3, 9: 2, 5: 2, 19: 1})\n"
     ]
    },
    {
     "name": "stderr",
     "output_type": "stream",
     "text": [
      "100%|██████████| 25/25 [00:00<00:00, 43.86it/s]\n"
     ]
    },
    {
     "name": "stdout",
     "output_type": "stream",
     "text": [
      "spent time for epoch 756 is 0.5758206844329834s\n",
      "epoch # : 756 gamma : 0.5 gen loss : 0.9823411107063293\n"
     ]
    },
    {
     "name": "stderr",
     "output_type": "stream",
     "text": [
      " 20%|██        | 5/25 [00:00<00:00, 48.33it/s]"
     ]
    },
    {
     "name": "stdout",
     "output_type": "stream",
     "text": [
      "Total number of generated modes is  23\n",
      "The number of high quality samples among 2500 samples is 170\n",
      "The mode dictionary is Counter({16: 19, 5: 17, 22: 15, 21: 13, 18: 13, 8: 9, 6: 8, 24: 8, 2: 8, 23: 8, 11: 7, 19: 6, 7: 6, 3: 5, 14: 5, 13: 4, 20: 4, 1: 4, 9: 3, 17: 3, 15: 2, 12: 2, 10: 1})\n"
     ]
    },
    {
     "name": "stderr",
     "output_type": "stream",
     "text": [
      "100%|██████████| 25/25 [00:00<00:00, 47.33it/s]\n"
     ]
    },
    {
     "name": "stdout",
     "output_type": "stream",
     "text": [
      "spent time for epoch 757 is 0.5339925289154053s\n",
      "epoch # : 757 gamma : 0.5 gen loss : 1.0423778295516968\n"
     ]
    },
    {
     "name": "stderr",
     "output_type": "stream",
     "text": [
      " 20%|██        | 5/25 [00:00<00:00, 48.68it/s]"
     ]
    },
    {
     "name": "stdout",
     "output_type": "stream",
     "text": [
      "Total number of generated modes is  24\n",
      "The number of high quality samples among 2500 samples is 202\n",
      "The mode dictionary is Counter({16: 25, 10: 19, 0: 17, 7: 15, 6: 15, 15: 12, 18: 12, 11: 11, 8: 11, 22: 10, 21: 9, 1: 6, 3: 5, 5: 5, 12: 5, 13: 5, 2: 4, 23: 4, 20: 4, 17: 3, 9: 2, 14: 1, 4: 1, 24: 1})\n"
     ]
    },
    {
     "name": "stderr",
     "output_type": "stream",
     "text": [
      "100%|██████████| 25/25 [00:00<00:00, 47.24it/s]\n"
     ]
    },
    {
     "name": "stdout",
     "output_type": "stream",
     "text": [
      "spent time for epoch 758 is 0.5351636409759521s\n",
      "epoch # : 758 gamma : 0.5 gen loss : 1.0273317098617554\n"
     ]
    },
    {
     "name": "stderr",
     "output_type": "stream",
     "text": [
      " 20%|██        | 5/25 [00:00<00:00, 47.77it/s]"
     ]
    },
    {
     "name": "stdout",
     "output_type": "stream",
     "text": [
      "Total number of generated modes is  25\n",
      "The number of high quality samples among 2500 samples is 284\n",
      "The mode dictionary is Counter({5: 38, 17: 23, 15: 21, 14: 16, 16: 16, 7: 14, 22: 13, 4: 12, 9: 11, 10: 11, 3: 10, 19: 10, 20: 10, 8: 10, 24: 10, 6: 8, 11: 8, 12: 7, 18: 7, 21: 6, 2: 6, 13: 6, 23: 5, 0: 3, 1: 3})\n"
     ]
    },
    {
     "name": "stderr",
     "output_type": "stream",
     "text": [
      "100%|██████████| 25/25 [00:00<00:00, 47.84it/s]\n"
     ]
    },
    {
     "name": "stdout",
     "output_type": "stream",
     "text": [
      "spent time for epoch 759 is 0.5285143852233887s\n",
      "epoch # : 759 gamma : 0.5 gen loss : 1.0118999481201172\n"
     ]
    },
    {
     "name": "stderr",
     "output_type": "stream",
     "text": [
      " 16%|█▌        | 4/25 [00:00<00:00, 39.31it/s]"
     ]
    },
    {
     "name": "stdout",
     "output_type": "stream",
     "text": [
      "Total number of generated modes is  25\n",
      "The number of high quality samples among 2500 samples is 262\n",
      "The mode dictionary is Counter({5: 34, 7: 22, 8: 21, 6: 17, 24: 16, 19: 14, 16: 12, 18: 12, 11: 11, 2: 11, 14: 11, 0: 10, 17: 9, 1: 9, 9: 8, 15: 7, 22: 6, 23: 6, 12: 6, 3: 5, 4: 3, 20: 3, 21: 3, 13: 3, 10: 3})\n"
     ]
    },
    {
     "name": "stderr",
     "output_type": "stream",
     "text": [
      "100%|██████████| 25/25 [00:00<00:00, 47.36it/s]\n"
     ]
    },
    {
     "name": "stdout",
     "output_type": "stream",
     "text": [
      "spent time for epoch 760 is 0.5334432125091553s\n",
      "epoch # : 760 gamma : 0.5 gen loss : 1.0192666053771973\n"
     ]
    },
    {
     "name": "stderr",
     "output_type": "stream",
     "text": [
      " 20%|██        | 5/25 [00:00<00:00, 48.98it/s]"
     ]
    },
    {
     "name": "stdout",
     "output_type": "stream",
     "text": [
      "Total number of generated modes is  25\n",
      "The number of high quality samples among 2500 samples is 272\n",
      "The mode dictionary is Counter({23: 30, 22: 25, 10: 23, 20: 22, 15: 19, 17: 17, 1: 14, 16: 13, 3: 11, 11: 11, 7: 11, 18: 10, 6: 10, 0: 9, 24: 8, 12: 7, 2: 7, 13: 7, 4: 5, 8: 4, 14: 3, 5: 2, 21: 2, 9: 1, 19: 1})\n"
     ]
    },
    {
     "name": "stderr",
     "output_type": "stream",
     "text": [
      "100%|██████████| 25/25 [00:00<00:00, 48.71it/s]\n"
     ]
    },
    {
     "name": "stdout",
     "output_type": "stream",
     "text": [
      "spent time for epoch 761 is 0.5192708969116211s\n",
      "epoch # : 761 gamma : 0.5 gen loss : 1.0358624458312988\n"
     ]
    },
    {
     "name": "stderr",
     "output_type": "stream",
     "text": [
      " 20%|██        | 5/25 [00:00<00:00, 49.27it/s]"
     ]
    },
    {
     "name": "stdout",
     "output_type": "stream",
     "text": [
      "Total number of generated modes is  24\n",
      "The number of high quality samples among 2500 samples is 259\n",
      "The mode dictionary is Counter({21: 48, 16: 22, 7: 19, 6: 16, 8: 15, 3: 15, 4: 14, 2: 14, 1: 12, 24: 11, 20: 8, 11: 8, 19: 7, 17: 7, 23: 6, 0: 6, 18: 5, 14: 5, 12: 5, 9: 4, 22: 4, 13: 4, 5: 3, 10: 1})\n"
     ]
    },
    {
     "name": "stderr",
     "output_type": "stream",
     "text": [
      "100%|██████████| 25/25 [00:00<00:00, 48.83it/s]\n"
     ]
    },
    {
     "name": "stdout",
     "output_type": "stream",
     "text": [
      "spent time for epoch 762 is 0.5176010131835938s\n",
      "epoch # : 762 gamma : 0.5 gen loss : 0.9643389582633972\n"
     ]
    },
    {
     "name": "stderr",
     "output_type": "stream",
     "text": [
      " 20%|██        | 5/25 [00:00<00:00, 49.38it/s]"
     ]
    },
    {
     "name": "stdout",
     "output_type": "stream",
     "text": [
      "Total number of generated modes is  24\n",
      "The number of high quality samples among 2500 samples is 187\n",
      "The mode dictionary is Counter({19: 17, 7: 17, 24: 14, 8: 13, 6: 12, 23: 10, 14: 10, 12: 10, 18: 9, 16: 9, 15: 8, 21: 8, 3: 7, 17: 6, 5: 6, 1: 6, 11: 5, 13: 5, 20: 5, 22: 2, 0: 2, 2: 2, 10: 2, 4: 2})\n"
     ]
    },
    {
     "name": "stderr",
     "output_type": "stream",
     "text": [
      "100%|██████████| 25/25 [00:00<00:00, 48.69it/s]\n"
     ]
    },
    {
     "name": "stdout",
     "output_type": "stream",
     "text": [
      "spent time for epoch 763 is 0.5194656848907471s\n",
      "epoch # : 763 gamma : 0.5 gen loss : 1.0310794115066528\n"
     ]
    },
    {
     "name": "stderr",
     "output_type": "stream",
     "text": [
      " 20%|██        | 5/25 [00:00<00:00, 48.75it/s]"
     ]
    },
    {
     "name": "stdout",
     "output_type": "stream",
     "text": [
      "Total number of generated modes is  24\n",
      "The number of high quality samples among 2500 samples is 215\n",
      "The mode dictionary is Counter({5: 34, 15: 20, 10: 19, 7: 19, 23: 13, 22: 13, 17: 11, 11: 11, 8: 11, 13: 9, 12: 8, 18: 8, 6: 7, 16: 7, 20: 5, 2: 5, 9: 4, 3: 3, 14: 2, 1: 2, 4: 1, 21: 1, 0: 1, 24: 1})\n"
     ]
    },
    {
     "name": "stderr",
     "output_type": "stream",
     "text": [
      "100%|██████████| 25/25 [00:00<00:00, 48.74it/s]\n"
     ]
    },
    {
     "name": "stdout",
     "output_type": "stream",
     "text": [
      "spent time for epoch 764 is 0.518845796585083s\n",
      "epoch # : 764 gamma : 0.5 gen loss : 1.0402897596359253\n"
     ]
    },
    {
     "name": "stderr",
     "output_type": "stream",
     "text": [
      " 20%|██        | 5/25 [00:00<00:00, 49.45it/s]"
     ]
    },
    {
     "name": "stdout",
     "output_type": "stream",
     "text": [
      "Total number of generated modes is  22\n",
      "The number of high quality samples among 2500 samples is 193\n",
      "The mode dictionary is Counter({16: 20, 6: 19, 7: 19, 8: 13, 14: 11, 13: 11, 18: 10, 21: 9, 11: 9, 17: 9, 0: 8, 12: 8, 19: 7, 2: 7, 5: 6, 3: 5, 1: 5, 9: 4, 24: 4, 23: 4, 15: 3, 22: 2})\n"
     ]
    },
    {
     "name": "stderr",
     "output_type": "stream",
     "text": [
      "100%|██████████| 25/25 [00:00<00:00, 48.96it/s]\n"
     ]
    },
    {
     "name": "stdout",
     "output_type": "stream",
     "text": [
      "spent time for epoch 765 is 0.5164594650268555s\n",
      "epoch # : 765 gamma : 0.5 gen loss : 0.9958268404006958\n"
     ]
    },
    {
     "name": "stderr",
     "output_type": "stream",
     "text": [
      " 20%|██        | 5/25 [00:00<00:00, 49.55it/s]"
     ]
    },
    {
     "name": "stdout",
     "output_type": "stream",
     "text": [
      "Total number of generated modes is  23\n",
      "The number of high quality samples among 2500 samples is 250\n",
      "The mode dictionary is Counter({5: 38, 23: 38, 10: 36, 16: 16, 15: 16, 6: 14, 8: 14, 7: 14, 18: 13, 13: 12, 11: 8, 20: 7, 12: 6, 14: 4, 4: 3, 3: 3, 1: 2, 21: 1, 24: 1, 0: 1, 2: 1, 17: 1, 9: 1})\n"
     ]
    },
    {
     "name": "stderr",
     "output_type": "stream",
     "text": [
      "100%|██████████| 25/25 [00:00<00:00, 48.22it/s]\n"
     ]
    },
    {
     "name": "stdout",
     "output_type": "stream",
     "text": [
      "spent time for epoch 766 is 0.5242938995361328s\n",
      "epoch # : 766 gamma : 0.5 gen loss : 0.9986806511878967\n"
     ]
    },
    {
     "name": "stderr",
     "output_type": "stream",
     "text": [
      "  4%|▍         | 1/25 [00:00<00:03,  7.28it/s]"
     ]
    },
    {
     "name": "stdout",
     "output_type": "stream",
     "text": [
      "Total number of generated modes is  25\n",
      "The number of high quality samples among 2500 samples is 379\n",
      "The mode dictionary is Counter({23: 59, 0: 57, 5: 47, 22: 44, 17: 31, 6: 23, 21: 22, 16: 12, 18: 10, 24: 10, 3: 10, 2: 8, 13: 8, 7: 7, 12: 5, 11: 5, 1: 4, 14: 4, 20: 4, 8: 3, 9: 2, 4: 1, 19: 1, 10: 1, 15: 1})\n"
     ]
    },
    {
     "name": "stderr",
     "output_type": "stream",
     "text": [
      "100%|██████████| 25/25 [00:00<00:00, 43.54it/s]\n"
     ]
    },
    {
     "name": "stdout",
     "output_type": "stream",
     "text": [
      "spent time for epoch 767 is 0.5799148082733154s\n",
      "epoch # : 767 gamma : 0.5 gen loss : 0.9971081614494324\n"
     ]
    },
    {
     "name": "stderr",
     "output_type": "stream",
     "text": [
      " 20%|██        | 5/25 [00:00<00:00, 48.20it/s]"
     ]
    },
    {
     "name": "stdout",
     "output_type": "stream",
     "text": [
      "Total number of generated modes is  23\n",
      "The number of high quality samples among 2500 samples is 151\n",
      "The mode dictionary is Counter({8: 19, 7: 19, 6: 17, 16: 14, 20: 10, 18: 10, 15: 9, 21: 5, 10: 5, 13: 5, 11: 5, 23: 5, 3: 5, 5: 4, 14: 3, 12: 3, 1: 3, 0: 3, 19: 2, 9: 2, 22: 1, 24: 1, 17: 1})\n"
     ]
    },
    {
     "name": "stderr",
     "output_type": "stream",
     "text": [
      "100%|██████████| 25/25 [00:00<00:00, 47.37it/s]\n"
     ]
    },
    {
     "name": "stdout",
     "output_type": "stream",
     "text": [
      "spent time for epoch 768 is 0.5338237285614014s\n",
      "epoch # : 768 gamma : 0.5 gen loss : 0.9654049277305603\n"
     ]
    },
    {
     "name": "stderr",
     "output_type": "stream",
     "text": [
      " 20%|██        | 5/25 [00:00<00:00, 48.63it/s]"
     ]
    },
    {
     "name": "stdout",
     "output_type": "stream",
     "text": [
      "Total number of generated modes is  25\n",
      "The number of high quality samples among 2500 samples is 243\n",
      "The mode dictionary is Counter({21: 20, 18: 16, 12: 14, 20: 13, 13: 13, 5: 13, 15: 12, 7: 12, 8: 11, 1: 11, 17: 10, 10: 10, 4: 10, 3: 10, 2: 9, 23: 9, 16: 9, 22: 8, 11: 8, 6: 7, 19: 6, 9: 6, 24: 4, 0: 1, 14: 1})\n"
     ]
    },
    {
     "name": "stderr",
     "output_type": "stream",
     "text": [
      "100%|██████████| 25/25 [00:00<00:00, 46.99it/s]\n"
     ]
    },
    {
     "name": "stdout",
     "output_type": "stream",
     "text": [
      "spent time for epoch 769 is 0.5382258892059326s\n",
      "epoch # : 769 gamma : 0.5 gen loss : 1.0315335988998413\n"
     ]
    },
    {
     "name": "stderr",
     "output_type": "stream",
     "text": [
      " 20%|██        | 5/25 [00:00<00:00, 48.02it/s]"
     ]
    },
    {
     "name": "stdout",
     "output_type": "stream",
     "text": [
      "Total number of generated modes is  25\n",
      "The number of high quality samples among 2500 samples is 228\n",
      "The mode dictionary is Counter({0: 26, 20: 23, 7: 20, 15: 16, 16: 12, 9: 11, 11: 11, 10: 11, 18: 10, 6: 10, 1: 9, 13: 8, 19: 8, 5: 8, 8: 8, 4: 7, 14: 7, 24: 6, 23: 4, 12: 4, 2: 3, 17: 2, 3: 2, 22: 1, 21: 1})\n"
     ]
    },
    {
     "name": "stderr",
     "output_type": "stream",
     "text": [
      "100%|██████████| 25/25 [00:00<00:00, 48.18it/s]\n"
     ]
    },
    {
     "name": "stdout",
     "output_type": "stream",
     "text": [
      "spent time for epoch 770 is 0.5306951999664307s\n",
      "epoch # : 770 gamma : 0.5 gen loss : 1.030378818511963\n"
     ]
    },
    {
     "name": "stderr",
     "output_type": "stream",
     "text": [
      " 20%|██        | 5/25 [00:00<00:00, 48.67it/s]"
     ]
    },
    {
     "name": "stdout",
     "output_type": "stream",
     "text": [
      "Total number of generated modes is  24\n",
      "The number of high quality samples among 2500 samples is 227\n",
      "The mode dictionary is Counter({20: 45, 21: 21, 16: 20, 10: 15, 15: 14, 7: 13, 6: 11, 5: 11, 23: 10, 11: 10, 8: 9, 18: 9, 22: 9, 13: 7, 12: 5, 3: 3, 9: 3, 4: 3, 24: 2, 14: 2, 2: 2, 1: 1, 17: 1, 0: 1})\n"
     ]
    },
    {
     "name": "stderr",
     "output_type": "stream",
     "text": [
      "100%|██████████| 25/25 [00:00<00:00, 48.46it/s]\n"
     ]
    },
    {
     "name": "stdout",
     "output_type": "stream",
     "text": [
      "spent time for epoch 771 is 0.521721601486206s\n",
      "epoch # : 771 gamma : 0.5 gen loss : 0.9849584698677063\n"
     ]
    },
    {
     "name": "stderr",
     "output_type": "stream",
     "text": [
      " 20%|██        | 5/25 [00:00<00:00, 49.25it/s]"
     ]
    },
    {
     "name": "stdout",
     "output_type": "stream",
     "text": [
      "Total number of generated modes is  24\n",
      "The number of high quality samples among 2500 samples is 226\n",
      "The mode dictionary is Counter({0: 32, 7: 17, 4: 16, 3: 15, 22: 14, 16: 14, 6: 12, 23: 11, 11: 11, 1: 10, 12: 9, 17: 8, 2: 8, 18: 7, 14: 7, 5: 6, 24: 6, 13: 5, 21: 5, 19: 4, 20: 4, 10: 2, 9: 2, 15: 1})\n"
     ]
    },
    {
     "name": "stderr",
     "output_type": "stream",
     "text": [
      "100%|██████████| 25/25 [00:00<00:00, 48.77it/s]\n"
     ]
    },
    {
     "name": "stdout",
     "output_type": "stream",
     "text": [
      "spent time for epoch 772 is 0.5186996459960938s\n",
      "epoch # : 772 gamma : 0.5 gen loss : 0.988829493522644\n"
     ]
    },
    {
     "name": "stderr",
     "output_type": "stream",
     "text": [
      " 20%|██        | 5/25 [00:00<00:00, 49.11it/s]"
     ]
    },
    {
     "name": "stdout",
     "output_type": "stream",
     "text": [
      "Total number of generated modes is  24\n",
      "The number of high quality samples among 2500 samples is 237\n",
      "The mode dictionary is Counter({22: 28, 21: 22, 16: 22, 7: 18, 10: 18, 15: 17, 3: 13, 6: 11, 18: 11, 17: 10, 11: 10, 13: 8, 2: 7, 20: 6, 23: 6, 1: 5, 12: 4, 24: 4, 9: 4, 8: 4, 5: 3, 14: 3, 4: 2, 19: 1})\n"
     ]
    },
    {
     "name": "stderr",
     "output_type": "stream",
     "text": [
      "100%|██████████| 25/25 [00:00<00:00, 48.50it/s]\n"
     ]
    },
    {
     "name": "stdout",
     "output_type": "stream",
     "text": [
      "spent time for epoch 773 is 0.521207332611084s\n",
      "epoch # : 773 gamma : 0.5 gen loss : 0.9841979742050171\n"
     ]
    },
    {
     "name": "stderr",
     "output_type": "stream",
     "text": [
      " 20%|██        | 5/25 [00:00<00:00, 48.85it/s]"
     ]
    },
    {
     "name": "stdout",
     "output_type": "stream",
     "text": [
      "Total number of generated modes is  23\n",
      "The number of high quality samples among 2500 samples is 406\n",
      "The mode dictionary is Counter({22: 53, 21: 42, 23: 37, 20: 35, 5: 29, 9: 18, 7: 18, 15: 18, 6: 14, 16: 14, 19: 14, 12: 14, 13: 13, 10: 13, 18: 12, 8: 12, 17: 10, 24: 10, 1: 8, 14: 7, 4: 6, 11: 6, 3: 3})\n"
     ]
    },
    {
     "name": "stderr",
     "output_type": "stream",
     "text": [
      "100%|██████████| 25/25 [00:00<00:00, 48.47it/s]\n"
     ]
    },
    {
     "name": "stdout",
     "output_type": "stream",
     "text": [
      "spent time for epoch 774 is 0.5214464664459229s\n",
      "epoch # : 774 gamma : 0.5 gen loss : 1.009909987449646\n"
     ]
    },
    {
     "name": "stderr",
     "output_type": "stream",
     "text": [
      " 20%|██        | 5/25 [00:00<00:00, 49.35it/s]"
     ]
    },
    {
     "name": "stdout",
     "output_type": "stream",
     "text": [
      "Total number of generated modes is  23\n",
      "The number of high quality samples among 2500 samples is 267\n",
      "The mode dictionary is Counter({5: 33, 0: 26, 8: 19, 7: 19, 16: 17, 15: 15, 6: 15, 18: 12, 23: 12, 3: 11, 11: 11, 1: 10, 17: 10, 24: 9, 14: 8, 9: 8, 2: 8, 13: 6, 4: 4, 20: 4, 10: 4, 19: 4, 12: 2})\n"
     ]
    },
    {
     "name": "stderr",
     "output_type": "stream",
     "text": [
      "100%|██████████| 25/25 [00:00<00:00, 48.97it/s]\n"
     ]
    },
    {
     "name": "stdout",
     "output_type": "stream",
     "text": [
      "spent time for epoch 775 is 0.5226192474365234s\n",
      "epoch # : 775 gamma : 0.5 gen loss : 1.0083831548690796\n"
     ]
    },
    {
     "name": "stderr",
     "output_type": "stream",
     "text": [
      " 20%|██        | 5/25 [00:00<00:00, 48.67it/s]"
     ]
    },
    {
     "name": "stdout",
     "output_type": "stream",
     "text": [
      "Total number of generated modes is  23\n",
      "The number of high quality samples among 2500 samples is 288\n",
      "The mode dictionary is Counter({10: 50, 5: 36, 21: 31, 7: 17, 6: 14, 20: 14, 16: 14, 17: 13, 3: 12, 8: 12, 15: 12, 11: 11, 22: 10, 13: 8, 12: 7, 1: 6, 18: 5, 9: 4, 2: 4, 19: 3, 0: 2, 4: 2, 14: 1})\n"
     ]
    },
    {
     "name": "stderr",
     "output_type": "stream",
     "text": [
      "100%|██████████| 25/25 [00:00<00:00, 48.98it/s]\n"
     ]
    },
    {
     "name": "stdout",
     "output_type": "stream",
     "text": [
      "spent time for epoch 776 is 0.5162303447723389s\n",
      "epoch # : 776 gamma : 0.5 gen loss : 1.0180535316467285\n"
     ]
    },
    {
     "name": "stderr",
     "output_type": "stream",
     "text": [
      " 16%|█▌        | 4/25 [00:00<00:00, 38.51it/s]"
     ]
    },
    {
     "name": "stdout",
     "output_type": "stream",
     "text": [
      "Total number of generated modes is  25\n",
      "The number of high quality samples among 2500 samples is 339\n",
      "The mode dictionary is Counter({10: 40, 23: 27, 22: 25, 15: 24, 3: 19, 4: 19, 1: 16, 11: 15, 21: 14, 7: 14, 16: 14, 17: 14, 13: 13, 8: 12, 0: 10, 9: 10, 18: 9, 5: 9, 14: 7, 6: 6, 20: 6, 12: 5, 2: 5, 24: 4, 19: 2})\n"
     ]
    },
    {
     "name": "stderr",
     "output_type": "stream",
     "text": [
      "100%|██████████| 25/25 [00:00<00:00, 48.08it/s]\n"
     ]
    },
    {
     "name": "stdout",
     "output_type": "stream",
     "text": [
      "spent time for epoch 777 is 0.5258936882019043s\n",
      "epoch # : 777 gamma : 0.5 gen loss : 1.0094969272613525\n"
     ]
    },
    {
     "name": "stderr",
     "output_type": "stream",
     "text": [
      "  4%|▍         | 1/25 [00:00<00:03,  7.13it/s]"
     ]
    },
    {
     "name": "stdout",
     "output_type": "stream",
     "text": [
      "Total number of generated modes is  24\n",
      "The number of high quality samples among 2500 samples is 242\n",
      "The mode dictionary is Counter({23: 36, 22: 26, 7: 22, 16: 18, 5: 15, 18: 14, 6: 14, 13: 12, 8: 10, 15: 9, 20: 9, 1: 9, 17: 9, 12: 7, 21: 6, 10: 6, 24: 5, 11: 5, 19: 3, 0: 2, 9: 2, 2: 1, 3: 1, 14: 1})\n"
     ]
    },
    {
     "name": "stderr",
     "output_type": "stream",
     "text": [
      "100%|██████████| 25/25 [00:00<00:00, 41.71it/s]\n"
     ]
    },
    {
     "name": "stdout",
     "output_type": "stream",
     "text": [
      "spent time for epoch 778 is 0.6067409515380859s\n",
      "epoch # : 778 gamma : 0.5 gen loss : 0.9997273087501526\n"
     ]
    },
    {
     "name": "stderr",
     "output_type": "stream",
     "text": [
      " 20%|██        | 5/25 [00:00<00:00, 48.48it/s]"
     ]
    },
    {
     "name": "stdout",
     "output_type": "stream",
     "text": [
      "Total number of generated modes is  23\n",
      "The number of high quality samples among 2500 samples is 294\n",
      "The mode dictionary is Counter({20: 32, 4: 28, 17: 25, 15: 24, 3: 21, 7: 21, 16: 18, 5: 15, 6: 13, 1: 12, 2: 11, 0: 11, 21: 10, 8: 9, 11: 9, 18: 8, 9: 8, 10: 4, 19: 4, 14: 3, 13: 3, 12: 3, 23: 2})\n"
     ]
    },
    {
     "name": "stderr",
     "output_type": "stream",
     "text": [
      "100%|██████████| 25/25 [00:00<00:00, 48.16it/s]\n"
     ]
    },
    {
     "name": "stdout",
     "output_type": "stream",
     "text": [
      "spent time for epoch 779 is 0.5250124931335449s\n",
      "epoch # : 779 gamma : 0.5 gen loss : 0.9985586404800415\n"
     ]
    },
    {
     "name": "stderr",
     "output_type": "stream",
     "text": [
      " 20%|██        | 5/25 [00:00<00:00, 47.27it/s]"
     ]
    },
    {
     "name": "stdout",
     "output_type": "stream",
     "text": [
      "Total number of generated modes is  22\n",
      "The number of high quality samples among 2500 samples is 205\n",
      "The mode dictionary is Counter({21: 36, 16: 16, 7: 14, 8: 13, 5: 13, 15: 11, 20: 11, 3: 10, 24: 10, 6: 10, 10: 9, 18: 8, 11: 7, 19: 7, 13: 7, 12: 5, 2: 4, 17: 4, 14: 4, 1: 3, 0: 2, 23: 1})\n"
     ]
    },
    {
     "name": "stderr",
     "output_type": "stream",
     "text": [
      "100%|██████████| 25/25 [00:00<00:00, 47.94it/s]\n"
     ]
    },
    {
     "name": "stdout",
     "output_type": "stream",
     "text": [
      "spent time for epoch 780 is 0.5271010398864746s\n",
      "epoch # : 780 gamma : 0.5 gen loss : 1.0072451829910278\n"
     ]
    },
    {
     "name": "stderr",
     "output_type": "stream",
     "text": [
      " 20%|██        | 5/25 [00:00<00:00, 48.09it/s]"
     ]
    },
    {
     "name": "stdout",
     "output_type": "stream",
     "text": [
      "Total number of generated modes is  24\n",
      "The number of high quality samples among 2500 samples is 389\n",
      "The mode dictionary is Counter({5: 76, 0: 49, 17: 34, 22: 33, 23: 22, 18: 21, 16: 18, 1: 17, 2: 15, 6: 14, 15: 14, 12: 13, 8: 13, 20: 10, 11: 8, 7: 8, 10: 6, 4: 5, 21: 4, 3: 3, 14: 2, 13: 2, 9: 1, 24: 1})\n"
     ]
    },
    {
     "name": "stderr",
     "output_type": "stream",
     "text": [
      "100%|██████████| 25/25 [00:00<00:00, 48.01it/s]\n"
     ]
    },
    {
     "name": "stdout",
     "output_type": "stream",
     "text": [
      "spent time for epoch 781 is 0.5265121459960938s\n",
      "epoch # : 781 gamma : 0.5 gen loss : 0.9965748190879822\n"
     ]
    },
    {
     "name": "stderr",
     "output_type": "stream",
     "text": [
      " 20%|██        | 5/25 [00:00<00:00, 48.75it/s]"
     ]
    },
    {
     "name": "stdout",
     "output_type": "stream",
     "text": [
      "Total number of generated modes is  24\n",
      "The number of high quality samples among 2500 samples is 214\n",
      "The mode dictionary is Counter({7: 28, 20: 22, 1: 16, 6: 15, 15: 14, 13: 14, 11: 11, 8: 10, 2: 10, 16: 9, 12: 9, 5: 8, 3: 7, 21: 6, 22: 5, 23: 5, 4: 5, 24: 4, 14: 4, 17: 3, 0: 3, 18: 3, 10: 2, 19: 1})\n"
     ]
    },
    {
     "name": "stderr",
     "output_type": "stream",
     "text": [
      "100%|██████████| 25/25 [00:00<00:00, 48.34it/s]\n"
     ]
    },
    {
     "name": "stdout",
     "output_type": "stream",
     "text": [
      "spent time for epoch 782 is 0.5234885215759277s\n",
      "epoch # : 782 gamma : 0.5 gen loss : 1.0289772748947144\n"
     ]
    },
    {
     "name": "stderr",
     "output_type": "stream",
     "text": [
      " 20%|██        | 5/25 [00:00<00:00, 49.06it/s]"
     ]
    },
    {
     "name": "stdout",
     "output_type": "stream",
     "text": [
      "Total number of generated modes is  24\n",
      "The number of high quality samples among 2500 samples is 307\n",
      "The mode dictionary is Counter({20: 47, 10: 39, 21: 32, 15: 18, 16: 18, 22: 16, 17: 14, 5: 13, 23: 13, 7: 12, 8: 11, 13: 11, 12: 10, 18: 9, 6: 8, 11: 6, 0: 5, 2: 5, 9: 5, 4: 4, 1: 4, 14: 4, 24: 2, 19: 1})\n"
     ]
    },
    {
     "name": "stderr",
     "output_type": "stream",
     "text": [
      "100%|██████████| 25/25 [00:00<00:00, 48.88it/s]\n"
     ]
    },
    {
     "name": "stdout",
     "output_type": "stream",
     "text": [
      "spent time for epoch 783 is 0.5173549652099609s\n",
      "epoch # : 783 gamma : 0.5 gen loss : 1.0007537603378296\n"
     ]
    },
    {
     "name": "stderr",
     "output_type": "stream",
     "text": [
      " 20%|██        | 5/25 [00:00<00:00, 49.11it/s]"
     ]
    },
    {
     "name": "stdout",
     "output_type": "stream",
     "text": [
      "Total number of generated modes is  24\n",
      "The number of high quality samples among 2500 samples is 315\n",
      "The mode dictionary is Counter({22: 56, 17: 32, 23: 29, 5: 29, 7: 20, 16: 19, 15: 14, 12: 14, 18: 14, 6: 13, 13: 12, 8: 11, 0: 7, 11: 7, 20: 7, 14: 5, 24: 5, 21: 5, 19: 4, 10: 4, 1: 3, 3: 3, 2: 1, 9: 1})\n"
     ]
    },
    {
     "name": "stderr",
     "output_type": "stream",
     "text": [
      "100%|██████████| 25/25 [00:00<00:00, 48.90it/s]\n"
     ]
    },
    {
     "name": "stdout",
     "output_type": "stream",
     "text": [
      "spent time for epoch 784 is 0.5169477462768555s\n",
      "epoch # : 784 gamma : 0.5 gen loss : 1.035840392112732\n"
     ]
    },
    {
     "name": "stderr",
     "output_type": "stream",
     "text": [
      " 20%|██        | 5/25 [00:00<00:00, 49.12it/s]"
     ]
    },
    {
     "name": "stdout",
     "output_type": "stream",
     "text": [
      "Total number of generated modes is  23\n",
      "The number of high quality samples among 2500 samples is 192\n",
      "The mode dictionary is Counter({16: 21, 8: 17, 17: 15, 7: 14, 18: 14, 1: 12, 5: 11, 6: 10, 2: 10, 20: 8, 21: 8, 14: 7, 9: 7, 13: 7, 12: 6, 22: 5, 15: 4, 0: 4, 23: 3, 4: 3, 19: 3, 11: 2, 10: 1})\n"
     ]
    },
    {
     "name": "stderr",
     "output_type": "stream",
     "text": [
      "100%|██████████| 25/25 [00:00<00:00, 49.08it/s]\n"
     ]
    },
    {
     "name": "stdout",
     "output_type": "stream",
     "text": [
      "spent time for epoch 785 is 0.5152952671051025s\n",
      "epoch # : 785 gamma : 0.5 gen loss : 0.9913055896759033\n"
     ]
    },
    {
     "name": "stderr",
     "output_type": "stream",
     "text": [
      " 20%|██        | 5/25 [00:00<00:00, 48.15it/s]"
     ]
    },
    {
     "name": "stdout",
     "output_type": "stream",
     "text": [
      "Total number of generated modes is  24\n",
      "The number of high quality samples among 2500 samples is 322\n",
      "The mode dictionary is Counter({21: 45, 20: 44, 5: 25, 15: 20, 7: 18, 0: 16, 16: 16, 3: 15, 11: 15, 1: 14, 2: 13, 10: 13, 8: 11, 12: 11, 13: 7, 6: 6, 23: 6, 19: 5, 17: 5, 18: 5, 22: 4, 14: 4, 9: 2, 24: 2})\n"
     ]
    },
    {
     "name": "stderr",
     "output_type": "stream",
     "text": [
      "100%|██████████| 25/25 [00:00<00:00, 48.66it/s]\n"
     ]
    },
    {
     "name": "stdout",
     "output_type": "stream",
     "text": [
      "spent time for epoch 786 is 0.5197799205780029s\n",
      "epoch # : 786 gamma : 0.5 gen loss : 0.9917857050895691\n"
     ]
    },
    {
     "name": "stderr",
     "output_type": "stream",
     "text": [
      " 20%|██        | 5/25 [00:00<00:00, 49.64it/s]"
     ]
    },
    {
     "name": "stdout",
     "output_type": "stream",
     "text": [
      "Total number of generated modes is  24\n",
      "The number of high quality samples among 2500 samples is 269\n",
      "The mode dictionary is Counter({23: 43, 21: 23, 5: 20, 6: 19, 15: 18, 7: 16, 20: 14, 10: 13, 18: 11, 16: 11, 0: 10, 22: 10, 1: 10, 8: 10, 13: 7, 11: 7, 24: 6, 12: 5, 17: 5, 19: 3, 14: 3, 3: 2, 2: 2, 9: 1})\n"
     ]
    },
    {
     "name": "stderr",
     "output_type": "stream",
     "text": [
      "100%|██████████| 25/25 [00:00<00:00, 49.13it/s]\n"
     ]
    },
    {
     "name": "stdout",
     "output_type": "stream",
     "text": [
      "spent time for epoch 787 is 0.514826774597168s\n",
      "epoch # : 787 gamma : 0.5 gen loss : 1.0145623683929443\n"
     ]
    },
    {
     "name": "stderr",
     "output_type": "stream",
     "text": [
      " 20%|██        | 5/25 [00:00<00:00, 49.00it/s]"
     ]
    },
    {
     "name": "stdout",
     "output_type": "stream",
     "text": [
      "Total number of generated modes is  25\n",
      "The number of high quality samples among 2500 samples is 239\n",
      "The mode dictionary is Counter({5: 28, 4: 24, 9: 19, 16: 18, 8: 13, 14: 12, 17: 12, 7: 11, 3: 11, 15: 10, 22: 8, 24: 7, 0: 7, 21: 7, 19: 7, 13: 6, 1: 6, 11: 5, 6: 5, 18: 5, 2: 5, 10: 4, 12: 3, 20: 3, 23: 3})\n"
     ]
    },
    {
     "name": "stderr",
     "output_type": "stream",
     "text": [
      "100%|██████████| 25/25 [00:00<00:00, 47.12it/s]\n"
     ]
    },
    {
     "name": "stdout",
     "output_type": "stream",
     "text": [
      "spent time for epoch 788 is 0.5363125801086426s\n",
      "epoch # : 788 gamma : 0.5 gen loss : 1.0001778602600098\n"
     ]
    },
    {
     "name": "stderr",
     "output_type": "stream",
     "text": [
      "  4%|▍         | 1/25 [00:00<00:03,  7.03it/s]"
     ]
    },
    {
     "name": "stdout",
     "output_type": "stream",
     "text": [
      "Total number of generated modes is  24\n",
      "The number of high quality samples among 2500 samples is 308\n",
      "The mode dictionary is Counter({22: 48, 16: 28, 5: 28, 23: 26, 17: 20, 12: 18, 15: 16, 7: 14, 6: 13, 10: 13, 21: 12, 18: 12, 14: 9, 13: 7, 19: 7, 24: 6, 9: 5, 8: 5, 11: 4, 2: 4, 20: 4, 4: 4, 1: 3, 3: 2})\n"
     ]
    },
    {
     "name": "stderr",
     "output_type": "stream",
     "text": [
      "100%|██████████| 25/25 [00:00<00:00, 43.29it/s]\n"
     ]
    },
    {
     "name": "stdout",
     "output_type": "stream",
     "text": [
      "spent time for epoch 789 is 0.5833165645599365s\n",
      "epoch # : 789 gamma : 0.5 gen loss : 0.9838995337486267\n"
     ]
    },
    {
     "name": "stderr",
     "output_type": "stream",
     "text": [
      " 20%|██        | 5/25 [00:00<00:00, 48.66it/s]"
     ]
    },
    {
     "name": "stdout",
     "output_type": "stream",
     "text": [
      "Total number of generated modes is  21\n",
      "The number of high quality samples among 2500 samples is 172\n",
      "The mode dictionary is Counter({8: 24, 15: 17, 13: 15, 7: 14, 6: 14, 17: 12, 18: 9, 12: 9, 11: 9, 3: 8, 16: 8, 9: 6, 20: 5, 5: 4, 14: 4, 2: 4, 10: 3, 1: 2, 23: 2, 4: 2, 22: 1})\n"
     ]
    },
    {
     "name": "stderr",
     "output_type": "stream",
     "text": [
      "100%|██████████| 25/25 [00:00<00:00, 48.36it/s]\n"
     ]
    },
    {
     "name": "stdout",
     "output_type": "stream",
     "text": [
      "spent time for epoch 790 is 0.5227949619293213s\n",
      "epoch # : 790 gamma : 0.5 gen loss : 0.9610825777053833\n"
     ]
    },
    {
     "name": "stderr",
     "output_type": "stream",
     "text": [
      " 20%|██        | 5/25 [00:00<00:00, 48.51it/s]"
     ]
    },
    {
     "name": "stdout",
     "output_type": "stream",
     "text": [
      "Total number of generated modes is  25\n",
      "The number of high quality samples among 2500 samples is 325\n",
      "The mode dictionary is Counter({5: 54, 0: 39, 2: 24, 7: 19, 1: 19, 8: 16, 3: 14, 15: 13, 16: 12, 17: 12, 20: 11, 13: 11, 21: 10, 9: 10, 12: 9, 18: 8, 4: 7, 6: 7, 19: 6, 11: 6, 23: 6, 10: 5, 24: 3, 14: 3, 22: 1})\n"
     ]
    },
    {
     "name": "stderr",
     "output_type": "stream",
     "text": [
      "100%|██████████| 25/25 [00:00<00:00, 48.18it/s]\n"
     ]
    },
    {
     "name": "stdout",
     "output_type": "stream",
     "text": [
      "spent time for epoch 791 is 0.5248372554779053s\n",
      "epoch # : 791 gamma : 0.5 gen loss : 0.9858378171920776\n"
     ]
    },
    {
     "name": "stderr",
     "output_type": "stream",
     "text": [
      " 20%|██        | 5/25 [00:00<00:00, 48.28it/s]"
     ]
    },
    {
     "name": "stdout",
     "output_type": "stream",
     "text": [
      "Total number of generated modes is  24\n",
      "The number of high quality samples among 2500 samples is 213\n",
      "The mode dictionary is Counter({15: 23, 7: 20, 5: 20, 16: 16, 8: 15, 11: 14, 10: 13, 13: 13, 20: 12, 6: 9, 18: 7, 12: 7, 3: 7, 21: 5, 17: 5, 9: 5, 14: 4, 24: 4, 23: 4, 19: 3, 2: 3, 1: 2, 0: 1, 4: 1})\n"
     ]
    },
    {
     "name": "stderr",
     "output_type": "stream",
     "text": [
      "100%|██████████| 25/25 [00:00<00:00, 48.42it/s]\n"
     ]
    },
    {
     "name": "stdout",
     "output_type": "stream",
     "text": [
      "spent time for epoch 792 is 0.5222978591918945s\n",
      "epoch # : 792 gamma : 0.5 gen loss : 0.9982653856277466\n"
     ]
    },
    {
     "name": "stderr",
     "output_type": "stream",
     "text": [
      " 16%|█▌        | 4/25 [00:00<00:00, 39.56it/s]"
     ]
    },
    {
     "name": "stdout",
     "output_type": "stream",
     "text": [
      "Total number of generated modes is  25\n",
      "The number of high quality samples among 2500 samples is 315\n",
      "The mode dictionary is Counter({5: 39, 17: 36, 22: 33, 21: 30, 7: 19, 18: 17, 16: 16, 20: 13, 9: 10, 8: 10, 12: 9, 14: 9, 6: 9, 0: 8, 11: 8, 2: 7, 13: 7, 23: 7, 3: 6, 1: 5, 4: 5, 15: 5, 24: 3, 19: 2, 10: 2})\n"
     ]
    },
    {
     "name": "stderr",
     "output_type": "stream",
     "text": [
      "100%|██████████| 25/25 [00:00<00:00, 48.36it/s]\n"
     ]
    },
    {
     "name": "stdout",
     "output_type": "stream",
     "text": [
      "spent time for epoch 793 is 0.5229833126068115s\n",
      "epoch # : 793 gamma : 0.5 gen loss : 1.0241177082061768\n"
     ]
    },
    {
     "name": "stderr",
     "output_type": "stream",
     "text": [
      " 20%|██        | 5/25 [00:00<00:00, 48.84it/s]"
     ]
    },
    {
     "name": "stdout",
     "output_type": "stream",
     "text": [
      "Total number of generated modes is  24\n",
      "The number of high quality samples among 2500 samples is 187\n",
      "The mode dictionary is Counter({1: 16, 2: 14, 18: 14, 6: 14, 16: 13, 0: 13, 8: 13, 23: 12, 7: 12, 17: 12, 13: 9, 3: 9, 21: 7, 11: 7, 12: 7, 24: 3, 5: 3, 20: 2, 9: 2, 15: 1, 14: 1, 19: 1, 4: 1, 10: 1})\n"
     ]
    },
    {
     "name": "stderr",
     "output_type": "stream",
     "text": [
      "100%|██████████| 25/25 [00:00<00:00, 48.95it/s]\n"
     ]
    },
    {
     "name": "stdout",
     "output_type": "stream",
     "text": [
      "spent time for epoch 794 is 0.5166740417480469s\n",
      "epoch # : 794 gamma : 0.5 gen loss : 1.0130785703659058\n"
     ]
    },
    {
     "name": "stderr",
     "output_type": "stream",
     "text": [
      " 20%|██        | 5/25 [00:00<00:00, 48.62it/s]"
     ]
    },
    {
     "name": "stdout",
     "output_type": "stream",
     "text": [
      "Total number of generated modes is  24\n",
      "The number of high quality samples among 2500 samples is 274\n",
      "The mode dictionary is Counter({5: 40, 21: 32, 20: 27, 15: 19, 10: 18, 7: 17, 16: 14, 13: 13, 6: 13, 11: 13, 23: 11, 3: 10, 18: 9, 8: 9, 17: 7, 9: 4, 2: 4, 12: 3, 4: 3, 22: 2, 24: 2, 19: 2, 1: 1, 14: 1})\n"
     ]
    },
    {
     "name": "stderr",
     "output_type": "stream",
     "text": [
      "100%|██████████| 25/25 [00:00<00:00, 48.77it/s]\n"
     ]
    },
    {
     "name": "stdout",
     "output_type": "stream",
     "text": [
      "spent time for epoch 795 is 0.5186560153961182s\n",
      "epoch # : 795 gamma : 0.5 gen loss : 0.9773341417312622\n"
     ]
    },
    {
     "name": "stderr",
     "output_type": "stream",
     "text": [
      " 20%|██        | 5/25 [00:00<00:00, 49.60it/s]"
     ]
    },
    {
     "name": "stdout",
     "output_type": "stream",
     "text": [
      "Total number of generated modes is  25\n",
      "The number of high quality samples among 2500 samples is 258\n",
      "The mode dictionary is Counter({7: 26, 23: 22, 16: 21, 24: 17, 3: 15, 11: 14, 2: 13, 13: 13, 18: 12, 17: 11, 12: 10, 19: 9, 9: 9, 1: 8, 10: 8, 0: 7, 8: 7, 22: 7, 21: 6, 20: 6, 15: 5, 14: 5, 6: 4, 4: 2, 5: 1})\n"
     ]
    },
    {
     "name": "stderr",
     "output_type": "stream",
     "text": [
      "100%|██████████| 25/25 [00:00<00:00, 49.12it/s]\n"
     ]
    },
    {
     "name": "stdout",
     "output_type": "stream",
     "text": [
      "spent time for epoch 796 is 0.5149481296539307s\n",
      "epoch # : 796 gamma : 0.5 gen loss : 1.0250303745269775\n"
     ]
    },
    {
     "name": "stderr",
     "output_type": "stream",
     "text": [
      " 20%|██        | 5/25 [00:00<00:00, 48.29it/s]"
     ]
    },
    {
     "name": "stdout",
     "output_type": "stream",
     "text": [
      "Total number of generated modes is  23\n",
      "The number of high quality samples among 2500 samples is 239\n",
      "The mode dictionary is Counter({5: 33, 16: 24, 12: 20, 17: 15, 24: 15, 6: 14, 18: 13, 3: 11, 14: 11, 13: 11, 7: 10, 8: 9, 11: 9, 21: 9, 4: 8, 23: 7, 19: 7, 2: 5, 15: 2, 9: 2, 1: 2, 22: 1, 20: 1})\n"
     ]
    },
    {
     "name": "stderr",
     "output_type": "stream",
     "text": [
      "100%|██████████| 25/25 [00:00<00:00, 48.86it/s]\n"
     ]
    },
    {
     "name": "stdout",
     "output_type": "stream",
     "text": [
      "spent time for epoch 797 is 0.5177021026611328s\n",
      "epoch # : 797 gamma : 0.5 gen loss : 0.9674816727638245\n"
     ]
    },
    {
     "name": "stderr",
     "output_type": "stream",
     "text": [
      " 20%|██        | 5/25 [00:00<00:00, 49.47it/s]"
     ]
    },
    {
     "name": "stdout",
     "output_type": "stream",
     "text": [
      "Total number of generated modes is  24\n",
      "The number of high quality samples among 2500 samples is 282\n",
      "The mode dictionary is Counter({23: 45, 20: 41, 21: 33, 16: 18, 15: 17, 10: 17, 18: 16, 7: 15, 6: 12, 8: 11, 11: 10, 13: 9, 22: 6, 17: 5, 24: 4, 12: 4, 2: 3, 5: 3, 0: 3, 1: 3, 3: 2, 4: 2, 14: 2, 19: 1})\n"
     ]
    },
    {
     "name": "stderr",
     "output_type": "stream",
     "text": [
      "100%|██████████| 25/25 [00:00<00:00, 48.29it/s]\n"
     ]
    },
    {
     "name": "stdout",
     "output_type": "stream",
     "text": [
      "spent time for epoch 798 is 0.5234067440032959s\n",
      "epoch # : 798 gamma : 0.5 gen loss : 0.9929214119911194\n"
     ]
    },
    {
     "name": "stderr",
     "output_type": "stream",
     "text": [
      " 20%|██        | 5/25 [00:00<00:00, 49.64it/s]"
     ]
    },
    {
     "name": "stdout",
     "output_type": "stream",
     "text": [
      "Total number of generated modes is  23\n",
      "The number of high quality samples among 2500 samples is 244\n",
      "The mode dictionary is Counter({16: 24, 20: 21, 17: 20, 7: 18, 3: 16, 8: 14, 21: 13, 18: 12, 2: 11, 9: 11, 23: 10, 6: 10, 14: 9, 12: 9, 1: 9, 15: 7, 22: 7, 13: 6, 11: 6, 19: 4, 24: 3, 4: 2, 0: 2})\n"
     ]
    },
    {
     "name": "stderr",
     "output_type": "stream",
     "text": [
      "100%|██████████| 25/25 [00:00<00:00, 48.98it/s]\n"
     ]
    },
    {
     "name": "stdout",
     "output_type": "stream",
     "text": [
      "spent time for epoch 799 is 0.5167050361633301s\n",
      "epoch # : 799 gamma : 0.5 gen loss : 1.0072686672210693\n"
     ]
    },
    {
     "name": "stderr",
     "output_type": "stream",
     "text": [
      "  4%|▍         | 1/25 [00:00<00:03,  7.13it/s]"
     ]
    },
    {
     "name": "stdout",
     "output_type": "stream",
     "text": [
      "Total number of generated modes is  24\n",
      "The number of high quality samples among 2500 samples is 263\n",
      "The mode dictionary is Counter({23: 47, 5: 42, 3: 14, 6: 14, 13: 13, 19: 12, 21: 11, 24: 10, 2: 10, 4: 9, 0: 9, 11: 9, 16: 8, 18: 8, 7: 7, 14: 7, 8: 7, 12: 6, 22: 6, 20: 4, 1: 4, 9: 2, 15: 2, 10: 2})\n"
     ]
    },
    {
     "name": "stderr",
     "output_type": "stream",
     "text": [
      "100%|██████████| 25/25 [00:00<00:00, 43.31it/s]\n"
     ]
    },
    {
     "name": "stdout",
     "output_type": "stream",
     "text": [
      "spent time for epoch 800 is 0.5830380916595459s\n",
      "epoch # : 800 gamma : 0.5 gen loss : 1.0160937309265137\n"
     ]
    },
    {
     "name": "stderr",
     "output_type": "stream",
     "text": [
      " 20%|██        | 5/25 [00:00<00:00, 47.81it/s]"
     ]
    },
    {
     "name": "stdout",
     "output_type": "stream",
     "text": [
      "Total number of generated modes is  23\n",
      "The number of high quality samples among 2500 samples is 200\n",
      "The mode dictionary is Counter({10: 25, 7: 18, 12: 17, 1: 16, 17: 15, 16: 14, 15: 14, 2: 10, 6: 10, 18: 9, 21: 9, 3: 9, 20: 8, 11: 7, 0: 6, 13: 4, 8: 2, 9: 2, 14: 1, 19: 1, 5: 1, 22: 1, 23: 1})\n"
     ]
    },
    {
     "name": "stderr",
     "output_type": "stream",
     "text": [
      "100%|██████████| 25/25 [00:00<00:00, 47.76it/s]\n"
     ]
    },
    {
     "name": "stdout",
     "output_type": "stream",
     "text": [
      "spent time for epoch 801 is 0.5287277698516846s\n",
      "epoch # : 801 gamma : 0.5 gen loss : 1.0160980224609375\n"
     ]
    },
    {
     "name": "stderr",
     "output_type": "stream",
     "text": [
      " 20%|██        | 5/25 [00:00<00:00, 48.74it/s]"
     ]
    },
    {
     "name": "stdout",
     "output_type": "stream",
     "text": [
      "Total number of generated modes is  24\n",
      "The number of high quality samples among 2500 samples is 319\n",
      "The mode dictionary is Counter({20: 55, 5: 52, 23: 41, 21: 27, 15: 15, 8: 14, 22: 12, 6: 11, 13: 11, 12: 10, 14: 10, 19: 9, 7: 8, 18: 8, 16: 8, 9: 6, 17: 5, 10: 4, 0: 4, 11: 3, 2: 3, 3: 1, 24: 1, 4: 1})\n"
     ]
    },
    {
     "name": "stderr",
     "output_type": "stream",
     "text": [
      "100%|██████████| 25/25 [00:00<00:00, 47.44it/s]\n"
     ]
    },
    {
     "name": "stdout",
     "output_type": "stream",
     "text": [
      "spent time for epoch 802 is 0.5328290462493896s\n",
      "epoch # : 802 gamma : 0.5 gen loss : 1.032655119895935\n"
     ]
    },
    {
     "name": "stderr",
     "output_type": "stream",
     "text": [
      " 20%|██        | 5/25 [00:00<00:00, 48.60it/s]"
     ]
    },
    {
     "name": "stdout",
     "output_type": "stream",
     "text": [
      "Total number of generated modes is  25\n",
      "The number of high quality samples among 2500 samples is 193\n",
      "The mode dictionary is Counter({3: 19, 16: 18, 0: 15, 6: 13, 15: 12, 7: 11, 8: 11, 2: 10, 12: 9, 14: 9, 18: 9, 20: 8, 9: 6, 21: 6, 11: 5, 1: 5, 24: 4, 23: 4, 10: 4, 4: 4, 17: 3, 5: 2, 22: 2, 13: 2, 19: 2})\n"
     ]
    },
    {
     "name": "stderr",
     "output_type": "stream",
     "text": [
      "100%|██████████| 25/25 [00:00<00:00, 48.56it/s]\n"
     ]
    },
    {
     "name": "stdout",
     "output_type": "stream",
     "text": [
      "spent time for epoch 803 is 0.5206432342529297s\n",
      "epoch # : 803 gamma : 0.5 gen loss : 0.9840903878211975\n"
     ]
    },
    {
     "name": "stderr",
     "output_type": "stream",
     "text": [
      " 20%|██        | 5/25 [00:00<00:00, 48.76it/s]"
     ]
    },
    {
     "name": "stdout",
     "output_type": "stream",
     "text": [
      "Total number of generated modes is  25\n",
      "The number of high quality samples among 2500 samples is 219\n",
      "The mode dictionary is Counter({22: 18, 7: 18, 23: 18, 16: 14, 17: 14, 11: 13, 4: 12, 12: 11, 3: 11, 1: 11, 6: 10, 8: 9, 0: 8, 2: 7, 13: 6, 14: 6, 20: 5, 18: 5, 10: 5, 19: 4, 15: 4, 24: 3, 9: 3, 5: 2, 21: 2})\n"
     ]
    },
    {
     "name": "stderr",
     "output_type": "stream",
     "text": [
      "100%|██████████| 25/25 [00:00<00:00, 47.64it/s]\n"
     ]
    },
    {
     "name": "stdout",
     "output_type": "stream",
     "text": [
      "spent time for epoch 804 is 0.5307772159576416s\n",
      "epoch # : 804 gamma : 0.5 gen loss : 0.9835056662559509\n"
     ]
    },
    {
     "name": "stderr",
     "output_type": "stream",
     "text": [
      " 20%|██        | 5/25 [00:00<00:00, 48.47it/s]"
     ]
    },
    {
     "name": "stdout",
     "output_type": "stream",
     "text": [
      "Total number of generated modes is  22\n",
      "The number of high quality samples among 2500 samples is 176\n",
      "The mode dictionary is Counter({1: 21, 16: 18, 3: 16, 2: 15, 8: 12, 0: 12, 20: 12, 13: 11, 12: 10, 7: 10, 11: 6, 6: 6, 15: 5, 17: 5, 18: 5, 23: 4, 10: 2, 4: 2, 5: 1, 14: 1, 9: 1, 19: 1})\n"
     ]
    },
    {
     "name": "stderr",
     "output_type": "stream",
     "text": [
      "100%|██████████| 25/25 [00:00<00:00, 48.55it/s]\n"
     ]
    },
    {
     "name": "stdout",
     "output_type": "stream",
     "text": [
      "spent time for epoch 805 is 0.5210971832275391s\n",
      "epoch # : 805 gamma : 0.5 gen loss : 0.9934973120689392\n"
     ]
    },
    {
     "name": "stderr",
     "output_type": "stream",
     "text": [
      " 20%|██        | 5/25 [00:00<00:00, 48.79it/s]"
     ]
    },
    {
     "name": "stdout",
     "output_type": "stream",
     "text": [
      "Total number of generated modes is  25\n",
      "The number of high quality samples among 2500 samples is 279\n",
      "The mode dictionary is Counter({23: 27, 20: 27, 22: 26, 7: 19, 16: 18, 17: 17, 12: 14, 3: 14, 6: 14, 8: 13, 21: 13, 4: 12, 11: 10, 15: 8, 13: 7, 24: 6, 2: 6, 9: 5, 1: 5, 18: 5, 5: 4, 0: 3, 10: 2, 14: 2, 19: 2})\n"
     ]
    },
    {
     "name": "stderr",
     "output_type": "stream",
     "text": [
      "100%|██████████| 25/25 [00:00<00:00, 48.21it/s]\n"
     ]
    },
    {
     "name": "stdout",
     "output_type": "stream",
     "text": [
      "spent time for epoch 806 is 0.524275541305542s\n",
      "epoch # : 806 gamma : 0.5 gen loss : 1.0038071870803833\n"
     ]
    },
    {
     "name": "stderr",
     "output_type": "stream",
     "text": [
      " 20%|██        | 5/25 [00:00<00:00, 48.74it/s]"
     ]
    },
    {
     "name": "stdout",
     "output_type": "stream",
     "text": [
      "Total number of generated modes is  24\n",
      "The number of high quality samples among 2500 samples is 181\n",
      "The mode dictionary is Counter({23: 28, 16: 18, 20: 15, 7: 12, 12: 11, 11: 11, 10: 10, 13: 10, 17: 9, 15: 8, 8: 7, 21: 6, 18: 6, 5: 6, 6: 6, 2: 4, 22: 3, 9: 3, 14: 2, 0: 2, 19: 1, 1: 1, 3: 1, 24: 1})\n"
     ]
    },
    {
     "name": "stderr",
     "output_type": "stream",
     "text": [
      "100%|██████████| 25/25 [00:00<00:00, 48.52it/s]\n"
     ]
    },
    {
     "name": "stdout",
     "output_type": "stream",
     "text": [
      "spent time for epoch 807 is 0.5211305618286133s\n",
      "epoch # : 807 gamma : 0.5 gen loss : 0.9963362812995911\n"
     ]
    },
    {
     "name": "stderr",
     "output_type": "stream",
     "text": [
      " 20%|██        | 5/25 [00:00<00:00, 49.10it/s]"
     ]
    },
    {
     "name": "stdout",
     "output_type": "stream",
     "text": [
      "Total number of generated modes is  22\n",
      "The number of high quality samples among 2500 samples is 191\n",
      "The mode dictionary is Counter({5: 19, 6: 17, 16: 16, 20: 14, 17: 14, 0: 12, 21: 11, 1: 9, 13: 9, 18: 9, 7: 8, 3: 8, 19: 7, 24: 6, 2: 6, 11: 6, 8: 5, 4: 5, 12: 4, 14: 3, 15: 2, 9: 1})\n"
     ]
    },
    {
     "name": "stderr",
     "output_type": "stream",
     "text": [
      "100%|██████████| 25/25 [00:00<00:00, 48.72it/s]\n"
     ]
    },
    {
     "name": "stdout",
     "output_type": "stream",
     "text": [
      "spent time for epoch 808 is 0.5190620422363281s\n",
      "epoch # : 808 gamma : 0.5 gen loss : 1.00208580493927\n"
     ]
    },
    {
     "name": "stderr",
     "output_type": "stream",
     "text": [
      " 20%|██        | 5/25 [00:00<00:00, 49.45it/s]"
     ]
    },
    {
     "name": "stdout",
     "output_type": "stream",
     "text": [
      "Total number of generated modes is  24\n",
      "The number of high quality samples among 2500 samples is 283\n",
      "The mode dictionary is Counter({23: 42, 22: 29, 7: 21, 20: 20, 17: 19, 16: 19, 12: 18, 11: 15, 13: 13, 10: 12, 6: 12, 18: 11, 15: 10, 8: 7, 14: 5, 21: 5, 9: 5, 5: 4, 4: 3, 1: 3, 3: 3, 24: 3, 2: 2, 19: 2})\n"
     ]
    },
    {
     "name": "stderr",
     "output_type": "stream",
     "text": [
      "100%|██████████| 25/25 [00:00<00:00, 48.95it/s]\n"
     ]
    },
    {
     "name": "stdout",
     "output_type": "stream",
     "text": [
      "spent time for epoch 809 is 0.5166664123535156s\n",
      "epoch # : 809 gamma : 0.5 gen loss : 0.9696769714355469\n"
     ]
    },
    {
     "name": "stderr",
     "output_type": "stream",
     "text": [
      " 20%|██        | 5/25 [00:00<00:00, 49.40it/s]"
     ]
    },
    {
     "name": "stdout",
     "output_type": "stream",
     "text": [
      "Total number of generated modes is  25\n",
      "The number of high quality samples among 2500 samples is 245\n",
      "The mode dictionary is Counter({21: 34, 7: 17, 17: 15, 3: 15, 16: 15, 5: 15, 6: 13, 8: 13, 12: 13, 11: 12, 1: 11, 4: 10, 18: 9, 23: 7, 20: 7, 14: 6, 22: 6, 15: 5, 19: 5, 2: 5, 0: 5, 13: 4, 24: 1, 9: 1, 10: 1})\n"
     ]
    },
    {
     "name": "stderr",
     "output_type": "stream",
     "text": [
      "100%|██████████| 25/25 [00:00<00:00, 49.13it/s]\n"
     ]
    },
    {
     "name": "stdout",
     "output_type": "stream",
     "text": [
      "spent time for epoch 810 is 0.5161247253417969s\n",
      "epoch # : 810 gamma : 0.5 gen loss : 1.0025609731674194\n"
     ]
    },
    {
     "name": "stderr",
     "output_type": "stream",
     "text": [
      "  4%|▍         | 1/25 [00:00<00:03,  7.21it/s]"
     ]
    },
    {
     "name": "stdout",
     "output_type": "stream",
     "text": [
      "Total number of generated modes is  22\n",
      "The number of high quality samples among 2500 samples is 231\n",
      "The mode dictionary is Counter({23: 28, 22: 26, 10: 22, 15: 20, 17: 18, 0: 16, 20: 14, 3: 13, 12: 12, 16: 12, 18: 9, 1: 8, 2: 8, 13: 7, 21: 4, 11: 4, 9: 3, 4: 2, 7: 2, 14: 1, 19: 1, 6: 1})\n"
     ]
    },
    {
     "name": "stderr",
     "output_type": "stream",
     "text": [
      "100%|██████████| 25/25 [00:00<00:00, 43.47it/s]\n"
     ]
    },
    {
     "name": "stdout",
     "output_type": "stream",
     "text": [
      "spent time for epoch 811 is 0.5812065601348877s\n",
      "epoch # : 811 gamma : 0.5 gen loss : 1.0056428909301758\n"
     ]
    },
    {
     "name": "stderr",
     "output_type": "stream",
     "text": [
      " 20%|██        | 5/25 [00:00<00:00, 48.23it/s]"
     ]
    },
    {
     "name": "stdout",
     "output_type": "stream",
     "text": [
      "Total number of generated modes is  22\n",
      "The number of high quality samples among 2500 samples is 289\n",
      "The mode dictionary is Counter({22: 46, 23: 41, 16: 23, 20: 21, 3: 20, 7: 19, 18: 14, 11: 13, 13: 13, 8: 13, 5: 11, 12: 10, 6: 10, 15: 9, 9: 7, 2: 6, 17: 5, 21: 4, 14: 1, 4: 1, 24: 1, 0: 1})\n"
     ]
    },
    {
     "name": "stderr",
     "output_type": "stream",
     "text": [
      "100%|██████████| 25/25 [00:00<00:00, 48.02it/s]\n"
     ]
    },
    {
     "name": "stdout",
     "output_type": "stream",
     "text": [
      "spent time for epoch 812 is 0.5263140201568604s\n",
      "epoch # : 812 gamma : 0.5 gen loss : 0.991078794002533\n"
     ]
    },
    {
     "name": "stderr",
     "output_type": "stream",
     "text": [
      " 20%|██        | 5/25 [00:00<00:00, 48.54it/s]"
     ]
    },
    {
     "name": "stdout",
     "output_type": "stream",
     "text": [
      "Total number of generated modes is  25\n",
      "The number of high quality samples among 2500 samples is 298\n",
      "The mode dictionary is Counter({23: 29, 20: 29, 4: 24, 5: 19, 7: 18, 3: 17, 16: 16, 0: 16, 17: 16, 12: 15, 2: 12, 8: 11, 10: 10, 1: 9, 13: 8, 15: 8, 22: 7, 18: 7, 9: 7, 21: 5, 6: 4, 11: 3, 24: 3, 14: 3, 19: 2})\n"
     ]
    },
    {
     "name": "stderr",
     "output_type": "stream",
     "text": [
      "100%|██████████| 25/25 [00:00<00:00, 48.48it/s]\n"
     ]
    },
    {
     "name": "stdout",
     "output_type": "stream",
     "text": [
      "spent time for epoch 813 is 0.5212430953979492s\n",
      "epoch # : 813 gamma : 0.5 gen loss : 1.0140961408615112\n"
     ]
    },
    {
     "name": "stderr",
     "output_type": "stream",
     "text": [
      " 20%|██        | 5/25 [00:00<00:00, 48.86it/s]"
     ]
    },
    {
     "name": "stdout",
     "output_type": "stream",
     "text": [
      "Total number of generated modes is  25\n",
      "The number of high quality samples among 2500 samples is 284\n",
      "The mode dictionary is Counter({22: 46, 7: 31, 17: 29, 20: 18, 23: 17, 8: 15, 18: 15, 24: 13, 3: 11, 19: 11, 5: 9, 13: 9, 12: 8, 1: 8, 16: 8, 6: 7, 14: 6, 2: 4, 15: 4, 21: 4, 10: 3, 11: 3, 0: 2, 4: 2, 9: 1})\n"
     ]
    },
    {
     "name": "stderr",
     "output_type": "stream",
     "text": [
      "100%|██████████| 25/25 [00:00<00:00, 47.94it/s]\n"
     ]
    },
    {
     "name": "stdout",
     "output_type": "stream",
     "text": [
      "spent time for epoch 814 is 0.5272138118743896s\n",
      "epoch # : 814 gamma : 0.5 gen loss : 0.9876145124435425\n"
     ]
    },
    {
     "name": "stderr",
     "output_type": "stream",
     "text": [
      " 20%|██        | 5/25 [00:00<00:00, 48.75it/s]"
     ]
    },
    {
     "name": "stdout",
     "output_type": "stream",
     "text": [
      "Total number of generated modes is  25\n",
      "The number of high quality samples among 2500 samples is 248\n",
      "The mode dictionary is Counter({20: 29, 16: 19, 8: 17, 17: 16, 5: 16, 9: 16, 15: 14, 22: 10, 13: 10, 12: 10, 2: 9, 10: 8, 4: 8, 18: 8, 7: 7, 11: 7, 23: 7, 21: 7, 1: 7, 19: 5, 6: 5, 0: 4, 14: 4, 3: 3, 24: 2})\n"
     ]
    },
    {
     "name": "stderr",
     "output_type": "stream",
     "text": [
      "100%|██████████| 25/25 [00:00<00:00, 48.04it/s]\n"
     ]
    },
    {
     "name": "stdout",
     "output_type": "stream",
     "text": [
      "spent time for epoch 815 is 0.5263822078704834s\n",
      "epoch # : 815 gamma : 0.5 gen loss : 1.0173264741897583\n"
     ]
    },
    {
     "name": "stderr",
     "output_type": "stream",
     "text": [
      " 20%|██        | 5/25 [00:00<00:00, 48.67it/s]"
     ]
    },
    {
     "name": "stdout",
     "output_type": "stream",
     "text": [
      "Total number of generated modes is  25\n",
      "The number of high quality samples among 2500 samples is 246\n",
      "The mode dictionary is Counter({17: 24, 20: 24, 16: 21, 24: 17, 15: 16, 12: 13, 11: 13, 22: 13, 7: 13, 23: 10, 13: 10, 10: 9, 6: 8, 21: 8, 2: 8, 8: 7, 19: 7, 18: 6, 5: 5, 1: 4, 3: 4, 14: 2, 4: 2, 0: 1, 9: 1})\n"
     ]
    },
    {
     "name": "stderr",
     "output_type": "stream",
     "text": [
      "100%|██████████| 25/25 [00:00<00:00, 48.75it/s]\n"
     ]
    },
    {
     "name": "stdout",
     "output_type": "stream",
     "text": [
      "spent time for epoch 816 is 0.5187110900878906s\n",
      "epoch # : 816 gamma : 0.5 gen loss : 1.0051214694976807\n"
     ]
    },
    {
     "name": "stderr",
     "output_type": "stream",
     "text": [
      " 20%|██        | 5/25 [00:00<00:00, 47.95it/s]"
     ]
    },
    {
     "name": "stdout",
     "output_type": "stream",
     "text": [
      "Total number of generated modes is  25\n",
      "The number of high quality samples among 2500 samples is 301\n",
      "The mode dictionary is Counter({20: 37, 17: 24, 16: 20, 3: 18, 19: 16, 6: 15, 4: 15, 12: 15, 8: 15, 5: 14, 1: 13, 13: 13, 14: 10, 7: 10, 0: 9, 15: 8, 22: 8, 2: 8, 18: 8, 23: 7, 11: 7, 10: 4, 21: 3, 9: 3, 24: 1})\n"
     ]
    },
    {
     "name": "stderr",
     "output_type": "stream",
     "text": [
      "100%|██████████| 25/25 [00:00<00:00, 48.36it/s]\n"
     ]
    },
    {
     "name": "stdout",
     "output_type": "stream",
     "text": [
      "spent time for epoch 817 is 0.5228555202484131s\n",
      "epoch # : 817 gamma : 0.5 gen loss : 1.005629301071167\n"
     ]
    },
    {
     "name": "stderr",
     "output_type": "stream",
     "text": [
      " 20%|██        | 5/25 [00:00<00:00, 48.46it/s]"
     ]
    },
    {
     "name": "stdout",
     "output_type": "stream",
     "text": [
      "Total number of generated modes is  24\n",
      "The number of high quality samples among 2500 samples is 169\n",
      "The mode dictionary is Counter({15: 26, 18: 17, 7: 17, 6: 13, 0: 12, 13: 12, 5: 11, 8: 10, 16: 9, 17: 7, 12: 6, 11: 5, 10: 4, 20: 4, 22: 3, 23: 3, 3: 2, 21: 2, 2: 1, 9: 1, 24: 1, 14: 1, 19: 1, 1: 1})\n"
     ]
    },
    {
     "name": "stderr",
     "output_type": "stream",
     "text": [
      "100%|██████████| 25/25 [00:00<00:00, 48.44it/s]\n"
     ]
    },
    {
     "name": "stdout",
     "output_type": "stream",
     "text": [
      "spent time for epoch 818 is 0.522491455078125s\n",
      "epoch # : 818 gamma : 0.5 gen loss : 0.9989497065544128\n"
     ]
    },
    {
     "name": "stderr",
     "output_type": "stream",
     "text": [
      " 20%|██        | 5/25 [00:00<00:00, 49.21it/s]"
     ]
    },
    {
     "name": "stdout",
     "output_type": "stream",
     "text": [
      "Total number of generated modes is  23\n",
      "The number of high quality samples among 2500 samples is 242\n",
      "The mode dictionary is Counter({5: 35, 4: 28, 21: 21, 8: 16, 14: 14, 16: 13, 7: 12, 19: 12, 9: 11, 3: 11, 18: 11, 2: 8, 6: 8, 17: 7, 1: 6, 12: 6, 13: 6, 20: 5, 24: 4, 11: 4, 0: 2, 23: 1, 15: 1})\n"
     ]
    },
    {
     "name": "stderr",
     "output_type": "stream",
     "text": [
      "100%|██████████| 25/25 [00:00<00:00, 48.56it/s]\n"
     ]
    },
    {
     "name": "stdout",
     "output_type": "stream",
     "text": [
      "spent time for epoch 819 is 0.5207886695861816s\n",
      "epoch # : 819 gamma : 0.5 gen loss : 1.0408146381378174\n"
     ]
    },
    {
     "name": "stderr",
     "output_type": "stream",
     "text": [
      " 20%|██        | 5/25 [00:00<00:00, 49.04it/s]"
     ]
    },
    {
     "name": "stdout",
     "output_type": "stream",
     "text": [
      "Total number of generated modes is  24\n",
      "The number of high quality samples among 2500 samples is 276\n",
      "The mode dictionary is Counter({21: 36, 15: 22, 3: 17, 19: 15, 2: 14, 20: 14, 18: 12, 16: 12, 6: 12, 7: 11, 4: 11, 14: 11, 5: 11, 17: 9, 1: 9, 9: 8, 8: 8, 0: 8, 12: 7, 24: 7, 11: 7, 13: 5, 10: 5, 22: 5})\n"
     ]
    },
    {
     "name": "stderr",
     "output_type": "stream",
     "text": [
      "100%|██████████| 25/25 [00:00<00:00, 48.75it/s]\n"
     ]
    },
    {
     "name": "stdout",
     "output_type": "stream",
     "text": [
      "spent time for epoch 820 is 0.5184359550476074s\n",
      "epoch # : 820 gamma : 0.5 gen loss : 0.9852404594421387\n"
     ]
    },
    {
     "name": "stderr",
     "output_type": "stream",
     "text": [
      " 20%|██        | 5/25 [00:00<00:00, 49.50it/s]"
     ]
    },
    {
     "name": "stdout",
     "output_type": "stream",
     "text": [
      "Total number of generated modes is  23\n",
      "The number of high quality samples among 2500 samples is 205\n",
      "The mode dictionary is Counter({23: 38, 5: 20, 8: 17, 17: 17, 7: 15, 6: 14, 20: 11, 13: 10, 1: 9, 15: 7, 18: 7, 11: 7, 3: 6, 16: 5, 22: 5, 14: 4, 0: 3, 9: 3, 12: 2, 4: 2, 19: 1, 10: 1, 2: 1})\n"
     ]
    },
    {
     "name": "stderr",
     "output_type": "stream",
     "text": [
      "100%|██████████| 25/25 [00:00<00:00, 48.70it/s]\n"
     ]
    },
    {
     "name": "stdout",
     "output_type": "stream",
     "text": [
      "spent time for epoch 821 is 0.5190479755401611s\n",
      "epoch # : 821 gamma : 0.5 gen loss : 0.9954860210418701\n"
     ]
    },
    {
     "name": "stderr",
     "output_type": "stream",
     "text": [
      "  4%|▍         | 1/25 [00:00<00:03,  7.25it/s]"
     ]
    },
    {
     "name": "stdout",
     "output_type": "stream",
     "text": [
      "Total number of generated modes is  24\n",
      "The number of high quality samples among 2500 samples is 308\n",
      "The mode dictionary is Counter({20: 47, 23: 30, 17: 27, 21: 27, 7: 24, 15: 18, 5: 16, 22: 15, 6: 13, 16: 12, 18: 12, 8: 10, 11: 10, 12: 9, 10: 8, 13: 8, 1: 4, 2: 4, 24: 4, 0: 3, 14: 3, 3: 2, 4: 1, 9: 1})\n"
     ]
    },
    {
     "name": "stderr",
     "output_type": "stream",
     "text": [
      "100%|██████████| 25/25 [00:00<00:00, 43.08it/s]\n"
     ]
    },
    {
     "name": "stdout",
     "output_type": "stream",
     "text": [
      "spent time for epoch 822 is 0.5858590602874756s\n",
      "epoch # : 822 gamma : 0.5 gen loss : 0.9799582362174988\n"
     ]
    },
    {
     "name": "stderr",
     "output_type": "stream",
     "text": [
      " 16%|█▌        | 4/25 [00:00<00:00, 39.89it/s]"
     ]
    },
    {
     "name": "stdout",
     "output_type": "stream",
     "text": [
      "Total number of generated modes is  25\n",
      "The number of high quality samples among 2500 samples is 274\n",
      "The mode dictionary is Counter({0: 36, 3: 26, 5: 23, 16: 19, 9: 15, 6: 14, 1: 13, 7: 12, 15: 12, 4: 11, 20: 10, 19: 10, 21: 9, 13: 9, 8: 8, 2: 8, 18: 8, 17: 7, 14: 7, 23: 5, 12: 4, 11: 4, 24: 2, 10: 1, 22: 1})\n"
     ]
    },
    {
     "name": "stderr",
     "output_type": "stream",
     "text": [
      "100%|██████████| 25/25 [00:00<00:00, 47.84it/s]\n"
     ]
    },
    {
     "name": "stdout",
     "output_type": "stream",
     "text": [
      "spent time for epoch 823 is 0.5284366607666016s\n",
      "epoch # : 823 gamma : 0.5 gen loss : 0.9967005848884583\n"
     ]
    },
    {
     "name": "stderr",
     "output_type": "stream",
     "text": [
      "  4%|▍         | 1/25 [00:00<00:02,  9.38it/s]"
     ]
    },
    {
     "name": "stdout",
     "output_type": "stream",
     "text": [
      "Total number of generated modes is  23\n",
      "The number of high quality samples among 2500 samples is 193\n",
      "The mode dictionary is Counter({7: 21, 20: 16, 15: 15, 16: 14, 13: 13, 8: 12, 14: 11, 11: 10, 10: 9, 17: 8, 21: 8, 6: 8, 24: 7, 18: 7, 9: 7, 19: 6, 12: 5, 5: 5, 1: 5, 22: 2, 0: 2, 3: 1, 23: 1})\n"
     ]
    },
    {
     "name": "stderr",
     "output_type": "stream",
     "text": [
      "100%|██████████| 25/25 [00:00<00:00, 37.86it/s]\n"
     ]
    },
    {
     "name": "stdout",
     "output_type": "stream",
     "text": [
      "spent time for epoch 824 is 0.6663608551025391s\n",
      "epoch # : 824 gamma : 0.5 gen loss : 0.974984884262085\n"
     ]
    },
    {
     "name": "stderr",
     "output_type": "stream",
     "text": [
      "  4%|▍         | 1/25 [00:00<00:02,  9.38it/s]"
     ]
    },
    {
     "name": "stdout",
     "output_type": "stream",
     "text": [
      "Total number of generated modes is  23\n",
      "The number of high quality samples among 2500 samples is 257\n",
      "The mode dictionary is Counter({21: 44, 23: 21, 16: 20, 17: 19, 20: 19, 12: 18, 18: 14, 5: 14, 8: 13, 6: 12, 13: 11, 7: 11, 11: 10, 22: 6, 14: 6, 9: 5, 3: 4, 15: 3, 0: 2, 24: 2, 4: 1, 1: 1, 10: 1})\n"
     ]
    },
    {
     "name": "stderr",
     "output_type": "stream",
     "text": [
      "100%|██████████| 25/25 [00:00<00:00, 36.11it/s]\n"
     ]
    },
    {
     "name": "stdout",
     "output_type": "stream",
     "text": [
      "spent time for epoch 825 is 0.6983785629272461s\n",
      "epoch # : 825 gamma : 0.5 gen loss : 1.0061805248260498\n"
     ]
    },
    {
     "name": "stderr",
     "output_type": "stream",
     "text": [
      "  4%|▍         | 1/25 [00:00<00:02,  9.41it/s]"
     ]
    },
    {
     "name": "stdout",
     "output_type": "stream",
     "text": [
      "Total number of generated modes is  23\n",
      "The number of high quality samples among 2500 samples is 266\n",
      "The mode dictionary is Counter({5: 60, 0: 25, 6: 21, 18: 17, 16: 15, 7: 15, 13: 12, 17: 12, 8: 11, 19: 9, 23: 8, 21: 7, 14: 7, 1: 6, 12: 6, 3: 6, 9: 6, 15: 5, 24: 5, 2: 5, 11: 4, 4: 3, 10: 1})\n"
     ]
    },
    {
     "name": "stderr",
     "output_type": "stream",
     "text": [
      "100%|██████████| 25/25 [00:00<00:00, 36.33it/s]\n"
     ]
    },
    {
     "name": "stdout",
     "output_type": "stream",
     "text": [
      "spent time for epoch 826 is 0.6943752765655518s\n",
      "epoch # : 826 gamma : 0.5 gen loss : 1.0145879983901978\n"
     ]
    },
    {
     "name": "stderr",
     "output_type": "stream",
     "text": [
      " 20%|██        | 5/25 [00:00<00:00, 47.73it/s]"
     ]
    },
    {
     "name": "stdout",
     "output_type": "stream",
     "text": [
      "Total number of generated modes is  24\n",
      "The number of high quality samples among 2500 samples is 219\n",
      "The mode dictionary is Counter({5: 29, 14: 19, 7: 18, 13: 16, 20: 15, 6: 14, 2: 14, 8: 14, 15: 13, 16: 12, 19: 8, 21: 7, 11: 6, 9: 5, 12: 5, 10: 4, 4: 4, 17: 4, 24: 4, 18: 3, 3: 2, 1: 1, 0: 1, 22: 1})\n"
     ]
    },
    {
     "name": "stderr",
     "output_type": "stream",
     "text": [
      "100%|██████████| 25/25 [00:00<00:00, 37.82it/s]\n"
     ]
    },
    {
     "name": "stdout",
     "output_type": "stream",
     "text": [
      "spent time for epoch 827 is 0.6670920848846436s\n",
      "epoch # : 827 gamma : 0.5 gen loss : 1.031288743019104\n"
     ]
    },
    {
     "name": "stderr",
     "output_type": "stream",
     "text": [
      "  4%|▍         | 1/25 [00:00<00:02,  9.40it/s]"
     ]
    },
    {
     "name": "stdout",
     "output_type": "stream",
     "text": [
      "Total number of generated modes is  25\n",
      "The number of high quality samples among 2500 samples is 416\n",
      "The mode dictionary is Counter({0: 75, 5: 47, 23: 41, 10: 28, 16: 24, 17: 21, 15: 18, 7: 17, 13: 17, 18: 14, 6: 13, 1: 12, 20: 12, 3: 9, 12: 9, 2: 9, 22: 9, 8: 8, 4: 8, 9: 8, 11: 7, 24: 4, 14: 3, 19: 2, 21: 1})\n"
     ]
    },
    {
     "name": "stderr",
     "output_type": "stream",
     "text": [
      "100%|██████████| 25/25 [00:00<00:00, 35.88it/s]\n"
     ]
    },
    {
     "name": "stdout",
     "output_type": "stream",
     "text": [
      "spent time for epoch 828 is 0.7041068077087402s\n",
      "epoch # : 828 gamma : 0.5 gen loss : 1.0183128118515015\n"
     ]
    },
    {
     "name": "stderr",
     "output_type": "stream",
     "text": [
      "  4%|▍         | 1/25 [00:00<00:02,  9.33it/s]"
     ]
    },
    {
     "name": "stdout",
     "output_type": "stream",
     "text": [
      "Total number of generated modes is  23\n",
      "The number of high quality samples among 2500 samples is 197\n",
      "The mode dictionary is Counter({7: 24, 17: 20, 16: 17, 8: 16, 3: 13, 9: 12, 0: 10, 24: 9, 12: 8, 19: 8, 1: 8, 13: 7, 6: 7, 18: 6, 14: 6, 5: 6, 2: 5, 15: 5, 11: 4, 20: 3, 22: 1, 21: 1, 4: 1})\n"
     ]
    },
    {
     "name": "stderr",
     "output_type": "stream",
     "text": [
      "100%|██████████| 25/25 [00:00<00:00, 37.88it/s]\n"
     ]
    },
    {
     "name": "stdout",
     "output_type": "stream",
     "text": [
      "spent time for epoch 829 is 0.6660826206207275s\n",
      "epoch # : 829 gamma : 0.5 gen loss : 0.9999966025352478\n"
     ]
    },
    {
     "name": "stderr",
     "output_type": "stream",
     "text": [
      "  4%|▍         | 1/25 [00:00<00:02,  9.99it/s]"
     ]
    },
    {
     "name": "stdout",
     "output_type": "stream",
     "text": [
      "Total number of generated modes is  25\n",
      "The number of high quality samples among 2500 samples is 273\n",
      "The mode dictionary is Counter({5: 23, 21: 21, 15: 20, 22: 17, 2: 14, 20: 13, 3: 12, 1: 12, 14: 12, 9: 11, 7: 11, 16: 11, 0: 9, 11: 9, 4: 9, 6: 9, 17: 9, 13: 9, 24: 8, 12: 7, 18: 7, 19: 7, 8: 6, 23: 6, 10: 1})\n"
     ]
    },
    {
     "name": "stderr",
     "output_type": "stream",
     "text": [
      "100%|██████████| 25/25 [00:00<00:00, 46.49it/s]\n"
     ]
    },
    {
     "name": "stdout",
     "output_type": "stream",
     "text": [
      "spent time for epoch 830 is 0.5433733463287354s\n",
      "epoch # : 830 gamma : 0.5 gen loss : 0.9964017868041992\n"
     ]
    },
    {
     "name": "stderr",
     "output_type": "stream",
     "text": [
      " 20%|██        | 5/25 [00:00<00:00, 48.46it/s]"
     ]
    },
    {
     "name": "stdout",
     "output_type": "stream",
     "text": [
      "Total number of generated modes is  24\n",
      "The number of high quality samples among 2500 samples is 229\n",
      "The mode dictionary is Counter({7: 25, 16: 19, 2: 17, 6: 14, 1: 14, 15: 12, 17: 12, 13: 12, 20: 11, 19: 9, 0: 9, 8: 9, 23: 9, 9: 9, 12: 8, 3: 7, 11: 7, 18: 6, 14: 5, 21: 4, 22: 4, 5: 3, 24: 3, 4: 1})\n"
     ]
    },
    {
     "name": "stderr",
     "output_type": "stream",
     "text": [
      "100%|██████████| 25/25 [00:00<00:00, 38.43it/s]\n"
     ]
    },
    {
     "name": "stdout",
     "output_type": "stream",
     "text": [
      "spent time for epoch 831 is 0.6565742492675781s\n",
      "epoch # : 831 gamma : 0.5 gen loss : 1.0247739553451538\n"
     ]
    },
    {
     "name": "stderr",
     "output_type": "stream",
     "text": [
      "  4%|▍         | 1/25 [00:00<00:02,  9.66it/s]"
     ]
    },
    {
     "name": "stdout",
     "output_type": "stream",
     "text": [
      "Total number of generated modes is  23\n",
      "The number of high quality samples among 2500 samples is 246\n",
      "The mode dictionary is Counter({23: 41, 22: 40, 17: 25, 5: 17, 18: 12, 11: 11, 12: 11, 13: 11, 8: 10, 1: 9, 7: 9, 16: 9, 6: 8, 20: 7, 9: 6, 19: 6, 21: 5, 4: 2, 15: 2, 24: 2, 3: 1, 0: 1, 14: 1})\n"
     ]
    },
    {
     "name": "stderr",
     "output_type": "stream",
     "text": [
      "100%|██████████| 25/25 [00:00<00:00, 36.28it/s]\n"
     ]
    },
    {
     "name": "stdout",
     "output_type": "stream",
     "text": [
      "spent time for epoch 832 is 0.694718599319458s\n",
      "epoch # : 832 gamma : 0.5 gen loss : 1.0021522045135498\n"
     ]
    },
    {
     "name": "stderr",
     "output_type": "stream",
     "text": [
      "  4%|▍         | 1/25 [00:00<00:04,  5.98it/s]"
     ]
    },
    {
     "name": "stdout",
     "output_type": "stream",
     "text": [
      "Total number of generated modes is  25\n",
      "The number of high quality samples among 2500 samples is 339\n",
      "The mode dictionary is Counter({0: 54, 21: 53, 23: 37, 5: 36, 20: 31, 15: 22, 16: 19, 7: 13, 6: 12, 1: 9, 8: 9, 18: 8, 22: 6, 11: 6, 3: 5, 2: 4, 9: 4, 19: 2, 10: 2, 12: 2, 13: 1, 17: 1, 4: 1, 14: 1, 24: 1})\n"
     ]
    },
    {
     "name": "stderr",
     "output_type": "stream",
     "text": [
      "100%|██████████| 25/25 [00:00<00:00, 34.31it/s]\n"
     ]
    },
    {
     "name": "stdout",
     "output_type": "stream",
     "text": [
      "spent time for epoch 833 is 0.7346885204315186s\n",
      "epoch # : 833 gamma : 0.5 gen loss : 1.0231289863586426\n"
     ]
    },
    {
     "name": "stderr",
     "output_type": "stream",
     "text": [
      "  4%|▍         | 1/25 [00:00<00:02,  9.50it/s]"
     ]
    },
    {
     "name": "stdout",
     "output_type": "stream",
     "text": [
      "Total number of generated modes is  25\n",
      "The number of high quality samples among 2500 samples is 222\n",
      "The mode dictionary is Counter({15: 20, 16: 20, 5: 19, 7: 17, 8: 16, 17: 14, 18: 14, 19: 11, 14: 10, 23: 10, 6: 10, 20: 7, 10: 7, 13: 7, 9: 7, 3: 5, 21: 5, 11: 5, 2: 5, 12: 4, 22: 3, 1: 2, 24: 2, 4: 1, 0: 1})\n"
     ]
    },
    {
     "name": "stderr",
     "output_type": "stream",
     "text": [
      "100%|██████████| 25/25 [00:00<00:00, 38.03it/s]\n"
     ]
    },
    {
     "name": "stdout",
     "output_type": "stream",
     "text": [
      "spent time for epoch 834 is 0.6639652252197266s\n",
      "epoch # : 834 gamma : 0.5 gen loss : 1.045263648033142\n"
     ]
    },
    {
     "name": "stderr",
     "output_type": "stream",
     "text": [
      "  4%|▍         | 1/25 [00:00<00:02,  9.46it/s]"
     ]
    },
    {
     "name": "stdout",
     "output_type": "stream",
     "text": [
      "Total number of generated modes is  25\n",
      "The number of high quality samples among 2500 samples is 270\n",
      "The mode dictionary is Counter({23: 39, 8: 19, 16: 15, 7: 14, 3: 14, 15: 14, 6: 13, 19: 12, 0: 12, 20: 11, 10: 11, 21: 10, 18: 10, 9: 10, 2: 9, 14: 8, 1: 8, 11: 7, 13: 7, 24: 7, 17: 6, 5: 5, 4: 4, 22: 3, 12: 2})\n"
     ]
    },
    {
     "name": "stderr",
     "output_type": "stream",
     "text": [
      "100%|██████████| 25/25 [00:00<00:00, 34.83it/s]\n"
     ]
    },
    {
     "name": "stdout",
     "output_type": "stream",
     "text": [
      "spent time for epoch 835 is 0.7239038944244385s\n",
      "epoch # : 835 gamma : 0.5 gen loss : 1.0193318128585815\n"
     ]
    },
    {
     "name": "stderr",
     "output_type": "stream",
     "text": [
      "  4%|▍         | 1/25 [00:00<00:02,  9.49it/s]"
     ]
    },
    {
     "name": "stdout",
     "output_type": "stream",
     "text": [
      "Total number of generated modes is  24\n",
      "The number of high quality samples among 2500 samples is 272\n",
      "The mode dictionary is Counter({21: 60, 20: 26, 7: 18, 15: 17, 16: 17, 6: 16, 2: 15, 3: 13, 1: 13, 0: 11, 8: 10, 11: 9, 17: 9, 10: 5, 18: 5, 13: 5, 24: 5, 9: 4, 23: 3, 4: 3, 22: 3, 19: 2, 5: 2, 12: 1})\n"
     ]
    },
    {
     "name": "stderr",
     "output_type": "stream",
     "text": [
      "100%|██████████| 25/25 [00:00<00:00, 36.64it/s]\n"
     ]
    },
    {
     "name": "stdout",
     "output_type": "stream",
     "text": [
      "spent time for epoch 836 is 0.6882100105285645s\n",
      "epoch # : 836 gamma : 0.5 gen loss : 0.9927236437797546\n"
     ]
    },
    {
     "name": "stderr",
     "output_type": "stream",
     "text": [
      " 12%|█▏        | 3/25 [00:00<00:00, 29.51it/s]"
     ]
    },
    {
     "name": "stdout",
     "output_type": "stream",
     "text": [
      "Total number of generated modes is  24\n",
      "The number of high quality samples among 2500 samples is 316\n",
      "The mode dictionary is Counter({20: 63, 21: 34, 23: 31, 17: 23, 13: 15, 6: 15, 16: 15, 15: 14, 22: 14, 10: 14, 7: 11, 18: 10, 5: 10, 2: 7, 19: 6, 3: 6, 8: 5, 1: 5, 11: 5, 9: 3, 12: 3, 14: 3, 0: 2, 4: 2})\n"
     ]
    },
    {
     "name": "stderr",
     "output_type": "stream",
     "text": [
      "100%|██████████| 25/25 [00:00<00:00, 47.54it/s]\n"
     ]
    },
    {
     "name": "stdout",
     "output_type": "stream",
     "text": [
      "spent time for epoch 837 is 0.531773567199707s\n",
      "epoch # : 837 gamma : 0.5 gen loss : 0.988102376461029\n"
     ]
    },
    {
     "name": "stderr",
     "output_type": "stream",
     "text": [
      " 20%|██        | 5/25 [00:00<00:00, 48.41it/s]"
     ]
    },
    {
     "name": "stdout",
     "output_type": "stream",
     "text": [
      "Total number of generated modes is  25\n",
      "The number of high quality samples among 2500 samples is 268\n",
      "The mode dictionary is Counter({23: 43, 7: 25, 1: 17, 13: 16, 6: 15, 11: 14, 3: 14, 18: 14, 16: 13, 10: 13, 0: 12, 17: 11, 2: 9, 8: 8, 21: 8, 9: 6, 24: 6, 15: 5, 20: 4, 19: 3, 12: 3, 14: 3, 22: 3, 4: 2, 5: 1})\n"
     ]
    },
    {
     "name": "stderr",
     "output_type": "stream",
     "text": [
      "100%|██████████| 25/25 [00:00<00:00, 48.43it/s]\n"
     ]
    },
    {
     "name": "stdout",
     "output_type": "stream",
     "text": [
      "spent time for epoch 838 is 0.5222012996673584s\n",
      "epoch # : 838 gamma : 0.5 gen loss : 1.0068517923355103\n"
     ]
    },
    {
     "name": "stderr",
     "output_type": "stream",
     "text": [
      " 20%|██        | 5/25 [00:00<00:00, 49.15it/s]"
     ]
    },
    {
     "name": "stdout",
     "output_type": "stream",
     "text": [
      "Total number of generated modes is  23\n",
      "The number of high quality samples among 2500 samples is 227\n",
      "The mode dictionary is Counter({21: 47, 7: 26, 5: 24, 16: 13, 20: 13, 17: 12, 15: 11, 12: 9, 6: 9, 13: 9, 18: 8, 8: 7, 22: 6, 1: 5, 10: 5, 9: 5, 2: 4, 3: 3, 14: 3, 11: 3, 23: 2, 4: 2, 24: 1})\n"
     ]
    },
    {
     "name": "stderr",
     "output_type": "stream",
     "text": [
      "100%|██████████| 25/25 [00:00<00:00, 41.91it/s]\n"
     ]
    },
    {
     "name": "stdout",
     "output_type": "stream",
     "text": [
      "spent time for epoch 839 is 0.6019291877746582s\n",
      "epoch # : 839 gamma : 0.5 gen loss : 0.9665867686271667\n"
     ]
    },
    {
     "name": "stderr",
     "output_type": "stream",
     "text": [
      "  4%|▍         | 1/25 [00:00<00:02,  9.54it/s]"
     ]
    },
    {
     "name": "stdout",
     "output_type": "stream",
     "text": [
      "Total number of generated modes is  24\n",
      "The number of high quality samples among 2500 samples is 281\n",
      "The mode dictionary is Counter({22: 27, 17: 23, 7: 23, 8: 20, 5: 19, 4: 18, 6: 15, 16: 13, 3: 13, 18: 12, 1: 11, 11: 10, 14: 10, 12: 9, 13: 9, 19: 9, 0: 8, 9: 8, 23: 6, 2: 6, 24: 5, 20: 4, 15: 2, 21: 1})\n"
     ]
    },
    {
     "name": "stderr",
     "output_type": "stream",
     "text": [
      "100%|██████████| 25/25 [00:00<00:00, 36.16it/s]\n"
     ]
    },
    {
     "name": "stdout",
     "output_type": "stream",
     "text": [
      "spent time for epoch 840 is 0.6973729133605957s\n",
      "epoch # : 840 gamma : 0.5 gen loss : 1.008894920349121\n"
     ]
    },
    {
     "name": "stderr",
     "output_type": "stream",
     "text": [
      " 20%|██        | 5/25 [00:00<00:00, 48.11it/s]"
     ]
    },
    {
     "name": "stdout",
     "output_type": "stream",
     "text": [
      "Total number of generated modes is  22\n",
      "The number of high quality samples among 2500 samples is 198\n",
      "The mode dictionary is Counter({17: 23, 13: 17, 2: 16, 16: 14, 6: 14, 12: 13, 18: 13, 1: 12, 23: 12, 3: 10, 4: 9, 7: 9, 0: 7, 8: 7, 11: 7, 9: 5, 15: 3, 10: 2, 14: 2, 20: 1, 22: 1, 19: 1})\n"
     ]
    },
    {
     "name": "stderr",
     "output_type": "stream",
     "text": [
      "100%|██████████| 25/25 [00:00<00:00, 40.27it/s]\n"
     ]
    },
    {
     "name": "stdout",
     "output_type": "stream",
     "text": [
      "spent time for epoch 841 is 0.6267364025115967s\n",
      "epoch # : 841 gamma : 0.5 gen loss : 1.0355663299560547\n"
     ]
    },
    {
     "name": "stderr",
     "output_type": "stream",
     "text": [
      " 20%|██        | 5/25 [00:00<00:00, 48.40it/s]"
     ]
    },
    {
     "name": "stdout",
     "output_type": "stream",
     "text": [
      "Total number of generated modes is  24\n",
      "The number of high quality samples among 2500 samples is 150\n",
      "The mode dictionary is Counter({15: 20, 13: 14, 16: 13, 17: 12, 6: 11, 18: 9, 21: 9, 20: 8, 7: 6, 2: 6, 3: 6, 8: 5, 11: 5, 12: 5, 1: 4, 0: 3, 23: 3, 10: 2, 9: 2, 22: 2, 5: 2, 24: 1, 14: 1, 19: 1})\n"
     ]
    },
    {
     "name": "stderr",
     "output_type": "stream",
     "text": [
      "100%|██████████| 25/25 [00:00<00:00, 46.24it/s]\n"
     ]
    },
    {
     "name": "stdout",
     "output_type": "stream",
     "text": [
      "spent time for epoch 842 is 0.5465207099914551s\n",
      "epoch # : 842 gamma : 0.5 gen loss : 0.9813578724861145\n"
     ]
    },
    {
     "name": "stderr",
     "output_type": "stream",
     "text": [
      " 20%|██        | 5/25 [00:00<00:00, 49.00it/s]"
     ]
    },
    {
     "name": "stdout",
     "output_type": "stream",
     "text": [
      "Total number of generated modes is  24\n",
      "The number of high quality samples among 2500 samples is 166\n",
      "The mode dictionary is Counter({7: 26, 2: 14, 13: 13, 6: 12, 12: 11, 18: 11, 0: 10, 1: 9, 16: 7, 8: 6, 23: 6, 21: 5, 11: 5, 17: 5, 14: 5, 15: 4, 19: 4, 10: 3, 3: 2, 5: 2, 9: 2, 4: 2, 24: 1, 22: 1})\n"
     ]
    },
    {
     "name": "stderr",
     "output_type": "stream",
     "text": [
      "100%|██████████| 25/25 [00:00<00:00, 42.26it/s]\n"
     ]
    },
    {
     "name": "stdout",
     "output_type": "stream",
     "text": [
      "spent time for epoch 843 is 0.5976529121398926s\n",
      "epoch # : 843 gamma : 0.5 gen loss : 1.0059657096862793\n"
     ]
    },
    {
     "name": "stderr",
     "output_type": "stream",
     "text": [
      "  4%|▍         | 1/25 [00:00<00:03,  7.14it/s]"
     ]
    },
    {
     "name": "stdout",
     "output_type": "stream",
     "text": [
      "Total number of generated modes is  24\n",
      "The number of high quality samples among 2500 samples is 277\n",
      "The mode dictionary is Counter({20: 60, 21: 24, 7: 23, 15: 17, 13: 16, 5: 15, 3: 15, 6: 11, 12: 11, 10: 9, 16: 9, 2: 9, 1: 9, 8: 9, 0: 8, 18: 7, 17: 5, 11: 5, 4: 4, 24: 3, 23: 3, 9: 2, 14: 2, 22: 1})\n"
     ]
    },
    {
     "name": "stderr",
     "output_type": "stream",
     "text": [
      "100%|██████████| 25/25 [00:00<00:00, 36.67it/s]\n"
     ]
    },
    {
     "name": "stdout",
     "output_type": "stream",
     "text": [
      "spent time for epoch 844 is 0.6875083446502686s\n",
      "epoch # : 844 gamma : 0.5 gen loss : 1.0344785451889038\n"
     ]
    },
    {
     "name": "stderr",
     "output_type": "stream",
     "text": [
      "  4%|▍         | 1/25 [00:00<00:02,  9.08it/s]"
     ]
    },
    {
     "name": "stdout",
     "output_type": "stream",
     "text": [
      "Total number of generated modes is  25\n",
      "The number of high quality samples among 2500 samples is 206\n",
      "The mode dictionary is Counter({15: 29, 20: 23, 7: 20, 16: 17, 17: 13, 8: 12, 18: 10, 21: 8, 5: 8, 10: 8, 6: 7, 13: 6, 22: 6, 2: 6, 14: 6, 24: 5, 0: 3, 12: 3, 23: 3, 11: 3, 9: 3, 4: 2, 19: 2, 3: 2, 1: 1})\n"
     ]
    },
    {
     "name": "stderr",
     "output_type": "stream",
     "text": [
      "100%|██████████| 25/25 [00:00<00:00, 35.75it/s]\n"
     ]
    },
    {
     "name": "stdout",
     "output_type": "stream",
     "text": [
      "spent time for epoch 845 is 0.7054245471954346s\n",
      "epoch # : 845 gamma : 0.5 gen loss : 1.0501396656036377\n"
     ]
    },
    {
     "name": "stderr",
     "output_type": "stream",
     "text": [
      " 20%|██        | 5/25 [00:00<00:00, 48.79it/s]"
     ]
    },
    {
     "name": "stdout",
     "output_type": "stream",
     "text": [
      "Total number of generated modes is  24\n",
      "The number of high quality samples among 2500 samples is 256\n",
      "The mode dictionary is Counter({20: 29, 17: 26, 7: 24, 18: 17, 6: 16, 12: 15, 8: 15, 11: 13, 22: 13, 16: 12, 13: 11, 4: 9, 3: 8, 9: 8, 15: 8, 5: 8, 14: 5, 2: 5, 19: 5, 21: 3, 23: 3, 0: 1, 24: 1, 10: 1})\n"
     ]
    },
    {
     "name": "stderr",
     "output_type": "stream",
     "text": [
      "100%|██████████| 25/25 [00:00<00:00, 48.45it/s]\n"
     ]
    },
    {
     "name": "stdout",
     "output_type": "stream",
     "text": [
      "spent time for epoch 846 is 0.5218808650970459s\n",
      "epoch # : 846 gamma : 0.5 gen loss : 1.018741488456726\n"
     ]
    },
    {
     "name": "stderr",
     "output_type": "stream",
     "text": [
      " 20%|██        | 5/25 [00:00<00:00, 48.65it/s]"
     ]
    },
    {
     "name": "stdout",
     "output_type": "stream",
     "text": [
      "Total number of generated modes is  24\n",
      "The number of high quality samples among 2500 samples is 231\n",
      "The mode dictionary is Counter({5: 32, 10: 26, 0: 21, 15: 18, 8: 15, 7: 14, 16: 14, 11: 14, 18: 13, 13: 9, 21: 9, 12: 7, 23: 6, 6: 6, 17: 5, 3: 4, 20: 4, 1: 4, 4: 3, 9: 2, 2: 2, 14: 1, 24: 1, 22: 1})\n"
     ]
    },
    {
     "name": "stderr",
     "output_type": "stream",
     "text": [
      "100%|██████████| 25/25 [00:00<00:00, 48.57it/s]\n"
     ]
    },
    {
     "name": "stdout",
     "output_type": "stream",
     "text": [
      "spent time for epoch 847 is 0.5202617645263672s\n",
      "epoch # : 847 gamma : 0.5 gen loss : 1.0347511768341064\n"
     ]
    },
    {
     "name": "stderr",
     "output_type": "stream",
     "text": [
      " 20%|██        | 5/25 [00:00<00:00, 48.72it/s]"
     ]
    },
    {
     "name": "stdout",
     "output_type": "stream",
     "text": [
      "Total number of generated modes is  22\n",
      "The number of high quality samples among 2500 samples is 213\n",
      "The mode dictionary is Counter({17: 22, 1: 19, 8: 16, 16: 16, 0: 14, 6: 14, 7: 12, 18: 11, 13: 11, 12: 11, 19: 10, 3: 8, 5: 8, 14: 8, 23: 7, 2: 7, 22: 5, 11: 4, 21: 3, 24: 3, 15: 3, 4: 1})\n"
     ]
    },
    {
     "name": "stderr",
     "output_type": "stream",
     "text": [
      "100%|██████████| 25/25 [00:00<00:00, 48.16it/s]\n"
     ]
    },
    {
     "name": "stdout",
     "output_type": "stream",
     "text": [
      "spent time for epoch 848 is 0.5267183780670166s\n",
      "epoch # : 848 gamma : 0.5 gen loss : 1.035280466079712\n"
     ]
    },
    {
     "name": "stderr",
     "output_type": "stream",
     "text": [
      " 20%|██        | 5/25 [00:00<00:00, 46.32it/s]"
     ]
    },
    {
     "name": "stdout",
     "output_type": "stream",
     "text": [
      "Total number of generated modes is  22\n",
      "The number of high quality samples among 2500 samples is 305\n",
      "The mode dictionary is Counter({20: 44, 5: 41, 22: 41, 7: 20, 21: 16, 13: 15, 15: 14, 18: 14, 6: 13, 8: 11, 17: 10, 16: 9, 12: 9, 3: 9, 23: 8, 10: 7, 9: 6, 1: 5, 2: 4, 11: 4, 4: 4, 14: 1})\n"
     ]
    },
    {
     "name": "stderr",
     "output_type": "stream",
     "text": [
      "100%|██████████| 25/25 [00:00<00:00, 38.06it/s]\n"
     ]
    },
    {
     "name": "stdout",
     "output_type": "stream",
     "text": [
      "spent time for epoch 849 is 0.6628763675689697s\n",
      "epoch # : 849 gamma : 0.5 gen loss : 0.984923243522644\n"
     ]
    },
    {
     "name": "stderr",
     "output_type": "stream",
     "text": [
      " 12%|█▏        | 3/25 [00:00<00:00, 29.30it/s]"
     ]
    },
    {
     "name": "stdout",
     "output_type": "stream",
     "text": [
      "Total number of generated modes is  24\n",
      "The number of high quality samples among 2500 samples is 220\n",
      "The mode dictionary is Counter({12: 18, 8: 16, 6: 15, 11: 14, 7: 14, 16: 14, 18: 13, 15: 12, 2: 12, 13: 11, 20: 10, 1: 9, 10: 9, 3: 8, 14: 7, 17: 6, 19: 6, 24: 5, 21: 5, 0: 5, 5: 4, 22: 3, 4: 3, 23: 1})\n"
     ]
    },
    {
     "name": "stderr",
     "output_type": "stream",
     "text": [
      "100%|██████████| 25/25 [00:00<00:00, 39.52it/s]\n"
     ]
    },
    {
     "name": "stdout",
     "output_type": "stream",
     "text": [
      "spent time for epoch 850 is 0.6384360790252686s\n",
      "epoch # : 850 gamma : 0.5 gen loss : 1.0383505821228027\n"
     ]
    },
    {
     "name": "stderr",
     "output_type": "stream",
     "text": [
      " 20%|██        | 5/25 [00:00<00:00, 48.40it/s]"
     ]
    },
    {
     "name": "stdout",
     "output_type": "stream",
     "text": [
      "Total number of generated modes is  23\n",
      "The number of high quality samples among 2500 samples is 246\n",
      "The mode dictionary is Counter({5: 40, 20: 36, 7: 27, 8: 22, 15: 14, 21: 14, 12: 11, 18: 11, 11: 8, 16: 8, 6: 7, 17: 7, 13: 7, 3: 6, 23: 6, 10: 5, 22: 4, 24: 3, 4: 3, 0: 2, 9: 2, 1: 2, 14: 1})\n"
     ]
    },
    {
     "name": "stderr",
     "output_type": "stream",
     "text": [
      "100%|██████████| 25/25 [00:00<00:00, 48.37it/s]\n"
     ]
    },
    {
     "name": "stdout",
     "output_type": "stream",
     "text": [
      "spent time for epoch 851 is 0.5225539207458496s\n",
      "epoch # : 851 gamma : 0.5 gen loss : 1.0305812358856201\n"
     ]
    },
    {
     "name": "stderr",
     "output_type": "stream",
     "text": [
      " 20%|██        | 5/25 [00:00<00:00, 48.86it/s]"
     ]
    },
    {
     "name": "stdout",
     "output_type": "stream",
     "text": [
      "Total number of generated modes is  24\n",
      "The number of high quality samples among 2500 samples is 275\n",
      "The mode dictionary is Counter({7: 26, 16: 24, 5: 21, 20: 18, 2: 15, 8: 15, 21: 14, 3: 14, 0: 14, 10: 14, 1: 12, 15: 12, 11: 12, 13: 10, 14: 8, 18: 7, 9: 7, 12: 6, 24: 6, 17: 5, 6: 5, 4: 4, 19: 3, 23: 3})\n"
     ]
    },
    {
     "name": "stderr",
     "output_type": "stream",
     "text": [
      "100%|██████████| 25/25 [00:00<00:00, 48.39it/s]\n"
     ]
    },
    {
     "name": "stdout",
     "output_type": "stream",
     "text": [
      "spent time for epoch 852 is 0.5224502086639404s\n",
      "epoch # : 852 gamma : 0.5 gen loss : 0.9956047534942627\n"
     ]
    },
    {
     "name": "stderr",
     "output_type": "stream",
     "text": [
      " 16%|█▌        | 4/25 [00:00<00:00, 38.24it/s]"
     ]
    },
    {
     "name": "stdout",
     "output_type": "stream",
     "text": [
      "Total number of generated modes is  25\n",
      "The number of high quality samples among 2500 samples is 248\n",
      "The mode dictionary is Counter({23: 37, 22: 27, 16: 27, 17: 21, 13: 16, 7: 14, 11: 13, 8: 11, 4: 9, 18: 9, 19: 8, 14: 7, 6: 7, 9: 6, 2: 5, 5: 5, 24: 5, 12: 4, 21: 4, 20: 3, 0: 3, 10: 2, 15: 2, 3: 2, 1: 1})\n"
     ]
    },
    {
     "name": "stderr",
     "output_type": "stream",
     "text": [
      "100%|██████████| 25/25 [00:00<00:00, 47.41it/s]\n"
     ]
    },
    {
     "name": "stdout",
     "output_type": "stream",
     "text": [
      "spent time for epoch 853 is 0.5333020687103271s\n",
      "epoch # : 853 gamma : 0.5 gen loss : 0.9964725971221924\n"
     ]
    },
    {
     "name": "stderr",
     "output_type": "stream",
     "text": [
      " 20%|██        | 5/25 [00:00<00:00, 49.53it/s]"
     ]
    },
    {
     "name": "stdout",
     "output_type": "stream",
     "text": [
      "Total number of generated modes is  24\n",
      "The number of high quality samples among 2500 samples is 252\n",
      "The mode dictionary is Counter({21: 29, 2: 23, 7: 20, 12: 20, 22: 16, 8: 14, 1: 13, 13: 11, 6: 11, 16: 10, 15: 9, 17: 9, 23: 9, 11: 9, 3: 8, 4: 8, 0: 8, 18: 7, 10: 5, 9: 4, 5: 4, 14: 2, 20: 2, 19: 1})\n"
     ]
    },
    {
     "name": "stderr",
     "output_type": "stream",
     "text": [
      "100%|██████████| 25/25 [00:00<00:00, 48.99it/s]\n"
     ]
    },
    {
     "name": "stdout",
     "output_type": "stream",
     "text": [
      "spent time for epoch 854 is 0.5158812999725342s\n",
      "epoch # : 854 gamma : 0.5 gen loss : 1.020308017730713\n"
     ]
    },
    {
     "name": "stderr",
     "output_type": "stream",
     "text": [
      "  4%|▍         | 1/25 [00:00<00:03,  7.00it/s]"
     ]
    },
    {
     "name": "stdout",
     "output_type": "stream",
     "text": [
      "Total number of generated modes is  24\n",
      "The number of high quality samples among 2500 samples is 250\n",
      "The mode dictionary is Counter({20: 22, 7: 19, 17: 18, 5: 13, 3: 13, 19: 12, 13: 12, 12: 12, 21: 11, 2: 11, 4: 10, 18: 10, 15: 10, 24: 8, 9: 8, 11: 8, 8: 8, 16: 8, 6: 8, 14: 7, 1: 6, 22: 6, 0: 5, 10: 5})\n"
     ]
    },
    {
     "name": "stderr",
     "output_type": "stream",
     "text": [
      "100%|██████████| 25/25 [00:00<00:00, 42.77it/s]\n"
     ]
    },
    {
     "name": "stdout",
     "output_type": "stream",
     "text": [
      "spent time for epoch 855 is 0.5904245376586914s\n",
      "epoch # : 855 gamma : 0.5 gen loss : 1.0141549110412598\n"
     ]
    },
    {
     "name": "stderr",
     "output_type": "stream",
     "text": [
      " 20%|██        | 5/25 [00:00<00:00, 48.28it/s]"
     ]
    },
    {
     "name": "stdout",
     "output_type": "stream",
     "text": [
      "Total number of generated modes is  25\n",
      "The number of high quality samples among 2500 samples is 299\n",
      "The mode dictionary is Counter({23: 35, 5: 33, 22: 30, 17: 26, 16: 22, 18: 19, 6: 18, 13: 13, 20: 12, 21: 10, 7: 10, 3: 8, 2: 8, 12: 8, 11: 7, 0: 6, 19: 5, 8: 5, 9: 5, 1: 4, 14: 4, 10: 3, 15: 3, 24: 3, 4: 2})\n"
     ]
    },
    {
     "name": "stderr",
     "output_type": "stream",
     "text": [
      "100%|██████████| 25/25 [00:00<00:00, 48.10it/s]\n"
     ]
    },
    {
     "name": "stdout",
     "output_type": "stream",
     "text": [
      "spent time for epoch 856 is 0.5256738662719727s\n",
      "epoch # : 856 gamma : 0.5 gen loss : 1.015432596206665\n"
     ]
    },
    {
     "name": "stderr",
     "output_type": "stream",
     "text": [
      " 20%|██        | 5/25 [00:00<00:00, 48.21it/s]"
     ]
    },
    {
     "name": "stdout",
     "output_type": "stream",
     "text": [
      "Total number of generated modes is  24\n",
      "The number of high quality samples among 2500 samples is 280\n",
      "The mode dictionary is Counter({23: 53, 16: 24, 5: 23, 0: 18, 7: 17, 17: 15, 24: 14, 12: 14, 18: 12, 2: 11, 13: 10, 8: 10, 1: 10, 19: 9, 21: 8, 3: 7, 6: 7, 11: 5, 4: 3, 9: 3, 15: 2, 22: 2, 14: 2, 20: 1})\n"
     ]
    },
    {
     "name": "stderr",
     "output_type": "stream",
     "text": [
      "100%|██████████| 25/25 [00:00<00:00, 48.15it/s]\n"
     ]
    },
    {
     "name": "stdout",
     "output_type": "stream",
     "text": [
      "spent time for epoch 857 is 0.5254006385803223s\n",
      "epoch # : 857 gamma : 0.5 gen loss : 1.0067272186279297\n"
     ]
    },
    {
     "name": "stderr",
     "output_type": "stream",
     "text": [
      " 20%|██        | 5/25 [00:00<00:00, 48.51it/s]"
     ]
    },
    {
     "name": "stdout",
     "output_type": "stream",
     "text": [
      "Total number of generated modes is  25\n",
      "The number of high quality samples among 2500 samples is 227\n",
      "The mode dictionary is Counter({7: 28, 16: 19, 17: 19, 8: 16, 3: 15, 2: 14, 0: 13, 6: 13, 13: 12, 21: 9, 12: 9, 1: 8, 24: 8, 11: 7, 14: 5, 10: 5, 4: 4, 23: 4, 20: 4, 18: 4, 9: 3, 15: 3, 22: 3, 19: 1, 5: 1})\n"
     ]
    },
    {
     "name": "stderr",
     "output_type": "stream",
     "text": [
      "100%|██████████| 25/25 [00:00<00:00, 48.21it/s]\n"
     ]
    },
    {
     "name": "stdout",
     "output_type": "stream",
     "text": [
      "spent time for epoch 858 is 0.5242812633514404s\n",
      "epoch # : 858 gamma : 0.5 gen loss : 0.9612858295440674\n"
     ]
    },
    {
     "name": "stderr",
     "output_type": "stream",
     "text": [
      " 20%|██        | 5/25 [00:00<00:00, 48.89it/s]"
     ]
    },
    {
     "name": "stdout",
     "output_type": "stream",
     "text": [
      "Total number of generated modes is  25\n",
      "The number of high quality samples among 2500 samples is 363\n",
      "The mode dictionary is Counter({0: 59, 5: 36, 17: 19, 8: 18, 7: 16, 4: 16, 16: 16, 18: 16, 13: 15, 15: 14, 14: 12, 2: 12, 12: 11, 19: 11, 20: 11, 1: 11, 11: 10, 6: 10, 3: 10, 23: 10, 9: 9, 24: 9, 10: 7, 22: 3, 21: 2})\n"
     ]
    },
    {
     "name": "stderr",
     "output_type": "stream",
     "text": [
      "100%|██████████| 25/25 [00:00<00:00, 48.71it/s]\n"
     ]
    },
    {
     "name": "stdout",
     "output_type": "stream",
     "text": [
      "spent time for epoch 859 is 0.5189063549041748s\n",
      "epoch # : 859 gamma : 0.5 gen loss : 0.9665394425392151\n"
     ]
    },
    {
     "name": "stderr",
     "output_type": "stream",
     "text": [
      " 20%|██        | 5/25 [00:00<00:00, 49.48it/s]"
     ]
    },
    {
     "name": "stdout",
     "output_type": "stream",
     "text": [
      "Total number of generated modes is  25\n",
      "The number of high quality samples among 2500 samples is 405\n",
      "The mode dictionary is Counter({21: 51, 7: 42, 5: 39, 10: 35, 15: 21, 23: 19, 0: 18, 8: 18, 3: 17, 16: 16, 20: 14, 17: 14, 12: 14, 6: 13, 9: 12, 11: 11, 18: 8, 13: 7, 2: 7, 14: 6, 24: 5, 19: 5, 22: 5, 1: 4, 4: 4})\n"
     ]
    },
    {
     "name": "stderr",
     "output_type": "stream",
     "text": [
      "100%|██████████| 25/25 [00:00<00:00, 49.46it/s]\n"
     ]
    },
    {
     "name": "stdout",
     "output_type": "stream",
     "text": [
      "spent time for epoch 860 is 0.5112524032592773s\n",
      "epoch # : 860 gamma : 0.5 gen loss : 0.9996704459190369\n"
     ]
    },
    {
     "name": "stderr",
     "output_type": "stream",
     "text": [
      " 20%|██        | 5/25 [00:00<00:00, 48.38it/s]"
     ]
    },
    {
     "name": "stdout",
     "output_type": "stream",
     "text": [
      "Total number of generated modes is  23\n",
      "The number of high quality samples among 2500 samples is 218\n",
      "The mode dictionary is Counter({0: 27, 7: 19, 12: 16, 8: 14, 1: 14, 16: 13, 13: 12, 2: 11, 6: 11, 3: 11, 21: 10, 20: 9, 5: 8, 18: 8, 17: 7, 11: 6, 15: 6, 4: 6, 14: 3, 24: 3, 22: 2, 9: 1, 10: 1})\n"
     ]
    },
    {
     "name": "stderr",
     "output_type": "stream",
     "text": [
      "100%|██████████| 25/25 [00:00<00:00, 48.61it/s]\n"
     ]
    },
    {
     "name": "stdout",
     "output_type": "stream",
     "text": [
      "spent time for epoch 861 is 0.5202372074127197s\n",
      "epoch # : 861 gamma : 0.5 gen loss : 1.0219322443008423\n"
     ]
    },
    {
     "name": "stderr",
     "output_type": "stream",
     "text": [
      " 20%|██        | 5/25 [00:00<00:00, 48.37it/s]"
     ]
    },
    {
     "name": "stdout",
     "output_type": "stream",
     "text": [
      "Total number of generated modes is  23\n",
      "The number of high quality samples among 2500 samples is 280\n",
      "The mode dictionary is Counter({23: 47, 16: 26, 8: 18, 20: 18, 21: 16, 22: 15, 12: 14, 7: 14, 11: 14, 18: 11, 13: 11, 6: 11, 9: 10, 24: 9, 14: 8, 19: 8, 5: 7, 17: 7, 3: 5, 4: 5, 15: 2, 10: 2, 1: 2})\n"
     ]
    },
    {
     "name": "stderr",
     "output_type": "stream",
     "text": [
      "100%|██████████| 25/25 [00:00<00:00, 48.82it/s]\n"
     ]
    },
    {
     "name": "stdout",
     "output_type": "stream",
     "text": [
      "spent time for epoch 862 is 0.5175700187683105s\n",
      "epoch # : 862 gamma : 0.5 gen loss : 0.995093822479248\n"
     ]
    },
    {
     "name": "stderr",
     "output_type": "stream",
     "text": [
      " 20%|██        | 5/25 [00:00<00:00, 49.46it/s]"
     ]
    },
    {
     "name": "stdout",
     "output_type": "stream",
     "text": [
      "Total number of generated modes is  24\n",
      "The number of high quality samples among 2500 samples is 253\n",
      "The mode dictionary is Counter({16: 31, 5: 30, 21: 16, 7: 16, 17: 15, 18: 14, 15: 14, 12: 13, 8: 13, 10: 12, 23: 11, 11: 10, 13: 10, 2: 9, 6: 9, 0: 8, 1: 6, 20: 5, 3: 4, 24: 2, 14: 2, 4: 1, 19: 1, 9: 1})\n"
     ]
    },
    {
     "name": "stderr",
     "output_type": "stream",
     "text": [
      "100%|██████████| 25/25 [00:00<00:00, 49.02it/s]\n"
     ]
    },
    {
     "name": "stdout",
     "output_type": "stream",
     "text": [
      "spent time for epoch 863 is 0.5158247947692871s\n",
      "epoch # : 863 gamma : 0.5 gen loss : 1.0177017450332642\n"
     ]
    },
    {
     "name": "stderr",
     "output_type": "stream",
     "text": [
      " 20%|██        | 5/25 [00:00<00:00, 49.28it/s]"
     ]
    },
    {
     "name": "stdout",
     "output_type": "stream",
     "text": [
      "Total number of generated modes is  24\n",
      "The number of high quality samples among 2500 samples is 402\n",
      "The mode dictionary is Counter({0: 50, 5: 45, 20: 41, 21: 39, 23: 26, 12: 21, 15: 20, 7: 17, 10: 16, 16: 16, 2: 16, 8: 14, 6: 12, 1: 12, 13: 11, 11: 9, 3: 9, 22: 7, 4: 7, 18: 4, 17: 4, 24: 2, 19: 2, 9: 2})\n"
     ]
    },
    {
     "name": "stderr",
     "output_type": "stream",
     "text": [
      "100%|██████████| 25/25 [00:00<00:00, 48.88it/s]\n"
     ]
    },
    {
     "name": "stdout",
     "output_type": "stream",
     "text": [
      "spent time for epoch 864 is 0.5172519683837891s\n",
      "epoch # : 864 gamma : 0.5 gen loss : 1.0197540521621704\n"
     ]
    },
    {
     "name": "stderr",
     "output_type": "stream",
     "text": [
      " 20%|██        | 5/25 [00:00<00:00, 49.27it/s]"
     ]
    },
    {
     "name": "stdout",
     "output_type": "stream",
     "text": [
      "Total number of generated modes is  25\n",
      "The number of high quality samples among 2500 samples is 275\n",
      "The mode dictionary is Counter({23: 43, 21: 23, 20: 23, 16: 21, 5: 20, 3: 16, 0: 12, 6: 11, 17: 11, 2: 11, 8: 10, 1: 9, 15: 8, 7: 8, 10: 8, 22: 8, 11: 7, 4: 5, 19: 5, 12: 4, 9: 4, 13: 2, 24: 2, 14: 2, 18: 2})\n"
     ]
    },
    {
     "name": "stderr",
     "output_type": "stream",
     "text": [
      "100%|██████████| 25/25 [00:00<00:00, 49.07it/s]\n"
     ]
    },
    {
     "name": "stdout",
     "output_type": "stream",
     "text": [
      "spent time for epoch 865 is 0.5151381492614746s\n",
      "epoch # : 865 gamma : 0.5 gen loss : 1.0148733854293823\n"
     ]
    },
    {
     "name": "stderr",
     "output_type": "stream",
     "text": [
      "  4%|▍         | 1/25 [00:00<00:03,  7.19it/s]"
     ]
    },
    {
     "name": "stdout",
     "output_type": "stream",
     "text": [
      "Total number of generated modes is  23\n",
      "The number of high quality samples among 2500 samples is 273\n",
      "The mode dictionary is Counter({22: 23, 15: 22, 20: 22, 17: 21, 21: 20, 3: 18, 1: 17, 2: 16, 7: 16, 6: 13, 10: 12, 16: 12, 12: 10, 13: 10, 23: 9, 8: 8, 18: 6, 0: 6, 9: 4, 11: 4, 24: 2, 5: 1, 4: 1})\n"
     ]
    },
    {
     "name": "stderr",
     "output_type": "stream",
     "text": [
      "100%|██████████| 25/25 [00:00<00:00, 42.99it/s]\n"
     ]
    },
    {
     "name": "stdout",
     "output_type": "stream",
     "text": [
      "spent time for epoch 866 is 0.5872890949249268s\n",
      "epoch # : 866 gamma : 0.5 gen loss : 0.9684720635414124\n"
     ]
    },
    {
     "name": "stderr",
     "output_type": "stream",
     "text": [
      " 16%|█▌        | 4/25 [00:00<00:00, 39.27it/s]"
     ]
    },
    {
     "name": "stdout",
     "output_type": "stream",
     "text": [
      "Total number of generated modes is  23\n",
      "The number of high quality samples among 2500 samples is 288\n",
      "The mode dictionary is Counter({5: 60, 0: 35, 17: 23, 15: 17, 8: 16, 12: 15, 2: 14, 16: 14, 11: 13, 18: 11, 3: 11, 6: 10, 7: 9, 10: 8, 13: 7, 1: 6, 23: 5, 21: 4, 22: 4, 20: 3, 19: 1, 4: 1, 14: 1})\n"
     ]
    },
    {
     "name": "stderr",
     "output_type": "stream",
     "text": [
      "100%|██████████| 25/25 [00:00<00:00, 47.51it/s]\n"
     ]
    },
    {
     "name": "stdout",
     "output_type": "stream",
     "text": [
      "spent time for epoch 867 is 0.5318021774291992s\n",
      "epoch # : 867 gamma : 0.5 gen loss : 1.013446569442749\n"
     ]
    },
    {
     "name": "stderr",
     "output_type": "stream",
     "text": [
      " 20%|██        | 5/25 [00:00<00:00, 47.75it/s]"
     ]
    },
    {
     "name": "stdout",
     "output_type": "stream",
     "text": [
      "Total number of generated modes is  25\n",
      "The number of high quality samples among 2500 samples is 163\n",
      "The mode dictionary is Counter({15: 22, 20: 20, 7: 20, 16: 18, 13: 10, 11: 10, 17: 8, 18: 8, 6: 8, 12: 6, 8: 5, 23: 4, 0: 3, 3: 3, 5: 3, 19: 2, 2: 2, 24: 2, 1: 2, 22: 2, 4: 1, 10: 1, 9: 1, 21: 1, 14: 1})\n"
     ]
    },
    {
     "name": "stderr",
     "output_type": "stream",
     "text": [
      "100%|██████████| 25/25 [00:00<00:00, 48.47it/s]\n"
     ]
    },
    {
     "name": "stdout",
     "output_type": "stream",
     "text": [
      "spent time for epoch 868 is 0.5216035842895508s\n",
      "epoch # : 868 gamma : 0.5 gen loss : 0.9843036532402039\n"
     ]
    },
    {
     "name": "stderr",
     "output_type": "stream",
     "text": [
      " 20%|██        | 5/25 [00:00<00:00, 48.46it/s]"
     ]
    },
    {
     "name": "stdout",
     "output_type": "stream",
     "text": [
      "Total number of generated modes is  24\n",
      "The number of high quality samples among 2500 samples is 374\n",
      "The mode dictionary is Counter({5: 53, 22: 42, 20: 41, 17: 28, 10: 20, 21: 19, 6: 17, 15: 16, 8: 16, 0: 14, 3: 14, 7: 13, 16: 11, 23: 11, 2: 9, 12: 9, 1: 9, 18: 9, 13: 9, 11: 8, 24: 2, 9: 2, 19: 1, 14: 1})\n"
     ]
    },
    {
     "name": "stderr",
     "output_type": "stream",
     "text": [
      "100%|██████████| 25/25 [00:00<00:00, 47.14it/s]\n"
     ]
    },
    {
     "name": "stdout",
     "output_type": "stream",
     "text": [
      "spent time for epoch 869 is 0.5360093116760254s\n",
      "epoch # : 869 gamma : 0.5 gen loss : 1.0452836751937866\n"
     ]
    },
    {
     "name": "stderr",
     "output_type": "stream",
     "text": [
      " 16%|█▌        | 4/25 [00:00<00:00, 39.80it/s]"
     ]
    },
    {
     "name": "stdout",
     "output_type": "stream",
     "text": [
      "Total number of generated modes is  24\n",
      "The number of high quality samples among 2500 samples is 262\n",
      "The mode dictionary is Counter({20: 49, 15: 19, 17: 19, 12: 19, 16: 17, 5: 15, 23: 15, 7: 14, 8: 13, 11: 11, 18: 11, 22: 10, 6: 10, 13: 7, 21: 6, 14: 6, 19: 4, 24: 4, 10: 3, 9: 3, 1: 2, 2: 2, 0: 2, 3: 1})\n"
     ]
    },
    {
     "name": "stderr",
     "output_type": "stream",
     "text": [
      "100%|██████████| 25/25 [00:00<00:00, 47.32it/s]\n"
     ]
    },
    {
     "name": "stdout",
     "output_type": "stream",
     "text": [
      "spent time for epoch 870 is 0.5340237617492676s\n",
      "epoch # : 870 gamma : 0.5 gen loss : 1.0128484964370728\n"
     ]
    },
    {
     "name": "stderr",
     "output_type": "stream",
     "text": [
      " 20%|██        | 5/25 [00:00<00:00, 48.67it/s]"
     ]
    },
    {
     "name": "stdout",
     "output_type": "stream",
     "text": [
      "Total number of generated modes is  24\n",
      "The number of high quality samples among 2500 samples is 305\n",
      "The mode dictionary is Counter({0: 58, 5: 36, 16: 20, 15: 19, 17: 18, 10: 14, 9: 13, 6: 12, 7: 11, 12: 11, 20: 10, 13: 9, 3: 9, 2: 9, 11: 8, 1: 8, 8: 8, 18: 7, 14: 7, 22: 5, 21: 5, 23: 3, 19: 3, 24: 2})\n"
     ]
    },
    {
     "name": "stderr",
     "output_type": "stream",
     "text": [
      "100%|██████████| 25/25 [00:00<00:00, 48.14it/s]\n"
     ]
    },
    {
     "name": "stdout",
     "output_type": "stream",
     "text": [
      "spent time for epoch 871 is 0.5250017642974854s\n",
      "epoch # : 871 gamma : 0.5 gen loss : 1.0084078311920166\n"
     ]
    },
    {
     "name": "stderr",
     "output_type": "stream",
     "text": [
      " 20%|██        | 5/25 [00:00<00:00, 48.99it/s]"
     ]
    },
    {
     "name": "stdout",
     "output_type": "stream",
     "text": [
      "Total number of generated modes is  24\n",
      "The number of high quality samples among 2500 samples is 219\n",
      "The mode dictionary is Counter({5: 40, 23: 25, 16: 24, 15: 18, 10: 15, 12: 12, 18: 12, 17: 8, 20: 8, 11: 7, 24: 7, 13: 7, 6: 6, 22: 6, 3: 6, 8: 4, 14: 3, 9: 2, 1: 2, 7: 2, 0: 2, 2: 1, 21: 1, 4: 1})\n"
     ]
    },
    {
     "name": "stderr",
     "output_type": "stream",
     "text": [
      "100%|██████████| 25/25 [00:00<00:00, 48.51it/s]\n"
     ]
    },
    {
     "name": "stdout",
     "output_type": "stream",
     "text": [
      "spent time for epoch 872 is 0.5211360454559326s\n",
      "epoch # : 872 gamma : 0.5 gen loss : 1.046492099761963\n"
     ]
    },
    {
     "name": "stderr",
     "output_type": "stream",
     "text": [
      " 20%|██        | 5/25 [00:00<00:00, 48.61it/s]"
     ]
    },
    {
     "name": "stdout",
     "output_type": "stream",
     "text": [
      "Total number of generated modes is  24\n",
      "The number of high quality samples among 2500 samples is 251\n",
      "The mode dictionary is Counter({17: 30, 16: 28, 7: 27, 8: 15, 5: 13, 15: 12, 20: 11, 22: 11, 9: 10, 18: 10, 24: 9, 6: 8, 13: 8, 12: 8, 11: 7, 0: 6, 19: 6, 1: 6, 10: 6, 2: 5, 3: 4, 21: 4, 14: 4, 23: 3})\n"
     ]
    },
    {
     "name": "stderr",
     "output_type": "stream",
     "text": [
      "100%|██████████| 25/25 [00:00<00:00, 47.64it/s]\n"
     ]
    },
    {
     "name": "stdout",
     "output_type": "stream",
     "text": [
      "spent time for epoch 873 is 0.5304787158966064s\n",
      "epoch # : 873 gamma : 0.5 gen loss : 0.9940205216407776\n"
     ]
    },
    {
     "name": "stderr",
     "output_type": "stream",
     "text": [
      " 20%|██        | 5/25 [00:00<00:00, 49.21it/s]"
     ]
    },
    {
     "name": "stdout",
     "output_type": "stream",
     "text": [
      "Total number of generated modes is  25\n",
      "The number of high quality samples among 2500 samples is 331\n",
      "The mode dictionary is Counter({5: 48, 23: 32, 17: 27, 18: 27, 11: 21, 8: 18, 13: 16, 7: 14, 21: 13, 2: 11, 22: 11, 10: 11, 16: 10, 6: 10, 20: 9, 15: 8, 0: 8, 3: 7, 9: 6, 12: 6, 24: 5, 14: 4, 1: 4, 4: 3, 19: 2})\n"
     ]
    },
    {
     "name": "stderr",
     "output_type": "stream",
     "text": [
      "100%|██████████| 25/25 [00:00<00:00, 48.68it/s]\n"
     ]
    },
    {
     "name": "stdout",
     "output_type": "stream",
     "text": [
      "spent time for epoch 874 is 0.5196037292480469s\n",
      "epoch # : 874 gamma : 0.5 gen loss : 0.9936668276786804\n"
     ]
    },
    {
     "name": "stderr",
     "output_type": "stream",
     "text": [
      " 20%|██        | 5/25 [00:00<00:00, 49.04it/s]"
     ]
    },
    {
     "name": "stdout",
     "output_type": "stream",
     "text": [
      "Total number of generated modes is  24\n",
      "The number of high quality samples among 2500 samples is 291\n",
      "The mode dictionary is Counter({20: 39, 23: 31, 21: 25, 17: 23, 16: 21, 22: 17, 5: 15, 8: 13, 6: 13, 18: 11, 19: 11, 13: 10, 15: 10, 11: 8, 12: 7, 7: 7, 3: 5, 24: 5, 9: 4, 0: 4, 2: 4, 14: 3, 4: 3, 1: 2})\n"
     ]
    },
    {
     "name": "stderr",
     "output_type": "stream",
     "text": [
      "100%|██████████| 25/25 [00:00<00:00, 49.15it/s]\n"
     ]
    },
    {
     "name": "stdout",
     "output_type": "stream",
     "text": [
      "spent time for epoch 875 is 0.5145418643951416s\n",
      "epoch # : 875 gamma : 0.5 gen loss : 0.9685807824134827\n"
     ]
    },
    {
     "name": "stderr",
     "output_type": "stream",
     "text": [
      " 20%|██        | 5/25 [00:00<00:00, 48.98it/s]"
     ]
    },
    {
     "name": "stdout",
     "output_type": "stream",
     "text": [
      "Total number of generated modes is  24\n",
      "The number of high quality samples among 2500 samples is 220\n",
      "The mode dictionary is Counter({7: 18, 9: 16, 6: 15, 17: 14, 14: 13, 19: 13, 16: 12, 24: 12, 1: 12, 13: 12, 8: 12, 2: 11, 18: 11, 0: 10, 11: 10, 5: 7, 21: 5, 12: 4, 4: 3, 22: 3, 3: 2, 20: 2, 10: 2, 15: 1})\n"
     ]
    },
    {
     "name": "stderr",
     "output_type": "stream",
     "text": [
      "100%|██████████| 25/25 [00:00<00:00, 48.34it/s]\n"
     ]
    },
    {
     "name": "stdout",
     "output_type": "stream",
     "text": [
      "spent time for epoch 876 is 0.5229034423828125s\n",
      "epoch # : 876 gamma : 0.5 gen loss : 1.0224254131317139\n"
     ]
    },
    {
     "name": "stderr",
     "output_type": "stream",
     "text": [
      "  4%|▍         | 1/25 [00:00<00:03,  7.20it/s]"
     ]
    },
    {
     "name": "stdout",
     "output_type": "stream",
     "text": [
      "Total number of generated modes is  25\n",
      "The number of high quality samples among 2500 samples is 373\n",
      "The mode dictionary is Counter({21: 63, 5: 56, 20: 34, 16: 26, 7: 20, 4: 17, 12: 15, 13: 14, 8: 13, 0: 13, 6: 11, 17: 11, 2: 10, 3: 10, 15: 9, 18: 8, 19: 8, 1: 7, 14: 7, 22: 5, 11: 5, 10: 4, 9: 3, 23: 2, 24: 2})\n"
     ]
    },
    {
     "name": "stderr",
     "output_type": "stream",
     "text": [
      "100%|██████████| 25/25 [00:00<00:00, 43.30it/s]\n"
     ]
    },
    {
     "name": "stdout",
     "output_type": "stream",
     "text": [
      "spent time for epoch 877 is 0.5828049182891846s\n",
      "epoch # : 877 gamma : 0.5 gen loss : 0.9955087304115295\n"
     ]
    },
    {
     "name": "stderr",
     "output_type": "stream",
     "text": [
      " 20%|██        | 5/25 [00:00<00:00, 48.60it/s]"
     ]
    },
    {
     "name": "stdout",
     "output_type": "stream",
     "text": [
      "Total number of generated modes is  24\n",
      "The number of high quality samples among 2500 samples is 211\n",
      "The mode dictionary is Counter({17: 22, 16: 19, 7: 18, 22: 18, 12: 16, 8: 16, 11: 13, 9: 13, 18: 12, 23: 12, 13: 12, 6: 10, 2: 4, 4: 4, 3: 3, 1: 3, 10: 3, 15: 3, 0: 2, 21: 2, 14: 2, 20: 2, 5: 1, 24: 1})\n"
     ]
    },
    {
     "name": "stderr",
     "output_type": "stream",
     "text": [
      "100%|██████████| 25/25 [00:00<00:00, 48.09it/s]\n"
     ]
    },
    {
     "name": "stdout",
     "output_type": "stream",
     "text": [
      "spent time for epoch 878 is 0.5254004001617432s\n",
      "epoch # : 878 gamma : 0.5 gen loss : 1.0312460660934448\n"
     ]
    },
    {
     "name": "stderr",
     "output_type": "stream",
     "text": [
      " 16%|█▌        | 4/25 [00:00<00:00, 39.74it/s]"
     ]
    },
    {
     "name": "stdout",
     "output_type": "stream",
     "text": [
      "Total number of generated modes is  25\n",
      "The number of high quality samples among 2500 samples is 423\n",
      "The mode dictionary is Counter({22: 60, 5: 46, 20: 37, 23: 35, 7: 28, 0: 28, 12: 20, 10: 18, 16: 16, 21: 16, 17: 16, 6: 13, 18: 12, 13: 12, 15: 12, 11: 12, 1: 10, 3: 8, 9: 6, 2: 5, 4: 4, 8: 3, 24: 3, 19: 2, 14: 1})\n"
     ]
    },
    {
     "name": "stderr",
     "output_type": "stream",
     "text": [
      "100%|██████████| 25/25 [00:00<00:00, 47.88it/s]\n"
     ]
    },
    {
     "name": "stdout",
     "output_type": "stream",
     "text": [
      "spent time for epoch 879 is 0.5278987884521484s\n",
      "epoch # : 879 gamma : 0.5 gen loss : 1.0415815114974976\n"
     ]
    },
    {
     "name": "stderr",
     "output_type": "stream",
     "text": [
      " 16%|█▌        | 4/25 [00:00<00:00, 39.81it/s]"
     ]
    },
    {
     "name": "stdout",
     "output_type": "stream",
     "text": [
      "Total number of generated modes is  24\n",
      "The number of high quality samples among 2500 samples is 344\n",
      "The mode dictionary is Counter({23: 48, 21: 42, 5: 30, 16: 28, 22: 26, 15: 19, 13: 17, 11: 16, 6: 16, 12: 14, 18: 13, 7: 12, 17: 12, 20: 9, 24: 7, 14: 7, 8: 6, 10: 6, 0: 5, 2: 4, 1: 3, 19: 2, 3: 1, 4: 1})\n"
     ]
    },
    {
     "name": "stderr",
     "output_type": "stream",
     "text": [
      "100%|██████████| 25/25 [00:00<00:00, 46.98it/s]\n"
     ]
    },
    {
     "name": "stdout",
     "output_type": "stream",
     "text": [
      "spent time for epoch 880 is 0.5381202697753906s\n",
      "epoch # : 880 gamma : 0.5 gen loss : 1.0314605236053467\n"
     ]
    },
    {
     "name": "stderr",
     "output_type": "stream",
     "text": [
      " 20%|██        | 5/25 [00:00<00:00, 48.84it/s]"
     ]
    },
    {
     "name": "stdout",
     "output_type": "stream",
     "text": [
      "Total number of generated modes is  23\n",
      "The number of high quality samples among 2500 samples is 259\n",
      "The mode dictionary is Counter({21: 68, 20: 23, 16: 21, 6: 18, 7: 17, 18: 16, 5: 12, 8: 12, 13: 10, 12: 9, 1: 9, 14: 7, 9: 5, 17: 5, 3: 4, 10: 4, 19: 4, 24: 3, 15: 3, 11: 3, 2: 2, 23: 2, 22: 2})\n"
     ]
    },
    {
     "name": "stderr",
     "output_type": "stream",
     "text": [
      "100%|██████████| 25/25 [00:00<00:00, 48.37it/s]\n"
     ]
    },
    {
     "name": "stdout",
     "output_type": "stream",
     "text": [
      "spent time for epoch 881 is 0.5227024555206299s\n",
      "epoch # : 881 gamma : 0.5 gen loss : 0.9724898338317871\n"
     ]
    },
    {
     "name": "stderr",
     "output_type": "stream",
     "text": [
      " 20%|██        | 5/25 [00:00<00:00, 49.12it/s]"
     ]
    },
    {
     "name": "stdout",
     "output_type": "stream",
     "text": [
      "Total number of generated modes is  24\n",
      "The number of high quality samples among 2500 samples is 224\n",
      "The mode dictionary is Counter({7: 23, 9: 18, 17: 16, 13: 16, 6: 15, 16: 14, 19: 13, 12: 12, 8: 11, 14: 11, 4: 11, 2: 9, 24: 8, 11: 8, 18: 7, 22: 6, 5: 6, 1: 6, 3: 5, 21: 3, 15: 2, 0: 2, 23: 1, 10: 1})\n"
     ]
    },
    {
     "name": "stderr",
     "output_type": "stream",
     "text": [
      "100%|██████████| 25/25 [00:00<00:00, 48.18it/s]\n"
     ]
    },
    {
     "name": "stdout",
     "output_type": "stream",
     "text": [
      "spent time for epoch 882 is 0.52461838722229s\n",
      "epoch # : 882 gamma : 0.5 gen loss : 1.040468454360962\n"
     ]
    },
    {
     "name": "stderr",
     "output_type": "stream",
     "text": [
      " 16%|█▌        | 4/25 [00:00<00:00, 39.04it/s]"
     ]
    },
    {
     "name": "stdout",
     "output_type": "stream",
     "text": [
      "Total number of generated modes is  21\n",
      "The number of high quality samples among 2500 samples is 245\n",
      "The mode dictionary is Counter({0: 30, 10: 29, 16: 21, 7: 18, 21: 17, 15: 15, 8: 15, 20: 14, 11: 12, 18: 12, 1: 10, 3: 9, 2: 7, 6: 6, 12: 5, 9: 5, 5: 5, 13: 4, 23: 4, 17: 4, 14: 3})\n"
     ]
    },
    {
     "name": "stderr",
     "output_type": "stream",
     "text": [
      "100%|██████████| 25/25 [00:00<00:00, 47.16it/s]\n"
     ]
    },
    {
     "name": "stdout",
     "output_type": "stream",
     "text": [
      "spent time for epoch 883 is 0.5360367298126221s\n",
      "epoch # : 883 gamma : 0.5 gen loss : 1.019248604774475\n"
     ]
    },
    {
     "name": "stderr",
     "output_type": "stream",
     "text": [
      " 20%|██        | 5/25 [00:00<00:00, 48.99it/s]"
     ]
    },
    {
     "name": "stdout",
     "output_type": "stream",
     "text": [
      "Total number of generated modes is  25\n",
      "The number of high quality samples among 2500 samples is 292\n",
      "The mode dictionary is Counter({22: 29, 4: 24, 5: 20, 17: 17, 7: 17, 6: 17, 2: 16, 20: 16, 16: 16, 18: 15, 13: 13, 12: 11, 8: 11, 3: 11, 14: 9, 11: 8, 0: 7, 9: 7, 19: 7, 1: 6, 21: 4, 24: 4, 23: 4, 15: 2, 10: 1})\n"
     ]
    },
    {
     "name": "stderr",
     "output_type": "stream",
     "text": [
      "100%|██████████| 25/25 [00:00<00:00, 46.90it/s]\n"
     ]
    },
    {
     "name": "stdout",
     "output_type": "stream",
     "text": [
      "spent time for epoch 884 is 0.5389437675476074s\n",
      "epoch # : 884 gamma : 0.5 gen loss : 1.0165293216705322\n"
     ]
    },
    {
     "name": "stderr",
     "output_type": "stream",
     "text": [
      " 16%|█▌        | 4/25 [00:00<00:00, 39.04it/s]"
     ]
    },
    {
     "name": "stdout",
     "output_type": "stream",
     "text": [
      "Total number of generated modes is  24\n",
      "The number of high quality samples among 2500 samples is 251\n",
      "The mode dictionary is Counter({4: 27, 22: 20, 17: 20, 13: 18, 0: 14, 9: 14, 11: 13, 1: 12, 3: 12, 16: 11, 12: 10, 7: 10, 6: 10, 8: 8, 18: 8, 2: 8, 20: 7, 14: 6, 15: 6, 23: 5, 19: 4, 10: 4, 21: 3, 5: 1})\n"
     ]
    },
    {
     "name": "stderr",
     "output_type": "stream",
     "text": [
      "100%|██████████| 25/25 [00:00<00:00, 47.52it/s]\n"
     ]
    },
    {
     "name": "stdout",
     "output_type": "stream",
     "text": [
      "spent time for epoch 885 is 0.5322778224945068s\n",
      "epoch # : 885 gamma : 0.5 gen loss : 1.0254791975021362\n"
     ]
    },
    {
     "name": "stderr",
     "output_type": "stream",
     "text": [
      " 20%|██        | 5/25 [00:00<00:00, 48.98it/s]"
     ]
    },
    {
     "name": "stdout",
     "output_type": "stream",
     "text": [
      "Total number of generated modes is  24\n",
      "The number of high quality samples among 2500 samples is 381\n",
      "The mode dictionary is Counter({20: 57, 22: 47, 21: 40, 17: 28, 23: 25, 16: 21, 12: 20, 24: 17, 7: 16, 6: 13, 11: 13, 5: 13, 18: 12, 9: 11, 13: 10, 14: 10, 19: 10, 8: 6, 15: 4, 10: 3, 4: 2, 1: 1, 2: 1, 0: 1})\n"
     ]
    },
    {
     "name": "stderr",
     "output_type": "stream",
     "text": [
      "100%|██████████| 25/25 [00:00<00:00, 48.54it/s]\n"
     ]
    },
    {
     "name": "stdout",
     "output_type": "stream",
     "text": [
      "spent time for epoch 886 is 0.5209331512451172s\n",
      "epoch # : 886 gamma : 0.5 gen loss : 0.9932581782341003\n"
     ]
    },
    {
     "name": "stderr",
     "output_type": "stream",
     "text": [
      " 20%|██        | 5/25 [00:00<00:00, 49.42it/s]"
     ]
    },
    {
     "name": "stdout",
     "output_type": "stream",
     "text": [
      "Total number of generated modes is  25\n",
      "The number of high quality samples among 2500 samples is 319\n",
      "The mode dictionary is Counter({0: 55, 5: 26, 7: 24, 22: 22, 4: 19, 1: 17, 16: 16, 17: 15, 20: 13, 6: 12, 18: 12, 15: 12, 3: 12, 8: 10, 23: 9, 10: 9, 13: 8, 11: 7, 12: 5, 14: 4, 2: 4, 21: 3, 24: 2, 9: 2, 19: 1})\n"
     ]
    },
    {
     "name": "stderr",
     "output_type": "stream",
     "text": [
      "100%|██████████| 25/25 [00:00<00:00, 49.01it/s]\n"
     ]
    },
    {
     "name": "stdout",
     "output_type": "stream",
     "text": [
      "spent time for epoch 887 is 0.5160722732543945s\n",
      "epoch # : 887 gamma : 0.5 gen loss : 1.0271729230880737\n"
     ]
    },
    {
     "name": "stderr",
     "output_type": "stream",
     "text": [
      "  4%|▍         | 1/25 [00:00<00:03,  7.23it/s]"
     ]
    },
    {
     "name": "stdout",
     "output_type": "stream",
     "text": [
      "Total number of generated modes is  24\n",
      "The number of high quality samples among 2500 samples is 323\n",
      "The mode dictionary is Counter({20: 46, 21: 40, 22: 36, 23: 28, 15: 22, 17: 22, 18: 17, 16: 16, 11: 13, 12: 12, 13: 11, 8: 8, 5: 8, 6: 8, 10: 7, 7: 7, 0: 4, 3: 4, 9: 4, 1: 4, 14: 3, 4: 1, 24: 1, 2: 1})\n"
     ]
    },
    {
     "name": "stderr",
     "output_type": "stream",
     "text": [
      "100%|██████████| 25/25 [00:00<00:00, 42.93it/s]\n"
     ]
    },
    {
     "name": "stdout",
     "output_type": "stream",
     "text": [
      "spent time for epoch 888 is 0.5883417129516602s\n",
      "epoch # : 888 gamma : 0.5 gen loss : 1.0036828517913818\n"
     ]
    },
    {
     "name": "stderr",
     "output_type": "stream",
     "text": [
      " 20%|██        | 5/25 [00:00<00:00, 48.46it/s]"
     ]
    },
    {
     "name": "stdout",
     "output_type": "stream",
     "text": [
      "Total number of generated modes is  25\n",
      "The number of high quality samples among 2500 samples is 317\n",
      "The mode dictionary is Counter({23: 37, 22: 32, 17: 27, 5: 18, 0: 17, 16: 17, 3: 17, 14: 14, 7: 13, 18: 13, 8: 12, 9: 11, 24: 11, 1: 11, 11: 10, 21: 9, 2: 9, 19: 9, 15: 7, 13: 6, 4: 5, 12: 5, 6: 4, 10: 2, 20: 1})\n"
     ]
    },
    {
     "name": "stderr",
     "output_type": "stream",
     "text": [
      "100%|██████████| 25/25 [00:00<00:00, 47.63it/s]\n"
     ]
    },
    {
     "name": "stdout",
     "output_type": "stream",
     "text": [
      "spent time for epoch 889 is 0.5304646492004395s\n",
      "epoch # : 889 gamma : 0.5 gen loss : 1.0349502563476562\n"
     ]
    },
    {
     "name": "stderr",
     "output_type": "stream",
     "text": [
      " 16%|█▌        | 4/25 [00:00<00:00, 38.45it/s]"
     ]
    },
    {
     "name": "stdout",
     "output_type": "stream",
     "text": [
      "Total number of generated modes is  23\n",
      "The number of high quality samples among 2500 samples is 203\n",
      "The mode dictionary is Counter({17: 29, 22: 27, 23: 23, 7: 17, 15: 12, 5: 12, 18: 10, 16: 9, 13: 9, 11: 8, 12: 7, 6: 7, 8: 6, 2: 5, 3: 5, 9: 4, 10: 4, 14: 3, 24: 2, 1: 1, 0: 1, 21: 1, 19: 1})\n"
     ]
    },
    {
     "name": "stderr",
     "output_type": "stream",
     "text": [
      "100%|██████████| 25/25 [00:00<00:00, 47.50it/s]\n"
     ]
    },
    {
     "name": "stdout",
     "output_type": "stream",
     "text": [
      "spent time for epoch 890 is 0.5321459770202637s\n",
      "epoch # : 890 gamma : 0.5 gen loss : 1.006704568862915\n"
     ]
    },
    {
     "name": "stderr",
     "output_type": "stream",
     "text": [
      " 20%|██        | 5/25 [00:00<00:00, 48.24it/s]"
     ]
    },
    {
     "name": "stdout",
     "output_type": "stream",
     "text": [
      "Total number of generated modes is  23\n",
      "The number of high quality samples among 2500 samples is 205\n",
      "The mode dictionary is Counter({22: 24, 17: 18, 16: 18, 7: 15, 20: 15, 12: 12, 8: 11, 6: 10, 15: 10, 1: 9, 3: 9, 5: 9, 13: 8, 11: 7, 18: 6, 23: 6, 0: 5, 2: 5, 24: 2, 4: 2, 19: 2, 9: 1, 14: 1})\n"
     ]
    },
    {
     "name": "stderr",
     "output_type": "stream",
     "text": [
      "100%|██████████| 25/25 [00:00<00:00, 48.24it/s]\n"
     ]
    },
    {
     "name": "stdout",
     "output_type": "stream",
     "text": [
      "spent time for epoch 891 is 0.5239615440368652s\n",
      "epoch # : 891 gamma : 0.5 gen loss : 0.9977017045021057\n"
     ]
    },
    {
     "name": "stderr",
     "output_type": "stream",
     "text": [
      " 20%|██        | 5/25 [00:00<00:00, 48.38it/s]"
     ]
    },
    {
     "name": "stdout",
     "output_type": "stream",
     "text": [
      "Total number of generated modes is  25\n",
      "The number of high quality samples among 2500 samples is 409\n",
      "The mode dictionary is Counter({7: 33, 23: 32, 17: 31, 20: 31, 22: 31, 5: 28, 16: 23, 0: 21, 15: 16, 24: 16, 3: 16, 12: 14, 13: 14, 18: 13, 6: 13, 2: 12, 1: 10, 19: 9, 8: 9, 14: 8, 10: 8, 21: 7, 11: 7, 4: 4, 9: 3})\n"
     ]
    },
    {
     "name": "stderr",
     "output_type": "stream",
     "text": [
      "100%|██████████| 25/25 [00:00<00:00, 46.87it/s]\n"
     ]
    },
    {
     "name": "stdout",
     "output_type": "stream",
     "text": [
      "spent time for epoch 892 is 0.5389540195465088s\n",
      "epoch # : 892 gamma : 0.5 gen loss : 0.9648482799530029\n"
     ]
    },
    {
     "name": "stderr",
     "output_type": "stream",
     "text": [
      " 20%|██        | 5/25 [00:00<00:00, 48.95it/s]"
     ]
    },
    {
     "name": "stdout",
     "output_type": "stream",
     "text": [
      "Total number of generated modes is  23\n",
      "The number of high quality samples among 2500 samples is 363\n",
      "The mode dictionary is Counter({0: 47, 20: 44, 23: 39, 10: 32, 16: 26, 12: 21, 15: 19, 7: 17, 22: 16, 11: 16, 17: 14, 6: 10, 1: 10, 2: 9, 8: 8, 13: 8, 18: 7, 3: 5, 5: 5, 21: 4, 24: 3, 9: 2, 19: 1})\n"
     ]
    },
    {
     "name": "stderr",
     "output_type": "stream",
     "text": [
      "100%|██████████| 25/25 [00:00<00:00, 48.26it/s]\n"
     ]
    },
    {
     "name": "stdout",
     "output_type": "stream",
     "text": [
      "spent time for epoch 893 is 0.524383544921875s\n",
      "epoch # : 893 gamma : 0.5 gen loss : 0.9702847003936768\n"
     ]
    },
    {
     "name": "stderr",
     "output_type": "stream",
     "text": [
      " 20%|██        | 5/25 [00:00<00:00, 49.03it/s]"
     ]
    },
    {
     "name": "stdout",
     "output_type": "stream",
     "text": [
      "Total number of generated modes is  25\n",
      "The number of high quality samples among 2500 samples is 276\n",
      "The mode dictionary is Counter({17: 29, 7: 21, 16: 20, 3: 19, 4: 18, 6: 17, 13: 17, 18: 16, 8: 13, 12: 13, 14: 13, 24: 11, 2: 11, 9: 9, 19: 7, 15: 7, 23: 6, 11: 5, 0: 5, 21: 5, 5: 4, 22: 4, 1: 2, 20: 2, 10: 2})\n"
     ]
    },
    {
     "name": "stderr",
     "output_type": "stream",
     "text": [
      "100%|██████████| 25/25 [00:00<00:00, 48.23it/s]\n"
     ]
    },
    {
     "name": "stdout",
     "output_type": "stream",
     "text": [
      "spent time for epoch 894 is 0.5239665508270264s\n",
      "epoch # : 894 gamma : 0.5 gen loss : 1.0188050270080566\n"
     ]
    },
    {
     "name": "stderr",
     "output_type": "stream",
     "text": [
      " 20%|██        | 5/25 [00:00<00:00, 49.24it/s]"
     ]
    },
    {
     "name": "stdout",
     "output_type": "stream",
     "text": [
      "Total number of generated modes is  24\n",
      "The number of high quality samples among 2500 samples is 232\n",
      "The mode dictionary is Counter({20: 18, 9: 16, 5: 16, 6: 15, 15: 14, 16: 14, 19: 14, 24: 12, 3: 11, 2: 11, 7: 11, 17: 10, 11: 9, 12: 9, 14: 7, 8: 7, 0: 7, 18: 7, 1: 6, 13: 6, 10: 4, 21: 3, 22: 3, 4: 2})\n"
     ]
    },
    {
     "name": "stderr",
     "output_type": "stream",
     "text": [
      "100%|██████████| 25/25 [00:00<00:00, 48.52it/s]\n"
     ]
    },
    {
     "name": "stdout",
     "output_type": "stream",
     "text": [
      "spent time for epoch 895 is 0.5208747386932373s\n",
      "epoch # : 895 gamma : 0.5 gen loss : 1.035941481590271\n"
     ]
    },
    {
     "name": "stderr",
     "output_type": "stream",
     "text": [
      " 20%|██        | 5/25 [00:00<00:00, 49.13it/s]"
     ]
    },
    {
     "name": "stdout",
     "output_type": "stream",
     "text": [
      "Total number of generated modes is  25\n",
      "The number of high quality samples among 2500 samples is 288\n",
      "The mode dictionary is Counter({5: 35, 17: 23, 7: 22, 15: 19, 10: 18, 20: 17, 2: 15, 16: 14, 13: 13, 12: 13, 3: 12, 6: 11, 11: 11, 8: 10, 22: 10, 0: 8, 4: 7, 9: 6, 24: 5, 19: 5, 18: 4, 23: 3, 14: 3, 21: 2, 1: 2})\n"
     ]
    },
    {
     "name": "stderr",
     "output_type": "stream",
     "text": [
      "100%|██████████| 25/25 [00:00<00:00, 48.74it/s]\n"
     ]
    },
    {
     "name": "stdout",
     "output_type": "stream",
     "text": [
      "spent time for epoch 896 is 0.5186982154846191s\n",
      "epoch # : 896 gamma : 0.5 gen loss : 0.9900037050247192\n"
     ]
    },
    {
     "name": "stderr",
     "output_type": "stream",
     "text": [
      " 20%|██        | 5/25 [00:00<00:00, 49.29it/s]"
     ]
    },
    {
     "name": "stdout",
     "output_type": "stream",
     "text": [
      "Total number of generated modes is  25\n",
      "The number of high quality samples among 2500 samples is 271\n",
      "The mode dictionary is Counter({22: 51, 20: 29, 7: 19, 16: 18, 8: 16, 17: 16, 5: 16, 15: 16, 10: 14, 11: 11, 13: 8, 6: 8, 12: 7, 19: 7, 18: 7, 24: 6, 14: 5, 9: 4, 3: 3, 2: 2, 0: 2, 4: 2, 21: 2, 23: 1, 1: 1})\n"
     ]
    },
    {
     "name": "stderr",
     "output_type": "stream",
     "text": [
      "100%|██████████| 25/25 [00:00<00:00, 49.22it/s]\n"
     ]
    },
    {
     "name": "stdout",
     "output_type": "stream",
     "text": [
      "spent time for epoch 897 is 0.513554573059082s\n",
      "epoch # : 897 gamma : 0.5 gen loss : 0.9958881735801697\n"
     ]
    },
    {
     "name": "stderr",
     "output_type": "stream",
     "text": [
      " 20%|██        | 5/25 [00:00<00:00, 49.92it/s]"
     ]
    },
    {
     "name": "stdout",
     "output_type": "stream",
     "text": [
      "Total number of generated modes is  25\n",
      "The number of high quality samples among 2500 samples is 352\n",
      "The mode dictionary is Counter({22: 50, 20: 32, 17: 27, 5: 25, 4: 24, 0: 20, 21: 17, 10: 15, 16: 13, 6: 13, 15: 11, 12: 11, 1: 11, 23: 10, 2: 10, 3: 10, 19: 8, 13: 7, 7: 7, 24: 6, 11: 6, 18: 6, 9: 5, 8: 4, 14: 4})\n"
     ]
    },
    {
     "name": "stderr",
     "output_type": "stream",
     "text": [
      "100%|██████████| 25/25 [00:00<00:00, 49.43it/s]\n"
     ]
    },
    {
     "name": "stdout",
     "output_type": "stream",
     "text": [
      "spent time for epoch 898 is 0.5117037296295166s\n",
      "epoch # : 898 gamma : 0.5 gen loss : 1.005092740058899\n"
     ]
    },
    {
     "name": "stderr",
     "output_type": "stream",
     "text": [
      "  4%|▍         | 1/25 [00:00<00:03,  7.12it/s]"
     ]
    },
    {
     "name": "stdout",
     "output_type": "stream",
     "text": [
      "Total number of generated modes is  25\n",
      "The number of high quality samples among 2500 samples is 287\n",
      "The mode dictionary is Counter({21: 43, 22: 34, 17: 31, 9: 15, 7: 15, 12: 14, 16: 13, 18: 13, 13: 12, 19: 11, 24: 10, 14: 9, 8: 9, 10: 7, 11: 7, 6: 7, 3: 7, 5: 6, 2: 6, 4: 5, 23: 5, 0: 3, 15: 2, 1: 2, 20: 1})\n"
     ]
    },
    {
     "name": "stderr",
     "output_type": "stream",
     "text": [
      "100%|██████████| 25/25 [00:00<00:00, 43.08it/s]\n"
     ]
    },
    {
     "name": "stdout",
     "output_type": "stream",
     "text": [
      "spent time for epoch 899 is 0.5862584114074707s\n",
      "epoch # : 899 gamma : 0.5 gen loss : 1.0421572923660278\n"
     ]
    },
    {
     "name": "stderr",
     "output_type": "stream",
     "text": [
      " 20%|██        | 5/25 [00:00<00:00, 48.27it/s]"
     ]
    },
    {
     "name": "stdout",
     "output_type": "stream",
     "text": [
      "Total number of generated modes is  24\n",
      "The number of high quality samples among 2500 samples is 284\n",
      "The mode dictionary is Counter({0: 58, 17: 25, 7: 23, 2: 17, 16: 15, 15: 13, 8: 13, 1: 13, 6: 13, 10: 11, 21: 11, 18: 10, 9: 8, 20: 8, 12: 8, 22: 7, 11: 7, 5: 6, 13: 5, 3: 4, 23: 4, 4: 3, 14: 1, 24: 1})\n"
     ]
    },
    {
     "name": "stderr",
     "output_type": "stream",
     "text": [
      "100%|██████████| 25/25 [00:00<00:00, 48.08it/s]\n"
     ]
    },
    {
     "name": "stdout",
     "output_type": "stream",
     "text": [
      "spent time for epoch 900 is 0.5257484912872314s\n",
      "epoch # : 900 gamma : 0.5 gen loss : 1.0361030101776123\n"
     ]
    },
    {
     "name": "stderr",
     "output_type": "stream",
     "text": [
      " 20%|██        | 5/25 [00:00<00:00, 48.38it/s]"
     ]
    },
    {
     "name": "stdout",
     "output_type": "stream",
     "text": [
      "Total number of generated modes is  24\n",
      "The number of high quality samples among 2500 samples is 247\n",
      "The mode dictionary is Counter({21: 48, 12: 18, 22: 18, 7: 16, 6: 13, 8: 13, 18: 13, 16: 13, 20: 12, 11: 12, 5: 11, 15: 10, 13: 10, 19: 9, 24: 6, 2: 4, 10: 4, 3: 4, 17: 4, 9: 3, 14: 2, 1: 2, 4: 1, 23: 1})\n"
     ]
    },
    {
     "name": "stderr",
     "output_type": "stream",
     "text": [
      "100%|██████████| 25/25 [00:00<00:00, 47.53it/s]\n"
     ]
    },
    {
     "name": "stdout",
     "output_type": "stream",
     "text": [
      "spent time for epoch 901 is 0.5317621231079102s\n",
      "epoch # : 901 gamma : 0.5 gen loss : 1.0410406589508057\n"
     ]
    },
    {
     "name": "stderr",
     "output_type": "stream",
     "text": [
      " 20%|██        | 5/25 [00:00<00:00, 47.93it/s]"
     ]
    },
    {
     "name": "stdout",
     "output_type": "stream",
     "text": [
      "Total number of generated modes is  23\n",
      "The number of high quality samples among 2500 samples is 297\n",
      "The mode dictionary is Counter({23: 37, 20: 35, 15: 25, 22: 22, 7: 19, 16: 16, 13: 15, 6: 13, 21: 12, 17: 12, 11: 11, 3: 11, 2: 11, 8: 11, 18: 10, 1: 9, 12: 8, 0: 6, 14: 4, 24: 4, 4: 4, 5: 1, 10: 1})\n"
     ]
    },
    {
     "name": "stderr",
     "output_type": "stream",
     "text": [
      "100%|██████████| 25/25 [00:00<00:00, 48.44it/s]\n"
     ]
    },
    {
     "name": "stdout",
     "output_type": "stream",
     "text": [
      "spent time for epoch 902 is 0.5221531391143799s\n",
      "epoch # : 902 gamma : 0.5 gen loss : 0.9879299998283386\n"
     ]
    },
    {
     "name": "stderr",
     "output_type": "stream",
     "text": [
      " 20%|██        | 5/25 [00:00<00:00, 48.55it/s]"
     ]
    },
    {
     "name": "stdout",
     "output_type": "stream",
     "text": [
      "Total number of generated modes is  24\n",
      "The number of high quality samples among 2500 samples is 139\n",
      "The mode dictionary is Counter({7: 24, 18: 14, 12: 11, 16: 9, 17: 8, 21: 8, 11: 8, 24: 7, 14: 7, 15: 6, 13: 5, 10: 5, 8: 5, 6: 4, 5: 3, 9: 3, 20: 3, 23: 3, 1: 1, 3: 1, 19: 1, 22: 1, 2: 1, 4: 1})\n"
     ]
    },
    {
     "name": "stderr",
     "output_type": "stream",
     "text": [
      "100%|██████████| 25/25 [00:00<00:00, 46.90it/s]\n"
     ]
    },
    {
     "name": "stdout",
     "output_type": "stream",
     "text": [
      "spent time for epoch 903 is 0.5386319160461426s\n",
      "epoch # : 903 gamma : 0.5 gen loss : 1.0015074014663696\n"
     ]
    },
    {
     "name": "stderr",
     "output_type": "stream",
     "text": [
      " 20%|██        | 5/25 [00:00<00:00, 48.81it/s]"
     ]
    },
    {
     "name": "stdout",
     "output_type": "stream",
     "text": [
      "Total number of generated modes is  24\n",
      "The number of high quality samples among 2500 samples is 218\n",
      "The mode dictionary is Counter({7: 26, 0: 22, 17: 19, 16: 16, 18: 14, 6: 14, 3: 12, 2: 11, 1: 11, 8: 11, 4: 11, 12: 7, 11: 6, 22: 5, 5: 5, 13: 5, 14: 4, 21: 4, 20: 4, 19: 3, 23: 3, 9: 2, 15: 2, 24: 1})\n"
     ]
    },
    {
     "name": "stderr",
     "output_type": "stream",
     "text": [
      "100%|██████████| 25/25 [00:00<00:00, 48.65it/s]\n"
     ]
    },
    {
     "name": "stdout",
     "output_type": "stream",
     "text": [
      "spent time for epoch 904 is 0.5196640491485596s\n",
      "epoch # : 904 gamma : 0.5 gen loss : 1.0144109725952148\n"
     ]
    },
    {
     "name": "stderr",
     "output_type": "stream",
     "text": [
      " 20%|██        | 5/25 [00:00<00:00, 48.22it/s]"
     ]
    },
    {
     "name": "stdout",
     "output_type": "stream",
     "text": [
      "Total number of generated modes is  25\n",
      "The number of high quality samples among 2500 samples is 281\n",
      "The mode dictionary is Counter({10: 29, 7: 26, 17: 19, 6: 19, 15: 18, 20: 15, 23: 15, 18: 15, 16: 14, 11: 13, 8: 12, 13: 10, 2: 9, 3: 9, 5: 8, 21: 7, 12: 6, 4: 6, 9: 6, 22: 6, 0: 5, 19: 4, 1: 4, 14: 4, 24: 2})\n"
     ]
    },
    {
     "name": "stderr",
     "output_type": "stream",
     "text": [
      "100%|██████████| 25/25 [00:00<00:00, 48.02it/s]\n"
     ]
    },
    {
     "name": "stdout",
     "output_type": "stream",
     "text": [
      "spent time for epoch 905 is 0.526444673538208s\n",
      "epoch # : 905 gamma : 0.5 gen loss : 0.9849810600280762\n"
     ]
    },
    {
     "name": "stderr",
     "output_type": "stream",
     "text": [
      " 20%|██        | 5/25 [00:00<00:00, 48.62it/s]"
     ]
    },
    {
     "name": "stdout",
     "output_type": "stream",
     "text": [
      "Total number of generated modes is  25\n",
      "The number of high quality samples among 2500 samples is 443\n",
      "The mode dictionary is Counter({0: 51, 22: 50, 23: 48, 20: 43, 21: 25, 7: 24, 10: 23, 17: 21, 15: 18, 5: 17, 1: 17, 16: 16, 8: 14, 18: 14, 3: 12, 2: 12, 6: 12, 13: 7, 12: 5, 11: 4, 4: 3, 14: 2, 24: 2, 19: 2, 9: 1})\n"
     ]
    },
    {
     "name": "stderr",
     "output_type": "stream",
     "text": [
      "100%|██████████| 25/25 [00:00<00:00, 48.47it/s]\n"
     ]
    },
    {
     "name": "stdout",
     "output_type": "stream",
     "text": [
      "spent time for epoch 906 is 0.5216245651245117s\n",
      "epoch # : 906 gamma : 0.5 gen loss : 1.0395481586456299\n"
     ]
    },
    {
     "name": "stderr",
     "output_type": "stream",
     "text": [
      " 20%|██        | 5/25 [00:00<00:00, 48.62it/s]"
     ]
    },
    {
     "name": "stdout",
     "output_type": "stream",
     "text": [
      "Total number of generated modes is  23\n",
      "The number of high quality samples among 2500 samples is 414\n",
      "The mode dictionary is Counter({22: 62, 20: 44, 23: 36, 21: 30, 17: 27, 5: 22, 7: 19, 16: 19, 3: 17, 10: 17, 0: 17, 15: 16, 8: 15, 6: 14, 11: 13, 12: 10, 2: 9, 18: 9, 1: 7, 4: 4, 9: 3, 24: 3, 13: 1})\n"
     ]
    },
    {
     "name": "stderr",
     "output_type": "stream",
     "text": [
      "100%|██████████| 25/25 [00:00<00:00, 48.69it/s]\n"
     ]
    },
    {
     "name": "stdout",
     "output_type": "stream",
     "text": [
      "spent time for epoch 907 is 0.5194323062896729s\n",
      "epoch # : 907 gamma : 0.5 gen loss : 1.002026915550232\n"
     ]
    },
    {
     "name": "stderr",
     "output_type": "stream",
     "text": [
      " 20%|██        | 5/25 [00:00<00:00, 49.00it/s]"
     ]
    },
    {
     "name": "stdout",
     "output_type": "stream",
     "text": [
      "Total number of generated modes is  23\n",
      "The number of high quality samples among 2500 samples is 246\n",
      "The mode dictionary is Counter({21: 40, 7: 31, 20: 27, 8: 19, 6: 19, 16: 18, 23: 12, 9: 11, 18: 10, 17: 9, 11: 7, 0: 7, 15: 6, 10: 5, 12: 5, 22: 4, 14: 3, 24: 3, 3: 3, 5: 2, 13: 2, 2: 2, 1: 1})\n"
     ]
    },
    {
     "name": "stderr",
     "output_type": "stream",
     "text": [
      "100%|██████████| 25/25 [00:00<00:00, 47.85it/s]\n"
     ]
    },
    {
     "name": "stdout",
     "output_type": "stream",
     "text": [
      "spent time for epoch 908 is 0.5282185077667236s\n",
      "epoch # : 908 gamma : 0.5 gen loss : 1.0325698852539062\n"
     ]
    },
    {
     "name": "stderr",
     "output_type": "stream",
     "text": [
      " 20%|██        | 5/25 [00:00<00:00, 49.50it/s]"
     ]
    },
    {
     "name": "stdout",
     "output_type": "stream",
     "text": [
      "Total number of generated modes is  24\n",
      "The number of high quality samples among 2500 samples is 308\n",
      "The mode dictionary is Counter({10: 52, 23: 41, 24: 26, 16: 22, 5: 21, 22: 21, 11: 17, 18: 16, 6: 14, 15: 13, 17: 13, 13: 7, 0: 7, 20: 7, 12: 6, 7: 6, 21: 5, 8: 4, 1: 3, 19: 3, 14: 1, 4: 1, 9: 1, 2: 1})\n"
     ]
    },
    {
     "name": "stderr",
     "output_type": "stream",
     "text": [
      "100%|██████████| 25/25 [00:00<00:00, 48.94it/s]\n"
     ]
    },
    {
     "name": "stdout",
     "output_type": "stream",
     "text": [
      "spent time for epoch 909 is 0.5166523456573486s\n",
      "epoch # : 909 gamma : 0.5 gen loss : 1.0489616394042969\n"
     ]
    },
    {
     "name": "stderr",
     "output_type": "stream",
     "text": [
      "  4%|▍         | 1/25 [00:00<00:03,  7.27it/s]"
     ]
    },
    {
     "name": "stdout",
     "output_type": "stream",
     "text": [
      "Total number of generated modes is  23\n",
      "The number of high quality samples among 2500 samples is 320\n",
      "The mode dictionary is Counter({5: 54, 10: 53, 22: 22, 16: 21, 11: 20, 15: 19, 6: 17, 7: 16, 12: 15, 17: 13, 23: 12, 13: 10, 3: 9, 20: 7, 8: 7, 9: 6, 21: 5, 18: 4, 1: 3, 0: 2, 2: 2, 4: 2, 14: 1})\n"
     ]
    },
    {
     "name": "stderr",
     "output_type": "stream",
     "text": [
      "100%|██████████| 25/25 [00:00<00:00, 43.39it/s]\n"
     ]
    },
    {
     "name": "stdout",
     "output_type": "stream",
     "text": [
      "spent time for epoch 910 is 0.5818140506744385s\n",
      "epoch # : 910 gamma : 0.5 gen loss : 1.0130982398986816\n"
     ]
    },
    {
     "name": "stderr",
     "output_type": "stream",
     "text": [
      "  4%|▍         | 1/25 [00:00<00:02,  9.77it/s]"
     ]
    },
    {
     "name": "stdout",
     "output_type": "stream",
     "text": [
      "Total number of generated modes is  24\n",
      "The number of high quality samples among 2500 samples is 428\n",
      "The mode dictionary is Counter({20: 43, 21: 40, 22: 38, 17: 37, 16: 24, 5: 23, 12: 21, 7: 19, 6: 19, 10: 17, 14: 15, 24: 15, 23: 14, 4: 13, 15: 13, 18: 12, 9: 12, 19: 11, 13: 10, 11: 9, 3: 8, 8: 8, 2: 4, 1: 3})\n"
     ]
    },
    {
     "name": "stderr",
     "output_type": "stream",
     "text": [
      "100%|██████████| 25/25 [00:00<00:00, 46.05it/s]\n"
     ]
    },
    {
     "name": "stdout",
     "output_type": "stream",
     "text": [
      "spent time for epoch 911 is 0.5484790802001953s\n",
      "epoch # : 911 gamma : 0.5 gen loss : 0.9964385032653809\n"
     ]
    },
    {
     "name": "stderr",
     "output_type": "stream",
     "text": [
      " 20%|██        | 5/25 [00:00<00:00, 48.59it/s]"
     ]
    },
    {
     "name": "stdout",
     "output_type": "stream",
     "text": [
      "Total number of generated modes is  25\n",
      "The number of high quality samples among 2500 samples is 323\n",
      "The mode dictionary is Counter({5: 53, 0: 52, 7: 19, 2: 16, 15: 16, 10: 16, 20: 15, 16: 14, 17: 14, 18: 12, 3: 11, 1: 11, 13: 11, 23: 11, 8: 10, 12: 9, 22: 8, 21: 7, 6: 6, 11: 5, 9: 2, 24: 2, 19: 1, 14: 1, 4: 1})\n"
     ]
    },
    {
     "name": "stderr",
     "output_type": "stream",
     "text": [
      "100%|██████████| 25/25 [00:00<00:00, 47.94it/s]\n"
     ]
    },
    {
     "name": "stdout",
     "output_type": "stream",
     "text": [
      "spent time for epoch 912 is 0.5272030830383301s\n",
      "epoch # : 912 gamma : 0.5 gen loss : 1.0392382144927979\n"
     ]
    },
    {
     "name": "stderr",
     "output_type": "stream",
     "text": [
      " 20%|██        | 5/25 [00:00<00:00, 48.37it/s]"
     ]
    },
    {
     "name": "stdout",
     "output_type": "stream",
     "text": [
      "Total number of generated modes is  25\n",
      "The number of high quality samples among 2500 samples is 310\n",
      "The mode dictionary is Counter({17: 30, 22: 24, 16: 21, 13: 20, 12: 17, 1: 16, 6: 16, 7: 16, 15: 15, 5: 14, 9: 14, 20: 14, 8: 13, 14: 12, 3: 11, 11: 10, 2: 8, 0: 7, 18: 7, 10: 6, 24: 6, 19: 5, 23: 4, 4: 3, 21: 1})\n"
     ]
    },
    {
     "name": "stderr",
     "output_type": "stream",
     "text": [
      "100%|██████████| 25/25 [00:00<00:00, 47.66it/s]\n"
     ]
    },
    {
     "name": "stdout",
     "output_type": "stream",
     "text": [
      "spent time for epoch 913 is 0.5302305221557617s\n",
      "epoch # : 913 gamma : 0.5 gen loss : 1.0447640419006348\n"
     ]
    },
    {
     "name": "stderr",
     "output_type": "stream",
     "text": [
      " 20%|██        | 5/25 [00:00<00:00, 47.86it/s]"
     ]
    },
    {
     "name": "stdout",
     "output_type": "stream",
     "text": [
      "Total number of generated modes is  25\n",
      "The number of high quality samples among 2500 samples is 290\n",
      "The mode dictionary is Counter({5: 56, 17: 29, 16: 23, 20: 20, 22: 19, 8: 17, 7: 13, 15: 12, 10: 11, 18: 11, 12: 9, 0: 8, 13: 8, 3: 8, 11: 7, 6: 7, 1: 7, 14: 6, 9: 5, 24: 4, 21: 3, 23: 3, 4: 2, 2: 1, 19: 1})\n"
     ]
    },
    {
     "name": "stderr",
     "output_type": "stream",
     "text": [
      "100%|██████████| 25/25 [00:00<00:00, 48.15it/s]\n"
     ]
    },
    {
     "name": "stdout",
     "output_type": "stream",
     "text": [
      "spent time for epoch 914 is 0.5252008438110352s\n",
      "epoch # : 914 gamma : 0.5 gen loss : 0.9933598041534424\n"
     ]
    },
    {
     "name": "stderr",
     "output_type": "stream",
     "text": [
      " 12%|█▏        | 3/25 [00:00<00:00, 29.97it/s]"
     ]
    },
    {
     "name": "stdout",
     "output_type": "stream",
     "text": [
      "Total number of generated modes is  24\n",
      "The number of high quality samples among 2500 samples is 332\n",
      "The mode dictionary is Counter({22: 43, 23: 42, 17: 35, 16: 24, 7: 22, 13: 18, 24: 16, 12: 15, 5: 13, 18: 13, 3: 12, 4: 12, 8: 11, 6: 10, 14: 9, 11: 8, 2: 7, 9: 4, 21: 4, 19: 4, 1: 3, 20: 3, 0: 3, 10: 1})\n"
     ]
    },
    {
     "name": "stderr",
     "output_type": "stream",
     "text": [
      "100%|██████████| 25/25 [00:00<00:00, 46.95it/s]\n"
     ]
    },
    {
     "name": "stdout",
     "output_type": "stream",
     "text": [
      "spent time for epoch 915 is 0.538245677947998s\n",
      "epoch # : 915 gamma : 0.5 gen loss : 1.0029000043869019\n"
     ]
    },
    {
     "name": "stderr",
     "output_type": "stream",
     "text": [
      " 20%|██        | 5/25 [00:00<00:00, 47.97it/s]"
     ]
    },
    {
     "name": "stdout",
     "output_type": "stream",
     "text": [
      "Total number of generated modes is  24\n",
      "The number of high quality samples among 2500 samples is 379\n",
      "The mode dictionary is Counter({20: 50, 17: 35, 0: 34, 5: 33, 21: 28, 7: 26, 13: 21, 16: 21, 12: 20, 1: 16, 15: 14, 18: 14, 11: 13, 10: 9, 8: 7, 22: 7, 6: 7, 23: 6, 14: 4, 19: 4, 9: 3, 24: 3, 2: 3, 3: 1})\n"
     ]
    },
    {
     "name": "stderr",
     "output_type": "stream",
     "text": [
      "100%|██████████| 25/25 [00:00<00:00, 48.55it/s]\n"
     ]
    },
    {
     "name": "stdout",
     "output_type": "stream",
     "text": [
      "spent time for epoch 916 is 0.5205967426300049s\n",
      "epoch # : 916 gamma : 0.5 gen loss : 1.0530251264572144\n"
     ]
    },
    {
     "name": "stderr",
     "output_type": "stream",
     "text": [
      " 20%|██        | 5/25 [00:00<00:00, 49.09it/s]"
     ]
    },
    {
     "name": "stdout",
     "output_type": "stream",
     "text": [
      "Total number of generated modes is  24\n",
      "The number of high quality samples among 2500 samples is 326\n",
      "The mode dictionary is Counter({22: 41, 23: 34, 7: 30, 17: 22, 24: 17, 6: 16, 0: 14, 14: 14, 2: 14, 19: 14, 16: 14, 1: 13, 21: 11, 11: 10, 13: 10, 12: 9, 5: 7, 18: 7, 8: 7, 3: 6, 15: 6, 9: 5, 4: 3, 10: 2})\n"
     ]
    },
    {
     "name": "stderr",
     "output_type": "stream",
     "text": [
      "100%|██████████| 25/25 [00:00<00:00, 48.95it/s]\n"
     ]
    },
    {
     "name": "stdout",
     "output_type": "stream",
     "text": [
      "spent time for epoch 917 is 0.5165817737579346s\n",
      "epoch # : 917 gamma : 0.5 gen loss : 1.0340622663497925\n"
     ]
    },
    {
     "name": "stderr",
     "output_type": "stream",
     "text": [
      " 20%|██        | 5/25 [00:00<00:00, 49.02it/s]"
     ]
    },
    {
     "name": "stdout",
     "output_type": "stream",
     "text": [
      "Total number of generated modes is  25\n",
      "The number of high quality samples among 2500 samples is 337\n",
      "The mode dictionary is Counter({21: 53, 20: 50, 7: 31, 22: 28, 16: 22, 15: 16, 5: 13, 10: 12, 23: 11, 11: 11, 12: 10, 2: 9, 17: 9, 13: 9, 3: 8, 18: 8, 8: 8, 1: 7, 6: 7, 24: 4, 9: 3, 0: 3, 4: 3, 19: 1, 14: 1})\n"
     ]
    },
    {
     "name": "stderr",
     "output_type": "stream",
     "text": [
      "100%|██████████| 25/25 [00:00<00:00, 48.98it/s]\n"
     ]
    },
    {
     "name": "stdout",
     "output_type": "stream",
     "text": [
      "spent time for epoch 918 is 0.5160362720489502s\n",
      "epoch # : 918 gamma : 0.5 gen loss : 1.0430309772491455\n"
     ]
    },
    {
     "name": "stderr",
     "output_type": "stream",
     "text": [
      " 20%|██        | 5/25 [00:00<00:00, 49.14it/s]"
     ]
    },
    {
     "name": "stdout",
     "output_type": "stream",
     "text": [
      "Total number of generated modes is  25\n",
      "The number of high quality samples among 2500 samples is 274\n",
      "The mode dictionary is Counter({7: 37, 1: 18, 16: 17, 4: 15, 5: 14, 12: 14, 17: 14, 19: 13, 6: 13, 14: 13, 13: 12, 3: 11, 8: 11, 11: 10, 24: 9, 15: 9, 9: 9, 2: 7, 18: 6, 22: 6, 0: 5, 20: 5, 10: 3, 21: 2, 23: 1})\n"
     ]
    },
    {
     "name": "stderr",
     "output_type": "stream",
     "text": [
      "100%|██████████| 25/25 [00:00<00:00, 48.49it/s]\n"
     ]
    },
    {
     "name": "stdout",
     "output_type": "stream",
     "text": [
      "spent time for epoch 919 is 0.5213696956634521s\n",
      "epoch # : 919 gamma : 0.5 gen loss : 1.0288549661636353\n"
     ]
    },
    {
     "name": "stderr",
     "output_type": "stream",
     "text": [
      " 20%|██        | 5/25 [00:00<00:00, 48.99it/s]"
     ]
    },
    {
     "name": "stdout",
     "output_type": "stream",
     "text": [
      "Total number of generated modes is  25\n",
      "The number of high quality samples among 2500 samples is 335\n",
      "The mode dictionary is Counter({21: 55, 22: 36, 17: 27, 2: 21, 7: 21, 1: 20, 16: 19, 12: 17, 3: 15, 6: 14, 13: 13, 11: 12, 8: 12, 5: 9, 18: 9, 20: 7, 0: 6, 10: 5, 15: 4, 14: 4, 24: 3, 19: 2, 4: 2, 23: 1, 9: 1})\n"
     ]
    },
    {
     "name": "stderr",
     "output_type": "stream",
     "text": [
      "100%|██████████| 25/25 [00:00<00:00, 49.03it/s]\n"
     ]
    },
    {
     "name": "stdout",
     "output_type": "stream",
     "text": [
      "spent time for epoch 920 is 0.515836238861084s\n",
      "epoch # : 920 gamma : 0.5 gen loss : 0.9939704537391663\n"
     ]
    },
    {
     "name": "stderr",
     "output_type": "stream",
     "text": [
      "  4%|▍         | 1/25 [00:00<00:03,  6.99it/s]"
     ]
    },
    {
     "name": "stdout",
     "output_type": "stream",
     "text": [
      "Total number of generated modes is  25\n",
      "The number of high quality samples among 2500 samples is 249\n",
      "The mode dictionary is Counter({7: 25, 18: 21, 16: 20, 17: 19, 23: 17, 8: 16, 2: 13, 14: 10, 13: 10, 20: 10, 11: 10, 15: 9, 9: 9, 19: 8, 10: 8, 3: 7, 12: 6, 6: 6, 1: 6, 21: 5, 0: 5, 4: 3, 5: 3, 22: 2, 24: 1})\n"
     ]
    },
    {
     "name": "stderr",
     "output_type": "stream",
     "text": [
      "100%|██████████| 25/25 [00:00<00:00, 42.63it/s]\n"
     ]
    },
    {
     "name": "stdout",
     "output_type": "stream",
     "text": [
      "spent time for epoch 921 is 0.5920467376708984s\n",
      "epoch # : 921 gamma : 0.5 gen loss : 0.9796634316444397\n"
     ]
    },
    {
     "name": "stderr",
     "output_type": "stream",
     "text": [
      " 20%|██        | 5/25 [00:00<00:00, 48.51it/s]"
     ]
    },
    {
     "name": "stdout",
     "output_type": "stream",
     "text": [
      "Total number of generated modes is  25\n",
      "The number of high quality samples among 2500 samples is 324\n",
      "The mode dictionary is Counter({21: 46, 20: 44, 22: 30, 23: 29, 13: 21, 17: 17, 16: 15, 15: 12, 2: 11, 11: 11, 18: 10, 4: 10, 3: 9, 12: 9, 19: 9, 6: 7, 24: 7, 5: 7, 8: 5, 7: 4, 1: 3, 10: 3, 14: 2, 0: 2, 9: 1})\n"
     ]
    },
    {
     "name": "stderr",
     "output_type": "stream",
     "text": [
      "100%|██████████| 25/25 [00:00<00:00, 47.93it/s]\n"
     ]
    },
    {
     "name": "stdout",
     "output_type": "stream",
     "text": [
      "spent time for epoch 922 is 0.5269744396209717s\n",
      "epoch # : 922 gamma : 0.5 gen loss : 0.9830244183540344\n"
     ]
    },
    {
     "name": "stderr",
     "output_type": "stream",
     "text": [
      " 20%|██        | 5/25 [00:00<00:00, 48.37it/s]"
     ]
    },
    {
     "name": "stdout",
     "output_type": "stream",
     "text": [
      "Total number of generated modes is  23\n",
      "The number of high quality samples among 2500 samples is 250\n",
      "The mode dictionary is Counter({7: 34, 16: 20, 17: 17, 2: 14, 18: 14, 1: 12, 3: 11, 0: 11, 13: 11, 8: 10, 21: 10, 19: 10, 24: 10, 6: 10, 11: 9, 12: 8, 23: 8, 4: 8, 14: 7, 22: 6, 9: 6, 15: 2, 5: 2})\n"
     ]
    },
    {
     "name": "stderr",
     "output_type": "stream",
     "text": [
      "100%|██████████| 25/25 [00:00<00:00, 48.33it/s]\n"
     ]
    },
    {
     "name": "stdout",
     "output_type": "stream",
     "text": [
      "spent time for epoch 923 is 0.5232102870941162s\n",
      "epoch # : 923 gamma : 0.5 gen loss : 1.0110961198806763\n"
     ]
    },
    {
     "name": "stderr",
     "output_type": "stream",
     "text": [
      " 20%|██        | 5/25 [00:00<00:00, 48.80it/s]"
     ]
    },
    {
     "name": "stdout",
     "output_type": "stream",
     "text": [
      "Total number of generated modes is  23\n",
      "The number of high quality samples among 2500 samples is 229\n",
      "The mode dictionary is Counter({7: 23, 23: 22, 16: 22, 8: 19, 22: 16, 6: 13, 18: 12, 12: 12, 5: 12, 17: 10, 9: 9, 4: 9, 13: 8, 14: 7, 3: 6, 11: 6, 19: 6, 1: 6, 21: 5, 24: 3, 0: 1, 20: 1, 2: 1})\n"
     ]
    },
    {
     "name": "stderr",
     "output_type": "stream",
     "text": [
      "100%|██████████| 25/25 [00:00<00:00, 48.08it/s]\n"
     ]
    },
    {
     "name": "stdout",
     "output_type": "stream",
     "text": [
      "spent time for epoch 924 is 0.5255289077758789s\n",
      "epoch # : 924 gamma : 0.5 gen loss : 1.0349571704864502\n"
     ]
    },
    {
     "name": "stderr",
     "output_type": "stream",
     "text": [
      " 20%|██        | 5/25 [00:00<00:00, 48.13it/s]"
     ]
    },
    {
     "name": "stdout",
     "output_type": "stream",
     "text": [
      "Total number of generated modes is  24\n",
      "The number of high quality samples among 2500 samples is 214\n",
      "The mode dictionary is Counter({16: 33, 7: 15, 1: 15, 17: 13, 6: 12, 15: 12, 3: 11, 11: 10, 5: 9, 18: 9, 19: 9, 21: 8, 9: 7, 13: 7, 8: 7, 12: 6, 24: 6, 10: 6, 14: 5, 20: 5, 2: 4, 22: 3, 0: 1, 4: 1})\n"
     ]
    },
    {
     "name": "stderr",
     "output_type": "stream",
     "text": [
      "100%|██████████| 25/25 [00:00<00:00, 48.29it/s]\n"
     ]
    },
    {
     "name": "stdout",
     "output_type": "stream",
     "text": [
      "spent time for epoch 925 is 0.5240626335144043s\n",
      "epoch # : 925 gamma : 0.5 gen loss : 1.0270224809646606\n"
     ]
    },
    {
     "name": "stderr",
     "output_type": "stream",
     "text": [
      " 20%|██        | 5/25 [00:00<00:00, 48.11it/s]"
     ]
    },
    {
     "name": "stdout",
     "output_type": "stream",
     "text": [
      "Total number of generated modes is  24\n",
      "The number of high quality samples among 2500 samples is 396\n",
      "The mode dictionary is Counter({20: 60, 22: 47, 5: 40, 21: 39, 6: 19, 15: 18, 12: 17, 16: 17, 7: 17, 10: 17, 3: 15, 17: 15, 24: 12, 8: 9, 11: 9, 13: 8, 14: 6, 18: 5, 1: 5, 4: 5, 0: 4, 9: 4, 19: 4, 2: 4})\n"
     ]
    },
    {
     "name": "stderr",
     "output_type": "stream",
     "text": [
      "100%|██████████| 25/25 [00:00<00:00, 47.52it/s]\n"
     ]
    },
    {
     "name": "stdout",
     "output_type": "stream",
     "text": [
      "spent time for epoch 926 is 0.531958818435669s\n",
      "epoch # : 926 gamma : 0.5 gen loss : 0.9843717813491821\n"
     ]
    },
    {
     "name": "stderr",
     "output_type": "stream",
     "text": [
      " 20%|██        | 5/25 [00:00<00:00, 49.04it/s]"
     ]
    },
    {
     "name": "stdout",
     "output_type": "stream",
     "text": [
      "Total number of generated modes is  24\n",
      "The number of high quality samples among 2500 samples is 212\n",
      "The mode dictionary is Counter({7: 27, 16: 24, 17: 21, 8: 14, 0: 12, 6: 11, 14: 11, 12: 11, 19: 10, 4: 9, 1: 9, 13: 8, 9: 8, 2: 7, 24: 6, 18: 6, 22: 6, 3: 4, 11: 2, 21: 2, 20: 1, 23: 1, 15: 1, 5: 1})\n"
     ]
    },
    {
     "name": "stderr",
     "output_type": "stream",
     "text": [
      "100%|██████████| 25/25 [00:00<00:00, 48.31it/s]\n"
     ]
    },
    {
     "name": "stdout",
     "output_type": "stream",
     "text": [
      "spent time for epoch 927 is 0.5231747627258301s\n",
      "epoch # : 927 gamma : 0.5 gen loss : 0.9577943086624146\n"
     ]
    },
    {
     "name": "stderr",
     "output_type": "stream",
     "text": [
      " 20%|██        | 5/25 [00:00<00:00, 49.00it/s]"
     ]
    },
    {
     "name": "stdout",
     "output_type": "stream",
     "text": [
      "Total number of generated modes is  23\n",
      "The number of high quality samples among 2500 samples is 215\n",
      "The mode dictionary is Counter({17: 23, 6: 22, 7: 19, 22: 18, 16: 17, 12: 13, 11: 13, 13: 12, 3: 11, 5: 11, 18: 9, 21: 7, 23: 7, 8: 7, 10: 6, 2: 4, 1: 4, 14: 3, 19: 2, 24: 2, 15: 2, 9: 2, 4: 1})\n"
     ]
    },
    {
     "name": "stderr",
     "output_type": "stream",
     "text": [
      "100%|██████████| 25/25 [00:00<00:00, 48.94it/s]\n"
     ]
    },
    {
     "name": "stdout",
     "output_type": "stream",
     "text": [
      "spent time for epoch 928 is 0.5165855884552002s\n",
      "epoch # : 928 gamma : 0.5 gen loss : 0.9644903540611267\n"
     ]
    },
    {
     "name": "stderr",
     "output_type": "stream",
     "text": [
      " 20%|██        | 5/25 [00:00<00:00, 47.56it/s]"
     ]
    },
    {
     "name": "stdout",
     "output_type": "stream",
     "text": [
      "Total number of generated modes is  24\n",
      "The number of high quality samples among 2500 samples is 228\n",
      "The mode dictionary is Counter({17: 29, 7: 28, 15: 18, 16: 16, 12: 15, 13: 15, 18: 13, 11: 12, 14: 9, 9: 8, 5: 8, 19: 7, 10: 7, 22: 7, 6: 7, 8: 6, 20: 5, 23: 5, 2: 3, 21: 3, 3: 2, 1: 2, 4: 2, 24: 1})\n"
     ]
    },
    {
     "name": "stderr",
     "output_type": "stream",
     "text": [
      "100%|██████████| 25/25 [00:00<00:00, 48.35it/s]\n"
     ]
    },
    {
     "name": "stdout",
     "output_type": "stream",
     "text": [
      "spent time for epoch 929 is 0.5231058597564697s\n",
      "epoch # : 929 gamma : 0.5 gen loss : 1.0229896306991577\n"
     ]
    },
    {
     "name": "stderr",
     "output_type": "stream",
     "text": [
      " 20%|██        | 5/25 [00:00<00:00, 48.43it/s]"
     ]
    },
    {
     "name": "stdout",
     "output_type": "stream",
     "text": [
      "Total number of generated modes is  24\n",
      "The number of high quality samples among 2500 samples is 356\n",
      "The mode dictionary is Counter({5: 53, 20: 50, 22: 50, 3: 24, 7: 19, 21: 18, 4: 16, 13: 16, 15: 13, 12: 12, 1: 10, 11: 10, 9: 9, 17: 8, 10: 8, 6: 6, 14: 6, 8: 6, 23: 5, 0: 5, 16: 4, 2: 4, 18: 3, 24: 1})\n"
     ]
    },
    {
     "name": "stderr",
     "output_type": "stream",
     "text": [
      "100%|██████████| 25/25 [00:00<00:00, 48.74it/s]\n"
     ]
    },
    {
     "name": "stdout",
     "output_type": "stream",
     "text": [
      "spent time for epoch 930 is 0.5186257362365723s\n",
      "epoch # : 930 gamma : 0.5 gen loss : 0.9991490244865417\n"
     ]
    },
    {
     "name": "stderr",
     "output_type": "stream",
     "text": [
      " 20%|██        | 5/25 [00:00<00:00, 48.56it/s]"
     ]
    },
    {
     "name": "stdout",
     "output_type": "stream",
     "text": [
      "Total number of generated modes is  25\n",
      "The number of high quality samples among 2500 samples is 279\n",
      "The mode dictionary is Counter({22: 27, 16: 24, 7: 20, 15: 17, 2: 16, 18: 13, 11: 13, 13: 13, 6: 13, 20: 12, 14: 12, 12: 12, 24: 11, 10: 10, 0: 10, 5: 10, 3: 10, 17: 8, 19: 7, 8: 6, 1: 5, 9: 4, 21: 3, 4: 2, 23: 1})\n"
     ]
    },
    {
     "name": "stderr",
     "output_type": "stream",
     "text": [
      "100%|██████████| 25/25 [00:00<00:00, 48.77it/s]\n"
     ]
    },
    {
     "name": "stdout",
     "output_type": "stream",
     "text": [
      "spent time for epoch 931 is 0.5194165706634521s\n",
      "epoch # : 931 gamma : 0.5 gen loss : 1.0351251363754272\n"
     ]
    },
    {
     "name": "stderr",
     "output_type": "stream",
     "text": [
      "  4%|▍         | 1/25 [00:00<00:03,  7.19it/s]"
     ]
    },
    {
     "name": "stdout",
     "output_type": "stream",
     "text": [
      "Total number of generated modes is  24\n",
      "The number of high quality samples among 2500 samples is 244\n",
      "The mode dictionary is Counter({0: 26, 7: 19, 16: 17, 13: 14, 2: 13, 3: 13, 5: 13, 21: 12, 15: 12, 11: 11, 17: 11, 23: 11, 6: 11, 18: 10, 22: 9, 1: 9, 20: 8, 8: 8, 4: 5, 12: 4, 9: 3, 24: 3, 10: 1, 14: 1})\n"
     ]
    },
    {
     "name": "stderr",
     "output_type": "stream",
     "text": [
      "100%|██████████| 25/25 [00:00<00:00, 43.44it/s]\n"
     ]
    },
    {
     "name": "stdout",
     "output_type": "stream",
     "text": [
      "spent time for epoch 932 is 0.5818617343902588s\n",
      "epoch # : 932 gamma : 0.5 gen loss : 1.022721529006958\n"
     ]
    },
    {
     "name": "stderr",
     "output_type": "stream",
     "text": [
      " 20%|██        | 5/25 [00:00<00:00, 48.67it/s]"
     ]
    },
    {
     "name": "stdout",
     "output_type": "stream",
     "text": [
      "Total number of generated modes is  23\n",
      "The number of high quality samples among 2500 samples is 243\n",
      "The mode dictionary is Counter({5: 58, 16: 19, 17: 18, 7: 14, 12: 14, 15: 13, 4: 10, 8: 10, 13: 9, 9: 9, 10: 9, 14: 8, 21: 8, 23: 8, 20: 7, 2: 6, 6: 6, 22: 6, 11: 4, 0: 3, 1: 2, 19: 1, 3: 1})\n"
     ]
    },
    {
     "name": "stderr",
     "output_type": "stream",
     "text": [
      "100%|██████████| 25/25 [00:00<00:00, 48.38it/s]\n"
     ]
    },
    {
     "name": "stdout",
     "output_type": "stream",
     "text": [
      "spent time for epoch 933 is 0.5225503444671631s\n",
      "epoch # : 933 gamma : 0.5 gen loss : 1.0329656600952148\n"
     ]
    },
    {
     "name": "stderr",
     "output_type": "stream",
     "text": [
      " 20%|██        | 5/25 [00:00<00:00, 48.41it/s]"
     ]
    },
    {
     "name": "stdout",
     "output_type": "stream",
     "text": [
      "Total number of generated modes is  25\n",
      "The number of high quality samples among 2500 samples is 259\n",
      "The mode dictionary is Counter({5: 23, 7: 23, 23: 21, 22: 19, 16: 19, 17: 16, 12: 15, 13: 14, 19: 13, 11: 11, 6: 10, 14: 10, 8: 10, 20: 8, 3: 8, 21: 6, 2: 5, 24: 5, 15: 4, 1: 4, 10: 4, 18: 4, 9: 3, 4: 2, 0: 2})\n"
     ]
    },
    {
     "name": "stderr",
     "output_type": "stream",
     "text": [
      "100%|██████████| 25/25 [00:00<00:00, 47.50it/s]\n"
     ]
    },
    {
     "name": "stdout",
     "output_type": "stream",
     "text": [
      "spent time for epoch 934 is 0.5322437286376953s\n",
      "epoch # : 934 gamma : 0.5 gen loss : 1.0108642578125\n"
     ]
    },
    {
     "name": "stderr",
     "output_type": "stream",
     "text": [
      " 20%|██        | 5/25 [00:00<00:00, 48.34it/s]"
     ]
    },
    {
     "name": "stdout",
     "output_type": "stream",
     "text": [
      "Total number of generated modes is  25\n",
      "The number of high quality samples among 2500 samples is 223\n",
      "The mode dictionary is Counter({20: 25, 0: 17, 23: 16, 16: 16, 12: 15, 11: 13, 22: 12, 1: 11, 2: 11, 17: 10, 8: 10, 10: 10, 6: 10, 7: 9, 18: 7, 13: 7, 3: 5, 15: 4, 5: 3, 4: 3, 14: 3, 21: 2, 24: 2, 9: 1, 19: 1})\n"
     ]
    },
    {
     "name": "stderr",
     "output_type": "stream",
     "text": [
      "100%|██████████| 25/25 [00:00<00:00, 47.79it/s]\n"
     ]
    },
    {
     "name": "stdout",
     "output_type": "stream",
     "text": [
      "spent time for epoch 935 is 0.528958797454834s\n",
      "epoch # : 935 gamma : 0.5 gen loss : 0.9958863854408264\n"
     ]
    },
    {
     "name": "stderr",
     "output_type": "stream",
     "text": [
      " 20%|██        | 5/25 [00:00<00:00, 48.73it/s]"
     ]
    },
    {
     "name": "stdout",
     "output_type": "stream",
     "text": [
      "Total number of generated modes is  24\n",
      "The number of high quality samples among 2500 samples is 322\n",
      "The mode dictionary is Counter({5: 67, 23: 39, 16: 29, 10: 24, 8: 22, 12: 17, 17: 15, 6: 11, 11: 11, 13: 10, 7: 10, 0: 9, 9: 9, 18: 8, 15: 7, 22: 7, 3: 7, 1: 6, 2: 4, 14: 3, 21: 2, 4: 2, 19: 2, 24: 1})\n"
     ]
    },
    {
     "name": "stderr",
     "output_type": "stream",
     "text": [
      "100%|██████████| 25/25 [00:00<00:00, 47.78it/s]\n"
     ]
    },
    {
     "name": "stdout",
     "output_type": "stream",
     "text": [
      "spent time for epoch 936 is 0.5291919708251953s\n",
      "epoch # : 936 gamma : 0.5 gen loss : 1.0077184438705444\n"
     ]
    },
    {
     "name": "stderr",
     "output_type": "stream",
     "text": [
      " 20%|██        | 5/25 [00:00<00:00, 48.97it/s]"
     ]
    },
    {
     "name": "stdout",
     "output_type": "stream",
     "text": [
      "Total number of generated modes is  23\n",
      "The number of high quality samples among 2500 samples is 203\n",
      "The mode dictionary is Counter({21: 37, 16: 27, 7: 18, 13: 17, 12: 16, 11: 11, 6: 10, 8: 9, 3: 9, 17: 8, 22: 6, 4: 5, 1: 5, 2: 5, 18: 4, 20: 4, 24: 3, 5: 3, 10: 2, 0: 1, 19: 1, 15: 1, 14: 1})\n"
     ]
    },
    {
     "name": "stderr",
     "output_type": "stream",
     "text": [
      "100%|██████████| 25/25 [00:00<00:00, 48.20it/s]\n"
     ]
    },
    {
     "name": "stdout",
     "output_type": "stream",
     "text": [
      "spent time for epoch 937 is 0.5247063636779785s\n",
      "epoch # : 937 gamma : 0.5 gen loss : 0.9897987246513367\n"
     ]
    },
    {
     "name": "stderr",
     "output_type": "stream",
     "text": [
      " 16%|█▌        | 4/25 [00:00<00:00, 39.94it/s]"
     ]
    },
    {
     "name": "stdout",
     "output_type": "stream",
     "text": [
      "Total number of generated modes is  22\n",
      "The number of high quality samples among 2500 samples is 186\n",
      "The mode dictionary is Counter({16: 23, 0: 19, 10: 18, 17: 15, 7: 14, 1: 14, 11: 13, 6: 12, 13: 9, 8: 8, 12: 8, 21: 5, 3: 4, 2: 4, 14: 4, 15: 3, 23: 3, 20: 3, 22: 2, 18: 2, 9: 2, 19: 1})\n"
     ]
    },
    {
     "name": "stderr",
     "output_type": "stream",
     "text": [
      "100%|██████████| 25/25 [00:00<00:00, 46.63it/s]\n"
     ]
    },
    {
     "name": "stdout",
     "output_type": "stream",
     "text": [
      "spent time for epoch 938 is 0.5421602725982666s\n",
      "epoch # : 938 gamma : 0.5 gen loss : 1.0094135999679565\n"
     ]
    },
    {
     "name": "stderr",
     "output_type": "stream",
     "text": [
      " 20%|██        | 5/25 [00:00<00:00, 48.91it/s]"
     ]
    },
    {
     "name": "stdout",
     "output_type": "stream",
     "text": [
      "Total number of generated modes is  21\n",
      "The number of high quality samples among 2500 samples is 207\n",
      "The mode dictionary is Counter({22: 23, 8: 20, 16: 18, 7: 17, 13: 15, 23: 14, 12: 13, 6: 11, 3: 11, 11: 10, 18: 9, 17: 9, 5: 8, 24: 8, 21: 6, 1: 4, 9: 3, 19: 3, 14: 2, 2: 2, 15: 1})\n"
     ]
    },
    {
     "name": "stderr",
     "output_type": "stream",
     "text": [
      "100%|██████████| 25/25 [00:00<00:00, 45.54it/s]\n"
     ]
    },
    {
     "name": "stdout",
     "output_type": "stream",
     "text": [
      "spent time for epoch 939 is 0.5547177791595459s\n",
      "epoch # : 939 gamma : 0.5 gen loss : 0.9813066124916077\n"
     ]
    },
    {
     "name": "stderr",
     "output_type": "stream",
     "text": [
      " 20%|██        | 5/25 [00:00<00:00, 48.21it/s]"
     ]
    },
    {
     "name": "stdout",
     "output_type": "stream",
     "text": [
      "Total number of generated modes is  24\n",
      "The number of high quality samples among 2500 samples is 219\n",
      "The mode dictionary is Counter({20: 27, 3: 18, 21: 17, 17: 16, 8: 15, 6: 14, 14: 11, 13: 11, 19: 11, 12: 10, 11: 10, 5: 9, 22: 8, 7: 8, 18: 8, 4: 7, 24: 6, 2: 4, 9: 3, 1: 2, 10: 1, 16: 1, 15: 1, 0: 1})\n"
     ]
    },
    {
     "name": "stderr",
     "output_type": "stream",
     "text": [
      "100%|██████████| 25/25 [00:00<00:00, 47.99it/s]\n"
     ]
    },
    {
     "name": "stdout",
     "output_type": "stream",
     "text": [
      "spent time for epoch 940 is 0.5269265174865723s\n",
      "epoch # : 940 gamma : 0.5 gen loss : 0.9893255233764648\n"
     ]
    },
    {
     "name": "stderr",
     "output_type": "stream",
     "text": [
      " 20%|██        | 5/25 [00:00<00:00, 48.72it/s]"
     ]
    },
    {
     "name": "stdout",
     "output_type": "stream",
     "text": [
      "Total number of generated modes is  25\n",
      "The number of high quality samples among 2500 samples is 296\n",
      "The mode dictionary is Counter({20: 33, 5: 29, 7: 20, 10: 20, 22: 19, 3: 15, 15: 15, 6: 14, 1: 13, 18: 12, 23: 12, 12: 12, 17: 11, 8: 10, 21: 10, 11: 9, 2: 9, 13: 7, 4: 5, 9: 5, 0: 5, 16: 5, 24: 4, 19: 1, 14: 1})\n"
     ]
    },
    {
     "name": "stderr",
     "output_type": "stream",
     "text": [
      "100%|██████████| 25/25 [00:00<00:00, 48.96it/s]\n"
     ]
    },
    {
     "name": "stdout",
     "output_type": "stream",
     "text": [
      "spent time for epoch 941 is 0.5163123607635498s\n",
      "epoch # : 941 gamma : 0.5 gen loss : 0.9869288206100464\n"
     ]
    },
    {
     "name": "stderr",
     "output_type": "stream",
     "text": [
      " 20%|██        | 5/25 [00:00<00:00, 48.67it/s]"
     ]
    },
    {
     "name": "stdout",
     "output_type": "stream",
     "text": [
      "Total number of generated modes is  23\n",
      "The number of high quality samples among 2500 samples is 338\n",
      "The mode dictionary is Counter({5: 54, 0: 32, 4: 27, 7: 22, 9: 19, 17: 18, 16: 17, 18: 16, 6: 16, 19: 16, 8: 13, 2: 12, 1: 12, 12: 11, 24: 10, 14: 8, 11: 8, 13: 8, 22: 7, 3: 7, 21: 3, 23: 1, 15: 1})\n"
     ]
    },
    {
     "name": "stderr",
     "output_type": "stream",
     "text": [
      "100%|██████████| 25/25 [00:00<00:00, 48.26it/s]\n"
     ]
    },
    {
     "name": "stdout",
     "output_type": "stream",
     "text": [
      "spent time for epoch 942 is 0.5238626003265381s\n",
      "epoch # : 942 gamma : 0.5 gen loss : 1.0273605585098267\n"
     ]
    },
    {
     "name": "stderr",
     "output_type": "stream",
     "text": [
      "  4%|▍         | 1/25 [00:00<00:03,  6.90it/s]"
     ]
    },
    {
     "name": "stdout",
     "output_type": "stream",
     "text": [
      "Total number of generated modes is  25\n",
      "The number of high quality samples among 2500 samples is 331\n",
      "The mode dictionary is Counter({20: 51, 23: 35, 21: 28, 5: 27, 17: 18, 15: 17, 4: 14, 7: 14, 10: 13, 3: 13, 2: 13, 9: 11, 8: 10, 18: 10, 1: 8, 13: 8, 0: 7, 14: 7, 12: 7, 22: 7, 16: 5, 19: 3, 11: 2, 6: 2, 24: 1})\n"
     ]
    },
    {
     "name": "stderr",
     "output_type": "stream",
     "text": [
      "100%|██████████| 25/25 [00:00<00:00, 42.91it/s]\n"
     ]
    },
    {
     "name": "stdout",
     "output_type": "stream",
     "text": [
      "spent time for epoch 943 is 0.5885679721832275s\n",
      "epoch # : 943 gamma : 0.5 gen loss : 1.0126558542251587\n"
     ]
    },
    {
     "name": "stderr",
     "output_type": "stream",
     "text": [
      " 16%|█▌        | 4/25 [00:00<00:00, 39.09it/s]"
     ]
    },
    {
     "name": "stdout",
     "output_type": "stream",
     "text": [
      "Total number of generated modes is  25\n",
      "The number of high quality samples among 2500 samples is 180\n",
      "The mode dictionary is Counter({0: 34, 7: 17, 4: 14, 1: 12, 2: 12, 16: 10, 3: 9, 6: 9, 13: 8, 8: 7, 11: 6, 12: 6, 18: 6, 5: 5, 9: 4, 17: 4, 15: 4, 19: 3, 21: 2, 10: 2, 23: 2, 22: 1, 24: 1, 14: 1, 20: 1})\n"
     ]
    },
    {
     "name": "stderr",
     "output_type": "stream",
     "text": [
      "100%|██████████| 25/25 [00:00<00:00, 46.77it/s]\n"
     ]
    },
    {
     "name": "stdout",
     "output_type": "stream",
     "text": [
      "spent time for epoch 944 is 0.5406093597412109s\n",
      "epoch # : 944 gamma : 0.5 gen loss : 1.0128132104873657\n"
     ]
    },
    {
     "name": "stderr",
     "output_type": "stream",
     "text": [
      " 20%|██        | 5/25 [00:00<00:00, 48.51it/s]"
     ]
    },
    {
     "name": "stdout",
     "output_type": "stream",
     "text": [
      "Total number of generated modes is  23\n",
      "The number of high quality samples among 2500 samples is 247\n",
      "The mode dictionary is Counter({5: 36, 10: 24, 15: 21, 18: 15, 6: 13, 17: 13, 22: 13, 19: 11, 13: 11, 16: 11, 9: 10, 7: 9, 8: 8, 12: 7, 11: 7, 24: 7, 14: 6, 20: 5, 1: 5, 4: 5, 23: 5, 21: 3, 2: 2})\n"
     ]
    },
    {
     "name": "stderr",
     "output_type": "stream",
     "text": [
      "100%|██████████| 25/25 [00:00<00:00, 47.50it/s]\n"
     ]
    },
    {
     "name": "stdout",
     "output_type": "stream",
     "text": [
      "spent time for epoch 945 is 0.5322656631469727s\n",
      "epoch # : 945 gamma : 0.5 gen loss : 1.018255591392517\n"
     ]
    },
    {
     "name": "stderr",
     "output_type": "stream",
     "text": [
      " 20%|██        | 5/25 [00:00<00:00, 47.23it/s]"
     ]
    },
    {
     "name": "stdout",
     "output_type": "stream",
     "text": [
      "Total number of generated modes is  24\n",
      "The number of high quality samples among 2500 samples is 347\n",
      "The mode dictionary is Counter({22: 51, 0: 43, 17: 23, 5: 21, 24: 19, 1: 17, 7: 17, 3: 16, 8: 15, 16: 14, 10: 13, 6: 12, 4: 11, 12: 11, 2: 10, 13: 10, 18: 10, 15: 7, 11: 6, 19: 6, 21: 5, 23: 4, 9: 4, 14: 2})\n"
     ]
    },
    {
     "name": "stderr",
     "output_type": "stream",
     "text": [
      "100%|██████████| 25/25 [00:00<00:00, 48.28it/s]\n"
     ]
    },
    {
     "name": "stdout",
     "output_type": "stream",
     "text": [
      "spent time for epoch 946 is 0.5236799716949463s\n",
      "epoch # : 946 gamma : 0.5 gen loss : 1.0223379135131836\n"
     ]
    },
    {
     "name": "stderr",
     "output_type": "stream",
     "text": [
      " 20%|██        | 5/25 [00:00<00:00, 48.78it/s]"
     ]
    },
    {
     "name": "stdout",
     "output_type": "stream",
     "text": [
      "Total number of generated modes is  25\n",
      "The number of high quality samples among 2500 samples is 249\n",
      "The mode dictionary is Counter({15: 27, 21: 23, 5: 21, 8: 17, 20: 17, 6: 15, 13: 15, 19: 15, 7: 11, 24: 11, 11: 10, 16: 10, 3: 9, 22: 7, 2: 7, 14: 6, 9: 5, 18: 5, 1: 5, 17: 3, 0: 3, 12: 3, 4: 2, 23: 1, 10: 1})\n"
     ]
    },
    {
     "name": "stderr",
     "output_type": "stream",
     "text": [
      "100%|██████████| 25/25 [00:00<00:00, 47.89it/s]\n"
     ]
    },
    {
     "name": "stdout",
     "output_type": "stream",
     "text": [
      "spent time for epoch 947 is 0.5277407169342041s\n",
      "epoch # : 947 gamma : 0.5 gen loss : 1.0205154418945312\n"
     ]
    },
    {
     "name": "stderr",
     "output_type": "stream",
     "text": [
      " 20%|██        | 5/25 [00:00<00:00, 48.97it/s]"
     ]
    },
    {
     "name": "stdout",
     "output_type": "stream",
     "text": [
      "Total number of generated modes is  25\n",
      "The number of high quality samples among 2500 samples is 281\n",
      "The mode dictionary is Counter({17: 29, 7: 25, 16: 22, 15: 21, 12: 21, 13: 19, 8: 16, 2: 14, 10: 14, 5: 13, 20: 11, 18: 10, 22: 9, 1: 9, 6: 9, 11: 7, 3: 7, 4: 6, 23: 4, 0: 4, 24: 3, 21: 3, 14: 2, 9: 2, 19: 1})\n"
     ]
    },
    {
     "name": "stderr",
     "output_type": "stream",
     "text": [
      "100%|██████████| 25/25 [00:00<00:00, 48.45it/s]\n"
     ]
    },
    {
     "name": "stdout",
     "output_type": "stream",
     "text": [
      "spent time for epoch 948 is 0.5219945907592773s\n",
      "epoch # : 948 gamma : 0.5 gen loss : 1.0244697332382202\n"
     ]
    },
    {
     "name": "stderr",
     "output_type": "stream",
     "text": [
      " 20%|██        | 5/25 [00:00<00:00, 49.10it/s]"
     ]
    },
    {
     "name": "stdout",
     "output_type": "stream",
     "text": [
      "Total number of generated modes is  24\n",
      "The number of high quality samples among 2500 samples is 311\n",
      "The mode dictionary is Counter({20: 46, 21: 42, 15: 25, 12: 16, 6: 15, 7: 15, 17: 15, 18: 15, 16: 15, 13: 11, 1: 11, 3: 11, 2: 11, 4: 10, 19: 10, 5: 10, 0: 9, 8: 8, 11: 6, 14: 4, 24: 2, 9: 2, 22: 1, 10: 1})\n"
     ]
    },
    {
     "name": "stderr",
     "output_type": "stream",
     "text": [
      "100%|██████████| 25/25 [00:00<00:00, 48.05it/s]\n"
     ]
    },
    {
     "name": "stdout",
     "output_type": "stream",
     "text": [
      "spent time for epoch 949 is 0.5255498886108398s\n",
      "epoch # : 949 gamma : 0.5 gen loss : 1.0015087127685547\n"
     ]
    },
    {
     "name": "stderr",
     "output_type": "stream",
     "text": [
      " 20%|██        | 5/25 [00:00<00:00, 49.36it/s]"
     ]
    },
    {
     "name": "stdout",
     "output_type": "stream",
     "text": [
      "Total number of generated modes is  24\n",
      "The number of high quality samples among 2500 samples is 328\n",
      "The mode dictionary is Counter({23: 50, 5: 30, 22: 29, 17: 27, 16: 26, 18: 17, 13: 15, 6: 14, 15: 14, 8: 13, 11: 10, 7: 10, 0: 9, 2: 8, 20: 8, 24: 8, 21: 7, 12: 7, 9: 6, 1: 6, 3: 5, 14: 4, 19: 3, 10: 2})\n"
     ]
    },
    {
     "name": "stderr",
     "output_type": "stream",
     "text": [
      "100%|██████████| 25/25 [00:00<00:00, 49.04it/s]\n"
     ]
    },
    {
     "name": "stdout",
     "output_type": "stream",
     "text": [
      "spent time for epoch 950 is 0.5158593654632568s\n",
      "epoch # : 950 gamma : 0.5 gen loss : 1.0008540153503418\n"
     ]
    },
    {
     "name": "stderr",
     "output_type": "stream",
     "text": [
      " 20%|██        | 5/25 [00:00<00:00, 47.65it/s]"
     ]
    },
    {
     "name": "stdout",
     "output_type": "stream",
     "text": [
      "Total number of generated modes is  22\n",
      "The number of high quality samples among 2500 samples is 369\n",
      "The mode dictionary is Counter({5: 56, 23: 56, 20: 32, 21: 28, 17: 23, 16: 22, 22: 18, 7: 18, 12: 17, 6: 15, 18: 15, 11: 12, 15: 10, 8: 9, 13: 8, 9: 7, 24: 6, 14: 5, 19: 5, 1: 3, 0: 3, 2: 1})\n"
     ]
    },
    {
     "name": "stderr",
     "output_type": "stream",
     "text": [
      "100%|██████████| 25/25 [00:00<00:00, 48.12it/s]\n"
     ]
    },
    {
     "name": "stdout",
     "output_type": "stream",
     "text": [
      "spent time for epoch 951 is 0.5253562927246094s\n",
      "epoch # : 951 gamma : 0.5 gen loss : 1.0311870574951172\n"
     ]
    },
    {
     "name": "stderr",
     "output_type": "stream",
     "text": [
      " 20%|██        | 5/25 [00:00<00:00, 48.42it/s]"
     ]
    },
    {
     "name": "stdout",
     "output_type": "stream",
     "text": [
      "Total number of generated modes is  24\n",
      "The number of high quality samples among 2500 samples is 436\n",
      "The mode dictionary is Counter({5: 64, 21: 48, 20: 47, 22: 37, 17: 32, 16: 26, 7: 24, 15: 19, 6: 19, 0: 18, 4: 11, 1: 11, 18: 10, 10: 9, 12: 9, 8: 9, 9: 8, 2: 8, 23: 6, 14: 5, 3: 5, 13: 5, 11: 4, 24: 2})\n"
     ]
    },
    {
     "name": "stderr",
     "output_type": "stream",
     "text": [
      "100%|██████████| 25/25 [00:00<00:00, 48.52it/s]\n"
     ]
    },
    {
     "name": "stdout",
     "output_type": "stream",
     "text": [
      "spent time for epoch 952 is 0.5210978984832764s\n",
      "epoch # : 952 gamma : 0.5 gen loss : 1.0362468957901\n"
     ]
    },
    {
     "name": "stderr",
     "output_type": "stream",
     "text": [
      " 20%|██        | 5/25 [00:00<00:00, 49.48it/s]"
     ]
    },
    {
     "name": "stdout",
     "output_type": "stream",
     "text": [
      "Total number of generated modes is  23\n",
      "The number of high quality samples among 2500 samples is 225\n",
      "The mode dictionary is Counter({23: 25, 22: 21, 17: 21, 8: 18, 9: 14, 5: 14, 7: 14, 18: 12, 16: 12, 12: 11, 13: 11, 20: 8, 6: 8, 11: 7, 14: 6, 21: 6, 10: 4, 15: 4, 3: 3, 4: 2, 1: 2, 2: 1, 19: 1})\n"
     ]
    },
    {
     "name": "stderr",
     "output_type": "stream",
     "text": [
      "100%|██████████| 25/25 [00:00<00:00, 48.94it/s]\n"
     ]
    },
    {
     "name": "stdout",
     "output_type": "stream",
     "text": [
      "spent time for epoch 953 is 0.5165970325469971s\n",
      "epoch # : 953 gamma : 0.5 gen loss : 0.9851661324501038\n"
     ]
    },
    {
     "name": "stderr",
     "output_type": "stream",
     "text": [
      "  4%|▍         | 1/25 [00:00<00:03,  7.27it/s]"
     ]
    },
    {
     "name": "stdout",
     "output_type": "stream",
     "text": [
      "Total number of generated modes is  22\n",
      "The number of high quality samples among 2500 samples is 361\n",
      "The mode dictionary is Counter({5: 75, 21: 43, 20: 43, 0: 38, 15: 19, 8: 16, 16: 16, 7: 16, 6: 13, 2: 12, 11: 11, 18: 10, 13: 10, 3: 9, 1: 8, 10: 8, 17: 6, 9: 3, 4: 2, 23: 1, 14: 1, 12: 1})\n"
     ]
    },
    {
     "name": "stderr",
     "output_type": "stream",
     "text": [
      "100%|██████████| 25/25 [00:00<00:00, 42.55it/s]\n"
     ]
    },
    {
     "name": "stdout",
     "output_type": "stream",
     "text": [
      "spent time for epoch 954 is 0.5934169292449951s\n",
      "epoch # : 954 gamma : 0.5 gen loss : 1.0224552154541016\n"
     ]
    },
    {
     "name": "stderr",
     "output_type": "stream",
     "text": [
      " 20%|██        | 5/25 [00:00<00:00, 48.60it/s]"
     ]
    },
    {
     "name": "stdout",
     "output_type": "stream",
     "text": [
      "Total number of generated modes is  24\n",
      "The number of high quality samples among 2500 samples is 246\n",
      "The mode dictionary is Counter({5: 39, 15: 22, 12: 21, 16: 17, 10: 13, 6: 13, 13: 13, 17: 12, 9: 10, 19: 10, 20: 8, 4: 8, 8: 8, 24: 8, 14: 7, 7: 7, 2: 6, 3: 6, 11: 6, 18: 3, 21: 3, 22: 3, 0: 2, 1: 1})\n"
     ]
    },
    {
     "name": "stderr",
     "output_type": "stream",
     "text": [
      "100%|██████████| 25/25 [00:00<00:00, 48.54it/s]\n"
     ]
    },
    {
     "name": "stdout",
     "output_type": "stream",
     "text": [
      "spent time for epoch 955 is 0.5206410884857178s\n",
      "epoch # : 955 gamma : 0.5 gen loss : 0.9986889362335205\n"
     ]
    },
    {
     "name": "stderr",
     "output_type": "stream",
     "text": [
      " 20%|██        | 5/25 [00:00<00:00, 48.69it/s]"
     ]
    },
    {
     "name": "stdout",
     "output_type": "stream",
     "text": [
      "Total number of generated modes is  23\n",
      "The number of high quality samples among 2500 samples is 300\n",
      "The mode dictionary is Counter({22: 34, 23: 33, 20: 27, 5: 23, 21: 23, 16: 19, 12: 15, 8: 14, 11: 13, 6: 13, 17: 12, 15: 12, 13: 12, 7: 11, 14: 9, 18: 8, 2: 6, 3: 6, 9: 3, 1: 3, 19: 2, 0: 1, 24: 1})\n"
     ]
    },
    {
     "name": "stderr",
     "output_type": "stream",
     "text": [
      "100%|██████████| 25/25 [00:00<00:00, 47.26it/s]\n"
     ]
    },
    {
     "name": "stdout",
     "output_type": "stream",
     "text": [
      "spent time for epoch 956 is 0.5347516536712646s\n",
      "epoch # : 956 gamma : 0.5 gen loss : 1.0167869329452515\n"
     ]
    },
    {
     "name": "stderr",
     "output_type": "stream",
     "text": [
      " 16%|█▌        | 4/25 [00:00<00:00, 39.96it/s]"
     ]
    },
    {
     "name": "stdout",
     "output_type": "stream",
     "text": [
      "Total number of generated modes is  24\n",
      "The number of high quality samples among 2500 samples is 243\n",
      "The mode dictionary is Counter({17: 26, 22: 25, 13: 19, 19: 16, 11: 14, 14: 14, 15: 13, 5: 12, 16: 11, 6: 11, 9: 11, 7: 11, 20: 9, 8: 8, 24: 7, 23: 6, 18: 6, 4: 6, 12: 6, 10: 4, 21: 3, 0: 2, 1: 2, 2: 1})\n"
     ]
    },
    {
     "name": "stderr",
     "output_type": "stream",
     "text": [
      "100%|██████████| 25/25 [00:00<00:00, 48.27it/s]\n"
     ]
    },
    {
     "name": "stdout",
     "output_type": "stream",
     "text": [
      "spent time for epoch 957 is 0.5237135887145996s\n",
      "epoch # : 957 gamma : 0.5 gen loss : 1.0380158424377441\n"
     ]
    },
    {
     "name": "stderr",
     "output_type": "stream",
     "text": [
      " 12%|█▏        | 3/25 [00:00<00:00, 29.15it/s]"
     ]
    },
    {
     "name": "stdout",
     "output_type": "stream",
     "text": [
      "Total number of generated modes is  24\n",
      "The number of high quality samples among 2500 samples is 362\n",
      "The mode dictionary is Counter({5: 51, 21: 40, 17: 39, 23: 28, 16: 28, 19: 25, 18: 25, 7: 21, 14: 13, 12: 13, 13: 13, 9: 12, 8: 9, 6: 9, 20: 8, 4: 6, 22: 6, 11: 5, 3: 4, 2: 2, 24: 2, 1: 1, 0: 1, 15: 1})\n"
     ]
    },
    {
     "name": "stderr",
     "output_type": "stream",
     "text": [
      "100%|██████████| 25/25 [00:00<00:00, 45.03it/s]\n"
     ]
    },
    {
     "name": "stdout",
     "output_type": "stream",
     "text": [
      "spent time for epoch 958 is 0.5612015724182129s\n",
      "epoch # : 958 gamma : 0.5 gen loss : 1.0068187713623047\n"
     ]
    },
    {
     "name": "stderr",
     "output_type": "stream",
     "text": [
      " 20%|██        | 5/25 [00:00<00:00, 48.73it/s]"
     ]
    },
    {
     "name": "stdout",
     "output_type": "stream",
     "text": [
      "Total number of generated modes is  25\n",
      "The number of high quality samples among 2500 samples is 344\n",
      "The mode dictionary is Counter({5: 45, 23: 40, 15: 24, 16: 22, 6: 20, 7: 19, 10: 18, 17: 18, 11: 17, 13: 17, 12: 16, 8: 16, 18: 13, 9: 9, 20: 9, 24: 9, 0: 6, 21: 6, 14: 5, 2: 4, 3: 3, 19: 3, 1: 3, 4: 1, 22: 1})\n"
     ]
    },
    {
     "name": "stderr",
     "output_type": "stream",
     "text": [
      "100%|██████████| 25/25 [00:00<00:00, 48.28it/s]\n"
     ]
    },
    {
     "name": "stdout",
     "output_type": "stream",
     "text": [
      "spent time for epoch 959 is 0.5237264633178711s\n",
      "epoch # : 959 gamma : 0.5 gen loss : 1.014631748199463\n"
     ]
    },
    {
     "name": "stderr",
     "output_type": "stream",
     "text": [
      " 20%|██        | 5/25 [00:00<00:00, 49.19it/s]"
     ]
    },
    {
     "name": "stdout",
     "output_type": "stream",
     "text": [
      "Total number of generated modes is  24\n",
      "The number of high quality samples among 2500 samples is 335\n",
      "The mode dictionary is Counter({5: 36, 17: 30, 16: 28, 4: 22, 8: 19, 7: 19, 1: 17, 3: 15, 18: 15, 0: 14, 11: 14, 2: 14, 12: 14, 13: 13, 19: 12, 6: 10, 14: 9, 15: 9, 20: 7, 9: 6, 24: 5, 22: 3, 21: 2, 23: 2})\n"
     ]
    },
    {
     "name": "stderr",
     "output_type": "stream",
     "text": [
      "100%|██████████| 25/25 [00:00<00:00, 48.69it/s]\n"
     ]
    },
    {
     "name": "stdout",
     "output_type": "stream",
     "text": [
      "spent time for epoch 960 is 0.5194694995880127s\n",
      "epoch # : 960 gamma : 0.5 gen loss : 0.9896494746208191\n"
     ]
    },
    {
     "name": "stderr",
     "output_type": "stream",
     "text": [
      " 20%|██        | 5/25 [00:00<00:00, 49.58it/s]"
     ]
    },
    {
     "name": "stdout",
     "output_type": "stream",
     "text": [
      "Total number of generated modes is  25\n",
      "The number of high quality samples among 2500 samples is 401\n",
      "The mode dictionary is Counter({5: 58, 22: 50, 0: 42, 20: 36, 17: 29, 16: 21, 8: 18, 15: 15, 3: 15, 13: 14, 23: 13, 12: 12, 1: 11, 10: 10, 11: 9, 21: 9, 6: 8, 4: 8, 7: 7, 18: 5, 14: 4, 2: 3, 9: 2, 19: 1, 24: 1})\n"
     ]
    },
    {
     "name": "stderr",
     "output_type": "stream",
     "text": [
      "100%|██████████| 25/25 [00:00<00:00, 49.41it/s]\n"
     ]
    },
    {
     "name": "stdout",
     "output_type": "stream",
     "text": [
      "spent time for epoch 961 is 0.5119895935058594s\n",
      "epoch # : 961 gamma : 0.5 gen loss : 1.0101187229156494\n"
     ]
    },
    {
     "name": "stderr",
     "output_type": "stream",
     "text": [
      " 20%|██        | 5/25 [00:00<00:00, 49.90it/s]"
     ]
    },
    {
     "name": "stdout",
     "output_type": "stream",
     "text": [
      "Total number of generated modes is  23\n",
      "The number of high quality samples among 2500 samples is 258\n",
      "The mode dictionary is Counter({17: 25, 22: 22, 16: 21, 7: 20, 2: 20, 12: 15, 9: 13, 13: 13, 8: 12, 3: 10, 19: 10, 14: 10, 11: 10, 18: 9, 6: 9, 4: 9, 21: 8, 0: 7, 1: 6, 10: 3, 23: 3, 24: 2, 15: 1})\n"
     ]
    },
    {
     "name": "stderr",
     "output_type": "stream",
     "text": [
      "100%|██████████| 25/25 [00:00<00:00, 49.27it/s]\n"
     ]
    },
    {
     "name": "stdout",
     "output_type": "stream",
     "text": [
      "spent time for epoch 962 is 0.5133094787597656s\n",
      "epoch # : 962 gamma : 0.5 gen loss : 1.0107851028442383\n"
     ]
    },
    {
     "name": "stderr",
     "output_type": "stream",
     "text": [
      " 20%|██        | 5/25 [00:00<00:00, 49.51it/s]"
     ]
    },
    {
     "name": "stdout",
     "output_type": "stream",
     "text": [
      "Total number of generated modes is  25\n",
      "The number of high quality samples among 2500 samples is 375\n",
      "The mode dictionary is Counter({5: 59, 20: 50, 21: 50, 15: 26, 3: 19, 10: 18, 8: 14, 16: 13, 4: 12, 6: 11, 0: 11, 18: 11, 11: 11, 2: 8, 17: 8, 13: 8, 14: 7, 19: 7, 1: 6, 24: 6, 7: 5, 12: 5, 9: 4, 22: 4, 23: 2})\n"
     ]
    },
    {
     "name": "stderr",
     "output_type": "stream",
     "text": [
      "100%|██████████| 25/25 [00:00<00:00, 47.12it/s]\n"
     ]
    },
    {
     "name": "stdout",
     "output_type": "stream",
     "text": [
      "spent time for epoch 963 is 0.5361595153808594s\n",
      "epoch # : 963 gamma : 0.5 gen loss : 1.0026260614395142\n"
     ]
    },
    {
     "name": "stderr",
     "output_type": "stream",
     "text": [
      " 20%|██        | 5/25 [00:00<00:00, 49.55it/s]"
     ]
    },
    {
     "name": "stdout",
     "output_type": "stream",
     "text": [
      "Total number of generated modes is  23\n",
      "The number of high quality samples among 2500 samples is 252\n",
      "The mode dictionary is Counter({4: 37, 5: 26, 7: 23, 3: 21, 8: 18, 17: 16, 19: 14, 18: 14, 16: 11, 2: 10, 9: 8, 13: 8, 20: 6, 1: 6, 11: 6, 21: 5, 12: 5, 15: 4, 14: 4, 6: 4, 22: 3, 24: 2, 23: 1})\n"
     ]
    },
    {
     "name": "stderr",
     "output_type": "stream",
     "text": [
      "100%|██████████| 25/25 [00:00<00:00, 48.78it/s]\n"
     ]
    },
    {
     "name": "stdout",
     "output_type": "stream",
     "text": [
      "spent time for epoch 964 is 0.5185089111328125s\n",
      "epoch # : 964 gamma : 0.5 gen loss : 0.9999302625656128\n"
     ]
    },
    {
     "name": "stderr",
     "output_type": "stream",
     "text": [
      "  4%|▍         | 1/25 [00:00<00:03,  6.90it/s]"
     ]
    },
    {
     "name": "stdout",
     "output_type": "stream",
     "text": [
      "Total number of generated modes is  25\n",
      "The number of high quality samples among 2500 samples is 297\n",
      "The mode dictionary is Counter({0: 52, 23: 42, 10: 39, 7: 26, 15: 16, 18: 15, 13: 12, 22: 10, 12: 10, 6: 10, 5: 8, 20: 7, 11: 7, 8: 6, 21: 6, 3: 6, 2: 5, 16: 5, 17: 4, 24: 4, 19: 2, 1: 2, 4: 1, 14: 1, 9: 1})\n"
     ]
    },
    {
     "name": "stderr",
     "output_type": "stream",
     "text": [
      "100%|██████████| 25/25 [00:00<00:00, 42.87it/s]\n"
     ]
    },
    {
     "name": "stdout",
     "output_type": "stream",
     "text": [
      "spent time for epoch 965 is 0.5888097286224365s\n",
      "epoch # : 965 gamma : 0.5 gen loss : 1.0469051599502563\n"
     ]
    },
    {
     "name": "stderr",
     "output_type": "stream",
     "text": [
      " 20%|██        | 5/25 [00:00<00:00, 48.60it/s]"
     ]
    },
    {
     "name": "stdout",
     "output_type": "stream",
     "text": [
      "Total number of generated modes is  24\n",
      "The number of high quality samples among 2500 samples is 334\n",
      "The mode dictionary is Counter({20: 59, 10: 27, 15: 26, 21: 25, 17: 24, 3: 18, 18: 15, 7: 15, 6: 14, 2: 11, 11: 10, 13: 10, 5: 9, 14: 9, 22: 9, 16: 9, 1: 9, 19: 8, 8: 8, 9: 6, 4: 5, 12: 4, 0: 2, 23: 2})\n"
     ]
    },
    {
     "name": "stderr",
     "output_type": "stream",
     "text": [
      "100%|██████████| 25/25 [00:00<00:00, 47.78it/s]\n"
     ]
    },
    {
     "name": "stdout",
     "output_type": "stream",
     "text": [
      "spent time for epoch 966 is 0.5292088985443115s\n",
      "epoch # : 966 gamma : 0.5 gen loss : 1.0259325504302979\n"
     ]
    },
    {
     "name": "stderr",
     "output_type": "stream",
     "text": [
      " 20%|██        | 5/25 [00:00<00:00, 48.00it/s]"
     ]
    },
    {
     "name": "stdout",
     "output_type": "stream",
     "text": [
      "Total number of generated modes is  24\n",
      "The number of high quality samples among 2500 samples is 349\n",
      "The mode dictionary is Counter({22: 52, 23: 49, 17: 21, 7: 20, 3: 19, 16: 18, 18: 17, 11: 15, 13: 14, 4: 14, 5: 12, 20: 12, 6: 12, 2: 11, 8: 10, 1: 9, 0: 9, 21: 7, 12: 6, 15: 6, 24: 5, 14: 5, 19: 3, 9: 3})\n"
     ]
    },
    {
     "name": "stderr",
     "output_type": "stream",
     "text": [
      "100%|██████████| 25/25 [00:00<00:00, 39.45it/s]\n"
     ]
    },
    {
     "name": "stdout",
     "output_type": "stream",
     "text": [
      "spent time for epoch 967 is 0.6396687030792236s\n",
      "epoch # : 967 gamma : 0.5 gen loss : 0.985593855381012\n"
     ]
    },
    {
     "name": "stderr",
     "output_type": "stream",
     "text": [
      " 16%|█▌        | 4/25 [00:00<00:00, 39.87it/s]"
     ]
    },
    {
     "name": "stdout",
     "output_type": "stream",
     "text": [
      "Total number of generated modes is  25\n",
      "The number of high quality samples among 2500 samples is 356\n",
      "The mode dictionary is Counter({10: 47, 20: 32, 7: 28, 22: 26, 16: 25, 17: 25, 23: 18, 15: 17, 2: 16, 5: 14, 11: 12, 3: 12, 6: 12, 12: 10, 13: 10, 21: 9, 1: 8, 8: 7, 9: 7, 0: 6, 18: 5, 24: 4, 4: 4, 14: 1, 19: 1})\n"
     ]
    },
    {
     "name": "stderr",
     "output_type": "stream",
     "text": [
      "100%|██████████| 25/25 [00:00<00:00, 47.94it/s]\n"
     ]
    },
    {
     "name": "stdout",
     "output_type": "stream",
     "text": [
      "spent time for epoch 968 is 0.5270278453826904s\n",
      "epoch # : 968 gamma : 0.5 gen loss : 1.0315510034561157\n"
     ]
    },
    {
     "name": "stderr",
     "output_type": "stream",
     "text": [
      " 20%|██        | 5/25 [00:00<00:00, 48.53it/s]"
     ]
    },
    {
     "name": "stdout",
     "output_type": "stream",
     "text": [
      "Total number of generated modes is  22\n",
      "The number of high quality samples among 2500 samples is 457\n",
      "The mode dictionary is Counter({21: 61, 22: 54, 5: 53, 20: 51, 23: 37, 17: 34, 16: 28, 7: 27, 18: 20, 15: 19, 8: 13, 10: 11, 6: 11, 11: 8, 13: 8, 12: 6, 9: 4, 0: 3, 24: 3, 3: 2, 14: 2, 1: 2})\n"
     ]
    },
    {
     "name": "stderr",
     "output_type": "stream",
     "text": [
      "100%|██████████| 25/25 [00:00<00:00, 47.74it/s]\n"
     ]
    },
    {
     "name": "stdout",
     "output_type": "stream",
     "text": [
      "spent time for epoch 969 is 0.5292091369628906s\n",
      "epoch # : 969 gamma : 0.5 gen loss : 0.9521806240081787\n"
     ]
    },
    {
     "name": "stderr",
     "output_type": "stream",
     "text": [
      " 20%|██        | 5/25 [00:00<00:00, 48.39it/s]"
     ]
    },
    {
     "name": "stdout",
     "output_type": "stream",
     "text": [
      "Total number of generated modes is  24\n",
      "The number of high quality samples among 2500 samples is 286\n",
      "The mode dictionary is Counter({17: 28, 8: 23, 13: 22, 3: 21, 7: 21, 18: 21, 16: 16, 0: 15, 19: 12, 5: 12, 14: 12, 11: 11, 12: 10, 2: 10, 4: 9, 1: 8, 24: 8, 6: 8, 9: 7, 22: 5, 10: 3, 23: 2, 21: 1, 15: 1})\n"
     ]
    },
    {
     "name": "stderr",
     "output_type": "stream",
     "text": [
      "100%|██████████| 25/25 [00:00<00:00, 48.18it/s]\n"
     ]
    },
    {
     "name": "stdout",
     "output_type": "stream",
     "text": [
      "spent time for epoch 970 is 0.5248856544494629s\n",
      "epoch # : 970 gamma : 0.5 gen loss : 1.0114027261734009\n"
     ]
    },
    {
     "name": "stderr",
     "output_type": "stream",
     "text": [
      " 20%|██        | 5/25 [00:00<00:00, 49.03it/s]"
     ]
    },
    {
     "name": "stdout",
     "output_type": "stream",
     "text": [
      "Total number of generated modes is  24\n",
      "The number of high quality samples among 2500 samples is 284\n",
      "The mode dictionary is Counter({17: 34, 16: 32, 23: 26, 10: 24, 20: 19, 18: 17, 12: 16, 8: 15, 7: 14, 22: 13, 15: 9, 5: 8, 14: 8, 9: 8, 11: 7, 21: 6, 19: 6, 13: 6, 6: 6, 3: 2, 4: 2, 0: 2, 24: 2, 1: 2})\n"
     ]
    },
    {
     "name": "stderr",
     "output_type": "stream",
     "text": [
      "100%|██████████| 25/25 [00:00<00:00, 49.01it/s]\n"
     ]
    },
    {
     "name": "stdout",
     "output_type": "stream",
     "text": [
      "spent time for epoch 971 is 0.515925407409668s\n",
      "epoch # : 971 gamma : 0.5 gen loss : 1.0039957761764526\n"
     ]
    },
    {
     "name": "stderr",
     "output_type": "stream",
     "text": [
      " 20%|██        | 5/25 [00:00<00:00, 47.34it/s]"
     ]
    },
    {
     "name": "stdout",
     "output_type": "stream",
     "text": [
      "Total number of generated modes is  25\n",
      "The number of high quality samples among 2500 samples is 313\n",
      "The mode dictionary is Counter({23: 38, 5: 36, 16: 26, 0: 21, 3: 20, 22: 20, 6: 17, 17: 15, 11: 14, 7: 13, 1: 12, 12: 12, 13: 10, 15: 10, 10: 9, 8: 8, 2: 7, 19: 6, 18: 5, 4: 5, 21: 3, 14: 2, 20: 2, 9: 1, 24: 1})\n"
     ]
    },
    {
     "name": "stderr",
     "output_type": "stream",
     "text": [
      "100%|██████████| 25/25 [00:00<00:00, 48.53it/s]\n"
     ]
    },
    {
     "name": "stdout",
     "output_type": "stream",
     "text": [
      "spent time for epoch 972 is 0.5209987163543701s\n",
      "epoch # : 972 gamma : 0.5 gen loss : 1.041754126548767\n"
     ]
    },
    {
     "name": "stderr",
     "output_type": "stream",
     "text": [
      " 20%|██        | 5/25 [00:00<00:00, 47.92it/s]"
     ]
    },
    {
     "name": "stdout",
     "output_type": "stream",
     "text": [
      "Total number of generated modes is  25\n",
      "The number of high quality samples among 2500 samples is 353\n",
      "The mode dictionary is Counter({20: 44, 17: 32, 5: 22, 22: 20, 21: 19, 7: 18, 12: 17, 16: 17, 4: 17, 15: 15, 14: 14, 9: 13, 6: 13, 1: 13, 18: 11, 8: 11, 13: 11, 11: 10, 19: 9, 24: 9, 3: 5, 2: 5, 0: 4, 23: 2, 10: 2})\n"
     ]
    },
    {
     "name": "stderr",
     "output_type": "stream",
     "text": [
      "100%|██████████| 25/25 [00:00<00:00, 48.46it/s]\n"
     ]
    },
    {
     "name": "stdout",
     "output_type": "stream",
     "text": [
      "spent time for epoch 973 is 0.521618127822876s\n",
      "epoch # : 973 gamma : 0.5 gen loss : 0.9687797427177429\n"
     ]
    },
    {
     "name": "stderr",
     "output_type": "stream",
     "text": [
      " 20%|██        | 5/25 [00:00<00:00, 48.82it/s]"
     ]
    },
    {
     "name": "stdout",
     "output_type": "stream",
     "text": [
      "Total number of generated modes is  24\n",
      "The number of high quality samples among 2500 samples is 263\n",
      "The mode dictionary is Counter({23: 44, 7: 22, 22: 19, 5: 15, 16: 14, 14: 12, 18: 12, 8: 12, 17: 11, 24: 11, 0: 10, 3: 9, 20: 9, 21: 8, 9: 7, 6: 7, 19: 7, 13: 6, 12: 6, 11: 6, 1: 6, 15: 5, 2: 4, 10: 1})\n"
     ]
    },
    {
     "name": "stderr",
     "output_type": "stream",
     "text": [
      "100%|██████████| 25/25 [00:00<00:00, 49.02it/s]\n"
     ]
    },
    {
     "name": "stdout",
     "output_type": "stream",
     "text": [
      "spent time for epoch 974 is 0.5158834457397461s\n",
      "epoch # : 974 gamma : 0.5 gen loss : 1.0008633136749268\n"
     ]
    },
    {
     "name": "stderr",
     "output_type": "stream",
     "text": [
      " 20%|██        | 5/25 [00:00<00:00, 48.37it/s]"
     ]
    },
    {
     "name": "stdout",
     "output_type": "stream",
     "text": [
      "Total number of generated modes is  25\n",
      "The number of high quality samples among 2500 samples is 299\n",
      "The mode dictionary is Counter({20: 41, 21: 34, 16: 22, 7: 18, 2: 16, 5: 15, 6: 13, 1: 13, 17: 12, 0: 12, 8: 11, 15: 11, 18: 10, 3: 10, 19: 9, 10: 7, 11: 7, 4: 6, 9: 6, 14: 6, 22: 5, 12: 4, 23: 4, 24: 4, 13: 3})\n"
     ]
    },
    {
     "name": "stderr",
     "output_type": "stream",
     "text": [
      "100%|██████████| 25/25 [00:00<00:00, 48.39it/s]\n"
     ]
    },
    {
     "name": "stdout",
     "output_type": "stream",
     "text": [
      "spent time for epoch 975 is 0.522676944732666s\n",
      "epoch # : 975 gamma : 0.5 gen loss : 1.017906665802002\n"
     ]
    },
    {
     "name": "stderr",
     "output_type": "stream",
     "text": [
      "  4%|▍         | 1/25 [00:00<00:03,  7.14it/s]"
     ]
    },
    {
     "name": "stdout",
     "output_type": "stream",
     "text": [
      "Total number of generated modes is  23\n",
      "The number of high quality samples among 2500 samples is 322\n",
      "The mode dictionary is Counter({23: 50, 10: 34, 7: 24, 16: 23, 11: 20, 22: 18, 15: 17, 18: 16, 20: 15, 13: 14, 21: 13, 6: 11, 0: 9, 1: 8, 9: 8, 8: 8, 17: 7, 24: 7, 2: 5, 12: 5, 19: 4, 14: 4, 4: 2})\n"
     ]
    },
    {
     "name": "stderr",
     "output_type": "stream",
     "text": [
      "100%|██████████| 25/25 [00:00<00:00, 42.76it/s]\n"
     ]
    },
    {
     "name": "stdout",
     "output_type": "stream",
     "text": [
      "spent time for epoch 976 is 0.5905156135559082s\n",
      "epoch # : 976 gamma : 0.5 gen loss : 1.032909631729126\n"
     ]
    },
    {
     "name": "stderr",
     "output_type": "stream",
     "text": [
      " 20%|██        | 5/25 [00:00<00:00, 47.54it/s]"
     ]
    },
    {
     "name": "stdout",
     "output_type": "stream",
     "text": [
      "Total number of generated modes is  25\n",
      "The number of high quality samples among 2500 samples is 438\n",
      "The mode dictionary is Counter({5: 58, 23: 51, 17: 44, 10: 42, 22: 36, 16: 26, 12: 25, 15: 20, 18: 16, 20: 16, 6: 15, 13: 14, 11: 12, 0: 9, 3: 9, 2: 8, 7: 7, 1: 7, 8: 6, 21: 6, 4: 5, 19: 3, 9: 1, 24: 1, 14: 1})\n"
     ]
    },
    {
     "name": "stderr",
     "output_type": "stream",
     "text": [
      "100%|██████████| 25/25 [00:00<00:00, 47.42it/s]\n"
     ]
    },
    {
     "name": "stdout",
     "output_type": "stream",
     "text": [
      "spent time for epoch 977 is 0.5329844951629639s\n",
      "epoch # : 977 gamma : 0.5 gen loss : 0.9908482432365417\n"
     ]
    },
    {
     "name": "stderr",
     "output_type": "stream",
     "text": [
      " 20%|██        | 5/25 [00:00<00:00, 48.34it/s]"
     ]
    },
    {
     "name": "stdout",
     "output_type": "stream",
     "text": [
      "Total number of generated modes is  25\n",
      "The number of high quality samples among 2500 samples is 267\n",
      "The mode dictionary is Counter({20: 30, 7: 25, 12: 23, 23: 21, 17: 19, 13: 18, 16: 14, 11: 13, 3: 13, 18: 13, 2: 10, 0: 8, 1: 8, 8: 7, 15: 7, 14: 6, 19: 6, 22: 5, 4: 5, 9: 5, 6: 4, 21: 4, 24: 1, 5: 1, 10: 1})\n"
     ]
    },
    {
     "name": "stderr",
     "output_type": "stream",
     "text": [
      "100%|██████████| 25/25 [00:00<00:00, 48.45it/s]\n"
     ]
    },
    {
     "name": "stdout",
     "output_type": "stream",
     "text": [
      "spent time for epoch 978 is 0.5218567848205566s\n",
      "epoch # : 978 gamma : 0.5 gen loss : 0.9854527711868286\n"
     ]
    },
    {
     "name": "stderr",
     "output_type": "stream",
     "text": [
      " 20%|██        | 5/25 [00:00<00:00, 47.87it/s]"
     ]
    },
    {
     "name": "stdout",
     "output_type": "stream",
     "text": [
      "Total number of generated modes is  25\n",
      "The number of high quality samples among 2500 samples is 339\n",
      "The mode dictionary is Counter({23: 34, 17: 32, 5: 23, 18: 22, 13: 20, 22: 20, 12: 19, 9: 18, 16: 15, 19: 15, 6: 13, 7: 12, 11: 12, 8: 11, 0: 10, 10: 10, 14: 9, 15: 8, 1: 8, 24: 6, 3: 6, 4: 5, 20: 5, 21: 3, 2: 3})\n"
     ]
    },
    {
     "name": "stderr",
     "output_type": "stream",
     "text": [
      "100%|██████████| 25/25 [00:00<00:00, 47.64it/s]\n"
     ]
    },
    {
     "name": "stdout",
     "output_type": "stream",
     "text": [
      "spent time for epoch 979 is 0.5303266048431396s\n",
      "epoch # : 979 gamma : 0.5 gen loss : 1.0484932661056519\n"
     ]
    },
    {
     "name": "stderr",
     "output_type": "stream",
     "text": [
      " 20%|██        | 5/25 [00:00<00:00, 47.23it/s]"
     ]
    },
    {
     "name": "stdout",
     "output_type": "stream",
     "text": [
      "Total number of generated modes is  25\n",
      "The number of high quality samples among 2500 samples is 298\n",
      "The mode dictionary is Counter({5: 78, 17: 22, 20: 21, 7: 20, 12: 17, 15: 16, 8: 11, 18: 11, 22: 10, 13: 9, 14: 8, 9: 8, 0: 8, 11: 8, 16: 8, 6: 7, 23: 6, 10: 6, 4: 5, 19: 5, 3: 4, 2: 4, 24: 2, 21: 2, 1: 2})\n"
     ]
    },
    {
     "name": "stderr",
     "output_type": "stream",
     "text": [
      "100%|██████████| 25/25 [00:00<00:00, 47.48it/s]\n"
     ]
    },
    {
     "name": "stdout",
     "output_type": "stream",
     "text": [
      "spent time for epoch 980 is 0.5325696468353271s\n",
      "epoch # : 980 gamma : 0.5 gen loss : 1.0251052379608154\n"
     ]
    },
    {
     "name": "stderr",
     "output_type": "stream",
     "text": [
      " 20%|██        | 5/25 [00:00<00:00, 48.71it/s]"
     ]
    },
    {
     "name": "stdout",
     "output_type": "stream",
     "text": [
      "Total number of generated modes is  23\n",
      "The number of high quality samples among 2500 samples is 289\n",
      "The mode dictionary is Counter({24: 36, 17: 29, 23: 25, 6: 20, 16: 17, 12: 17, 22: 17, 13: 16, 7: 15, 19: 14, 3: 13, 18: 12, 8: 11, 1: 9, 11: 9, 2: 7, 5: 6, 14: 4, 0: 3, 9: 3, 21: 3, 4: 2, 15: 1})\n"
     ]
    },
    {
     "name": "stderr",
     "output_type": "stream",
     "text": [
      "100%|██████████| 25/25 [00:00<00:00, 46.87it/s]\n"
     ]
    },
    {
     "name": "stdout",
     "output_type": "stream",
     "text": [
      "spent time for epoch 981 is 0.5391716957092285s\n",
      "epoch # : 981 gamma : 0.5 gen loss : 0.9970496892929077\n"
     ]
    },
    {
     "name": "stderr",
     "output_type": "stream",
     "text": [
      " 20%|██        | 5/25 [00:00<00:00, 48.55it/s]"
     ]
    },
    {
     "name": "stdout",
     "output_type": "stream",
     "text": [
      "Total number of generated modes is  24\n",
      "The number of high quality samples among 2500 samples is 339\n",
      "The mode dictionary is Counter({20: 48, 21: 45, 5: 44, 16: 23, 10: 18, 15: 16, 8: 15, 13: 15, 6: 14, 12: 14, 11: 13, 22: 10, 17: 9, 3: 8, 18: 7, 19: 7, 2: 7, 9: 7, 0: 6, 7: 5, 14: 4, 24: 2, 23: 1, 1: 1})\n"
     ]
    },
    {
     "name": "stderr",
     "output_type": "stream",
     "text": [
      "100%|██████████| 25/25 [00:00<00:00, 47.97it/s]\n"
     ]
    },
    {
     "name": "stdout",
     "output_type": "stream",
     "text": [
      "spent time for epoch 982 is 0.5269589424133301s\n",
      "epoch # : 982 gamma : 0.5 gen loss : 1.053890347480774\n"
     ]
    },
    {
     "name": "stderr",
     "output_type": "stream",
     "text": [
      " 20%|██        | 5/25 [00:00<00:00, 47.96it/s]"
     ]
    },
    {
     "name": "stdout",
     "output_type": "stream",
     "text": [
      "Total number of generated modes is  24\n",
      "The number of high quality samples among 2500 samples is 273\n",
      "The mode dictionary is Counter({5: 32, 16: 26, 17: 26, 18: 22, 0: 20, 12: 14, 23: 14, 7: 11, 13: 11, 6: 11, 8: 11, 14: 10, 20: 9, 10: 8, 1: 8, 15: 7, 9: 7, 11: 7, 21: 6, 4: 5, 22: 3, 19: 3, 2: 1, 3: 1})\n"
     ]
    },
    {
     "name": "stderr",
     "output_type": "stream",
     "text": [
      "100%|██████████| 25/25 [00:00<00:00, 48.69it/s]\n"
     ]
    },
    {
     "name": "stdout",
     "output_type": "stream",
     "text": [
      "spent time for epoch 983 is 0.519251823425293s\n",
      "epoch # : 983 gamma : 0.5 gen loss : 0.9657589793205261\n"
     ]
    },
    {
     "name": "stderr",
     "output_type": "stream",
     "text": [
      " 20%|██        | 5/25 [00:00<00:00, 48.49it/s]"
     ]
    },
    {
     "name": "stdout",
     "output_type": "stream",
     "text": [
      "Total number of generated modes is  22\n",
      "The number of high quality samples among 2500 samples is 329\n",
      "The mode dictionary is Counter({5: 46, 0: 46, 23: 31, 7: 28, 15: 25, 1: 19, 2: 15, 18: 14, 6: 14, 17: 12, 13: 12, 10: 11, 3: 9, 16: 9, 4: 9, 11: 6, 20: 6, 22: 5, 8: 5, 12: 4, 14: 2, 19: 1})\n"
     ]
    },
    {
     "name": "stderr",
     "output_type": "stream",
     "text": [
      "100%|██████████| 25/25 [00:00<00:00, 48.66it/s]\n"
     ]
    },
    {
     "name": "stdout",
     "output_type": "stream",
     "text": [
      "spent time for epoch 984 is 0.5197901725769043s\n",
      "epoch # : 984 gamma : 0.5 gen loss : 1.053533673286438\n"
     ]
    },
    {
     "name": "stderr",
     "output_type": "stream",
     "text": [
      " 20%|██        | 5/25 [00:00<00:00, 49.39it/s]"
     ]
    },
    {
     "name": "stdout",
     "output_type": "stream",
     "text": [
      "Total number of generated modes is  25\n",
      "The number of high quality samples among 2500 samples is 411\n",
      "The mode dictionary is Counter({5: 77, 0: 65, 21: 55, 20: 37, 7: 20, 6: 14, 17: 14, 15: 14, 18: 13, 3: 11, 11: 11, 16: 9, 8: 8, 2: 8, 22: 8, 24: 8, 12: 8, 13: 6, 1: 6, 19: 6, 10: 5, 23: 3, 9: 3, 4: 1, 14: 1})\n"
     ]
    },
    {
     "name": "stderr",
     "output_type": "stream",
     "text": [
      "100%|██████████| 25/25 [00:00<00:00, 48.98it/s]\n"
     ]
    },
    {
     "name": "stdout",
     "output_type": "stream",
     "text": [
      "spent time for epoch 985 is 0.5162599086761475s\n",
      "epoch # : 985 gamma : 0.5 gen loss : 0.9995450973510742\n"
     ]
    },
    {
     "name": "stderr",
     "output_type": "stream",
     "text": [
      " 16%|█▌        | 4/25 [00:00<00:00, 39.94it/s]"
     ]
    },
    {
     "name": "stdout",
     "output_type": "stream",
     "text": [
      "Total number of generated modes is  25\n",
      "The number of high quality samples among 2500 samples is 335\n",
      "The mode dictionary is Counter({21: 53, 22: 30, 20: 30, 5: 30, 24: 23, 16: 23, 7: 17, 17: 17, 6: 13, 18: 13, 15: 13, 19: 12, 12: 11, 9: 8, 13: 7, 4: 7, 23: 5, 11: 4, 8: 4, 14: 4, 1: 3, 10: 3, 2: 2, 3: 2, 0: 1})\n"
     ]
    },
    {
     "name": "stderr",
     "output_type": "stream",
     "text": [
      "100%|██████████| 25/25 [00:00<00:00, 46.03it/s]\n"
     ]
    },
    {
     "name": "stdout",
     "output_type": "stream",
     "text": [
      "spent time for epoch 986 is 0.548832893371582s\n",
      "epoch # : 986 gamma : 0.5 gen loss : 1.0147513151168823\n"
     ]
    },
    {
     "name": "stderr",
     "output_type": "stream",
     "text": [
      "  4%|▍         | 1/25 [00:00<00:03,  6.40it/s]"
     ]
    },
    {
     "name": "stdout",
     "output_type": "stream",
     "text": [
      "Total number of generated modes is  23\n",
      "The number of high quality samples among 2500 samples is 157\n",
      "The mode dictionary is Counter({16: 22, 13: 16, 11: 15, 7: 14, 5: 14, 17: 11, 8: 11, 12: 9, 18: 8, 6: 6, 21: 5, 10: 5, 1: 3, 14: 3, 3: 3, 15: 3, 19: 2, 0: 2, 4: 1, 22: 1, 9: 1, 24: 1, 2: 1})\n"
     ]
    },
    {
     "name": "stderr",
     "output_type": "stream",
     "text": [
      "100%|██████████| 25/25 [00:00<00:00, 42.16it/s]\n"
     ]
    },
    {
     "name": "stdout",
     "output_type": "stream",
     "text": [
      "spent time for epoch 987 is 0.5988352298736572s\n",
      "epoch # : 987 gamma : 0.5 gen loss : 1.030820608139038\n"
     ]
    },
    {
     "name": "stderr",
     "output_type": "stream",
     "text": [
      " 20%|██        | 5/25 [00:00<00:00, 48.57it/s]"
     ]
    },
    {
     "name": "stdout",
     "output_type": "stream",
     "text": [
      "Total number of generated modes is  25\n",
      "The number of high quality samples among 2500 samples is 371\n",
      "The mode dictionary is Counter({0: 50, 5: 49, 21: 39, 10: 29, 7: 27, 18: 17, 4: 15, 16: 15, 6: 13, 15: 12, 3: 11, 8: 11, 13: 11, 2: 10, 20: 10, 12: 9, 11: 9, 17: 7, 19: 7, 1: 6, 9: 5, 22: 4, 14: 2, 23: 2, 24: 1})\n"
     ]
    },
    {
     "name": "stderr",
     "output_type": "stream",
     "text": [
      "100%|██████████| 25/25 [00:00<00:00, 48.45it/s]\n"
     ]
    },
    {
     "name": "stdout",
     "output_type": "stream",
     "text": [
      "spent time for epoch 988 is 0.5220236778259277s\n",
      "epoch # : 988 gamma : 0.5 gen loss : 1.0158157348632812\n"
     ]
    },
    {
     "name": "stderr",
     "output_type": "stream",
     "text": [
      " 20%|██        | 5/25 [00:00<00:00, 49.07it/s]"
     ]
    },
    {
     "name": "stdout",
     "output_type": "stream",
     "text": [
      "Total number of generated modes is  24\n",
      "The number of high quality samples among 2500 samples is 289\n",
      "The mode dictionary is Counter({22: 53, 21: 38, 23: 34, 7: 22, 16: 21, 18: 16, 5: 14, 20: 12, 8: 12, 12: 10, 11: 10, 6: 8, 0: 7, 24: 5, 13: 5, 15: 4, 4: 4, 2: 3, 1: 3, 14: 3, 9: 2, 17: 1, 3: 1, 19: 1})\n"
     ]
    },
    {
     "name": "stderr",
     "output_type": "stream",
     "text": [
      "100%|██████████| 25/25 [00:00<00:00, 48.99it/s]\n"
     ]
    },
    {
     "name": "stdout",
     "output_type": "stream",
     "text": [
      "spent time for epoch 989 is 0.516120433807373s\n",
      "epoch # : 989 gamma : 0.5 gen loss : 1.0297791957855225\n"
     ]
    },
    {
     "name": "stderr",
     "output_type": "stream",
     "text": [
      " 20%|██        | 5/25 [00:00<00:00, 49.19it/s]"
     ]
    },
    {
     "name": "stdout",
     "output_type": "stream",
     "text": [
      "Total number of generated modes is  24\n",
      "The number of high quality samples among 2500 samples is 346\n",
      "The mode dictionary is Counter({5: 54, 17: 32, 23: 28, 7: 26, 16: 25, 12: 21, 15: 20, 8: 18, 13: 15, 6: 14, 18: 14, 3: 10, 10: 9, 11: 9, 22: 8, 20: 7, 1: 7, 24: 7, 0: 7, 2: 6, 21: 4, 19: 3, 14: 1, 4: 1})\n"
     ]
    },
    {
     "name": "stderr",
     "output_type": "stream",
     "text": [
      "100%|██████████| 25/25 [00:00<00:00, 47.74it/s]\n"
     ]
    },
    {
     "name": "stdout",
     "output_type": "stream",
     "text": [
      "spent time for epoch 990 is 0.5296823978424072s\n",
      "epoch # : 990 gamma : 0.5 gen loss : 1.0017980337142944\n"
     ]
    },
    {
     "name": "stderr",
     "output_type": "stream",
     "text": [
      " 20%|██        | 5/25 [00:00<00:00, 49.33it/s]"
     ]
    },
    {
     "name": "stdout",
     "output_type": "stream",
     "text": [
      "Total number of generated modes is  24\n",
      "The number of high quality samples among 2500 samples is 288\n",
      "The mode dictionary is Counter({17: 36, 7: 29, 18: 19, 12: 18, 16: 17, 2: 16, 8: 15, 19: 13, 24: 12, 11: 12, 3: 11, 4: 11, 13: 10, 21: 10, 6: 10, 14: 9, 0: 9, 1: 7, 9: 7, 15: 6, 20: 5, 5: 3, 22: 2, 10: 1})\n"
     ]
    },
    {
     "name": "stderr",
     "output_type": "stream",
     "text": [
      "100%|██████████| 25/25 [00:00<00:00, 49.16it/s]\n"
     ]
    },
    {
     "name": "stdout",
     "output_type": "stream",
     "text": [
      "spent time for epoch 991 is 0.5144450664520264s\n",
      "epoch # : 991 gamma : 0.5 gen loss : 1.0029795169830322\n"
     ]
    },
    {
     "name": "stderr",
     "output_type": "stream",
     "text": [
      " 20%|██        | 5/25 [00:00<00:00, 49.75it/s]"
     ]
    },
    {
     "name": "stdout",
     "output_type": "stream",
     "text": [
      "Total number of generated modes is  24\n",
      "The number of high quality samples among 2500 samples is 318\n",
      "The mode dictionary is Counter({5: 57, 23: 34, 10: 19, 7: 19, 12: 18, 16: 16, 15: 15, 8: 14, 13: 13, 17: 12, 18: 11, 11: 10, 2: 10, 21: 10, 20: 9, 22: 8, 1: 7, 0: 7, 3: 7, 6: 6, 19: 5, 14: 5, 9: 4, 24: 2})\n"
     ]
    },
    {
     "name": "stderr",
     "output_type": "stream",
     "text": [
      "100%|██████████| 25/25 [00:00<00:00, 48.31it/s]\n"
     ]
    },
    {
     "name": "stdout",
     "output_type": "stream",
     "text": [
      "spent time for epoch 992 is 0.523167610168457s\n",
      "epoch # : 992 gamma : 0.5 gen loss : 0.9591048955917358\n"
     ]
    },
    {
     "name": "stderr",
     "output_type": "stream",
     "text": [
      " 20%|██        | 5/25 [00:00<00:00, 49.43it/s]"
     ]
    },
    {
     "name": "stdout",
     "output_type": "stream",
     "text": [
      "Total number of generated modes is  25\n",
      "The number of high quality samples among 2500 samples is 257\n",
      "The mode dictionary is Counter({7: 21, 11: 19, 16: 18, 12: 18, 18: 16, 5: 16, 19: 15, 8: 13, 17: 12, 9: 11, 6: 11, 20: 10, 13: 10, 4: 9, 15: 9, 3: 9, 23: 7, 24: 7, 14: 7, 2: 5, 21: 4, 22: 4, 0: 3, 1: 2, 10: 1})\n"
     ]
    },
    {
     "name": "stderr",
     "output_type": "stream",
     "text": [
      "100%|██████████| 25/25 [00:00<00:00, 48.25it/s]\n"
     ]
    },
    {
     "name": "stdout",
     "output_type": "stream",
     "text": [
      "spent time for epoch 993 is 0.5239458084106445s\n",
      "epoch # : 993 gamma : 0.5 gen loss : 0.9824424386024475\n"
     ]
    },
    {
     "name": "stderr",
     "output_type": "stream",
     "text": [
      " 20%|██        | 5/25 [00:00<00:00, 49.30it/s]"
     ]
    },
    {
     "name": "stdout",
     "output_type": "stream",
     "text": [
      "Total number of generated modes is  24\n",
      "The number of high quality samples among 2500 samples is 294\n",
      "The mode dictionary is Counter({10: 39, 17: 22, 12: 21, 15: 20, 16: 20, 23: 18, 22: 16, 7: 15, 13: 15, 11: 13, 5: 12, 3: 12, 6: 12, 1: 12, 18: 10, 21: 9, 2: 8, 8: 6, 24: 4, 20: 3, 0: 3, 19: 2, 4: 1, 14: 1})\n"
     ]
    },
    {
     "name": "stderr",
     "output_type": "stream",
     "text": [
      "100%|██████████| 25/25 [00:00<00:00, 48.08it/s]\n"
     ]
    },
    {
     "name": "stdout",
     "output_type": "stream",
     "text": [
      "spent time for epoch 994 is 0.5255498886108398s\n",
      "epoch # : 994 gamma : 0.5 gen loss : 0.9798368811607361\n"
     ]
    },
    {
     "name": "stderr",
     "output_type": "stream",
     "text": [
      " 20%|██        | 5/25 [00:00<00:00, 47.80it/s]"
     ]
    },
    {
     "name": "stdout",
     "output_type": "stream",
     "text": [
      "Total number of generated modes is  24\n",
      "The number of high quality samples among 2500 samples is 239\n",
      "The mode dictionary is Counter({7: 37, 12: 24, 3: 19, 8: 16, 13: 13, 18: 12, 14: 11, 16: 11, 9: 11, 19: 10, 11: 9, 21: 8, 6: 8, 5: 7, 2: 7, 17: 7, 24: 5, 20: 5, 4: 4, 0: 4, 1: 3, 15: 3, 10: 3, 23: 2})\n"
     ]
    },
    {
     "name": "stderr",
     "output_type": "stream",
     "text": [
      "100%|██████████| 25/25 [00:00<00:00, 47.67it/s]\n"
     ]
    },
    {
     "name": "stdout",
     "output_type": "stream",
     "text": [
      "spent time for epoch 995 is 0.5302398204803467s\n",
      "epoch # : 995 gamma : 0.5 gen loss : 0.9978144764900208\n"
     ]
    },
    {
     "name": "stderr",
     "output_type": "stream",
     "text": [
      " 20%|██        | 5/25 [00:00<00:00, 47.27it/s]"
     ]
    },
    {
     "name": "stdout",
     "output_type": "stream",
     "text": [
      "Total number of generated modes is  23\n",
      "The number of high quality samples among 2500 samples is 209\n",
      "The mode dictionary is Counter({16: 20, 13: 19, 7: 18, 11: 15, 2: 15, 5: 15, 1: 15, 3: 14, 12: 13, 6: 10, 8: 9, 0: 8, 17: 7, 18: 7, 21: 5, 22: 3, 23: 3, 10: 3, 24: 3, 14: 2, 15: 2, 20: 2, 4: 1})\n"
     ]
    },
    {
     "name": "stderr",
     "output_type": "stream",
     "text": [
      "100%|██████████| 25/25 [00:00<00:00, 48.61it/s]\n"
     ]
    },
    {
     "name": "stdout",
     "output_type": "stream",
     "text": [
      "spent time for epoch 996 is 0.5202932357788086s\n",
      "epoch # : 996 gamma : 0.5 gen loss : 0.9825579524040222\n"
     ]
    },
    {
     "name": "stderr",
     "output_type": "stream",
     "text": [
      " 20%|██        | 5/25 [00:00<00:00, 49.08it/s]"
     ]
    },
    {
     "name": "stdout",
     "output_type": "stream",
     "text": [
      "Total number of generated modes is  24\n",
      "The number of high quality samples among 2500 samples is 262\n",
      "The mode dictionary is Counter({20: 41, 21: 31, 16: 27, 7: 24, 15: 20, 12: 16, 13: 15, 8: 11, 23: 9, 11: 8, 17: 8, 18: 8, 9: 7, 6: 7, 5: 6, 14: 5, 22: 5, 10: 3, 2: 3, 19: 2, 1: 2, 4: 2, 24: 1, 0: 1})\n"
     ]
    },
    {
     "name": "stderr",
     "output_type": "stream",
     "text": [
      "100%|██████████| 25/25 [00:00<00:00, 48.93it/s]\n"
     ]
    },
    {
     "name": "stdout",
     "output_type": "stream",
     "text": [
      "spent time for epoch 997 is 0.5167551040649414s\n",
      "epoch # : 997 gamma : 0.5 gen loss : 1.036604404449463\n"
     ]
    },
    {
     "name": "stderr",
     "output_type": "stream",
     "text": [
      "  4%|▍         | 1/25 [00:00<00:03,  7.18it/s]"
     ]
    },
    {
     "name": "stdout",
     "output_type": "stream",
     "text": [
      "Total number of generated modes is  25\n",
      "The number of high quality samples among 2500 samples is 289\n",
      "The mode dictionary is Counter({5: 36, 16: 22, 23: 21, 17: 20, 19: 18, 15: 16, 8: 14, 12: 13, 14: 13, 7: 13, 18: 12, 24: 12, 9: 11, 13: 10, 3: 10, 20: 10, 6: 9, 4: 8, 11: 5, 22: 5, 21: 4, 0: 3, 10: 2, 2: 1, 1: 1})\n"
     ]
    },
    {
     "name": "stderr",
     "output_type": "stream",
     "text": [
      "100%|██████████| 25/25 [00:00<00:00, 42.82it/s]\n"
     ]
    },
    {
     "name": "stdout",
     "output_type": "stream",
     "text": [
      "spent time for epoch 998 is 0.5897209644317627s\n",
      "epoch # : 998 gamma : 0.5 gen loss : 1.024125099182129\n"
     ]
    },
    {
     "name": "stderr",
     "output_type": "stream",
     "text": [
      " 20%|██        | 5/25 [00:00<00:00, 48.66it/s]"
     ]
    },
    {
     "name": "stdout",
     "output_type": "stream",
     "text": [
      "Total number of generated modes is  22\n",
      "The number of high quality samples among 2500 samples is 238\n",
      "The mode dictionary is Counter({5: 22, 16: 22, 2: 18, 15: 17, 8: 16, 6: 16, 7: 13, 10: 13, 21: 11, 17: 11, 13: 11, 12: 11, 20: 9, 18: 9, 3: 8, 4: 7, 1: 7, 11: 6, 23: 4, 0: 4, 22: 2, 24: 1})\n"
     ]
    },
    {
     "name": "stderr",
     "output_type": "stream",
     "text": [
      "100%|██████████| 25/25 [00:00<00:00, 48.38it/s]\n"
     ]
    },
    {
     "name": "stdout",
     "output_type": "stream",
     "text": [
      "spent time for epoch 999 is 0.522648811340332s\n",
      "epoch # : 999 gamma : 0.5 gen loss : 0.981890082359314\n",
      "Total number of generated modes is  23\n",
      "The number of high quality samples among 2500 samples is 240\n",
      "The mode dictionary is Counter({16: 22, 15: 20, 8: 19, 13: 17, 12: 16, 6: 16, 22: 15, 7: 13, 0: 11, 2: 10, 14: 10, 5: 9, 3: 9, 19: 9, 20: 7, 1: 6, 4: 6, 11: 6, 17: 5, 21: 5, 23: 4, 9: 4, 18: 1})\n"
     ]
    }
   ],
   "source": [
    "gan_gaussian2d = Online_Kernel_GAN(gamma=0.5, gamma_ratio=1, num_epochs=1000, n_data=data_config['n_data'], data=data_gaussiangrid)\n",
    "gan_gaussian2d.train_GAN()"
   ]
  },
  {
   "cell_type": "markdown",
   "metadata": {},
   "source": [
    "# Now let's play with the MNIST dataset"
   ]
  },
  {
   "cell_type": "code",
   "execution_count": 4,
   "metadata": {},
   "outputs": [],
   "source": [
    "from torchvision import transforms, datasets\n",
    "\n",
    "img_size = 28\n",
    "\n",
    "def mnist_data():\n",
    "    compose = transforms.Compose(\n",
    "        [transforms.Resize(img_size),\n",
    "         transforms.ToTensor(),\n",
    "         transforms.Normalize((.5,), (.5,))\n",
    "        ])\n",
    "    out_dir = 'data'\n",
    "    return datasets.MNIST(root=out_dir, train=True, transform=compose, download=True)\n",
    "\n",
    "data_mnist = mnist_data()"
   ]
  },
  {
   "cell_type": "markdown",
   "metadata": {},
   "source": [
    "# Performance on MNIST\n",
    "\n",
    "In this experiment, we use a gaussian kernel and fix the gamma value as 0.1. All images are saved in 'out_image/out_mnist_online_kernel'. There is an error when we try to change the kernel into polynomial kernel. We can see that this GAN cannot generate fake data with good quality. Before this experiment, We need to make sure that the online kernel classifier works well on MNIST dataset."
   ]
  },
  {
   "cell_type": "code",
   "execution_count": 5,
   "metadata": {},
   "outputs": [
    {
     "name": "stderr",
     "output_type": "stream",
     "text": [
      "100%|██████████| 300/300 [00:20<00:00, 14.53it/s]\n"
     ]
    },
    {
     "name": "stdout",
     "output_type": "stream",
     "text": [
      "spent time for epoch 0 is 20.681440591812134s\n",
      "epoch # : 0 gamma : 0.1 gen loss : 1.0011231899261475\n"
     ]
    },
    {
     "name": "stderr",
     "output_type": "stream",
     "text": [
      "100%|██████████| 300/300 [00:20<00:00, 14.77it/s]\n"
     ]
    },
    {
     "name": "stdout",
     "output_type": "stream",
     "text": [
      "spent time for epoch 1 is 20.356979608535767s\n",
      "epoch # : 1 gamma : 0.1 gen loss : 1.0051140785217285\n"
     ]
    },
    {
     "name": "stderr",
     "output_type": "stream",
     "text": [
      "100%|██████████| 300/300 [00:20<00:00, 14.71it/s]\n"
     ]
    },
    {
     "name": "stdout",
     "output_type": "stream",
     "text": [
      "spent time for epoch 2 is 20.403777837753296s\n",
      "epoch # : 2 gamma : 0.1 gen loss : 0.9881694316864014\n"
     ]
    },
    {
     "name": "stderr",
     "output_type": "stream",
     "text": [
      "100%|██████████| 300/300 [00:20<00:00, 14.42it/s]\n"
     ]
    },
    {
     "name": "stdout",
     "output_type": "stream",
     "text": [
      "spent time for epoch 3 is 20.816318035125732s\n",
      "epoch # : 3 gamma : 0.1 gen loss : 0.9962992072105408\n"
     ]
    },
    {
     "name": "stderr",
     "output_type": "stream",
     "text": [
      "100%|██████████| 300/300 [00:23<00:00, 12.69it/s]\n"
     ]
    },
    {
     "name": "stdout",
     "output_type": "stream",
     "text": [
      "spent time for epoch 4 is 23.652300119400024s\n",
      "epoch # : 4 gamma : 0.1 gen loss : 1.0179706811904907\n"
     ]
    },
    {
     "name": "stderr",
     "output_type": "stream",
     "text": [
      "100%|██████████| 300/300 [00:23<00:00, 12.74it/s]\n"
     ]
    },
    {
     "name": "stdout",
     "output_type": "stream",
     "text": [
      "spent time for epoch 5 is 23.550878763198853s\n",
      "epoch # : 5 gamma : 0.1 gen loss : 0.9973074197769165\n"
     ]
    },
    {
     "name": "stderr",
     "output_type": "stream",
     "text": [
      "100%|██████████| 300/300 [00:20<00:00, 14.50it/s]\n"
     ]
    },
    {
     "name": "stdout",
     "output_type": "stream",
     "text": [
      "spent time for epoch 6 is 20.702858209609985s\n",
      "epoch # : 6 gamma : 0.1 gen loss : 1.0152453184127808\n"
     ]
    },
    {
     "name": "stderr",
     "output_type": "stream",
     "text": [
      "100%|██████████| 300/300 [00:20<00:00, 14.56it/s]\n"
     ]
    },
    {
     "name": "stdout",
     "output_type": "stream",
     "text": [
      "spent time for epoch 7 is 20.61853313446045s\n",
      "epoch # : 7 gamma : 0.1 gen loss : 0.9987438917160034\n"
     ]
    },
    {
     "name": "stderr",
     "output_type": "stream",
     "text": [
      "100%|██████████| 300/300 [00:20<00:00, 14.42it/s]\n"
     ]
    },
    {
     "name": "stdout",
     "output_type": "stream",
     "text": [
      "spent time for epoch 8 is 20.815462827682495s\n",
      "epoch # : 8 gamma : 0.1 gen loss : 1.0050818920135498\n"
     ]
    },
    {
     "name": "stderr",
     "output_type": "stream",
     "text": [
      "100%|██████████| 300/300 [00:20<00:00, 14.65it/s]\n"
     ]
    },
    {
     "name": "stdout",
     "output_type": "stream",
     "text": [
      "spent time for epoch 9 is 20.493775367736816s\n",
      "epoch # : 9 gamma : 0.1 gen loss : 1.0119363069534302\n"
     ]
    },
    {
     "name": "stderr",
     "output_type": "stream",
     "text": [
      "100%|██████████| 300/300 [00:20<00:00, 14.71it/s]\n"
     ]
    },
    {
     "name": "stdout",
     "output_type": "stream",
     "text": [
      "spent time for epoch 10 is 20.40782117843628s\n",
      "epoch # : 10 gamma : 0.1 gen loss : 1.0113013982772827\n"
     ]
    },
    {
     "name": "stderr",
     "output_type": "stream",
     "text": [
      "100%|██████████| 300/300 [00:20<00:00, 14.74it/s]\n"
     ]
    },
    {
     "name": "stdout",
     "output_type": "stream",
     "text": [
      "spent time for epoch 11 is 20.36759352684021s\n",
      "epoch # : 11 gamma : 0.1 gen loss : 1.0083895921707153\n"
     ]
    },
    {
     "name": "stderr",
     "output_type": "stream",
     "text": [
      "100%|██████████| 300/300 [00:20<00:00, 14.50it/s]\n"
     ]
    },
    {
     "name": "stdout",
     "output_type": "stream",
     "text": [
      "spent time for epoch 12 is 20.695906162261963s\n",
      "epoch # : 12 gamma : 0.1 gen loss : 1.0125291347503662\n"
     ]
    },
    {
     "name": "stderr",
     "output_type": "stream",
     "text": [
      "100%|██████████| 300/300 [00:20<00:00, 14.72it/s]\n"
     ]
    },
    {
     "name": "stdout",
     "output_type": "stream",
     "text": [
      "spent time for epoch 13 is 20.38665008544922s\n",
      "epoch # : 13 gamma : 0.1 gen loss : 1.0096712112426758\n"
     ]
    },
    {
     "name": "stderr",
     "output_type": "stream",
     "text": [
      "100%|██████████| 300/300 [00:20<00:00, 14.42it/s]\n"
     ]
    },
    {
     "name": "stdout",
     "output_type": "stream",
     "text": [
      "spent time for epoch 14 is 20.807246923446655s\n",
      "epoch # : 14 gamma : 0.1 gen loss : 0.9905692338943481\n"
     ]
    },
    {
     "name": "stderr",
     "output_type": "stream",
     "text": [
      "100%|██████████| 300/300 [00:20<00:00, 14.95it/s]\n"
     ]
    },
    {
     "name": "stdout",
     "output_type": "stream",
     "text": [
      "spent time for epoch 15 is 20.07982897758484s\n",
      "epoch # : 15 gamma : 0.1 gen loss : 1.0064549446105957\n"
     ]
    },
    {
     "name": "stderr",
     "output_type": "stream",
     "text": [
      "100%|██████████| 300/300 [00:20<00:00, 14.71it/s]\n"
     ]
    },
    {
     "name": "stdout",
     "output_type": "stream",
     "text": [
      "spent time for epoch 16 is 20.40864062309265s\n",
      "epoch # : 16 gamma : 0.1 gen loss : 1.0226290225982666\n"
     ]
    },
    {
     "name": "stderr",
     "output_type": "stream",
     "text": [
      "100%|██████████| 300/300 [00:20<00:00, 14.73it/s]\n"
     ]
    },
    {
     "name": "stdout",
     "output_type": "stream",
     "text": [
      "spent time for epoch 17 is 20.373920679092407s\n",
      "epoch # : 17 gamma : 0.1 gen loss : 0.9868778586387634\n"
     ]
    },
    {
     "name": "stderr",
     "output_type": "stream",
     "text": [
      "100%|██████████| 300/300 [00:20<00:00, 14.74it/s]\n"
     ]
    },
    {
     "name": "stdout",
     "output_type": "stream",
     "text": [
      "spent time for epoch 18 is 20.36141800880432s\n",
      "epoch # : 18 gamma : 0.1 gen loss : 1.0036567449569702\n"
     ]
    },
    {
     "name": "stderr",
     "output_type": "stream",
     "text": [
      "100%|██████████| 300/300 [00:20<00:00, 14.64it/s]\n"
     ]
    },
    {
     "name": "stdout",
     "output_type": "stream",
     "text": [
      "spent time for epoch 19 is 20.497193574905396s\n",
      "epoch # : 19 gamma : 0.1 gen loss : 0.9838173389434814\n"
     ]
    },
    {
     "name": "stderr",
     "output_type": "stream",
     "text": [
      "100%|██████████| 300/300 [00:20<00:00, 14.95it/s]\n"
     ]
    },
    {
     "name": "stdout",
     "output_type": "stream",
     "text": [
      "spent time for epoch 20 is 20.079432010650635s\n",
      "epoch # : 20 gamma : 0.1 gen loss : 1.0021922588348389\n"
     ]
    },
    {
     "name": "stderr",
     "output_type": "stream",
     "text": [
      "100%|██████████| 300/300 [00:20<00:00, 14.99it/s]\n"
     ]
    },
    {
     "name": "stdout",
     "output_type": "stream",
     "text": [
      "spent time for epoch 21 is 20.023194551467896s\n",
      "epoch # : 21 gamma : 0.1 gen loss : 0.9958142042160034\n"
     ]
    },
    {
     "name": "stderr",
     "output_type": "stream",
     "text": [
      "100%|██████████| 300/300 [00:20<00:00, 14.91it/s]\n"
     ]
    },
    {
     "name": "stdout",
     "output_type": "stream",
     "text": [
      "spent time for epoch 22 is 20.132648944854736s\n",
      "epoch # : 22 gamma : 0.1 gen loss : 1.0123802423477173\n"
     ]
    },
    {
     "name": "stderr",
     "output_type": "stream",
     "text": [
      "100%|██████████| 300/300 [00:20<00:00, 14.67it/s]\n"
     ]
    },
    {
     "name": "stdout",
     "output_type": "stream",
     "text": [
      "spent time for epoch 23 is 20.464388847351074s\n",
      "epoch # : 23 gamma : 0.1 gen loss : 1.010014295578003\n"
     ]
    },
    {
     "name": "stderr",
     "output_type": "stream",
     "text": [
      "100%|██████████| 300/300 [00:20<00:00, 14.86it/s]\n"
     ]
    },
    {
     "name": "stdout",
     "output_type": "stream",
     "text": [
      "spent time for epoch 24 is 20.20086646080017s\n",
      "epoch # : 24 gamma : 0.1 gen loss : 1.01173996925354\n"
     ]
    },
    {
     "name": "stderr",
     "output_type": "stream",
     "text": [
      "100%|██████████| 300/300 [00:20<00:00, 14.51it/s]\n"
     ]
    },
    {
     "name": "stdout",
     "output_type": "stream",
     "text": [
      "spent time for epoch 25 is 20.676589012145996s\n",
      "epoch # : 25 gamma : 0.1 gen loss : 1.0164412260055542\n"
     ]
    },
    {
     "name": "stderr",
     "output_type": "stream",
     "text": [
      "100%|██████████| 300/300 [00:20<00:00, 14.80it/s]\n"
     ]
    },
    {
     "name": "stdout",
     "output_type": "stream",
     "text": [
      "spent time for epoch 26 is 20.284346103668213s\n",
      "epoch # : 26 gamma : 0.1 gen loss : 0.9907093644142151\n"
     ]
    },
    {
     "name": "stderr",
     "output_type": "stream",
     "text": [
      "100%|██████████| 300/300 [00:20<00:00, 14.56it/s]\n"
     ]
    },
    {
     "name": "stdout",
     "output_type": "stream",
     "text": [
      "spent time for epoch 27 is 20.61604404449463s\n",
      "epoch # : 27 gamma : 0.1 gen loss : 0.999871015548706\n"
     ]
    },
    {
     "name": "stderr",
     "output_type": "stream",
     "text": [
      "100%|██████████| 300/300 [00:20<00:00, 14.67it/s]\n"
     ]
    },
    {
     "name": "stdout",
     "output_type": "stream",
     "text": [
      "spent time for epoch 28 is 20.460965633392334s\n",
      "epoch # : 28 gamma : 0.1 gen loss : 0.9998675584793091\n"
     ]
    },
    {
     "name": "stderr",
     "output_type": "stream",
     "text": [
      "100%|██████████| 300/300 [00:20<00:00, 14.76it/s]\n"
     ]
    },
    {
     "name": "stdout",
     "output_type": "stream",
     "text": [
      "spent time for epoch 29 is 20.330774307250977s\n",
      "epoch # : 29 gamma : 0.1 gen loss : 0.9988037943840027\n"
     ]
    },
    {
     "name": "stderr",
     "output_type": "stream",
     "text": [
      "100%|██████████| 300/300 [00:20<00:00, 14.58it/s]\n"
     ]
    },
    {
     "name": "stdout",
     "output_type": "stream",
     "text": [
      "spent time for epoch 30 is 20.580582857131958s\n",
      "epoch # : 30 gamma : 0.1 gen loss : 1.0001556873321533\n"
     ]
    },
    {
     "name": "stderr",
     "output_type": "stream",
     "text": [
      "100%|██████████| 300/300 [00:20<00:00, 14.70it/s]\n"
     ]
    },
    {
     "name": "stdout",
     "output_type": "stream",
     "text": [
      "spent time for epoch 31 is 20.409217834472656s\n",
      "epoch # : 31 gamma : 0.1 gen loss : 0.9857276082038879\n"
     ]
    },
    {
     "name": "stderr",
     "output_type": "stream",
     "text": [
      "100%|██████████| 300/300 [00:20<00:00, 14.39it/s]\n"
     ]
    },
    {
     "name": "stdout",
     "output_type": "stream",
     "text": [
      "spent time for epoch 32 is 20.85348153114319s\n",
      "epoch # : 32 gamma : 0.1 gen loss : 0.9942434430122375\n"
     ]
    },
    {
     "name": "stderr",
     "output_type": "stream",
     "text": [
      "100%|██████████| 300/300 [00:20<00:00, 14.99it/s]\n"
     ]
    },
    {
     "name": "stdout",
     "output_type": "stream",
     "text": [
      "spent time for epoch 33 is 20.023800373077393s\n",
      "epoch # : 33 gamma : 0.1 gen loss : 1.0014138221740723\n"
     ]
    },
    {
     "name": "stderr",
     "output_type": "stream",
     "text": [
      "100%|██████████| 300/300 [00:20<00:00, 14.66it/s]\n"
     ]
    },
    {
     "name": "stdout",
     "output_type": "stream",
     "text": [
      "spent time for epoch 34 is 20.470564365386963s\n",
      "epoch # : 34 gamma : 0.1 gen loss : 0.9902322888374329\n"
     ]
    },
    {
     "name": "stderr",
     "output_type": "stream",
     "text": [
      "100%|██████████| 300/300 [00:20<00:00, 14.72it/s]\n"
     ]
    },
    {
     "name": "stdout",
     "output_type": "stream",
     "text": [
      "spent time for epoch 35 is 20.388004302978516s\n",
      "epoch # : 35 gamma : 0.1 gen loss : 1.0135551691055298\n"
     ]
    },
    {
     "name": "stderr",
     "output_type": "stream",
     "text": [
      "100%|██████████| 300/300 [00:20<00:00, 14.41it/s]\n"
     ]
    },
    {
     "name": "stdout",
     "output_type": "stream",
     "text": [
      "spent time for epoch 36 is 20.825841665267944s\n",
      "epoch # : 36 gamma : 0.1 gen loss : 1.0035828351974487\n"
     ]
    },
    {
     "name": "stderr",
     "output_type": "stream",
     "text": [
      "100%|██████████| 300/300 [00:20<00:00, 14.70it/s]\n"
     ]
    },
    {
     "name": "stdout",
     "output_type": "stream",
     "text": [
      "spent time for epoch 37 is 20.411813735961914s\n",
      "epoch # : 37 gamma : 0.1 gen loss : 1.0192171335220337\n"
     ]
    },
    {
     "name": "stderr",
     "output_type": "stream",
     "text": [
      "100%|██████████| 300/300 [00:20<00:00, 14.55it/s]\n"
     ]
    },
    {
     "name": "stdout",
     "output_type": "stream",
     "text": [
      "spent time for epoch 38 is 20.620607137680054s\n",
      "epoch # : 38 gamma : 0.1 gen loss : 0.9999918937683105\n"
     ]
    },
    {
     "name": "stderr",
     "output_type": "stream",
     "text": [
      "100%|██████████| 300/300 [00:20<00:00, 14.66it/s]\n"
     ]
    },
    {
     "name": "stdout",
     "output_type": "stream",
     "text": [
      "spent time for epoch 39 is 20.47423219680786s\n",
      "epoch # : 39 gamma : 0.1 gen loss : 1.0041866302490234\n"
     ]
    },
    {
     "name": "stderr",
     "output_type": "stream",
     "text": [
      "100%|██████████| 300/300 [00:20<00:00, 14.71it/s]\n"
     ]
    },
    {
     "name": "stdout",
     "output_type": "stream",
     "text": [
      "spent time for epoch 40 is 20.402358531951904s\n",
      "epoch # : 40 gamma : 0.1 gen loss : 0.9979698061943054\n"
     ]
    },
    {
     "name": "stderr",
     "output_type": "stream",
     "text": [
      "100%|██████████| 300/300 [00:20<00:00, 14.46it/s]\n"
     ]
    },
    {
     "name": "stdout",
     "output_type": "stream",
     "text": [
      "spent time for epoch 41 is 20.750754594802856s\n",
      "epoch # : 41 gamma : 0.1 gen loss : 1.0127419233322144\n"
     ]
    },
    {
     "name": "stderr",
     "output_type": "stream",
     "text": [
      "100%|██████████| 300/300 [00:20<00:00, 14.69it/s]\n"
     ]
    },
    {
     "name": "stdout",
     "output_type": "stream",
     "text": [
      "spent time for epoch 42 is 20.428109884262085s\n",
      "epoch # : 42 gamma : 0.1 gen loss : 0.9891476035118103\n"
     ]
    },
    {
     "name": "stderr",
     "output_type": "stream",
     "text": [
      "100%|██████████| 300/300 [00:20<00:00, 14.61it/s]\n"
     ]
    },
    {
     "name": "stdout",
     "output_type": "stream",
     "text": [
      "spent time for epoch 43 is 20.53891634941101s\n",
      "epoch # : 43 gamma : 0.1 gen loss : 1.026058316230774\n"
     ]
    },
    {
     "name": "stderr",
     "output_type": "stream",
     "text": [
      "100%|██████████| 300/300 [00:20<00:00, 14.74it/s]\n"
     ]
    },
    {
     "name": "stdout",
     "output_type": "stream",
     "text": [
      "spent time for epoch 44 is 20.36297869682312s\n",
      "epoch # : 44 gamma : 0.1 gen loss : 1.007491946220398\n"
     ]
    },
    {
     "name": "stderr",
     "output_type": "stream",
     "text": [
      "100%|██████████| 300/300 [00:20<00:00, 14.56it/s]\n"
     ]
    },
    {
     "name": "stdout",
     "output_type": "stream",
     "text": [
      "spent time for epoch 45 is 20.606395959854126s\n",
      "epoch # : 45 gamma : 0.1 gen loss : 0.9885557293891907\n"
     ]
    },
    {
     "name": "stderr",
     "output_type": "stream",
     "text": [
      "100%|██████████| 300/300 [00:20<00:00, 14.92it/s]\n"
     ]
    },
    {
     "name": "stdout",
     "output_type": "stream",
     "text": [
      "spent time for epoch 46 is 20.11225938796997s\n",
      "epoch # : 46 gamma : 0.1 gen loss : 1.007601261138916\n"
     ]
    },
    {
     "name": "stderr",
     "output_type": "stream",
     "text": [
      "100%|██████████| 300/300 [00:20<00:00, 14.42it/s]\n"
     ]
    },
    {
     "name": "stdout",
     "output_type": "stream",
     "text": [
      "spent time for epoch 47 is 20.8166823387146s\n",
      "epoch # : 47 gamma : 0.1 gen loss : 0.9913926720619202\n"
     ]
    },
    {
     "name": "stderr",
     "output_type": "stream",
     "text": [
      "100%|██████████| 300/300 [00:20<00:00, 14.50it/s]\n"
     ]
    },
    {
     "name": "stdout",
     "output_type": "stream",
     "text": [
      "spent time for epoch 48 is 20.692103624343872s\n",
      "epoch # : 48 gamma : 0.1 gen loss : 1.009790301322937\n"
     ]
    },
    {
     "name": "stderr",
     "output_type": "stream",
     "text": [
      "100%|██████████| 300/300 [00:20<00:00, 14.53it/s]\n"
     ]
    },
    {
     "name": "stdout",
     "output_type": "stream",
     "text": [
      "spent time for epoch 49 is 20.65087366104126s\n",
      "epoch # : 49 gamma : 0.1 gen loss : 0.9996892213821411\n"
     ]
    },
    {
     "name": "stderr",
     "output_type": "stream",
     "text": [
      "100%|██████████| 300/300 [00:20<00:00, 14.67it/s]\n"
     ]
    },
    {
     "name": "stdout",
     "output_type": "stream",
     "text": [
      "spent time for epoch 50 is 20.464569568634033s\n",
      "epoch # : 50 gamma : 0.1 gen loss : 1.0259853601455688\n"
     ]
    },
    {
     "name": "stderr",
     "output_type": "stream",
     "text": [
      "100%|██████████| 300/300 [00:20<00:00, 14.63it/s]\n"
     ]
    },
    {
     "name": "stdout",
     "output_type": "stream",
     "text": [
      "spent time for epoch 51 is 20.5076425075531s\n",
      "epoch # : 51 gamma : 0.1 gen loss : 1.0022119283676147\n"
     ]
    },
    {
     "name": "stderr",
     "output_type": "stream",
     "text": [
      "100%|██████████| 300/300 [00:20<00:00, 14.46it/s]\n"
     ]
    },
    {
     "name": "stdout",
     "output_type": "stream",
     "text": [
      "spent time for epoch 52 is 20.751404762268066s\n",
      "epoch # : 52 gamma : 0.1 gen loss : 0.9979690313339233\n"
     ]
    },
    {
     "name": "stderr",
     "output_type": "stream",
     "text": [
      "100%|██████████| 300/300 [00:20<00:00, 14.67it/s]\n"
     ]
    },
    {
     "name": "stdout",
     "output_type": "stream",
     "text": [
      "spent time for epoch 53 is 20.45995569229126s\n",
      "epoch # : 53 gamma : 0.1 gen loss : 0.9868066906929016\n"
     ]
    },
    {
     "name": "stderr",
     "output_type": "stream",
     "text": [
      "100%|██████████| 300/300 [00:20<00:00, 14.79it/s]\n"
     ]
    },
    {
     "name": "stdout",
     "output_type": "stream",
     "text": [
      "spent time for epoch 54 is 20.286558151245117s\n",
      "epoch # : 54 gamma : 0.1 gen loss : 0.9895780682563782\n"
     ]
    },
    {
     "name": "stderr",
     "output_type": "stream",
     "text": [
      "100%|██████████| 300/300 [00:20<00:00, 14.77it/s]\n"
     ]
    },
    {
     "name": "stdout",
     "output_type": "stream",
     "text": [
      "spent time for epoch 55 is 20.319448232650757s\n",
      "epoch # : 55 gamma : 0.1 gen loss : 0.9970672130584717\n"
     ]
    },
    {
     "name": "stderr",
     "output_type": "stream",
     "text": [
      "100%|██████████| 300/300 [00:20<00:00, 14.59it/s]\n"
     ]
    },
    {
     "name": "stdout",
     "output_type": "stream",
     "text": [
      "spent time for epoch 56 is 20.56900715827942s\n",
      "epoch # : 56 gamma : 0.1 gen loss : 0.9874050617218018\n"
     ]
    },
    {
     "name": "stderr",
     "output_type": "stream",
     "text": [
      "100%|██████████| 300/300 [00:20<00:00, 14.76it/s]\n"
     ]
    },
    {
     "name": "stdout",
     "output_type": "stream",
     "text": [
      "spent time for epoch 57 is 20.33518075942993s\n",
      "epoch # : 57 gamma : 0.1 gen loss : 1.0066819190979004\n"
     ]
    },
    {
     "name": "stderr",
     "output_type": "stream",
     "text": [
      "100%|██████████| 300/300 [00:20<00:00, 14.45it/s]\n"
     ]
    },
    {
     "name": "stdout",
     "output_type": "stream",
     "text": [
      "spent time for epoch 58 is 20.763895988464355s\n",
      "epoch # : 58 gamma : 0.1 gen loss : 1.0035299062728882\n"
     ]
    },
    {
     "name": "stderr",
     "output_type": "stream",
     "text": [
      "100%|██████████| 300/300 [00:20<00:00, 14.95it/s]\n"
     ]
    },
    {
     "name": "stdout",
     "output_type": "stream",
     "text": [
      "spent time for epoch 59 is 20.075819492340088s\n",
      "epoch # : 59 gamma : 0.1 gen loss : 1.007064938545227\n"
     ]
    },
    {
     "name": "stderr",
     "output_type": "stream",
     "text": [
      "100%|██████████| 300/300 [00:20<00:00, 14.73it/s]\n"
     ]
    },
    {
     "name": "stdout",
     "output_type": "stream",
     "text": [
      "spent time for epoch 60 is 20.372053384780884s\n",
      "epoch # : 60 gamma : 0.1 gen loss : 0.9950025677680969\n"
     ]
    },
    {
     "name": "stderr",
     "output_type": "stream",
     "text": [
      "100%|██████████| 300/300 [00:20<00:00, 14.78it/s]\n"
     ]
    },
    {
     "name": "stdout",
     "output_type": "stream",
     "text": [
      "spent time for epoch 61 is 20.305959224700928s\n",
      "epoch # : 61 gamma : 0.1 gen loss : 0.9881147742271423\n"
     ]
    },
    {
     "name": "stderr",
     "output_type": "stream",
     "text": [
      " 31%|███       | 92/300 [00:06<00:13, 14.87it/s]\n"
     ]
    },
    {
     "ename": "KeyboardInterrupt",
     "evalue": "",
     "output_type": "error",
     "traceback": [
      "\u001b[0;31m---------------------------------------------------------------------------\u001b[0m",
      "\u001b[0;31mKeyboardInterrupt\u001b[0m                         Traceback (most recent call last)",
      "\u001b[0;32m<ipython-input-5-9affc62850b4>\u001b[0m in \u001b[0;36m<module>\u001b[0;34m\u001b[0m\n\u001b[1;32m      1\u001b[0m \u001b[0mgan_mnist\u001b[0m \u001b[0;34m=\u001b[0m \u001b[0mOnline_Kernel_GAN\u001b[0m\u001b[0;34m(\u001b[0m\u001b[0mkernel\u001b[0m\u001b[0;34m=\u001b[0m\u001b[0;34m'gaussian'\u001b[0m\u001b[0;34m,\u001b[0m \u001b[0mlr\u001b[0m\u001b[0;34m=\u001b[0m\u001b[0;36m0.0002\u001b[0m\u001b[0;34m,\u001b[0m \u001b[0mgamma\u001b[0m\u001b[0;34m=\u001b[0m\u001b[0;36m0.1\u001b[0m\u001b[0;34m,\u001b[0m \u001b[0mgamma_ratio\u001b[0m\u001b[0;34m=\u001b[0m\u001b[0;36m1.0\u001b[0m\u001b[0;34m,\u001b[0m \u001b[0mg_steps\u001b[0m\u001b[0;34m=\u001b[0m\u001b[0;36m1\u001b[0m\u001b[0;34m,\u001b[0m \u001b[0mnum_epochs\u001b[0m\u001b[0;34m=\u001b[0m\u001b[0;36m200\u001b[0m\u001b[0;34m,\u001b[0m \u001b[0mbatch_size\u001b[0m\u001b[0;34m=\u001b[0m\u001b[0;36m200\u001b[0m\u001b[0;34m,\u001b[0m \u001b[0mimg_size\u001b[0m\u001b[0;34m=\u001b[0m\u001b[0mimg_size\u001b[0m\u001b[0;34m,\u001b[0m \u001b[0mdata\u001b[0m\u001b[0;34m=\u001b[0m\u001b[0mdata_mnist\u001b[0m\u001b[0;34m,\u001b[0m \u001b[0mdata_type\u001b[0m\u001b[0;34m=\u001b[0m\u001b[0;34m'mnist'\u001b[0m\u001b[0;34m,\u001b[0m \u001b[0mmodel_type\u001b[0m\u001b[0;34m=\u001b[0m\u001b[0;34m'VGAN'\u001b[0m\u001b[0;34m)\u001b[0m\u001b[0;34m\u001b[0m\u001b[0;34m\u001b[0m\u001b[0m\n\u001b[0;32m----> 2\u001b[0;31m \u001b[0mgan_mnist\u001b[0m\u001b[0;34m.\u001b[0m\u001b[0mtrain_GAN\u001b[0m\u001b[0;34m(\u001b[0m\u001b[0;34m)\u001b[0m\u001b[0;34m\u001b[0m\u001b[0;34m\u001b[0m\u001b[0m\n\u001b[0m",
      "\u001b[0;32m~/notebooks/GAN with kernel/kernel_GAN/Online_Kernel_GAN.py\u001b[0m in \u001b[0;36mtrain_GAN\u001b[0;34m(self)\u001b[0m\n\u001b[1;32m    308\u001b[0m                         \u001b[0mfake_g_data\u001b[0m \u001b[0;34m=\u001b[0m \u001b[0mself\u001b[0m\u001b[0;34m.\u001b[0m\u001b[0mgenerator\u001b[0m\u001b[0;34m(\u001b[0m\u001b[0mself\u001b[0m\u001b[0;34m.\u001b[0m\u001b[0mnoise\u001b[0m\u001b[0;34m(\u001b[0m\u001b[0mreal_g_data\u001b[0m\u001b[0;34m.\u001b[0m\u001b[0msize\u001b[0m\u001b[0;34m(\u001b[0m\u001b[0;36m0\u001b[0m\u001b[0;34m)\u001b[0m\u001b[0;34m)\u001b[0m\u001b[0;34m)\u001b[0m\u001b[0;34m.\u001b[0m\u001b[0mdetach\u001b[0m\u001b[0;34m(\u001b[0m\u001b[0;34m)\u001b[0m\u001b[0;34m\u001b[0m\u001b[0;34m\u001b[0m\u001b[0m\n\u001b[1;32m    309\u001b[0m                     \u001b[0;31m#start = time.time()\u001b[0m\u001b[0;34m\u001b[0m\u001b[0;34m\u001b[0m\u001b[0;34m\u001b[0m\u001b[0m\n\u001b[0;32m--> 310\u001b[0;31m                     \u001b[0mself\u001b[0m\u001b[0;34m.\u001b[0m\u001b[0monline_kernel\u001b[0m\u001b[0;34m(\u001b[0m\u001b[0mreal_g_data\u001b[0m\u001b[0;34m,\u001b[0m \u001b[0mfake_g_data\u001b[0m\u001b[0;34m)\u001b[0m\u001b[0;34m\u001b[0m\u001b[0;34m\u001b[0m\u001b[0m\n\u001b[0m\u001b[1;32m    311\u001b[0m                     \u001b[0;31m#print('spent time for getting SVM is {}'.format(time.time()-start))\u001b[0m\u001b[0;34m\u001b[0m\u001b[0;34m\u001b[0m\u001b[0;34m\u001b[0m\u001b[0m\n\u001b[1;32m    312\u001b[0m                     \u001b[0mreal_g_data\u001b[0m \u001b[0;34m=\u001b[0m \u001b[0mtorch\u001b[0m\u001b[0;34m.\u001b[0m\u001b[0mzeros\u001b[0m\u001b[0;34m(\u001b[0m\u001b[0;34m(\u001b[0m\u001b[0mself\u001b[0m\u001b[0;34m.\u001b[0m\u001b[0mg_steps\u001b[0m\u001b[0;34m*\u001b[0m\u001b[0mlen\u001b[0m\u001b[0;34m(\u001b[0m\u001b[0mreal_batch\u001b[0m\u001b[0;34m)\u001b[0m\u001b[0;34m,\u001b[0m \u001b[0mlen\u001b[0m\u001b[0;34m(\u001b[0m\u001b[0mreal_g_data\u001b[0m\u001b[0;34m[\u001b[0m\u001b[0;36m0\u001b[0m\u001b[0;34m]\u001b[0m\u001b[0;34m)\u001b[0m\u001b[0;34m)\u001b[0m\u001b[0;34m,\u001b[0m \u001b[0mdevice\u001b[0m\u001b[0;34m=\u001b[0m\u001b[0mself\u001b[0m\u001b[0;34m.\u001b[0m\u001b[0mdevice\u001b[0m\u001b[0;34m)\u001b[0m\u001b[0;34m\u001b[0m\u001b[0;34m\u001b[0m\u001b[0m\n",
      "\u001b[0;32m~/notebooks/GAN with kernel/kernel_GAN/Online_Kernel_GAN.py\u001b[0m in \u001b[0;36monline_kernel\u001b[0;34m(self, real_data, fake_data)\u001b[0m\n\u001b[1;32m    125\u001b[0m         \u001b[0mtrain_dataset\u001b[0m \u001b[0;34m=\u001b[0m \u001b[0mself\u001b[0m\u001b[0;34m.\u001b[0m\u001b[0mmake_2d_dataset\u001b[0m\u001b[0;34m(\u001b[0m\u001b[0mdata\u001b[0m\u001b[0;34m,\u001b[0m \u001b[0my\u001b[0m\u001b[0;34m)\u001b[0m\u001b[0;34m\u001b[0m\u001b[0;34m\u001b[0m\u001b[0m\n\u001b[1;32m    126\u001b[0m \u001b[0;34m\u001b[0m\u001b[0m\n\u001b[0;32m--> 127\u001b[0;31m         \u001b[0mself\u001b[0m\u001b[0;34m.\u001b[0m\u001b[0mclf\u001b[0m\u001b[0;34m.\u001b[0m\u001b[0mtrain\u001b[0m\u001b[0;34m(\u001b[0m\u001b[0mtrain_dataset\u001b[0m\u001b[0;34m,\u001b[0m \u001b[0mnum_epochs\u001b[0m\u001b[0;34m=\u001b[0m\u001b[0;36m3\u001b[0m\u001b[0;34m)\u001b[0m\u001b[0;34m\u001b[0m\u001b[0;34m\u001b[0m\u001b[0m\n\u001b[0m\u001b[1;32m    128\u001b[0m \u001b[0;34m\u001b[0m\u001b[0m\n\u001b[1;32m    129\u001b[0m \u001b[0;34m\u001b[0m\u001b[0m\n",
      "\u001b[0;32m~/notebooks/GAN with kernel/kernel_GAN/online_kernel_classifier.py\u001b[0m in \u001b[0;36mtrain\u001b[0;34m(self, train_loader, test_loader, num_epochs)\u001b[0m\n\u001b[1;32m     95\u001b[0m             \u001b[0;32mfor\u001b[0m \u001b[0mbatch_idx\u001b[0m\u001b[0;34m,\u001b[0m \u001b[0;34m(\u001b[0m\u001b[0mdata\u001b[0m\u001b[0;34m,\u001b[0m \u001b[0mtarget\u001b[0m\u001b[0;34m)\u001b[0m \u001b[0;32min\u001b[0m \u001b[0menumerate\u001b[0m\u001b[0;34m(\u001b[0m\u001b[0mtrain_loader\u001b[0m\u001b[0;34m)\u001b[0m\u001b[0;34m:\u001b[0m\u001b[0;34m\u001b[0m\u001b[0;34m\u001b[0m\u001b[0m\n\u001b[1;32m     96\u001b[0m                 \u001b[0mdata\u001b[0m\u001b[0;34m,\u001b[0m \u001b[0mtarget\u001b[0m \u001b[0;34m=\u001b[0m \u001b[0mdata\u001b[0m\u001b[0;34m.\u001b[0m\u001b[0mto\u001b[0m\u001b[0;34m(\u001b[0m\u001b[0mself\u001b[0m\u001b[0;34m.\u001b[0m\u001b[0mdevice\u001b[0m\u001b[0;34m)\u001b[0m\u001b[0;34m,\u001b[0m \u001b[0mtarget\u001b[0m\u001b[0;34m.\u001b[0m\u001b[0mto\u001b[0m\u001b[0;34m(\u001b[0m\u001b[0mself\u001b[0m\u001b[0;34m.\u001b[0m\u001b[0mdevice\u001b[0m\u001b[0;34m)\u001b[0m\u001b[0;34m.\u001b[0m\u001b[0mlong\u001b[0m\u001b[0;34m(\u001b[0m\u001b[0;34m)\u001b[0m\u001b[0;34m\u001b[0m\u001b[0;34m\u001b[0m\u001b[0m\n\u001b[0;32m---> 97\u001b[0;31m                 \u001b[0mself\u001b[0m\u001b[0;34m.\u001b[0m\u001b[0mupdate\u001b[0m\u001b[0;34m(\u001b[0m\u001b[0mdata\u001b[0m\u001b[0;34m,\u001b[0m\u001b[0mtarget\u001b[0m\u001b[0;34m)\u001b[0m\u001b[0;34m\u001b[0m\u001b[0;34m\u001b[0m\u001b[0m\n\u001b[0m\u001b[1;32m     98\u001b[0m                 '''\n\u001b[1;32m     99\u001b[0m                 \u001b[0;32mif\u001b[0m \u001b[0mbatch_idx\u001b[0m \u001b[0;34m%\u001b[0m \u001b[0mlog_interval\u001b[0m \u001b[0;34m==\u001b[0m \u001b[0;36m0\u001b[0m\u001b[0;34m:\u001b[0m\u001b[0;34m\u001b[0m\u001b[0;34m\u001b[0m\u001b[0m\n",
      "\u001b[0;32m~/notebooks/GAN with kernel/kernel_GAN/online_kernel_classifier.py\u001b[0m in \u001b[0;36mupdate\u001b[0;34m(self, X, Y, verbose)\u001b[0m\n\u001b[1;32m    152\u001b[0m             \u001b[0mnewkeypoints\u001b[0m \u001b[0;34m=\u001b[0m \u001b[0mX\u001b[0m\u001b[0;34m\u001b[0m\u001b[0;34m\u001b[0m\u001b[0m\n\u001b[1;32m    153\u001b[0m \u001b[0;34m\u001b[0m\u001b[0m\n\u001b[0;32m--> 154\u001b[0;31m             \u001b[0mself\u001b[0m\u001b[0;34m.\u001b[0m\u001b[0moffset\u001b[0m \u001b[0;34m+=\u001b[0m \u001b[0mself\u001b[0m\u001b[0;34m.\u001b[0m\u001b[0meta\u001b[0m \u001b[0;34m*\u001b[0m \u001b[0;34m(\u001b[0m\u001b[0mY\u001b[0m \u001b[0;34m*\u001b[0m \u001b[0mtorch\u001b[0m\u001b[0;34m.\u001b[0m\u001b[0mexp\u001b[0m\u001b[0;34m(\u001b[0m\u001b[0;34m-\u001b[0m\u001b[0mfuncvals\u001b[0m\u001b[0;34m*\u001b[0m\u001b[0mY\u001b[0m\u001b[0;34m)\u001b[0m \u001b[0;34m/\u001b[0m \u001b[0;34m(\u001b[0m\u001b[0;36m1\u001b[0m \u001b[0;34m+\u001b[0m \u001b[0mtorch\u001b[0m\u001b[0;34m.\u001b[0m\u001b[0mexp\u001b[0m\u001b[0;34m(\u001b[0m\u001b[0;34m-\u001b[0m\u001b[0mfuncvals\u001b[0m\u001b[0;34m*\u001b[0m\u001b[0mY\u001b[0m\u001b[0;34m)\u001b[0m\u001b[0;34m)\u001b[0m\u001b[0;34m)\u001b[0m\u001b[0;34m.\u001b[0m\u001b[0mmean\u001b[0m\u001b[0;34m(\u001b[0m\u001b[0;34m)\u001b[0m\u001b[0;34m\u001b[0m\u001b[0;34m\u001b[0m\u001b[0m\n\u001b[0m\u001b[1;32m    155\u001b[0m             \u001b[0;31m#self.offset += self.eta * ((Y + 1)/2 - self.predict_proba(X)).mean()\u001b[0m\u001b[0;34m\u001b[0m\u001b[0;34m\u001b[0m\u001b[0;34m\u001b[0m\u001b[0m\n\u001b[1;32m    156\u001b[0m \u001b[0;34m\u001b[0m\u001b[0m\n",
      "\u001b[0;31mKeyboardInterrupt\u001b[0m: "
     ]
    }
   ],
   "source": [
    "gan_mnist = Online_Kernel_GAN(kernel='gaussian', lr=0.0002, gamma=0.1, gamma_ratio=1.0, g_steps=1, num_epochs=200, batch_size=200, img_size=img_size, data=data_mnist, data_type='mnist', model_type='VGAN')\n",
    "gan_mnist.train_GAN()"
   ]
  },
  {
   "cell_type": "code",
   "execution_count": null,
   "metadata": {},
   "outputs": [],
   "source": []
  }
 ],
 "metadata": {
  "kernelspec": {
   "display_name": "py37_pytorch",
   "language": "python",
   "name": "conda-env-py37_pytorch-py"
  }
 },
 "nbformat": 4,
 "nbformat_minor": 4
}
