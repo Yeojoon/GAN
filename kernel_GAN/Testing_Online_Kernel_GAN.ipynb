{
 "cells": [
  {
   "cell_type": "code",
   "execution_count": 1,
   "metadata": {},
   "outputs": [],
   "source": [
    "from data.gaussianGridDataset import gaussianGridDataset\n",
    "from Online_Kernel_GAN import Online_Kernel_GAN"
   ]
  },
  {
   "cell_type": "markdown",
   "metadata": {},
   "source": [
    "# Let's make a gaussian 2d grid dataset"
   ]
  },
  {
   "cell_type": "code",
   "execution_count": null,
   "metadata": {},
   "outputs": [],
   "source": [
    "data_config = {\n",
    "            'num_grid':5,\n",
    "            'n_data':100,\n",
    "            'sigma':0.05\n",
    "        }\n",
    "data_gaussiangrid = gaussianGridDataset(n=data_config['num_grid'], n_data=data_config['n_data'], sig=data_config['sigma'])"
   ]
  },
  {
   "cell_type": "markdown",
   "metadata": {},
   "source": [
    "# Let's create and train the GAN on this dataset\n",
    "\n",
    "We fix the gamma value as 0.5. We can observe that the GAN with the online kernel classifier learns a gaussian 2d grid distribution. However, the performance of this GAN is worse than that of GAN with kernel SVM. All images are saved in 'out_image/out_gaussian2d_online_kernel'."
   ]
  },
  {
   "cell_type": "code",
   "execution_count": null,
   "metadata": {},
   "outputs": [],
   "source": [
    "gan_gaussian2d = Online_Kernel_GAN(gamma=0.5, gamma_ratio=1, budget=4096, num_epochs=1000, n_data=data_config['n_data'], data=data_gaussiangrid)\n",
    "gan_gaussian2d.train_GAN()"
   ]
  },
  {
   "cell_type": "markdown",
   "metadata": {},
   "source": [
    "# Now let's play with the MNIST dataset"
   ]
  },
  {
   "cell_type": "code",
   "execution_count": 3,
   "metadata": {},
   "outputs": [],
   "source": [
    "from torchvision import transforms, datasets\n",
    "\n",
    "img_size = 28\n",
    "\n",
    "def mnist_data():\n",
    "    compose = transforms.Compose(\n",
    "        [transforms.Resize(img_size),\n",
    "         transforms.ToTensor(),\n",
    "         transforms.Normalize((.5,), (.5,))\n",
    "        ])\n",
    "    out_dir = 'data'\n",
    "    return datasets.MNIST(root=out_dir, train=True, transform=compose, download=True)\n",
    "\n",
    "data_mnist = mnist_data()"
   ]
  },
  {
   "cell_type": "markdown",
   "metadata": {},
   "source": [
    "# Performance on MNIST\n",
    "\n",
    "In this experiment, we use a polynomial kernel and fix the gamma value as 1/784. All images are saved in 'out_image/out_mnist_online_kernel'. There is an error when we try to change the model into \"DCGAN\". If a budget constraint of the online kernel classifier is large, the online kernel classifier shows high accuracy on a binary classification task of MNIST."
   ]
  },
  {
   "cell_type": "code",
   "execution_count": 4,
   "metadata": {},
   "outputs": [
    {
     "name": "stderr",
     "output_type": "stream",
     "text": [
      "100%|██████████| 300/300 [00:36<00:00,  8.19it/s]\n"
     ]
    },
    {
     "name": "stdout",
     "output_type": "stream",
     "text": [
      "spent time for epoch 0 is 36.67490530014038s\n",
      "epoch # : 0 gamma : 0.0012755102040816326 gen loss : 1.2916618585586548\n"
     ]
    },
    {
     "name": "stderr",
     "output_type": "stream",
     "text": [
      "100%|██████████| 300/300 [00:36<00:00,  8.23it/s]\n"
     ]
    },
    {
     "name": "stdout",
     "output_type": "stream",
     "text": [
      "spent time for epoch 1 is 36.474374294281006s\n",
      "epoch # : 1 gamma : 0.0012755102040816326 gen loss : 1.4777761697769165\n"
     ]
    },
    {
     "name": "stderr",
     "output_type": "stream",
     "text": [
      "100%|██████████| 300/300 [00:36<00:00,  8.22it/s]\n"
     ]
    },
    {
     "name": "stdout",
     "output_type": "stream",
     "text": [
      "spent time for epoch 2 is 36.54336667060852s\n",
      "epoch # : 2 gamma : 0.0012755102040816326 gen loss : 1.2562743425369263\n"
     ]
    },
    {
     "name": "stderr",
     "output_type": "stream",
     "text": [
      "100%|██████████| 300/300 [00:36<00:00,  8.19it/s]\n"
     ]
    },
    {
     "name": "stdout",
     "output_type": "stream",
     "text": [
      "spent time for epoch 3 is 36.65711736679077s\n",
      "epoch # : 3 gamma : 0.0012755102040816326 gen loss : 1.2878859043121338\n"
     ]
    },
    {
     "name": "stderr",
     "output_type": "stream",
     "text": [
      "100%|██████████| 300/300 [00:36<00:00,  8.22it/s]\n"
     ]
    },
    {
     "name": "stdout",
     "output_type": "stream",
     "text": [
      "spent time for epoch 4 is 36.538832664489746s\n",
      "epoch # : 4 gamma : 0.0012755102040816326 gen loss : 1.231244444847107\n"
     ]
    },
    {
     "name": "stderr",
     "output_type": "stream",
     "text": [
      "100%|██████████| 300/300 [00:36<00:00,  8.17it/s]\n"
     ]
    },
    {
     "name": "stdout",
     "output_type": "stream",
     "text": [
      "spent time for epoch 5 is 36.78116416931152s\n",
      "epoch # : 5 gamma : 0.0012755102040816326 gen loss : 1.1283481121063232\n"
     ]
    },
    {
     "name": "stderr",
     "output_type": "stream",
     "text": [
      "100%|██████████| 300/300 [00:36<00:00,  8.12it/s]\n"
     ]
    },
    {
     "name": "stdout",
     "output_type": "stream",
     "text": [
      "spent time for epoch 6 is 36.976699113845825s\n",
      "epoch # : 6 gamma : 0.0012755102040816326 gen loss : 1.166632890701294\n"
     ]
    },
    {
     "name": "stderr",
     "output_type": "stream",
     "text": [
      "100%|██████████| 300/300 [00:36<00:00,  8.14it/s]\n"
     ]
    },
    {
     "name": "stdout",
     "output_type": "stream",
     "text": [
      "spent time for epoch 7 is 36.87415289878845s\n",
      "epoch # : 7 gamma : 0.0012755102040816326 gen loss : 1.2624211311340332\n"
     ]
    },
    {
     "name": "stderr",
     "output_type": "stream",
     "text": [
      "100%|██████████| 300/300 [00:36<00:00,  8.14it/s]\n"
     ]
    },
    {
     "name": "stdout",
     "output_type": "stream",
     "text": [
      "spent time for epoch 8 is 36.910910844802856s\n",
      "epoch # : 8 gamma : 0.0012755102040816326 gen loss : 1.1971967220306396\n"
     ]
    },
    {
     "name": "stderr",
     "output_type": "stream",
     "text": [
      "100%|██████████| 300/300 [00:36<00:00,  8.14it/s]\n"
     ]
    },
    {
     "name": "stdout",
     "output_type": "stream",
     "text": [
      "spent time for epoch 9 is 36.867130517959595s\n",
      "epoch # : 9 gamma : 0.0012755102040816326 gen loss : 1.2260706424713135\n"
     ]
    },
    {
     "name": "stderr",
     "output_type": "stream",
     "text": [
      "100%|██████████| 300/300 [00:36<00:00,  8.12it/s]\n"
     ]
    },
    {
     "name": "stdout",
     "output_type": "stream",
     "text": [
      "spent time for epoch 10 is 36.982208013534546s\n",
      "epoch # : 10 gamma : 0.0012755102040816326 gen loss : 1.1842418909072876\n"
     ]
    },
    {
     "name": "stderr",
     "output_type": "stream",
     "text": [
      "100%|██████████| 300/300 [00:37<00:00,  7.91it/s]\n"
     ]
    },
    {
     "name": "stdout",
     "output_type": "stream",
     "text": [
      "spent time for epoch 11 is 37.94771718978882s\n",
      "epoch # : 11 gamma : 0.0012755102040816326 gen loss : 1.1461313962936401\n"
     ]
    },
    {
     "name": "stderr",
     "output_type": "stream",
     "text": [
      "100%|██████████| 300/300 [00:37<00:00,  8.11it/s]\n"
     ]
    },
    {
     "name": "stdout",
     "output_type": "stream",
     "text": [
      "spent time for epoch 12 is 37.044416427612305s\n",
      "epoch # : 12 gamma : 0.0012755102040816326 gen loss : 1.2000963687896729\n"
     ]
    },
    {
     "name": "stderr",
     "output_type": "stream",
     "text": [
      "100%|██████████| 300/300 [00:39<00:00,  7.59it/s]\n"
     ]
    },
    {
     "name": "stdout",
     "output_type": "stream",
     "text": [
      "spent time for epoch 13 is 39.51510453224182s\n",
      "epoch # : 13 gamma : 0.0012755102040816326 gen loss : 1.1283206939697266\n"
     ]
    },
    {
     "name": "stderr",
     "output_type": "stream",
     "text": [
      "100%|██████████| 300/300 [00:36<00:00,  8.18it/s]\n"
     ]
    },
    {
     "name": "stdout",
     "output_type": "stream",
     "text": [
      "spent time for epoch 14 is 36.73474168777466s\n",
      "epoch # : 14 gamma : 0.0012755102040816326 gen loss : 1.158463716506958\n"
     ]
    },
    {
     "name": "stderr",
     "output_type": "stream",
     "text": [
      "100%|██████████| 300/300 [00:36<00:00,  8.21it/s]\n"
     ]
    },
    {
     "name": "stdout",
     "output_type": "stream",
     "text": [
      "spent time for epoch 15 is 36.533347606658936s\n",
      "epoch # : 15 gamma : 0.0012755102040816326 gen loss : 1.1496074199676514\n"
     ]
    },
    {
     "name": "stderr",
     "output_type": "stream",
     "text": [
      "100%|██████████| 300/300 [00:36<00:00,  8.29it/s]\n"
     ]
    },
    {
     "name": "stdout",
     "output_type": "stream",
     "text": [
      "spent time for epoch 16 is 36.237937450408936s\n",
      "epoch # : 16 gamma : 0.0012755102040816326 gen loss : 1.138132095336914\n"
     ]
    },
    {
     "name": "stderr",
     "output_type": "stream",
     "text": [
      "100%|██████████| 300/300 [00:36<00:00,  8.18it/s]\n"
     ]
    },
    {
     "name": "stdout",
     "output_type": "stream",
     "text": [
      "spent time for epoch 17 is 36.70999455451965s\n",
      "epoch # : 17 gamma : 0.0012755102040816326 gen loss : 1.1626636981964111\n"
     ]
    },
    {
     "name": "stderr",
     "output_type": "stream",
     "text": [
      "100%|██████████| 300/300 [00:36<00:00,  8.17it/s]\n"
     ]
    },
    {
     "name": "stdout",
     "output_type": "stream",
     "text": [
      "spent time for epoch 18 is 36.74817633628845s\n",
      "epoch # : 18 gamma : 0.0012755102040816326 gen loss : 1.1291464567184448\n"
     ]
    },
    {
     "name": "stderr",
     "output_type": "stream",
     "text": [
      "100%|██████████| 300/300 [00:36<00:00,  8.16it/s]\n"
     ]
    },
    {
     "name": "stdout",
     "output_type": "stream",
     "text": [
      "spent time for epoch 19 is 36.807743072509766s\n",
      "epoch # : 19 gamma : 0.0012755102040816326 gen loss : 1.241397500038147\n"
     ]
    },
    {
     "name": "stderr",
     "output_type": "stream",
     "text": [
      "100%|██████████| 300/300 [00:36<00:00,  8.17it/s]\n"
     ]
    },
    {
     "name": "stdout",
     "output_type": "stream",
     "text": [
      "spent time for epoch 20 is 36.753933906555176s\n",
      "epoch # : 20 gamma : 0.0012755102040816326 gen loss : 1.138922095298767\n"
     ]
    },
    {
     "name": "stderr",
     "output_type": "stream",
     "text": [
      "100%|██████████| 300/300 [00:36<00:00,  8.15it/s]\n"
     ]
    },
    {
     "name": "stdout",
     "output_type": "stream",
     "text": [
      "spent time for epoch 21 is 36.83903765678406s\n",
      "epoch # : 21 gamma : 0.0012755102040816326 gen loss : 1.1605626344680786\n"
     ]
    },
    {
     "name": "stderr",
     "output_type": "stream",
     "text": [
      "100%|██████████| 300/300 [00:36<00:00,  8.17it/s]\n"
     ]
    },
    {
     "name": "stdout",
     "output_type": "stream",
     "text": [
      "spent time for epoch 22 is 36.74310803413391s\n",
      "epoch # : 22 gamma : 0.0012755102040816326 gen loss : 1.1830024719238281\n"
     ]
    },
    {
     "name": "stderr",
     "output_type": "stream",
     "text": [
      "100%|██████████| 300/300 [00:36<00:00,  8.20it/s]\n"
     ]
    },
    {
     "name": "stdout",
     "output_type": "stream",
     "text": [
      "spent time for epoch 23 is 36.64498567581177s\n",
      "epoch # : 23 gamma : 0.0012755102040816326 gen loss : 1.10975182056427\n"
     ]
    },
    {
     "name": "stderr",
     "output_type": "stream",
     "text": [
      "100%|██████████| 300/300 [00:36<00:00,  8.17it/s]\n"
     ]
    },
    {
     "name": "stdout",
     "output_type": "stream",
     "text": [
      "spent time for epoch 24 is 36.71036505699158s\n",
      "epoch # : 24 gamma : 0.0012755102040816326 gen loss : 1.0251195430755615\n"
     ]
    },
    {
     "name": "stderr",
     "output_type": "stream",
     "text": [
      "100%|██████████| 300/300 [00:36<00:00,  8.19it/s]\n"
     ]
    },
    {
     "name": "stdout",
     "output_type": "stream",
     "text": [
      "spent time for epoch 25 is 36.65599298477173s\n",
      "epoch # : 25 gamma : 0.0012755102040816326 gen loss : 1.083205223083496\n"
     ]
    },
    {
     "name": "stderr",
     "output_type": "stream",
     "text": [
      "100%|██████████| 300/300 [00:36<00:00,  8.20it/s]\n"
     ]
    },
    {
     "name": "stdout",
     "output_type": "stream",
     "text": [
      "spent time for epoch 26 is 36.57719373703003s\n",
      "epoch # : 26 gamma : 0.0012755102040816326 gen loss : 1.0913788080215454\n"
     ]
    },
    {
     "name": "stderr",
     "output_type": "stream",
     "text": [
      "100%|██████████| 300/300 [00:36<00:00,  8.18it/s]\n"
     ]
    },
    {
     "name": "stdout",
     "output_type": "stream",
     "text": [
      "spent time for epoch 27 is 36.70278215408325s\n",
      "epoch # : 27 gamma : 0.0012755102040816326 gen loss : 1.065870761871338\n"
     ]
    },
    {
     "name": "stderr",
     "output_type": "stream",
     "text": [
      "100%|██████████| 300/300 [00:36<00:00,  8.25it/s]\n"
     ]
    },
    {
     "name": "stdout",
     "output_type": "stream",
     "text": [
      "spent time for epoch 28 is 36.41852569580078s\n",
      "epoch # : 28 gamma : 0.0012755102040816326 gen loss : 1.0229088068008423\n"
     ]
    },
    {
     "name": "stderr",
     "output_type": "stream",
     "text": [
      "100%|██████████| 300/300 [00:36<00:00,  8.28it/s]\n"
     ]
    },
    {
     "name": "stdout",
     "output_type": "stream",
     "text": [
      "spent time for epoch 29 is 36.27836847305298s\n",
      "epoch # : 29 gamma : 0.0012755102040816326 gen loss : 1.180022120475769\n"
     ]
    },
    {
     "name": "stderr",
     "output_type": "stream",
     "text": [
      "100%|██████████| 300/300 [00:36<00:00,  8.16it/s]\n"
     ]
    },
    {
     "name": "stdout",
     "output_type": "stream",
     "text": [
      "spent time for epoch 30 is 36.788421869277954s\n",
      "epoch # : 30 gamma : 0.0012755102040816326 gen loss : 1.0587480068206787\n"
     ]
    },
    {
     "name": "stderr",
     "output_type": "stream",
     "text": [
      "100%|██████████| 300/300 [00:38<00:00,  7.84it/s]\n"
     ]
    },
    {
     "name": "stdout",
     "output_type": "stream",
     "text": [
      "spent time for epoch 31 is 38.294806718826294s\n",
      "epoch # : 31 gamma : 0.0012755102040816326 gen loss : 1.162490725517273\n"
     ]
    },
    {
     "name": "stderr",
     "output_type": "stream",
     "text": [
      "100%|██████████| 300/300 [00:39<00:00,  7.51it/s]\n"
     ]
    },
    {
     "name": "stdout",
     "output_type": "stream",
     "text": [
      "spent time for epoch 32 is 39.979034185409546s\n",
      "epoch # : 32 gamma : 0.0012755102040816326 gen loss : 1.1175564527511597\n"
     ]
    },
    {
     "name": "stderr",
     "output_type": "stream",
     "text": [
      "100%|██████████| 300/300 [00:38<00:00,  7.76it/s]\n"
     ]
    },
    {
     "name": "stdout",
     "output_type": "stream",
     "text": [
      "spent time for epoch 33 is 38.689143896102905s\n",
      "epoch # : 33 gamma : 0.0012755102040816326 gen loss : 1.0766745805740356\n"
     ]
    },
    {
     "name": "stderr",
     "output_type": "stream",
     "text": [
      "100%|██████████| 300/300 [00:37<00:00,  8.03it/s]\n"
     ]
    },
    {
     "name": "stdout",
     "output_type": "stream",
     "text": [
      "spent time for epoch 34 is 37.401346921920776s\n",
      "epoch # : 34 gamma : 0.0012755102040816326 gen loss : 1.1059948205947876\n"
     ]
    },
    {
     "name": "stderr",
     "output_type": "stream",
     "text": [
      "100%|██████████| 300/300 [00:36<00:00,  8.21it/s]\n"
     ]
    },
    {
     "name": "stdout",
     "output_type": "stream",
     "text": [
      "spent time for epoch 35 is 36.59330105781555s\n",
      "epoch # : 35 gamma : 0.0012755102040816326 gen loss : 1.057778239250183\n"
     ]
    },
    {
     "name": "stderr",
     "output_type": "stream",
     "text": [
      "100%|██████████| 300/300 [00:36<00:00,  8.27it/s]\n"
     ]
    },
    {
     "name": "stdout",
     "output_type": "stream",
     "text": [
      "spent time for epoch 36 is 36.33793830871582s\n",
      "epoch # : 36 gamma : 0.0012755102040816326 gen loss : 1.1688849925994873\n"
     ]
    },
    {
     "name": "stderr",
     "output_type": "stream",
     "text": [
      "100%|██████████| 300/300 [00:36<00:00,  8.24it/s]\n"
     ]
    },
    {
     "name": "stdout",
     "output_type": "stream",
     "text": [
      "spent time for epoch 37 is 36.42806792259216s\n",
      "epoch # : 37 gamma : 0.0012755102040816326 gen loss : 1.0787216424942017\n"
     ]
    },
    {
     "name": "stderr",
     "output_type": "stream",
     "text": [
      "100%|██████████| 300/300 [00:36<00:00,  8.26it/s]\n"
     ]
    },
    {
     "name": "stdout",
     "output_type": "stream",
     "text": [
      "spent time for epoch 38 is 36.35776352882385s\n",
      "epoch # : 38 gamma : 0.0012755102040816326 gen loss : 1.035994291305542\n"
     ]
    },
    {
     "name": "stderr",
     "output_type": "stream",
     "text": [
      "100%|██████████| 300/300 [00:36<00:00,  8.26it/s]\n"
     ]
    },
    {
     "name": "stdout",
     "output_type": "stream",
     "text": [
      "spent time for epoch 39 is 36.37878346443176s\n",
      "epoch # : 39 gamma : 0.0012755102040816326 gen loss : 1.081771731376648\n"
     ]
    },
    {
     "name": "stderr",
     "output_type": "stream",
     "text": [
      "100%|██████████| 300/300 [00:36<00:00,  8.20it/s]\n"
     ]
    },
    {
     "name": "stdout",
     "output_type": "stream",
     "text": [
      "spent time for epoch 40 is 36.606364488601685s\n",
      "epoch # : 40 gamma : 0.0012755102040816326 gen loss : 1.1111762523651123\n"
     ]
    },
    {
     "name": "stderr",
     "output_type": "stream",
     "text": [
      "100%|██████████| 300/300 [00:37<00:00,  8.08it/s]\n"
     ]
    },
    {
     "name": "stdout",
     "output_type": "stream",
     "text": [
      "spent time for epoch 41 is 37.15401816368103s\n",
      "epoch # : 41 gamma : 0.0012755102040816326 gen loss : 1.0833288431167603\n"
     ]
    },
    {
     "name": "stderr",
     "output_type": "stream",
     "text": [
      "100%|██████████| 300/300 [00:36<00:00,  8.22it/s]\n"
     ]
    },
    {
     "name": "stdout",
     "output_type": "stream",
     "text": [
      "spent time for epoch 42 is 36.55874180793762s\n",
      "epoch # : 42 gamma : 0.0012755102040816326 gen loss : 1.0407154560089111\n"
     ]
    },
    {
     "name": "stderr",
     "output_type": "stream",
     "text": [
      " 18%|█▊        | 55/300 [00:06<00:29,  8.22it/s]IOPub message rate exceeded.\n",
      "The notebook server will temporarily stop sending output\n",
      "to the client in order to avoid crashing it.\n",
      "To change this limit, set the config variable\n",
      "`--NotebookApp.iopub_msg_rate_limit`.\n",
      "\n",
      "Current values:\n",
      "NotebookApp.iopub_msg_rate_limit=1000.0 (msgs/sec)\n",
      "NotebookApp.rate_limit_window=3.0 (secs)\n",
      "\n",
      "100%|██████████| 300/300 [00:37<00:00,  8.04it/s]\n"
     ]
    },
    {
     "name": "stdout",
     "output_type": "stream",
     "text": [
      "spent time for epoch 63 is 37.3071665763855s\n",
      "epoch # : 63 gamma : 0.0012755102040816326 gen loss : 1.044061541557312\n"
     ]
    },
    {
     "name": "stderr",
     "output_type": "stream",
     "text": [
      "100%|██████████| 300/300 [00:36<00:00,  8.26it/s]\n"
     ]
    },
    {
     "name": "stdout",
     "output_type": "stream",
     "text": [
      "spent time for epoch 64 is 36.32454252243042s\n",
      "epoch # : 64 gamma : 0.0012755102040816326 gen loss : 1.0086325407028198\n"
     ]
    },
    {
     "name": "stderr",
     "output_type": "stream",
     "text": [
      "100%|██████████| 300/300 [00:36<00:00,  8.23it/s]\n"
     ]
    },
    {
     "name": "stdout",
     "output_type": "stream",
     "text": [
      "spent time for epoch 65 is 36.44087815284729s\n",
      "epoch # : 65 gamma : 0.0012755102040816326 gen loss : 0.9859360456466675\n"
     ]
    },
    {
     "name": "stderr",
     "output_type": "stream",
     "text": [
      "100%|██████████| 300/300 [00:36<00:00,  8.32it/s]\n"
     ]
    },
    {
     "name": "stdout",
     "output_type": "stream",
     "text": [
      "spent time for epoch 66 is 36.073670864105225s\n",
      "epoch # : 66 gamma : 0.0012755102040816326 gen loss : 1.0507606267929077\n"
     ]
    },
    {
     "name": "stderr",
     "output_type": "stream",
     "text": [
      "100%|██████████| 300/300 [00:36<00:00,  8.30it/s]\n"
     ]
    },
    {
     "name": "stdout",
     "output_type": "stream",
     "text": [
      "spent time for epoch 67 is 36.17202162742615s\n",
      "epoch # : 67 gamma : 0.0012755102040816326 gen loss : 1.0944387912750244\n"
     ]
    },
    {
     "name": "stderr",
     "output_type": "stream",
     "text": [
      "100%|██████████| 300/300 [00:35<00:00,  8.38it/s]\n"
     ]
    },
    {
     "name": "stdout",
     "output_type": "stream",
     "text": [
      "spent time for epoch 68 is 35.821595430374146s\n",
      "epoch # : 68 gamma : 0.0012755102040816326 gen loss : 1.0552756786346436\n"
     ]
    },
    {
     "name": "stderr",
     "output_type": "stream",
     "text": [
      "100%|██████████| 300/300 [00:35<00:00,  8.40it/s]\n"
     ]
    },
    {
     "name": "stdout",
     "output_type": "stream",
     "text": [
      "spent time for epoch 69 is 35.714837312698364s\n",
      "epoch # : 69 gamma : 0.0012755102040816326 gen loss : 1.0243842601776123\n"
     ]
    },
    {
     "name": "stderr",
     "output_type": "stream",
     "text": [
      "100%|██████████| 300/300 [00:35<00:00,  8.36it/s]\n"
     ]
    },
    {
     "name": "stdout",
     "output_type": "stream",
     "text": [
      "spent time for epoch 70 is 35.88420295715332s\n",
      "epoch # : 70 gamma : 0.0012755102040816326 gen loss : 0.9773266911506653\n"
     ]
    },
    {
     "name": "stderr",
     "output_type": "stream",
     "text": [
      "100%|██████████| 300/300 [00:35<00:00,  8.35it/s]\n"
     ]
    },
    {
     "name": "stdout",
     "output_type": "stream",
     "text": [
      "spent time for epoch 71 is 35.95269274711609s\n",
      "epoch # : 71 gamma : 0.0012755102040816326 gen loss : 1.074082612991333\n"
     ]
    },
    {
     "name": "stderr",
     "output_type": "stream",
     "text": [
      "100%|██████████| 300/300 [00:36<00:00,  8.31it/s]\n"
     ]
    },
    {
     "name": "stdout",
     "output_type": "stream",
     "text": [
      "spent time for epoch 72 is 36.13078546524048s\n",
      "epoch # : 72 gamma : 0.0012755102040816326 gen loss : 1.1054751873016357\n"
     ]
    },
    {
     "name": "stderr",
     "output_type": "stream",
     "text": [
      " 47%|████▋     | 141/300 [00:16<00:19,  8.25it/s]IOPub message rate exceeded.\n",
      "The notebook server will temporarily stop sending output\n",
      "to the client in order to avoid crashing it.\n",
      "To change this limit, set the config variable\n",
      "`--NotebookApp.iopub_msg_rate_limit`.\n",
      "\n",
      "Current values:\n",
      "NotebookApp.iopub_msg_rate_limit=1000.0 (msgs/sec)\n",
      "NotebookApp.rate_limit_window=3.0 (secs)\n",
      "\n",
      "100%|██████████| 300/300 [00:36<00:00,  8.16it/s]\n"
     ]
    },
    {
     "name": "stdout",
     "output_type": "stream",
     "text": [
      "spent time for epoch 93 is 36.75841760635376s\n",
      "epoch # : 93 gamma : 0.0012755102040816326 gen loss : 0.9681593179702759\n"
     ]
    },
    {
     "name": "stderr",
     "output_type": "stream",
     "text": [
      "100%|██████████| 300/300 [00:35<00:00,  8.40it/s]\n"
     ]
    },
    {
     "name": "stdout",
     "output_type": "stream",
     "text": [
      "spent time for epoch 94 is 35.73357963562012s\n",
      "epoch # : 94 gamma : 0.0012755102040816326 gen loss : 1.0491141080856323\n"
     ]
    },
    {
     "name": "stderr",
     "output_type": "stream",
     "text": [
      "100%|██████████| 300/300 [00:36<00:00,  8.21it/s]\n"
     ]
    },
    {
     "name": "stdout",
     "output_type": "stream",
     "text": [
      "spent time for epoch 95 is 36.53496551513672s\n",
      "epoch # : 95 gamma : 0.0012755102040816326 gen loss : 1.0967237949371338\n"
     ]
    },
    {
     "name": "stderr",
     "output_type": "stream",
     "text": [
      "100%|██████████| 300/300 [00:36<00:00,  8.31it/s]\n"
     ]
    },
    {
     "name": "stdout",
     "output_type": "stream",
     "text": [
      "spent time for epoch 96 is 36.12062978744507s\n",
      "epoch # : 96 gamma : 0.0012755102040816326 gen loss : 1.0169748067855835\n"
     ]
    },
    {
     "name": "stderr",
     "output_type": "stream",
     "text": [
      "100%|██████████| 300/300 [00:35<00:00,  8.35it/s]\n"
     ]
    },
    {
     "name": "stdout",
     "output_type": "stream",
     "text": [
      "spent time for epoch 97 is 35.95304203033447s\n",
      "epoch # : 97 gamma : 0.0012755102040816326 gen loss : 1.024031162261963\n"
     ]
    },
    {
     "name": "stderr",
     "output_type": "stream",
     "text": [
      "100%|██████████| 300/300 [00:36<00:00,  8.30it/s]\n"
     ]
    },
    {
     "name": "stdout",
     "output_type": "stream",
     "text": [
      "spent time for epoch 98 is 36.1404914855957s\n",
      "epoch # : 98 gamma : 0.0012755102040816326 gen loss : 0.9863246083259583\n"
     ]
    },
    {
     "name": "stderr",
     "output_type": "stream",
     "text": [
      "100%|██████████| 300/300 [00:37<00:00,  8.09it/s]\n"
     ]
    },
    {
     "name": "stdout",
     "output_type": "stream",
     "text": [
      "spent time for epoch 99 is 37.110899686813354s\n",
      "epoch # : 99 gamma : 0.0012755102040816326 gen loss : 1.0633502006530762\n"
     ]
    },
    {
     "name": "stderr",
     "output_type": "stream",
     "text": [
      "100%|██████████| 300/300 [00:36<00:00,  8.33it/s]\n"
     ]
    },
    {
     "name": "stdout",
     "output_type": "stream",
     "text": [
      "spent time for epoch 100 is 36.02723741531372s\n",
      "epoch # : 100 gamma : 0.0012755102040816326 gen loss : 1.0626333951950073\n"
     ]
    },
    {
     "name": "stderr",
     "output_type": "stream",
     "text": [
      "100%|██████████| 300/300 [00:35<00:00,  8.37it/s]\n"
     ]
    },
    {
     "name": "stdout",
     "output_type": "stream",
     "text": [
      "spent time for epoch 101 is 35.83045530319214s\n",
      "epoch # : 101 gamma : 0.0012755102040816326 gen loss : 0.9631989002227783\n"
     ]
    },
    {
     "name": "stderr",
     "output_type": "stream",
     "text": [
      "100%|██████████| 300/300 [00:35<00:00,  8.44it/s]\n"
     ]
    },
    {
     "name": "stdout",
     "output_type": "stream",
     "text": [
      "spent time for epoch 102 is 35.555362939834595s\n",
      "epoch # : 102 gamma : 0.0012755102040816326 gen loss : 1.1409580707550049\n"
     ]
    },
    {
     "name": "stderr",
     "output_type": "stream",
     "text": [
      " 55%|█████▌    | 165/300 [00:19<00:15,  8.46it/s]IOPub message rate exceeded.\n",
      "The notebook server will temporarily stop sending output\n",
      "to the client in order to avoid crashing it.\n",
      "To change this limit, set the config variable\n",
      "`--NotebookApp.iopub_msg_rate_limit`.\n",
      "\n",
      "Current values:\n",
      "NotebookApp.iopub_msg_rate_limit=1000.0 (msgs/sec)\n",
      "NotebookApp.rate_limit_window=3.0 (secs)\n",
      "\n",
      "100%|██████████| 300/300 [00:35<00:00,  8.44it/s]\n"
     ]
    },
    {
     "name": "stdout",
     "output_type": "stream",
     "text": [
      "spent time for epoch 116 is 35.57106804847717s\n",
      "epoch # : 116 gamma : 0.0012755102040816326 gen loss : 1.0269954204559326\n"
     ]
    },
    {
     "name": "stderr",
     "output_type": "stream",
     "text": [
      "100%|██████████| 300/300 [00:35<00:00,  8.40it/s]\n"
     ]
    },
    {
     "name": "stdout",
     "output_type": "stream",
     "text": [
      "spent time for epoch 117 is 35.73154902458191s\n",
      "epoch # : 117 gamma : 0.0012755102040816326 gen loss : 1.0667942762374878\n"
     ]
    },
    {
     "name": "stderr",
     "output_type": "stream",
     "text": [
      "100%|██████████| 300/300 [00:35<00:00,  8.41it/s]\n"
     ]
    },
    {
     "name": "stdout",
     "output_type": "stream",
     "text": [
      "spent time for epoch 118 is 35.685985803604126s\n",
      "epoch # : 118 gamma : 0.0012755102040816326 gen loss : 1.0601812601089478\n"
     ]
    },
    {
     "name": "stderr",
     "output_type": "stream",
     "text": [
      "100%|██████████| 300/300 [00:35<00:00,  8.44it/s]\n"
     ]
    },
    {
     "name": "stdout",
     "output_type": "stream",
     "text": [
      "spent time for epoch 119 is 35.57346057891846s\n",
      "epoch # : 119 gamma : 0.0012755102040816326 gen loss : 1.0669541358947754\n"
     ]
    },
    {
     "name": "stderr",
     "output_type": "stream",
     "text": [
      "100%|██████████| 300/300 [00:35<00:00,  8.39it/s]\n"
     ]
    },
    {
     "name": "stdout",
     "output_type": "stream",
     "text": [
      "spent time for epoch 120 is 35.77683997154236s\n",
      "epoch # : 120 gamma : 0.0012755102040816326 gen loss : 0.986627459526062\n"
     ]
    },
    {
     "name": "stderr",
     "output_type": "stream",
     "text": [
      "100%|██████████| 300/300 [00:35<00:00,  8.34it/s]\n"
     ]
    },
    {
     "name": "stdout",
     "output_type": "stream",
     "text": [
      "spent time for epoch 121 is 35.98807168006897s\n",
      "epoch # : 121 gamma : 0.0012755102040816326 gen loss : 1.0631932020187378\n"
     ]
    },
    {
     "name": "stderr",
     "output_type": "stream",
     "text": [
      "100%|██████████| 300/300 [00:35<00:00,  8.34it/s]\n"
     ]
    },
    {
     "name": "stdout",
     "output_type": "stream",
     "text": [
      "spent time for epoch 122 is 35.99190831184387s\n",
      "epoch # : 122 gamma : 0.0012755102040816326 gen loss : 1.0061489343643188\n"
     ]
    },
    {
     "name": "stderr",
     "output_type": "stream",
     "text": [
      "100%|██████████| 300/300 [00:35<00:00,  8.40it/s]\n"
     ]
    },
    {
     "name": "stdout",
     "output_type": "stream",
     "text": [
      "spent time for epoch 123 is 35.73432540893555s\n",
      "epoch # : 123 gamma : 0.0012755102040816326 gen loss : 1.0348563194274902\n"
     ]
    },
    {
     "name": "stderr",
     "output_type": "stream",
     "text": [
      "100%|██████████| 300/300 [00:35<00:00,  8.45it/s]\n"
     ]
    },
    {
     "name": "stdout",
     "output_type": "stream",
     "text": [
      "spent time for epoch 124 is 35.53172993659973s\n",
      "epoch # : 124 gamma : 0.0012755102040816326 gen loss : 1.1219078302383423\n"
     ]
    },
    {
     "name": "stderr",
     "output_type": "stream",
     "text": [
      "100%|██████████| 300/300 [00:35<00:00,  8.42it/s]\n"
     ]
    },
    {
     "name": "stdout",
     "output_type": "stream",
     "text": [
      "spent time for epoch 125 is 35.616870641708374s\n",
      "epoch # : 125 gamma : 0.0012755102040816326 gen loss : 1.0215386152267456\n"
     ]
    },
    {
     "name": "stderr",
     "output_type": "stream",
     "text": [
      "100%|██████████| 300/300 [00:36<00:00,  8.21it/s]\n"
     ]
    },
    {
     "name": "stdout",
     "output_type": "stream",
     "text": [
      "spent time for epoch 126 is 36.5425488948822s\n",
      "epoch # : 126 gamma : 0.0012755102040816326 gen loss : 0.9963330030441284\n"
     ]
    },
    {
     "name": "stderr",
     "output_type": "stream",
     "text": [
      "100%|██████████| 300/300 [00:35<00:00,  8.37it/s]\n"
     ]
    },
    {
     "name": "stdout",
     "output_type": "stream",
     "text": [
      "spent time for epoch 127 is 35.84197402000427s\n",
      "epoch # : 127 gamma : 0.0012755102040816326 gen loss : 1.0143338441848755\n"
     ]
    },
    {
     "name": "stderr",
     "output_type": "stream",
     "text": [
      "100%|██████████| 300/300 [00:35<00:00,  8.44it/s]\n"
     ]
    },
    {
     "name": "stdout",
     "output_type": "stream",
     "text": [
      "spent time for epoch 128 is 35.56639051437378s\n",
      "epoch # : 128 gamma : 0.0012755102040816326 gen loss : 0.9560033082962036\n"
     ]
    },
    {
     "name": "stderr",
     "output_type": "stream",
     "text": [
      "100%|██████████| 300/300 [00:35<00:00,  8.44it/s]\n"
     ]
    },
    {
     "name": "stdout",
     "output_type": "stream",
     "text": [
      "spent time for epoch 129 is 35.56923723220825s\n",
      "epoch # : 129 gamma : 0.0012755102040816326 gen loss : 1.037448763847351\n"
     ]
    },
    {
     "name": "stderr",
     "output_type": "stream",
     "text": [
      "100%|██████████| 300/300 [00:35<00:00,  8.38it/s]\n"
     ]
    },
    {
     "name": "stdout",
     "output_type": "stream",
     "text": [
      "spent time for epoch 130 is 35.80756402015686s\n",
      "epoch # : 130 gamma : 0.0012755102040816326 gen loss : 0.9662553071975708\n"
     ]
    },
    {
     "name": "stderr",
     "output_type": "stream",
     "text": [
      "100%|██████████| 300/300 [00:36<00:00,  8.29it/s]\n"
     ]
    },
    {
     "name": "stdout",
     "output_type": "stream",
     "text": [
      "spent time for epoch 131 is 36.185502767562866s\n",
      "epoch # : 131 gamma : 0.0012755102040816326 gen loss : 1.051239013671875\n"
     ]
    },
    {
     "name": "stderr",
     "output_type": "stream",
     "text": [
      "100%|██████████| 300/300 [00:36<00:00,  8.33it/s]\n"
     ]
    },
    {
     "name": "stdout",
     "output_type": "stream",
     "text": [
      "spent time for epoch 132 is 36.038989305496216s\n",
      "epoch # : 132 gamma : 0.0012755102040816326 gen loss : 1.1186836957931519\n"
     ]
    },
    {
     "name": "stderr",
     "output_type": "stream",
     "text": [
      "100%|██████████| 300/300 [00:35<00:00,  8.34it/s]\n"
     ]
    },
    {
     "name": "stdout",
     "output_type": "stream",
     "text": [
      "spent time for epoch 133 is 35.992743253707886s\n",
      "epoch # : 133 gamma : 0.0012755102040816326 gen loss : 1.0665606260299683\n"
     ]
    },
    {
     "name": "stderr",
     "output_type": "stream",
     "text": [
      "100%|██████████| 300/300 [00:35<00:00,  8.34it/s]\n"
     ]
    },
    {
     "name": "stdout",
     "output_type": "stream",
     "text": [
      "spent time for epoch 134 is 35.98518943786621s\n",
      "epoch # : 134 gamma : 0.0012755102040816326 gen loss : 0.9898635745048523\n"
     ]
    },
    {
     "name": "stderr",
     "output_type": "stream",
     "text": [
      "100%|██████████| 300/300 [00:35<00:00,  8.41it/s]\n"
     ]
    },
    {
     "name": "stdout",
     "output_type": "stream",
     "text": [
      "spent time for epoch 135 is 35.660467863082886s\n",
      "epoch # : 135 gamma : 0.0012755102040816326 gen loss : 1.1269210577011108\n"
     ]
    },
    {
     "name": "stderr",
     "output_type": "stream",
     "text": [
      "100%|██████████| 300/300 [00:35<00:00,  8.38it/s]\n"
     ]
    },
    {
     "name": "stdout",
     "output_type": "stream",
     "text": [
      "spent time for epoch 136 is 35.81793761253357s\n",
      "epoch # : 136 gamma : 0.0012755102040816326 gen loss : 1.0426729917526245\n"
     ]
    },
    {
     "name": "stderr",
     "output_type": "stream",
     "text": [
      "100%|██████████| 300/300 [00:35<00:00,  8.37it/s]\n"
     ]
    },
    {
     "name": "stdout",
     "output_type": "stream",
     "text": [
      "spent time for epoch 137 is 35.84337139129639s\n",
      "epoch # : 137 gamma : 0.0012755102040816326 gen loss : 1.1163069009780884\n"
     ]
    },
    {
     "name": "stderr",
     "output_type": "stream",
     "text": [
      "100%|██████████| 300/300 [00:35<00:00,  8.39it/s]\n"
     ]
    },
    {
     "name": "stdout",
     "output_type": "stream",
     "text": [
      "spent time for epoch 138 is 35.782081604003906s\n",
      "epoch # : 138 gamma : 0.0012755102040816326 gen loss : 1.0133914947509766\n"
     ]
    },
    {
     "name": "stderr",
     "output_type": "stream",
     "text": [
      "100%|██████████| 300/300 [00:35<00:00,  8.38it/s]\n"
     ]
    },
    {
     "name": "stdout",
     "output_type": "stream",
     "text": [
      "spent time for epoch 139 is 35.79573845863342s\n",
      "epoch # : 139 gamma : 0.0012755102040816326 gen loss : 1.000620722770691\n"
     ]
    },
    {
     "name": "stderr",
     "output_type": "stream",
     "text": [
      "100%|██████████| 300/300 [00:35<00:00,  8.41it/s]\n"
     ]
    },
    {
     "name": "stdout",
     "output_type": "stream",
     "text": [
      "spent time for epoch 140 is 35.66354513168335s\n",
      "epoch # : 140 gamma : 0.0012755102040816326 gen loss : 1.0105295181274414\n"
     ]
    },
    {
     "name": "stderr",
     "output_type": "stream",
     "text": [
      "100%|██████████| 300/300 [00:35<00:00,  8.38it/s]\n"
     ]
    },
    {
     "name": "stdout",
     "output_type": "stream",
     "text": [
      "spent time for epoch 141 is 35.81940698623657s\n",
      "epoch # : 141 gamma : 0.0012755102040816326 gen loss : 0.9840129017829895\n"
     ]
    },
    {
     "name": "stderr",
     "output_type": "stream",
     "text": [
      "100%|██████████| 300/300 [00:37<00:00,  8.00it/s]\n"
     ]
    },
    {
     "name": "stdout",
     "output_type": "stream",
     "text": [
      "spent time for epoch 142 is 37.51042723655701s\n",
      "epoch # : 142 gamma : 0.0012755102040816326 gen loss : 0.969223141670227\n"
     ]
    },
    {
     "name": "stderr",
     "output_type": "stream",
     "text": [
      "100%|██████████| 300/300 [00:37<00:00,  7.96it/s]\n"
     ]
    },
    {
     "name": "stdout",
     "output_type": "stream",
     "text": [
      "spent time for epoch 143 is 37.6821653842926s\n",
      "epoch # : 143 gamma : 0.0012755102040816326 gen loss : 1.0693808794021606\n"
     ]
    },
    {
     "name": "stderr",
     "output_type": "stream",
     "text": [
      "100%|██████████| 300/300 [00:35<00:00,  8.33it/s]\n"
     ]
    },
    {
     "name": "stdout",
     "output_type": "stream",
     "text": [
      "spent time for epoch 144 is 36.00824522972107s\n",
      "epoch # : 144 gamma : 0.0012755102040816326 gen loss : 1.010521411895752\n"
     ]
    },
    {
     "name": "stderr",
     "output_type": "stream",
     "text": [
      "100%|██████████| 300/300 [00:35<00:00,  8.38it/s]\n"
     ]
    },
    {
     "name": "stdout",
     "output_type": "stream",
     "text": [
      "spent time for epoch 145 is 35.807740926742554s\n",
      "epoch # : 145 gamma : 0.0012755102040816326 gen loss : 0.9278309345245361\n"
     ]
    },
    {
     "name": "stderr",
     "output_type": "stream",
     "text": [
      "100%|██████████| 300/300 [00:35<00:00,  8.37it/s]\n"
     ]
    },
    {
     "name": "stdout",
     "output_type": "stream",
     "text": [
      "spent time for epoch 146 is 35.86544227600098s\n",
      "epoch # : 146 gamma : 0.0012755102040816326 gen loss : 1.0234763622283936\n"
     ]
    },
    {
     "name": "stderr",
     "output_type": "stream",
     "text": [
      "100%|██████████| 300/300 [00:35<00:00,  8.41it/s]\n"
     ]
    },
    {
     "name": "stdout",
     "output_type": "stream",
     "text": [
      "spent time for epoch 147 is 35.67108082771301s\n",
      "epoch # : 147 gamma : 0.0012755102040816326 gen loss : 1.0659263134002686\n"
     ]
    },
    {
     "name": "stderr",
     "output_type": "stream",
     "text": [
      "100%|██████████| 300/300 [00:35<00:00,  8.47it/s]\n"
     ]
    },
    {
     "name": "stdout",
     "output_type": "stream",
     "text": [
      "spent time for epoch 148 is 35.44509315490723s\n",
      "epoch # : 148 gamma : 0.0012755102040816326 gen loss : 0.9859228134155273\n"
     ]
    },
    {
     "name": "stderr",
     "output_type": "stream",
     "text": [
      "100%|██████████| 300/300 [00:35<00:00,  8.45it/s]\n"
     ]
    },
    {
     "name": "stdout",
     "output_type": "stream",
     "text": [
      "spent time for epoch 149 is 35.499226570129395s\n",
      "epoch # : 149 gamma : 0.0012755102040816326 gen loss : 1.112460732460022\n"
     ]
    },
    {
     "name": "stderr",
     "output_type": "stream",
     "text": [
      "100%|██████████| 300/300 [00:35<00:00,  8.45it/s]\n"
     ]
    },
    {
     "name": "stdout",
     "output_type": "stream",
     "text": [
      "spent time for epoch 150 is 35.50434422492981s\n",
      "epoch # : 150 gamma : 0.0012755102040816326 gen loss : 1.0062777996063232\n"
     ]
    },
    {
     "name": "stderr",
     "output_type": "stream",
     "text": [
      "100%|██████████| 300/300 [00:36<00:00,  8.33it/s]\n"
     ]
    },
    {
     "name": "stdout",
     "output_type": "stream",
     "text": [
      "spent time for epoch 151 is 36.03902268409729s\n",
      "epoch # : 151 gamma : 0.0012755102040816326 gen loss : 1.058221697807312\n"
     ]
    },
    {
     "name": "stderr",
     "output_type": "stream",
     "text": [
      "100%|██████████| 300/300 [00:39<00:00,  7.64it/s]\n"
     ]
    },
    {
     "name": "stdout",
     "output_type": "stream",
     "text": [
      "spent time for epoch 152 is 39.297539710998535s\n",
      "epoch # : 152 gamma : 0.0012755102040816326 gen loss : 1.0468543767929077\n"
     ]
    },
    {
     "name": "stderr",
     "output_type": "stream",
     "text": [
      "100%|██████████| 300/300 [00:38<00:00,  7.80it/s]\n"
     ]
    },
    {
     "name": "stdout",
     "output_type": "stream",
     "text": [
      "spent time for epoch 153 is 38.476725816726685s\n",
      "epoch # : 153 gamma : 0.0012755102040816326 gen loss : 0.9658591151237488\n"
     ]
    },
    {
     "name": "stderr",
     "output_type": "stream",
     "text": [
      "100%|██████████| 300/300 [00:38<00:00,  7.80it/s]\n"
     ]
    },
    {
     "name": "stdout",
     "output_type": "stream",
     "text": [
      "spent time for epoch 154 is 38.491074085235596s\n",
      "epoch # : 154 gamma : 0.0012755102040816326 gen loss : 1.0448471307754517\n"
     ]
    },
    {
     "name": "stderr",
     "output_type": "stream",
     "text": [
      "100%|██████████| 300/300 [00:36<00:00,  8.32it/s]\n"
     ]
    },
    {
     "name": "stdout",
     "output_type": "stream",
     "text": [
      "spent time for epoch 155 is 36.06685972213745s\n",
      "epoch # : 155 gamma : 0.0012755102040816326 gen loss : 1.0087213516235352\n"
     ]
    },
    {
     "name": "stderr",
     "output_type": "stream",
     "text": [
      "100%|██████████| 300/300 [00:35<00:00,  8.40it/s]\n"
     ]
    },
    {
     "name": "stdout",
     "output_type": "stream",
     "text": [
      "spent time for epoch 156 is 35.73477244377136s\n",
      "epoch # : 156 gamma : 0.0012755102040816326 gen loss : 1.0359594821929932\n"
     ]
    },
    {
     "name": "stderr",
     "output_type": "stream",
     "text": [
      "100%|██████████| 300/300 [00:35<00:00,  8.37it/s]\n"
     ]
    },
    {
     "name": "stdout",
     "output_type": "stream",
     "text": [
      "spent time for epoch 157 is 35.84246516227722s\n",
      "epoch # : 157 gamma : 0.0012755102040816326 gen loss : 0.9589425325393677\n"
     ]
    },
    {
     "name": "stderr",
     "output_type": "stream",
     "text": [
      "100%|██████████| 300/300 [00:36<00:00,  8.22it/s]\n"
     ]
    },
    {
     "name": "stdout",
     "output_type": "stream",
     "text": [
      "spent time for epoch 158 is 36.50440454483032s\n",
      "epoch # : 158 gamma : 0.0012755102040816326 gen loss : 0.9555374979972839\n"
     ]
    },
    {
     "name": "stderr",
     "output_type": "stream",
     "text": [
      "100%|██████████| 300/300 [00:35<00:00,  8.36it/s]\n"
     ]
    },
    {
     "name": "stdout",
     "output_type": "stream",
     "text": [
      "spent time for epoch 159 is 35.89968800544739s\n",
      "epoch # : 159 gamma : 0.0012755102040816326 gen loss : 0.980819046497345\n"
     ]
    },
    {
     "name": "stderr",
     "output_type": "stream",
     "text": [
      "100%|██████████| 300/300 [00:35<00:00,  8.37it/s]\n"
     ]
    },
    {
     "name": "stdout",
     "output_type": "stream",
     "text": [
      "spent time for epoch 160 is 35.84625291824341s\n",
      "epoch # : 160 gamma : 0.0012755102040816326 gen loss : 1.0582985877990723\n"
     ]
    },
    {
     "name": "stderr",
     "output_type": "stream",
     "text": [
      "100%|██████████| 300/300 [00:35<00:00,  8.39it/s]\n"
     ]
    },
    {
     "name": "stdout",
     "output_type": "stream",
     "text": [
      "spent time for epoch 161 is 35.75289535522461s\n",
      "epoch # : 161 gamma : 0.0012755102040816326 gen loss : 1.0467056035995483\n"
     ]
    },
    {
     "name": "stderr",
     "output_type": "stream",
     "text": [
      "100%|██████████| 300/300 [00:37<00:00,  8.00it/s]\n"
     ]
    },
    {
     "name": "stdout",
     "output_type": "stream",
     "text": [
      "spent time for epoch 162 is 37.49156451225281s\n",
      "epoch # : 162 gamma : 0.0012755102040816326 gen loss : 1.0088804960250854\n"
     ]
    },
    {
     "name": "stderr",
     "output_type": "stream",
     "text": [
      "100%|██████████| 300/300 [00:36<00:00,  8.12it/s]\n"
     ]
    },
    {
     "name": "stdout",
     "output_type": "stream",
     "text": [
      "spent time for epoch 163 is 36.96086645126343s\n",
      "epoch # : 163 gamma : 0.0012755102040816326 gen loss : 1.0358418226242065\n"
     ]
    },
    {
     "name": "stderr",
     "output_type": "stream",
     "text": [
      "100%|██████████| 300/300 [00:35<00:00,  8.42it/s]\n"
     ]
    },
    {
     "name": "stdout",
     "output_type": "stream",
     "text": [
      "spent time for epoch 164 is 35.624186515808105s\n",
      "epoch # : 164 gamma : 0.0012755102040816326 gen loss : 0.9990900158882141\n"
     ]
    },
    {
     "name": "stderr",
     "output_type": "stream",
     "text": [
      "100%|██████████| 300/300 [00:35<00:00,  8.43it/s]\n"
     ]
    },
    {
     "name": "stdout",
     "output_type": "stream",
     "text": [
      "spent time for epoch 165 is 35.60416293144226s\n",
      "epoch # : 165 gamma : 0.0012755102040816326 gen loss : 1.0099165439605713\n"
     ]
    },
    {
     "name": "stderr",
     "output_type": "stream",
     "text": [
      "100%|██████████| 300/300 [00:36<00:00,  8.33it/s]\n"
     ]
    },
    {
     "name": "stdout",
     "output_type": "stream",
     "text": [
      "spent time for epoch 166 is 36.02341079711914s\n",
      "epoch # : 166 gamma : 0.0012755102040816326 gen loss : 1.0103899240493774\n"
     ]
    },
    {
     "name": "stderr",
     "output_type": "stream",
     "text": [
      "100%|██████████| 300/300 [00:38<00:00,  7.83it/s]\n"
     ]
    },
    {
     "name": "stdout",
     "output_type": "stream",
     "text": [
      "spent time for epoch 167 is 38.33254837989807s\n",
      "epoch # : 167 gamma : 0.0012755102040816326 gen loss : 0.9980708360671997\n"
     ]
    },
    {
     "name": "stderr",
     "output_type": "stream",
     "text": [
      "100%|██████████| 300/300 [00:36<00:00,  8.18it/s]\n"
     ]
    },
    {
     "name": "stdout",
     "output_type": "stream",
     "text": [
      "spent time for epoch 168 is 36.701194524765015s\n",
      "epoch # : 168 gamma : 0.0012755102040816326 gen loss : 0.9490188360214233\n"
     ]
    },
    {
     "name": "stderr",
     "output_type": "stream",
     "text": [
      "100%|██████████| 300/300 [00:35<00:00,  8.37it/s]\n"
     ]
    },
    {
     "name": "stdout",
     "output_type": "stream",
     "text": [
      "spent time for epoch 169 is 35.87091112136841s\n",
      "epoch # : 169 gamma : 0.0012755102040816326 gen loss : 1.0791845321655273\n"
     ]
    },
    {
     "name": "stderr",
     "output_type": "stream",
     "text": [
      "100%|██████████| 300/300 [00:36<00:00,  8.33it/s]\n"
     ]
    },
    {
     "name": "stdout",
     "output_type": "stream",
     "text": [
      "spent time for epoch 170 is 36.01309299468994s\n",
      "epoch # : 170 gamma : 0.0012755102040816326 gen loss : 0.9935970902442932\n"
     ]
    },
    {
     "name": "stderr",
     "output_type": "stream",
     "text": [
      "100%|██████████| 300/300 [00:35<00:00,  8.34it/s]\n"
     ]
    },
    {
     "name": "stdout",
     "output_type": "stream",
     "text": [
      "spent time for epoch 171 is 35.95887756347656s\n",
      "epoch # : 171 gamma : 0.0012755102040816326 gen loss : 1.065005898475647\n"
     ]
    },
    {
     "name": "stderr",
     "output_type": "stream",
     "text": [
      "100%|██████████| 300/300 [00:35<00:00,  8.39it/s]\n"
     ]
    },
    {
     "name": "stdout",
     "output_type": "stream",
     "text": [
      "spent time for epoch 172 is 35.756104707717896s\n",
      "epoch # : 172 gamma : 0.0012755102040816326 gen loss : 0.946612536907196\n"
     ]
    },
    {
     "name": "stderr",
     "output_type": "stream",
     "text": [
      "100%|██████████| 300/300 [00:35<00:00,  8.34it/s]\n"
     ]
    },
    {
     "name": "stdout",
     "output_type": "stream",
     "text": [
      "spent time for epoch 173 is 35.96619892120361s\n",
      "epoch # : 173 gamma : 0.0012755102040816326 gen loss : 1.0323100090026855\n"
     ]
    },
    {
     "name": "stderr",
     "output_type": "stream",
     "text": [
      "100%|██████████| 300/300 [00:36<00:00,  8.31it/s]\n"
     ]
    },
    {
     "name": "stdout",
     "output_type": "stream",
     "text": [
      "spent time for epoch 174 is 36.10773468017578s\n",
      "epoch # : 174 gamma : 0.0012755102040816326 gen loss : 1.0025646686553955\n"
     ]
    },
    {
     "name": "stderr",
     "output_type": "stream",
     "text": [
      "100%|██████████| 300/300 [00:35<00:00,  8.42it/s]\n"
     ]
    },
    {
     "name": "stdout",
     "output_type": "stream",
     "text": [
      "spent time for epoch 175 is 35.639692544937134s\n",
      "epoch # : 175 gamma : 0.0012755102040816326 gen loss : 1.0906323194503784\n"
     ]
    },
    {
     "name": "stderr",
     "output_type": "stream",
     "text": [
      "100%|██████████| 300/300 [00:35<00:00,  8.45it/s]\n"
     ]
    },
    {
     "name": "stdout",
     "output_type": "stream",
     "text": [
      "spent time for epoch 176 is 35.506274938583374s\n",
      "epoch # : 176 gamma : 0.0012755102040816326 gen loss : 0.9922000169754028\n"
     ]
    },
    {
     "name": "stderr",
     "output_type": "stream",
     "text": [
      "100%|██████████| 300/300 [00:35<00:00,  8.46it/s]\n"
     ]
    },
    {
     "name": "stdout",
     "output_type": "stream",
     "text": [
      "spent time for epoch 177 is 35.482566833496094s\n",
      "epoch # : 177 gamma : 0.0012755102040816326 gen loss : 1.018036127090454\n"
     ]
    },
    {
     "name": "stderr",
     "output_type": "stream",
     "text": [
      "100%|██████████| 300/300 [00:35<00:00,  8.46it/s]\n"
     ]
    },
    {
     "name": "stdout",
     "output_type": "stream",
     "text": [
      "spent time for epoch 178 is 35.469165563583374s\n",
      "epoch # : 178 gamma : 0.0012755102040816326 gen loss : 0.9736529588699341\n"
     ]
    },
    {
     "name": "stderr",
     "output_type": "stream",
     "text": [
      "100%|██████████| 300/300 [00:35<00:00,  8.42it/s]\n"
     ]
    },
    {
     "name": "stdout",
     "output_type": "stream",
     "text": [
      "spent time for epoch 179 is 35.62414050102234s\n",
      "epoch # : 179 gamma : 0.0012755102040816326 gen loss : 1.095999002456665\n"
     ]
    },
    {
     "name": "stderr",
     "output_type": "stream",
     "text": [
      "100%|██████████| 300/300 [00:35<00:00,  8.35it/s]\n"
     ]
    },
    {
     "name": "stdout",
     "output_type": "stream",
     "text": [
      "spent time for epoch 180 is 35.93932580947876s\n",
      "epoch # : 180 gamma : 0.0012755102040816326 gen loss : 1.0285913944244385\n"
     ]
    },
    {
     "name": "stderr",
     "output_type": "stream",
     "text": [
      "100%|██████████| 300/300 [00:35<00:00,  8.36it/s]\n"
     ]
    },
    {
     "name": "stdout",
     "output_type": "stream",
     "text": [
      "spent time for epoch 181 is 35.90184235572815s\n",
      "epoch # : 181 gamma : 0.0012755102040816326 gen loss : 0.9604101181030273\n"
     ]
    },
    {
     "name": "stderr",
     "output_type": "stream",
     "text": [
      "100%|██████████| 300/300 [00:35<00:00,  8.43it/s]\n"
     ]
    },
    {
     "name": "stdout",
     "output_type": "stream",
     "text": [
      "spent time for epoch 182 is 35.600486516952515s\n",
      "epoch # : 182 gamma : 0.0012755102040816326 gen loss : 1.012680172920227\n"
     ]
    },
    {
     "name": "stderr",
     "output_type": "stream",
     "text": [
      "100%|██████████| 300/300 [00:35<00:00,  8.44it/s]\n"
     ]
    },
    {
     "name": "stdout",
     "output_type": "stream",
     "text": [
      "spent time for epoch 183 is 35.569186210632324s\n",
      "epoch # : 183 gamma : 0.0012755102040816326 gen loss : 1.029647707939148\n"
     ]
    },
    {
     "name": "stderr",
     "output_type": "stream",
     "text": [
      "100%|██████████| 300/300 [00:35<00:00,  8.41it/s]\n"
     ]
    },
    {
     "name": "stdout",
     "output_type": "stream",
     "text": [
      "spent time for epoch 184 is 35.66061472892761s\n",
      "epoch # : 184 gamma : 0.0012755102040816326 gen loss : 1.0519882440567017\n"
     ]
    },
    {
     "name": "stderr",
     "output_type": "stream",
     "text": [
      "100%|██████████| 300/300 [00:36<00:00,  8.22it/s]\n"
     ]
    },
    {
     "name": "stdout",
     "output_type": "stream",
     "text": [
      "spent time for epoch 185 is 36.4903461933136s\n",
      "epoch # : 185 gamma : 0.0012755102040816326 gen loss : 1.025870442390442\n"
     ]
    },
    {
     "name": "stderr",
     "output_type": "stream",
     "text": [
      "100%|██████████| 300/300 [00:35<00:00,  8.34it/s]\n"
     ]
    },
    {
     "name": "stdout",
     "output_type": "stream",
     "text": [
      "spent time for epoch 186 is 35.95840644836426s\n",
      "epoch # : 186 gamma : 0.0012755102040816326 gen loss : 1.0177788734436035\n"
     ]
    },
    {
     "name": "stderr",
     "output_type": "stream",
     "text": [
      "100%|██████████| 300/300 [00:35<00:00,  8.39it/s]\n"
     ]
    },
    {
     "name": "stdout",
     "output_type": "stream",
     "text": [
      "spent time for epoch 187 is 35.77393913269043s\n",
      "epoch # : 187 gamma : 0.0012755102040816326 gen loss : 1.0315545797348022\n"
     ]
    },
    {
     "name": "stderr",
     "output_type": "stream",
     "text": [
      "100%|██████████| 300/300 [00:35<00:00,  8.38it/s]\n"
     ]
    },
    {
     "name": "stdout",
     "output_type": "stream",
     "text": [
      "spent time for epoch 188 is 35.7974808216095s\n",
      "epoch # : 188 gamma : 0.0012755102040816326 gen loss : 1.037703037261963\n"
     ]
    },
    {
     "name": "stderr",
     "output_type": "stream",
     "text": [
      "100%|██████████| 300/300 [00:35<00:00,  8.36it/s]\n"
     ]
    },
    {
     "name": "stdout",
     "output_type": "stream",
     "text": [
      "spent time for epoch 189 is 35.884973764419556s\n",
      "epoch # : 189 gamma : 0.0012755102040816326 gen loss : 0.9562947750091553\n"
     ]
    },
    {
     "name": "stderr",
     "output_type": "stream",
     "text": [
      "100%|██████████| 300/300 [00:36<00:00,  8.33it/s]\n"
     ]
    },
    {
     "name": "stdout",
     "output_type": "stream",
     "text": [
      "spent time for epoch 190 is 36.03199601173401s\n",
      "epoch # : 190 gamma : 0.0012755102040816326 gen loss : 1.11543607711792\n"
     ]
    },
    {
     "name": "stderr",
     "output_type": "stream",
     "text": [
      "100%|██████████| 300/300 [00:35<00:00,  8.33it/s]\n"
     ]
    },
    {
     "name": "stdout",
     "output_type": "stream",
     "text": [
      "spent time for epoch 191 is 36.00650429725647s\n",
      "epoch # : 191 gamma : 0.0012755102040816326 gen loss : 1.0524945259094238\n"
     ]
    },
    {
     "name": "stderr",
     "output_type": "stream",
     "text": [
      "100%|██████████| 300/300 [00:35<00:00,  8.34it/s]\n"
     ]
    },
    {
     "name": "stdout",
     "output_type": "stream",
     "text": [
      "spent time for epoch 192 is 35.958332777023315s\n",
      "epoch # : 192 gamma : 0.0012755102040816326 gen loss : 1.125319242477417\n"
     ]
    },
    {
     "name": "stderr",
     "output_type": "stream",
     "text": [
      "100%|██████████| 300/300 [00:35<00:00,  8.40it/s]\n"
     ]
    },
    {
     "name": "stdout",
     "output_type": "stream",
     "text": [
      "spent time for epoch 193 is 35.72685265541077s\n",
      "epoch # : 193 gamma : 0.0012755102040816326 gen loss : 0.9661681652069092\n"
     ]
    },
    {
     "name": "stderr",
     "output_type": "stream",
     "text": [
      "100%|██████████| 300/300 [00:36<00:00,  8.32it/s]\n"
     ]
    },
    {
     "name": "stdout",
     "output_type": "stream",
     "text": [
      "spent time for epoch 194 is 36.05165505409241s\n",
      "epoch # : 194 gamma : 0.0012755102040816326 gen loss : 1.0208768844604492\n"
     ]
    },
    {
     "name": "stderr",
     "output_type": "stream",
     "text": [
      "100%|██████████| 300/300 [00:36<00:00,  8.33it/s]\n"
     ]
    },
    {
     "name": "stdout",
     "output_type": "stream",
     "text": [
      "spent time for epoch 195 is 36.01898503303528s\n",
      "epoch # : 195 gamma : 0.0012755102040816326 gen loss : 0.9997787475585938\n"
     ]
    },
    {
     "name": "stderr",
     "output_type": "stream",
     "text": [
      "100%|██████████| 300/300 [00:35<00:00,  8.44it/s]\n"
     ]
    },
    {
     "name": "stdout",
     "output_type": "stream",
     "text": [
      "spent time for epoch 196 is 35.545918703079224s\n",
      "epoch # : 196 gamma : 0.0012755102040816326 gen loss : 1.0671836137771606\n"
     ]
    },
    {
     "name": "stderr",
     "output_type": "stream",
     "text": [
      "100%|██████████| 300/300 [00:35<00:00,  8.39it/s]\n"
     ]
    },
    {
     "name": "stdout",
     "output_type": "stream",
     "text": [
      "spent time for epoch 197 is 35.7817280292511s\n",
      "epoch # : 197 gamma : 0.0012755102040816326 gen loss : 1.0567684173583984\n"
     ]
    },
    {
     "name": "stderr",
     "output_type": "stream",
     "text": [
      "100%|██████████| 300/300 [00:35<00:00,  8.44it/s]\n"
     ]
    },
    {
     "name": "stdout",
     "output_type": "stream",
     "text": [
      "spent time for epoch 198 is 35.566882610321045s\n",
      "epoch # : 198 gamma : 0.0012755102040816326 gen loss : 0.992700457572937\n"
     ]
    },
    {
     "name": "stderr",
     "output_type": "stream",
     "text": [
      "100%|██████████| 300/300 [00:35<00:00,  8.39it/s]\n"
     ]
    },
    {
     "name": "stdout",
     "output_type": "stream",
     "text": [
      "spent time for epoch 199 is 35.7544150352478s\n",
      "epoch # : 199 gamma : 0.0012755102040816326 gen loss : 1.0917267799377441\n"
     ]
    }
   ],
   "source": [
    "gan_mnist = Online_Kernel_GAN(kernel='poly', lr=0.0002, gamma=1/784, gamma_ratio=1.0, budget=30000, g_steps=1, num_epochs=200, batch_size=200, img_size=img_size, data=data_mnist, data_type='mnist', model_type='VGAN')\n",
    "gan_mnist.train_GAN()"
   ]
  },
  {
   "cell_type": "code",
   "execution_count": null,
   "metadata": {},
   "outputs": [],
   "source": []
  }
 ],
 "metadata": {
  "kernelspec": {
   "display_name": "py37_pytorch",
   "language": "python",
   "name": "conda-env-py37_pytorch-py"
  },
  "language_info": {
   "codemirror_mode": {
    "name": "ipython",
    "version": 3
   },
   "file_extension": ".py",
   "mimetype": "text/x-python",
   "name": "python",
   "nbconvert_exporter": "python",
   "pygments_lexer": "ipython3",
   "version": "3.7.6"
  }
 },
 "nbformat": 4,
 "nbformat_minor": 4
}
